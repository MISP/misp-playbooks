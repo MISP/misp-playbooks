{
 "cells": [
  {
   "cell_type": "markdown",
   "id": "ca1fbfb5",
   "metadata": {
    "tags": [
     "playbook-introduction"
    ]
   },
   "source": [
    "# Geolocate IP addresses and calculate distance\n",
    "\n",
    "## Introduction\n",
    "\n",
    "- UUID: **81ba2210-5052-49f4-9d6a-41d42d28ca45**\n",
    "- Started from [issue 20](https://github.com/MISP/misp-playbooks/issues/20)\n",
    "- State: **Published**\n",
    "- Purpose: This playbook gets the IP addresess in a MISP event (ip-src and ip-dst). It then queries for the geolocation of these addresses via MMDB, puts them on a map and calculates the distance between coordinates with the help of Geopy. The map is attached as a screenshot to the MISP event, the findings are added as a MISP report, stored in the playbook and sent to Mattermost.\n",
    "- Tags: [ \"geolocation\", \"fingerprint\", \"geoint\", \"mmdb\", \"infrastructure\"]\n",
    "- External resources: **Mattermost**, **MMDB**, **OpenStreetMap**\n",
    "- Target audience: **CTI**, **SOC**, **CSIRT**\n",
    "\n",
    "[![](https://mermaid.ink/img/pako:eNptU01v2zAM_SuCgFyCGLv7sF16CdACxbJbFLSyxcRC9WFIdIsg8H8fJStyu84XmeQj3xNJ3XjvFfCWN00jHGo00LKn_eGZjUZeO-_fhMuhzeamncaW3QQ_G__RDzKg4Nke0JpH2YGJyXGWJsI8s3mzEa5C2eNv4Rh98A4O4zFxnBZPnLpLkOPAJGLQ3YTwEkGGfmCfUWsQryMcBU8H02MTQ_-DDhVJzikhC75H7Z3sDJBC9C9axV-Cz0WEUytyUcSahh0W2qb5udLFr2ZmX1yVQLh_KVOxP2FagNop3Uv0IZLq_TOTSgWIEahbp3vqiskpH4PXy5-1qltcPhhl5VhEV7_SEaXrq4jaTe3eIaK-SAR23K9G6WemWGsVZyFZrLV06dmdo2pJAnL7Aoye9uFL2v-j69W-hT45qFN5C0uYF9HfcLlQnKyV4br0iyYFwfqI93bkGNV7fdAxLXWFa1eX_LUyrPkp5UBEzHnU5zQdGi5Dz7bbpwrablMq33FLttSKXtItFaKVG8BCeg-CKzjLydAthJsJKif0h6vreYu0Ijse_HQZeJvfzY5Po6IhPWhJU7TFO_8Fw7469g?type=png)](https://mermaid.live/edit#pako:eNptU01v2zAM_SuCgFyCGLv7sF16CdACxbJbFLSyxcRC9WFIdIsg8H8fJStyu84XmeQj3xNJ3XjvFfCWN00jHGo00LKn_eGZjUZeO-_fhMuhzeamncaW3QQ_G__RDzKg4Nke0JpH2YGJyXGWJsI8s3mzEa5C2eNv4Rh98A4O4zFxnBZPnLpLkOPAJGLQ3YTwEkGGfmCfUWsQryMcBU8H02MTQ_-DDhVJzikhC75H7Z3sDJBC9C9axV-Cz0WEUytyUcSahh0W2qb5udLFr2ZmX1yVQLh_KVOxP2FagNop3Uv0IZLq_TOTSgWIEahbp3vqiskpH4PXy5-1qltcPhhl5VhEV7_SEaXrq4jaTe3eIaK-SAR23K9G6WemWGsVZyFZrLV06dmdo2pJAnL7Aoye9uFL2v-j69W-hT45qFN5C0uYF9HfcLlQnKyV4br0iyYFwfqI93bkGNV7fdAxLXWFa1eX_LUyrPkp5UBEzHnU5zQdGi5Dz7bbpwrablMq33FLttSKXtItFaKVG8BCeg-CKzjLydAthJsJKif0h6vreYu0Ijse_HQZeJvfzY5Po6IhPWhJU7TFO_8Fw7469g)"
   ]
  },
  {
   "cell_type": "raw",
   "id": "d5aa1137-6000-4553-a65d-841b149ae521",
   "metadata": {
    "tags": []
   },
   "source": [
    "---\n",
    "title: MISP playbook\n",
    "---\n",
    "%%{init: {\"flowchart\": {\"htmlLabels\": false}} }%%\n",
    "flowchart LR\n",
    "    events[MISP]\n",
    "    subgraph attribute_search [MISP]\n",
    "    attribute_type[\"type ip-src/ip-dst\"]    \n",
    "    actionable{\"to_ids?\"}\n",
    "    end    \n",
    "    events -- Search --> attributes --> attribute_type --> actionable\n",
    "\n",
    "    actionable -- True --> indicators[\"IP addresses\"]\n",
    "\n",
    "    indicators --> whois --> mmdb --> worldmap \n",
    "    mmdb --> distance\n",
    "\n",
    "    subgraph investigate [Investigate]\n",
    "    whois\n",
    "    mmdb\n",
    "    worldmap\n",
    "    distance\n",
    "    end\n",
    "\n",
    "    worldmap --> eventreport\n",
    "    distance --> eventreport\n",
    "    whois --> eventreport\n",
    "    eventreport[\"MISP report\"]\n",
    "    \n",
    "    eventreport --> summary --> mattermost\n",
    "    summary[\"`Display summary in playbook`\"]\n",
    "    mattermost[\"`Sent notification to **Mattermost**`\"]"
   ]
  },
  {
   "cell_type": "markdown",
   "id": "a512a2c1",
   "metadata": {
    "jp-MarkdownHeadingCollapsed": true,
    "tags": []
   },
   "source": [
    "# Playbook\n",
    "\n",
    "- **Geolocate IP addresses and calculate distance**\n",
    "    - Introduction\n",
    "- **Preparation**\n",
    "    - PR:1 Initialise environment\n",
    "    - PR:2 Set helper variables\n",
    "    - PR:3 Setup MISP event link\n",
    "- **Investigation**\n",
    "    - IN:1 Get network owner information from whois\n",
    "    - IN:2 Get geolocation from MMDB\n",
    "    - IN:3 Output whois and geolocation in a table\n",
    "    - IN:4 Plots the results on a world map\n",
    "    - IN:5 Calculate the distance between source and destination IP\n",
    "    - IN:6 Create MISP report\n",
    "- **Closure**\n",
    "    - EN:1 Create the summary of the playbook \n",
    "    - EN:2 Print the summary\n",
    "    - EN:3 Send a summary to Mattermost\n",
    "    - EN:4 End of the playbook \n",
    "- External references\n",
    "- Technical details"
   ]
  },
  {
   "cell_type": "markdown",
   "id": "8dc24913",
   "metadata": {
    "tags": []
   },
   "source": [
    "# Preparation\n",
    "\n",
    "## PR:1 Initialise environment\n",
    "\n",
    "This section **initialises the playbook environment** and loads the required Python libraries. \n",
    "\n",
    "The credentials for MISP (**API key**) and other services are loaded from the file `keys.py` in the directory **vault**. A [PyMISP](https://github.com/MISP/PyMISP) object is created to interact with MISP and the active MISP server is displayed. By printing out the server name you know that it's possible to connect to MISP. In case of a problem PyMISP will indicate the error with `PyMISPError: Unable to connect to MISP`.\n",
    "\n",
    "The contents of the `keys.py` file should contain at least :\n",
    "\n",
    "```\n",
    "misp_url=\"<MISP URL>\"                  # The URL to our MISP server\n",
    "misp_key=\"<MISP API KEY>\"              # The MISP API key\n",
    "misp_verifycert=<True or False>        # Ignore certificate errors\n",
    "mattermost_playbook_user=\"<MATTERMOST USER>\"\n",
    "mattermost_hook=\"<MATTERMOST WEBHOOK>\"\n",
    "```"
   ]
  },
  {
   "cell_type": "code",
   "execution_count": null,
   "id": "5f94c336",
   "metadata": {
    "tags": []
   },
   "outputs": [],
   "source": [
    "# Initialise Python environment\n",
    "import urllib3\n",
    "import sys\n",
    "import json\n",
    "from pyfaup.faup import Faup\n",
    "from prettytable import PrettyTable, MARKDOWN\n",
    "from IPython.display import Image, display, display_markdown, HTML\n",
    "from datetime import date\n",
    "import requests\n",
    "import uuid\n",
    "from uuid import uuid4\n",
    "from pymisp import *\n",
    "from pymisp.tools import GenericObjectGenerator\n",
    "\n",
    "import re\n",
    "import time\n",
    "from datetime import datetime\n",
    "\n",
    "from geopy.distance import geodesic\n",
    "from ipwhois import IPWhois\n",
    "import geopandas as gpd\n",
    "import matplotlib.pyplot as plt\n",
    "from io import BytesIO\n",
    "import base64\n",
    "\n",
    "# Load the credentials\n",
    "sys.path.insert(0, \"../vault/\")\n",
    "from keys import *\n",
    "if misp_verifycert is False:\n",
    "    import urllib3\n",
    "    urllib3.disable_warnings(urllib3.exceptions.InsecureRequestWarning)\n",
    "print(\"The \\033[92mPython libraries\\033[90m are loaded and the \\033[92mcredentials\\033[90m are read from the keys file.\")\n",
    "\n",
    "# Create the PyMISP object\n",
    "misp = PyMISP(misp_url, misp_key, misp_verifycert)\n",
    "misp_headers = {\"Authorization\": misp_key,  \"Content-Type\": \"application/json\", \"Accept\": \"application/json\"}\n",
    "print(\"I will use the MISP server \\033[92m{}\\033[90m for this playbook.\".format(misp_url))"
   ]
  },
  {
   "cell_type": "markdown",
   "id": "36d28445-dfa1-47ae-942e-16adb2111cc0",
   "metadata": {},
   "source": [
    "## PR:2 Set helper variables\n",
    "\n",
    "This cell contains **helper variables** that are used in this playbook. Their usage is explained in the next steps of the playbook.\n",
    "\n",
    "- `playbook_config` : the configuration of the playbook\n",
    "- `playbook_results` : the results of the playbook"
   ]
  },
  {
   "cell_type": "code",
   "execution_count": null,
   "id": "aa5409f6-d042-410f-9dc7-51500aae61c3",
   "metadata": {
    "tags": []
   },
   "outputs": [],
   "source": [
    "playbook_config = {\"map_title\": \"Geolocation of IP addresses\",\n",
    "                   \"mapcolour\": \"lightgray\",\n",
    "                   \"mapedgecolour\": \"darkgray\",\n",
    "                   \"pointcoloursrc\": \"red\",\n",
    "                   \"pointcolourdst\": \"blue\",\n",
    "                   \"pointsize\": 6,                   \n",
    "                   \"textcoloursrc\": \"red\",\n",
    "                   \"textcolourdst\": \"blue\", #\"#333333\", #\"#0000CC\",                   \n",
    "                   \"textsize\": 8,\n",
    "                   \"network_attributes\": [\"ip-src\", \"ip-dst\"],\n",
    "                   \"published\": True,\n",
    "                   \"to_ids\": True,\n",
    "                   \"mmdb_url\": \"https://ip.circl.lu/geolookup/\",\n",
    "                    }\n",
    "\n",
    "playbook_results = {\"eventtitle\": False,\n",
    "                    \"eventid\" : False,\n",
    "                    \"source\": [],\n",
    "                    \"destination\": [],\n",
    "                    \"geolocation\": {},\n",
    "                    \"whois\": {},\n",
    "                    \"distance\": \"\"\n",
    "                    }"
   ]
  },
  {
   "cell_type": "markdown",
   "id": "3b5ef5e8-af1a-487b-a613-31c202db006a",
   "metadata": {},
   "source": [
    "## PR:3 Setup MISP event link\n",
    "\n",
    "Provide an **MISP event ID** or **MISP event UUID** via the variable `event_input`. The playbook will then load all IP (ip-src, ip-dst) attributes."
   ]
  },
  {
   "cell_type": "code",
   "execution_count": null,
   "id": "a7cec047-f024-4cc2-860e-4c4a6b172e73",
   "metadata": {
    "tags": []
   },
   "outputs": [],
   "source": [
    "# MISP event ID or event UUID\n",
    "event_input = \"\""
   ]
  },
  {
   "cell_type": "code",
   "execution_count": null,
   "id": "d305d33c-a76b-407e-88c5-6337c9d4488f",
   "metadata": {
    "tags": []
   },
   "outputs": [],
   "source": [
    "print(\"Search for  MISP event \\033[92m{}\\033[90m\".format(event_input))\n",
    "\n",
    "result = misp.search(\"events\", eventid=event_input, published=playbook_config[\"published\"], pythonify=True)\n",
    "if len(result) == 1:\n",
    "    misp_event = result[0]\n",
    "    print(\" Found event \\033[92m{}\\033[90m\".format(misp_event.info))\n",
    "    playbook_results[\"eventtitle\"] = misp_event.info\n",
    "    playbook_results[\"eventid\"] = misp_event.id\n",
    "    print(\" Check for IP addresses\")\n",
    "    attributes = misp.search(\"attributes\", eventid=event_input, type_attribute=playbook_config[\"network_attributes\"], to_ids=playbook_config[\"to_ids\"], pythonify=True)\n",
    "    if len(attributes) > 0:\n",
    "        print(\"  Found \\033[92m{}\\033[90m attributes\".format(len(attributes)))\n",
    "        for attribute in attributes:\n",
    "            print(\"   {}\".format(attribute.value))\n",
    "            #playbook_results[\"attributes\"].append(attribute.value)\n",
    "            if attribute.type == \"ip-src\":\n",
    "                playbook_results[\"source\"].append(attribute.value)\n",
    "            elif attribute.type == \"ip-dst\":\n",
    "                playbook_results[\"destination\"].append(attribute.value)\n",
    "    print(\"Finished searching\")\n",
    "else:\n",
    "    print(\"\\033[91mUnable to get MISP event\\033[90m\")"
   ]
  },
  {
   "cell_type": "markdown",
   "id": "01768691-9ea4-43c2-9df9-25c0386e2dde",
   "metadata": {},
   "source": [
    "# Investigate\n",
    "\n",
    "## IN:1 Get network owner information from whois\n",
    "\n",
    "The first investigation step in this playbook is to query the Whois database and obtain the **network description**, **ASN** number and the network block the IP address belongs to."
   ]
  },
  {
   "cell_type": "code",
   "execution_count": null,
   "id": "1208f641-2abf-4a37-a66b-6f6652e5a7d8",
   "metadata": {},
   "outputs": [],
   "source": [
    "def get_whois(value):\n",
    "    try:\n",
    "        obj = IPWhois(value)\n",
    "        results = obj.lookup_rdap()\n",
    "        asn = results[\"asn\"]\n",
    "        asn_description = results[\"asn_description\"]\n",
    "        asn_cidr = results[\"asn_cidr\"]\n",
    "        print(\" Found asn: {} description: {} cidr {}\".format(asn, asn_description, asn_cidr))\n",
    "        return {\"asn\": asn, \"asn_description\": asn_description, \"asn_cidr\": asn_cidr}\n",
    "    except:\n",
    "        return {\"asn\": 0, \"asn_description\": \"\", \"asn_cidr\": \"\"}\n",
    "\n",
    "print(\"Search whois\")\n",
    "for value in playbook_results[\"source\"]:\n",
    "    print(\"Query (source) \\033[92m{}\\033[90m\".format(value))\n",
    "    playbook_results[\"whois\"][value] = get_whois(value)\n",
    "for value in playbook_results[\"destination\"]:\n",
    "    print(\"Query (destination) \\033[92m{}\\033[90m\".format(value))\n",
    "    playbook_results[\"whois\"][value] = get_whois(value)  \n",
    "print(\"Finished whois\")"
   ]
  },
  {
   "cell_type": "markdown",
   "id": "86d261eb-df81-4b77-92cd-51ba95fac8a0",
   "metadata": {},
   "source": [
    "## IN:2 Get geolocation from MMDB\n",
    "\n",
    "After getting the whois data, the playbook uses an MMDB service to identify the **geolocation**, with latitude and longitude. In this playbook it uses [ip.circl.lu](https://ip.circl.lu/geolookup/) as MMDB server."
   ]
  },
  {
   "cell_type": "code",
   "execution_count": null,
   "id": "382ccfd3-d0a5-4051-9922-fbfaa99b91b7",
   "metadata": {
    "tags": []
   },
   "outputs": [],
   "source": [
    "def get_mmdb(value):\n",
    "    headers = {}\n",
    "    response = requests.request(\"GET\", \"{}{}\".format(playbook_config[\"mmdb_url\"], value), headers={})\n",
    "    if response.status_code == 200:\n",
    "        result_json = response.json()[0]\n",
    "        iso_code = result_json.get(\"country\", False).get(\"iso_code\", False)\n",
    "        lat = result_json.get(\"country_info\", False).get(\"Latitude (average)\", False)\n",
    "        long = result_json.get(\"country_info\", False).get(\"Longitude (average)\", False)\n",
    "        direction = \"dst\"\n",
    "        if value in playbook_results[\"source\"]:\n",
    "            direction = \"src\"\n",
    "        print(\" Found lat: {} long: {} ISO {}\".format(lat, long, iso_code))\n",
    "        return {\"lat\": lat, \"long\": long, \"iso_code\": iso_code, \"direction\": direction}\n",
    "    else:\n",
    "        return {}\n",
    "    \n",
    "print(\"Search MMDB\")\n",
    "for value in playbook_results[\"source\"]:\n",
    "    print(\"Query (source) \\033[92m{}\\033[90m\".format(value))\n",
    "    playbook_results[\"geolocation\"][value] = get_mmdb(value)\n",
    "for value in playbook_results[\"destination\"]:\n",
    "    print(\"Query (destination) \\033[92m{}\\033[90m\".format(value))\n",
    "    playbook_results[\"geolocation\"][value] = get_mmdb(value)    \n",
    "print(\"Finished MMDB\")"
   ]
  },
  {
   "cell_type": "markdown",
   "id": "5f5fe460-546a-407b-85a6-33077c011008",
   "metadata": {},
   "source": [
    "## IN:3 Output whois and geolocation in a table\n",
    "\n",
    "Before we go to the next step, the playbook already gives you a nice table with the obtained information. This information is also sent to Mattermost and added as a MISP **event report**."
   ]
  },
  {
   "cell_type": "code",
   "execution_count": null,
   "id": "199660cd-f733-4a4c-80a9-073725dc20f4",
   "metadata": {
    "tags": []
   },
   "outputs": [],
   "source": [
    "table = PrettyTable()\n",
    "table.field_names = [\"IP\", \"Type\", \"ASN\", \"ASN Description\", \"CIDR\", \"Country\", \"Lat\", \"Long\"]\n",
    "table.align[\"IP\"] = \"l\"\n",
    "table.align[\"Type\"] = \"l\"\n",
    "table.align[\"ASN\"] = \"l\"\n",
    "table.align[\"ASN Description\"] = \"l\"\n",
    "\n",
    "for ip in playbook_results[\"source\"]:\n",
    "    table.add_row([ip, \"source\", playbook_results[\"whois\"][ip][\"asn\"], playbook_results[\"whois\"][ip][\"asn_description\"], \n",
    "                           playbook_results[\"whois\"][ip][\"asn_cidr\"], \n",
    "                           playbook_results[\"geolocation\"][ip][\"iso_code\"],\n",
    "                           playbook_results[\"geolocation\"][ip][\"lat\"],\n",
    "                           playbook_results[\"geolocation\"][ip][\"long\"]])\n",
    "for ip in playbook_results[\"destination\"]:\n",
    "    table.add_row([ip, \"destination\", playbook_results[\"whois\"][ip][\"asn\"], playbook_results[\"whois\"][ip][\"asn_description\"], \n",
    "                           playbook_results[\"whois\"][ip][\"asn_cidr\"], \n",
    "                           playbook_results[\"geolocation\"][ip][\"iso_code\"],\n",
    "                           playbook_results[\"geolocation\"][ip][\"lat\"],\n",
    "                           playbook_results[\"geolocation\"][ip][\"long\"]])\n",
    "print(table.get_string(sortby=\"IP\"))\n",
    "table_ipdata = table"
   ]
  },
  {
   "cell_type": "markdown",
   "id": "77c1427f-bdbe-4222-808e-7fc565f23ff8",
   "metadata": {},
   "source": [
    "## IN:4 Plots the results on a world map\n",
    "\n",
    "To visualise the geolocation of the IP addresses the playbook also maps them on a world map. There's a differentiation between source IP (`ip-src`) and destination IP (`ip-dst`). The map is also attached as a screenshot to the MISP event and sent to Mattermost afterwards."
   ]
  },
  {
   "cell_type": "code",
   "execution_count": null,
   "id": "4810fd53-72c4-4850-b8e7-553d3b5d3f1d",
   "metadata": {
    "tags": []
   },
   "outputs": [],
   "source": [
    "print(\"Start creating the map\")\n",
    "world = gpd.read_file(gpd.datasets.get_path('naturalearth_lowres'))\n",
    "fig, ax = plt.subplots(figsize=(15, 10))\n",
    "world.plot(ax=ax, color=playbook_config[\"mapcolour\"], edgecolor=playbook_config[\"mapedgecolour\"])\n",
    "\n",
    "placed_labels = []\n",
    "for ip, data in playbook_results[\"geolocation\"].items():\n",
    "    lat = float(data['lat'])\n",
    "    long = float(data['long'])\n",
    "    iso_code = data['iso_code']\n",
    "    \n",
    "    if ip in playbook_results[\"source\"]:\n",
    "        plt.scatter(long, lat, color=playbook_config[\"pointcoloursrc\"], s=playbook_config[\"pointsize\"])\n",
    "        textcolour = playbook_config[\"textcoloursrc\"]        \n",
    "    else:\n",
    "        plt.scatter(long, lat, color=playbook_config[\"pointcolourdst\"], s=playbook_config[\"pointsize\"])\n",
    "        textcolour = playbook_config[\"textcolourdst\"]\n",
    "    \n",
    "    label = f\"{ip} ({iso_code})\"\n",
    "    overlap = False\n",
    "    for placed_label in placed_labels:\n",
    "        prev_long, prev_lat, prev_text = placed_label\n",
    "        if abs(long - prev_long) < 2 and abs(lat - prev_lat) < 2:\n",
    "            overlap = True\n",
    "            break\n",
    "\n",
    "    if overlap:\n",
    "        plt.text(long, lat - 10, label, fontsize=playbook_config[\"textsize\"], ha='left', va='center', color=textcolour)\n",
    "    else:\n",
    "        plt.text(long + 2, lat, label, fontsize=playbook_config[\"textsize\"], ha='left', va='center', color=textcolour)\n",
    "    \n",
    "    placed_labels.append((long, lat, label))\n",
    "\n",
    "ax.set_xticks([])\n",
    "ax.set_yticks([])\n",
    "plt.title(playbook_config[\"map_title\"])\n",
    "\n",
    "buf = BytesIO()\n",
    "plt.savefig(buf, format='png')\n",
    "buf.seek(0)\n",
    "\n",
    "# Add to MISP\n",
    "attribute = MISPAttribute()\n",
    "attribute.type = \"attachment\"\n",
    "attribute.category = \"Payload delivery\"\n",
    "attribute.value = \"{}.png\".format(uuid.uuid4())\n",
    "attribute.data = base64.b64encode(buf.read()).decode('utf-8')\n",
    "attribute.to_ids = False\n",
    "attribute.comment = playbook_config[\"map_title\"]\n",
    "attribute.disable_correlation = True\n",
    "misp.add_attribute(playbook_results[\"eventid\"], attribute)\n",
    "\n",
    "plot_as_string = buf.getvalue()\n",
    "buffer_base64 = base64.b64encode(plot_as_string).decode()\n",
    "        \n",
    "# Store it for later use\n",
    "base64_image = attribute.data\n",
    "\n",
    "plt.show()"
   ]
  },
  {
   "cell_type": "markdown",
   "id": "dd47d668-fc47-475c-84cb-023d3d7e43b5",
   "metadata": {},
   "source": [
    "## IN:5 Calculate the distance between source and destination IP\n",
    "\n",
    "The final investigation step in this playbook calculates the distance between the source (`ip-src`) and destination (`ip-dst`) IPs."
   ]
  },
  {
   "cell_type": "code",
   "execution_count": null,
   "id": "d64b309c-96c9-4fa7-9cb5-4596d0c13d73",
   "metadata": {
    "tags": []
   },
   "outputs": [],
   "source": [
    "print(\"Start calculating\")\n",
    "\n",
    "for source_ip in playbook_results[\"source\"]:\n",
    "    source_coords = (float(playbook_results[\"geolocation\"][source_ip][\"lat\"]),\n",
    "                     float(playbook_results[\"geolocation\"][source_ip][\"long\"]))\n",
    "    \n",
    "    for destination_ip in playbook_results[\"destination\"]:\n",
    "        destination_coords = (float(playbook_results[\"geolocation\"][destination_ip][\"lat\"]),\n",
    "                              float(playbook_results[\"geolocation\"][destination_ip][\"long\"]))\n",
    "        \n",
    "        distance = geodesic(source_coords, destination_coords).kilometers\n",
    "        distance_str = f\"Distance between {source_ip} and {destination_ip} is {distance:.2f} km.\"\n",
    "        playbook_results[\"distance\"] = \"{}\\n\\n{}\".format(playbook_results[\"distance\"], distance_str)\n",
    "        print(\" {}\".format(distance_str))\n",
    "print(\"Finished calculating\")"
   ]
  },
  {
   "cell_type": "markdown",
   "id": "e88e76e8-d8c0-4920-816e-814f36b158dd",
   "metadata": {},
   "source": [
    "## IN:6 Create MISP report\n",
    "\n",
    "We add our findings to the MISP event as a MISP report. The summary that we create as a MISP report is also send as the summary to Mattermost."
   ]
  },
  {
   "cell_type": "code",
   "execution_count": null,
   "id": "eb7d1ef5-3be6-4f12-815d-5729460f34ce",
   "metadata": {
    "tags": []
   },
   "outputs": [],
   "source": [
    "print(\"Creating MISP summary\")\n",
    "report_title = \"MISP Playbook summary: Geolocate IP addresses and calculate distance\"\n",
    "summary = \"# {} \\n\\n\".format(report_title)\n",
    "\n",
    "current_date = datetime.now()\n",
    "formatted_date = current_date.strftime(\"%Y-%m-%d\")\n",
    "summary += \"## Overview\\n\\n\"\n",
    "summary += \"This concerned the investigation of \\n\"\n",
    "summary += \"- Source IPs: \"\n",
    "for value in playbook_results[\"source\"]:\n",
    "    summary += \"**{}** \".format(value)\n",
    "summary += \"\\n- Destination IPs: \" \n",
    "for value in playbook_results[\"destination\"]:\n",
    "    summary += \"**{}** \".format(value)\n",
    "summary += \"\\n\"    \n",
    "summary += \"- Date: **{}**\\n\".format(formatted_date)\n",
    "summary += \"- Event: **{}** ({})\\n\".format(playbook_results[\"eventtitle\"], playbook_results[\"eventid\"])\n",
    "summary += \"\\n\\n\"\n",
    "\n",
    "summary += \"## IP details\\n\\n\"\n",
    "summary += \"### Whois and geolocation\\n\\n\"\n",
    "table_ipdata.set_style(MARKDOWN)\n",
    "summary += table_ipdata.get_string(sortby=\"IP\")\n",
    "summary += \"\\n\\n\"\n",
    "summary += \"### Distance\\n\\n\"\n",
    "summary += playbook_results[\"distance\"]\n",
    "\n",
    "summary += \"\\n\\n\"\n",
    "\n",
    "print(\"The \\033[92msummary\\033[90m of the playbook is available.\\n\")\n",
    "\n",
    "print(\"Creating MISP event reports\")\n",
    "event_title = report_title\n",
    "chunk_size = 61500\n",
    "for i in range(0, len(summary), chunk_size):\n",
    "    chunk = summary[i:i + chunk_size]\n",
    "    event_report = MISPEventReport()\n",
    "    event_title_edit = event_title\n",
    "    if i > 0:\n",
    "        event_title_edit = \"{} ({} > {})\".format(event_title, i, i + chunk_size)\n",
    "    event_report.name = event_title_edit\n",
    "    event_report.content = chunk\n",
    "    result = misp.add_event_report(playbook_results[\"eventid\"], event_report)\n",
    "    if \"EventReport\" in result:\n",
    "        print(\" Report ID: \\033[92m{}\\033[90m\".format(result.get(\"EventReport\", []).get(\"id\", 0)))\n",
    "    else:\n",
    "        print(\" Failed to create report for \\033[91m{}\\033[90m.\".format(event_title))"
   ]
  },
  {
   "cell_type": "markdown",
   "id": "70dea5ca",
   "metadata": {},
   "source": [
    "# Closure\n",
    "\n",
    "In this **closure** or end step we create a **summary** of the actions that were performed by the playbook. The summary is printed and can also be send to a chat channel. "
   ]
  },
  {
   "cell_type": "markdown",
   "id": "75b87ba6-19cc-4127-9299-480f708a61ff",
   "metadata": {},
   "source": [
    "## EN:1 Create the summary of the playbook \n",
    "\n",
    "The summary of the playbook was already created previously (when it created the MISP report). We keep this section here for consistency with other MISP playbooks."
   ]
  },
  {
   "cell_type": "markdown",
   "id": "e2093c95-efb8-45ad-974a-e158b6bea8ea",
   "metadata": {},
   "source": [
    "## EN:2 Print the summary"
   ]
  },
  {
   "cell_type": "code",
   "execution_count": null,
   "id": "179bc3ed-97bd-4dc9-8f12-29ebe2a11a19",
   "metadata": {
    "tags": []
   },
   "outputs": [],
   "source": [
    "print(summary)\n",
    "# Or print with parsed markdown\n",
    "#display_markdown(summary, raw=True)"
   ]
  },
  {
   "cell_type": "markdown",
   "id": "eba96062-deaa-4fb9-8302-7b3ef829201e",
   "metadata": {
    "tags": []
   },
   "source": [
    "## EN:3 Send a summary to Mattermost\n",
    "\n",
    "Now you can send the summary to Mattermost. You can send the summary in two ways by selecting one of the options for the variable `send_to_mattermost_option` in the next cell.\n",
    "\n",
    "- The default option where the entire summary is in the **chat**, or\n",
    "- a short intro and the summary in a **card**\n",
    "\n",
    "For this playbook we rely on a webhook in Mattermost. You can add a webhook by choosing the gear icon in Mattermost, then choose Integrations and then **Incoming Webhooks**. Set a channel for the webhook and lock the webhook to this channel with *\"Lock to this channel\"*."
   ]
  },
  {
   "cell_type": "code",
   "execution_count": null,
   "id": "8c455bc3-35cc-436d-8237-95c81b57208f",
   "metadata": {
    "tags": []
   },
   "outputs": [],
   "source": [
    "send_to_mattermost_option = \"via a chat message\"\n",
    "#send_to_mattermost_option = \"via a chat message with card\""
   ]
  },
  {
   "cell_type": "code",
   "execution_count": null,
   "id": "ca49f33e",
   "metadata": {},
   "outputs": [],
   "source": [
    "message = False\n",
    "\n",
    "data_url = f\"data:image/png;base64,{buffer_base64}\"\n",
    "attachment = [{\"fallback\": report_title , \"color\": \"#ff8000\", \"image_url\": data_url}]\n",
    "\n",
    "if send_to_mattermost_option == \"via a chat message\":\n",
    "    message = {\"username\": mattermost_playbook_user, \"text\": summary, \"attachments\": attachment}\n",
    "elif send_to_mattermost_option == \"via a chat message with card\":\n",
    "    message = {\"username\": mattermost_playbook_user, \"text\": intro, \"props\": {\"card\": summary}, \"attachments\": attachment}\n",
    "\n",
    "if message:\n",
    "    r = requests.post(mattermost_hook, data=json.dumps(message))\n",
    "    r.raise_for_status()\n",
    "if message and r.status_code == 200:\n",
    "    print(\"Summary is \\033[92msent to Mattermost.\\n\")\n",
    "else:\n",
    "    print(\"\\033[91mFailed to sent summary\\033[90m to Mattermost.\\n\")"
   ]
  },
  {
   "cell_type": "markdown",
   "id": "498b8eff-7d1b-47b7-90c4-e13cc738b36c",
   "metadata": {},
   "source": [
    "## EN:4 End of the playbook "
   ]
  },
  {
   "cell_type": "code",
   "execution_count": null,
   "id": "4c03bb30",
   "metadata": {},
   "outputs": [],
   "source": [
    "print(\"\\033[92m End of the playbook\")\n"
   ]
  },
  {
   "cell_type": "markdown",
   "id": "b17af9f2",
   "metadata": {},
   "source": [
    "## External references <a name=\"extreferences\"></a>\n",
    "\n",
    "- [The MISP Project](https://www.misp-project.org/)\n",
    "- [Mattermost](https://mattermost.com/)"
   ]
  },
  {
   "cell_type": "markdown",
   "id": "e1c813f6",
   "metadata": {},
   "source": [
    "## Technical details \n",
    "\n",
    "### Documentation\n",
    "\n",
    "This playbook requires these Python **libraries** to exist in the environment where the playbook is executed. You can install them with `pip install <library>`.\n",
    "\n",
    "```\n",
    "PrettyTable\n",
    "ipywidgets\n",
    "ipwhois\n",
    "geopy\n",
    "geopandas\n",
    "matplotlib\n",
    "```\n",
    "\n",
    "### Colour codes\n",
    "\n",
    "The output from Python displays some text in different colours. These are the colour codes\n",
    "\n",
    "```\n",
    "Red = '\\033[91m'\n",
    "Green = '\\033[92m'\n",
    "Blue = '\\033[94m'\n",
    "Cyan = '\\033[96m'\n",
    "White = '\\033[97m'\n",
    "Yellow = '\\033[93m'\n",
    "Magenta = '\\033[95m'\n",
    "Grey = '\\033[90m'\n",
    "Black = '\\033[90m'\n",
    "Default = '\\033[99m'\n",
    "```"
   ]
  },
  {
   "cell_type": "code",
   "execution_count": null,
   "id": "14dce812-e432-4c18-8358-f8b66e5b94a5",
   "metadata": {},
   "outputs": [],
   "source": []
  }
 ],
 "metadata": {
  "celltoolbar": "Attachments",
  "kernelspec": {
   "display_name": "Python 3 (ipykernel)",
   "language": "python",
   "name": "python3"
  },
  "language_info": {
   "codemirror_mode": {
    "name": "ipython",
    "version": 3
   },
   "file_extension": ".py",
   "mimetype": "text/x-python",
   "name": "python",
   "nbconvert_exporter": "python",
   "pygments_lexer": "ipython3",
   "version": "3.8.10"
  },
  "toc-showcode": false,
  "toc-showmarkdowntxt": false
 },
 "nbformat": 4,
 "nbformat_minor": 5
}
