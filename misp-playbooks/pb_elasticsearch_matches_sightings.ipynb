{
 "cells": [
  {
   "cell_type": "markdown",
   "id": "ca1fbfb5",
   "metadata": {
    "tags": [
     "playbook-introduction"
    ]
   },
   "source": [
    "# Query Elasticsearch for threat intelligence and report sightings in MISP and Mattermost\n",
    "\n",
    "## Introduction\n",
    "\n",
    "- UUID: **168e0485-7fde-431a-ba7a-b8a215e4d394**\n",
    "- Started from [issue 5](https://github.com/MISP/misp-playbooks/issues/)\n",
    "- State: **Published**\n",
    "- Purpose: This playbook queries Elasticsearch for matches with the results of a MISP search (indicators). \n",
    "    - The MISP search is configured by the analyst with a set of tags, mandatory tags and exclusion tags. Additional filtering can be done on attribute type. The search result is then a list of attributes which is used as a query to Elasticsearch. The query in Elasticsearch can be limited in time and capped on a maximum number of results.\n",
    "    - The results are then summarised in the playbook, added as **sightings** in MISP and a notification is sent to **Mattermost**.\n",
    "- Tags: [ \"elastic\", \"elasticsearch\", \"monitoring\", \"detection\", \"sighting\"]\n",
    "- External resources: **Elasticsearch**, **Mattermost**\n",
    "- Target audience: **CTI**\n",
    "\n",
    "[![](https://mermaid.ink/img/pako:eNplU02PmzAQ_SuWpVyi8Ac4tJftodKuVDW9ravsgA2M1tgRHlpFEf-9YwyGJhywZua9-Xhj32XttZGlLIpCOUKyphRv388_xNXCrfL-U7k5dDjc0SGV4q5kY_3fuoOBlJztjnr7CpWxIToasMFMk5gOB-UyVLz-VE7wZ_4YR-E91vidPGGs2gGunQCiAauRzCUYGOpO7FHpT9CGdyXjoeQS2Wh0u5oY5YOjGwtqQu-gsoa7JX9BHb4qOW0pRVF8eciTXJm4NO_0ljVNwjhxTu3-lyTlnBt1j11Ezq9hTDXQaayB_JCBm2cGaOCWGrRkFkcPVHeXZ14W0lgIhHWW8Vuyk7mots_KmgXiJZ3igFnX5zKLBGu9R0ASQOtLwLYjdO1DW6s7pMVu9rrIJ-qu2D44Fwpj38NwWxXhOXofaC05x3iujxcM8SpnOLp8tT_2oy78SDnzXoXzhE0cjHcmyIvj8S2DjsdIlSfZsw2o-f3cYyK-XJ3pTXwFSmrTwGj5jSg3MRRG8uebq2VJvPmTHPzYdrKcX8tJjte4jxcEVqpfvNM_e0k6fA?type=png)](https://mermaid.live/edit#pako:eNplU02PmzAQ_SuWpVyi8Ac4tJftodKuVDW9ravsgA2M1tgRHlpFEf-9YwyGJhywZua9-Xhj32XttZGlLIpCOUKyphRv388_xNXCrfL-U7k5dDjc0SGV4q5kY_3fuoOBlJztjnr7CpWxIToasMFMk5gOB-UyVLz-VE7wZ_4YR-E91vidPGGs2gGunQCiAauRzCUYGOpO7FHpT9CGdyXjoeQS2Wh0u5oY5YOjGwtqQu-gsoa7JX9BHb4qOW0pRVF8eciTXJm4NO_0ljVNwjhxTu3-lyTlnBt1j11Ezq9hTDXQaayB_JCBm2cGaOCWGrRkFkcPVHeXZ14W0lgIhHWW8Vuyk7mots_KmgXiJZ3igFnX5zKLBGu9R0ASQOtLwLYjdO1DW6s7pMVu9rrIJ-qu2D44Fwpj38NwWxXhOXofaC05x3iujxcM8SpnOLp8tT_2oy78SDnzXoXzhE0cjHcmyIvj8S2DjsdIlSfZsw2o-f3cYyK-XJ3pTXwFSmrTwGj5jSg3MRRG8uebq2VJvPmTHPzYdrKcX8tJjte4jxcEVqpfvNM_e0k6fA)"
   ]
  },
  {
   "cell_type": "raw",
   "id": "d5aa1137-6000-4553-a65d-841b149ae521",
   "metadata": {
    "tags": []
   },
   "source": [
    "---\n",
    "title: MISP playbook\n",
    "---\n",
    "%%{init: {\"flowchart\": {\"htmlLabels\": false}} }%%\n",
    "flowchart LR\n",
    "    events[MISP]\n",
    "    subgraph attribute_search [MISP]\n",
    "    \n",
    "    tags[\"tags\"]\n",
    "    attribute_type[\"type\"]    \n",
    "    actionable{\"to_ids?\"}\n",
    "    tags --> attribute_type --> actionable\n",
    "    end    \n",
    "    events -- Search --> attributes --> tags\n",
    "\n",
    "    actionable -- True --> indicators\n",
    "\n",
    "    indicators --> date_filters --> match_indicators\n",
    "\n",
    "    subgraph elastic_search [Elasticsearch]\n",
    "    date_filters[\"start, end\"]\n",
    "    match_indicators\n",
    "    end\n",
    "\n",
    "    match_indicators --> add_sighting\n",
    "    subgraph sightings [MISP sightings]\n",
    "    add_sighting\n",
    "    end\n",
    "\n",
    "    add_sighting --> summary --> mattermost\n",
    "    summary[\"`Display summary in playbook`\"]\n",
    "    mattermost[\"`Sent notification to **Mattermost**`\"]"
   ]
  },
  {
   "cell_type": "markdown",
   "id": "a512a2c1",
   "metadata": {
    "jp-MarkdownHeadingCollapsed": true,
    "tags": []
   },
   "source": [
    "# Playbook\n",
    "\n",
    "- **Query Elasticsearch for threat intelligence and report sightings in MISP and Mattermost**\n",
    "    - Introduction\n",
    "- **Preparation**\n",
    "    - PR:1 Initialise environment\n",
    "    - PR:2 Load helper functions\n",
    "    - PR:3 Set helper variables\n",
    "    - PR:4 Setup connection with Elasticsearch\n",
    "- **MISP search**\n",
    "    - IN:1 Search MISP for indicators\n",
    "    - IN:2 MISP search filters\n",
    "- **Elasticsearch**\n",
    "    - ES:1 Build Elasticsearch search query\n",
    "    - ES:2 Search in Elasticsearch\n",
    "    - ES:3 Print the Elasticsearch results\n",
    "    - ES:4 Matches and unique values returned by Elasticsearch\n",
    "    - ES:5 Plot Elasticsearch matches\n",
    "- **Sightings**\n",
    "    - SI:1 Add sightings to MISP\n",
    "- **Closure**\n",
    "    - EN:1 Create the summary of the playbook \n",
    "    - EN:2 Print the summary\n",
    "    - EN:3 Send a summary to Mattermost\n",
    "    - EN:4 End of the playbook \n",
    "- External references\n",
    "- Technical details"
   ]
  },
  {
   "cell_type": "markdown",
   "id": "8dc24913",
   "metadata": {
    "tags": []
   },
   "source": [
    "# Preparation\n",
    "\n",
    "## PR:1 Initialise environment\n",
    "\n",
    "This section **initialises the playbook environment** and loads the required Python libraries. \n",
    "\n",
    "The credentials for MISP (**API key**) and other services are loaded from the file `keys.py` in the directory **vault**. A [PyMISP](https://github.com/MISP/PyMISP) object is created to interact with MISP and the active MISP server is displayed. By printing out the server name you know that it's possible to connect to MISP. In case of a problem PyMISP will indicate the error with `PyMISPError: Unable to connect to MISP`.\n",
    "\n",
    "The contents of the `keys.py` file should contain at least :\n",
    "\n",
    "```\n",
    "misp_url=\"<MISP URL>\"                  # The URL to our MISP server\n",
    "misp_key=\"<MISP API KEY>\"              # The MISP API key\n",
    "misp_verifycert=<True or False>        # Ignore certificate errors\n",
    "mattermost_playbook_user=\"<MATTERMOST USER>\"\n",
    "mattermost_hook=\"<MATTERMOST WEBHOOK>\"\n",
    "\n",
    "elasticsearch_host=\"<ELASTICSEARCH_HOST>\"\n",
    "elasticsearch_api_key=\"<ELASTICSEARCH_APIKEY>\"\n",
    "```"
   ]
  },
  {
   "cell_type": "code",
   "execution_count": null,
   "id": "5f94c336",
   "metadata": {
    "tags": []
   },
   "outputs": [],
   "source": [
    "# Initialise Python environment\n",
    "import urllib3\n",
    "import sys\n",
    "import json\n",
    "#from pyfaup.faup import Faup\n",
    "from prettytable import PrettyTable, MARKDOWN\n",
    "from IPython.display import Image, display, display_markdown, HTML\n",
    "from datetime import date, datetime\n",
    "import pytz\n",
    "\n",
    "import requests\n",
    "from pymisp import *\n",
    "from pymisp.tools import GenericObjectGenerator\n",
    "\n",
    "import base64\n",
    "import matplotlib.pyplot as plt\n",
    "import io\n",
    "\n",
    "import re\n",
    "from collections import defaultdict\n",
    "\n",
    "from elasticsearch import Elasticsearch\n",
    "\n",
    "# Load the credentials\n",
    "sys.path.insert(0, \"../vault/\")\n",
    "from keys import *\n",
    "if misp_verifycert is False:\n",
    "    import urllib3\n",
    "    urllib3.disable_warnings(urllib3.exceptions.InsecureRequestWarning)\n",
    "print(\"The \\033[92mPython libraries\\033[90m are loaded and the \\033[92mcredentials\\033[90m are read from the keys file.\")\n",
    "\n",
    "# Create the PyMISP object\n",
    "misp = PyMISP(misp_url, misp_key, misp_verifycert)\n",
    "print(\"I will use the MISP server \\033[92m{}\\033[90m for this playbook.\\n\\n\".format(misp_url))"
   ]
  },
  {
   "cell_type": "markdown",
   "id": "50587a49-e703-454a-84ba-538cc2e3050b",
   "metadata": {},
   "source": [
    "## PR:2 Load helper functions\n",
    "\n",
    "The next cell contains **helper functions** that are used in this playbook. \n",
    "\n",
    "Instead of distributing helper functions as separate Python files this playbook includes all the required code as one code cell. This makes portability of playbooks between instances easier. The downside is that functions defined in this playbook need to be defined again in other playbooks, which is not optimal for code re-use. For this iteration of playbooks it is chosen to include the code in the playbook (more portability), but you can easily create one \"helper\" file that contains all the helper code and then import that file in each playbook (for example by adding to the previous cell `from helpers import *`)."
   ]
  },
  {
   "cell_type": "code",
   "execution_count": null,
   "id": "e0ca002f-4ea7-4b7d-bcdb-7a333c628f36",
   "metadata": {
    "tags": []
   },
   "outputs": [],
   "source": [
    "def convert_query_should(values):\n",
    "    \"\"\"\n",
    "    Convert a list of values to a search query for Elasticsearch.\n",
    "\n",
    "    :param values: List of values\n",
    "    :return: List of query dictionaries\n",
    "    \"\"\"\n",
    "    result = []\n",
    "    entry = playbook_config[\"elastic\"][\"query_should\"]\n",
    "    for value in values:\n",
    "        new_entry = json.loads(\n",
    "            json.dumps(entry).replace(\"__QUERY_VALUE__\", value)\n",
    "        )\n",
    "        result.append(new_entry)\n",
    "    return result\n",
    "\n",
    "\n",
    "def extract_fields(hit, fields):\n",
    "    \"\"\"\n",
    "    Extract the useful fields from an Elasticsearch answer.\n",
    "\n",
    "    :param hit: Elasticsearch answer\n",
    "    :param fields: Fields to extract\n",
    "    :return: Dictionary of extracted fields\n",
    "    \"\"\"\n",
    "    extracted = {}\n",
    "\n",
    "    # Extract fields\n",
    "    source = hit['_source']\n",
    "    for field in fields:\n",
    "        keys = field.split('.')\n",
    "        value = source\n",
    "        for key in keys:\n",
    "            value = value.get(key, ' ')\n",
    "            if value == ' ':\n",
    "                break\n",
    "        if isinstance(value, str):\n",
    "            value = value.strip()\n",
    "        elif isinstance(value, list):\n",
    "            value = value[0].strip()\n",
    "        extracted[field] = value\n",
    "\n",
    "    # Add additional document ID for later reference\n",
    "    extracted[\"_id\"] = hit[\"_id\"]\n",
    "\n",
    "    # Get highlights\n",
    "    unique_values = set()\n",
    "    if \"highlight\" in hit:\n",
    "        pattern = re.compile(r'<em>(.*?)</em>')\n",
    "        for key, values in hit[\"highlight\"].items():\n",
    "            for value in values:\n",
    "                matches = pattern.findall(value)\n",
    "                unique_values.update(matches)\n",
    "    extracted[\"matched_highlights\"] = sorted(unique_values)\n",
    "\n",
    "    return extracted\n",
    "\n",
    "\n",
    "def add_converted_attributes(attribute_type, value):\n",
    "    \"\"\"\n",
    "    Convert a MISP attribute to other useful search queries\n",
    "\n",
    "    :param attribute_type: MISP attribute type\n",
    "    :param value: MISP attribute value\n",
    "    \"\"\"    \n",
    "    if attribute_type == \"ip-src\" or attribute_type == \"ip-dst\":\n",
    "        octets = value.split(\".\")\n",
    "        reversed_octets = octets[::-1]\n",
    "        reverse_dns = \".\".join(reversed_octets) + \".in-addr.arpa\"\n",
    "        if reverse_dns not in playbook_results[\"attributes\"]:\n",
    "            playbook_results[\"attributes\"].append(reverse_dns)\n",
    "            print(\"  Add converted indicator \\033[92m{}\\033[90m\".format(reverse_dns))\n",
    "    elif attribute_type == \"url\":\n",
    "        stripped_url = value.replace(\"http://\",\"\").replace(\"https://\",\"\")\n",
    "        if stripped_url not in playbook_results[\"attributes\"]:\n",
    "            playbook_results[\"attributes\"].append(stripped_url)\n",
    "            print(\"  Add converted indicator \\033[92m{}\\033[90m\".format(stripped_url))        \n"
   ]
  },
  {
   "cell_type": "markdown",
   "id": "36d28445-dfa1-47ae-942e-16adb2111cc0",
   "metadata": {},
   "source": [
    "## PR:3 Set helper variables\n",
    "\n",
    "This cell contains **helper variables** that are used in this playbook. Their usage is explained in the next steps of the playbook.\n",
    "\n",
    "- `playbook_config` : the configuration of the playbook\n",
    "- `playbook_results` : the results of the playbook"
   ]
  },
  {
   "cell_type": "code",
   "execution_count": null,
   "id": "aa5409f6-d042-410f-9dc7-51500aae61c3",
   "metadata": {
    "tags": []
   },
   "outputs": [],
   "source": [
    "playbook_config = {\n",
    "    \"elastic\": {\n",
    "        \"sort\": [\n",
    "            {\n",
    "                \"@timestamp\": {\n",
    "                    \"order\": \"desc\",\n",
    "                    \"format\": \"strict_date_optional_time\",\n",
    "                    \"unmapped_type\": \"boolean\"\n",
    "                }\n",
    "            },\n",
    "            {\n",
    "                \"_doc\": {\n",
    "                    \"order\": \"desc\",\n",
    "                    \"unmapped_type\": \"boolean\"\n",
    "                }\n",
    "            }\n",
    "        ],\n",
    "        \"query_dataset\": {\n",
    "                \"bool\": {\n",
    "                  \"should\": [\n",
    "                    {\n",
    "                      \"term\": {\n",
    "                        \"event.dataset\": {\n",
    "                          \"value\": \"__QUERY_DATASET_VALUE__\"\n",
    "                        }\n",
    "                      }\n",
    "                    }\n",
    "                  ],\n",
    "                  \"minimum_should_match\": 1\n",
    "                }\n",
    "              },\n",
    "        \"query_should\": {\"multi_match\": {\"type\": \"phrase\",\"query\": \"__QUERY_VALUE__\",\"lenient\": True}},\n",
    "        \n",
    "        \"query\": {\n",
    "            \"bool\": {\n",
    "                \"filter\": [\n",
    "                    {\n",
    "                        \"bool\": {\n",
    "                            \"should\": \"__QUERY_SHOULD__\",\n",
    "                            \"minimum_should_match\": 1\n",
    "                        }\n",
    "                    },\n",
    "                    {\n",
    "                        \"range\": {\n",
    "                            \"@timestamp\": {\n",
    "                                \"format\": \"strict_date_optional_time\",\n",
    "                                \"gte\": \"__QUERY_GTE__\",\n",
    "                                \"lte\": \"__QUERY_LTE__\"\n",
    "                            }\n",
    "                        }\n",
    "                    }\n",
    "                ],\n",
    "                \"must\": [],\n",
    "                \"should\": [],\n",
    "                \"must_not\": []\n",
    "            }\n",
    "        },\n",
    "        \"highlight\": {\n",
    "            \"fields\": {\n",
    "                \"*\": {}\n",
    "            }\n",
    "        }\n",
    "    }\n",
    "}\n",
    "\n",
    "playbook_results = {}\n",
    "playbook_results[\"attributes\"] = []\n",
    "playbook_results[\"unique_attributes_by_field\"] = []\n",
    "playbook_results[\"unique_attributes_by_field_matches\"] = []"
   ]
  },
  {
   "cell_type": "markdown",
   "id": "b703305e-42c8-4100-a744-7593d16a3734",
   "metadata": {},
   "source": [
    "## P4: Setup connection with Elasticsearch\n",
    "\n",
    "Similarly to how we set up a connection to the MISP server, we also need to establish a connection to our Elasticsearch host."
   ]
  },
  {
   "cell_type": "code",
   "execution_count": null,
   "id": "435e0c15-75f2-464b-bb41-1d988c002c50",
   "metadata": {},
   "outputs": [],
   "source": [
    "elasticsearch = Elasticsearch(elasticsearch_host, api_key=elasticsearch_api_key, verify_certs=False, ssl_show_warn=False)\n",
    "print(\"I will use the Elasticsearch server \\033[92m{}\\033[90m for this playbook.\\n\\n\".format(elasticsearch_host))"
   ]
  },
  {
   "cell_type": "markdown",
   "id": "df44d7ea-9fcb-4ed4-af5f-5a2bba57fd29",
   "metadata": {},
   "source": [
    "# MISP search\n",
    "\n",
    "## IN:1 Search MISP for indicators\n",
    "\n",
    "This section outlines the process of searching in MISP for indicators based on your specified search parameters.\n",
    "\n",
    "In this playbook, we search MISP for **actionable** indicators (attributes with `to_ids set` to True) associated with a specific threat actor. You can customize the search query by adjusting `search_tags` and `misp_mandatory_filter_tags`, and exclude results with `exclude_tags`. For reference, you can use other existing MISP playbooks, such as [Threat actor arofiling](https://github.com/MISP/misp-playbooks/blob/main/misp-playbooks/pb_threat_actor_profiling-with_output.ipynb) or [Curate MISP events](https://github.com/MISP/misp-playbooks/blob/main/misp-playbooks/pb_curate_misp_events.ipynb) for inspiration in building your search queries.\n",
    "\n",
    "The playbook also allows you to add *smart* converted indicators using `add_converted_attributes`. For example, if you track DNS queries, it can be useful to also alert on reverse DNS queries for a specific IP (using *.in-addr.arpa*). Similarly, for URLs, you can search for occurrences of just the hostname part, without the http/https scheme. Note that as a side effect, adding sightings for these converted indicators will not work, as they do not exist in MISP.\n",
    "\n",
    "## IN:2 MISP search filters\n",
    "\n",
    "Use these MISP search filters\n",
    "\n",
    "- `published`: Only consider **published** events\n",
    "- `date_from`: Events older than a specifc **date**\n",
    "- `to_ids`: Only actionable indicators\n",
    "- `limit`: Limit the number of results\n",
    "- `search_tags`: Search for these specific tags (**OR**)\n",
    "- `misp_mandatory_filter_tags`: Mandatory tags (**AND**)\n",
    "- `exclude_tags`: Exclude tags (**NOT**)\n",
    "- `type_attribute`: Limit the search to these **attribute types**\n",
    "\n",
    "As an example, you can use the below query to search in MISP for all URLs, hostnames, domains and IPs associated with the threat actor [APT28](https://attack.mitre.org/groups/G0007/) \n",
    "```\n",
    "search_tags = [\"misp-galaxy:threat-actor=\\\"Sofacy\\\"\",\n",
    "               \"misp-galaxy:mitre-intrusion-set=\\\"APT28 - G0007\\\"\",\n",
    "               \"misp-galaxy:threat-actor=\\\"Sofacy\\\"\",\n",
    "               \"misp-galaxy:threat-actor=\\\"APT28\\\"\"]\n",
    "type_attribute = [\"url\", \"hostname\", \"domain\", \"ip-src\", \"ip-dst\"]\n",
    "```"
   ]
  },
  {
   "cell_type": "code",
   "execution_count": null,
   "id": "99fd7df3-4e82-4f6f-ab1f-385b70f4e09c",
   "metadata": {},
   "outputs": [],
   "source": [
    "# MISP search filters\n",
    "published = True\n",
    "to_ids = True\n",
    "date_from = \"2019-01-01\"\n",
    "limit = 500\n",
    "\n",
    "search_tags = [\"misp-galaxy:threat-actor=\\\"Sofacy\\\"\",\n",
    "               \"misp-galaxy:mitre-intrusion-set=\\\"APT28 - G0007\\\"\",\n",
    "               \"misp-galaxy:threat-actor=\\\"Sofacy\\\"\",\n",
    "               \"misp-galaxy:threat-actor=\\\"APT28\\\"\"]\n",
    "\n",
    "misp_mandatory_filter_tags = [\"tlp:white\", \"workflow:state=\\\"complete\\\"\"]\n",
    "exclude_tags = [\"workflow:state=\\\"rejected\\\"\"]\n",
    "type_attribute = [\"hostname\", \"domain\", \"ip-src\", \"ip-dst\"]\n",
    "\n",
    "# Add additional attributes (\"converted\") based on the MISP search results\n",
    "add_converted_attribute = True"
   ]
  },
  {
   "cell_type": "code",
   "execution_count": null,
   "id": "636ed24d-3772-4ac1-b1a9-eae7c09296f8",
   "metadata": {
    "tags": []
   },
   "outputs": [],
   "source": [
    "# Do the MISP search\n",
    "print(\"Build search query.\")\n",
    "tag_query = misp.build_complex_query(or_parameters=search_tags, and_parameters=misp_mandatory_filter_tags, not_parameters=exclude_tags)\n",
    "\n",
    "print(\"Searching MISP for {}.\".format(tag_query))\n",
    "misp_search_match = misp.search(\"attributes\", tags=tag_query, type_attribute=type_attribute, date_from=date_from, published=published, pythonify=True, to_ids=to_ids, limit=limit)\n",
    "\n",
    "if len(misp_search_match) > 0:\n",
    "    print(\" Found \\033[92m{}\\033[90m matches.\".format(len(misp_search_match)))\n",
    "\n",
    "    for attribute in misp_search_match:\n",
    "        value = attribute.value.strip().lower()\n",
    "        if value not in playbook_results[\"attributes\"]:\n",
    "            playbook_results[\"attributes\"].append(value)\n",
    "            print(\" Indicator \\033[92m{}\\033[90m from event {} \\033[92m{}\\033[90m added to Elasticsearch search query\".format(value, attribute.Event.id, attribute.Event.info))\n",
    "            if add_converted_attribute:\n",
    "                add_converted_attributes(attribute.type, value)\n",
    "else:\n",
    "    print(\" No \\033[91mmatching mindicators\\033[90m found in MISP for {}\".format(tag_query))\n",
    "\n",
    "print(\"Finished searching in MISP.\\n\\n\")"
   ]
  },
  {
   "cell_type": "markdown",
   "id": "98a9d695-a3f5-4c60-a1f6-9836867126d7",
   "metadata": {},
   "source": [
    "# Elasticsearch\n",
    "\n",
    "## ES:1 Build Elasticsearch search query\n",
    "\n",
    "This section outlines how to query Elasticsearch for occurrences of MISP indicators found earlier. \n",
    "\n",
    "First **configure the search** with \n",
    "- **Start** search date: Specify using `query_start`. Make sure the date is in format `YYYY-MM-DDTHH:mm:ss.000Z`\n",
    "- **End** search date: Specify using `query_end`. Generally, this is left as the current date.\n",
    "- **Result limit** : The number of returned results is capped by the value set in `query_limit`.\n",
    "\n",
    "Then use `fields_to_extract` to specify a list of Elasticsearch fields to **extract from the returned results**. These fields are also included in the final summary of the playbook. Typical examples include full URLs (useful for searching activity related to domain names) or DNS queries or responses.\n",
    "\n",
    "Optionally, you can **limit the results** to a specific data set in Elasticsearch by setting `query_limit_data`. Examples include:\n",
    "- `zeek.dns`\n",
    "- `network_traffic.tls`"
   ]
  },
  {
   "cell_type": "code",
   "execution_count": null,
   "id": "1ea03ccf-c31c-4693-aec2-a3e4d8807b4c",
   "metadata": {
    "tags": []
   },
   "outputs": [],
   "source": [
    "# Elasticsearch start and end search date\n",
    "query_start = \"2020-01-01T00:00:00.000Z\"\n",
    "query_end = datetime.utcnow().strftime(\"%Y-%m-%dT%H:%M:%S.%f\")[:-3] + \"Z\"\n",
    "\n",
    "# Limit results\n",
    "query_limit = 100\n",
    "\n",
    "# Extract specific fields from the results returned by Elasticsearch\n",
    "fields_to_extract = [\"@timestamp\", \"event.dataset\", \"source.ip\", \"destination.ip\", \"destination.domain\",\n",
    "          \"dns.question.name\", \"dns.resolved_ip\", \"url.full\"]\n",
    "\n",
    "# Limit to a specific Elasticsearch data set by inserting an additional filter\n",
    "query_limit_data = False\n",
    "query_limit_data = \"zeek.dns\"\n",
    "if query_limit_data:\n",
    "    query_dataset_template = playbook_config[\"elastic\"][\"query_dataset\"]\n",
    "    query_dataset = json.loads(json.dumps(query_dataset_template).replace(\"__QUERY_DATASET_VALUE__\", query_limit_data))\n",
    "    playbook_config[\"elastic\"][\"query\"][\"bool\"][\"filter\"].insert(0, query_dataset)\n",
    "\n",
    "# Build the query for the indicators\n",
    "print(\"Build Elasticsearch search query.\")\n",
    "query_should = convert_query_should(playbook_results[\"attributes\"])\n",
    "\n",
    "# Replace the placeholder values\n",
    "query_str = json.dumps(playbook_config[\"elastic\"][\"query\"])\n",
    "replacements = {\n",
    "    \"__QUERY_GTE__\": query_start,\n",
    "    \"__QUERY_LTE__\": query_end,\n",
    "    '\"__QUERY_SHOULD__\"': json.dumps(query_should)\n",
    "}\n",
    "for key, value in replacements.items():\n",
    "    query_str = query_str.replace(key, value)\n",
    "query = json.loads(query_str)\n",
    "\n",
    "print(\"Elasticsearch query ready.\")"
   ]
  },
  {
   "cell_type": "markdown",
   "id": "9d32e1d3-1fa6-4860-83c4-3efdd13e633f",
   "metadata": {},
   "source": [
    "## ES:2 Search in Elasticsearch\n",
    "\n",
    "Now that we have an Elasticsearch query (in `query`), we can execute it against the Elasticsearch server. If succesful, the number of **shards** and **hits** are displayed. The playbook will also extract the necessary fields, including those defined earlier in `fields_to_extract`."
   ]
  },
  {
   "cell_type": "code",
   "execution_count": null,
   "id": "df1766ce-7760-43f7-8320-f5bc07e6614d",
   "metadata": {
    "tags": []
   },
   "outputs": [],
   "source": [
    "# Search in Elasticsearch and extract the hits\n",
    "print(\"Searching in Elasticsearch.\")\n",
    "body = {\"query\": query, \"highlight\": playbook_config[\"elastic\"][\"highlight\"], \"size\": query_limit, \"sort\": playbook_config[\"elastic\"][\"sort\"]}\n",
    "response = elasticsearch.search(index=\"logs-*\", body=body)\n",
    "\n",
    "if \"_shards\" in response and \"hits\" in response:\n",
    "    print(\" Shards: \\033[92m{}\\033[90m Total hits: \\033[92m{}\\033[90m\".format(response[\"_shards\"], response[\"hits\"][\"total\"]))\n",
    "\n",
    "print(\" Extracting hits.\")\n",
    "playbook_results[\"extracted_hits\"] = [extract_fields(hit, fields_to_extract) for hit in response['hits']['hits']]\n",
    "if len(playbook_results[\"extracted_hits\"]) > 0:\n",
    "    print(\" Got \\033[92m{}\\033[90m results from Elasticsearch.\".format(len(playbook_results[\"extracted_hits\"])))\n",
    "else:\n",
    "    print(\" No \\033[93results\\033[90m found.\")\n",
    "\n",
    "print(\"Finished searching.\")"
   ]
  },
  {
   "cell_type": "markdown",
   "id": "f92dca6a-785c-4426-80b6-968be657d06d",
   "metadata": {},
   "source": [
    "## ES:3 Print the Elasticsearch results\n",
    "\n",
    "Before we continue, the playbook will print out the matches found in Elasticsearch. The table will display the extracted fields along with the **document ID**. This document ID references the entry in Elasticsearch, allowing you to jump directly to the corresponding document (*use the query `_id:<id>`*)."
   ]
  },
  {
   "cell_type": "code",
   "execution_count": null,
   "id": "0fbd88a3-c92f-4d73-8247-1e07c09a41f0",
   "metadata": {
    "tags": []
   },
   "outputs": [],
   "source": [
    "# Initialise the table\n",
    "table_elasticsearch = PrettyTable()\n",
    "table_elasticsearch.field_names = fields_to_extract + [\"_id\"] + [\"matched_highlights\"]\n",
    "table_elasticsearch.align = \"l\"\n",
    "\n",
    "# Add the results to the table and print it\n",
    "for hit in playbook_results[\"extracted_hits\"]:\n",
    "    row = [hit.get(field, '') for field in fields_to_extract] + [hit.get(\"_id\", ''), ', '.join(hit.get(\"matched_highlights\", []))]\n",
    "    table_elasticsearch.add_row(row)\n",
    "print(table_elasticsearch.get_string(end=query_limit))"
   ]
  },
  {
   "cell_type": "markdown",
   "id": "707d7a45-826e-4d1d-9391-8c897b487389",
   "metadata": {},
   "source": [
    "## ES:4 Matches and unique values returned by Elasticsearch\n",
    "\n",
    "You can also list the matches and provide a summary of unique field values for a specific field returned by Elasticsearch Use the `unique_attributes_by_field` to specify which field you want to summarise."
   ]
  },
  {
   "cell_type": "code",
   "execution_count": null,
   "id": "961ce305-ace1-443b-9e04-f4a819f595f9",
   "metadata": {
    "tags": []
   },
   "outputs": [],
   "source": [
    "# Get all unique values in this field\n",
    "unique_attributes_by_field = \"dns.question.name\"\n",
    "unique_attributes_by_field = \"destination.ip\"\n",
    "\n",
    "unique_values = set()\n",
    "unique_values_highlights = set()\n",
    "for hit in playbook_results[\"extracted_hits\"]:\n",
    "    value = hit.get(unique_attributes_by_field, '')\n",
    "    if value:\n",
    "        unique_values.add(value)\n",
    "        \n",
    "    highlights = hit.get(\"matched_highlights\", [])\n",
    "    unique_values_highlights.update(highlights)\n",
    "    \n",
    "playbook_results[\"unique_attributes_by_field_matches\"] = sorted(unique_values_highlights)\n",
    "if len(playbook_results[\"unique_attributes_by_field_matches\"]) > 0:\n",
    "    print(\"Got \\033[92m{}\\033[90m unique values from Elasticsearch for the \\033[92mMISP attribute search\\033[90m.\".format(len(playbook_results[\"unique_attributes_by_field_matches\"])))\n",
    "    print(playbook_results[\"unique_attributes_by_field_matches\"], \"\\n\\n\")\n",
    "\n",
    "playbook_results[\"unique_attributes_by_field\"] = sorted(unique_values)\n",
    "if len(playbook_results[\"unique_attributes_by_field\"]) > 0:\n",
    "    print(\"Got \\033[92m{}\\033[90m unique values from Elasticsearch for \\033[92m{}\\033[90m.\".format(len(playbook_results[\"unique_attributes_by_field\"]), unique_attributes_by_field))\n",
    "    print(playbook_results[\"unique_attributes_by_field\"], \"\\n\\n\")"
   ]
  },
  {
   "cell_type": "markdown",
   "id": "ddf80bc8-fae1-4f45-aede-99e3424ec960",
   "metadata": {},
   "source": [
    "## ES:5 Plot Elasticsearch matches\n",
    "\n",
    "You can also plot out the Elasticsearch matches on a graph to visualise when they exactly occured."
   ]
  },
  {
   "cell_type": "code",
   "execution_count": null,
   "id": "fb5c6ade-617d-46cd-addb-74fd61bdb61b",
   "metadata": {
    "tags": []
   },
   "outputs": [],
   "source": [
    "plot_title = \"Elasticsearch matches\"\n",
    "\n",
    "timestamp_counts = defaultdict(int)\n",
    "for hit in playbook_results[\"extracted_hits\"]:\n",
    "    timestamp_str = hit[\"@timestamp\"]\n",
    "    timestamp = datetime.strptime(timestamp_str, \"%Y-%m-%dT%H:%M:%S.%fZ\")\n",
    "    timestamp_counts[timestamp] += 1\n",
    "\n",
    "dates = sorted(timestamp_counts.keys())\n",
    "values = [timestamp_counts[date] for date in dates]\n",
    "\n",
    "plt.figure(figsize=(10, 6))\n",
    "plt.scatter(dates, values, color='skyblue', s=100)  \n",
    "plt.title(plot_title, fontsize=16, fontweight='bold')\n",
    "plt.xlabel(\"Timestamp\", fontsize=12)\n",
    "plt.ylabel(\"Occurrence\", fontsize=12)\n",
    "plt.grid(True, linestyle='--', alpha=0.7)  # Add grid lines with transparency\n",
    "plt.xticks(rotation=45)  # Rotate x-axis labels for better readability\n",
    "plt.tight_layout()  # Adjust layout to prevent clipping of labels\n",
    "\n",
    "# Save plot to buffer\n",
    "buffer = io.BytesIO()\n",
    "plt.savefig(buffer, format='png')\n",
    "buffer.seek(0)\n",
    "plot_as_string = buffer.getvalue()\n",
    "\n",
    "# Show plot\n",
    "plt.show()"
   ]
  },
  {
   "cell_type": "markdown",
   "id": "8d5e5ee4-2daa-40da-80f7-d9c5036168f3",
   "metadata": {},
   "source": [
    "# Sightings\n",
    "\n",
    "## SI:1 Add sightings to MISP\n",
    "\n",
    "Now we'll add a MISP sighting for the occurences found in Elasticearch. You can set the source with `sighting_source` and the sighting type with `sighting_type`. For the latter, these values exist\n",
    "- 0 = True **sighting**, the most common used option\n",
    "- 1 = **False positive** sighting\n",
    "- 2 = **Expiration** sighting"
   ]
  },
  {
   "cell_type": "code",
   "execution_count": null,
   "id": "66931d15-e201-4b92-b7f5-b6e267ebd58e",
   "metadata": {
    "tags": []
   },
   "outputs": [],
   "source": [
    "# Add sightings to MISP\n",
    "sighting_source = \"Set by playbook, detected in Elasticsearch\"\n",
    "sighting_type = 0  # Sighting types: 0=sighting ; 1=false positive ; 2=expiration"
   ]
  },
  {
   "cell_type": "code",
   "execution_count": null,
   "id": "56273cf9-aaed-4719-a177-2a23cb4b1a0d",
   "metadata": {
    "tags": []
   },
   "outputs": [],
   "source": [
    "print(\"Adding sightings to MISP.\")\n",
    "\n",
    "for hit in playbook_results[\"extracted_hits\"]:\n",
    "    for sighting_value in hit[\"matched_highlights\"]:\n",
    "        dt = datetime.strptime(hit[\"@timestamp\"], \"%Y-%m-%dT%H:%M:%S.%fZ\")\n",
    "        dt = dt.replace(tzinfo=pytz.UTC)\n",
    "        sighting_timestamp = dt.timestamp()\n",
    "        sighting_source_add = \"{} - {} - {}\".format(sighting_source, hit[\"event.dataset\"], hit[\"_id\"])\n",
    "        data = {\"value\": sighting_value, \"type\": sighting_type, \"source\": sighting_source_add, \"timestamp\": sighting_timestamp}\n",
    "        request = misp._prepare_request(\"POST\", \"{}/sightings/add\".format(misp_url), data=data)\n",
    "        if \"Sighting\" in request.json():\n",
    "            print(\" Adding \\033[92m{}\\033[90m at {}: {}\".format(sighting_value, hit[\"@timestamp\"], sighting_source_add))\n",
    "        else:\n",
    "            print(\" Unable to add sighting \\033[91m{}\\033[90m at {}\".format(sighting_value, hit[\"@timestamp\"]))\n",
    "print(\"Finished adding sightings.\")"
   ]
  },
  {
   "cell_type": "markdown",
   "id": "70dea5ca",
   "metadata": {},
   "source": [
    "# Closure\n",
    "\n",
    "In this **closure** or end step we create a **summary** of the actions that were performed by the playbook. The summary is printed and can also be send to a chat channel. "
   ]
  },
  {
   "cell_type": "markdown",
   "id": "75b87ba6-19cc-4127-9299-480f708a61ff",
   "metadata": {},
   "source": [
    "## EN:1 Create the summary of the playbook \n",
    "\n",
    "The next section creates a summary and stores the output in the variable `summary` in Markdown format. It also stores an intro text in the variable `intro`. These variables can later be used when sending information to Mattermost or TheHive."
   ]
  },
  {
   "cell_type": "code",
   "execution_count": null,
   "id": "12561137-e759-440b-9d21-dc6def901cbc",
   "metadata": {
    "tags": []
   },
   "outputs": [],
   "source": [
    "summary = \"# MISP Playbook summary\\nQuery Elasticsearch for threat intelligence and report sightings in MISP and Mattermost \\n\\n\"\n",
    "\n",
    "current_date = datetime.now()\n",
    "formatted_date = current_date.strftime(\"%Y-%m-%d\")\n",
    "summary += \"## Overview\\n\\n\"\n",
    "summary += \"- Date: **{}**\\n\".format(formatted_date)\n",
    "summary += \"- Elastic search between **{}** and **{}**\\n\".format(query_start, query_end)\n",
    "summary += \"- Elastic search limited to **{}** results\\n\".format(query_limit)\n",
    "summary += \"- Based on MISP query: **{}**\\n\".format(tag_query)\n",
    "summary += \"- Attribute types: **{}**\\n\".format(type_attribute)\n",
    "summary += \"- Resulting in MISP attributes: **{}**\\n\".format(playbook_results[\"attributes\"])\n",
    "\n",
    "summary += \"## Elasticsearch matches\\n\\n\"\n",
    "summary += \"### Matches\\n\\n\"\n",
    "summary += \"- **MISP** attributes ({}): **{}**\\n\".format(len(playbook_results[\"unique_attributes_by_field_matches\"]), playbook_results[\"unique_attributes_by_field_matches\"])\n",
    "summary += \"- **{}** ({}): **{}**\\n\".format(unique_attributes_by_field, len(playbook_results[\"unique_attributes_by_field\"]), playbook_results[\"unique_attributes_by_field\"])\n",
    "summary += \"### Documents\\n\\n\"\n",
    "summary += \"There were **{}** documents found in Elasticsearch that match with **{}**.\\n\\n\".format(len(playbook_results[\"extracted_hits\"]), playbook_results[\"unique_attributes_by_field_matches\"])\n",
    "table_elasticsearch.set_style(MARKDOWN)\n",
    "summary += table_elasticsearch.get_string()\n",
    "summary += \"\\n\\n\"\n",
    "\n",
    "print(\"The \\033[92msummary\\033[90m of the playbook is available.\\n\")"
   ]
  },
  {
   "cell_type": "markdown",
   "id": "e2093c95-efb8-45ad-974a-e158b6bea8ea",
   "metadata": {},
   "source": [
    "## EN:2 Print the summary"
   ]
  },
  {
   "cell_type": "code",
   "execution_count": null,
   "id": "179bc3ed-97bd-4dc9-8f12-29ebe2a11a19",
   "metadata": {
    "tags": []
   },
   "outputs": [],
   "source": [
    "print(summary)\n",
    "# Or print with parsed markdown\n",
    "#display_markdown(summary, raw=True)"
   ]
  },
  {
   "cell_type": "markdown",
   "id": "eba96062-deaa-4fb9-8302-7b3ef829201e",
   "metadata": {
    "tags": []
   },
   "source": [
    "## EN:3 Send a summary to Mattermost\n",
    "\n",
    "Now you can send the summary to Mattermost. You can send the summary in two ways by selecting one of the options for the variable `send_to_mattermost_option` in the next cell.\n",
    "\n",
    "- The default option where the entire summary is in the **chat**, or\n",
    "- a short intro and the summary in a **card**\n",
    "\n",
    "For this playbook we rely on a webhook in Mattermost. You can add a webhook by choosing the gear icon in Mattermost, then choose Integrations and then **Incoming Webhooks**. Set a channel for the webhook and lock the webhook to this channel with *\"Lock to this channel\"*."
   ]
  },
  {
   "cell_type": "code",
   "execution_count": null,
   "id": "8c455bc3-35cc-436d-8237-95c81b57208f",
   "metadata": {
    "tags": []
   },
   "outputs": [],
   "source": [
    "send_to_mattermost_option = \"via a chat message\"\n",
    "#send_to_mattermost_option = \"via a chat message with card\""
   ]
  },
  {
   "cell_type": "code",
   "execution_count": null,
   "id": "ca49f33e",
   "metadata": {},
   "outputs": [],
   "source": [
    "buffer_base64 = base64.b64encode(plot_as_string).decode()\n",
    "data_url = f\"data:image/png;base64,{buffer_base64}\"\n",
    "attachment = [{\"fallback\": \"Decaying of indicators\",\"color\": \"#ff8000\",\"image_url\": data_url}]\n",
    "\n",
    "message = False\n",
    "\n",
    "if send_to_mattermost_option == \"via a chat message\":\n",
    "    message = {\"username\": mattermost_playbook_user, \"text\": summary, \"attachments\": attachment}\n",
    "elif send_to_mattermost_option == \"via a chat message with card\":\n",
    "    message = {\"username\": mattermost_playbook_user, \"text\": intro, \"props\": {\"card\": summary}, \"attachments\": attachment}\n",
    "\n",
    "if message:\n",
    "    r = requests.post(mattermost_hook, data=json.dumps(message))\n",
    "    r.raise_for_status()\n",
    "if message and r.status_code == 200:\n",
    "    print(\"Summary is \\033[92msent to Mattermost.\\n\")\n",
    "else:\n",
    "    print(\"\\033[91mFailed to sent summary\\033[90m to Mattermost.\\n\")"
   ]
  },
  {
   "cell_type": "markdown",
   "id": "498b8eff-7d1b-47b7-90c4-e13cc738b36c",
   "metadata": {},
   "source": [
    "## EN:4 End of the playbook "
   ]
  },
  {
   "cell_type": "code",
   "execution_count": null,
   "id": "4c03bb30",
   "metadata": {},
   "outputs": [],
   "source": [
    "print(\"\\033[92m End of the playbook\")\n"
   ]
  },
  {
   "cell_type": "markdown",
   "id": "b17af9f2",
   "metadata": {},
   "source": [
    "## External references <a name=\"extreferences\"></a>\n",
    "\n",
    "- [The MISP Project](https://www.misp-project.org/)\n",
    "- [Mattermost](https://mattermost.com/)"
   ]
  },
  {
   "cell_type": "markdown",
   "id": "e1c813f6",
   "metadata": {},
   "source": [
    "## Technical details \n",
    "\n",
    "### Documentation\n",
    "\n",
    "This playbook requires these Python **libraries** to exist in the environment where the playbook is executed. You can install them with `pip install <library>`.\n",
    "\n",
    "```\n",
    "PrettyTable\n",
    "ipywidgets\n",
    "matplotlib\n",
    "io\n",
    "```\n",
    "\n",
    "### Colour codes\n",
    "\n",
    "The output from Python displays some text in different colours. These are the colour codes\n",
    "\n",
    "```\n",
    "Red = '\\033[91m'\n",
    "Green = '\\033[92m'\n",
    "Blue = '\\033[94m'\n",
    "Cyan = '\\033[96m'\n",
    "White = '\\033[97m'\n",
    "Yellow = '\\033[93m'\n",
    "Magenta = '\\033[95m'\n",
    "Grey = '\\033[90m'\n",
    "Black = '\\033[90m'\n",
    "Default = '\\033[99m'\n",
    "```"
   ]
  },
  {
   "cell_type": "code",
   "execution_count": null,
   "id": "14dce812-e432-4c18-8358-f8b66e5b94a5",
   "metadata": {},
   "outputs": [],
   "source": []
  }
 ],
 "metadata": {
  "celltoolbar": "Attachments",
  "kernelspec": {
   "display_name": "Python 3 (ipykernel)",
   "language": "python",
   "name": "python3"
  },
  "language_info": {
   "codemirror_mode": {
    "name": "ipython",
    "version": 3
   },
   "file_extension": ".py",
   "mimetype": "text/x-python",
   "name": "python",
   "nbconvert_exporter": "python",
   "pygments_lexer": "ipython3",
   "version": "3.8.10"
  },
  "toc-autonumbering": false,
  "toc-showcode": false,
  "toc-showmarkdowntxt": false
 },
 "nbformat": 4,
 "nbformat_minor": 5
}
