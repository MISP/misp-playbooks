{
 "cells": [
  {
   "cell_type": "markdown",
   "id": "ca1fbfb5",
   "metadata": {
    "tags": [
     "playbook-introduction"
    ]
   },
   "source": [
    "# JARM fingerprint investigations with Censys, Shodan and MISP\n",
    "\n",
    "## Introduction\n",
    "\n",
    "- UUID: **2e8acabf-c0a8-4d7c-803b-5d2aa0ea4359**\n",
    "- Started from [issue 19](https://github.com/MISP/misp-playbooks/issues/19)\n",
    "- State: **Published**\n",
    "- Purpose: This playbook enables the investigation of JARM fingerprints which you can then use for threat actor infrastructure tracking. It verifies the existence of these fingerprints in MISP events and active OSINT feeds. The playbook then queries Censys and Shodan to identify hosts with services that match the fingerprints. The results are added to a MISP event as MISP objects and event reports. At the conclusion of the playbook, a summary is displayed and shared via Mattermost.\n",
    "- Tags: [ \"jarm\", \"fingerprint\", \"tls\", \"certificate\", \"censys\", \"shodan\", \"investigation\", \"infrastructure\"]\n",
    "- External resources: **Mattermost**, **Censys**, **Shodan**\n",
    "- Target audience: **CTI**\n",
    "\n",
    "[![](https://mermaid.ink/img/pako:eNqNVMFu2zAM_RVBQC5B_AM-DCjQHTI0XdH0FhUrY9G2VlkyJLpbEPjfJ8ux48QJsBwC6fGRjxRpHnlmJfKUJ0kiDCnSmLLNevvCag2HvbWfwkTTYnFURlHKjoLn2v7JSnAkeLyXVOkn2KP2HZCD9ti2rF0shBmp7OlVGBZ-Px5eN7vuj-XKFOhqpwz5996IX2hoF_XjMcC9wTf7wkFdxtx6QmadQw2krLlwn-KTULf4OaKc039u189v0XZTw8hzISxJ-tey-9-YkQ_3bye58TSNwSZ5RsZ1BkO9c8-O7ZuqAne4nfyccS2mjFQZkHV-9qz4l9AZ0LvvpwOTQMBqZ7-URDcUn6HxB_8LisJhAYTyApZIoPQA-tJKMFfg-HpDVuzhZR2TuxP6Hm8Iy-7QZupDyTOdc6cc1jYM9a2S7jd66nQl-n9OE2A6rj3yfjEQPTZv9Lmxl7ahyfEaTRVQ6G9lPV3YdoJ_PCrfffMjXZlxB3wIfhqAs3_nsu0SNZZU3smHIWRk2XK5GUnLZefKV7wKd1AyLJpjF0hwKrHCbl0ILjGHRodlIkwbqNCQ3R5MxlNyDa64s01R8jSulRVv6jCY-KggzG11Qtt_JVqhow?type=png)](https://mermaid.live/edit#pako:eNqNVMFu2zAM_RVBQC5B_AM-DCjQHTI0XdH0FhUrY9G2VlkyJLpbEPjfJ8ux48QJsBwC6fGRjxRpHnlmJfKUJ0kiDCnSmLLNevvCag2HvbWfwkTTYnFURlHKjoLn2v7JSnAkeLyXVOkn2KP2HZCD9ti2rF0shBmp7OlVGBZ-Px5eN7vuj-XKFOhqpwz5996IX2hoF_XjMcC9wTf7wkFdxtx6QmadQw2krLlwn-KTULf4OaKc039u189v0XZTw8hzISxJ-tey-9-YkQ_3bye58TSNwSZ5RsZ1BkO9c8-O7ZuqAne4nfyccS2mjFQZkHV-9qz4l9AZ0LvvpwOTQMBqZ7-URDcUn6HxB_8LisJhAYTyApZIoPQA-tJKMFfg-HpDVuzhZR2TuxP6Hm8Iy-7QZupDyTOdc6cc1jYM9a2S7jd66nQl-n9OE2A6rj3yfjEQPTZv9Lmxl7ahyfEaTRVQ6G9lPV3YdoJ_PCrfffMjXZlxB3wIfhqAs3_nsu0SNZZU3smHIWRk2XK5GUnLZefKV7wKd1AyLJpjF0hwKrHCbl0ILjGHRodlIkwbqNCQ3R5MxlNyDa64s01R8jSulRVv6jCY-KggzG11Qtt_JVqhow)"
   ]
  },
  {
   "cell_type": "raw",
   "id": "d5aa1137-6000-4553-a65d-841b149ae521",
   "metadata": {
    "tags": []
   },
   "source": [
    "---\n",
    "title: MISP playbook\n",
    "---\n",
    "%%{init: {\"flowchart\": {\"htmlLabels\": false}} }%%\n",
    "flowchart LR\n",
    "    JARM[JARM fingerprints]\n",
    "    event[MISP event]\n",
    "\n",
    "    subgraph MISP[MISP correlations]\n",
    "    eventcorrelations[MISP event correlations]\n",
    "    feedcorrelations[MISP OSINT feed correlations]\n",
    "    end\n",
    "    JARM -- MISP objects --> event --> eventcorrelations \n",
    "    event --> feedcorrelations\n",
    "\n",
    "    eventcorrelations --> summary\n",
    "    feedcorrelations --> summary\n",
    "    \n",
    "    event --> indicators\n",
    "\n",
    "    subgraph external[External data providers]\n",
    "    censys_aggregated\n",
    "    censys_detailed\n",
    "    shodan_detailed\n",
    "    end\n",
    "    event -- API --> censys_aggregated\n",
    "    event -- API --> censys_detailed \n",
    "    event -- API --> shodan_detailed\n",
    "\n",
    "\n",
    "    censys_aggregated --> eventreport\n",
    "    censys_detailed -- MISP objects --> eventreport\n",
    "    shodan_detailed -- MISP objects --> eventreport\n",
    "    eventreport[MISP event report]\n",
    "\n",
    "    eventreport --> summary\n",
    "    indicators --> summary\n",
    "\n",
    "    summary --> mattermost\n",
    "    summary[\"`Display summary in playbook`\"]\n",
    "    mattermost[\"`Sent notification to **Mattermost**`\"]"
   ]
  },
  {
   "cell_type": "markdown",
   "id": "a512a2c1",
   "metadata": {
    "jp-MarkdownHeadingCollapsed": true,
    "tags": []
   },
   "source": [
    "# Playbook\n",
    "\n",
    "- **JARM fingerprint investigations with Censys, Shodan and MISP**\n",
    "    - Introduction\n",
    "- **Preparation**\n",
    "    - PR:1 Initialise environment\n",
    "    - PR:2 Set helper variables\n",
    "    - PR:3 What are JARM fingerprints?\n",
    "    - PR:4 Create your own JARM fingerprint\n",
    "    - PR:5 Pivot points\n",
    "    - PR:6 Define JARM fingerprints\n",
    "    - PR:7 Create MISP event\n",
    "    - PR:8 Add JARM fingerprints to MISP\n",
    "- **Correlation**\n",
    "    - CR:1 Correlation with MISP events\n",
    "    - CR:2 Correlation with MISP feeds\n",
    "- **Investigation**\n",
    "    - IN:1 Investigate with aggregated information from Censys\n",
    "    - IN:2 Investigate with detailed information from Censys\n",
    "    - IN:3 Investigate with Shodan\n",
    "    - IN:4 Convert to MISP objects and build MISP event reports\n",
    "    - IN:5 Create MISP reports\n",
    "    - IN:6 Get the MISP indicators\n",
    "- **Closure**\n",
    "    - EN:1 Create the summary of the playbook \n",
    "    - EN:2 Print the summary\n",
    "    - EN:3 Send a summary to Mattermost\n",
    "    - EN:4 End of the playbook \n",
    "- External references\n",
    "- Technical details"
   ]
  },
  {
   "cell_type": "markdown",
   "id": "8dc24913",
   "metadata": {
    "tags": []
   },
   "source": [
    "# Preparation\n",
    "\n",
    "## PR:1 Initialise environment\n",
    "\n",
    "This section **initialises the playbook environment** and loads the required Python libraries. \n",
    "\n",
    "The credentials for MISP (**API key**) and other services are loaded from the file `keys.py` in the directory **vault**. A [PyMISP](https://github.com/MISP/PyMISP) object is created to interact with MISP and the active MISP server is displayed. By printing out the server name you know that it's possible to connect to MISP. In case of a problem PyMISP will indicate the error with `PyMISPError: Unable to connect to MISP`.\n",
    "\n",
    "The contents of the `keys.py` file should contain at least :\n",
    "\n",
    "```\n",
    "misp_url=\"<MISP URL>\"                  # The URL to our MISP server\n",
    "misp_key=\"<MISP API KEY>\"              # The MISP API key\n",
    "misp_verifycert=<True or False>        # Ignore certificate errors\n",
    "mattermost_playbook_user=\"<MATTERMOST USER>\"\n",
    "mattermost_hook=\"<MATTERMOST WEBHOOK>\"\n",
    "\n",
    "censys_api_id = \"<CENSYS_API_ID>\"      # Censys API information\n",
    "censys_api_secret = \"<CENSYS_API_SECRET>\" #\n",
    "shodan_apikey = \"<SHODAN_API_KEY>\"      # Shodan API information\n",
    "```"
   ]
  },
  {
   "cell_type": "code",
   "execution_count": null,
   "id": "5f94c336",
   "metadata": {
    "tags": []
   },
   "outputs": [],
   "source": [
    "# Initialise Python environment\n",
    "import urllib3\n",
    "import sys\n",
    "import json\n",
    "from pyfaup.faup import Faup\n",
    "from prettytable import PrettyTable, MARKDOWN\n",
    "from IPython.display import Image, display, display_markdown, HTML\n",
    "from datetime import date\n",
    "import requests\n",
    "import uuid\n",
    "from uuid import uuid4\n",
    "from pymisp import *\n",
    "from pymisp.tools import GenericObjectGenerator\n",
    "\n",
    "from censys.search import CensysHosts, SearchClient\n",
    "import shodan\n",
    "\n",
    "import re\n",
    "import time\n",
    "from datetime import datetime\n",
    "\n",
    "# Load the credentials\n",
    "sys.path.insert(0, \"../vault/\")\n",
    "from keys import *\n",
    "if misp_verifycert is False:\n",
    "    import urllib3\n",
    "    urllib3.disable_warnings(urllib3.exceptions.InsecureRequestWarning)\n",
    "print(\"The \\033[92mPython libraries\\033[90m are loaded and the \\033[92mcredentials\\033[90m are read from the keys file.\")\n",
    "\n",
    "# Create the PyMISP object\n",
    "misp = PyMISP(misp_url, misp_key, misp_verifycert)\n",
    "misp_headers = {\"Authorization\": misp_key,  \"Content-Type\": \"application/json\", \"Accept\": \"application/json\"}\n",
    "print(\"I will use the MISP server \\033[92m{}\\033[90m for this playbook.\".format(misp_url))\n",
    "\n",
    "censys_hosts = CensysHosts(censys_api_id, censys_api_secret)\n",
    "censys_search = SearchClient(censys_api_id, censys_api_secret)\n",
    "print(\"Created \\033[92mCensys\\033[90m host and search object.\")\n",
    "\n",
    "shodan_api = shodan.Shodan(shodan_apikey)\n",
    "print(\"Created \\033[92mShodan\\033[90m object.\")"
   ]
  },
  {
   "cell_type": "markdown",
   "id": "36d28445-dfa1-47ae-942e-16adb2111cc0",
   "metadata": {},
   "source": [
    "## PR:2 Set helper variables\n",
    "\n",
    "This cell contains **helper variables** that are used in this playbook. Their usage is explained in the next steps of the playbook.\n",
    "\n",
    "- `playbook_config` : the configuration of the playbook\n",
    "- `playbook_results` : the results of the playbook"
   ]
  },
  {
   "cell_type": "code",
   "execution_count": null,
   "id": "aa5409f6-d042-410f-9dc7-51500aae61c3",
   "metadata": {
    "tags": []
   },
   "outputs": [],
   "source": [
    "playbook_config = {\"correlation_published\": True,\n",
    "                   \"correlation_limit\": 1000,\n",
    "                   \"limit_country_code\": False,\n",
    "                   \"limit_asn\": False,\n",
    "                   \"censys_aggr_num_buckets\": 5,\n",
    "                   \"censys_results_per_page\": 10\n",
    "                    }\n",
    "\n",
    "playbook_results = {\"event\": None,\n",
    "                    \"eventid\": 0,\n",
    "                    }"
   ]
  },
  {
   "cell_type": "markdown",
   "id": "831f9fe9-c5fb-4132-9011-b17b9d2c932e",
   "metadata": {},
   "source": [
    "## PR:3 What are JARM fingerprints?\n",
    "\n",
    "[JARM](https://engineering.salesforce.com/easily-identify-malicious-servers-on-the-internet-with-jarm-e095edac525a) is a method of actively fingerprinting TLS servers, developed by Salesforce Engineering. It works by sending 10 TLS Client Hello packets to a server and analyzing specific attributes of the responses. These attributes are then aggregated and hashed into a unique JARM fingerprint, which is a 62-character string:\n",
    "\n",
    "- The first 30 characters represent the ciphers and TLS version chosen by the server.\n",
    "- The remaining 32 characters are based on the extensions sent by the server.\n",
    "\n",
    "It's important to understand that JARM **does not identify whether a server is malicious or not**; it simply identifies if a server's configuration matches a specific fingerprint. This makes JARM a powerful tool for tracking overlaps in infrastructure used by threat actors.\n",
    "\n",
    "## PR:4 Create your own JARM fingerprint\n",
    "\n",
    "You can use JARM fingerprints shared by the community or create your own. Note that creating a JARM fingerprint involves an **active** scan of a system, which may or may not be desirable depending on the actor you're tracking. You can create your own fingerprint using [PyJARM](https://github.com/PaloAltoNetworks/pyjarm).\n",
    "\n",
    "```bash\n",
    "$ pyjarm google.com\n",
    "Target: google.com:443\n",
    "JARM: 27d40d40d29d40d1dc42d43d00041d4689ee210389f4f6b4b5b1b93f92252d\n",
    "```\n",
    "\n",
    "## PR:5 Pivot points\n",
    "\n",
    "JARM fingerprints serve as excellent pivot points when investigating and tracking adversary infrastructure. For additional useful pivot points in your investigation, consider exploring [Pivot Atlas](https://gopivot.ing/artifacts/ip-address/#servers-with-same-fingerprint).\n",
    "\n",
    "## PR:6 Define JARM fingerprints\n",
    "\n",
    "In this playbook you have to **provide the fingerprints** in the variable `jarm_fingerprints`. It can either be a list or a single variable, the playbook will convert it to a list anyway."
   ]
  },
  {
   "cell_type": "code",
   "execution_count": null,
   "id": "6ab5e581-35c3-4597-9a1a-1f09f1accac5",
   "metadata": {
    "tags": []
   },
   "outputs": [],
   "source": [
    "jarm_fingerprints = [\"\"]\n",
    "\n",
    "# Always make sure jarm_fingerprint is a list\n",
    "if not isinstance(jarm_fingerprints, list):\n",
    "    jarm_fingerprints = [jarm_fingerprints]\n",
    "\n",
    "# Initialise the variables\n",
    "for jarm_fingerprint in jarm_fingerprints:\n",
    "    playbook_results[jarm_fingerprint] = {}\n",
    "    playbook_results[jarm_fingerprint][\"related_events\"] = []\n",
    "    playbook_results[jarm_fingerprint][\"related_feeds\"] = []\n",
    "\n",
    "    playbook_results[jarm_fingerprint][\"censys_detailed_results\"] = []\n",
    "    playbook_results[jarm_fingerprint][\"shodan_detailed_results\"] = []\n",
    "    playbook_results[jarm_fingerprint][\"aggr_md_report\"] = []\n",
    "    playbook_results[jarm_fingerprint][\"md_report\"] = []    \n",
    "    \n",
    "    playbook_results[jarm_fingerprint][\"country_list\"] = []\n",
    "    playbook_results[jarm_fingerprint][\"asn_list\"] = []\n",
    "    playbook_results[jarm_fingerprint][\"ip\"] = {}\n",
    "\n",
    "print(\"Continue the playbook with the investigation for the JARM fingerprint(s): \\033[92m{}\\033[90m.\".format(jarm_fingerprints))"
   ]
  },
  {
   "cell_type": "markdown",
   "id": "749b5560-91ec-470e-b5de-91e4c50a316d",
   "metadata": {},
   "source": [
    "## PR:7 Create MISP event\n",
    "\n",
    "The next cell **creates the MISP event** and stores the reference to the event in the variable `playbook_results[\"event\"]`. Note that instead of creating a new event, you can also reference an existing MISP event (with its UUID, and in this case, also update the eventid with the Event ID). "
   ]
  },
  {
   "cell_type": "code",
   "execution_count": null,
   "id": "583a9944-cb3d-4c95-a1d9-7e1d4df5142d",
   "metadata": {
    "tags": []
   },
   "outputs": [],
   "source": [
    "# Create the PyMISP object for an event\n",
    "event = MISPEvent()\n",
    "more_fingerprints = \"\"\n",
    "if len(jarm_fingerprints) > 1:\n",
    "    more_fingerprints = \" and more ...\"\n",
    "event.info = \"JARM investigation - {}{}\".format(jarm_fingerprints[0], more_fingerprints)\n",
    "event.distribution = Distribution.your_organisation_only\n",
    "event.threat_level_id = ThreatLevel.low\n",
    "event.analysis = Analysis.ongoing\n",
    "event.set_date(date.today())\n",
    "\n",
    "# Create the MISP event on the server side\n",
    "misp_event = misp.add_event(event, pythonify=True)\n",
    "playbook_results[\"event\"] = misp_event.uuid\n",
    "playbook_results[\"eventid\"] = misp_event.id\n",
    "\n",
    "# Add default tags for the event\n",
    "misp.tag(playbook_results[\"event\"], \"tlp:amber\")\n",
    "misp.tag(playbook_results[\"event\"], \"workflow:state=\\\"incomplete\\\"\", local=True)\n",
    "misp.tag(playbook_results[\"event\"], \"cycat:type=\\\"fingerprint\\\"\", local=True)\n",
    "\n",
    "print(\"Continue the playbook with the new MISP event ID \\033[92m{}\\033[90m with title \\033[92m{}\\033[90m and UUID \\033[92m{}\\033[90m.\".format(misp_event.id, misp_event.info, playbook_results[\"event\"]))"
   ]
  },
  {
   "cell_type": "markdown",
   "id": "df8cd36b-2817-48a5-b7ca-d9e10c8317f2",
   "metadata": {},
   "source": [
    "## PR:8 Add JARM fingerprints to MISP\n",
    "\n",
    "The next step is to add the JARM fingerprint(s) that under investigation as a MISP object. MISP contains the object [JARM](https://github.com/MISP/misp-objects/blob/main/objects/jarm/definition.json) and we'll use that as the base container for the JARM fingerprints."
   ]
  },
  {
   "cell_type": "code",
   "execution_count": null,
   "id": "48bff060-aad0-4fab-90ba-f6c1dd02eed1",
   "metadata": {
    "tags": []
   },
   "outputs": [],
   "source": [
    "print(\"Adding JARM fingerprints as MISP objects.\")\n",
    "for jarm_fingerprint in jarm_fingerprints:\n",
    "    jarm_object = MISPObject(\"jarm\")\n",
    "    jarm_object.add_attribute(\"jarm\", jarm_fingerprint, comment=\"From playbook\")\n",
    "    playbook_results[jarm_fingerprint][\"object\"] = misp.add_object(playbook_results[\"event\"], jarm_object, pythonify=True)\n",
    "    print(\"   Added JARM object with UUID \\033[92m{}\\033[90m\".format(playbook_results[jarm_fingerprint][\"object\"].uuid))"
   ]
  },
  {
   "cell_type": "markdown",
   "id": "06259b27-fc1b-4b48-86a8-688823b1df8c",
   "metadata": {},
   "source": [
    "# Correlation\n",
    "\n",
    "## CR:1 Correlation with MISP events\n",
    "\n",
    "When the fingerprint is added to MISP it will immediately show the related events and OSINT feed matches in the web interface. We also want that information to be included in the playbook results and summary. \n",
    "\n",
    "Only published events (`correlation_published`) are take into account. There is a default limit of 1000 hits (`correlation_limit`)."
   ]
  },
  {
   "cell_type": "code",
   "execution_count": null,
   "id": "d2ab7e37-d27d-409c-8c98-2cb2506a2fb4",
   "metadata": {
    "tags": []
   },
   "outputs": [],
   "source": [
    "# Code block to query MISP and find the correlations\n",
    "for jarm_fingerprint in jarm_fingerprints:\n",
    "    search_match = misp.search(\"events\", value=jarm_fingerprint, published=playbook_config[\"correlation_published\"],\n",
    "                                        limit=playbook_config[\"correlation_limit\"], pythonify=True)\n",
    "    if len(search_match) > 0:\n",
    "        for event in search_match:\n",
    "            if event.uuid != playbook_results[\"event\"]:   # Skip the event we just created for this playbook\n",
    "                print(\"Found match for {} in \\033[92m{}\\033[90m in \\033[92m{}\\033[90m\".format(jarm_fingerprint, event.id, event.info))\n",
    "                entry = {\"source\": \"MISP\", \"org\": event.org.name, \"event_id\": event.id, \"event_info\": event.info,\n",
    "                                     \"date\": event.date, \"fingerprint\": jarm_fingerprint}\n",
    "                playbook_results[jarm_fingerprint][\"related_events\"].append(entry)\n",
    "    else:\n",
    "        print(\"\\033[93mNo correlating MISP events\\033[90m found for {}.\".format(jarm_fingerprint))\n",
    "print(\"Finished correlating with MISP events.\\n\\n\")"
   ]
  },
  {
   "cell_type": "markdown",
   "id": "0fd9fe24-f8be-4691-a26d-dc1d1140a73c",
   "metadata": {},
   "source": [
    "### MISP events correlation table\n",
    "\n",
    "The correlation results are now stored in `playbook_results`. Execute the next cell to display them in a table format. The table is also included in the summary for Mattermost."
   ]
  },
  {
   "cell_type": "code",
   "execution_count": null,
   "id": "b62d0cf8-548e-4da4-8b6e-f58e5e2b1076",
   "metadata": {
    "tags": []
   },
   "outputs": [],
   "source": [
    "# Put the correlations in a pretty table. We can use this table later also for the summary\n",
    "table = PrettyTable()\n",
    "table.field_names = [\"Source\", \"Value\", \"Event\", \"Event ID\"]\n",
    "table.align[\"Value\"] = \"l\"\n",
    "table.align[\"Event\"] = \"l\"\n",
    "table.align[\"Event ID\"] = \"l\"\n",
    "table._max_width = {\"Event\": 50}\n",
    "for jarm_fingerprint in jarm_fingerprints:\n",
    "    for match in playbook_results[jarm_fingerprint][\"related_events\"]:\n",
    "        table.add_row([match[\"source\"], jarm_fingerprint, match[\"event_info\"], match[\"event_id\"]])\n",
    "print(table.get_string(sortby=\"Value\"))\n",
    "table_mispevents = table"
   ]
  },
  {
   "cell_type": "markdown",
   "id": "15bd9018-d637-4055-a41d-bf77613cd4a4",
   "metadata": {},
   "source": [
    "## CR:2 Correlation with MISP feeds\n",
    "\n",
    "Search the MISP feeds for events that match with one of the fingerprints you specified earlier. The results highly depend on the feeds you have enabled. "
   ]
  },
  {
   "cell_type": "code",
   "execution_count": null,
   "id": "c3421605-9cd9-4420-8f48-44bf73338902",
   "metadata": {
    "tags": []
   },
   "outputs": [],
   "source": [
    "print(\"Search in MISP feeds.\")\n",
    "misp_cache_url = \"{}/feeds/searchCaches/\".format(misp_url)\n",
    "match = False\n",
    "for jarm_fingerprint in jarm_fingerprints:\n",
    "    # Instead of GET, use POST (https://github.com/MISP/MISP/issues/7478)\n",
    "    cache_results = requests.post(misp_cache_url, headers=misp_headers, verify=misp_verifycert, json={\"value\": jarm_fingerprint})\n",
    "    for result in cache_results.json():\n",
    "        if \"Feed\" in result:\n",
    "            match = True\n",
    "            print(\" Found \\033[92m{}\\033[90m in \\033[92m{}\\033[90m.\".format(jarm_fingerprint, result[\"Feed\"][\"name\"]))\n",
    "            for match in result[\"Feed\"][\"direct_urls\"]:\n",
    "                entry = {\"source\": \"Feeds\", \"feed_name\": result[\"Feed\"][\"name\"], \"match_url\": match[\"url\"], \"fingerprint\": jarm_fingerprint}\n",
    "                playbook_results[jarm_fingerprint][\"related_feeds\"].append(entry)\n",
    "\n",
    "print(\"Finished searching in MISP feeds.\")\n",
    "if not match:\n",
    "    print(\"\\033[93mNo correlating information found in MISP feeds.\")"
   ]
  },
  {
   "cell_type": "markdown",
   "id": "ef50b45a-e9fc-4139-8ba8-e28ac819f45a",
   "metadata": {},
   "source": [
    "### MISP feed correlations table\n",
    "\n",
    "The correlation results are now stored in `playbook_results`. Execute the next cell to display them in a table format. The table is also included in the summary for Mattermost."
   ]
  },
  {
   "cell_type": "code",
   "execution_count": null,
   "id": "fee0ffce-105d-4f04-9d88-4d0a12fabd0a",
   "metadata": {
    "tags": []
   },
   "outputs": [],
   "source": [
    "# Put the correlations in a pretty table. We can use this table later also for the summary\n",
    "table = PrettyTable()\n",
    "table.field_names = [\"Source\", \"Value\", \"Feed\", \"Feed URL\"]\n",
    "table.align[\"Value\"] = \"l\"\n",
    "table.align[\"Feed\"] = \"l\"\n",
    "table.align[\"Feed URL\"] = \"l\"\n",
    "table._max_width = {\"Event\": 50}\n",
    "for jarm_fingerprint in jarm_fingerprints:\n",
    "    for match in playbook_results[jarm_fingerprint][\"related_feeds\"]:\n",
    "        table.add_row([match[\"source\"], jarm_fingerprint, match[\"feed_name\"], match[\"match_url\"]])\n",
    "print(table.get_string(sortby=\"Value\"))\n",
    "table_mispfeeds = table"
   ]
  },
  {
   "cell_type": "markdown",
   "id": "b0a2be87-d376-4a2c-8172-a3026e054491",
   "metadata": {},
   "source": [
    "# Investigate\n",
    "\n",
    "## IN:1 Investigate with aggregated information from Censys\n",
    "\n",
    "Next, we use [Censys](https://censys.com/) to identify hosts related to the JARM fingerprint.\n",
    "\n",
    "Censys will return the hosts that have at least one service running with a corresponding JARM fingerprint. Unfortunately, the API does not immediately highlight which service has the corresponding fingerprint. Nevertheless, the exposed services, and especially the **associated hostnames**, are useful pivot points.\n",
    "\n",
    "We first query Censys for **aggregated** information, and then we do a second query for more **detailed** information.\n",
    "\n",
    "In this playbook we **focus our investigation of the infrastructure** on \n",
    "- A specific country, defined in `playbook_config[\"limit_country_code\"]`, and\n",
    "- A specific ASN network, defined in `playbook_config[\"limit_asn\"]`."
   ]
  },
  {
   "cell_type": "code",
   "execution_count": null,
   "id": "882ab04b-8240-494f-8ca2-9e9cbb8507f0",
   "metadata": {
    "tags": []
   },
   "outputs": [],
   "source": [
    "print(\"Querying Censys for aggregated information.\")\n",
    "for jarm_fingerprint in jarm_fingerprints:\n",
    "    summary_iv = \"\"\n",
    "    print(\"Working with \\033[92m{}\\033[90m.\".format(jarm_fingerprint))\n",
    "    summary_iv += \"## {}\\n\\n\".format(jarm_fingerprint)\n",
    "\n",
    "    # Get total results\n",
    "    playbook_results[jarm_fingerprint][\"censys_aggr\"] = censys_search.v2.hosts.aggregate(\n",
    "        f\"services.jarm.fingerprint: {jarm_fingerprint}\", \"services.port\", num_buckets=playbook_config[\"censys_aggr_num_buckets\"])\n",
    "    if \"total\" in playbook_results[jarm_fingerprint][\"censys_aggr\"]:\n",
    "        print(\"  Got \\033[92m{}\\033[90m results.\".format(playbook_results[jarm_fingerprint][\"censys_aggr\"][\"total\"]))\n",
    "        summary_iv += \"Received **{}** results\\n\\n### Ports\\n\".format(playbook_results[jarm_fingerprint][\"censys_aggr\"][\"total\"])\n",
    "        for bucket in playbook_results[jarm_fingerprint][\"censys_aggr\"][\"buckets\"]:\n",
    "            print(\"   Port: {}: {}\".format(bucket[\"key\"], bucket[\"count\"]))\n",
    "            summary_iv += \"- **{}**: {} records\\n\".format(bucket[\"key\"], bucket[\"count\"])\n",
    "        summary_iv += \"\\n\"\n",
    "\n",
    "        # Country code\n",
    "        if playbook_config[\"limit_country_code\"]:\n",
    "            print(\" Aggregating on country_code \\033[92m{}\\033[90m.\".format(playbook_config[\"limit_country_code\"]))\n",
    "            summary_iv += \"## {} aggregated on country code {}\\n\\n\".format(jarm_fingerprint, playbook_config[\"limit_country_code\"])\n",
    "            censys_aggregate_filter = \"(services.jarm.fingerprint: {}) AND (location.country_code: {})\".format(jarm_fingerprint, playbook_config[\"limit_country_code\"])\n",
    "            summary_iv += \"Filter: `{}`\\n\\n\".format(censys_aggregate_filter)\n",
    "            playbook_results[jarm_fingerprint][\"censys_aggr_country\"] = censys_search.v2.hosts.aggregate(\n",
    "                censys_aggregate_filter, \"services.port\", num_buckets=playbook_config[\"censys_aggr_num_buckets\"])\n",
    "            print(\"  Got \\033[92m{}\\033[90m results.\".format(playbook_results[jarm_fingerprint][\"censys_aggr_country\"][\"total\"]))\n",
    "            summary_iv += \"Received **{}** results\\n\\n### Ports\\n\".format(playbook_results[jarm_fingerprint][\"censys_aggr_country\"][\"total\"])\n",
    "            for bucket in playbook_results[jarm_fingerprint][\"censys_aggr_country\"][\"buckets\"]:\n",
    "                print(\"   Port: {}: {}\".format(bucket[\"key\"], bucket[\"count\"]))\n",
    "                summary_iv += \"- **{}**: {} records\\n\".format(bucket[\"key\"], bucket[\"count\"])\n",
    "            summary_iv += \"\\n\"\n",
    "\n",
    "        # ASN\n",
    "        if playbook_config[\"limit_asn\"]:\n",
    "            print(\" Aggregating on ASN \\033[92m{}\\033[90m.\".format(playbook_config[\"limit_asn\"]))\n",
    "            summary_iv += \"## {} aggregated on ASN {}\\n\\n\".format(jarm_fingerprint, playbook_config[\"limit_asn\"])\n",
    "            censys_aggregate_filter = \"(services.jarm.fingerprint: {}) AND (autonomous_system.asn: {})\".format(jarm_fingerprint, playbook_config[\"limit_asn\"])\n",
    "            summary_iv += \"Filter: `{}`\\n\\n\".format(censys_aggregate_filter)\n",
    "            playbook_results[jarm_fingerprint][\"limit_asn\"] = censys_search.v2.hosts.aggregate(\n",
    "                censys_aggregate_filter, \"services.port\", num_buckets=playbook_config[\"censys_aggr_num_buckets\"])\n",
    "            print(\"  Got \\033[92m{}\\033[90m results.\".format(playbook_results[jarm_fingerprint][\"limit_asn\"][\"total\"]))\n",
    "            summary_iv += \"Received **{}** results\\n\\n### Ports\\n\".format(playbook_results[jarm_fingerprint][\"limit_asn\"][\"total\"])\n",
    "            for bucket in playbook_results[jarm_fingerprint][\"limit_asn\"][\"buckets\"]:\n",
    "                print(\"   Port: {}: {}\".format(bucket[\"key\"], bucket[\"count\"]))\n",
    "                summary_iv += \"- **{}**: {} records\\n\".format(bucket[\"key\"], bucket[\"count\"])\n",
    "            summary_iv += \"\\n\"\n",
    "\n",
    "        playbook_results[jarm_fingerprint][\"censys_aggr_md_report\"] = summary_iv\n",
    "print(\"Finished Censys.\\n\")"
   ]
  },
  {
   "cell_type": "markdown",
   "id": "edbc3d29-7302-4a94-a3e0-2f783e4baab0",
   "metadata": {},
   "source": [
    "## IN:2 Investigate with detailed information from Censys\n",
    "\n",
    "The second step of the investigation involves querying detailed information for hosts identified by Censys as having the matching JARM fingerprint. Note that this detailed investigation returns **all exposed services**, regardless of their association with the JARM fingerprint. As an analyst, you will need to manually review which services match. The investigation results from Shodan can assist you in this step."
   ]
  },
  {
   "cell_type": "code",
   "execution_count": null,
   "id": "03082ab4-1873-4f59-89ed-7821e74c4f1b",
   "metadata": {
    "tags": []
   },
   "outputs": [],
   "source": [
    "print(\"Querying Censys for detailed information.\")\n",
    "for jarm_fingerprint in jarm_fingerprints:\n",
    "    print(\"Working with \\033[92m{}\\033[90m.\".format(jarm_fingerprint))\n",
    "    censys_filters = []\n",
    "    if playbook_config[\"limit_country_code\"]:\n",
    "        censys_filters.append(\"(location.country_code: {})\".format(playbook_config[\"limit_country_code\"]))\n",
    "    if playbook_config[\"limit_asn\"]:\n",
    "        censys_filters.append(\"(autonomous_system.asn: {})\".format(playbook_config[\"limit_asn\"]))\n",
    "    if censys_filters:\n",
    "        censys_detailed_filter = \"(services.jarm.fingerprint: {}) AND ({})\".format(\n",
    "            jarm_fingerprint, \" AND \".join(censys_filters))\n",
    "    else:\n",
    "        censys_detailed_filter = \"(services.jarm.fingerprint: {})\".format(jarm_fingerprint)\n",
    "\n",
    "    print(\" Censys JARM query: {}\".format(censys_detailed_filter))\n",
    "    censys_query = censys_hosts.search(censys_detailed_filter, per_page=playbook_config[\"censys_results_per_page\"])\n",
    "\n",
    "    for result in censys_query():\n",
    "        entry = {\"ip\": result.get(\"ip\", \"\"),\n",
    "                 \"country_code\": result.get(\"location\", {}).get(\"country_code\", \"\"),\n",
    "                 \"country\": result.get(\"location\", {}).get(\"country\", \"\"),\n",
    "                 \"asn\": result.get(\"autonomous_system\", []).get(\"asn\", 0),\n",
    "                 \"last_updated_at\": result.get(\"last_updated_at\", \"\"),\n",
    "                 \"dns\": result.get(\"dns\", {}).get(\"reverse_dns\", []),\n",
    "                 \"services\": result.get(\"services\", {})}\n",
    "        playbook_results[jarm_fingerprint][\"censys_detailed_results\"].append(entry)\n",
    "        print(\"  Got entry at \\033[92m{}\\033[90m, last updated at {}\".format(entry[\"ip\"], entry[\"last_updated_at\"]))\n",
    "\n",
    "print(\"\\nFinished Censys.\\n\")"
   ]
  },
  {
   "cell_type": "markdown",
   "id": "b282cfb5-867a-43d7-9134-e0ad68b90980",
   "metadata": {},
   "source": [
    "## IN:3 Investigate with Shodan\n",
    "\n",
    "We also query Shodan using a similar query. Unlike Censys, the Shodan API highlights the service associated with the JARM fingerprint. This information is included in the MISP objects and event report. However, the Shodan query only returns services matching the fingerprint, excluding any other exposed services on the host."
   ]
  },
  {
   "cell_type": "code",
   "execution_count": null,
   "id": "16534ed6-d553-49a8-a8e7-1dec2b2c49f7",
   "metadata": {
    "tags": []
   },
   "outputs": [],
   "source": [
    "print(\"Query Shodan.\")\n",
    "for jarm_fingerprint in jarm_fingerprints:\n",
    "\n",
    "    shodan_country_filter = \"\"\n",
    "    shodan_asn_filter = \"\"\n",
    "    if playbook_config[\"limit_country_code\"]:\n",
    "        shodan_country_filter = \"+country:{}\".format(playbook_config[\"limit_country_code\"])\n",
    "    if playbook_config[\"limit_asn\"]:\n",
    "        shodan_asn_filter = \"+asn:as{}\".format(playbook_config[\"limit_asn\"])\n",
    "    shodan_filter = \"ssl.jarm:{}{}{}\".format(jarm_fingerprint, shodan_country_filter, shodan_asn_filter)\n",
    "\n",
    "    print(\"Working with \\033[92m{}\\033[90m.\".format(jarm_fingerprint))\n",
    "    print(\" Shodan JARM query: {}\".format(shodan_filter))\n",
    "\n",
    "    results = shodan_api.search(shodan_filter)\n",
    "    observed_ips = []\n",
    "    observed_hostnames = []\n",
    "    for result in results['matches']:\n",
    "        dns = []\n",
    "        hostnames = result.get(\"hostnames\", [])\n",
    "        for hostname in hostnames:\n",
    "            if hostname not in dns:\n",
    "                dns.append(hostname)\n",
    "        domains = result.get(\"hostnames\", [])\n",
    "        for domain in domains:\n",
    "            if domain not in dns:\n",
    "                dns.append(domain)\n",
    "        entry = {\"ip\": result.get(\"ip_str\", \"\"),\n",
    "                 \"last_update\": result.get(\"last_update\", \"\"),\n",
    "                 \"asn\": result.get(\"asn\", \"\"),\n",
    "                 \"country\": result.get(\"country_name\", \"\"),\n",
    "                 \"dns\": dns,\n",
    "                 \"service\": result.get(\"port\", \"\")}\n",
    "        observed_ips.append(entry[\"ip\"])\n",
    "        observed_hostnames = observed_hostnames + dns\n",
    "        playbook_results[jarm_fingerprint][\"shodan_detailed_results\"].append(entry)\n",
    "        print(\"  Got entry at \\033[92m{}\\033[90m\".format(entry[\"ip\"]))\n",
    "\n",
    "    summary_iv = playbook_results[jarm_fingerprint][\"censys_aggr_md_report\"]\n",
    "    summary_iv += \"## Shodan investigation\\n\"\n",
    "    summary_iv += \"Filter: `{}`\\n\\n\".format(shodan_filter)\n",
    "    summary_iv += \"- Received **{}** results.\\n\".format(len(results['matches']))\n",
    "    summary_iv += \"- Observed IPs: **{}**\\n\".format(list(set(observed_ips)))\n",
    "    summary_iv += \"- Observed hostnames: **{}**\\n\".format(list(set(observed_hostnames)))\n",
    "    summary_iv += \"\\n\\n\"\n",
    "    playbook_results[jarm_fingerprint][\"aggr_md_report\"] = summary_iv\n",
    "print(\"\\nFinished Shodan.\\n\")"
   ]
  },
  {
   "cell_type": "markdown",
   "id": "acff1d17-8f16-47a0-baba-272328d20fc2",
   "metadata": {},
   "source": [
    "## IN:4 Convert to MISP objects and build MISP event reports\n",
    "\n",
    "With all the information gathered from external providers, we convert it into **MISP objects**. These objects are then linked to the existing JARM MISP objects. Additionally, we build **MISP event reports**. These reports facilitate sharing clear and readable information with our peers."
   ]
  },
  {
   "cell_type": "code",
   "execution_count": null,
   "id": "43599104-0a9e-4c3a-a43b-53e2c6795840",
   "metadata": {
    "tags": []
   },
   "outputs": [],
   "source": [
    "print(\"Building MISP objects and event reports.\")\n",
    "for jarm_fingerprint in jarm_fingerprints:\n",
    "    summary_iv = \"## {}\\n\\n\".format(jarm_fingerprint)\n",
    "    censys_detailed_results = playbook_results[jarm_fingerprint][\"censys_detailed_results\"]\n",
    "\n",
    "    jarm_fingerprint_object = misp.get_object(playbook_results[jarm_fingerprint][\"object\"].uuid, pythonify=True)\n",
    "    for result in censys_detailed_results:\n",
    "        summary_iv += \"### {}\\n\".format(result[\"ip\"])\n",
    "        summary_iv += \"- Last updated by Censys: {}\\n\".format(result[\"last_updated_at\"])\n",
    "        summary_iv += \"- Censys results are capped at {} entries.\\n\".format(playbook_config[\"censys_results_per_page\"])\n",
    "        summary_iv += \"- Location: **{}** {}\\n\".format(result[\"country\"], result[\"country_code\"])\n",
    "        summary_iv += \"- ASN: **{}**\\n\".format(result[\"asn\"])\n",
    "\n",
    "        local_hostnames = []\n",
    "        local_hostnames_md = \"\"\n",
    "        local_services = []\n",
    "        local_services_md = \"\"\n",
    "\n",
    "        ip_port = MISPObject(\"ip-port\")\n",
    "        ip_port.add_attribute(\"ip\", result[\"ip\"])\n",
    "\n",
    "        for service in result[\"services\"]:\n",
    "            ip_port.add_attribute(\"src-port\", service[\"port\"])\n",
    "            if service[\"port\"] not in local_services:\n",
    "                local_services.append(service[\"port\"])\n",
    "                local_services_md += \" - **{}** ({}, from Censys)\\n\".format(service[\"port\"], service[\"service_name\"])\n",
    "   \n",
    "        if \"names\" in result[\"dns\"] and len(result[\"dns\"][\"names\"]) > 0:\n",
    "            for name in result[\"dns\"][\"names\"]:\n",
    "                ip_port.add_attribute(\"hostname\", name)\n",
    "                if name not in local_hostnames:\n",
    "                    local_hostnames.append(name)\n",
    "                    local_hostnames_md += \" - **{}** (from Censys)\\n\".format(name)\n",
    "\n",
    "        # Check if there are results from Shodan\n",
    "        for shodan in playbook_results[jarm_fingerprint][\"shodan_detailed_results\"]:\n",
    "            if shodan[\"ip\"] == result[\"ip\"]:\n",
    "                for name in shodan[\"dns\"]:\n",
    "                    if name not in local_hostnames:\n",
    "                        ip_port.add_attribute(\"hostname\", name, comment=\"From Shodan\")\n",
    "                        local_hostnames.append(name)\n",
    "                        local_hostnames_md += \" - **{}** (from Shodan)\\n\".format(name)\n",
    "\n",
    "                # Always add the service to MISP as this is where Shodan matches on\n",
    "                ip_port.add_attribute(\"src-port\", shodan[\"service\"], comment=\"From Shodan (matching JARM)\")\n",
    "                if shodan[\"service\"] not in local_services:\n",
    "                    local_services.append(shodan[\"service\"])\n",
    "                local_services_md += \" - **{}** (matching JARM, from Shodan)\\n\".format(shodan[\"service\"])\n",
    "\n",
    "        created_object = misp.add_object(playbook_results[\"event\"], ip_port, pythonify=True)\n",
    "        playbook_results[jarm_fingerprint][\"ip\"][result[\"ip\"]] = created_object.uuid\n",
    "        misp.add_object_reference(jarm_fingerprint_object.add_reference(ip_port.uuid, \"related-to\"))\n",
    "        print(\"  Added ip-port object for {}\".format(result[\"ip\"]))\n",
    "\n",
    "        summary_iv += \"\\n#### Hostnames\\n\"\n",
    "        summary_iv += local_hostnames_md\n",
    "        summary_iv += \"\\n\\n\"\n",
    "        summary_iv += \"\\n#### Ports\\n\"\n",
    "        summary_iv += local_services_md\n",
    "        summary_iv += \"\\n\\n\"\n",
    "\n",
    "        if result[\"asn\"] > 0 and result[\"asn\"] not in playbook_results[jarm_fingerprint][\"asn_list\"]:\n",
    "            asn_object = MISPObject(\"asn\")\n",
    "            asn_object.add_attribute(\"asn\", result[\"asn\"])\n",
    "            created_object = misp.add_object(playbook_results[\"event\"], asn_object, pythonify=True)\n",
    "            misp.add_object_reference(jarm_fingerprint_object.add_reference(asn_object.uuid, \"located-at\"))\n",
    "            playbook_results[jarm_fingerprint][\"asn_list\"].append(result[\"asn\"])\n",
    "            print(\"  Added ASN object for {}\".format(result[\"asn\"]))\n",
    "        if len(result[\"country\"]) > 0 and len(result[\"country_code\"]) and result[\"country\"] not in playbook_results[jarm_fingerprint][\"country_list\"]:\n",
    "            geolocation_object = MISPObject(\"geolocation\")\n",
    "            geolocation_object.add_attribute(\"country\", result[\"country\"])\n",
    "            geolocation_object.add_attribute(\"countrycode\", result[\"country_code\"])\n",
    "            created_object = misp.add_object(playbook_results[\"event\"], geolocation_object, pythonify=True)\n",
    "            misp.add_object_reference(jarm_fingerprint_object.add_reference(geolocation_object.uuid, \"located-at\"))\n",
    "            playbook_results[jarm_fingerprint][\"country_list\"].append(result[\"country\"])\n",
    "            print(\"  Added geolocation object for {}\".format(result[\"country\"]))\n",
    "\n",
    "        playbook_results[jarm_fingerprint][\"md_report\"] = summary_iv\n",
    "print(\"Finished.\\n\")"
   ]
  },
  {
   "cell_type": "markdown",
   "id": "e88e76e8-d8c0-4920-816e-814f36b158dd",
   "metadata": {},
   "source": [
    "## IN:5 Create MISP reports\n",
    "\n",
    "After creating the MISP reports, it's time to add them to our MISP event."
   ]
  },
  {
   "cell_type": "code",
   "execution_count": null,
   "id": "88cba4d1-7b91-433a-8085-bdea492f4995",
   "metadata": {
    "tags": []
   },
   "outputs": [],
   "source": [
    "print(\"Creating MISP event reports.\")\n",
    "for jarm_fingerprint in jarm_fingerprints:\n",
    "    summary_iv = playbook_results[jarm_fingerprint][\"aggr_md_report\"]\n",
    "    event_title = \"Aggregated investigation for {}\".format(jarm_fingerprint)\n",
    "    print(\" MISP report \\033[92m{}\\033[90m\".format(event_title))\n",
    "    chunk_size = 61500\n",
    "    for i in range(0, len(summary_iv), chunk_size):\n",
    "        chunk = summary_iv[i:i + chunk_size]\n",
    "        event_report = MISPEventReport()\n",
    "        event_title_edit = event_title\n",
    "        if i > 0:\n",
    "            event_title_edit = \"{} ({} > {})\".format(event_title, i, i + chunk_size)\n",
    "        event_report.name = event_title_edit\n",
    "        event_report.content = chunk\n",
    "        result = misp.add_event_report(playbook_results[\"eventid\"], event_report)\n",
    "        if \"EventReport\" in result:\n",
    "            print(\" Report ID: \\033[92m{}\\033[90m\".format(result.get(\"EventReport\", []).get(\"id\", 0)))\n",
    "        else:\n",
    "            print(\" Failed to create report for \\033[91m{}\\033[90m.\".format(event_title))\n",
    "\n",
    "    summary_iv = playbook_results[jarm_fingerprint][\"md_report\"]\n",
    "    event_title = \"Detailed investigation for {}\".format(jarm_fingerprint)\n",
    "    print(\" MISP report \\033[92m{}\\033[90m\".format(event_title))\n",
    "    chunk_size = 61500\n",
    "    for i in range(0, len(summary_iv), chunk_size):\n",
    "        chunk = summary_iv[i:i + chunk_size]\n",
    "        event_report = MISPEventReport()\n",
    "        event_title_edit = event_title\n",
    "        if i > 0:\n",
    "            event_title_edit = \"{} ({} > {})\".format(event_title, i, i + chunk_size)\n",
    "        event_report.name = event_title_edit\n",
    "        event_report.content = chunk\n",
    "        result = misp.add_event_report(playbook_results[\"eventid\"], event_report)\n",
    "        if \"EventReport\" in result:\n",
    "            print(\" Report ID: \\033[92m{}\\033[90m\".format(result.get(\"EventReport\", []).get(\"id\", 0)))\n",
    "        else:\n",
    "            print(\" Failed to create report for \\033[91m{}\\033[90m.\".format(event_title))\n",
    "print(\"Finished.\\n\")"
   ]
  },
  {
   "cell_type": "markdown",
   "id": "661ca494-ea6e-4e9c-a8bb-a3bca595504e",
   "metadata": {},
   "source": [
    "## IN:6 Get the MISP indicators\n",
    "\n",
    "As one of the final steps in our investigation, we list the indicators obtained during the JARM fingerprint analysis. Note that these indicators should not be used immediately for blocking or logging purposes but serve as excellent sources for further pivoting."
   ]
  },
  {
   "cell_type": "code",
   "execution_count": null,
   "id": "40ec4196-822e-4806-b7e9-5ed0ff073836",
   "metadata": {
    "tags": []
   },
   "outputs": [],
   "source": [
    "print(\"Searching for MISP indicators in event {} - {}.\".format(playbook_results[\"event\"], playbook_results[\"eventid\"]))\n",
    "misp_indicators = misp.search(\"attributes\", eventid=playbook_results[\"eventid\"], to_ids=1, pythonify=True)\n",
    "result = {}\n",
    "if len(misp_indicators) > 0:\n",
    "    for indicator in misp_indicators:\n",
    "        z = indicator.type\n",
    "        if indicator.type == \"jarm-fingerprint\":\n",
    "            continue\n",
    "        if not indicator.type in result:\n",
    "            result[indicator.type] = []\n",
    "        if indicator.value not in result[indicator.type]:\n",
    "            result[indicator.type].append(indicator.value)\n",
    "            print(\" Indicator \\033[92m{}\\033[90m ({})\".format(indicator.value, indicator.type))\n",
    "\n",
    "    for indicator_type in result:\n",
    "        result[indicator_type] = sorted(result[indicator_type])\n",
    "\n",
    "print(\"Finished searching.\\n\")\n",
    "\n",
    "table_mispindicators = \"\"\n",
    "if len(result) > 0:\n",
    "    # Put the indicators in a pretty table. We can use this table later also for the summary\n",
    "    table = PrettyTable()\n",
    "    table.field_names = [\"Event ID\", \"Value\", \"Type\"]\n",
    "    table.align[\"Value\"] = \"l\"\n",
    "    table.align[\"Type\"] = \"l\"\n",
    "    for key in result:\n",
    "        for value in result[key]:\n",
    "            table.add_row([playbook_results[\"eventid\"], value, key])\n",
    "    print(table.get_string(sortby=\"Type\"))\n",
    "    table_mispindicators = table"
   ]
  },
  {
   "cell_type": "markdown",
   "id": "70dea5ca",
   "metadata": {},
   "source": [
    "# Closure\n",
    "\n",
    "In this **closure** or end step we create a **summary** of the actions that were performed by the playbook. The summary is printed and can also be send to a chat channel. "
   ]
  },
  {
   "cell_type": "markdown",
   "id": "75b87ba6-19cc-4127-9299-480f708a61ff",
   "metadata": {},
   "source": [
    "## EN:1 Create the summary of the playbook \n",
    "\n",
    "The next section creates a summary and stores the output in the variable `summary` in Markdown format. It also stores an intro text in the variable `intro`. These variables can later be used when sending information to Mattermost or TheHive."
   ]
  },
  {
   "cell_type": "code",
   "execution_count": null,
   "id": "12561137-e759-440b-9d21-dc6def901cbc",
   "metadata": {
    "tags": []
   },
   "outputs": [],
   "source": [
    "summary = \"# MISP Playbook summary\\nJARM fingerprint investigations with Censys, Shodan and MISP \\n\\n\"\n",
    "\n",
    "current_date = datetime.now()\n",
    "formatted_date = current_date.strftime(\"%Y-%m-%d\")\n",
    "summary += \"## Overview\\n\\n\"\n",
    "summary += \"This concerned the investigation of JARM fingerprints **{}**\\n\\n\".format(\",\".join(jarm_fingerprints))\n",
    "summary += \"- Date: **{}**\\n\".format(formatted_date)\n",
    "summary += \"- Event: **{}** - UUID: {}\\n\".format(playbook_results[\"eventid\"], playbook_results[\"event\"])\n",
    "summary += \"\\n\\n\"\n",
    "\n",
    "summary += \"## Aggregated reports\\n\\n\"\n",
    "for jarm_fingerprint in jarm_fingerprints:\n",
    "    summary += \"{}\\n\\n\".format(playbook_results[jarm_fingerprint][\"aggr_md_report\"])\n",
    "summary += \"\\n\\n\"\n",
    "\n",
    "summary += \"## Detailed investigation reports\\n\\n\"\n",
    "for jarm_fingerprint in jarm_fingerprints:\n",
    "    summary += \"{}\\n\\n\".format(playbook_results[jarm_fingerprint][\"md_report\"])\n",
    "summary += \"\\n\\n\"\n",
    "\n",
    "summary += \"## MISP correlations\\n\\n\"\n",
    "summary += \"### Events\\n\\n\"\n",
    "table_mispevents.set_style(MARKDOWN)\n",
    "summary += table_mispevents.get_string(sortby=\"Value\")\n",
    "summary += \"\\n\\n\"\n",
    "\n",
    "summary += \"### OSINT feeds\\n\\n\"\n",
    "table_mispfeeds.set_style(MARKDOWN)\n",
    "summary += table_mispfeeds.get_string(sortby=\"Value\")\n",
    "summary += \"\\n\\n\"\n",
    "\n",
    "summary += \"## MISP indicators\\n\\n\"\n",
    "table_mispindicators.set_style(MARKDOWN)\n",
    "summary += table_mispindicators.get_string(sortby=\"Type\")\n",
    "summary += \"\\n\\n\"\n",
    "\n",
    "\n",
    "print(\"The \\033[92msummary\\033[90m of the playbook is available.\\n\")"
   ]
  },
  {
   "cell_type": "markdown",
   "id": "e2093c95-efb8-45ad-974a-e158b6bea8ea",
   "metadata": {},
   "source": [
    "## EN:2 Print the summary"
   ]
  },
  {
   "cell_type": "code",
   "execution_count": null,
   "id": "179bc3ed-97bd-4dc9-8f12-29ebe2a11a19",
   "metadata": {
    "tags": []
   },
   "outputs": [],
   "source": [
    "print(summary)\n",
    "# Or print with parsed markdown\n",
    "#display_markdown(summary, raw=True)"
   ]
  },
  {
   "cell_type": "markdown",
   "id": "eba96062-deaa-4fb9-8302-7b3ef829201e",
   "metadata": {
    "tags": []
   },
   "source": [
    "## EN:3 Send a summary to Mattermost\n",
    "\n",
    "Now you can send the summary to Mattermost. You can send the summary in two ways by selecting one of the options for the variable `send_to_mattermost_option` in the next cell.\n",
    "\n",
    "- The default option where the entire summary is in the **chat**, or\n",
    "- a short intro and the summary in a **card**\n",
    "\n",
    "For this playbook we rely on a webhook in Mattermost. You can add a webhook by choosing the gear icon in Mattermost, then choose Integrations and then **Incoming Webhooks**. Set a channel for the webhook and lock the webhook to this channel with *\"Lock to this channel\"*."
   ]
  },
  {
   "cell_type": "code",
   "execution_count": null,
   "id": "8c455bc3-35cc-436d-8237-95c81b57208f",
   "metadata": {
    "tags": []
   },
   "outputs": [],
   "source": [
    "send_to_mattermost_option = \"via a chat message\"\n",
    "#send_to_mattermost_option = \"via a chat message with card\""
   ]
  },
  {
   "cell_type": "code",
   "execution_count": null,
   "id": "ca49f33e",
   "metadata": {},
   "outputs": [],
   "source": [
    "message = False\n",
    "if send_to_mattermost_option == \"via a chat message\":\n",
    "    message = {\"username\": mattermost_playbook_user, \"text\": summary}\n",
    "elif send_to_mattermost_option == \"via a chat message with card\":\n",
    "    message = {\"username\": mattermost_playbook_user, \"text\": intro, \"props\": {\"card\": summary}}\n",
    "\n",
    "if message:\n",
    "    r = requests.post(mattermost_hook, data=json.dumps(message))\n",
    "    r.raise_for_status()\n",
    "if message and r.status_code == 200:\n",
    "    print(\"Summary is \\033[92msent to Mattermost.\\n\")\n",
    "else:\n",
    "    print(\"\\033[91mFailed to sent summary\\033[90m to Mattermost.\\n\")"
   ]
  },
  {
   "cell_type": "markdown",
   "id": "498b8eff-7d1b-47b7-90c4-e13cc738b36c",
   "metadata": {},
   "source": [
    "## EN:4 End of the playbook "
   ]
  },
  {
   "cell_type": "code",
   "execution_count": null,
   "id": "4c03bb30",
   "metadata": {},
   "outputs": [],
   "source": [
    "print(\"\\033[92m End of the playbook\")\n"
   ]
  },
  {
   "cell_type": "markdown",
   "id": "b17af9f2",
   "metadata": {},
   "source": [
    "## External references <a name=\"extreferences\"></a>\n",
    "\n",
    "- [The MISP Project](https://www.misp-project.org/)\n",
    "- [Mattermost](https://mattermost.com/)"
   ]
  },
  {
   "cell_type": "markdown",
   "id": "e1c813f6",
   "metadata": {},
   "source": [
    "## Technical details \n",
    "\n",
    "### Documentation\n",
    "\n",
    "This playbook requires these Python **libraries** to exist in the environment where the playbook is executed. You can install them with `pip install <library>`.\n",
    "\n",
    "```\n",
    "PrettyTable\n",
    "ipywidgets\n",
    "censys\n",
    "shodan\n",
    "```\n",
    "\n",
    "### Colour codes\n",
    "\n",
    "The output from Python displays some text in different colours. These are the colour codes\n",
    "\n",
    "```\n",
    "Red = '\\033[91m'\n",
    "Green = '\\033[92m'\n",
    "Blue = '\\033[94m'\n",
    "Cyan = '\\033[96m'\n",
    "White = '\\033[97m'\n",
    "Yellow = '\\033[93m'\n",
    "Magenta = '\\033[95m'\n",
    "Grey = '\\033[90m'\n",
    "Black = '\\033[90m'\n",
    "Default = '\\033[99m'\n",
    "```"
   ]
  },
  {
   "cell_type": "code",
   "execution_count": null,
   "id": "14dce812-e432-4c18-8358-f8b66e5b94a5",
   "metadata": {},
   "outputs": [],
   "source": []
  }
 ],
 "metadata": {
  "celltoolbar": "Attachments",
  "kernelspec": {
   "display_name": "Python 3 (ipykernel)",
   "language": "python",
   "name": "python3"
  },
  "language_info": {
   "codemirror_mode": {
    "name": "ipython",
    "version": 3
   },
   "file_extension": ".py",
   "mimetype": "text/x-python",
   "name": "python",
   "nbconvert_exporter": "python",
   "pygments_lexer": "ipython3",
   "version": "3.8.10"
  },
  "toc-showcode": false,
  "toc-showmarkdowntxt": false
 },
 "nbformat": 4,
 "nbformat_minor": 5
}
