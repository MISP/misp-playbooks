{
 "cells": [
  {
   "cell_type": "markdown",
   "id": "ca1fbfb5",
   "metadata": {
    "tags": [
     "playbook-introduction"
    ]
   },
   "source": [
    "# Query URL reputation\n",
    "\n",
    "## Introduction\n",
    "\n",
    "- UUID: **432b6b97-6351-4c82-a497-80fa0d03af04**\n",
    "- Started from [issue 14](https://github.com/MISP/misp-playbooks/issues/14)\n",
    "- State: **Published** : demo version with **output**\n",
    "\n",
    "This playbook functions similarly to the domain reputation playbook ([13](https://github.com/MISP/misp-playbooks/issues/13)). It analyses URLs by submitting them to **Lookyloo** and **URLscan**, while also querying OSINT feeds and MISP events for correlation. The playbook enriches the data with additional details, including DNS information, geolocation (**MMDB**), and historical scan data from URLscan and **VirusTotal**. All collected information is then consolidated into a summary, which is forwarded to Mattermost and TheHive for further action. This playbook is particularly valuable for managing **phishing security incidents**, equipping analysts with a comprehensive summary of URLs requiring investigation.\n",
    "\n",
    "- Tags: [ \"url\", \"reputation\", \"phishing\" ]\n",
    "- External resources: **URLscan**, **DNS**, **VirusTotal**, **MMDB**, **Mattermost, TheHive**\n",
    "- Target audience: **SOC, CSIRT, CTI**\n",
    "\n",
    "![](https://mermaid.ink/img/pako:eNqFU9Gq2zAM_RVj6EtpfyAPhY3C7oV2bLd3e1hduE6iNN5sq9hyRyj59zlO26S96xZIsKQjHR3FOvECS-AZn8_nwpIiDRlbP2--sIOWTY74i30N4Br27WXFHBwCSVJohU34yeSkrKKMnQSvNP4uaulI8GTXZPRK5qB956ik9tC2rJ1MhL1C2epFWBaf7itsf_Yh3zt5qNmzPYIntT8zdrHgNJvP-wa7jjD_CQVF14LBESxtUyQddzcZm5Ab1QNXUVSjEfv4xRpqPMqLfL6Q50bOxn0W2HIQNJJSoHOgR0JSzpA9ivvk9cEY6Zp7cAVQ_gfbdXDHDtapojb32p6UJ4wRqVmnxY9Vvi_cJy3Y8vNmG1-mbIXOpDZ2XbVPgBqLZCfcer38-KjK36m_Kxf8K5LUD2QNg738ncIBWF8j_WtoypaRKfI9Gm281-jGd4f1nt0t_jLVZHb0HzS4nuK1hid1hHvEgsUBETiDnm5ivTEEt4K_bTpii6QqdR4jIZtO11fQdPom-I7PuIm2VGXc2lNaHE41GOjWTPASKhl0XEJh2wiVgXDT2IJn5ALMuMOwr3mW1nHGw6GUBEsl4z0xV-9B2h-IF7v9A1g5W9k)"
   ]
  },
  {
   "cell_type": "raw",
   "id": "e9723bab-770c-4387-adc8-6e7c4ab8d734",
   "metadata": {},
   "source": [
    "```\n",
    "---\n",
    "title: MISP playbook Query URL reputation\n",
    "---\n",
    "%%{init: {\"flowchart\": {\"htmlLabels\": false}} }%%\n",
    "flowchart LR\n",
    "    \n",
    "  \n",
    "\n",
    "    subgraph Investigation\n",
    "    url -- MISP URL object --> event[MISP event]\n",
    "    url -- Submit --> Lookyloo\n",
    "    Lookyloo --> event\n",
    "    url -- Submit --> URLscan\n",
    "    URLscan --> event\n",
    "    end\n",
    "    \n",
    "    subgraph correlation\n",
    "    event --> eventcorrelations --> summary\n",
    "    event --> feedcorrelations --> summary\n",
    "    end\n",
    "\n",
    "    subgraph enrichment\n",
    "    url -- Historical scans --> URLscan --> summary\n",
    "    url --> DNS[DNS information] -- Geolocation --> MMDB --> summary\n",
    "    url -- Historical scans --> VirusTotal --> summary\n",
    "    end\n",
    "    \n",
    "    url -- Screenshot --> summary\n",
    "    event --> indicators --> summary\n",
    "    eventreport[MISP event report] --> summary\n",
    "\n",
    "    summary -- Alert --> TheHive\n",
    "    summary --> mattermost\n",
    "    summary\n",
    "    mattermost[\"`Sent notification to **Mattermost**`\"]\n",
    "```"
   ]
  },
  {
   "cell_type": "markdown",
   "id": "a512a2c1",
   "metadata": {
    "tags": []
   },
   "source": [
    "# Playbook\n",
    "\n",
    "- **Query URL reputation**\n",
    "    - Introduction\n",
    "- **Preparation**\n",
    "    - PR:1 Initialise environment\n",
    "    - PR:2 Verify MISP modules\n",
    "    - PR:3 Load helper functions\n",
    "    - PR:4 Set helper variables\n",
    "    - PR:5 What are you searching for?\n",
    "    - PR:6 MISP event details\n",
    "- **Investigate**\n",
    "    - IN:1 Add the URL to the event\n",
    "    - IN:2 Submit the URL to LookyLoo\n",
    "    - IN:3 Submit the URL to URLscan\n",
    "- **Correlation**\n",
    "    - CR:1 Correlation with MISP events\n",
    "    - CR:2 Correlation with MISP feeds\n",
    "- **Enrichment**\n",
    "    - ER:1 Enrich with historical information from URLscan\n",
    "    - ER:2 Enrich with DNS information\n",
    "    - ER:3 Enrich with historical results from VirusTotal\n",
    "    - ER:4 Get geolocation of the IP from MMDB\n",
    "- **Summary**\n",
    "    - EN:1 Add screenshot from URLscan to playbook\n",
    "    - EN:2 MISP indicators\n",
    "    - EN:3 Create the summary of the playbook\n",
    "    - EN:4 Add the summary as a MISP report\n",
    "    - EN:5 Send a summary to Mattermost\n",
    "    - EN:6 Send an alert to TheHive\n",
    "    - EN:7 Publish MISP event\n",
    "    - EN:8 End of the playbook\n",
    "- External references\n",
    "- Technical details"
   ]
  },
  {
   "cell_type": "markdown",
   "id": "8dc24913",
   "metadata": {
    "tags": []
   },
   "source": [
    "# Preparation\n",
    "\n",
    "## PR:1 Initialise environment\n",
    "\n",
    "This section **initialises the playbook environment** and loads the required Python libraries. \n",
    "\n",
    "The credentials for MISP (**API key**) and other services are loaded from the file `keys.py` in the directory **vault**. A [PyMISP](https://github.com/MISP/PyMISP) object is created to interact with MISP and the active MISP server is displayed. By printing out the server name you know that it's possible to connect to MISP. In case of a problem PyMISP will indicate the error with `PyMISPError: Unable to connect to MISP`.\n",
    "\n",
    "The contents of the `keys.py` file should contain at least :\n",
    "\n",
    "```\n",
    "misp_url=\"<MISP URL>\"                  # The URL to our MISP server\n",
    "misp_key=\"<MISP API KEY>\"              # The MISP API key\n",
    "misp_verifycert=<True or False>        # Indicate if PyMISP should attempt to verify the certificate or ignore errors\n",
    "urlscan_url=\"https://urlscan.io/api/v1/search\"\n",
    "urlscan_apikey=\"<URLSCAN API KEY>\"\n",
    "mattermost_playbook_user=\"<MATTERMOST USER>\"\n",
    "mattermost_hook=\"<MATTERMOST WEBHOOK>\"\n",
    "thehive_url=\"<THEHIVE URL>\"\n",
    "thehive_key=\"<THEHIVE API KEY>\"\n",
    "virustotal_apikey=\"<VIRUSTOTAL API KEY>\"\n",
    "```"
   ]
  },
  {
   "cell_type": "code",
   "execution_count": 36,
   "id": "5f94c336",
   "metadata": {
    "tags": []
   },
   "outputs": [
    {
     "name": "stderr",
     "output_type": "stream",
     "text": [
      "The version of PyMISP recommended by the MISP instance (2.4.198) is newer than the one you're using now (2.4.194). Please upgrade PyMISP.\n"
     ]
    },
    {
     "name": "stdout",
     "output_type": "stream",
     "text": [
      "The \u001b[92mPython libraries\u001b[90m are loaded and the \u001b[92mcredentials\u001b[90m are read from the keys file.\n",
      "I will use the MISP server \u001b[92mhttps://misp.demo.cudeso.be/\u001b[90m for this playbook.\n",
      "\n",
      "\n"
     ]
    }
   ],
   "source": [
    "# Initialise Python environment\n",
    "import urllib3\n",
    "import sys\n",
    "import json\n",
    "import base64\n",
    "import uuid\n",
    "import time\n",
    "import re\n",
    "from prettytable import PrettyTable, MARKDOWN\n",
    "from IPython.display import Image, display, display_markdown, HTML\n",
    "from datetime import date\n",
    "import requests\n",
    "from pymisp import *\n",
    "from pymisp.tools import GenericObjectGenerator\n",
    "import textwrap\n",
    "import validators\n",
    "from urllib.parse import urlparse\n",
    "from pylookyloo import Lookyloo\n",
    "from pyfaup.faup import Faup\n",
    "\n",
    "# Load the credentials\n",
    "sys.path.insert(0, \"../vault/\")\n",
    "from keys import *\n",
    "if misp_verifycert is False:\n",
    "    import urllib3\n",
    "    urllib3.disable_warnings(urllib3.exceptions.InsecureRequestWarning)\n",
    "print(\"The \\033[92mPython libraries\\033[90m are loaded and the \\033[92mcredentials\\033[90m are read from the keys file.\")\n",
    "\n",
    "# Create the PyMISP object\n",
    "misp = PyMISP(misp_url, misp_key, misp_verifycert)\n",
    "misp_headers = {\"Authorization\": misp_key,  \"Content-Type\": \"application/json\", \"Accept\": \"application/json\"}\n",
    "print(\"I will use the MISP server \\033[92m{}\\033[90m for this playbook.\\n\\n\".format(misp_url))"
   ]
  },
  {
   "cell_type": "markdown",
   "id": "0e4c6424-0056-416a-812c-04a7559cbe56",
   "metadata": {},
   "source": [
    "## PR:2 Verify MISP modules\n",
    "\n",
    "This playbook uses the MISP modules to obtain additional correlation or enrichment information. [MISP modules](https://github.com/MISP/misp-modules) are autonomous modules that can be used to extend MISP for new services such as expansion, import and export. The modules are written in Python 3 following a simple API interface. The objective is to ease the extensions of MISP functionalities without modifying core components. The API is available via a simple REST API which is independent from MISP installation or configuration.\n",
    "\n",
    "In the next cell we check if we have access to the **MISP module** server and if the required modules are enabled."
   ]
  },
  {
   "cell_type": "code",
   "execution_count": 2,
   "id": "49c3c749-79b4-42c2-ac29-68181119e548",
   "metadata": {
    "tags": []
   },
   "outputs": [
    {
     "name": "stdout",
     "output_type": "stream",
     "text": [
      "Found the \u001b[92mdns\u001b[90m MISP module (Accepted input: ['hostname', 'domain', 'domain|ip']).\n",
      "Found the \u001b[92murlscan\u001b[90m MISP module (Accepted input: ['hostname', 'domain', 'ip-src', 'ip-dst', 'url']).\n",
      "\n",
      "\n",
      "\n"
     ]
    }
   ],
   "source": [
    "# Where can we find the local MISP Module server? You can leave this to the default setting in most cases.\n",
    "misp_modules_url = \"http://127.0.0.1:6666\"\n",
    "\n",
    "# How long do we wait between queries when using the MISP modules (API rate limiting of external service such as VirusTotal)\n",
    "misp_modules_wait = 3\n",
    "\n",
    "# Initiliasation\n",
    "misp_modules = {}\n",
    "misp_modules_headers = {\n",
    "    \"Content-Type\": \"application/json\",\n",
    "    \"Accept\": \"application/json\"\n",
    "}\n",
    "misp_modules_in_use = [\"dns\", \"urlscan\"]\n",
    "# Code block to query the MISP module server and check if our modules are enabled\n",
    "res = requests.get(\"{}/modules\".format(misp_modules_url), headers=misp_modules_headers)\n",
    "for module in res.json():\n",
    "    for module_requested in misp_modules_in_use:\n",
    "        if module.get(\"name\", False) == module_requested:\n",
    "            misp_modules[module_requested] = {\"enabled\": True, \"input\": module.get(\"mispattributes\").get(\"input\")}\n",
    "            print(\"Found the \\033[92m{}\\033[90m MISP module (Accepted input: {}).\".format(module_requested, misp_modules[module_requested][\"input\"]))\n",
    "print(\"\\n\\n\")"
   ]
  },
  {
   "cell_type": "markdown",
   "id": "e9e92317-49fd-4746-b61e-abd84468114e",
   "metadata": {},
   "source": [
    "## PR:3 Load helper functions\n",
    "\n",
    "The next cell contains **helper functions** that are used in this playbook.\n",
    "\n",
    "Instead of distributing helper functions as separate Python files this playbook includes all the required code as one code cell. This makes portability of playbooks between instances easier. The downside is that functions defined in this playbook need to be defined again in other playbooks, which is not optimal for code re-use. For this iteration of playbooks it is chosen to include the code in the playbook (more portability), but you can easily create one \"helper\" file that contains all the helper code and then import that file in each playbook (for example by adding to the previous cell `from helpers import *`)."
   ]
  },
  {
   "cell_type": "code",
   "execution_count": 3,
   "id": "cfab4370-b5be-483d-9344-0b414a06cd61",
   "metadata": {
    "tags": []
   },
   "outputs": [
    {
     "name": "stdout",
     "output_type": "stream",
     "text": [
      "\u001b[92mHelper functions loaded\u001b[90m.\n",
      "\n",
      "\n"
     ]
    }
   ],
   "source": [
    "def pb_get_misp_tags(tags=[], local_tags=[]):\n",
    "    '''\n",
    "    Get a list of MISP tags based on a Python list\n",
    "\n",
    "    :param misp: MISP object\n",
    "    :param object_template: which object template to return\n",
    "    '''\n",
    "    misp_tags = []\n",
    "    for el in tags:\n",
    "        t = MISPTag()\n",
    "        t.name = el\n",
    "        t.local = False\n",
    "        misp_tags.append(t)\n",
    "\n",
    "    for el in local_tags:\n",
    "        t = MISPTag()\n",
    "        t.name = el\n",
    "        t.local = True\n",
    "        misp_tags.append(t)\n",
    "    return misp_tags\n",
    "\n",
    "print(\"\\033[92mHelper functions loaded\\033[90m.\\n\\n\".format(misp_url))"
   ]
  },
  {
   "cell_type": "markdown",
   "id": "6b0fe9f4-23b1-4eec-bc61-8bc965ffc619",
   "metadata": {},
   "source": [
    "## PR:4 Set helper variables\n",
    "\n",
    "This cell contains **helper variables** that are used in this playbook.\n",
    "\n",
    "- `playbook_config` : the configuration of the playbook\n",
    "- `playbook_results` : the results of the playbook"
   ]
  },
  {
   "cell_type": "code",
   "execution_count": 4,
   "id": "645d8ee5-e07f-4bab-953c-8d71f9c1b171",
   "metadata": {
    "tags": []
   },
   "outputs": [],
   "source": [
    "# Dictionary to playbook results and some of the core objects that are created\n",
    "playbook_results = {}\n",
    "\n",
    "playbook_config = {\"event_title_default_prefix\": \"URL reputation investigation\",\n",
    "                   \"event_tags\": pb_get_misp_tags([\"tlp:amber\",\n",
    "                                                   \"misp-galaxy:mitre-attack-pattern=\\\"Domains - T1583.001\\\"\",\n",
    "                                                   \"misp-galaxy:mitre-attack-pattern=\\\"Server - T1583.004\\\"\"],\n",
    "                                                  [\"workflow:state=\\\"incomplete\\\"\"]),\n",
    "                   \"attribute_tags\": pb_get_misp_tags([\"course-of-action:passive=\\\"discover\\\"\",\n",
    "                                                       \"course-of-action:passive=\\\"detect\\\"\",\n",
    "                                                       \"PAP:GREEN\"],[]),\n",
    "                   \n",
    "                   \"add_text_attributes\": True,\n",
    "                   \n",
    "                   \"correlation_published\": True,\n",
    "                   \"correlation_limit\": 1000,\n",
    "                   \"correlation_to_ids\": True,\n",
    "                   \n",
    "                   \"urlscan_size\": 5,\n",
    "                   \"urlscan_replace\": [\"+\", \"-\", \"=\", \"&&\", \"||\", \">\", \"<\", \"!\", \"(\", \")\", \"{\", \"}\", \"[\", \"]\", \"^\", \"~\", \"*\", \"?\", \":\", \"/\"],\n",
    "                   \n",
    "                   \"lookyloo_wait\": 8,\n",
    "                   \"lookyloo_listing\": True,\n",
    "                   \"lookyloo_tries\": 10,\n",
    "                   \"lookyloo_process_hostnames\": True,\n",
    "                   \"lookyloo_process_cookies\": True,\n",
    "                   \"lookyloo_process_urls\": True,\n",
    "                   \"lookyloo_process_hashes\": True,\n",
    "                   \"lookyloo_hashtype\": \"md5\",\n",
    "                   \"lookyloo_ids\": 0,\n",
    "                   \n",
    "                   \"mmdb_url\": \"https://ip.circl.lu/geolookup/\",\n",
    "\n",
    "                    }\n",
    "\n",
    "# A set of regular expressions that we use to determine the attribute type\n",
    "regular_expressions = {\"sha256\": \"^[a-fA-F0-9]{64}$\",\n",
    "                       \"md5\": \"^[a-fA-F0-9]{32}$\",\n",
    "                       \"hostname\": \"^[a-zA-Z0-9.\\-_]+\\.[a-zA-Z]{2,}$\",\n",
    "                       \"sha1\": \"^[a-fA-F0-9]{40}$\",\n",
    "                       \"url\": \"^(http|https):\\/\\/[-a-zA-Z0-9-]{2,256}\\.[-a-zA-Z0-9-]{2,256}\",\n",
    "                       \"ip-src\": \"[0-9]{1,3}\\.[0-9]{1,3}\\.[0-9]{1,3}\\.[0-9]{1,3}\",\n",
    "                       \"ip-dst\": \"[0-9]{1,3}\\.[0-9]{1,3}\\.[0-9]{1,3}\\.[0-9]{1,3}\"\n",
    "                      }"
   ]
  },
  {
   "cell_type": "markdown",
   "id": "62f98308-a0c2-486d-9675-44f51f9a538e",
   "metadata": {},
   "source": [
    "## PR:5 What are you searching for?\n",
    "\n",
    "In this section you can define the **user input** as the **URL** that you want to investigate with this playbook."
   ]
  },
  {
   "cell_type": "code",
   "execution_count": 5,
   "id": "b67481c1-3e9f-4f18-82b8-284c132057cf",
   "metadata": {
    "tags": []
   },
   "outputs": [
    {
     "name": "stdout",
     "output_type": "stream",
     "text": [
      "The playbook will continue with the investigation of \u001b[92mhttps://waterforvoiceless.org/invite.php\u001b[90m \n",
      "\n",
      "\n"
     ]
    }
   ],
   "source": [
    "# Provide the URL to investigate\n",
    "query = \"https://waterforvoiceless.org/invite.php\" \n",
    "\n",
    "# Validate we have a valid URL to investigate\n",
    "if validators.url(query):\n",
    "    print(\"The playbook will continue with the investigation of \\033[92m{}\\033[90m \\n\\n\".format(query))\n",
    "    playbook_results[\"url\"] = query\n",
    "else:\n",
    "    print(\"URL validation \\033[91mfailed\\033[90m.\\nCheck that \\033[91m{}\\033[90m is a valid URL.\\n\\n\".format(query))"
   ]
  },
  {
   "cell_type": "markdown",
   "id": "2bfd0045-13fe-4f83-a6a7-2d70621b7423",
   "metadata": {},
   "source": [
    "## PR:6 MISP event details\n",
    "\n",
    "The next cell **creates the MISP event** and adds the event tags."
   ]
  },
  {
   "cell_type": "code",
   "execution_count": 6,
   "id": "63ac7f8b-cd54-4b36-9604-76a7a38d25e0",
   "metadata": {
    "tags": []
   },
   "outputs": [
    {
     "name": "stdout",
     "output_type": "stream",
     "text": [
      "Create MISP event\n",
      " \u001b[92mAdded\u001b[90m event tag <MISPTag(name=tlp:amber)>\n",
      " \u001b[92mAdded\u001b[90m event tag <MISPTag(name=misp-galaxy:mitre-attack-pattern=\"Domains - T1583.001\")>\n",
      " \u001b[92mAdded\u001b[90m event tag <MISPTag(name=misp-galaxy:mitre-attack-pattern=\"Server - T1583.004\")>\n",
      " \u001b[92mAdded\u001b[90m event tag <MISPTag(name=workflow:state=\"incomplete\")>\n",
      "Continue the playbook with the new MISP event ID \u001b[92m3567\u001b[90m with title \u001b[92mURL reputation investigation for https://waterforvoiceless.org/invite.php\u001b[90m and UUID \u001b[92m171b36d9-7a78-44a8-aa16-c7ff65f74b62\u001b[90m.\n",
      "\n",
      "\n"
     ]
    }
   ],
   "source": [
    "# Provide the event title for a new event. Leave blank for the playbook to auto generate one\n",
    "event_title = \"\"\n",
    "\n",
    "# Create default event title\n",
    "if not(event_title is str and len(event_title) > 0):\n",
    "    event_title = \"{} for {}\".format(playbook_config[\"event_title_default_prefix\"], playbook_results[\"url\"])\n",
    "\n",
    "# Create the PyMISP object for an event\n",
    "event = MISPEvent()\n",
    "event.info = event_title\n",
    "event.distribution = Distribution.your_organisation_only\n",
    "event.threat_level_id = ThreatLevel.low\n",
    "event.analysis = Analysis.ongoing\n",
    "event.set_date(date.today())\n",
    "\n",
    "# Create the MISP event\n",
    "misp_event = misp.add_event(event, pythonify=True)\n",
    "print(\"Create MISP event\")\n",
    "playbook_results[\"event\"] = misp_event.uuid\n",
    "\n",
    "for tag in playbook_config[\"event_tags\"]:\n",
    "    misp.tag(misp_event.uuid, tag, local=tag.local)\n",
    "    print(\" \\033[92mAdded\\033[90m event tag {}\".format(tag))\n",
    "\n",
    "print(\"Continue the playbook with the new MISP event ID \\033[92m{}\\033[90m with title \\033[92m{}\\033[90m and UUID \\033[92m{}\\033[90m.\\n\\n\".format(misp_event.id, misp_event.info, misp_event.uuid))"
   ]
  },
  {
   "cell_type": "markdown",
   "id": "2243ae8b-cb77-4835-a0cd-2738ee8c9bec",
   "metadata": {},
   "source": [
    "# Investigate"
   ]
  },
  {
   "cell_type": "markdown",
   "id": "e4be95a1-67ee-4c5a-85e3-a9607f335f40",
   "metadata": {},
   "source": [
    "## IN:1 Add the URL to the event\n",
    "\n",
    "As a first step we add the URL as an `url` MISP object to our event."
   ]
  },
  {
   "cell_type": "code",
   "execution_count": 7,
   "id": "5c2f9dea-6490-43f2-b5cd-c51f06181cd7",
   "metadata": {
    "tags": []
   },
   "outputs": [
    {
     "name": "stdout",
     "output_type": "stream",
     "text": [
      "\u001b[92mAdded\u001b[90m URL object for https://waterforvoiceless.org/invite.php with UUID \u001b[92mc4448955-de66-4b23-945c-fb07ed5eb2a4\u001b[90m.\n",
      "\n",
      "\n"
     ]
    }
   ],
   "source": [
    "# Add the URL as an object to the event\n",
    "fp = Faup()\n",
    "fp.decode(playbook_results[\"url\"])\n",
    "parsed = fp.get()\n",
    "\n",
    "attributes = [\n",
    "    (\"url\", \"url\", query, playbook_config[\"attribute_tags\"]),\n",
    "    (\"tld\", \"text\", parsed[\"tld\"], None),\n",
    "    (\"subdomain\", \"text\", parsed[\"subdomain\"], None),\n",
    "    (\"scheme\", \"text\", parsed[\"scheme\"], None),\n",
    "    (\"resource_path\", \"text\", parsed[\"resource_path\"], None),\n",
    "    (\"query_string\", \"text\", parsed[\"query_string\"], None),\n",
    "    (\"port\", \"port\", parsed[\"port\"], None),\n",
    "    (\"host\", \"hostname\", parsed[\"host\"], None),\n",
    "    (\"fragment\", \"text\", parsed[\"fragment\"], None),\n",
    "    (\"domain_without_tld\", \"text\", parsed[\"domain_without_tld\"], None),\n",
    "    (\"domain\", \"domain\", parsed[\"domain\"], playbook_config[\"attribute_tags\"]),\n",
    "]\n",
    "\n",
    "obj = MISPObject(\"url\")\n",
    "for attr_name, attr_type, value, tags in attributes:\n",
    "    if value is not None:  # Add only if the value is not None\n",
    "        obj.add_attribute(attr_name, type=attr_type, value=value, tags=tags)\n",
    "        playbook_results[attr_name] = value\n",
    "result = misp.add_object(misp_event.uuid, obj, pythonify=True)\n",
    "if not \"errors\" in result:\n",
    "    playbook_results[\"url_object\"] = result\n",
    "    print(\"\\033[92mAdded\\033[90m URL object for {} with UUID \\033[92m{}\\033[90m.\\n\\n\".format(playbook_results[\"url\"], result.uuid))\n",
    "    # Get the URL attribute ID\n",
    "    for attribute in playbook_results[\"url_object\"].attributes :\n",
    "        if attribute.object_relation == \"url\":\n",
    "            playbook_results[\"url_attribute\"] = attribute.uuid\n",
    "else:\n",
    "    print(\"\\033[91mUnable to add URL object\\033[90m for {}. The playbook \\033[91mcannot continue\\033[90m.\\n\\n\".format(playbook_results[\"url\"]))"
   ]
  },
  {
   "cell_type": "markdown",
   "id": "ac7ba696-fcc6-47aa-80a7-81033e4febfe",
   "metadata": {},
   "source": [
    "## IN:2 Submit the URL to LookyLoo\n",
    "\n",
    "You can now submit the URL to **LookyLoo** for analysis.\n",
    "\n",
    "[Lookyloo](https://github.com/Lookyloo/lookyloo) is a web interface that allows users to capture a website page and then display a tree of domains that call each other. You can explore its features with the demo instance at [https://lookyloo.circl.lu/](https://lookyloo.circl.lu/). If you use a public instance of LookyLoo it is advised not to display the capture on the index page of that LookyLoo instance (`playbook_config[\"lookyloo_listing\"]`). The playbook waits for the LookyLoo capture to complete.\n",
    "\n",
    "The process is split in two cells, first **submit** the URL, and the second step checks if the **analysis is finished**."
   ]
  },
  {
   "cell_type": "code",
   "execution_count": 8,
   "id": "16aeaf57-8ed0-4e59-8365-114443da4bc6",
   "metadata": {
    "tags": []
   },
   "outputs": [
    {
     "name": "stdout",
     "output_type": "stream",
     "text": [
      "Submit URL to LookyLoo\n",
      " URL \u001b[92mhttps://waterforvoiceless.org/invite.php\u001b[90m submitted to Lookyloo: https://lookyloo.circl.lu/tree/a8eb8772-0230-4d8d-916b-5cab555df1b5\n",
      "\n",
      " Reference to external LookyLoo analysis added.\n",
      "\n",
      "\n"
     ]
    }
   ],
   "source": [
    "# Submit the URL to LookyLoo\n",
    "lookyloo = Lookyloo(lookyloo_url)\n",
    "\n",
    "playbook_results[\"lookyloo\"] = {}\n",
    "\n",
    "print(\"Submit URL to LookyLoo\")\n",
    "try:\n",
    "    permaurl = lookyloo.submit(url=playbook_results[\"url\"], listing=playbook_config[\"lookyloo_listing\"])\n",
    "    uuid = permaurl.split(\"/tree/\")[1]\n",
    "    print(\" URL \\033[92m{}\\033[90m submitted to Lookyloo: {}\\n\".format(playbook_results[\"url\"], permaurl))\n",
    "    misp_attribute = {\"type\": \"link\", \"category\": \"External analysis\", \n",
    "                      \"value\": permaurl, \"comment\": \"LookyLoo analysis for {}\".format(playbook_results[\"url\"])}\n",
    "    created_attribute = misp.add_attribute(misp_event.uuid, misp_attribute, pythonify=True)\n",
    "    if not \"errors\" in created_attribute:\n",
    "        misp.add_object_reference(playbook_results[\"url_object\"].add_reference(created_attribute.uuid, \"related-to\"))\n",
    "        playbook_results[\"lookyloo\"][\"permaurl\"] = permaurl\n",
    "        print(\" Reference to external LookyLoo analysis added.\\n\\n\")\n",
    "except:\n",
    "    print(\"Was unable to submit the URL to LookyLoo.\\n\\n\")"
   ]
  },
  {
   "cell_type": "code",
   "execution_count": 9,
   "id": "c8e906c4-d813-424b-a42b-b0654b4b7502",
   "metadata": {
    "tags": []
   },
   "outputs": [
    {
     "name": "stdout",
     "output_type": "stream",
     "text": [
      "Contact LookyLoo ...\n",
      " Checking if submission of a8eb8772-0230-4d8d-916b-5cab555df1b5 is complete\n",
      "  Attempting again after 8 seconds\n",
      " Checking if submission of a8eb8772-0230-4d8d-916b-5cab555df1b5 is complete\n",
      "  Attempting again after 8 seconds\n",
      " Checking if submission of a8eb8772-0230-4d8d-916b-5cab555df1b5 is complete\n",
      "  Attempting again after 8 seconds\n",
      " Checking if submission of a8eb8772-0230-4d8d-916b-5cab555df1b5 is complete\n",
      "  Attempting again after 8 seconds\n",
      " Checking if submission of a8eb8772-0230-4d8d-916b-5cab555df1b5 is complete\n",
      "  Attempting again after 8 seconds\n",
      " Checking if submission of a8eb8772-0230-4d8d-916b-5cab555df1b5 is complete\n",
      "Got \u001b[92mresults\u001b[90m, continue with the next cell.\n",
      "\n",
      "\n"
     ]
    }
   ],
   "source": [
    "# Query the results of LookyLoo to get the capture details\n",
    "submit_completed = False\n",
    "print(\"Contact LookyLoo ...\")\n",
    "playbook_config[\"lookyloo_tries\"] = 10\n",
    "while playbook_config[\"lookyloo_tries\"] >= 0:\n",
    "    print(\" Checking if submission of {} is complete\".format(uuid))\n",
    "    status_code = int(lookyloo.get_status(uuid).get(\"status_code\", 0))\n",
    "    if status_code == 1:\n",
    "        submit_completed = True\n",
    "        playbook_config[\"lookyloo_tries\"] = -1\n",
    "    else:\n",
    "        print(\"  Attempting again after {} seconds\".format(playbook_config[\"lookyloo_wait\"]))\n",
    "        time.sleep(playbook_config[\"lookyloo_wait\"])\n",
    "        playbook_config[\"lookyloo_tries\"] -= 1\n",
    "if submit_completed:\n",
    "    print(\"Got \\033[92mresults\\033[90m, continue with the next cell.\\n\\n\")\n",
    "else:\n",
    "    print(\"Submit was \\033[91mnot completed\\033[90m after {} verification attempts. Re-execute this cell to try again.\\n\\n\".format(playbook_config[\"lookyloo_tries\"]))"
   ]
  },
  {
   "cell_type": "markdown",
   "id": "99d31db2-f04d-43b1-b7a9-99555178a707",
   "metadata": {
    "tags": []
   },
   "source": [
    "### Process LookyLoo results\n",
    "\n",
    "When the results are received from **LookyLoo**, they must be processed to ensure they can be incorporated into the **MISP event**, the **summary**, and this **playbook**. The playbook processes associated hostnames (by default the to_ids flag is not set, this can be configured via `playbook_config[\"lookyloo_hostname_ids\"]`) and obtained cookies."
   ]
  },
  {
   "cell_type": "code",
   "execution_count": 10,
   "id": "d746ebd4-06e7-4fbc-bce0-bfc34e18c78a",
   "metadata": {
    "tags": []
   },
   "outputs": [
    {
     "name": "stdout",
     "output_type": "stream",
     "text": [
      "Processing LookyLoo results\n",
      " Process hostnames\n",
      " Found hostname: \u001b[92munpkg.com\u001b[90m\n",
      " Found hostname: \u001b[92mwaterforvoiceless.org\u001b[90m\n",
      " Found hostname: \u001b[92mfonts.googleapis.com\u001b[90m\n",
      " Found hostname: \u001b[92mfonts.gstatic.com\u001b[90m\n",
      " Found hostname: \u001b[92mcdnjs.cloudflare.com\u001b[90m\n",
      " Process URLs\n",
      " Found URL: \u001b[92mhttps://waterforvoiceless.org/wp-content/uploads/2022/10/youtube.png\u001b[90m\n",
      " Found URL: \u001b[92mhttps://waterforvoiceless.org/wp-includes/js/jquery/jquery-migrate.min.js?ver=3.4.1\u001b[90m\n",
      " Found URL: \u001b[92mhttps://waterforvoiceless.org/wp-content/plugins/contact-form-7/includes/js/index.js?ver=5.8.5\u001b[90m\n",
      " Found URL: \u001b[92mhttps://unpkg.com/splitting@1.1.0/dist/splitting.min.js\u001b[90m\n",
      " Found URL: \u001b[92mblob:https://waterforvoiceless.org/3b03c643-cc16-4f1c-9fd0-7c36d6807a81\u001b[90m\n",
      " Found URL: \u001b[92mhttps://waterforvoiceless.org/wp-content/plugins/contact-form-7/includes/css/styles.css?ver=5.8.5\u001b[90m\n",
      " Found URL: \u001b[92mhttps://fonts.gstatic.com/s/arimo/v29/P5sMzZCDf9_T_10ZxCE.woff2\u001b[90m\n",
      " Found URL: \u001b[92mhttps://waterforvoiceless.org/wp-content/uploads/2022/10/facbook.png\u001b[90m\n",
      " Found URL: \u001b[92mhttps://waterforvoiceless.org/wp-content/themes/twentytwentyone/assets/js/responsive-embeds.js?ver=2.0\u001b[90m\n",
      " Found URL: \u001b[92mhttps://waterforvoiceless.org/wp-content/plugins/extensions-for-cf7/assets/js/conditional-field.js?ver=3.0.4\u001b[90m\n",
      " Found URL: \u001b[92mhttps://waterforvoiceless.org/wp-content/themes/twentytwentyone/style.css?ver=2.0\u001b[90m\n",
      " Found URL: \u001b[92mhttps://waterforvoiceless.org/wp-content/uploads/2022/10/top-logo.png\u001b[90m\n",
      " Found URL: \u001b[92mhttps://waterforvoiceless.org/wp-includes/css/dist/block-library/style.min.css?ver=6.5.5\u001b[90m\n",
      " Found URL: \u001b[92mhttps://waterforvoiceless.org/wp-content/plugins/simple-news/css/news.css?ver=6.5.5\u001b[90m\n",
      " Found URL: \u001b[92mhttps://waterforvoiceless.org/wp-content/uploads/2022/10/donate-icons.png\u001b[90m\n",
      " Found URL: \u001b[92mhttps://waterforvoiceless.org/wp-content/themes/twentytwentyone/assets/css/print.css?ver=2.0\u001b[90m\n",
      " Found URL: \u001b[92mhttps://waterforvoiceless.org/wp-content/themes/twentytwentyone/assets/js/primary-navigation.js?ver=2.0\u001b[90m\n",
      " Found URL: \u001b[92mhttps://waterforvoiceless.org/wp-content/uploads/2022/12/insta-icon.png\u001b[90m\n",
      " Found URL: \u001b[92mhttps://waterforvoiceless.org/wp-content/plugins/extensions-for-cf7/assets/js/redirect.js?ver=3.0.4\u001b[90m\n",
      " Found URL: \u001b[92mhttps://cdnjs.cloudflare.com/ajax/libs/font-awesome/4.7.0/css/font-awesome.min.css\u001b[90m\n",
      " Found URL: \u001b[92mhttps://waterforvoiceless.org/wp-content/plugins/shared-files=/dist/basiclightbox/basicLightbox.min.js?ver=1.7.11\u001b[90m\n",
      " Found URL: \u001b[92mhttps://waterforvoiceless.org/wp-content/plugins/contact-form-7/includes/swv/js/index.js?ver=5.8.5\u001b[90m\n",
      " Found URL: \u001b[92mhttps://waterforvoiceless.org/invite.php\u001b[90m\n",
      " Found URL: \u001b[92mhttps://waterforvoiceless.org/wp-content/plugins/shared-files=/dist/basiclightbox/basicLightbox.min.css?ver=1.7.11\u001b[90m\n",
      " Found URL: \u001b[92mhttps://waterforvoiceless.org/wp-content/uploads/2022/10/fav-icon.png\u001b[90m\n",
      " Found URL: \u001b[92mhttps://waterforvoiceless.org/wp-includes/js/jquery/jquery.min.js?ver=3.7.1\u001b[90m\n",
      " Found URL: \u001b[92mhttps://unpkg.com/splitting/dist/splitting.min.js\u001b[90m\n",
      " Found URL: \u001b[92mhttps://waterforvoiceless.org/wp-content/themes/twentytwentyone/assets/css/custom-color-overrides.css?ver=2.0\u001b[90m\n",
      " Found URL: \u001b[92mhttps://waterforvoiceless.org/wp-content/plugins/shared-files=/dist/js/p.js?ver=1.7.11\u001b[90m\n",
      " Found URL: \u001b[92mhttps://waterforvoiceless.org/wp-content/uploads/2022/10/top-icon.png\u001b[90m\n",
      " Found URL: \u001b[92mhttps://fonts.googleapis.com/css2?family=Arimo:wght@400;700&family=Edu NSW ACT Foundation:wght@700&display=swap\u001b[90m\n",
      " Found URL: \u001b[92mhttps://waterforvoiceless.org/wp-content/uploads/2022/10/twitter.png\u001b[90m\n",
      " Found URL: \u001b[92mhttps://waterforvoiceless.org/wp-content/plugins/shared-files=/dist/css/p.css?ver=1.7.11\u001b[90m\n",
      " Found URL: \u001b[92mhttps://waterforvoiceless.org/wp-content/themes/twentytwentyone/assets/js/jquery.easing.1.3.js\u001b[90m\n",
      " Found URL: \u001b[92mhttps://waterforvoiceless.org/wp-content/uploads/2022/10/mail.png\u001b[90m\n",
      " Found URL: \u001b[92mhttps://waterforvoiceless.org/wp-content/uploads/2022/10/footer-logo.png\u001b[90m\n",
      " Process hashes\n",
      " Found hash: \u001b[92m9445b038807882a08b077f779b47a91f\u001b[90m\n",
      " Found hash: \u001b[92m51a8390b47aa0582cf2d9c96c5addee2\u001b[90m\n",
      " Found hash: \u001b[92me4aa45d49df5f82dc1311f7d3c388eb1\u001b[90m\n",
      " Found hash: \u001b[92md46066b9fb359d5b9c059994d69bc0f7\u001b[90m\n",
      " Found hash: \u001b[92m3ed35f36dfd75c17baf6a42c3b83f5df\u001b[90m\n",
      " Found hash: \u001b[92m7d8f61e2e068ed82b0a9d0e9b27747b8\u001b[90m\n",
      " Found hash: \u001b[92m69bdb9cd40a5bbcb4587424b1c70f89b\u001b[90m\n",
      " Found hash: \u001b[92m3fd2afa98866679439097f4ab102fe0a\u001b[90m\n",
      " Found hash: \u001b[92mf296ee2af16da884acb36cc5964a3918\u001b[90m\n",
      " Found hash: \u001b[92mb06f73f043f97de48fbd39d7a6aa65e6\u001b[90m\n",
      " Found hash: \u001b[92m9d7250ce567083bc7f4a9551cb8c7f25\u001b[90m\n",
      " Found hash: \u001b[92m826eb77e86b02ab7724fe3d0141ff87c\u001b[90m\n",
      " Found hash: \u001b[92m9ffeb32e2d9efbf8f70caabded242267\u001b[90m\n",
      " Found hash: \u001b[92m6fc4fb0379376fa97553efff7f2fb078\u001b[90m\n",
      " Found hash: \u001b[92mf4d6d3daeec9601f80acab0e52258259\u001b[90m\n",
      " Found hash: \u001b[92m647896685fb0e7ce29f3c9aae0ffb600\u001b[90m\n",
      " Found hash: \u001b[92me6bc89b86359085c908765468781027c\u001b[90m\n",
      " Found hash: \u001b[92m649242854d89a8c2e148c220942160b3\u001b[90m\n",
      " Found hash: \u001b[92m1bf058ff376600c29077b71fc0f44383\u001b[90m\n",
      " Found hash: \u001b[92m45497843ba68b342ce638798a6778ad8\u001b[90m\n",
      " Found hash: \u001b[92m0c5381a08e5e991f5170445fe9096d0d\u001b[90m\n",
      " Found hash: \u001b[92m945116c8136f8ffef56b91c5cb5d1834\u001b[90m\n",
      " Found hash: \u001b[92mfe4f8c6996e5c2c8e6585e91b3e20e8c\u001b[90m\n",
      " Found hash: \u001b[92m36861e0136fca7003fedf5d58216299e\u001b[90m\n",
      " Found hash: \u001b[92m3f06432006d109bfeba94eb2cb7b9f87\u001b[90m\n",
      " Found hash: \u001b[92ma53a916adf48efefd5a2aa0861ebbc07\u001b[90m\n",
      " Found hash: \u001b[92m83a062cf6545b990c13b4398035a29d0\u001b[90m\n",
      " Found hash: \u001b[92mb9dddc80bc7bc43b78acd2c7234d358f\u001b[90m\n",
      " Found hash: \u001b[92m23d5b23255c78fff1dcf0adebd0710b2\u001b[90m\n",
      " Found hash: \u001b[92m75d7822d25873fd727beecf0744affa4\u001b[90m\n",
      " Found hash: \u001b[92me8e8832f251be73550f32c605bc94036\u001b[90m\n",
      " Found hash: \u001b[92m4880a3827739aad0293e535d4dc1f0bb\u001b[90m\n",
      " Found hash: \u001b[92me046855909cf5646e055a89e1597e508\u001b[90m\n",
      " Found hash: \u001b[92m269550530cc127b6aa5a35925a7de6ce\u001b[90m\n",
      " Found hash: \u001b[92m57a60d7976565d8cdd076b645445c007\u001b[90m\n",
      " Found hash: \u001b[92m52b6a47f00a6927859b7b7d98a2aa876\u001b[90m\n",
      " Found hash: \u001b[92ma61c670a24d6794a95a9712f0d12b656\u001b[90m\n",
      " Process cookies\n",
      "Finished processing LookyLoo results.\n",
      "\n",
      "\n"
     ]
    }
   ],
   "source": [
    "# Get the results from LookyLoo\n",
    "from datetime import datetime, timezone\n",
    "playbook_results[\"lookyloo\"][\"hostnames\"] = []\n",
    "playbook_results[\"lookyloo\"][\"cookies\"] = [] \n",
    "playbook_results[\"lookyloo\"][\"hashes\"] = [] \n",
    "playbook_results[\"lookyloo\"][\"urls\"] = [] \n",
    "\n",
    "print(\"Processing LookyLoo results\")\n",
    "if playbook_config[\"lookyloo_process_hostnames\"]:\n",
    "    print(\" Process hostnames\")\n",
    "    lookyloo_hostnames = lookyloo.get_hostnames(uuid)\n",
    "    if lookyloo_hostnames.get(\"message\", \"\") == \"Internal Server Error\":\n",
    "        lookyloo_hostnames = []\n",
    "    for hostname in lookyloo_hostnames.get(\"response\", {}).get(\"hostnames\", []):\n",
    "        if hostname not in playbook_results[\"lookyloo\"][\"hostnames\"]:\n",
    "            misp_attribute = {\"to_ids\": playbook_config[\"lookyloo_ids\"], \"type\": \"hostname\", \"category\": \"Network activity\", \n",
    "                          \"value\": hostname, \"comment\": \"LookyLoo associated hostname for {}\".format(playbook_results[\"url\"])}\n",
    "            created_attribute = misp.add_attribute(misp_event.uuid, misp_attribute, pythonify=True)\n",
    "            if not \"errors\" in created_attribute:\n",
    "                misp.add_object_reference(playbook_results[\"url_object\"].add_reference(created_attribute.uuid, \"related-to\"))\n",
    "                playbook_results[\"lookyloo\"][\"hostnames\"].append(hostname)\n",
    "                print(\" Found hostname: \\033[92m{}\\033[90m\".format(hostname))\n",
    "\n",
    "if playbook_config[\"lookyloo_process_urls\"]:\n",
    "    print(\" Process URLs\")\n",
    "    lookyloo_urls = lookyloo.get_urls(uuid)\n",
    "    if lookyloo_urls.get(\"message\", \"\") == \"Internal Server Error\":\n",
    "        lookyloo_urls = []\n",
    "    for url_value in lookyloo_urls.get(\"response\", {}).get(\"urls\", []):\n",
    "        misp_attribute = {\"to_ids\": playbook_config[\"lookyloo_ids\"], \"type\": \"url\", \"category\": \"Network activity\", \n",
    "                      \"value\": url_value, \"comment\": \"LookyLoo associated URL for {}\".format(playbook_results[\"url\"])}\n",
    "        created_attribute = misp.add_attribute(misp_event.uuid, misp_attribute, pythonify=True)\n",
    "        if not \"errors\" in created_attribute:\n",
    "            misp.add_object_reference(playbook_results[\"url_object\"].add_reference(created_attribute.uuid, \"related-to\"))\n",
    "            playbook_results[\"lookyloo\"][\"urls\"].append(url_value)\n",
    "            print(\" Found URL: \\033[92m{}\\033[90m\".format(url_value))\n",
    "\n",
    "if playbook_config[\"lookyloo_process_hashes\"]:\n",
    "    print(\" Process hashes\")\n",
    "    lookyloo_hashes = lookyloo.get_hashes(uuid, playbook_config[\"lookyloo_hashtype\"])\n",
    "    if lookyloo_hashes.get(\"message\", \"\") == \"Internal Server Error\":\n",
    "        lookyloo_hashes = []\n",
    "    for hash_value in lookyloo_hashes.get(\"response\", {}).get(\"hashes\", []):\n",
    "        misp_attribute = {\"to_ids\": playbook_config[\"lookyloo_ids\"], \"type\": playbook_config[\"lookyloo_hashtype\"], \"category\": \"Payload delivery\", \n",
    "                      \"value\": hash_value, \"comment\": \"LookyLoo associated hash for {}\".format(playbook_results[\"url\"])}\n",
    "        created_attribute = misp.add_attribute(misp_event.uuid, misp_attribute, pythonify=True)\n",
    "        if not \"errors\" in created_attribute:\n",
    "            misp.add_object_reference(playbook_results[\"url_object\"].add_reference(created_attribute.uuid, \"related-to\"))\n",
    "            playbook_results[\"lookyloo\"][\"hashes\"].append(hash_value)\n",
    "            print(\" Found hash: \\033[92m{}\\033[90m\".format(hash_value))\n",
    "        \n",
    "if playbook_config[\"lookyloo_process_cookies\"]:\n",
    "    print(\" Process cookies\")\n",
    "    lookyloo_cookies = lookyloo.get_cookies(uuid)\n",
    "    if not isinstance(lookyloo_cookies, list) and lookyloo_cookies.get(\"message\", \"\") == \"Internal Server Error\":\n",
    "        lookyloo_cookies = []\n",
    "    for cookie in lookyloo_cookies:\n",
    "        obj = MISPObject(\"cookie\")\n",
    "        iso_8601_format = datetime.fromtimestamp(cookie[\"expires\"]).isoformat()\n",
    "        cookie_attribute = \"; \".join(f\"{key}={value}\" for key, value in cookie.items())\n",
    "\n",
    "        cookie_attributes = [\n",
    "            (\"cookie\", \"text\", cookie_attribute),\n",
    "            (\"cookie-name\", \"text\", cookie[\"name\"]),\n",
    "            (\"cookie-value\", \"text\", cookie[\"value\"]),\n",
    "            (\"text\", \"text\", cookie[\"domain\"]),\n",
    "            (\"path\", \"text\", cookie[\"path\"]),\n",
    "            (\"expires\", \"datetime\", iso_8601_format),\n",
    "            (\"http-only\", \"boolean\", cookie[\"httpOnly\"]),\n",
    "            (\"secure\", \"boolean\", cookie[\"secure\"]),\n",
    "        ]\n",
    "        for attr_name, attr_type, value in cookie_attributes:\n",
    "            if value is not None:  # Add only if the value is not None\n",
    "                obj.add_attribute(attr_name, type=attr_type, value=value)\n",
    "                playbook_results[attr_name] = value\n",
    "        cookie_object = misp.add_object(misp_event.uuid, obj, pythonify=True)\n",
    "        if not \"errors\" in result:\n",
    "            print(\" Found cookie {}\".format(cookie_attribute))\n",
    "            misp.add_object_reference(playbook_results[\"url_object\"].add_reference(cookie_object.uuid, \"linked-to\"))\n",
    "            playbook_results[\"lookyloo\"][\"cookies\"].append({\"name\": cookie[\"name\"], \n",
    "                                                         \"value\": cookie[\"value\"], \n",
    "                                                         \"domain\": cookie[\"domain\"], \n",
    "                                                         \"path\": cookie[\"path\"],\n",
    "                                                         \"cookie\": cookie_attribute})\n",
    "# Not processed:\n",
    "# lookyloo.get_url_occurrences(playbook_results[\"url\"])\n",
    "# lookyloo.get_comparables(uuid)\n",
    "# lookyloo.get_hostname_occurrences(playbook_results[\"domain\"], 1, 20)\n",
    "print(\"Finished processing LookyLoo results.\\n\\n\")"
   ]
  },
  {
   "cell_type": "markdown",
   "id": "eb22006f-d050-4706-8e45-6a245a76f2d9",
   "metadata": {},
   "source": [
    "### LookyLoo submit results\n",
    "\n",
    "The results are now stored in `playbook_results`. Execute the next cell to display them in a table format."
   ]
  },
  {
   "cell_type": "code",
   "execution_count": 11,
   "id": "6dc4e7bf-3f9d-4f7a-95d2-db7dca8d9f7c",
   "metadata": {
    "tags": []
   },
   "outputs": [
    {
     "name": "stdout",
     "output_type": "stream",
     "text": [
      "+-----------+------------------------------------------+--------------------------------------------------------------------------------------------------------------------+----------+\n",
      "|   Source  | Value                                    | Type                                                                                                               | Name     |\n",
      "+-----------+------------------------------------------+--------------------------------------------------------------------------------------------------------------------+----------+\n",
      "|   hashes  | https://waterforvoiceless.org/invite.php | 0c5381a08e5e991f5170445fe9096d0d                                                                                   | md5      |\n",
      "|   hashes  | https://waterforvoiceless.org/invite.php | 1bf058ff376600c29077b71fc0f44383                                                                                   | md5      |\n",
      "|   hashes  | https://waterforvoiceless.org/invite.php | 23d5b23255c78fff1dcf0adebd0710b2                                                                                   | md5      |\n",
      "|   hashes  | https://waterforvoiceless.org/invite.php | 269550530cc127b6aa5a35925a7de6ce                                                                                   | md5      |\n",
      "|   hashes  | https://waterforvoiceless.org/invite.php | 36861e0136fca7003fedf5d58216299e                                                                                   | md5      |\n",
      "|   hashes  | https://waterforvoiceless.org/invite.php | 3ed35f36dfd75c17baf6a42c3b83f5df                                                                                   | md5      |\n",
      "|   hashes  | https://waterforvoiceless.org/invite.php | 3f06432006d109bfeba94eb2cb7b9f87                                                                                   | md5      |\n",
      "|   hashes  | https://waterforvoiceless.org/invite.php | 3fd2afa98866679439097f4ab102fe0a                                                                                   | md5      |\n",
      "|   hashes  | https://waterforvoiceless.org/invite.php | 45497843ba68b342ce638798a6778ad8                                                                                   | md5      |\n",
      "|   hashes  | https://waterforvoiceless.org/invite.php | 4880a3827739aad0293e535d4dc1f0bb                                                                                   | md5      |\n",
      "|   hashes  | https://waterforvoiceless.org/invite.php | 51a8390b47aa0582cf2d9c96c5addee2                                                                                   | md5      |\n",
      "|   hashes  | https://waterforvoiceless.org/invite.php | 52b6a47f00a6927859b7b7d98a2aa876                                                                                   | md5      |\n",
      "|   hashes  | https://waterforvoiceless.org/invite.php | 57a60d7976565d8cdd076b645445c007                                                                                   | md5      |\n",
      "|   hashes  | https://waterforvoiceless.org/invite.php | 647896685fb0e7ce29f3c9aae0ffb600                                                                                   | md5      |\n",
      "|   hashes  | https://waterforvoiceless.org/invite.php | 649242854d89a8c2e148c220942160b3                                                                                   | md5      |\n",
      "|   hashes  | https://waterforvoiceless.org/invite.php | 69bdb9cd40a5bbcb4587424b1c70f89b                                                                                   | md5      |\n",
      "|   hashes  | https://waterforvoiceless.org/invite.php | 6fc4fb0379376fa97553efff7f2fb078                                                                                   | md5      |\n",
      "|   hashes  | https://waterforvoiceless.org/invite.php | 75d7822d25873fd727beecf0744affa4                                                                                   | md5      |\n",
      "|   hashes  | https://waterforvoiceless.org/invite.php | 7d8f61e2e068ed82b0a9d0e9b27747b8                                                                                   | md5      |\n",
      "|   hashes  | https://waterforvoiceless.org/invite.php | 826eb77e86b02ab7724fe3d0141ff87c                                                                                   | md5      |\n",
      "|   hashes  | https://waterforvoiceless.org/invite.php | 83a062cf6545b990c13b4398035a29d0                                                                                   | md5      |\n",
      "|   hashes  | https://waterforvoiceless.org/invite.php | 9445b038807882a08b077f779b47a91f                                                                                   | md5      |\n",
      "|   hashes  | https://waterforvoiceless.org/invite.php | 945116c8136f8ffef56b91c5cb5d1834                                                                                   | md5      |\n",
      "|   hashes  | https://waterforvoiceless.org/invite.php | 9d7250ce567083bc7f4a9551cb8c7f25                                                                                   | md5      |\n",
      "|   hashes  | https://waterforvoiceless.org/invite.php | 9ffeb32e2d9efbf8f70caabded242267                                                                                   | md5      |\n",
      "|   hashes  | https://waterforvoiceless.org/invite.php | a53a916adf48efefd5a2aa0861ebbc07                                                                                   | md5      |\n",
      "|   hashes  | https://waterforvoiceless.org/invite.php | a61c670a24d6794a95a9712f0d12b656                                                                                   | md5      |\n",
      "|   hashes  | https://waterforvoiceless.org/invite.php | b06f73f043f97de48fbd39d7a6aa65e6                                                                                   | md5      |\n",
      "|   hashes  | https://waterforvoiceless.org/invite.php | b9dddc80bc7bc43b78acd2c7234d358f                                                                                   | md5      |\n",
      "|   hashes  | https://waterforvoiceless.org/invite.php | d46066b9fb359d5b9c059994d69bc0f7                                                                                   | md5      |\n",
      "|   hashes  | https://waterforvoiceless.org/invite.php | e046855909cf5646e055a89e1597e508                                                                                   | md5      |\n",
      "|   hashes  | https://waterforvoiceless.org/invite.php | e4aa45d49df5f82dc1311f7d3c388eb1                                                                                   | md5      |\n",
      "|   hashes  | https://waterforvoiceless.org/invite.php | e6bc89b86359085c908765468781027c                                                                                   | md5      |\n",
      "|   hashes  | https://waterforvoiceless.org/invite.php | e8e8832f251be73550f32c605bc94036                                                                                   | md5      |\n",
      "|   hashes  | https://waterforvoiceless.org/invite.php | f296ee2af16da884acb36cc5964a3918                                                                                   | md5      |\n",
      "|   hashes  | https://waterforvoiceless.org/invite.php | f4d6d3daeec9601f80acab0e52258259                                                                                   | md5      |\n",
      "|   hashes  | https://waterforvoiceless.org/invite.php | fe4f8c6996e5c2c8e6585e91b3e20e8c                                                                                   | md5      |\n",
      "| hostnames | https://waterforvoiceless.org/invite.php | cdnjs.cloudflare.com                                                                                               | hostname |\n",
      "| hostnames | https://waterforvoiceless.org/invite.php | fonts.googleapis.com                                                                                               | hostname |\n",
      "| hostnames | https://waterforvoiceless.org/invite.php | fonts.gstatic.com                                                                                                  | hostname |\n",
      "| hostnames | https://waterforvoiceless.org/invite.php | unpkg.com                                                                                                          | hostname |\n",
      "| hostnames | https://waterforvoiceless.org/invite.php | waterforvoiceless.org                                                                                              | hostname |\n",
      "|    urls   | https://waterforvoiceless.org/invite.php | blob:https://waterforvoiceless.org/3b03c643-cc16-4f1c-9fd0-7c36d6807a81                                            | URL      |\n",
      "|    urls   | https://waterforvoiceless.org/invite.php | https://cdnjs.cloudflare.com/ajax/libs/font-awesome/4.7.0/css/font-awesome.min.css                                 | URL      |\n",
      "|    urls   | https://waterforvoiceless.org/invite.php | https://fonts.googleapis.com/css2?family=Arimo:wght@400;700&family=Edu NSW ACT Foundation:wght@700&display=swap    | URL      |\n",
      "|    urls   | https://waterforvoiceless.org/invite.php | https://fonts.gstatic.com/s/arimo/v29/P5sMzZCDf9_T_10ZxCE.woff2                                                    | URL      |\n",
      "|    urls   | https://waterforvoiceless.org/invite.php | https://unpkg.com/splitting/dist/splitting.min.js                                                                  | URL      |\n",
      "|    urls   | https://waterforvoiceless.org/invite.php | https://unpkg.com/splitting@1.1.0/dist/splitting.min.js                                                            | URL      |\n",
      "|    urls   | https://waterforvoiceless.org/invite.php | https://waterforvoiceless.org/invite.php                                                                           | URL      |\n",
      "|    urls   | https://waterforvoiceless.org/invite.php | https://waterforvoiceless.org/wp-content/plugins/contact-form-7/includes/css/styles.css?ver=5.8.5                  | URL      |\n",
      "|    urls   | https://waterforvoiceless.org/invite.php | https://waterforvoiceless.org/wp-content/plugins/contact-form-7/includes/js/index.js?ver=5.8.5                     | URL      |\n",
      "|    urls   | https://waterforvoiceless.org/invite.php | https://waterforvoiceless.org/wp-content/plugins/contact-form-7/includes/swv/js/index.js?ver=5.8.5                 | URL      |\n",
      "|    urls   | https://waterforvoiceless.org/invite.php | https://waterforvoiceless.org/wp-content/plugins/extensions-for-cf7/assets/js/conditional-field.js?ver=3.0.4       | URL      |\n",
      "|    urls   | https://waterforvoiceless.org/invite.php | https://waterforvoiceless.org/wp-content/plugins/extensions-for-cf7/assets/js/redirect.js?ver=3.0.4                | URL      |\n",
      "|    urls   | https://waterforvoiceless.org/invite.php | https://waterforvoiceless.org/wp-content/plugins/shared-files=/dist/basiclightbox/basicLightbox.min.css?ver=1.7.11 | URL      |\n",
      "|    urls   | https://waterforvoiceless.org/invite.php | https://waterforvoiceless.org/wp-content/plugins/shared-files=/dist/basiclightbox/basicLightbox.min.js?ver=1.7.11  | URL      |\n",
      "|    urls   | https://waterforvoiceless.org/invite.php | https://waterforvoiceless.org/wp-content/plugins/shared-files=/dist/css/p.css?ver=1.7.11                           | URL      |\n",
      "|    urls   | https://waterforvoiceless.org/invite.php | https://waterforvoiceless.org/wp-content/plugins/shared-files=/dist/js/p.js?ver=1.7.11                             | URL      |\n",
      "|    urls   | https://waterforvoiceless.org/invite.php | https://waterforvoiceless.org/wp-content/plugins/simple-news/css/news.css?ver=6.5.5                                | URL      |\n",
      "|    urls   | https://waterforvoiceless.org/invite.php | https://waterforvoiceless.org/wp-content/themes/twentytwentyone/assets/css/custom-color-overrides.css?ver=2.0      | URL      |\n",
      "|    urls   | https://waterforvoiceless.org/invite.php | https://waterforvoiceless.org/wp-content/themes/twentytwentyone/assets/css/print.css?ver=2.0                       | URL      |\n",
      "|    urls   | https://waterforvoiceless.org/invite.php | https://waterforvoiceless.org/wp-content/themes/twentytwentyone/assets/js/jquery.easing.1.3.js                     | URL      |\n",
      "|    urls   | https://waterforvoiceless.org/invite.php | https://waterforvoiceless.org/wp-content/themes/twentytwentyone/assets/js/primary-navigation.js?ver=2.0            | URL      |\n",
      "|    urls   | https://waterforvoiceless.org/invite.php | https://waterforvoiceless.org/wp-content/themes/twentytwentyone/assets/js/responsive-embeds.js?ver=2.0             | URL      |\n",
      "|    urls   | https://waterforvoiceless.org/invite.php | https://waterforvoiceless.org/wp-content/themes/twentytwentyone/style.css?ver=2.0                                  | URL      |\n",
      "|    urls   | https://waterforvoiceless.org/invite.php | https://waterforvoiceless.org/wp-content/uploads/2022/10/donate-icons.png                                          | URL      |\n",
      "|    urls   | https://waterforvoiceless.org/invite.php | https://waterforvoiceless.org/wp-content/uploads/2022/10/facbook.png                                               | URL      |\n",
      "|    urls   | https://waterforvoiceless.org/invite.php | https://waterforvoiceless.org/wp-content/uploads/2022/10/fav-icon.png                                              | URL      |\n",
      "|    urls   | https://waterforvoiceless.org/invite.php | https://waterforvoiceless.org/wp-content/uploads/2022/10/footer-logo.png                                           | URL      |\n",
      "|    urls   | https://waterforvoiceless.org/invite.php | https://waterforvoiceless.org/wp-content/uploads/2022/10/mail.png                                                  | URL      |\n",
      "|    urls   | https://waterforvoiceless.org/invite.php | https://waterforvoiceless.org/wp-content/uploads/2022/10/top-icon.png                                              | URL      |\n",
      "|    urls   | https://waterforvoiceless.org/invite.php | https://waterforvoiceless.org/wp-content/uploads/2022/10/top-logo.png                                              | URL      |\n",
      "|    urls   | https://waterforvoiceless.org/invite.php | https://waterforvoiceless.org/wp-content/uploads/2022/10/twitter.png                                               | URL      |\n",
      "|    urls   | https://waterforvoiceless.org/invite.php | https://waterforvoiceless.org/wp-content/uploads/2022/10/youtube.png                                               | URL      |\n",
      "|    urls   | https://waterforvoiceless.org/invite.php | https://waterforvoiceless.org/wp-content/uploads/2022/12/insta-icon.png                                            | URL      |\n",
      "|    urls   | https://waterforvoiceless.org/invite.php | https://waterforvoiceless.org/wp-includes/css/dist/block-library/style.min.css?ver=6.5.5                           | URL      |\n",
      "|    urls   | https://waterforvoiceless.org/invite.php | https://waterforvoiceless.org/wp-includes/js/jquery/jquery-migrate.min.js?ver=3.4.1                                | URL      |\n",
      "|    urls   | https://waterforvoiceless.org/invite.php | https://waterforvoiceless.org/wp-includes/js/jquery/jquery.min.js?ver=3.7.1                                        | URL      |\n",
      "+-----------+------------------------------------------+--------------------------------------------------------------------------------------------------------------------+----------+\n"
     ]
    }
   ],
   "source": [
    "# Put the correlations in a pretty table. We can use this table later also for the summary\n",
    "table = PrettyTable()\n",
    "table.field_names = [\"Source\", \"Value\", \"Type\", \"Name\"]\n",
    "table.align[\"Value\"] = \"l\"\n",
    "table.align[\"Category\"] = \"l\"\n",
    "table.align[\"Type\"] = \"l\"\n",
    "table.align[\"Name\"] = \"l\"\n",
    "table._max_width = {\"Name\": 50}\n",
    "\n",
    "module_name = \"lookyloo\"\n",
    "submodule_name = \"hostnames\"\n",
    "for match in playbook_results[module_name][submodule_name]:\n",
    "    table.add_row([submodule_name, playbook_results[\"url\"], match, \"hostname\"])\n",
    "submodule_name = \"cookies\"\n",
    "for match in playbook_results[module_name][submodule_name]:\n",
    "    table.add_row([submodule_name, playbook_results[\"url\"], match[\"cookie\"], match[\"name\"]])\n",
    "submodule_name = \"urls\"\n",
    "for match in playbook_results[module_name][submodule_name]:\n",
    "    table.add_row([submodule_name, playbook_results[\"url\"], match, \"URL\"])\n",
    "submodule_name = \"hashes\"\n",
    "for match in playbook_results[module_name][submodule_name]:\n",
    "    table.add_row([submodule_name, playbook_results[\"url\"], match, playbook_config[\"lookyloo_hashtype\"]])\n",
    "print(table.get_string(sortby=\"Value\"))\n",
    "table_lookyloo = table"
   ]
  },
  {
   "cell_type": "markdown",
   "id": "448e1ec3-9e0b-497f-83ec-a87b5cebdf01",
   "metadata": {},
   "source": [
    "## IN:3 Submit the URL to URLscan\n",
    "\n",
    "This section **submits** the URL to [URLscan.io](https://urlscan.io/) for scanning. It does this via the MISP module. Take care the URL does not contain sensitive or confidential information."
   ]
  },
  {
   "cell_type": "code",
   "execution_count": 12,
   "id": "37f9765e-b7ad-428f-ab1d-9acf8b612dc6",
   "metadata": {
    "tags": []
   },
   "outputs": [
    {
     "name": "stdout",
     "output_type": "stream",
     "text": [
      "Submit \u001b[92mhttps://waterforvoiceless.org/invite.php\u001b[90m to \u001b[92murlscan\u001b[90m\n",
      " Got domain \u001b[92mwaterforvoiceless.org\u001b[90m\n",
      " Got ip-dst \u001b[92m162.241.169.194\u001b[90m\n",
      " Got hostname \u001b[92m162-241-169-194.unifiedlayer.com\u001b[90m\n",
      " Got text \u001b[92mcountry: US\u001b[90m\n",
      " Got AS \u001b[92mAS46606\u001b[90m\n",
      " Got text \u001b[92mUNIFIEDLAYER-AS-1, US\u001b[90m\n",
      " Got text \u001b[92mR11\u001b[90m\n",
      " Got text \u001b[92mPage not found – Water for Voiceless\u001b[90m\n"
     ]
    },
    {
     "name": "stderr",
     "output_type": "stream",
     "text": [
      "Something went wrong (403): {'saved': False, 'name': 'Could not add Attribute', 'message': 'Could not add Attribute', 'url': '/attributes/add', 'errors': {'value': ['A similar attribute already exists for this event.']}}\n"
     ]
    },
    {
     "name": "stdout",
     "output_type": "stream",
     "text": [
      " Got text \u001b[92mnginx/1.25.5\u001b[90m\n",
      " Got link \u001b[92mhttps://urlscan.io/result/0e199b24-36af-4884-854c-26c0373d73b6/\u001b[90m\n",
      " Got link \u001b[92mhttps://urlscan.io/screenshots/0e199b24-36af-4884-854c-26c0373d73b6.png\u001b[90m\n",
      " Got \u001b[92mscreenshot\u001b[90m\n",
      "Finished urlscan.\n",
      "\n",
      "\n"
     ]
    }
   ],
   "source": [
    "# Submit the URL to URLscan\n",
    "module_name = \"urlscan\"\n",
    "check_screenshot = \"/screenshots/\"\n",
    "check_result = \"/result/\"\n",
    "playbook_results[module_name] = {}\n",
    "\n",
    "if misp_modules[module_name][\"enabled\"] and len(query) > 0:\n",
    "    data = {\n",
    "        \"url\": playbook_results[\"url\"],\n",
    "        \"config\": {\"apikey\": urlscan_apikey},\n",
    "        \"module\": module_name\n",
    "    }\n",
    "    print(\"Submit \\033[92m{}\\033[90m to \\033[92m{}\\033[90m\".format(playbook_results[\"url\"], module_name))\n",
    "    result = requests.post(\"{}/query\".format(misp_modules_url), headers=misp_modules_headers, json=data)\n",
    "    if \"error\" in result.json():\n",
    "        print(\"Error: \\033[91m{}\\033[90m\".format(result.json()[\"error\"]))\n",
    "    else:\n",
    "        if \"results\" in result.json() and len(result.json()[\"results\"]) > 0:\n",
    "            result_json = result.json()[\"results\"]\n",
    "            for attribute in result_json:\n",
    "                misp_attribute = {\"type\": attribute[\"types\"], \"category\": attribute[\"categories\"][0], \n",
    "                                  \"value\": attribute[\"values\"], \"comment\": attribute[\"comment\"]}\n",
    "                created_attribute = misp.add_attribute(misp_event.uuid, misp_attribute, pythonify=True)\n",
    "                if not \"errors\" in created_attribute:\n",
    "                    misp.add_object_reference(playbook_results[\"url_object\"].add_reference(created_attribute.uuid, \"related-to\"))\n",
    "                    urlscan_type = False\n",
    "                    if misp_attribute[\"type\"] == \"text\":\n",
    "                        urlscan_type = \"text\"\n",
    "                        # Do we already have 'new' comment style for this module?\n",
    "                        if \" - \" in misp_attribute[\"comment\"]:\n",
    "                            urlscan_type = misp_attribute[\"comment\"].split(\" - \")[1]\n",
    "                    else:\n",
    "                        urlscan_type = misp_attribute[\"type\"]\n",
    "                    if urlscan_type:\n",
    "                        if playbook_results[module_name].get(urlscan_type):\n",
    "                            playbook_results[module_name][urlscan_type].append(misp_attribute[\"value\"])\n",
    "                        else:\n",
    "                            playbook_results[module_name][urlscan_type] = [misp_attribute[\"value\"]]\n",
    "                    print(\" Got {} \\033[92m{}\\033[90m\".format(misp_attribute[\"type\"], misp_attribute[\"value\"]))\n",
    "                    if check_result in misp_attribute[\"value\"]:\n",
    "                        playbook_results[\"urlscan_resultlink\"] = misp_attribute[\"value\"]\n",
    "                    #if urlscan_type == \"Country/City\":\n",
    "                    #    playbook_results[module_name][\"geolocation\"] = misp_attribute[\"value\"]\n",
    "                    if check_screenshot in misp_attribute[\"value\"]:\n",
    "                        screenshot_data = requests.get(misp_attribute[\"value\"])\n",
    "                        b_screenshot_data = base64.b64encode(screenshot_data.content).decode('utf-8')\n",
    "                        playbook_results[\"screenshot\"] = b_screenshot_data\n",
    "                        attribute = MISPAttribute()\n",
    "                        attribute.value = \"screenshot-{}-{}\".format(playbook_results[\"url\"], misp_attribute[\"value\"].split(\"screenshots/\")[1])\n",
    "                        attribute.to_ids = False\n",
    "                        attribute.type = \"attachment\"\n",
    "                        attribute.disable_correlation = True\n",
    "                        attribute.comment = \"Screenshot for {}\".format(playbook_results[\"url\"])\n",
    "                        attribute.data = b_screenshot_data\n",
    "                        attribute_screenshot = misp.add_attribute(misp_event.uuid, attribute, pythonify=True)\n",
    "                        if not \"errors\" in attribute_screenshot:\n",
    "                            misp.add_object_reference(playbook_results[\"url_object\"].add_reference(attribute_screenshot.uuid, \"screenshot-of\"))\n",
    "                            print(\" Got \\033[92mscreenshot\\033[90m\")\n",
    "    \n",
    "print(\"Finished {}.\\n\\n\".format(module_name))"
   ]
  },
  {
   "cell_type": "markdown",
   "id": "7168ccc2-1480-4540-9e2e-d748a0a2e80e",
   "metadata": {},
   "source": [
    "### URLscan submit results\n",
    "\n",
    "The results are now stored in `playbook_results`. Execute the next cell to display them in a table format."
   ]
  },
  {
   "cell_type": "code",
   "execution_count": 13,
   "id": "1b2e559a-8b79-4883-a4fe-2f09e21f894c",
   "metadata": {
    "tags": []
   },
   "outputs": [
    {
     "name": "stdout",
     "output_type": "stream",
     "text": [
      "+---------+------------------------------------------+--------------+----------------------------------------------------+\n",
      "|  Source | Value                                    | Type         | Enriched                                           |\n",
      "+---------+------------------------------------------+--------------+----------------------------------------------------+\n",
      "| urlscan | https://waterforvoiceless.org/invite.php | AS           | AS46606                                            |\n",
      "| urlscan | https://waterforvoiceless.org/invite.php | ASN name     | UNIFIEDLAYER-AS-1, US                              |\n",
      "| urlscan | https://waterforvoiceless.org/invite.php | Country/City | country: US                                        |\n",
      "| urlscan | https://waterforvoiceless.org/invite.php | Page title   | Page not found – Water for Voiceless               |\n",
      "| urlscan | https://waterforvoiceless.org/invite.php | Server       | nginx/1.25.5                                       |\n",
      "| urlscan | https://waterforvoiceless.org/invite.php | TLS Issuer   | R11                                                |\n",
      "| urlscan | https://waterforvoiceless.org/invite.php | domain       | waterforvoiceless.org                              |\n",
      "| urlscan | https://waterforvoiceless.org/invite.php | hostname     | 162-241-169-194.unifiedlayer.com                   |\n",
      "| urlscan | https://waterforvoiceless.org/invite.php | ip-dst       | 162.241.169.194                                    |\n",
      "| urlscan | https://waterforvoiceless.org/invite.php | link         | https://urlscan.io/result/0e199b24-36af-4884-854c- |\n",
      "|         |                                          |              | 26c0373d73b6/                                      |\n",
      "|         |                                          |              | https://urlscan.io/screenshots/0e199b24-36af-4884- |\n",
      "|         |                                          |              | 854c-26c0373d73b6.png                              |\n",
      "+---------+------------------------------------------+--------------+----------------------------------------------------+\n"
     ]
    }
   ],
   "source": [
    "# Put the correlations in a pretty table. We can use this table later also for the summary\n",
    "table = PrettyTable()\n",
    "table.field_names = [\"Source\", \"Value\", \"Type\", \"Enriched\"]\n",
    "table.align[\"Value\"] = \"l\"\n",
    "table.align[\"Category\"] = \"l\"\n",
    "table.align[\"Type\"] = \"l\"\n",
    "table.align[\"Enriched\"] = \"l\"\n",
    "table._max_width = {\"Enriched\": 50}\n",
    "for match in playbook_results[module_name]:\n",
    "    table.add_row([module_name, playbook_results[\"url\"], match, \"\\n\".join(playbook_results[module_name][match])])\n",
    "print(table.get_string(sortby=\"Value\"))\n",
    "table_urlscan = table"
   ]
  },
  {
   "cell_type": "markdown",
   "id": "7aefa562-90fb-449d-be2e-cccf76060e74",
   "metadata": {},
   "source": [
    "# Correlation\n",
    "\n",
    "## CR:1 Correlation with MISP events\n",
    "\n",
    "This cell searches the **MISP server** for events that have a match with the URL. A summary of the correlation is also shown at the end of the playbook.\n",
    "\n",
    "Only **published** events (`playbook_config[\"correlation_published\"]`) and attributes that have the **to_ids** flag (`playbook_config[\"correlation_to_ids\"]`) set are taken into account. There is a default limit of **1000 hits** (`playbook_config[\"correlation_limit\"]`)."
   ]
  },
  {
   "cell_type": "code",
   "execution_count": 14,
   "id": "cda8eaef-0f47-4428-a98a-1b45c020a5b5",
   "metadata": {
    "tags": []
   },
   "outputs": [
    {
     "name": "stdout",
     "output_type": "stream",
     "text": [
      "Search in MISP events.\n",
      " Found match for \u001b[92mhttps://waterforvoiceless.org/invite.php\u001b[90m in \u001b[92m3450\u001b[90m\n",
      " Found match for \u001b[92mwaterforvoiceless.org\u001b[90m in \u001b[92m3450\u001b[90m\n",
      "Finished correlating with MISP events.\n",
      "\n",
      "\n"
     ]
    }
   ],
   "source": [
    "# Query MISP and find the correlations\n",
    "print(\"Search in MISP events.\")\n",
    "search_value = [playbook_results[\"url\"], playbook_results[\"domain\"], playbook_results[\"host\"]]\n",
    "playbook_results[\"related_events\"] = []\n",
    "match = False\n",
    "\n",
    "for value in search_value:\n",
    "    search_match = misp.search(\"events\", value=value, published=playbook_config[\"correlation_published\"],\n",
    "                                        limit=playbook_config[\"correlation_limit\"], pythonify=True)\n",
    "    for event in search_match:\n",
    "        if event.uuid != playbook_results[\"event\"]:   # Skip the event we just created for this playbook\n",
    "            entry = {\"source\": \"MISP\", \"org\": event.org.name, \"event_id\": event.id, \n",
    "                                 \"event_info\": event.info, \"date\": event.date,\n",
    "                                 \"value\": value}\n",
    "            if entry not in playbook_results[\"related_events\"]:\n",
    "                match = True\n",
    "                print(\" Found match for \\033[92m{}\\033[90m in \\033[92m{}\\033[90m\".format(value, event.id, event.info))\n",
    "                playbook_results[\"related_events\"].append(entry)\n",
    "if not match:  \n",
    "    print(\"\\033[93mNo correlating MISP events\\033[90m found for {}.\".format(playbook_results[\"url\"]))\n",
    "print(\"Finished correlating with MISP events.\\n\\n\")"
   ]
  },
  {
   "cell_type": "markdown",
   "id": "6c10d315-123f-4622-b764-13c1a036ebb5",
   "metadata": {},
   "source": [
    "### MISP events correlation table\n",
    "\n",
    "The correlation results are now stored in `playbook_results`. Execute the next cell to display them in a table format."
   ]
  },
  {
   "cell_type": "code",
   "execution_count": 15,
   "id": "7524ba5f-8b38-413c-ac58-a7ac35cdfceb",
   "metadata": {
    "tags": []
   },
   "outputs": [
    {
     "name": "stdout",
     "output_type": "stream",
     "text": [
      "+--------+------------------------------------------+----------------------------------------------------+----------+\n",
      "| Source | Value                                    | Event                                              | Event ID |\n",
      "+--------+------------------------------------------+----------------------------------------------------+----------+\n",
      "|  MISP  | https://waterforvoiceless.org/invite.php | APT29 Uses WINELOADER to Target German Political   | 3450     |\n",
      "|        |                                          | Parties                                            |          |\n",
      "|  MISP  | waterforvoiceless.org                    | APT29 Uses WINELOADER to Target German Political   | 3450     |\n",
      "|        |                                          | Parties                                            |          |\n",
      "+--------+------------------------------------------+----------------------------------------------------+----------+\n"
     ]
    }
   ],
   "source": [
    "# Put the correlations in a pretty table. We can use this table later also for the summary\n",
    "table = PrettyTable()\n",
    "table.field_names = [\"Source\", \"Value\", \"Event\", \"Event ID\"]\n",
    "table.align[\"Value\"] = \"l\"\n",
    "table.align[\"Event\"] = \"l\"\n",
    "table.align[\"Event ID\"] = \"l\"\n",
    "table._max_width = {\"Event\": 50}\n",
    "for match in playbook_results[\"related_events\"]:\n",
    "    table.add_row([match[\"source\"], match[\"value\"], match[\"event_info\"], match[\"event_id\"]])\n",
    "print(table.get_string(sortby=\"Value\"))\n",
    "table_mispevents = table"
   ]
  },
  {
   "cell_type": "markdown",
   "id": "0469a986-b85e-4f99-ac16-8957447ec76e",
   "metadata": {},
   "source": [
    "## CR:2 Correlation with MISP feeds\n",
    "\n",
    "Search the MISP feeds for events that match with the URL. The results depend on the feeds you have enabled on your MISP server. "
   ]
  },
  {
   "cell_type": "code",
   "execution_count": 16,
   "id": "85a1cfd9-128e-4d79-9bad-d2d81f54ea52",
   "metadata": {
    "tags": []
   },
   "outputs": [
    {
     "name": "stdout",
     "output_type": "stream",
     "text": [
      "Search in MISP feeds.\n",
      " Match \u001b[92mhttps://waterforvoiceless.org/invite.php\u001b[90m in \u001b[92mThe Botvrij.eu Data\u001b[90m.\n",
      " Match \u001b[92mhttps://waterforvoiceless.org/invite.php\u001b[90m in \u001b[92mThe Botvrij.eu Data\u001b[90m.\n",
      " Match \u001b[92mwaterforvoiceless.org\u001b[90m in \u001b[92mThe Botvrij.eu Data\u001b[90m.\n",
      "Finished searching in MISP feeds.\n"
     ]
    }
   ],
   "source": [
    "# Query MISP feeds and find the correlations\n",
    "print(\"Search in MISP feeds.\")\n",
    "misp_cache_url = \"{}/feeds/searchCaches/\".format(misp_url)\n",
    "search_value = [playbook_results[\"url\"], playbook_results[\"domain\"], playbook_results[\"host\"]]\n",
    "playbook_results[\"related_feeds\"] = []    \n",
    "match = False\n",
    "\n",
    "# Instead of GET, use POST (https://github.com/MISP/MISP/issues/7478)\n",
    "for value in search_value:\n",
    "    cache_results = requests.post(misp_cache_url, headers=misp_headers, verify=misp_verifycert, json={\"value\": value})\n",
    "    for result in cache_results.json():\n",
    "        if \"Feed\" in result:\n",
    "            match = True\n",
    "            for match in result[\"Feed\"][\"direct_urls\"]:\n",
    "                entry = {\"source\": \"Feeds\", \"value\": value, \"feed_name\": result[\"Feed\"][\"name\"], \"match_url\": match[\"url\"]}\n",
    "                if entry not in playbook_results[\"related_feeds\"]:\n",
    "                    print(\" Match \\033[92m{}\\033[90m in \\033[92m{}\\033[90m.\".format(value, result[\"Feed\"][\"name\"]))\n",
    "                    playbook_results[\"related_feeds\"].append(entry)\n",
    "if not match:\n",
    "    print(\"\\033[93mNo correlating information\\033[90m found in MISP feeds.\")\n",
    "print(\"Finished searching in MISP feeds.\")"
   ]
  },
  {
   "cell_type": "markdown",
   "id": "597185dd-bfd2-4dbb-9a93-46dff4f68945",
   "metadata": {},
   "source": [
    "### MISP feed correlations table\n",
    "\n",
    "The correlation results are now stored in `playbook_results`. Execute the next cell to display them in a table format."
   ]
  },
  {
   "cell_type": "code",
   "execution_count": 17,
   "id": "0e1734e3-b012-44ab-b6fa-d7090758bdaf",
   "metadata": {
    "tags": []
   },
   "outputs": [
    {
     "name": "stdout",
     "output_type": "stream",
     "text": [
      "+--------+------------------------------------------+---------------------+---------------------------------------------------------------------------------------+\n",
      "| Source | Value                                    | Feed                | Feed URL                                                                              |\n",
      "+--------+------------------------------------------+---------------------+---------------------------------------------------------------------------------------+\n",
      "| Feeds  | https://waterforvoiceless.org/invite.php | The Botvrij.eu Data | https://misp.demo.cudeso.be/feeds/previewEvent/2/9ceb0659-15fc-4732-a8ef-bfcfebd1f068 |\n",
      "| Feeds  | https://waterforvoiceless.org/invite.php | The Botvrij.eu Data | https://misp.demo.cudeso.be/feeds/previewEvent/2/cc498a46-ea03-4bb4-8212-e92402b7aaf3 |\n",
      "| Feeds  | waterforvoiceless.org                    | The Botvrij.eu Data | https://misp.demo.cudeso.be/feeds/previewEvent/2/cc498a46-ea03-4bb4-8212-e92402b7aaf3 |\n",
      "+--------+------------------------------------------+---------------------+---------------------------------------------------------------------------------------+\n"
     ]
    }
   ],
   "source": [
    "# Put the correlations in a pretty table. We can use this table later also for the summary\n",
    "table = PrettyTable()\n",
    "table.field_names = [\"Source\", \"Value\", \"Feed\", \"Feed URL\"]\n",
    "table.align[\"Value\"] = \"l\"\n",
    "table.align[\"Feed\"] = \"l\"\n",
    "table.align[\"Feed URL\"] = \"l\"\n",
    "table._max_width = {\"Event\": 50}\n",
    "\n",
    "for match in playbook_results[\"related_feeds\"]:\n",
    "    table.add_row([match[\"source\"], match[\"value\"], match[\"feed_name\"], match[\"match_url\"]])\n",
    "print(table.get_string(sortby=\"Value\"))\n",
    "table_mispfeeds = table"
   ]
  },
  {
   "cell_type": "markdown",
   "id": "dc903d95-22f5-4c46-aba9-f4c5c5aa601e",
   "metadata": {},
   "source": [
    "# Enrichment\n",
    "\n",
    "## ER:1 Enrich with historical information from URLscan\n",
    "\n",
    "This section queries [URLscan.io](https://urlscan.io/) for historical scan results of the **URL**.\n",
    "\n",
    "Note that attributes already obtained previously by submitting the URL to URLscan cannot be added again (MISP does not accept multiple attributes of the same category, type and value)."
   ]
  },
  {
   "cell_type": "code",
   "execution_count": 18,
   "id": "dda9d320-9d03-48a4-81c7-67debd8e2535",
   "metadata": {
    "tags": []
   },
   "outputs": [
    {
     "name": "stdout",
     "output_type": "stream",
     "text": [
      "Search in \u001b[92murlscan-history\u001b[90m.\n",
      " Received URLscan results for \u001b[92mhttps://waterforvoiceless.org/invite.php\u001b[90m\n"
     ]
    },
    {
     "name": "stderr",
     "output_type": "stream",
     "text": [
      "Something went wrong (403): {'saved': False, 'name': 'Could not add Attribute', 'message': 'Could not add Attribute', 'url': '/attributes/add', 'errors': {'value': ['A similar attribute already exists for this event.']}}\n",
      "Something went wrong (403): {'saved': False, 'name': 'Could not add Attribute', 'message': 'Could not add Attribute', 'url': '/attributes/add', 'errors': {'value': ['A similar attribute already exists for this event.']}}\n"
     ]
    },
    {
     "name": "stdout",
     "output_type": "stream",
     "text": [
      "Finished querying urlscan-history for enrichment.\n",
      "Processing enrichment of urlscan-history\n"
     ]
    },
    {
     "name": "stderr",
     "output_type": "stream",
     "text": [
      "Something went wrong (403): {'saved': False, 'name': 'Could not add Attribute', 'message': 'Could not add Attribute', 'url': '/attributes/add', 'errors': {'value': ['A similar attribute already exists for this event.']}}\n",
      "Something went wrong (403): {'saved': False, 'name': 'Could not add Attribute', 'message': 'Could not add Attribute', 'url': '/attributes/add', 'errors': {'value': ['A similar attribute already exists for this event.']}}\n",
      "Something went wrong (403): {'saved': False, 'name': 'Could not add Attribute', 'message': 'Could not add Attribute', 'url': '/attributes/add', 'errors': {'value': ['A similar attribute already exists for this event.']}}\n",
      "Something went wrong (403): {'saved': False, 'name': 'Could not add Attribute', 'message': 'Could not add Attribute', 'url': '/attributes/add', 'errors': {'value': ['A similar attribute already exists for this event.']}}\n",
      "Something went wrong (403): {'saved': False, 'name': 'Could not add Attribute', 'message': 'Could not add Attribute', 'url': '/attributes/add', 'errors': {'value': ['A similar attribute already exists for this event.']}}\n",
      "Something went wrong (403): {'saved': False, 'name': 'Could not add Attribute', 'message': 'Could not add Attribute', 'url': '/attributes/add', 'errors': {'value': ['A similar attribute already exists for this event.']}}\n",
      "Something went wrong (403): {'saved': False, 'name': 'Could not add Attribute', 'message': 'Could not add Attribute', 'url': '/attributes/add', 'errors': {'value': ['A similar attribute already exists for this event.']}}\n",
      "Something went wrong (403): {'saved': False, 'name': 'Could not add Attribute', 'message': 'Could not add Attribute', 'url': '/attributes/add', 'errors': {'value': ['A similar attribute already exists for this event.']}}\n",
      "Something went wrong (403): {'saved': False, 'name': 'Could not add Attribute', 'message': 'Could not add Attribute', 'url': '/attributes/add', 'errors': {'value': ['A similar attribute already exists for this event.']}}\n",
      "Something went wrong (403): {'saved': False, 'name': 'Could not add Attribute', 'message': 'Could not add Attribute', 'url': '/attributes/add', 'errors': {'value': ['A similar attribute already exists for this event.']}}\n",
      "Something went wrong (403): {'saved': False, 'name': 'Could not add Attribute', 'message': 'Could not add Attribute', 'url': '/attributes/add', 'errors': {'value': ['A similar attribute already exists for this event.']}}\n",
      "Something went wrong (403): {'saved': False, 'name': 'Could not add Attribute', 'message': 'Could not add Attribute', 'url': '/attributes/add', 'errors': {'value': ['A similar attribute already exists for this event.']}}\n"
     ]
    },
    {
     "name": "stdout",
     "output_type": "stream",
     "text": [
      " Got \u001b[92mscreenshot\u001b[90m\n"
     ]
    },
    {
     "name": "stderr",
     "output_type": "stream",
     "text": [
      "Something went wrong (403): {'saved': False, 'name': 'Could not add Attribute', 'message': 'Could not add Attribute', 'url': '/attributes/add', 'errors': {'value': ['A similar attribute already exists for this event.']}}\n",
      "Something went wrong (403): {'saved': False, 'name': 'Could not add Attribute', 'message': 'Could not add Attribute', 'url': '/attributes/add', 'errors': {'value': ['A similar attribute already exists for this event.']}}\n",
      "Something went wrong (403): {'saved': False, 'name': 'Could not add Attribute', 'message': 'Could not add Attribute', 'url': '/attributes/add', 'errors': {'value': ['A similar attribute already exists for this event.']}}\n",
      "Something went wrong (403): {'saved': False, 'name': 'Could not add Attribute', 'message': 'Could not add Attribute', 'url': '/attributes/add', 'errors': {'value': ['A similar attribute already exists for this event.']}}\n"
     ]
    },
    {
     "name": "stdout",
     "output_type": "stream",
     "text": [
      " Got \u001b[92mscreenshot\u001b[90m\n"
     ]
    },
    {
     "name": "stderr",
     "output_type": "stream",
     "text": [
      "Something went wrong (403): {'saved': False, 'name': 'Could not add Attribute', 'message': 'Could not add Attribute', 'url': '/attributes/add', 'errors': {'value': ['A similar attribute already exists for this event.']}}\n",
      "Something went wrong (403): {'saved': False, 'name': 'Could not add Attribute', 'message': 'Could not add Attribute', 'url': '/attributes/add', 'errors': {'value': ['A similar attribute already exists for this event.']}}\n",
      "Something went wrong (403): {'saved': False, 'name': 'Could not add Attribute', 'message': 'Could not add Attribute', 'url': '/attributes/add', 'errors': {'value': ['A similar attribute already exists for this event.']}}\n",
      "Something went wrong (403): {'saved': False, 'name': 'Could not add Attribute', 'message': 'Could not add Attribute', 'url': '/attributes/add', 'errors': {'value': ['A similar attribute already exists for this event.']}}\n",
      "Something went wrong (403): {'saved': False, 'name': 'Could not add Attribute', 'message': 'Could not add Attribute', 'url': '/attributes/add', 'errors': {'value': ['A similar attribute already exists for this event.']}}\n"
     ]
    },
    {
     "name": "stdout",
     "output_type": "stream",
     "text": [
      " Got \u001b[92mscreenshot\u001b[90m\n"
     ]
    },
    {
     "name": "stderr",
     "output_type": "stream",
     "text": [
      "Something went wrong (403): {'saved': False, 'name': 'Could not add Attribute', 'message': 'Could not add Attribute', 'url': '/attributes/add', 'errors': {'value': ['A similar attribute already exists for this event.']}}\n",
      "Something went wrong (403): {'saved': False, 'name': 'Could not add Attribute', 'message': 'Could not add Attribute', 'url': '/attributes/add', 'errors': {'value': ['A similar attribute already exists for this event.']}}\n",
      "Something went wrong (403): {'saved': False, 'name': 'Could not add Attribute', 'message': 'Could not add Attribute', 'url': '/attributes/add', 'errors': {'value': ['A similar attribute already exists for this event.']}}\n"
     ]
    },
    {
     "name": "stdout",
     "output_type": "stream",
     "text": [
      " Got \u001b[92mscreenshot\u001b[90m\n",
      "Finished procesing urlscan-history enrichment results.\n",
      "\n",
      "\n"
     ]
    }
   ],
   "source": [
    "# Search historical scans in URLscan\n",
    "module_name = \"urlscan-history\"\n",
    "playbook_results[module_name] = {}\n",
    "enrichment = []\n",
    "print(\"Search in \\033[92m{}\\033[90m.\".format(module_name))\n",
    "\n",
    "url = playbook_results[\"url\"]\n",
    "for k in playbook_config[\"urlscan_replace\"]:\n",
    "    url = url.replace(k, \"\\{}\".format(k))      # Required by URLscan to avoid errors in the submit\n",
    "\n",
    "headers = {\"API-Key\": urlscan_apikey, \"Content-Type\": \"application/json\", \"Cache-Control\": \"no-cache\"}\n",
    "result = requests.get(\"{}/?size={}&q=page.url:{}\".format(urlscan_url, playbook_config[\"urlscan_size\"], url), headers=headers)\n",
    "if result.status_code == 200 and result.json().get(\"total\") > 0:\n",
    "    print(\" Received URLscan results for \\033[92m{}\\033[90m\".format(playbook_results[\"url\"]))\n",
    "    for el in result.json().get(\"results\"):\n",
    "        screenshot_data = requests.get(el[\"screenshot\"])\n",
    "        enrichment.append({\n",
    "                \"url\": el[\"page\"][\"url\"],\n",
    "                \"ip\": el[\"page\"].get(\"ip\", False),\n",
    "                \"ptr\": el[\"page\"].get(\"ptr\", False),\n",
    "                \"server\": el[\"page\"].get(\"server\", \"Unknown\").strip(),\n",
    "                \"title\": el[\"page\"].get(\"title\", \"\").strip(),\n",
    "                \"result\": el[\"result\"],\n",
    "                \"tlsIssuer\": el[\"page\"].get(\"tlsIssuer\", False),\n",
    "                \"screenshot\": el[\"screenshot\"],\n",
    "                \"screenshot_data\": screenshot_data\n",
    "        })\n",
    "print(\"Finished querying {} for enrichment.\".format(module_name))\n",
    "\n",
    "# Extract enriched elemnts\n",
    "print(\"Processing enrichment of {}\".format(module_name))\n",
    "urlscan_attribute_map = {\n",
    "        \"ip\": {\"type\": \"ip-dst\", \"category\": \"Network activity\", \"comment\": \"\"},\n",
    "        \"server\": {\"type\": \"text\", \"category\": \"External analysis\", \"comment\": \" - Server\"},\n",
    "        \"title\": {\"type\": \"text\", \"category\": \"External analysis\", \"comment\": \" - Page title\"},\n",
    "        \"ptr\": {\"type\": \"hostname\", \"category\": \"Network activity\", \"comment\": \"\"},\n",
    "        \"tlsIssuer\": {\"type\": \"text\", \"category\": \"External analysis\", \"comment\": \" - TLS Issuer\"},\n",
    "    }\n",
    "for enriched in enrichment:\n",
    "    for key, attribute_info in urlscan_attribute_map.items():\n",
    "        if key in enriched:\n",
    "            misp_attribute = {\n",
    "                \"type\": attribute_info[\"type\"],\n",
    "                \"category\": attribute_info[\"category\"],\n",
    "                \"value\": enriched[key],\n",
    "                \"comment\": \"{}: Historical scan from urlscan\".format(playbook_results[\"url\"]) + attribute_info[\"comment\"]\n",
    "            }\n",
    "            created_attribute = misp.add_attribute(misp_event.uuid, misp_attribute, pythonify=True)\n",
    "            if \"errors\" not in created_attribute:\n",
    "                print(\" Got \\033[92m{}\\033[90m\".format(enriched[key]))\n",
    "                misp.add_object_reference(playbook_results[\"url_object\"].add_reference(created_attribute.uuid, \"related-to\"))\n",
    "                urlscan_type = False\n",
    "                if misp_attribute[\"type\"] == \"text\":\n",
    "                    urlscan_type = \"text\"\n",
    "                    # Do we already have 'new' comment style for this module?\n",
    "                    if \" - \" in misp_attribute[\"comment\"]:\n",
    "                        urlscan_type = misp_attribute[\"comment\"].split(\" - \")[1]\n",
    "                else:\n",
    "                    urlscan_type = misp_attribute[\"type\"]\n",
    "                if urlscan_type:\n",
    "                    if playbook_results[module_name].get(attribute_info[\"type\"]):\n",
    "                        playbook_results[module_name][urlscan_type].append(misp_attribute[\"value\"])\n",
    "                    else:\n",
    "                        playbook_results[module_name][urlscan_type] = [misp_attribute[\"value\"]]\n",
    "                            \n",
    "    if \"screenshot\" in enriched:\n",
    "        b_screenshot_data = base64.b64encode(enriched[\"screenshot_data\"].content).decode('utf-8')\n",
    "        attribute = MISPAttribute()\n",
    "        attribute.value = \"screenshot-{}-{}\".format(playbook_results[\"url\"], enriched[\"screenshot\"].split(\"screenshots/\")[1])\n",
    "        attribute.to_ids = False\n",
    "        attribute.type = \"attachment\"\n",
    "        attribute.disable_correlation = True\n",
    "        screenshot_time = enriched.get(\"time\", \"\")\n",
    "        attribute.comment = \"Screenshot of historical scan {} for {}\".format(screenshot_time, playbook_results[\"url\"])\n",
    "        attribute.data = b_screenshot_data\n",
    "        attribute_screenshot = misp.add_attribute(misp_event.uuid, attribute, pythonify=True)                    \n",
    "        if not \"errors\" in attribute_screenshot:\n",
    "            misp.add_object_reference(playbook_results[\"url_object\"].add_reference(attribute_screenshot.uuid, \"screenshot-of\"))\n",
    "            print(\" Got \\033[92mscreenshot\\033[90m\")\n",
    "print(\"Finished procesing {} enrichment results.\\n\\n\".format(module_name))"
   ]
  },
  {
   "cell_type": "markdown",
   "id": "4f59a84a-3f5c-469b-9671-bf8ee2cd2d4d",
   "metadata": {},
   "source": [
    "### Historical URLscan results\n",
    "\n",
    "The results are now stored in `playbook_results`. Execute the next cell to display them in a table format."
   ]
  },
  {
   "cell_type": "code",
   "execution_count": 19,
   "id": "24eee842-8b88-4bcf-8d2e-a298066295b6",
   "metadata": {
    "tags": []
   },
   "outputs": [
    {
     "name": "stdout",
     "output_type": "stream",
     "text": [
      "+--------+-------+------+----------+\n",
      "| Source | Value | Type | Enriched |\n",
      "+--------+-------+------+----------+\n",
      "+--------+-------+------+----------+\n"
     ]
    }
   ],
   "source": [
    "# Put the correlations in a pretty table. We can use this table later also for the summary\n",
    "table = PrettyTable()\n",
    "table.field_names = [\"Source\", \"Value\", \"Type\", \"Enriched\"]\n",
    "table.align[\"Value\"] = \"l\"\n",
    "table.align[\"Category\"] = \"l\"\n",
    "table.align[\"Type\"] = \"l\"\n",
    "table.align[\"Enriched\"] = \"l\"\n",
    "table._max_width = {\"Enriched\": 50}\n",
    "for match in playbook_results[module_name]:\n",
    "    table.add_row([module_name, playbook_results[\"url\"], match, \"\\n\".join(playbook_results[module_name][match])])\n",
    "print(table.get_string(sortby=\"Value\"))\n",
    "table_urlscan_history = table"
   ]
  },
  {
   "cell_type": "markdown",
   "id": "2ab4bd03-1000-4ed8-a37e-2ad420db9ba0",
   "metadata": {
    "tags": []
   },
   "source": [
    "## ER:2 Enrich with DNS information\n",
    "\n",
    "The next cell queries the MISP DNS module and add the DNS resolution as a MISP `domain-ip` object. This new object is linked to the URL via a relation `resolves-to`.\n",
    "\n",
    "This module uses the default DNS resolver defined in the MISP module (8.8.8.8) but you can also specify your own DNS server with `module_dnsserver`."
   ]
  },
  {
   "cell_type": "code",
   "execution_count": 20,
   "id": "1e3b71b5-0c6e-4f1b-8ea8-d37d5d77c8d3",
   "metadata": {
    "tags": []
   },
   "outputs": [
    {
     "name": "stdout",
     "output_type": "stream",
     "text": [
      "Start \u001b[92mdns\u001b[90m.\n",
      "Query \u001b[92mhttps://waterforvoiceless.org/invite.php\u001b[90m\n",
      " Got \u001b[92m162.241.169.194\u001b[90m\n",
      "Finished DNS enrichment.\n",
      "\n",
      "\n"
     ]
    }
   ],
   "source": [
    "# DNS server to use. Leave blank to use 8.8.8.8 (default MISP module)\n",
    "module_dnsserver = \"\"\n",
    "\n",
    "module_name = \"dns\"\n",
    "module_comment = f\"From {module_name}\"\n",
    "playbook_results[module_name] = {}\n",
    "\n",
    "print(\"Start \\033[92m{}\\033[90m.\".format(module_name))\n",
    "if misp_modules[module_name][\"enabled\"] and len(query) > 0:\n",
    "    domain = urlparse(playbook_results[\"url\"]).netloc\n",
    "    attribute_type = \"domain\"\n",
    "    data = {\n",
    "        \"domain\": f\"{domain}\",\n",
    "        \"module\": module_name\n",
    "    }\n",
    "    if len(module_dnsserver) > 0:\n",
    "        data[\"config\"] = { \"nameserver\": module_dnsserver }\n",
    "    print(\"Query \\033[92m{}\\033[90m\".format(playbook_results[\"url\"]))\n",
    "    result = requests.post(\"{}/query\".format(misp_modules_url), headers=misp_modules_headers, json=data)\n",
    "    result_dns = result\n",
    "    if \"results\" in result.json() and len(result.json()[\"results\"]) > 0:\n",
    "        result_json = result.json()[\"results\"]\n",
    "        for entry in result_json:\n",
    "            if \"values\" in entry:\n",
    "                playbook_results[module_name][\"resolves\"] = []\n",
    "                for module_value in entry[\"values\"]:\n",
    "                    ip_object = MISPObject(\"domain-ip\")\n",
    "                    ip_object.add_attribute(\"ip\", module_value, comment=module_comment)\n",
    "                    ip_object_misp = misp.add_object(misp_event.uuid, ip_object, pythonify=True)\n",
    "                    if not \"errors\" in ip_object_misp:\n",
    "                        misp.add_object_reference(playbook_results[\"url_object\"].add_reference(ip_object_misp.uuid, \"resolves-to\"))\n",
    "                        print(\" Got \\033[92m{}\\033[90m\".format(module_value))\n",
    "                        if module_value not in playbook_results[module_name][\"resolves\"]:\n",
    "                            playbook_results[module_name][\"resolves\"].append(module_value)\n",
    "\n",
    "print(\"Finished DNS enrichment.\\n\\n\")"
   ]
  },
  {
   "cell_type": "markdown",
   "id": "05f84d4c-f867-4d26-891d-4e9e3f217a8e",
   "metadata": {},
   "source": [
    "### DNS enrichment table\n",
    "\n",
    "The results are now stored in `playbook_results`. Execute the next cell to display them in a table format."
   ]
  },
  {
   "cell_type": "code",
   "execution_count": 21,
   "id": "42fc89c4-98c4-42e4-b2ed-3360292147ce",
   "metadata": {
    "tags": []
   },
   "outputs": [
    {
     "name": "stdout",
     "output_type": "stream",
     "text": [
      "+--------+------------------------------------------+----------+-----------------+\n",
      "| Source | Value                                    | Type     | Enriched        |\n",
      "+--------+------------------------------------------+----------+-----------------+\n",
      "|  dns   | https://waterforvoiceless.org/invite.php | resolves | 162.241.169.194 |\n",
      "+--------+------------------------------------------+----------+-----------------+\n"
     ]
    }
   ],
   "source": [
    "# Put the correlations in a pretty table. We can use this table later also for the summary\n",
    "table = PrettyTable()\n",
    "table.field_names = [\"Source\", \"Value\", \"Type\", \"Enriched\"]\n",
    "table.align[\"Value\"] = \"l\"\n",
    "table.align[\"Category\"] = \"l\"\n",
    "table.align[\"Type\"] = \"l\"\n",
    "table.align[\"Enriched\"] = \"l\"\n",
    "table._max_width = {\"Enriched\": 50}\n",
    "for match in playbook_results[module_name]:\n",
    "    for resolve in playbook_results[module_name][\"resolves\"]:\n",
    "        table.add_row([module_name, playbook_results[\"url\"], match, resolve])\n",
    "print(table.get_string(sortby=\"Value\"))\n",
    "table_dns = table"
   ]
  },
  {
   "cell_type": "markdown",
   "id": "3db6f7de-4ceb-40f3-89e3-bf43e3ae27f8",
   "metadata": {},
   "source": [
    "## ER:3 Enrich with historical results from VirusTotal\n",
    "\n",
    "The next cell queries [VirusTotal](https://www.virustotal.com) for the historical scan resuls of the URL. The URL attribute in the MISP event is tagged with the returned categories, and the analysis results are added to the summary."
   ]
  },
  {
   "cell_type": "code",
   "execution_count": 22,
   "id": "e9e80c5b-48f2-4136-88e8-26f02a531dbf",
   "metadata": {},
   "outputs": [
    {
     "name": "stdout",
     "output_type": "stream",
     "text": [
      "Start \u001b[92mVirusTotal\u001b[90m.\n"
     ]
    },
    {
     "name": "stderr",
     "output_type": "stream",
     "text": [
      "Something went wrong (403): {'saved': False, 'name': 'Could not add Attribute', 'message': 'Could not add Attribute', 'url': '/attributes/add', 'errors': {'value': ['A similar attribute already exists for this event.']}}\n"
     ]
    },
    {
     "name": "stdout",
     "output_type": "stream",
     "text": [
      " Tagged: alphaMountain.ai:malicious (alphamountain.ai)\n",
      " Tagged: Sophos:spyware and malware\n",
      " Tagged: Forcepoint ThreatSeeker:professional and worker organizations\n",
      " Found total_votes {'harmless': 0, 'malicious': 0}\n",
      " Found last_analysis_stats {'malicious': 13, 'suspicious': 1, 'undetected': 26, 'harmless': 56, 'timeout': 0}\n",
      " Found times_submitted 16\n",
      "Finished VirusTotal.\n"
     ]
    }
   ],
   "source": [
    "vt_headers = {\n",
    "    \"accept\": \"application/json\",\n",
    "    \"x-apikey\": virustotal_apikey\n",
    "}\n",
    "vt_url = \"https://www.virustotal.com/api/v3/urls/\"\n",
    "import base64\n",
    "\n",
    "playbook_results[\"virustotal\"] = {}\n",
    "encoded_url = base64.urlsafe_b64encode(playbook_results[\"url\"].encode()).decode().rstrip(\"=\")\n",
    "\n",
    "print(\"Start \\033[92mVirusTotal\\033[90m.\")\n",
    "response = requests.get(\"{}/{}\".format(vt_url, encoded_url), headers=vt_headers)\n",
    "\n",
    "if response.status_code == 200:\n",
    "    considered_malicious = []\n",
    "    site_categories = []\n",
    "    tags = []\n",
    "    title = False\n",
    "\n",
    "    vt_response = response.json()[\"data\"][\"attributes\"]\n",
    "    if vt_response.get(\"title\", False):\n",
    "        misp_attribute = {\"type\": \"text\", \"category\": \"External analysis\", \n",
    "                          \"value\": vt_response.get(\"title\"), \"comment\": \"Title discovered by VirusTotal\"}\n",
    "        created_attribute = misp.add_attribute(misp_event.uuid, misp_attribute, pythonify=True)\n",
    "        if not \"errors\" in created_attribute:\n",
    "            print(\" Found title {}\".format(title))\n",
    "            misp.add_object_reference(playbook_results[\"url_object\"].add_reference(created_attribute.uuid, \"related-to\"))\n",
    "            playbook_results[\"virustotal\"][\"title\"] = title       \n",
    "    if vt_response.get(\"categories\", False):\n",
    "        categories = vt_response.get(\"categories\")\n",
    "        for category in categories:\n",
    "            transformed_category = categories[category].lower().strip()\n",
    "            if transformed_category not in site_categories:\n",
    "                tag_text = \"{}:{}\".format(category, transformed_category)\n",
    "                print(\" Tagged: {}\".format(tag_text))\n",
    "                misp.tag(playbook_results[\"url_attribute\"], transformed_category, True)\n",
    "                site_categories.append(transformed_category)\n",
    "        site_categories.sort()\n",
    "        playbook_results[\"virustotal\"][\"site_categories\"] = site_categories\n",
    "        playbook_results[\"virustotal\"][\"site_categories_raw\"] = categories\n",
    "    if vt_response.get(\"total_votes\", False):\n",
    "        total_votes = vt_response.get(\"total_votes\")\n",
    "        print(\" Found total_votes {}\".format(total_votes))\n",
    "        playbook_results[\"virustotal\"][\"total_votes\"] = total_votes\n",
    "    if vt_response.get(\"last_analysis_stats\", False):\n",
    "        last_analysis_stats = vt_response.get(\"last_analysis_stats\")\n",
    "        print(\" Found last_analysis_stats {}\".format(last_analysis_stats))\n",
    "        playbook_results[\"virustotal\"][\"last_analysis_stats\"] = last_analysis_stats\n",
    "    if vt_response.get(\"last_analysis_results\", False):\n",
    "        last_analysis_results = vt_response.get(\"last_analysis_results\")\n",
    "        for analysis in last_analysis_results:\n",
    "            if last_analysis_results[analysis].get(\"result\", \"\") == \"malicious\":\n",
    "                if analysis not in considered_malicious:\n",
    "                    tag_text = \"{}:{}\".format(analysis, \"malicious\")\n",
    "                    misp.tag(playbook_results[\"url_attribute\"], transformed_category, True)\n",
    "                    considered_malicious.append(analysis)\n",
    "        playbook_results[\"virustotal\"][\"considered_malicious\"] = considered_malicious\n",
    "    if vt_response.get(\"reputation\", False):\n",
    "        reputation = vt_response.get(\"reputation\")\n",
    "        print(\" Found reputation {}\".format(reputation))\n",
    "        playbook_results[\"virustotal\"][\"reputation\"] = reputation\n",
    "    if vt_response.get(\"times_submitted\", False):\n",
    "        times_submitted = vt_response.get(\"times_submitted\")\n",
    "        print(\" Found times_submitted {}\".format(times_submitted))\n",
    "        playbook_results[\"virustotal\"][\"times_submitted\"] = times_submitted\n",
    "    print(\"Finished VirusTotal.\")\n",
    "else:\n",
    "    if response.json().get(\"error\", {}).get(\"code\", \"\") == \"NotFoundError\":\n",
    "        print(\"URL \\033[93m{}\\033[90m not found with VirusTotal.\".format(playbook_results[\"url\"]))\n",
    "    else:\n",
    "        print(\"Error: \\033[93m{}\\033[90m\".format(response.text))"
   ]
  },
  {
   "cell_type": "markdown",
   "id": "0dbbb3e0-d240-414d-96fd-b337ac14f5ef",
   "metadata": {},
   "source": [
    "### VirusTotal enrichment table\n",
    "\n",
    "The results are now stored in `playbook_results`. Execute the next cell to display them in a table format."
   ]
  },
  {
   "cell_type": "code",
   "execution_count": 23,
   "id": "b1e82fb3-2afa-4616-b478-54edea40d56d",
   "metadata": {
    "tags": []
   },
   "outputs": [
    {
     "name": "stdout",
     "output_type": "stream",
     "text": [
      "+----------------------+------------------------------------------+------------------------------------------------------------------------------------+----------------------+\n",
      "|        Source        | Value                                    | Type                                                                               | Name                 |\n",
      "+----------------------+------------------------------------------+------------------------------------------------------------------------------------+----------------------+\n",
      "| considered_malicious | https://waterforvoiceless.org/invite.php | Antiy-AVL                                                                          | Considered malicious |\n",
      "| considered_malicious | https://waterforvoiceless.org/invite.php | ESTsecurity                                                                        | Considered malicious |\n",
      "| considered_malicious | https://waterforvoiceless.org/invite.php | Google Safebrowsing                                                                | Considered malicious |\n",
      "| considered_malicious | https://waterforvoiceless.org/invite.php | Seclookup                                                                          | Considered malicious |\n",
      "| considered_malicious | https://waterforvoiceless.org/invite.php | alphaMountain.ai                                                                   | Considered malicious |\n",
      "| last_analysis_stats  | https://waterforvoiceless.org/invite.php | {'malicious': 13, 'suspicious': 1, 'undetected': 26, 'harmless': 56, 'timeout': 0} | Last analysis stats  |\n",
      "|      reputation      | https://waterforvoiceless.org/invite.php |                                                                                    | Reputation           |\n",
      "|   site_categories    | https://waterforvoiceless.org/invite.php | malicious (alphamountain.ai)                                                       | Categories           |\n",
      "|   site_categories    | https://waterforvoiceless.org/invite.php | professional and worker organizations                                              | Categories           |\n",
      "|   site_categories    | https://waterforvoiceless.org/invite.php | spyware and malware                                                                | Categories           |\n",
      "|   times_submitted    | https://waterforvoiceless.org/invite.php | 16                                                                                 | Time submitted       |\n",
      "|        title         | https://waterforvoiceless.org/invite.php |                                                                                    | Title                |\n",
      "|     total_votes      | https://waterforvoiceless.org/invite.php | {'harmless': 0, 'malicious': 0}                                                    | Votes                |\n",
      "+----------------------+------------------------------------------+------------------------------------------------------------------------------------+----------------------+\n"
     ]
    }
   ],
   "source": [
    "# Put the correlations in a pretty table. We can use this table later also for the summary\n",
    "table = PrettyTable()\n",
    "table.field_names = [\"Source\", \"Value\", \"Type\", \"Name\"]\n",
    "table.align[\"Value\"] = \"l\"\n",
    "table.align[\"Category\"] = \"l\"\n",
    "table.align[\"Type\"] = \"l\"\n",
    "table.align[\"Name\"] = \"l\"\n",
    "table._max_width = {\"Name\": 50}\n",
    "\n",
    "table.add_row([\"times_submitted\", playbook_results[\"url\"], playbook_results[\"virustotal\"].get(\"times_submitted\", \"\"), \"Time submitted\"])\n",
    "table.add_row([\"reputation\", playbook_results[\"url\"], playbook_results[\"virustotal\"].get(\"reputation\", \"\"), \"Reputation\"])\n",
    "table.add_row([\"last_analysis_stats\", playbook_results[\"url\"], playbook_results[\"virustotal\"].get(\"last_analysis_stats\", \"\"), \"Last analysis stats\"])\n",
    "table.add_row([\"total_votes\", playbook_results[\"url\"], playbook_results[\"virustotal\"].get(\"total_votes\", \"\"), \"Votes\"])\n",
    "table.add_row([\"title\", playbook_results[\"url\"], playbook_results[\"virustotal\"].get(\"title\", \"\"), \"Title\"])\n",
    "\n",
    "for match in playbook_results[\"virustotal\"][\"considered_malicious\"]:\n",
    "    table.add_row([\"considered_malicious\", playbook_results[\"url\"], match, \"Considered malicious\"])\n",
    "for match in playbook_results[\"virustotal\"][\"site_categories\"]:\n",
    "    table.add_row([\"site_categories\", playbook_results[\"url\"], match, \"Categories\"])\n",
    "\n",
    "print(table.get_string(sortby=\"Value\"))\n",
    "table_virustotal = table"
   ]
  },
  {
   "cell_type": "markdown",
   "id": "82853216-a62c-4e43-9cb4-f757612282f4",
   "metadata": {},
   "source": [
    "## ER:4 Get geolocation of the IP from MMDB\n",
    "\n",
    "The playbook uses an MMDB service to identify the **geolocation**, with latitude and longitude. In this playbook it uses [ip.circl.lu](https://ip.circl.lu/geolookup/) as MMDB server."
   ]
  },
  {
   "cell_type": "code",
   "execution_count": 24,
   "id": "ac7722a3-492d-4b85-a209-b5ea5afcafaa",
   "metadata": {
    "tags": []
   },
   "outputs": [
    {
     "name": "stdout",
     "output_type": "stream",
     "text": [
      "Search MMDB\n",
      "Query for \u001b[92m162.241.169.194\u001b[90m\n",
      " \u001b[92m{'iso_code': 'US'}\u001b[90m\n",
      "Finished MMDB\n"
     ]
    }
   ],
   "source": [
    "def get_mmdb(value):\n",
    "    headers = {}\n",
    "    response = requests.request(\"GET\", \"{}{}\".format(playbook_config[\"mmdb_url\"], value), headers={})\n",
    "    if response.status_code == 200:\n",
    "        result_json = response.json()[0]\n",
    "        iso_code = result_json.get(\"country\", False).get(\"iso_code\", False)\n",
    "        return {\"iso_code\": iso_code}\n",
    "    else:\n",
    "        return {}\n",
    "    \n",
    "print(\"Search MMDB\")\n",
    "ip = playbook_results[\"dns\"].get(\"resolves\", [])\n",
    "if len(ip) > 0:\n",
    "    ip = ip[0]\n",
    "    print(\"Query for \\033[92m{}\\033[90m\".format(ip))\n",
    "    country = get_mmdb(ip)\n",
    "    if country:\n",
    "        playbook_results[\"geolocation\"] = country.get(\"iso_code\")\n",
    "        print(\" \\033[92m{}\\033[90m\".format(country))\n",
    "print(\"Finished MMDB\")"
   ]
  },
  {
   "cell_type": "markdown",
   "id": "70dea5ca",
   "metadata": {},
   "source": [
    "# Closure\n",
    "\n",
    "In this **closure** or end step we create a **summary** of the actions that were performed by the playbook. The summary is printed in the playbook and can also be send to a chat channel. "
   ]
  },
  {
   "cell_type": "markdown",
   "id": "e2237923-4e5d-4944-8f68-ec950dbce8fb",
   "metadata": {},
   "source": [
    "## EN:1 Add screenshot from URLscan to playbook\n",
    "\n",
    "You can use a screenshot for a visual verification of the submitted URL without the need to visit them in a sandbox. Note that screenshots are also **added to the MISP event**."
   ]
  },
  {
   "cell_type": "code",
   "execution_count": 25,
   "id": "45f580f3-04a4-4647-8eb8-a1e5caf91f1d",
   "metadata": {
    "tags": []
   },
   "outputs": [
    {
     "data": {
      "image/png": "[encoded data removed]",
      "text/plain": [
       "<IPython.core.display.Image object>"
      ]
     },
     "metadata": {
      "image/png": {
       "width": 240
      }
     },
     "output_type": "display_data"
    }
   ],
   "source": [
    "if playbook_results[\"screenshot\"]:\n",
    "    display(Image(base64.b64decode(playbook_results[\"screenshot\"]), width=240))\n",
    "else:\n",
    "    print(\"No screenshot available.\\n\\n\")"
   ]
  },
  {
   "cell_type": "markdown",
   "id": "bf86d67a-de23-4121-a26b-b8fb1c67c44e",
   "metadata": {},
   "source": [
    "## EN:2 MISP indicators\n",
    "\n",
    "The next section first **queries MISP for the indicators added to the event** linked to the execution of this playbook. Only those indicators with to_ids set to True are returned (so by default, the associated hostnames from LookyLoo are not returned)."
   ]
  },
  {
   "cell_type": "code",
   "execution_count": 26,
   "id": "16d50d2c-078c-476f-acfc-bb536934f049",
   "metadata": {},
   "outputs": [
    {
     "name": "stdout",
     "output_type": "stream",
     "text": [
      "Got \u001b[92m4\u001b[90m indicator(s) from the event \u001b[92mURL reputation investigation for https://waterforvoiceless.org/invite.php\u001b[90m (3567).\n",
      "\n",
      "\n"
     ]
    }
   ],
   "source": [
    "# Get all the indicators for our event and store this is in a table. We can also use this for the summary.\n",
    "indicator_search = misp.search(\"attributes\", uuid=misp_event.uuid, to_ids=True, pythonify=True)\n",
    "indicator_raw_list = []\n",
    "indicator_table = PrettyTable()\n",
    "if len(indicator_search) > 0:\n",
    "    indicator_table.field_names = [\"Type\", \"Category\", \"Indicator\", \"Comment\"]\n",
    "    indicator_table.align[\"Type\"] = \"l\"\n",
    "    indicator_table.align[\"Category\"] = \"l\"\n",
    "    indicator_table.align[\"Indicator\"] = \"l\"\n",
    "    indicator_table.align[\"Comment\"] = \"l\"\n",
    "    indicator_table.border = True\n",
    "    for indicator in indicator_search:\n",
    "        if indicator.value not in indicator_raw_list:\n",
    "            indicator_table.add_row([indicator.type, indicator.category, indicator.value, indicator.comment])\n",
    "            indicator_raw_list.append(indicator.value)\n",
    "    print(\"Got \\033[92m{}\\033[90m indicator(s) from the event \\033[92m{}\\033[90m ({}).\\n\\n\".format(len(indicator_raw_list), misp_event.info, misp_event.id))\n",
    "else:\n",
    "    print(\"\\033[93mNo indicators found in the event \\033[92m{}\\033[90m ({})\".format(misp_event.info, misp_event.id))"
   ]
  },
  {
   "cell_type": "markdown",
   "id": "d26d1c3b-dec4-4191-92fe-4c130e3f9686",
   "metadata": {},
   "source": [
    "### Raw list of MISP indicators\n",
    "\n",
    "The indicators are now stored in `indicator_search` (as Python objects) and `indicator_raw_list` (in raw format, only the indicators). Execute the next cell to display them in a table format. The table is also included in the summary sent to Mattermost and TheHive."
   ]
  },
  {
   "cell_type": "code",
   "execution_count": 27,
   "id": "72cd3e2a-afad-4b9c-9f3a-9dbe9e8e135d",
   "metadata": {
    "tags": []
   },
   "outputs": [
    {
     "name": "stdout",
     "output_type": "stream",
     "text": [
      "+----------+------------------+------------------------------------------+---------------------------------------------------------------------------------+\n",
      "| Type     | Category         | Indicator                                | Comment                                                                         |\n",
      "+----------+------------------+------------------------------------------+---------------------------------------------------------------------------------+\n",
      "| hostname | Network activity | 162-241-169-194.unifiedlayer.com         | https://waterforvoiceless.org/invite.php: Enriched via the urlscan module - PTR |\n",
      "| hostname | Network activity | waterforvoiceless.org                    |                                                                                 |\n",
      "| ip-dst   | Network activity | 162.241.169.194                          | https://waterforvoiceless.org/invite.php: Enriched via the urlscan module - IP  |\n",
      "| url      | Network activity | https://waterforvoiceless.org/invite.php |                                                                                 |\n",
      "+----------+------------------+------------------------------------------+---------------------------------------------------------------------------------+\n",
      "\n",
      "\n",
      "Indicator list in raw format:\n",
      "---------------------------------------------------\n",
      "https://waterforvoiceless.org/invite.php\n",
      "waterforvoiceless.org\n",
      "162.241.169.194\n",
      "162-241-169-194.unifiedlayer.com\n",
      "---------------------------------------------------\n"
     ]
    }
   ],
   "source": [
    "if len(indicator_raw_list) > 0:\n",
    "    print(indicator_table.get_string(sortby=\"Type\"))\n",
    "    print(\"\\n\\nIndicator list in raw format:\")\n",
    "    print(\"---------------------------------------------------\")\n",
    "    for el in indicator_raw_list:\n",
    "        print(\"{}\".format(el))\n",
    "    print(\"---------------------------------------------------\")"
   ]
  },
  {
   "cell_type": "markdown",
   "id": "b82e2327-1e11-4efb-8869-ccbcc896bfcc",
   "metadata": {},
   "source": [
    "## EN:3 Create the summary of the playbook\n",
    "\n",
    "The next section creates a summary and stores the output in the variable `summary` in Markdown format. It also stores an intro text in the variable `intro`. These variables can later be used when sending information to Mattermost or TheHive."
   ]
  },
  {
   "cell_type": "code",
   "execution_count": 28,
   "id": "58f63e04-6f9e-4fa9-b803-07e451692197",
   "metadata": {
    "tags": []
   },
   "outputs": [
    {
     "name": "stdout",
     "output_type": "stream",
     "text": [
      "The \u001b[92msummary\u001b[90m of the playbook is available.\n",
      "\n",
      "\n"
     ]
    }
   ],
   "source": [
    "summary = \"# MISP Playbook summary\\nQuery URL reputation.\\n\\n\"\n",
    "\n",
    "current_date = datetime.now()\n",
    "formatted_date = current_date.strftime(\"%Y-%m-%d\")\n",
    "summary += \"## Overview\\n\\n\"\n",
    "summary += \"- Date: **{}**\\n\".format(formatted_date)\n",
    "summary += \"- URL: **{}**\\n\".format(playbook_results[\"url\"])\n",
    "summary += \"- LookyLoo submission : {}\\n\".format(playbook_results[\"lookyloo\"].get(\"permaurl\", \"\"))\n",
    "summary += \"- URLscan submission : {}\\n\".format(playbook_results.get(\"urlscan_resultlink\", \"\"))\n",
    "summary += \"\\n\\n\"\n",
    "summary += \"## URL\\n\\n\"\n",
    "summary += \"- Domain: **{}**\\n\".format(playbook_results[\"domain\"])\n",
    "summary += \"- Hostname: **{}**\\n\".format(playbook_results[\"host\"])\n",
    "item = playbook_results[\"urlscan\"].get(\"hostname\", \"\")\n",
    "if len(item) > 0:\n",
    "    summary += \"- Hostname: **{}** (according to URLscan)\\n\".format(playbook_results[\"urlscan\"].get(\"hostname\", \"\"))\n",
    "summary += \"- Resolves to: **{}**\\n\".format(playbook_results[\"dns\"][\"resolves\"])\n",
    "summary += \"- Resolves to: **{}** (according to URLscan)\\n\".format(playbook_results[\"urlscan\"].get(\"ip-dst\", \"\"))\n",
    "item = playbook_results[\"urlscan\"].get(\"Page title\", \"\")\n",
    "if len(item) > 0:\n",
    "    summary += \"- Page title: **{}**\\n\".format(playbook_results[\"urlscan\"].get(\"Page title\", \"\"))\n",
    "item = playbook_results[\"urlscan\"].get(\"TLS Issuer\", \"\")\n",
    "if len(item) > 0:\n",
    "    summary += \"- TLS Issuer: **{}**\\n\".format(playbook_results[\"urlscan\"].get(\"TLS Issuer\", \"\"))\n",
    "summary += \"- Hosting server: **{}**\\n\".format(playbook_results[\"urlscan\"].get(\"Server\", \"\"))\n",
    "summary += \"- IP geolocation: **{}**\\n\".format(playbook_results[\"geolocation\"])\n",
    "item = playbook_results[\"urlscan\"].get(\"geolocation\", \"\")\n",
    "if len(item) > 0:\n",
    "    summary += \"- ASN country: **{}**\\n\".format(playbook_results[\"urlscan\"].get(\"geolocation\", \"\"))\n",
    "summary += \"- Categories: **{}** (according to VirusTotal)\\n\".format(playbook_results[\"virustotal\"].get(\"site_categories\", \"\"))\n",
    "summary += \"- Malicious: **{}** (according to VirusTotal)\\n\".format(playbook_results[\"virustotal\"].get(\"considered_malicious\", \"\"))\n",
    "summary += \"- Observed hostnames: {} (according to LookyLoo)\\n\".format(len(playbook_results[\"lookyloo\"][\"hostnames\"]))\n",
    "summary += \"- Observed cookies: {} (according to LookyLoo)\\n\".format(len(playbook_results[\"lookyloo\"][\"cookies\"]))\n",
    "summary += \"- Observed hashes: {} (according to LookyLoo)\\n\".format(len(playbook_results[\"lookyloo\"][\"hashes\"]))\n",
    "summary += \"- Observed URLs: {} (according to LookyLoo)\\n\".format(len(playbook_results[\"lookyloo\"][\"urls\"]))\n",
    "\n",
    "summary += \"\\n\\n\"\n",
    "summary += \"## LookyLoo\\n\\n\"\n",
    "summary += \"### Related hostnames\\n\\n\"\n",
    "for hostname in playbook_results[\"lookyloo\"][\"hostnames\"]:\n",
    "    summary += \"- {}\\n\".format(hostname)\n",
    "summary += \"\\n\\n\"\n",
    "summary += \"### Cookies\\n\\n\"\n",
    "for cookie in playbook_results[\"lookyloo\"][\"cookies\"]:\n",
    "    summary += \"- {}\\n\".format(cookie[\"name\"])\n",
    "summary += \"\\n\\n\"\n",
    "summary += \"### Related URLs\\n\\n\"\n",
    "for url in playbook_results[\"lookyloo\"][\"urls\"]:\n",
    "    summary += \"- {}\\n\".format(url)\n",
    "summary += \"\\n\\n\"\n",
    "summary += \"### Related hashes\\n\\n\"\n",
    "for hash in playbook_results[\"lookyloo\"][\"hashes\"]:\n",
    "    summary += \"- {}\\n\".format(hash)\n",
    "summary += \"\\n\\n\"\n",
    "summary += \"### Overview table\\n\\n\"\n",
    "table_lookyloo.set_style(MARKDOWN)\n",
    "summary += table_lookyloo.get_string()\n",
    "summary += \"\\n\\n\"\n",
    "summary += \"## URLscan\\n\\n\"\n",
    "summary += \"### URLscan - submission results\\n\\n\"\n",
    "table_urlscan.set_style(MARKDOWN)\n",
    "summary += table_urlscan.get_string()\n",
    "summary += \"\\n\\n\"\n",
    "summary += \"### URLscan - historical results\\n\\n\"\n",
    "table_urlscan_history.set_style(MARKDOWN)\n",
    "summary += table_urlscan_history.get_string()\n",
    "summary += \"\\n\\n\"\n",
    "\n",
    "summary += \"\\n\\n\"\n",
    "summary += \"## VirusTotal\\n\\n\"\n",
    "table_virustotal.set_style(MARKDOWN)\n",
    "summary += table_virustotal.get_string()\n",
    "summary += \"\\n\\n\"\n",
    "                                                                            \n",
    "summary += \"## Indicators\\n\\n\"\n",
    "summary += \"### Indicators table\\n\\n\"\n",
    "if len(indicator_raw_list) > 0:\n",
    "    indicator_table.set_style(MARKDOWN)\n",
    "    summary += indicator_table.get_string(sortby=\"Type\")\n",
    "    summary += \"\\n\\n\\n\" \n",
    "    summary += \"### Indicators in **raw format**\\n\\n\"\n",
    "    for indicator in indicator_raw_list:\n",
    "        summary += \"{}\\n\\n\".format(indicator)\n",
    "    summary += \"\\n\" \n",
    "else:\n",
    "    summary += \"There are no indicators\"\n",
    "summary += \"\\n\\n\"\n",
    "\n",
    "summary += \"## Correlations\\n\\n\"\n",
    "summary += \"### MISP event matches\\n\\n\"\n",
    "table_mispevents.set_style(MARKDOWN)\n",
    "summary += table_mispevents.get_string()\n",
    "summary += \"\\n\\n\"\n",
    "\n",
    "summary += \"### MISP feed matches\\n\\n\"\n",
    "table_mispfeeds.set_style(MARKDOWN)\n",
    "summary += table_mispfeeds.get_string()\n",
    "summary += \"\\n\\n\"\n",
    "\n",
    "print(\"The \\033[92msummary\\033[90m of the playbook is available.\\n\\n\")"
   ]
  },
  {
   "cell_type": "markdown",
   "id": "d603257f-0cbe-47c8-876f-9bbe52216c0d",
   "metadata": {},
   "source": [
    "#### Print the summary"
   ]
  },
  {
   "cell_type": "code",
   "execution_count": null,
   "id": "12691048-4122-4ba3-aab0-203226137e3b",
   "metadata": {
    "tags": []
   },
   "outputs": [],
   "source": [
    "display_markdown(summary, raw=True)"
   ]
  },
  {
   "cell_type": "markdown",
   "id": "13c2b820-3f17-4b7f-ac02-eb8296f5d7d4",
   "metadata": {},
   "source": [
    "## EN:4 Add the summary as a MISP report\n",
    "\n",
    "Add the summary as a MISP report to the event."
   ]
  },
  {
   "cell_type": "code",
   "execution_count": 29,
   "id": "56c97901-e890-4aa1-bcb1-1c19b40c3144",
   "metadata": {
    "tags": []
   },
   "outputs": [
    {
     "name": "stdout",
     "output_type": "stream",
     "text": [
      "Creating MISP report \u001b[92mQuery URL reputation\u001b[90m\n",
      " Report ID: \u001b[92m941\u001b[90m\n",
      "Finished creating report\n"
     ]
    }
   ],
   "source": [
    "event_title = \"Query URL reputation\"\n",
    "print(\"Creating MISP report \\033[92m{}\\033[90m\".format(event_title))\n",
    "chunk_size = 61500\n",
    "for i in range(0, len(summary), chunk_size):\n",
    "    chunk = summary[i:i + chunk_size]\n",
    "    event_report = MISPEventReport()\n",
    "    event_title_edit = event_title\n",
    "    if i > 0:\n",
    "        event_title_edit = \"{} ({} > {})\".format(event_title, i, i + chunk_size)\n",
    "    event_report.name = event_title_edit\n",
    "    event_report.content = chunk\n",
    "    result = misp.add_event_report(misp_event.id, event_report)\n",
    "    if \"EventReport\" in result:\n",
    "        print(\" Report ID: \\033[92m{}\\033[90m\".format(result.get(\"EventReport\", []).get(\"id\", 0)))\n",
    "    else:\n",
    "        print(\"Failed to create report for \\033[91m{}\\033[90m.\".format(event_title))\n",
    "print(\"Finished creating report\")"
   ]
  },
  {
   "cell_type": "markdown",
   "id": "eba96062-deaa-4fb9-8302-7b3ef829201e",
   "metadata": {},
   "source": [
    "## EN:5 Send a summary to Mattermost\n",
    "\n",
    "Now you can send the summary to Mattermost. You can send the summary in two ways by selecting one of the options for the variable `send_to_mattermost_option` in the next cell.\n",
    "\n",
    "- The default option where the entire summary is in the **chat**, or\n",
    "- a short intro and the summary in a **card**\n",
    "\n",
    "For this playbook we rely on a webhook in Mattermost. You can add a webhook by choosing the gear icon in Mattermost, then choose Integrations and then **Incoming Webhooks**. Set a channel for the webhook and lock the webhook to this channel with *\"Lock to this channel\"*."
   ]
  },
  {
   "cell_type": "code",
   "execution_count": 30,
   "id": "8c455bc3-35cc-436d-8237-95c81b57208f",
   "metadata": {
    "tags": []
   },
   "outputs": [],
   "source": [
    "send_to_mattermost_option = \"via a chat message\"\n",
    "#send_to_mattermost_option = \"via a chat message with card\""
   ]
  },
  {
   "cell_type": "code",
   "execution_count": 31,
   "id": "ed2f2cdd-4eea-4125-8e52-8addc47bba5b",
   "metadata": {
    "tags": []
   },
   "outputs": [
    {
     "name": "stdout",
     "output_type": "stream",
     "text": [
      "Summary is \u001b[92msent to Mattermost.\n",
      "\n"
     ]
    }
   ],
   "source": [
    "buffer_base64 = playbook_results[\"screenshot\"]\n",
    "data_url = f\"data:image/png;base64,{buffer_base64}\"\n",
    "attachment = [{\"fallback\": \"Screenshot\",\"color\": \"#ff8000\",\"image_url\": data_url}]\n",
    "\n",
    "message = False\n",
    "\n",
    "if send_to_mattermost_option == \"via a chat message\":\n",
    "    message = {\"username\": mattermost_playbook_user, \"text\": summary, \"attachments\": attachment}\n",
    "elif send_to_mattermost_option == \"via a chat message with card\":\n",
    "    message = {\"username\": mattermost_playbook_user, \"text\": intro, \"props\": {\"card\": summary}, \"attachments\": attachment}\n",
    "\n",
    "if message:\n",
    "    r = requests.post(mattermost_hook, data=json.dumps(message))\n",
    "    r.raise_for_status()\n",
    "if message and r.status_code == 200:\n",
    "    print(\"Summary is \\033[92msent to Mattermost.\\n\")\n",
    "else:\n",
    "    print(\"\\033[91mFailed to sent summary\\033[90m to Mattermost.\\n\")"
   ]
  },
  {
   "cell_type": "markdown",
   "id": "f9c0f780-d8df-4f9b-9a11-230eb3e4f42d",
   "metadata": {},
   "source": [
    "## EN:6 Send an alert to TheHive\n",
    "\n",
    "Next to informing your colleagues via Mattermost you can also send an **alert** to TheHive. The alert contains the summary, and a list of indicators as 'observables'.\n",
    "\n",
    "You can change the alert title with `thehive_alert_title` and provide a reference type with `thehive_alert_reference`. Note that this reference needs to be **unique** in TheHive. If you want to create multiple alerts for the same MISP event then add some random value at the end."
   ]
  },
  {
   "cell_type": "code",
   "execution_count": 32,
   "id": "87edbdbf-e6b0-47b7-b70a-4ddb4af67e55",
   "metadata": {
    "tags": []
   },
   "outputs": [],
   "source": [
    "intro = \"Playbook query URL reputation\"\n",
    "thehive_alert_title = \"MISP Playbook Summary - Query URL reputation\"\n",
    "\n",
    "thehive_alert_reference = \"MISP event - {} - {}\".format(misp_event.info, misp_event.uuid)\n",
    "thehive_alert_type = \"MISP Playbook alert\"\n",
    "thehive_tlp = 2\n",
    "thehive_pap = 1"
   ]
  },
  {
   "cell_type": "code",
   "execution_count": 33,
   "id": "0da33569-cd50-414a-ad0b-70bcdb69174d",
   "metadata": {
    "tags": []
   },
   "outputs": [
    {
     "name": "stdout",
     "output_type": "stream",
     "text": [
      "The TheHive \u001b[92malert ~651384 is added\n"
     ]
    }
   ],
   "source": [
    "# Code block to send an alert to TheHive\n",
    "# We use the Python requests library\n",
    "thehive_headers = {'Content-Type': 'application/json', 'Authorization': f'Bearer {thehive_key}'}\n",
    "thehive_url_create = \"{}/api/v1/alert\".format(thehive_url)\n",
    "\n",
    "thehive_observables = []\n",
    "for indicator in indicator_search:\n",
    "    dataType = False\n",
    "    if indicator.type == \"ip-src\" or indicator.type == \"ip-dst\":\n",
    "        dataType = \"ip\"\n",
    "    elif indicator.type == \"url\":\n",
    "        dataType = \"url\"\n",
    "    elif indicator.type == \"hostname\":\n",
    "        dataType = \"hostname\"        \n",
    "    elif indicator.type == \"email-dst\" or indicator.type == \"email-src\":        \n",
    "        dataType = \"mail\"\n",
    "    if dataType:\n",
    "        thehive_observables.append({\"dataType\": dataType, \"data\": indicator.value, \"pap\": thehive_pap, \"tlp\": thehive_tlp})\n",
    "thehive_alert = {\"title\": thehive_alert_title, \n",
    "                 \"description\": intro,\n",
    "                 \"summary\": summary[0:100000],\n",
    "                 \"type\": thehive_alert_type, \n",
    "                 \"source\": \"playbook\", \n",
    "                 \"sourceRef\": thehive_alert_reference, \n",
    "                 \"tlp\": thehive_tlp, \"pap\": thehive_pap,\n",
    "                 \"observables\": thehive_observables}\n",
    "\n",
    "result = requests.post(thehive_url_create, headers=thehive_headers, data=json.dumps(thehive_alert))\n",
    "if result.json()['status'] == 'New':\n",
    "    thehive_alert_id = result.json()['_id']\n",
    "    print('The TheHive \\033[92malert {} is added'.format(thehive_alert_id))\n",
    "else:\n",
    "    print('\\033[91mFailed\\033[90m to add TheHive alert')\n",
    "    print(result.text)"
   ]
  },
  {
   "cell_type": "markdown",
   "id": "bf1ff03b-6e70-42c4-9fa6-1c0699787fc3",
   "metadata": {},
   "source": [
    "## EN:7 Publish MISP event \n",
    "\n",
    "As a final step, you can choose the **publish** the MISP event. \n",
    "\n",
    "Publishing MISP events makes the event available to your users and, depending on the synchronisation and distribution rules, will also sync it with other connected MISP servers. Publishing an event also typically makes the indicators available for your security controls to import them in their ruleset."
   ]
  },
  {
   "cell_type": "code",
   "execution_count": 34,
   "id": "dea3cae4-482e-4457-a5fd-7a68dde60acb",
   "metadata": {
    "tags": []
   },
   "outputs": [
    {
     "name": "stdout",
     "output_type": "stream",
     "text": [
      "Event URL reputation investigation for https://waterforvoiceless.org/invite.php (3567 - 171b36d9-7a78-44a8-aa16-c7ff65f74b62) is \u001b[92mpublished.\n",
      "\n"
     ]
    }
   ],
   "source": [
    "misp.publish(misp_event.uuid)\n",
    "misp.untag(misp_event.uuid, \"workflow:state=\\\"incomplete\\\"\")\n",
    "misp.tag(misp_event.uuid, \"workflow:state=\\\"complete\\\"\", True)\n",
    "print(\"Event {} ({} - {}) is \\033[92mpublished.\\n\".format(misp_event.info, misp_event.id, misp_event.uuid))"
   ]
  },
  {
   "cell_type": "markdown",
   "id": "498b8eff-7d1b-47b7-90c4-e13cc738b36c",
   "metadata": {},
   "source": [
    "## EN:8 End of the playbook "
   ]
  },
  {
   "cell_type": "code",
   "execution_count": 35,
   "id": "4c03bb30",
   "metadata": {},
   "outputs": [
    {
     "name": "stdout",
     "output_type": "stream",
     "text": [
      "\u001b[92m End of the playbook\n"
     ]
    }
   ],
   "source": [
    "print(\"\\033[92m End of the playbook\")"
   ]
  },
  {
   "cell_type": "markdown",
   "id": "b17af9f2",
   "metadata": {},
   "source": [
    "## External references\n",
    "\n",
    "- [The MISP Project](https://www.misp-project.org/)\n",
    "- [Mattermost](https://mattermost.com/)\n",
    "- [TheHive](https://thehive-project.org/)"
   ]
  },
  {
   "cell_type": "markdown",
   "id": "e1c813f6",
   "metadata": {},
   "source": [
    "## Technical details \n",
    "\n",
    "### Documentation\n",
    "\n",
    "This playbook requires these Python **libraries** to exist in the environment where the playbook is executed. You can install them with `pip install <library>`.\n",
    "\n",
    "```\n",
    "PrettyTable\n",
    "ipywidgets\n",
    "pylookyloo\n",
    "pyfaup\n",
    "```\n",
    "\n",
    "These **MISP modules** need to be enabled\n",
    "- urlscan\n",
    "- dns\n",
    "\n",
    "### Colour codes\n",
    "\n",
    "The output from Python displays some text in different colours. These are the colour codes\n",
    "\n",
    "```\n",
    "Red = '\\033[91m'\n",
    "Green = '\\033[92m'\n",
    "Blue = '\\033[94m'\n",
    "Cyan = '\\033[96m'\n",
    "White = '\\033[97m'\n",
    "Yellow = '\\033[93m'\n",
    "Magenta = '\\033[95m'\n",
    "Grey = '\\033[90m'\n",
    "Black = '\\033[90m'\n",
    "Default = '\\033[99m'\n",
    "```"
   ]
  },
  {
   "cell_type": "code",
   "execution_count": null,
   "id": "14dce812-e432-4c18-8358-f8b66e5b94a5",
   "metadata": {},
   "outputs": [],
   "source": []
  }
 ],
 "metadata": {
  "celltoolbar": "Attachments",
  "kernelspec": {
   "display_name": "Python 3 (ipykernel)",
   "language": "python",
   "name": "python3"
  },
  "language_info": {
   "codemirror_mode": {
    "name": "ipython",
    "version": 3
   },
   "file_extension": ".py",
   "mimetype": "text/x-python",
   "name": "python",
   "nbconvert_exporter": "python",
   "pygments_lexer": "ipython3",
   "version": "3.8.10"
  },
  "toc-showcode": false,
  "toc-showmarkdowntxt": false
 },
 "nbformat": 4,
 "nbformat_minor": 5
}
