{
 "cells": [
  {
   "cell_type": "markdown",
   "id": "ca1fbfb5",
   "metadata": {
    "tags": [
     "playbook-introduction"
    ]
   },
   "source": [
    "# Query Timesketch for threat intelligence and report sightings in MISP and Mattermost\n",
    "\n",
    "## Introduction\n",
    "\n",
    "- UUID: **f4a7ccf3-6ca0-4707-bb1a-bd5f61610efc**\n",
    "- Started from [issue 6](https://github.com/MISP/misp-playbooks/issues/6)\n",
    "- State: **Published**\n",
    "- Purpose: This playbook queries Timesketch for matches based on MISP search results (indicators).\n",
    "    - The MISP search is configured by the analyst with mandatory tags, exclusion tags, and optional attribute type filters. The resulting attributes are then used to query Timesketch. You can limit the results and save the search in Timesketch.\n",
    "    - The results are summarised in the playbook, added as sightings in MISP, and sent as a notification to Mattermost.\n",
    "    - As an extra, there's a sample Bash script for importing EVTX files (e.g., from https://github.com/sbousseaden/EVTX-ATTACK-SAMPLES)\n",
    "- Tags: [ \"timesketch\", \"forensic\", \"monitoring\", \"detection\", \"sighting\"]\n",
    "- External resources: **Timesketch**, **Mattermost**\n",
    "- Target audience: **CTI**, **CSIRT**\n",
    "\n",
    "[![](https://mermaid.ink/img/pako:eNplU81uozAQfhXLUi5ReAEOu5dcKrWrVektXrUDnoBVsCN76CqKePcdYzBplgOen2_-vrFvsnEaZSmLolCWDPVYipen6re49HCtnftUdnbtdjdjDZXipuS5d3-bDjwpOesdDf0z1NiHaDhDH3CaxLTbKZuh4vlVWcEffqGlcIo1_iRLGOvWw6UTQORNPRK-BwTfdOIelf4EbTgpGQ8lF88WRtcLRi8f7N2ioCHjLNQ9crfk3o0OP5WctpSiKH485EmmHLg0b_WWNU3COFGldr8lSTnnRu1jFzHmzY-phrHaNEDOZ-BmmQHhE2nJHuAL9cLOis70kRlwwZ7esrySPCtMTpUQT8eDWMRfMGAm83uFZeZc6s6ZptWsmrYjY9uHblZzSFvc9HVr_4XeFbp3psHHYQB_neWBOUY_uEBrydnHs30cTYj3NsONzff4I4-4xceQipcorCNzjpzzggQ5sd-_ZNB-H0PlQQ6sg9H8WG4xEd-kDiNzJYsazzD2_CCUnRgKI7nqahtZEq_5IL0b206W89M4yPGigfBogJkaFuv0D3fgMXI?type=png)](https://mermaid.live/edit#pako:eNplU81uozAQfhXLUi5ReAEOu5dcKrWrVektXrUDnoBVsCN76CqKePcdYzBplgOen2_-vrFvsnEaZSmLolCWDPVYipen6re49HCtnftUdnbtdjdjDZXipuS5d3-bDjwpOesdDf0z1NiHaDhDH3CaxLTbKZuh4vlVWcEffqGlcIo1_iRLGOvWw6UTQORNPRK-BwTfdOIelf4EbTgpGQ8lF88WRtcLRi8f7N2ioCHjLNQ9crfk3o0OP5WctpSiKH485EmmHLg0b_WWNU3COFGldr8lSTnnRu1jFzHmzY-phrHaNEDOZ-BmmQHhE2nJHuAL9cLOis70kRlwwZ7esrySPCtMTpUQT8eDWMRfMGAm83uFZeZc6s6ZptWsmrYjY9uHblZzSFvc9HVr_4XeFbp3psHHYQB_neWBOUY_uEBrydnHs30cTYj3NsONzff4I4-4xceQipcorCNzjpzzggQ5sd-_ZNB-H0PlQQ6sg9H8WG4xEd-kDiNzJYsazzD2_CCUnRgKI7nqahtZEq_5IL0b206W89M4yPGigfBogJkaFuv0D3fgMXI)"
   ]
  },
  {
   "cell_type": "raw",
   "id": "d5aa1137-6000-4553-a65d-841b149ae521",
   "metadata": {
    "tags": []
   },
   "source": [
    "---\n",
    "title: MISP playbook\n",
    "---\n",
    "%%{init: {\"flowchart\": {\"htmlLabels\": false}} }%%\n",
    "flowchart LR\n",
    "    events[MISP]\n",
    "    subgraph attribute_search [MISP]\n",
    "    \n",
    "    tags[\"tags\"]\n",
    "    attribute_type[\"type\"]    \n",
    "    actionable{\"to_ids?\"}\n",
    "    tags --> attribute_type --> actionable\n",
    "    end    \n",
    "    events -- Search --> attributes --> tags\n",
    "\n",
    "    actionable -- True --> indicators\n",
    "\n",
    "    indicators --> sketch --> saved_search\n",
    "\n",
    "    subgraph timesketch [Timesketch]\n",
    "    sketch[\"Sketch ID, Sketch Name\"]\n",
    "    saved_search\n",
    "    end\n",
    "\n",
    "    saved_search --> add_sighting\n",
    "    subgraph sightings [MISP sightings]\n",
    "    add_sighting\n",
    "    end\n",
    "\n",
    "    add_sighting --> summary --> mattermost\n",
    "    summary[\"`Display summary in playbook`\"]\n",
    "    mattermost[\"`Sent notification to **Mattermost**`\"]"
   ]
  },
  {
   "cell_type": "markdown",
   "id": "a512a2c1",
   "metadata": {
    "jp-MarkdownHeadingCollapsed": true,
    "tags": []
   },
   "source": [
    "# Playbook\n",
    "\n",
    "- **Query Timesketch for threat intelligence and report sightings in MISP and Mattermost**\n",
    "    - Introduction\n",
    "- **Preparation**\n",
    "    - PR:1 Initialise environment\n",
    "    - PR:2 Load helper functions\n",
    "    - PR:3 Set helper variables\n",
    "    - PR:4 Setup connection with Timesketch\n",
    "- **MISP search**\n",
    "    - IN:1 Search MISP for indicators\n",
    "    - IN:2 MISP search filters\n",
    "- **Timesketch**\n",
    "    - TS:1 Listing timesketch sketches\n",
    "    - TS:2 Timesketch timelines\n",
    "    - TS:3 Search in Timesketch\n",
    "    - TS:4 Timesketch search results\n",
    "    - TS:5 Plot Timesketch matches\n",
    "- **Sightings**\n",
    "    - SI:1 Add sightings to MISP\n",
    "- **Closure**\n",
    "    - EN:1 Create the summary of the playbook \n",
    "    - EN:2 Print the summary\n",
    "    - EN:3 Send a summary to Mattermost\n",
    "    - EN:4 End of the playbook \n",
    "- External references\n",
    "- Technical details"
   ]
  },
  {
   "cell_type": "markdown",
   "id": "8dc24913",
   "metadata": {
    "tags": []
   },
   "source": [
    "# Preparation\n",
    "\n",
    "## PR:1 Initialise environment\n",
    "\n",
    "This section **initialises the playbook environment** and loads the required Python libraries. \n",
    "\n",
    "The credentials for MISP (**API key**) and other services are loaded from the file `keys.py` in the directory **vault**. A [PyMISP](https://github.com/MISP/PyMISP) object is created to interact with MISP and the active MISP server is displayed. By printing out the server name you know that it's possible to connect to MISP. In case of a problem PyMISP will indicate the error with `PyMISPError: Unable to connect to MISP`.\n",
    "\n",
    "The contents of the `keys.py` file should contain at least :\n",
    "\n",
    "```\n",
    "misp_url=\"<MISP URL>\"                  # The URL to our MISP server\n",
    "misp_key=\"<MISP API KEY>\"              # The MISP API key\n",
    "misp_verifycert=<True or False>        # Ignore certificate errors\n",
    "mattermost_playbook_user=\"<MATTERMOST USER>\"\n",
    "mattermost_hook=\"<MATTERMOST WEBHOOK>\"\n",
    "\n",
    "timesketch_host_uri=\"<TIMESKETCH_URI>\"\n",
    "timesketch_username=\"<TIMESKETCH_USERNAME>\"\n",
    "timesketch_password=\"<TIMESKETCH_PASSWORD>\"\n",
    "```"
   ]
  },
  {
   "cell_type": "code",
   "execution_count": null,
   "id": "5f94c336",
   "metadata": {
    "tags": []
   },
   "outputs": [],
   "source": [
    "# Initialise Python environment\n",
    "import urllib3\n",
    "import sys\n",
    "import json\n",
    "from prettytable import PrettyTable, MARKDOWN\n",
    "from IPython.display import Image, display, display_markdown, HTML\n",
    "from datetime import date, datetime\n",
    "import pytz\n",
    "\n",
    "import requests\n",
    "from pymisp import *\n",
    "from pymisp.tools import GenericObjectGenerator\n",
    "\n",
    "import base64\n",
    "\n",
    "from tabulate import tabulate\n",
    "import pandas as pd\n",
    "\n",
    "import matplotlib.pyplot as plt\n",
    "import matplotlib.dates as mdates\n",
    "from matplotlib.ticker import MaxNLocator\n",
    "import numpy as np\n",
    "import io\n",
    "from io import BytesIO\n",
    "\n",
    "from timesketch_api_client import config\n",
    "from timesketch_api_client import search\n",
    "from timesketch_api_client import client as timesketch_client\n",
    "\n",
    "# Load the credentials\n",
    "sys.path.insert(0, \"../vault/\")\n",
    "from keys import *\n",
    "if misp_verifycert is False:\n",
    "    import urllib3\n",
    "    urllib3.disable_warnings(urllib3.exceptions.InsecureRequestWarning)\n",
    "print(\"The \\033[92mPython libraries\\033[90m are loaded and the \\033[92mcredentials\\033[90m are read from the keys file.\")\n",
    "\n",
    "# Create the PyMISP object\n",
    "misp = PyMISP(misp_url, misp_key, misp_verifycert)\n",
    "print(\"I will use the MISP server \\033[92m{}\\033[90m for this playbook.\\n\\n\".format(misp_url))"
   ]
  },
  {
   "cell_type": "markdown",
   "id": "50587a49-e703-454a-84ba-538cc2e3050b",
   "metadata": {},
   "source": [
    "## PR:2 Load helper functions\n",
    "\n",
    "The next cell contains **helper functions** that are used in this playbook. \n",
    "\n",
    "Instead of distributing helper functions as separate Python files this playbook includes all the required code as one code cell. This makes portability of playbooks between instances easier. The downside is that functions defined in this playbook need to be defined again in other playbooks, which is not optimal for code re-use. For this iteration of playbooks it is chosen to include the code in the playbook (more portability), but you can easily create one \"helper\" file that contains all the helper code and then import that file in each playbook (for example by adding to the previous cell `from helpers import *`)."
   ]
  },
  {
   "cell_type": "code",
   "execution_count": null,
   "id": "e0ca002f-4ea7-4b7d-bcdb-7a333c628f36",
   "metadata": {
    "tags": []
   },
   "outputs": [],
   "source": [
    "def wrap_text(text_list, width=50):\n",
    "    \"\"\"\n",
    "    Wrap a string with spaces if it exceeds the specified width.\n",
    "\n",
    "    :param text_list: List of text items\n",
    "    :param width: Maximum string width (default is 50)\n",
    "    \"\"\"        \n",
    "    if text_list is None:\n",
    "        return None\n",
    "\n",
    "    combined_text = ' '.join(str(item) for item in text_list if item is not None)\n",
    "    wrapped_text = ' '.join([combined_text[i:i + width] for i in range(0, len(combined_text), width)])\n",
    "    \n",
    "    return wrapped_text\n",
    "\n",
    "\n",
    "def add_converted_attributes(attribute_type, value):\n",
    "    \"\"\"\n",
    "    Convert a MISP attribute to other useful search queries.\n",
    "\n",
    "    :param attribute_type: MISP attribute type\n",
    "    :param value: MISP attribute value\n",
    "    \"\"\"    \n",
    "    if attribute_type in [\"ip-src\", \"ip-dst\"]:\n",
    "        octets = value.split(\".\")\n",
    "        reversed_octets = octets[::-1]\n",
    "        reverse_dns = \".\".join(reversed_octets) + \".in-addr.arpa\"\n",
    "        if reverse_dns not in playbook_results[\"attributes\"]:\n",
    "            playbook_results[\"attributes\"].append(reverse_dns)\n",
    "            print(f\"  Add converted indicator \\033[92m{reverse_dns}\\033[90m\")\n",
    "    elif attribute_type == \"url\":\n",
    "        stripped_url = value.replace(\"http://\", \"\").replace(\"https://\", \"\")\n",
    "        if stripped_url not in playbook_results[\"attributes\"]:\n",
    "            playbook_results[\"attributes\"].append(stripped_url)\n",
    "            print(f\"  Add converted indicator \\033[92m{stripped_url}\\033[90m\")"
   ]
  },
  {
   "cell_type": "markdown",
   "id": "36d28445-dfa1-47ae-942e-16adb2111cc0",
   "metadata": {},
   "source": [
    "## PR:3 Set helper variables\n",
    "\n",
    "This cell contains **helper variables** that are used in this playbook. Their usage is explained in the next steps of the playbook.\n",
    "\n",
    "- `playbook_config` : the configuration of the playbook\n",
    "- `playbook_results` : the results of the playbook"
   ]
  },
  {
   "cell_type": "code",
   "execution_count": null,
   "id": "aa5409f6-d042-410f-9dc7-51500aae61c3",
   "metadata": {
    "tags": []
   },
   "outputs": [],
   "source": [
    "playbook_config = {\"timesketch\": {\n",
    "                            \"sketch_name\": \"MISP playbook\",\n",
    "                            \"sketch_id\": 0,\n",
    "                            \"default_return_fields\": \"datetime,computer_name,event_identifier,strings,source_name\",\n",
    "                            \"max_entries\": 10,\n",
    "                            \"save_search\": True,\n",
    "                                 }\n",
    "                  }\n",
    "\n",
    "playbook_results = {\"timesketch\": {},\n",
    "                    \"attributes\": [],\n",
    "                    }"
   ]
  },
  {
   "cell_type": "markdown",
   "id": "b703305e-42c8-4100-a744-7593d16a3734",
   "metadata": {},
   "source": [
    "## P4: Setup connection with Timesketch\n",
    "\n",
    "Similarly to how we set up a connection to the MISP server, we also need to establish a connection to our Timesketch server.\n",
    "\n",
    "The connection settings are taken from our **vault** and include\n",
    "- `timesketch_host_uri`: The Timesketch **URI**\n",
    "- `timesketch_username`: **Username** to access Timesketch\n",
    "- `timesketch_password`: **Password** to authenticate to Timesketch"
   ]
  },
  {
   "cell_type": "code",
   "execution_count": null,
   "id": "435e0c15-75f2-464b-bb41-1d988c002c50",
   "metadata": {},
   "outputs": [],
   "source": [
    "ts_client = timesketch_client.TimesketchApi(host_uri=timesketch_host_uri, username=timesketch_username, password=timesketch_password)\n",
    "print(\"I will use the Timesketch server \\033[92m{}\\033[90m for this playbook.\\n\\n\".format(timesketch_host_uri))"
   ]
  },
  {
   "cell_type": "markdown",
   "id": "df44d7ea-9fcb-4ed4-af5f-5a2bba57fd29",
   "metadata": {},
   "source": [
    "# MISP search\n",
    "\n",
    "## IN:1 Search MISP for indicators\n",
    "\n",
    "This section outlines the process of searching in MISP for indicators based on your specified search parameters.\n",
    "\n",
    "In this playbook, we search MISP for **actionable** indicators (attributes with `to_ids set` to True) associated with a specific threat actor. You can customize the search query by adjusting `search_tags` and `misp_mandatory_filter_tags`, and exclude results with `exclude_tags`. For reference, you can use other existing MISP playbooks, such as [Threat actor arofiling](https://github.com/MISP/misp-playbooks/blob/main/misp-playbooks/pb_threat_actor_profiling-with_output.ipynb) or [Curate MISP events](https://github.com/MISP/misp-playbooks/blob/main/misp-playbooks/pb_curate_misp_events.ipynb) for inspiration in building your search queries.\n",
    "\n",
    "The playbook also allows you to add *smart* converted indicators using `add_converted_attributes`. For example, if you track DNS queries, it can be useful to also alert on reverse DNS queries for a specific IP (using *.in-addr.arpa*). Similarly, for URLs, you can search for occurrences of just the hostname part, without the http/https scheme. Note that as a side effect, adding sightings for these converted indicators will not work, as they do not exist in MISP.\n",
    "\n",
    "## IN:2 MISP search filters\n",
    "\n",
    "Use these MISP search filters\n",
    "\n",
    "- `published`: Only consider **published** events\n",
    "- `date_from`: Events older than a specifc **date**\n",
    "- `to_ids`: Only actionable indicators\n",
    "- `limit`: Limit the number of results\n",
    "- `search_tags`: Search for these specific tags (**OR**)\n",
    "- `misp_mandatory_filter_tags`: Mandatory tags (**AND**)\n",
    "- `exclude_tags`: Exclude tags (**NOT**)\n",
    "- `type_attribute`: Limit the search to these **attribute types**\n",
    "\n",
    "As an example, you can use the below query to search in MISP for all URLs, hostnames, domains and IPs associated with the threat actor [APT28](https://attack.mitre.org/groups/G0007/) \n",
    "```\n",
    "search_tags = [\"misp-galaxy:threat-actor=\\\"Sofacy\\\"\",\n",
    "               \"misp-galaxy:mitre-intrusion-set=\\\"APT28 - G0007\\\"\",\n",
    "               \"misp-galaxy:threat-actor=\\\"Sofacy\\\"\",\n",
    "               \"misp-galaxy:threat-actor=\\\"APT28\\\"\"]\n",
    "type_attribute = [\"url\", \"hostname\", \"domain\", \"ip-src\", \"ip-dst\"]\n",
    "```"
   ]
  },
  {
   "cell_type": "code",
   "execution_count": null,
   "id": "99fd7df3-4e82-4f6f-ab1f-385b70f4e09c",
   "metadata": {},
   "outputs": [],
   "source": [
    "# MISP search filters\n",
    "published = True\n",
    "to_ids = True\n",
    "date_from = \"2019-01-01\"\n",
    "limit = 500\n",
    "\n",
    "search_tags = []\n",
    "\n",
    "misp_mandatory_filter_tags = [\"tlp:white\", \"workflow:state=\\\"complete\\\"\"]\n",
    "exclude_tags = [\"workflow:state=\\\"rejected\\\"\"]\n",
    "type_attribute = []\n",
    "\n",
    "# Add additional attributes (\"converted\") based on the MISP search results\n",
    "add_converted_attribute = True"
   ]
  },
  {
   "cell_type": "code",
   "execution_count": null,
   "id": "636ed24d-3772-4ac1-b1a9-eae7c09296f8",
   "metadata": {
    "tags": []
   },
   "outputs": [],
   "source": [
    "# Do the MISP search\n",
    "print(\"Build search query.\")\n",
    "tag_query = misp.build_complex_query(or_parameters=search_tags, and_parameters=misp_mandatory_filter_tags, not_parameters=exclude_tags)\n",
    "\n",
    "print(\"Searching MISP for {}.\".format(tag_query))\n",
    "misp_search_match = misp.search(\"attributes\", tags=tag_query, type_attribute=type_attribute, date_from=date_from, published=published, pythonify=True, to_ids=to_ids, limit=limit)\n",
    "\n",
    "if len(misp_search_match) > 0:\n",
    "    print(\" Found \\033[92m{}\\033[90m matches.\".format(len(misp_search_match)))\n",
    "\n",
    "    for attribute in misp_search_match:\n",
    "        value = attribute.value.strip().lower()\n",
    "        if value not in playbook_results[\"attributes\"]:\n",
    "            playbook_results[\"attributes\"].append(value)\n",
    "            print(\" Indicator \\033[92m{}\\033[90m from event {} \\033[92m{}\\033[90m added to Timesketch search query\".format(value, attribute.Event.id, attribute.Event.info))\n",
    "            if add_converted_attribute:\n",
    "                add_converted_attributes(attribute.type, value)\n",
    "else:\n",
    "    print(\" No \\033[91mmatching mindicators\\033[90m found in MISP for {}\".format(tag_query))\n",
    "\n",
    "print(\"Finished searching in MISP.\\n\\n\")"
   ]
  },
  {
   "cell_type": "markdown",
   "id": "2a2305bd-435d-4e00-b505-88ca0211b7c1",
   "metadata": {},
   "source": [
    "# Timesketch\n",
    "\n",
    "## TS:1 Listing timesketch sketches\n",
    "\n",
    "This section details how to query Timesketch for occurrences of MISP indicators found earlier in your investigation.\n",
    "\n",
    "Step 1: **Define the target sketch**. Begin by configuring the search to specify the **sketch** within Timesketch where you want to search. A \"sketch\" in Timesketch refers to a specific timeline that an analyst creates to organize, visualize, and analyze events related to a particular investigation or case.\n",
    "\n",
    "You can define the target sketch using one of the following methods:\n",
    "\n",
    "- **Sketch ID**: Provide an integer value in `playbook_config[\"timesketch\"][\"sketch_id\"]`\n",
    "- **Sketch Name**: Provide a string in `playbook_config[\"timesketch\"][\"sketch_name\"]`\n",
    "\n",
    "Step 2: **Configure the output fields and results limit**. Next, set up the fields that need to be returned and specify the maximum number of results to retrieve:\n",
    "\n",
    "- **Fields**: Define the fields in `playbook_config[\"timesketch\"][\"default_return_fields\"]`\n",
    "- **Maximum Results**: Set the limit in `playbook_config[\"timesketch\"][\"max_entries\"]`"
   ]
  },
  {
   "cell_type": "code",
   "execution_count": null,
   "id": "43d1ec75-e198-459d-92a1-8c0ee623520f",
   "metadata": {
    "tags": []
   },
   "outputs": [],
   "source": [
    "# Have we configured a Sketch ID?\n",
    "if playbook_config[\"timesketch\"][\"sketch_id\"] != 0:\n",
    "    print(\"Using sketch ID \\033[92m{}\\033[90m\".format(playbook_config[\"timesketch\"][\"sketch_id\"]))\n",
    "else:\n",
    "    sketch_list = ts_client.list_sketches()\n",
    "    print(\"Searching sketches for {}\".format(playbook_config[\"timesketch\"][\"sketch_name\"]))\n",
    "    for sketch in sketch_list:\n",
    "        print(\" Checking ID: {} with name: {}\".format(sketch.id, sketch.name))\n",
    "        if sketch.name == playbook_config[\"timesketch\"][\"sketch_name\"]:\n",
    "            playbook_config[\"timesketch\"][\"sketch_id\"] = sketch.id\n",
    "            print(\"  Match with sketch ID \\033[92m{}\\033[90m\".format(playbook_config[\"timesketch\"][\"sketch_id\"]))\n",
    "            break\n",
    "\n",
    "if playbook_config[\"timesketch\"][\"sketch_id\"] > 0:\n",
    "    print(\"Continue with sketch ID \\033[92m{}\\033[90m\".format(playbook_config[\"timesketch\"][\"sketch_id\"]))\n",
    "else:\n",
    "    print(\"\\033[91mNo valid Timesketch sketch\\033[90m found.\")"
   ]
  },
  {
   "cell_type": "markdown",
   "id": "78f8679a-38f8-4056-9643-a586559cd6dd",
   "metadata": {},
   "source": [
    "## TS:2 Timesketch timelines\n",
    "\n",
    "A timeline in Timesketch is a chronological representation of events derived from various data sources. These events are organised along a timeline to help analysts understand the sequence of actions, identify patterns, and uncover anomalies during an investigation.\n",
    "\n",
    "Before the playbook continues, it wil print out all the **active timelines** to which the search query will be applied."
   ]
  },
  {
   "cell_type": "code",
   "execution_count": null,
   "id": "2a9f4df4-2073-421b-b731-f8fb1248d495",
   "metadata": {
    "tags": []
   },
   "outputs": [],
   "source": [
    "# Access the Timesketch sketch\n",
    "print(\"Access the Timesketch sketch\")\n",
    "sketch = ts_client.get_sketch(playbook_config[\"timesketch\"][\"sketch_id\"])\n",
    "playbook_results[\"timesketch\"][\"sketch\"] = sketch\n",
    "playbook_results[\"timesketch\"][\"name\"] = sketch.name\n",
    "playbook_results[\"timesketch\"][\"active_timelines\"] = []\n",
    "print(\" Got \\033[92m{}\\033[90m \\n\".format(playbook_results[\"timesketch\"][\"name\"]))\n",
    "\n",
    "# Get the timelines\n",
    "for timeline in sketch.list_timelines():\n",
    "    playbook_results[\"timesketch\"][\"active_timelines\"].append({\"original_filename\": timeline._name})\n",
    "\n",
    "if len(playbook_results[\"timesketch\"][\"active_timelines\"]) > 0:\n",
    "    print(\"There are \\033[92m{}\\033[90m active timelines in the sketch {}\".format(len(playbook_results[\"timesketch\"][\"active_timelines\"]), sketch.name))\n",
    "    for timeline in playbook_results[\"timesketch\"][\"active_timelines\"]:\n",
    "        print(\" {}\".format(timeline[\"original_filename\"]))\n",
    "else:\n",
    "    print(\"\\033[91mNo active timelines\\033[90m found.\")"
   ]
  },
  {
   "cell_type": "markdown",
   "id": "41ecb2c7-10fe-48e6-ae4c-3efc977b617b",
   "metadata": {},
   "source": [
    "## TS:3 Search in Timesketch\n",
    "\n",
    "This section forms the core component of the process, searching for all attributes with corresponding entries in Timesketch. If `playbook_config[\"timesketch\"][\"save_search\"]` is set to True, the search will be saved automatically.."
   ]
  },
  {
   "cell_type": "code",
   "execution_count": null,
   "id": "a92df3d4-97ba-49c3-9b77-5aef507b1573",
   "metadata": {
    "tags": []
   },
   "outputs": [],
   "source": [
    "print(\"Searching in Timesketch\")\n",
    "for attribute in playbook_results[\"attributes\"]:\n",
    "    search_obj = search.Search(sketch=playbook_results[\"timesketch\"][\"sketch\"])\n",
    "    print(\" Attribute \\033[92m{}\\033[90m\".format(attribute))\n",
    "    search_obj.query_string = attribute\n",
    "    return_fields = playbook_config[\"timesketch\"][\"default_return_fields\"]\n",
    "    search_obj.return_fields = return_fields\n",
    "    search_obj.name = \"Indicator search for {} (MISP)\".format(attribute)\n",
    "    search_obj.description = \"Search for indicator {} coming from MISP\".format(attribute)\n",
    "    search_obj.max_entries = playbook_config[\"timesketch\"][\"max_entries\"]\n",
    "    \n",
    "    if playbook_config[\"timesketch\"][\"save_search\"]:\n",
    "        search_obj.save()\n",
    "        print(\"  Saved search\")\n",
    "    \n",
    "    playbook_results[\"timesketch\"][attribute] = {\"object\": search_obj, \"pandas\": search_obj.to_pandas()}\n",
    "    if len(playbook_results[\"timesketch\"][attribute][\"pandas\"]) > 0:\n",
    "        print(\"  Found \\033[92m{}\\033[90m match(es)\".format(len(playbook_results[\"timesketch\"][attribute][\"pandas\"])))\n",
    "    else:\n",
    "        print(\"  No matches found\")\n",
    "print(\"Finished searching\")"
   ]
  },
  {
   "cell_type": "markdown",
   "id": "7b2d647b-413e-4dc3-8a2d-f96345992ee2",
   "metadata": {},
   "source": [
    "## TS:4 Timesketch search results\n",
    "\n",
    "After executing the search, the playbook outputs the results in a neatly formatted table. These tables are also sent to Mattermost for further review."
   ]
  },
  {
   "cell_type": "code",
   "execution_count": null,
   "id": "f5fa1810-b9df-4322-96c6-dfbda4835dc9",
   "metadata": {
    "tags": []
   },
   "outputs": [],
   "source": [
    "print(\"Display Timesketch results\")\n",
    "\n",
    "for attribute in playbook_results[\"attributes\"]:\n",
    "    df = playbook_results[\"timesketch\"][attribute][\"pandas\"].copy()\n",
    "    print(\"\\nMatches ({}) for \\033[92m{}\\033[90m\".format(len(df), attribute))\n",
    "    playbook_results[\"timesketch\"][attribute][\"markdown\"] = \"\"\n",
    "    if len(df) > 0:\n",
    "        df['strings'] = df['strings'].apply(lambda x: wrap_text(x) if x is not None else None)            \n",
    "        playbook_results[\"timesketch\"][attribute][\"markdown\"] = tabulate(df, headers='keys', tablefmt='pipe', showindex=False)    \n",
    "        display(HTML(df.to_html(escape=False, index=False)))\n",
    "\n",
    "print(\"\\n\\nFinished printing results\")"
   ]
  },
  {
   "cell_type": "markdown",
   "id": "d523fcae-bce3-42fa-ad96-b237e09eefdf",
   "metadata": {},
   "source": [
    "## TS:5 Plot Timesketch matches\n",
    "\n",
    "Additionally, the search results are visualized graphically to provide a clear and intuitive understanding of the data."
   ]
  },
  {
   "cell_type": "code",
   "execution_count": null,
   "id": "3e584784-f22c-4cdc-b8f1-aa7cb8d24218",
   "metadata": {
    "tags": []
   },
   "outputs": [],
   "source": [
    "print(\"Plot Timesketch results\")\n",
    "\n",
    "for attribute in playbook_results[\"attributes\"]:\n",
    "    df = playbook_results[\"timesketch\"][attribute][\"pandas\"].copy()\n",
    "    playbook_results[\"timesketch\"][attribute][\"attachment\"] = []\n",
    "    if len(df) > 0:\n",
    "        df['datetime'] = pd.to_datetime(df['datetime'])\n",
    "        df.set_index('datetime', inplace=True)\n",
    "\n",
    "        date_range = df.index.max() - df.index.min()    \n",
    "        if date_range <= pd.Timedelta(days=1):\n",
    "            event_counts = df.resample('H').size()  # Use hourly if within a day\n",
    "        elif date_range <= pd.Timedelta(weeks=1):\n",
    "            event_counts = df.resample('D').size() \n",
    "        elif date_range <= pd.Timedelta(weeks=4):\n",
    "            event_counts = df.resample('W').size()\n",
    "        else:\n",
    "            event_counts = df.resample('M').size()    \n",
    "        event_counts = event_counts[event_counts > 0]\n",
    "\n",
    "        plt.figure(figsize=(10, 6))\n",
    "        plt.scatter(event_counts.index, event_counts.values, color='skyblue', s=100)  \n",
    "        plt.title(\"Matches for {}\".format(attribute), fontsize=16, fontweight='bold')\n",
    "        plt.xlabel(\"Date\", fontsize=12)\n",
    "        plt.ylabel(\"Events\", fontsize=12)\n",
    "\n",
    "        ax = plt.gca()\n",
    "        y_values = event_counts.values\n",
    "        y_max = np.ceil(y_values.max())\n",
    "        ax.set_yticks(np.arange(0, y_max + 1, 1))\n",
    "\n",
    "        buffer = io.BytesIO()\n",
    "        plt.savefig(buffer, format='png')\n",
    "\n",
    "        buffer.seek(0)\n",
    "        plot_as_string = buffer.getvalue()\n",
    "        buffer_base64 = base64.b64encode(plot_as_string).decode()\n",
    "        data_url = f\"data:image/png;base64,{buffer_base64}\"\n",
    "\n",
    "        attachment = [{\"fallback\": \"Matches for {}\".format(attribute), \"color\": \"#ff8000\", \"image_url\": data_url}]\n",
    "        playbook_results[\"timesketch\"][attribute][\"attachment\"] = attachment\n",
    "        plt.show()        \n",
    "        plt.close()\n",
    "print(\"\\n\\nFinished plotting results\")"
   ]
  },
  {
   "cell_type": "markdown",
   "id": "8d5e5ee4-2daa-40da-80f7-d9c5036168f3",
   "metadata": {},
   "source": [
    "# Sightings\n",
    "\n",
    "## SI:1 Add sightings to MISP\n",
    "\n",
    "Now we'll add a MISP sighting for the occurences found in Timesketch. You can set the source with `sighting_source` and the sighting type with `sighting_type`. For the latter, these values exist\n",
    "- 0 = True **sighting**, the most common used option\n",
    "- 1 = **False positive** sighting\n",
    "- 2 = **Expiration** sighting"
   ]
  },
  {
   "cell_type": "code",
   "execution_count": null,
   "id": "66931d15-e201-4b92-b7f5-b6e267ebd58e",
   "metadata": {
    "tags": []
   },
   "outputs": [],
   "source": [
    "# Add sightings to MISP\n",
    "sighting_source = \"Set by playbook, detected in Timesketch\"\n",
    "sighting_type = 0  # Sighting types: 0=sighting ; 1=false positive ; 2=expiration"
   ]
  },
  {
   "cell_type": "code",
   "execution_count": null,
   "id": "b413dc16-0447-40ce-aa6b-7812d40f7c80",
   "metadata": {
    "tags": []
   },
   "outputs": [],
   "source": [
    "print(\"Adding sightings to MISP.\")\n",
    "\n",
    "for attribute in playbook_results[\"attributes\"]:\n",
    "    if len(playbook_results[\"timesketch\"][attribute][\"pandas\"]) > 0:\n",
    "        df = playbook_results[\"timesketch\"][attribute][\"pandas\"].copy()\n",
    "        if len(df) > 0:\n",
    "            for row in df[\"datetime\"]:\n",
    "                sighting_timestamp = row.timestamp()\n",
    "                sighting_source_add = \"{} - {}\".format(sighting_source, attribute)\n",
    "                data = {\"value\": attribute, \"type\": sighting_type, \"source\": sighting_source_add, \"timestamp\": sighting_timestamp}\n",
    "                request = misp._prepare_request(\"POST\", \"{}/sightings/add\".format(misp_url), data=data)\n",
    "                if \"Sighting\" in request.json():\n",
    "                    print(\" Adding \\033[92m{}\\033[90m at {}: {}\".format(attribute, row, sighting_source_add))\n",
    "                else:\n",
    "                    print(\" Unable to add sighting \\033[91m{}\\033[90m at {}\".format(attribute, row))\n",
    "print(\"Finished adding sightings.\")            "
   ]
  },
  {
   "cell_type": "markdown",
   "id": "70dea5ca",
   "metadata": {},
   "source": [
    "# Closure\n",
    "\n",
    "In this **closure** or end step we create a **summary** of the actions that were performed by the playbook. The summary is printed and can also be send to a chat channel. "
   ]
  },
  {
   "cell_type": "markdown",
   "id": "75b87ba6-19cc-4127-9299-480f708a61ff",
   "metadata": {},
   "source": [
    "## EN:1 Create the summary of the playbook \n",
    "\n",
    "The next section creates a summary and stores the output in the variable `summary` in Markdown format. It also stores an intro text in the variable `intro`. These variables can later be used when sending information to Mattermost or TheHive."
   ]
  },
  {
   "cell_type": "code",
   "execution_count": null,
   "id": "12561137-e759-440b-9d21-dc6def901cbc",
   "metadata": {
    "tags": []
   },
   "outputs": [],
   "source": [
    "summary = \"# MISP Playbook summary\\nQuery Timesketch for threat intelligence and report sightings in MISP and Mattermost \\n\\n\"\n",
    "\n",
    "current_date = datetime.now()\n",
    "formatted_date = current_date.strftime(\"%Y-%m-%d\")\n",
    "summary += \"## Overview\\n\\n\"\n",
    "summary += \"- Date: **{}**\\n\".format(formatted_date)\n",
    "summary += \"- Timesketch search in Sketch ID **{}** **{}**\\n\".format(playbook_config[\"timesketch\"][\"sketch_id\"], playbook_results[\"timesketch\"][\"name\"])\n",
    "summary += \"- Timesketch search limited to **{}** results\\n\".format(playbook_config[\"timesketch\"][\"max_entries\"])\n",
    "summary += \"- Based on MISP query: **{}**\\n\".format(tag_query)\n",
    "summary += \"- Attribute types: **{}**\\n\".format(type_attribute)\n",
    "summary += \"- Resulting in MISP attributes: **{}**\\n\".format(playbook_results[\"attributes\"])\n",
    "\n",
    "summary += \"## Timesketch matches\\n\\n\"\n",
    "summary += \"### Matches\\n\\n\"\n",
    "\n",
    "for attribute in playbook_results[\"attributes\"]:\n",
    "    summary += \"#### {} \\n\".format(attribute)\n",
    "    summary += playbook_results[\"timesketch\"][attribute][\"markdown\"]\n",
    "    summary += \"\\n\\n\"    \n",
    "    #summary += playbook_results[\"timesketch\"][attribute][\"attachment\"]\n",
    "    summary += \"\\n\\n\"\n",
    "    \n",
    "summary += \"\\n\\n\"\n",
    "\n",
    "print(\"The \\033[92msummary\\033[90m of the playbook is available.\\n\")"
   ]
  },
  {
   "cell_type": "markdown",
   "id": "e2093c95-efb8-45ad-974a-e158b6bea8ea",
   "metadata": {},
   "source": [
    "## EN:2 Print the summary"
   ]
  },
  {
   "cell_type": "code",
   "execution_count": null,
   "id": "179bc3ed-97bd-4dc9-8f12-29ebe2a11a19",
   "metadata": {
    "tags": []
   },
   "outputs": [],
   "source": [
    "print(summary)\n",
    "# Or print with parsed markdown\n",
    "#display_markdown(summary, raw=True)"
   ]
  },
  {
   "cell_type": "markdown",
   "id": "eba96062-deaa-4fb9-8302-7b3ef829201e",
   "metadata": {
    "tags": []
   },
   "source": [
    "## EN:3 Send a summary to Mattermost\n",
    "\n",
    "Now you can send the summary to Mattermost. You can send the summary in two ways by selecting one of the options for the variable `send_to_mattermost_option` in the next cell.\n",
    "\n",
    "- The default option where the entire summary is in the **chat**, or\n",
    "- a short intro and the summary in a **card**\n",
    "\n",
    "For this playbook we rely on a webhook in Mattermost. You can add a webhook by choosing the gear icon in Mattermost, then choose Integrations and then **Incoming Webhooks**. Set a channel for the webhook and lock the webhook to this channel with *\"Lock to this channel\"*."
   ]
  },
  {
   "cell_type": "code",
   "execution_count": null,
   "id": "8c455bc3-35cc-436d-8237-95c81b57208f",
   "metadata": {
    "tags": []
   },
   "outputs": [],
   "source": [
    "send_to_mattermost_option = \"via a chat message\"\n",
    "#send_to_mattermost_option = \"via a chat message with card\""
   ]
  },
  {
   "cell_type": "code",
   "execution_count": null,
   "id": "ca49f33e",
   "metadata": {},
   "outputs": [],
   "source": [
    "message = False\n",
    "attachment = None\n",
    "if send_to_mattermost_option == \"via a chat message\":\n",
    "    message = {\"username\": mattermost_playbook_user, \"text\": summary, \"attachments\": attachment}\n",
    "elif send_to_mattermost_option == \"via a chat message with card\":\n",
    "    message = {\"username\": mattermost_playbook_user, \"text\": intro, \"props\": {\"card\": summary}, \"attachments\": attachment}\n",
    "\n",
    "if message:\n",
    "    r = requests.post(mattermost_hook, data=json.dumps(message))\n",
    "    r.raise_for_status()\n",
    "if message and r.status_code == 200:\n",
    "    print(\"Summary is \\033[92msent to Mattermost.\\n\")\n",
    "    for attribute in playbook_results[\"attributes\"]:\n",
    "        message = {\"username\": mattermost_playbook_user, \"text\": \"\", \"attachments\": playbook_results[\"timesketch\"][attribute][\"attachment\"]}\n",
    "        r2 = requests.post(mattermost_hook, data=json.dumps(message))\n",
    "else:\n",
    "    print(\"\\033[91mFailed to sent summary\\033[90m to Mattermost.\\n\")"
   ]
  },
  {
   "cell_type": "markdown",
   "id": "498b8eff-7d1b-47b7-90c4-e13cc738b36c",
   "metadata": {},
   "source": [
    "## EN:4 End of the playbook "
   ]
  },
  {
   "cell_type": "code",
   "execution_count": null,
   "id": "4c03bb30",
   "metadata": {},
   "outputs": [],
   "source": [
    "print(\"\\033[92m End of the playbook\")\n"
   ]
  },
  {
   "cell_type": "markdown",
   "id": "b17af9f2",
   "metadata": {},
   "source": [
    "## External references\n",
    "\n",
    "- [The MISP Project](https://www.misp-project.org/)\n",
    "- [Mattermost](https://mattermost.com/)\n",
    "- [Timesketch](https://timesketch.org/)"
   ]
  },
  {
   "cell_type": "markdown",
   "id": "e1c813f6",
   "metadata": {},
   "source": [
    "## Technical details \n",
    "\n",
    "### Timesketch import test data\n",
    "\n",
    "- Bash script to import Timesketch data from https://github.com/sbousseaden/EVTX-ATTACK-SAMPLES\n",
    "- Inspired by https://github.com/jaegeral/timesketch-test-data\n",
    "\n",
    "```bash\n",
    "#!/usr/bin/bash\n",
    "\n",
    "sketch_id=4\n",
    "counter=0\n",
    "max_upload_files=50\n",
    "for file in $(find data/EVTX-ATTACK-SAMPLES/ -type f -name \"*.evtx\"); do\n",
    "    if [ -f \"$file\" ]; then\n",
    "\t((counter++))\n",
    "\techo \"($counter) : $file\"\n",
    "\tb=$(basename $file)\n",
    "\trelpath=$(realpath --relative-to=\"data/\" \"$file\")\n",
    "\tdirname=$(dirname $relpath)\n",
    "\tmkdir -p data/EVTX-ATTACK-SAMPLES-plaso/$dirname\n",
    "\tdocker run -v ./data:/data log2timeline/plaso log2timeline --storage-file /data/EVTX-ATTACK-SAMPLES-plaso/$b.plaso   /data/$relpath\n",
    "\ttimesketch_importer --context \"Upload via CLI\" --sketch_id $sketch_id --timeline_name $b data/EVTX-ATTACK-SAMPLES-plaso/$b.plaso\n",
    "\tif [ \"$counter\" -gt $max_upload_files ]; then\n",
    "\t    break\n",
    "\tfi\n",
    "    fi\n",
    "done\n",
    "```\n",
    "\n",
    "\n",
    "### Documentation\n",
    "\n",
    "This playbook requires these Python **libraries** to exist in the environment where the playbook is executed. You can install them with `pip install <library>`.\n",
    "\n",
    "```\n",
    "PrettyTable\n",
    "ipywidgets\n",
    "matplotlib\n",
    "io\n",
    "numpy\n",
    "timesketch_api_client\n",
    "```\n",
    "\n",
    "### Colour codes\n",
    "\n",
    "The output from Python displays some text in different colours. These are the colour codes\n",
    "\n",
    "```\n",
    "Red = '\\033[91m'\n",
    "Green = '\\033[92m'\n",
    "Blue = '\\033[94m'\n",
    "Cyan = '\\033[96m'\n",
    "White = '\\033[97m'\n",
    "Yellow = '\\033[93m'\n",
    "Magenta = '\\033[95m'\n",
    "Grey = '\\033[90m'\n",
    "Black = '\\033[90m'\n",
    "Default = '\\033[99m'\n",
    "```"
   ]
  },
  {
   "cell_type": "code",
   "execution_count": null,
   "id": "14dce812-e432-4c18-8358-f8b66e5b94a5",
   "metadata": {},
   "outputs": [],
   "source": []
  }
 ],
 "metadata": {
  "celltoolbar": "Attachments",
  "kernelspec": {
   "display_name": "Python 3 (ipykernel)",
   "language": "python",
   "name": "python3"
  },
  "language_info": {
   "codemirror_mode": {
    "name": "ipython",
    "version": 3
   },
   "file_extension": ".py",
   "mimetype": "text/x-python",
   "name": "python",
   "nbconvert_exporter": "python",
   "pygments_lexer": "ipython3",
   "version": "3.8.10"
  },
  "toc-autonumbering": false,
  "toc-showcode": false,
  "toc-showmarkdowntxt": false
 },
 "nbformat": 4,
 "nbformat_minor": 5
}
