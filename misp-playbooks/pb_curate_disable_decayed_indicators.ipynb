{
 "cells": [
  {
   "cell_type": "markdown",
   "id": "ca1fbfb5",
   "metadata": {
    "tags": [
     "playbook-introduction"
    ]
   },
   "source": [
    "# Curation: disable decayed indicators\n",
    "\n",
    "## Introduction\n",
    "\n",
    "- UUID: **4676fe7c-6811-4df6-b591-b3f494846a52**\n",
    "- Started from [issue 30](https://github.com/MISP/misp-playbooks/issues/30)\n",
    "- State: **Published**\n",
    "- Purpose: This playbook disables **decayed** indicators. It uses a custom decaying model defined in this playbook but can also rely on the MISP build-in models. When an indicator is considered decayed, the `to_ids` flag is set to False and the attribute is tagged.\n",
    "    - The build-in decaying feature of MISP adds a (decay) score to an indicator but does not automatically disable it. This playbook allows you to do just that.\n",
    "    - The playbook can exclude or include attributes that are tagged with specific labels.       \n",
    "    - Use this MISP playbook together with the [**Curate threat events**](https://github.com/MISP/misp-playbooks/blob/main/misp-playbooks/pb_curate_misp_events.ipynb) and [**Query for inconsistencies in MISP events**](https://github.com/MISP/misp-playbooks/blob/main/misp-playbooks/pb_query_for_inconsistencies_misp_events.ipynb) playbook for optimal threat intelligence curation result.\n",
    "    - The results are summarised at the end of the playbook and shared with **Mattermost**.\n",
    "- Tags: [ \"curation\", \"workflow\", \"todo\", \"qa\", \"quality\", \"audit\", \"decaying\", \"indicators\", \"lifecycle\"]\n",
    "- External resources: **Mattermost**\n",
    "- Target audience: **CTI**\n",
    "\n",
    "[![](https://mermaid.ink/img/pako:eNqNVE2L2zAQ_SuDIJeQXPYY2O0lUAobujS9lKgkij2ORfURpDElBP_3jmTHSbwfXR-MPH5v5s2TNGdR-BLFQsznc-lIk8EFrL6tX-Bo1Gnv_R_p8q_J5KydpgWcpaiM_1vUKpAU-bsma57VHk1MgUqZiG0L7WQi3QCF5x_SAT-KKOh9Qxg3uc71-3cHiM3-ENSxhqKJ5O3WskADm5deD5RYqBPkaM-otCEMcSMF-a0u4wxIHfg9pAY6HVGKHp4TsOzvpsQAVCsHRldI2uIXKdq7nDCfP3WELoyuHLfBEFijCkWdwT3xphSHf2XYUydv1KbV8XhpMjvyboPbBP1sl7ec7YBh9lekESeCr2Bc-lWi_I_5hQ8BC_oI9cDu5sXjI4XmxtVP25dl3wUuVo4iDx91-yrjW1r_sz0ZtNWu1IUiH2CzzEKGQN9_x2V7ljqqvcE-MPjDe3W3Cz_V4WrCFZVJWfYdYeRebKxVIW3Gjsulm3oJsa7h5u6GtJYTYbA-UqKs0RE4T7pKHWjvuCxMp6sBNJ3u3tadhV0qpfU1sXRiJiyvlS55nJwTm09qjRbTUEjnoVKN4ZEhXctQ1ZBfn1whFumEzERzLBXhUit23YpFHiIzgaVmi1fdiMqTqv0HiD-e-g?type=png)](https://mermaid.live/edit#pako:eNqNVE2L2zAQ_SuDIJeQXPYY2O0lUAobujS9lKgkij2ORfURpDElBP_3jmTHSbwfXR-MPH5v5s2TNGdR-BLFQsznc-lIk8EFrL6tX-Bo1Gnv_R_p8q_J5KydpgWcpaiM_1vUKpAU-bsma57VHk1MgUqZiG0L7WQi3QCF5x_SAT-KKOh9Qxg3uc71-3cHiM3-ENSxhqKJ5O3WskADm5deD5RYqBPkaM-otCEMcSMF-a0u4wxIHfg9pAY6HVGKHp4TsOzvpsQAVCsHRldI2uIXKdq7nDCfP3WELoyuHLfBEFijCkWdwT3xphSHf2XYUydv1KbV8XhpMjvyboPbBP1sl7ec7YBh9lekESeCr2Bc-lWi_I_5hQ8BC_oI9cDu5sXjI4XmxtVP25dl3wUuVo4iDx91-yrjW1r_sz0ZtNWu1IUiH2CzzEKGQN9_x2V7ljqqvcE-MPjDe3W3Cz_V4WrCFZVJWfYdYeRebKxVIW3Gjsulm3oJsa7h5u6GtJYTYbA-UqKs0RE4T7pKHWjvuCxMp6sBNJ3u3tadhV0qpfU1sXRiJiyvlS55nJwTm09qjRbTUEjnoVKN4ZEhXctQ1ZBfn1whFumEzERzLBXhUit23YpFHiIzgaVmi1fdiMqTqv0HiD-e-g)"
   ]
  },
  {
   "cell_type": "raw",
   "id": "d5aa1137-6000-4553-a65d-841b149ae521",
   "metadata": {
    "tags": []
   },
   "source": [
    "---\n",
    "title: MISP playbook\n",
    "---\n",
    "%%{init: {\"flowchart\": {\"htmlLabels\": false}} }%%\n",
    "flowchart LR\n",
    "    attributes[MISP attributes]\n",
    "    subgraph custom_model [Playbook decay model]\n",
    "    filters[\"to_ids, tags, attribute type\"]\n",
    "    decay{\"Older than lifetime?\"}\n",
    "    filters --> decay\n",
    "    end\n",
    "    attributes -- Search --> filters\n",
    "    decay --Yes -->to_ids\n",
    "    subgraph misp_model [MISP decay model]\n",
    "    filters_misp[\"to_ids, tags, attribute type\"]\n",
    "    filters_misp_attribute[\"Get attribute types of MISP decay model\"]\n",
    "    filters_decay[\"correct model\"]\n",
    "    filters_decay2{\"decay==true?\"}\n",
    "    end\n",
    "    attributes -- Search --> filters_misp --> filters_decay --> filters_decay2\n",
    "    filters_misp_attribute --> filters_misp\n",
    "    filters_decay2 --Yes -->to_ids\n",
    "    subgraph decay_indicator [Decay indicator]\n",
    "    to_ids[\"Disable to_ids\"]\n",
    "    tag_attribute[\"Tag attribute\"]\n",
    "    to_ids --> tag_attribute\n",
    "    end\n",
    "    summary[\"`Display summary in playbook`\"]\n",
    "    mattermost[\"`Sent notification to **Mattermost**`\"]\n",
    "    tag_attribute --> summary --> mattermost"
   ]
  },
  {
   "cell_type": "markdown",
   "id": "a512a2c1",
   "metadata": {
    "jp-MarkdownHeadingCollapsed": true,
    "tags": []
   },
   "source": [
    "# Playbook\n",
    "\n",
    "- **Curate MISP events**\n",
    "    - Introduction\n",
    "- **Preparation**\n",
    "    - PR:1 Initialise environment\n",
    "    - PR:2 Load helper functions\n",
    "    - PR:3 Set helper variables\n",
    "- **Curate events and attributes**\n",
    "    - RE:1 Introduction\n",
    "    - RE:2 Limit the search to trusted organisations\n",
    "    - RE:3 Search for indicators that require curation\n",
    "    - RE:4 Search with the custom decay model for this playbook\n",
    "    - RE:5 Search with a MISP decaying model\n",
    "    - RE:6 Create the summary of findings\n",
    "    - RE:7 Curation details\n",
    "- **Closure**\n",
    "    - EN:1 Create the summary of the playbook \n",
    "    - EN:2 Print the summary\n",
    "    - EN:3 Send a summary to Mattermost\n",
    "    - EN:4 End of the playbook \n",
    "- External references\n",
    "- Technical details"
   ]
  },
  {
   "cell_type": "markdown",
   "id": "8dc24913",
   "metadata": {
    "tags": []
   },
   "source": [
    "# Preparation\n",
    "\n",
    "## PR:1 Initialise environment\n",
    "\n",
    "This section **initialises the playbook environment** and loads the required Python libraries. \n",
    "\n",
    "The credentials for MISP (**API key**) and other services are loaded from the file `keys.py` in the directory **vault**. A [PyMISP](https://github.com/MISP/PyMISP) object is created to interact with MISP and the active MISP server is displayed. By printing out the server name you know that it's possible to connect to MISP. In case of a problem PyMISP will indicate the error with `PyMISPError: Unable to connect to MISP`.\n",
    "\n",
    "The contents of the `keys.py` file should contain at least :\n",
    "\n",
    "```\n",
    "misp_url=\"<MISP URL>\"                  # The URL to our MISP server\n",
    "misp_key=\"<MISP API KEY>\"              # The MISP API key\n",
    "misp_verifycert=<True or False>        # Ignore certificate errors\n",
    "mattermost_playbook_user=\"<MATTERMOST USER>\"\n",
    "mattermost_hook=\"<MATTERMOST WEBHOOK>\"\n",
    "```"
   ]
  },
  {
   "cell_type": "code",
   "execution_count": null,
   "id": "5f94c336",
   "metadata": {
    "tags": []
   },
   "outputs": [],
   "source": [
    "# Initialise Python environment\n",
    "import urllib3\n",
    "import sys\n",
    "import json\n",
    "#from pyfaup.faup import Faup\n",
    "from prettytable import PrettyTable, MARKDOWN\n",
    "from IPython.display import Image, display, display_markdown, HTML\n",
    "from datetime import date, datetime\n",
    "import requests\n",
    "from pymisp import *\n",
    "from pymisp.tools import GenericObjectGenerator\n",
    "\n",
    "import base64\n",
    "import matplotlib.pyplot as plt\n",
    "import io\n",
    "\n",
    "# Load the credentials\n",
    "sys.path.insert(0, \"../vault/\")\n",
    "from keys import *\n",
    "if misp_verifycert is False:\n",
    "    import urllib3\n",
    "    urllib3.disable_warnings(urllib3.exceptions.InsecureRequestWarning)\n",
    "print(\"The \\033[92mPython libraries\\033[90m are loaded and the \\033[92mcredentials\\033[90m are read from the keys file.\")\n",
    "\n",
    "# Create the PyMISP object\n",
    "misp = PyMISP(misp_url, misp_key, misp_verifycert)\n",
    "print(\"I will use the MISP server \\033[92m{}\\033[90m for this playbook.\\n\\n\".format(misp_url))"
   ]
  },
  {
   "cell_type": "markdown",
   "id": "50587a49-e703-454a-84ba-538cc2e3050b",
   "metadata": {},
   "source": [
    "## PR:2 Load helper functions\n",
    "\n",
    "The next cell contains **helper functions** that are used in this playbook. \n",
    "\n",
    "Instead of distributing helper functions as separate Python files this playbook includes all the required code as one code cell. This makes portability of playbooks between instances easier. The downside is that functions defined in this playbook need to be defined again in other playbooks, which is not optimal for code re-use. For this iteration of playbooks it is chosen to include the code in the playbook (more portability), but you can easily create one \"helper\" file that contains all the helper code and then import that file in each playbook (for example by adding to the previous cell `from helpers import *`)."
   ]
  },
  {
   "cell_type": "code",
   "execution_count": null,
   "id": "e0ca002f-4ea7-4b7d-bcdb-7a333c628f36",
   "metadata": {
    "tags": []
   },
   "outputs": [],
   "source": [
    "def disable_attribute(attribute, decay_model=\"MISP playbook\"):\n",
    "    # The \"published\" state is not correctly included in the Attribute search list. Get the event details\n",
    "    misp_event = MISPEvent()\n",
    "    misp_event = misp.get_event(attribute.Event.id, pythonify=True)\n",
    "    publish_state = misp_event.published\n",
    "\n",
    "    if attribute.Event.uuid not in playbook_results[\"events\"]:\n",
    "        playbook_results[\"events\"][attribute.Event.uuid] = {\"eventid\": attribute.Event.id, \"eventtitle\": attribute.Event.info,\n",
    "                                                            \"eventdate\": misp_event.date, \"org\": misp_event.orgc.name}\n",
    "        published_text = \"\"\n",
    "        if publish_state:\n",
    "            published_text = \"(published)\"\n",
    "        print(\"   Decayed indicators in event \\033[92m{}\\033[90m - {} {}\".format(attribute.Event.id, attribute.Event.info, published_text))\n",
    "\n",
    "    tag_list = []\n",
    "    for tag in playbook_config[\"curation_decaying_cleanup_tag\"]:\n",
    "        t = MISPTag()\n",
    "        t.name = tag\n",
    "        t.local = playbook_config[\"curation_decaying_cleanup_tag_local\"]\n",
    "        tag_list.append(t)\n",
    "\n",
    "    attribute.tags = tag_list\n",
    "    attribute.to_ids = False\n",
    "    attribute.comment = \"Attribute timestamp was {}\".format(attribute.timestamp)\n",
    "    misp.update_attribute(attribute)\n",
    "    if attribute.uuid not in playbook_results[\"attributes\"]:\n",
    "        playbook_results[\"attributes\"][attribute.uuid] = {\"value\": attribute.value, \"timestamp\": \"{}\".format(attribute.timestamp),\n",
    "                                                          \"eventid\": attribute.Event.id, \"eventtitle\": attribute.Event.info,\n",
    "                                                          \"decay_model\": decay_model}\n",
    "\n",
    "    if playbook_config[\"keep_publish_state\"]:\n",
    "        misp_event = misp.get_event(attribute.Event.id, pythonify=True)\n",
    "        misp_event.published = publish_state\n",
    "        misp.update_event(misp_event)\n",
    "\n",
    "    attribute_timestamp = attribute.timestamp.strftime('%Y-%m-%d')\n",
    "    if attribute_timestamp in playbook_results[\"timestamps\"]:\n",
    "        playbook_results[\"timestamps\"][attribute_timestamp] += 1\n",
    "    else:\n",
    "        playbook_results[\"timestamps\"][attribute_timestamp] = 1"
   ]
  },
  {
   "cell_type": "markdown",
   "id": "36d28445-dfa1-47ae-942e-16adb2111cc0",
   "metadata": {},
   "source": [
    "## PR:3 Set helper variables\n",
    "\n",
    "This cell contains **helper variables** that are used in this playbook. Their usage is explained in the next steps of the playbook.\n",
    "\n",
    "- `playbook_config` : the configuration of the playbook\n",
    "- `playbook_results` : the results of the playbook\n",
    "- `result_limit` : maximum number of results to include in one result page when querying MISP\n",
    "- `result_limit_max_page` : maximum number of pages to return"
   ]
  },
  {
   "cell_type": "code",
   "execution_count": null,
   "id": "aa5409f6-d042-410f-9dc7-51500aae61c3",
   "metadata": {
    "tags": []
   },
   "outputs": [],
   "source": [
    "playbook_config = {\n",
    "                    \"curation_decaying_model_playbook\":\n",
    "                        {\n",
    "                            \"ip-src\": \"300d\",\n",
    "                            \"ip-src|port\": \"300d\",\n",
    "                            \"ip-dst\": \"300d\",\n",
    "                            \"ip-dst|port\": \"300d\",\n",
    "                            \"hostname\": \"300d\",\n",
    "                            \"hostname|port\": \"300d\",\n",
    "                            \"domain\": \"300d\",\n",
    "                            \"domain|ip\": \"300d\",\n",
    "                            \"url\": \"400d\",\n",
    "                        },\n",
    "                    \"curation_decaying_model\": \"curation\",\n",
    "                    \"curation_decaying_ignore\": [\"estimative-language:confidence-in-analytic-judgment=\\\"high\\\"\", \"tlp:red\"],\n",
    "                    \"curation_decaying_limit_search\": [\"tlp:white\"],\n",
    "                    \"curation_decaying_publishedstate\": None,\n",
    "                    \"curation_decaying_cleanup_tag\": [\"curation:curated:\\\"disable_ids_by_cleanup\\\"\"],\n",
    "                    \"curation_decaying_cleanup_tag_local\": True,\n",
    "\n",
    "                    \"keep_publish_state\": True,\n",
    "                    }\n",
    "\n",
    "playbook_results = {\"events\": {},\n",
    "                    \"attributes\": {},\n",
    "                    \"decaying_model_meta\": {},\n",
    "                    \"timestamps\": {}\n",
    "                    }\n",
    "\n",
    "result_limit = 5\n",
    "result_limit_max_page = 3\n",
    "\n",
    "curation_filter_tags = []\n",
    "for tag in playbook_config[\"curation_decaying_ignore\"]:\n",
    "    curation_filter_tags.append(\"!{}\".format(tag))\n",
    "curation_filter_tags = curation_filter_tags + playbook_config[\"curation_decaying_limit_search\"]"
   ]
  },
  {
   "cell_type": "markdown",
   "id": "030ae8e7-248e-490f-b704-72fd6972c9d0",
   "metadata": {},
   "source": [
    "# Curate decayed indicators\n",
    "\n",
    "## RE:1 Introduction\n",
    "\n",
    "Among other things, threat information needs to be relevant, **timely**, **valid** and **fresh**. Each community has their own ground rules on how long an indicator is useful, but there are commonalities. For example an IP address belonging to a VPN provider has a relative short lifespan. A domain or URL typically lasts longer and a hash doesn't decay (which doesn't mean it cannot become less useful). These concepts are covered in [indicator lifecycle management](https://kravensecurity.com/what-is-the-indicator-lifecycle/). \n",
    "\n",
    "MISP has a build-in scoring system called [decaying of Indicators model](https://www.misp-project.org/2019/09/12/Decaying-Of-Indicators.html/) to guarantee the \"freshness\" of indicators. You can use the score to omit decayed indicators from being synchronised to your IT environment (use `\"excludeDecayed\": 1` in your exports). \n",
    "\n",
    "![helpers/playbook-decayindicators2.png](helpers/playbook-decayindicators2.png)\n",
    "\n",
    "There are some drawbacks to the MISP implementation:\n",
    "- The `to_ids` field remains unchanged, regardless if an indicator is decayed;\n",
    "- You cannot easily **filter** for only the decayed indicators;\n",
    "- The scoring (or indication if an indicator is decayed) is only visible after **clicking the decay score tab**.\n",
    "\n",
    "![helpers/playbook-decayindicators1.png](helpers/playbook-decayindicators1.png)\n",
    "\n",
    "This playbook addresses some of these drawbacks.\n",
    "- You can run a custom decaying model from this playbook, a MISP build-in model or your own MISP model;\n",
    "- The `to_ids` field is disabled for decayed indicators. The comment field includes the original timestamp of the attribute;\n",
    "- The decayed attributes are tagged\n",
    "\n",
    "![helpers/playbook-decayindicators3.png](helpers/playbook-decayindicators3.png)\n",
    "\n",
    "## RE:2 Limit the search to trusted organisations\n",
    "\n",
    "You can limit the curation to one or more organisations with the variable `org_list`. Optionally you could extend this code to get the list from a *warninglist* holding the **high confidence** organisations. Also see this blog article: [Curate events with an organisation confidence level](https://www.misp-project.org/2022/11/14/curation-with-org-confidence-level.html/)."
   ]
  },
  {
   "cell_type": "code",
   "execution_count": null,
   "id": "50850ce7-b0af-42b6-94e9-e086d5c02f1b",
   "metadata": {},
   "outputs": [],
   "source": [
    "# Only consider events created by the below organisations. Set to False to include events from all orgs\n",
    "#org_list = [1, 2, 14, 16]\n",
    "org_list = False"
   ]
  },
  {
   "cell_type": "markdown",
   "id": "e0f7a511-d095-4296-bb54-052f2e6929a6",
   "metadata": {},
   "source": [
    "## RE:3 Search for indicators that require curation\n",
    "\n",
    "The playbook searches for indicators (MISP attributes) that require curation. The configuration is in `playbook_config`. \n",
    "\n",
    "- `curation_decaying_model_playbook` defines the custom decaying model for this playbook, consisting of a dictionary with `misp-attribute-type: xxxd` pairs\n",
    "    - Replace `misp-attribute-type` with a MISP attribute type (ip-src, ip-dst) and `xxx` with number of days\n",
    "- `curation_decaying_model`: MISP **indicator decay model** (optionally)\n",
    "- `curation_decaying_ignore`: **exclude** attributes from decaying\n",
    "- `curation_decaying_limit_search`: Only include tagged attributes\n",
    "- `curation_decaying_cleanup_tag`: **Tag** a decayed attribute\n",
    "- `curation_decaying_cleanup_tag_local`: Use a local tag on decayed attributes\n",
    "- `curation_decaying_publishedstate`: Filter on published/not published or ignore the published state of events\n",
    "- `keep_publish_state`: Keep the publish state of events containing decayed attributes\n",
    "\n",
    "## RE:4 Search with the custom decay model for this playbook"
   ]
  },
  {
   "cell_type": "code",
   "execution_count": null,
   "id": "2fea105e-1571-413f-8b11-a0f8f2de07ed",
   "metadata": {
    "tags": []
   },
   "outputs": [],
   "source": [
    "print(\"Searching for decayed attributes based on custom model. Filter on {}.\".format(curation_filter_tags))\n",
    "processed_attributes = 0\n",
    "\n",
    "for attribute_type in playbook_config[\"curation_decaying_model_playbook\"]:\n",
    "    attribute_age = playbook_config[\"curation_decaying_model_playbook\"][attribute_type]\n",
    "    attribute_timestamp = [\"365000d\", attribute_age]\n",
    "    print(\" Search \\033[92m{}\\033[90m older than {}\".format(attribute_type, attribute_age))\n",
    "    current_page = 1\n",
    "    while True:\n",
    "        attribute_list = misp.search(\"attributes\", org=org_list, published=playbook_config[\"curation_decaying_publishedstate\"], tags=curation_filter_tags, type_attribute=attribute_type, attribute_timestamp=attribute_timestamp, to_ids=True,\n",
    "                                         pythonify=True, limit=result_limit, page=current_page)\n",
    "        len_attribute_list = len(attribute_list)\n",
    "        if len_attribute_list == 0:\n",
    "            break\n",
    "\n",
    "        print(\"  Page {} with {} results.\".format(current_page, len_attribute_list))\n",
    "        print(\"  Found \\033[92m{}\\033[90m decayed indicators\".format(len(attribute_list)))\n",
    "        for attribute in attribute_list:\n",
    "            processed_attributes += 1\n",
    "            disable_attribute(attribute)\n",
    "\n",
    "        current_page += 1\n",
    "        if current_page >= result_limit_max_page:\n",
    "            break\n",
    "print(\"Finished searching. Processed {} attributes, decayed \\033[92m{}\\033[90m attributes.\".format(processed_attributes, len(playbook_results[\"attributes\"])))"
   ]
  },
  {
   "cell_type": "markdown",
   "id": "f122311a-738d-48cd-9b39-ecd4b4671ec2",
   "metadata": {},
   "source": [
    "## RE:5 Search with a MISP decaying model\n",
    "\n",
    "After searching with the decaying model defined in this playbook (via `playbook_config[\"curation_decaying_model_playbook\"]`) you can also rely on one of the MISP decaying models, either a build-in one or one that defined by you.\n",
    "\n",
    "The playbook queries the MISP models, and if the one specified in `playbook_config[\"curation_decaying_model\"]` is **found** and **enabled**, then it will apply the decaying actions (disable to_ids and tag the attribute).\n",
    "\n",
    "You can *skip this step* if you do not want to do decaying based on a MISP decaying model."
   ]
  },
  {
   "cell_type": "code",
   "execution_count": null,
   "id": "feae7136-83bd-47d8-8b81-f0f0ad930a1f",
   "metadata": {
    "tags": []
   },
   "outputs": [],
   "source": [
    "###################\n",
    "# Get all available decaying models\n",
    "decayingModel = misp._prepare_request('GET', 'decayingModel/index.json').json()\n",
    "if len(decayingModel) > 0:\n",
    "    for model in decayingModel:\n",
    "        if model[\"DecayingModel\"][\"name\"] == playbook_config[\"curation_decaying_model\"] and model[\"DecayingModel\"][\"enabled\"] == True:\n",
    "            playbook_results[\"decaying_model_meta\"] = {\"description\": model[\"DecayingModel\"][\"description\"], \"lifetime\": model[\"DecayingModel\"][\"parameters\"][\"lifetime\"], \"attributes\": []}\n",
    "            for attr in model[\"DecayingModelMapping\"]:\n",
    "                playbook_results[\"decaying_model_meta\"][\"attributes\"].append(attr[\"attribute_type\"])\n",
    "\n",
    "if len(playbook_results[\"decaying_model_meta\"][\"attributes\"]) > 0:\n",
    "    print(\"Found MISPdecaying model \\033[92m{}\\033[90m enabled for {}.\\n\\n\".format(playbook_config[\"curation_decaying_model\"], playbook_results[\"decaying_model_meta\"][\"attributes\"]))\n",
    "else:\n",
    "    print(\"MISP decaying modle \\033[91m{}\\033[90m not found.\\n\\n\".format(playbook_config[\"curation_decaying_model\"]))\n",
    "\n",
    "###################\n",
    "# Apply the model\n",
    "print(\"Searching for decayed attributes based on model {} ...\".format(playbook_config[\"curation_decaying_model\"]))\n",
    "current_decayed_indicators = len(playbook_results[\"attributes\"])\n",
    "processed_attributes = 0\n",
    "if len(playbook_results[\"decaying_model_meta\"][\"attributes\"]) > 0:\n",
    "    current_page = 1\n",
    "    attribute_type = playbook_results[\"decaying_model_meta\"][\"attributes\"]\n",
    "    while True:\n",
    "        attribute_list = misp.search(\"attributes\", org=org_list, published=playbook_config[\"curation_decaying_publishedstate\"], tags=curation_filter_tags, to_ids=True,\n",
    "                                     type_attribute=attribute_type, pythonify=True, includeDecayScore=1, limit=result_limit, page=current_page)\n",
    "        len_attribute_list = len(attribute_list)\n",
    "        if len_attribute_list == 0:\n",
    "            break\n",
    "\n",
    "        print(\" Page {} with {} results.\".format(current_page, len_attribute_list))\n",
    "        for attribute in attribute_list:\n",
    "            decay_indicator = False\n",
    "            decay_model_match = None\n",
    "            processed_attributes += 1\n",
    "            try:\n",
    "                decay_score = attribute.decay_score\n",
    "                if len(decay_score) > 0:\n",
    "                    for model in decay_score:\n",
    "                        if model[\"DecayingModel\"][\"name\"] == playbook_config[\"curation_decaying_model\"]:\n",
    "                            if model[\"decayed\"]:\n",
    "                                decay_indicator = True\n",
    "                                break\n",
    "            except:\n",
    "                continue\n",
    "\n",
    "            if decay_indicator:\n",
    "                disable_attribute(attribute, playbook_config[\"curation_decaying_model\"])\n",
    "\n",
    "        current_page += 1\n",
    "        if current_page >= result_limit_max_page:\n",
    "            break\n",
    "else:\n",
    "    print(\"MISP decaying model \\033[91m{}\\033[90m not found.\".format(playbook_config[\"curation_decaying_model\"]))\n",
    "\n",
    "print(\"Finished searching. Processed {} attributes, decayed \\033[92m{}\\033[90m attributes.\".format(processed_attributes, len(playbook_results[\"attributes\"]) - current_decayed_indicators))"
   ]
  },
  {
   "cell_type": "markdown",
   "id": "90d61d51-c8ab-48ab-9541-df65ee6f7a1c",
   "metadata": {},
   "source": [
    "## RE:6 Create the summary of findings\n",
    "\n",
    "The playbook first creates and then prints out a short summary of the findings. In the next cell the results from `playbook_results` are summarised and put in a table format. This table is then printed in the summary and included in the Mattermost notification."
   ]
  },
  {
   "cell_type": "code",
   "execution_count": null,
   "id": "98170380-a8d5-4c78-a61c-979d68c89beb",
   "metadata": {
    "tags": []
   },
   "outputs": [],
   "source": [
    "count_attributes = 0\n",
    "count_events = 0\n",
    "\n",
    "table = PrettyTable()\n",
    "table.field_names = [\"Event ID\", \"Event\", \"Date\", \"Org\", \"Event UUID\"]\n",
    "table.align[\"Event\"] = \"l\"\n",
    "table.align[\"Event ID\"] = \"l\"\n",
    "table.align[\"Org\"] = \"l\"\n",
    "table._max_width = {\"Event\": 50, \"Org\": 30}\n",
    "for entry in playbook_results[\"events\"]:\n",
    "    count_events += 1\n",
    "    entry_details = playbook_results[\"events\"][entry]\n",
    "    table.add_row([entry_details[\"eventid\"], entry_details[\"eventtitle\"], entry_details[\"eventdate\"], entry_details[\"org\"], entry])\n",
    "misp_events = table\n",
    "print(\"Created \\033[92m{}\\033[90m with {} entries\".format(\"misp_events\", count_events))\n",
    "\n",
    "table = PrettyTable()\n",
    "table.field_names = [\"Attribute value\", \"Timestamp\", \"Event ID\", \"Event\", \"Model\", \"Attribute UUID\"]\n",
    "table.align[\"Event\"] = \"l\"\n",
    "table.align[\"Model\"] = \"l\"\n",
    "table.align[\"Attribute value\"] = \"l\"\n",
    "table._max_width = {\"Event\": 50}\n",
    "for entry in playbook_results[\"attributes\"]:\n",
    "    count_attributes += 1\n",
    "    entry_details = playbook_results[\"attributes\"][entry]\n",
    "    table.add_row([entry_details[\"value\"], entry_details[\"timestamp\"], entry_details[\"eventid\"], entry_details[\"eventtitle\"], entry_details[\"decay_model\"], entry])\n",
    "misp_attributes = table\n",
    "print(\"Created \\033[92m{}\\033[90m with {} entries\".format(\"misp_attributes\", count_attributes))"
   ]
  },
  {
   "cell_type": "markdown",
   "id": "5ff53eba-dc06-4271-b58f-8d46a0d4bfec",
   "metadata": {},
   "source": [
    "## RE:7 Curation details\n",
    "\n",
    "Print out the details of the curation changes that happened on **attribute** level. The cell also creates a graph with an overview of the timestamps of the decayed indicators."
   ]
  },
  {
   "cell_type": "code",
   "execution_count": null,
   "id": "f0c537ad-5206-4f9a-a304-f172cfca02b7",
   "metadata": {
    "tags": []
   },
   "outputs": [],
   "source": [
    "print(\"Decayed \\033[92mattributes\\033[90m.\")\n",
    "print(misp_attributes.get_string(sortby=\"Attribute value\"))\n",
    "print(\"\\n\\n\\033[92mEvents\\033[90m containing decayed attributes.\")\n",
    "print(misp_events.get_string(sortby=\"Event ID\"))\n",
    "\n",
    "# Create the graph\n",
    "playbook_results[\"timestamps\"] = dict(sorted(playbook_results[\"timestamps\"].items(), key=lambda item: item[0]))\n",
    "\n",
    "dates = [datetime.strptime(date, '%Y-%m-%d') for date in playbook_results[\"timestamps\"].keys()]\n",
    "values = list(playbook_results[\"timestamps\"].values())\n",
    "\n",
    "plt.plot(dates, values, marker='o', linestyle='-', color='skyblue', linewidth=2, markersize=8)\n",
    "plt.title('Decaying indicators', fontsize=16, fontweight='bold')\n",
    "plt.ylabel('Volume of indicators', fontsize=12)\n",
    "plt.grid(True, linestyle='--', alpha=0.7)  # Add grid lines with transparency\n",
    "plt.xticks(rotation=45)  # Rotate x-axis labels for better readability\n",
    "plt.tight_layout()  # Adjust layout to prevent clipping of labels\n",
    "\n",
    "buffer = io.BytesIO()\n",
    "plt.savefig(buffer, format='png')\n",
    "buffer.seek(0)\n",
    "plot_as_string = buffer.getvalue()\n",
    "plt.show()"
   ]
  },
  {
   "cell_type": "markdown",
   "id": "70dea5ca",
   "metadata": {},
   "source": [
    "# Closure\n",
    "\n",
    "In this **closure** or end step we create a **summary** of the actions that were performed by the playbook. The summary is printed and can also be send to a chat channel. "
   ]
  },
  {
   "cell_type": "markdown",
   "id": "75b87ba6-19cc-4127-9299-480f708a61ff",
   "metadata": {},
   "source": [
    "## EN:1 Create the summary of the playbook \n",
    "\n",
    "The next section creates a summary and stores the output in the variable `summary` in Markdown format. It also stores an intro text in the variable `intro`. These variables can later be used when sending information to Mattermost or TheHive."
   ]
  },
  {
   "cell_type": "code",
   "execution_count": null,
   "id": "12561137-e759-440b-9d21-dc6def901cbc",
   "metadata": {
    "tags": []
   },
   "outputs": [],
   "source": [
    "summary = \"# MISP Playbook summary\\nCuration: disable decayed indicators \\n\\n\"\n",
    "\n",
    "current_date = datetime.now()\n",
    "formatted_date = current_date.strftime(\"%Y-%m-%d\")\n",
    "summary += \"## Overview\\n\\n\"\n",
    "summary += \"- Date: **{}**\\n\".format(formatted_date)\n",
    "summary += \"- Number of **attributes** reviewed: **{}**\\n\".format(len(playbook_results[\"attributes\"]))\n",
    "summary += \"- Affected **events**: **{}**\\n\".format(len(playbook_results[\"events\"]))\n",
    "\n",
    "summary += \"\\n\\n\"\n",
    "summary += \"## Decayed attributes\\n\\n\"\n",
    "misp_attributes.set_style(MARKDOWN)\n",
    "summary += misp_attributes.get_string(sortby=\"Attribute value\")\n",
    "summary += \"\\n\\n\"\n",
    "\n",
    "summary += \"## Events containing decayed attributes\\n\\n\"\n",
    "misp_events.set_style(MARKDOWN)\n",
    "summary += misp_events.get_string(sortby=\"Event ID\")\n",
    "summary += \"\\n\\n\"\n",
    "\n",
    "raw_attributes = \"\"\n",
    "for entry in playbook_results[\"attributes\"]:\n",
    "    raw_attributes = \"{}{}\\n\".format(raw_attributes, playbook_results[\"attributes\"][entry][\"value\"])\n",
    "summary += \"\\n\\n\"\n",
    "summary += \"## Raw list of decayed attributes\\n\\n\"\n",
    "summary += raw_attributes\n",
    "summary += \"\\n\\n\"\n",
    "\n",
    "print(\"The \\033[92msummary\\033[90m of the playbook is available.\\n\")"
   ]
  },
  {
   "cell_type": "markdown",
   "id": "e2093c95-efb8-45ad-974a-e158b6bea8ea",
   "metadata": {},
   "source": [
    "## EN:2 Print the summary"
   ]
  },
  {
   "cell_type": "code",
   "execution_count": null,
   "id": "179bc3ed-97bd-4dc9-8f12-29ebe2a11a19",
   "metadata": {
    "tags": []
   },
   "outputs": [],
   "source": [
    "print(summary)\n",
    "# Or print with parsed markdown\n",
    "#display_markdown(summary, raw=True)"
   ]
  },
  {
   "cell_type": "markdown",
   "id": "eba96062-deaa-4fb9-8302-7b3ef829201e",
   "metadata": {
    "tags": []
   },
   "source": [
    "## EN:3 Send a summary to Mattermost\n",
    "\n",
    "Now you can send the summary to Mattermost. You can send the summary in two ways by selecting one of the options for the variable `send_to_mattermost_option` in the next cell.\n",
    "\n",
    "- The default option where the entire summary is in the **chat**, or\n",
    "- a short intro and the summary in a **card**\n",
    "\n",
    "For this playbook we rely on a webhook in Mattermost. You can add a webhook by choosing the gear icon in Mattermost, then choose Integrations and then **Incoming Webhooks**. Set a channel for the webhook and lock the webhook to this channel with *\"Lock to this channel\"*."
   ]
  },
  {
   "cell_type": "code",
   "execution_count": null,
   "id": "8c455bc3-35cc-436d-8237-95c81b57208f",
   "metadata": {
    "tags": []
   },
   "outputs": [],
   "source": [
    "send_to_mattermost_option = \"via a chat message\"\n",
    "#send_to_mattermost_option = \"via a chat message with card\""
   ]
  },
  {
   "cell_type": "code",
   "execution_count": null,
   "id": "ca49f33e",
   "metadata": {},
   "outputs": [],
   "source": [
    "buffer_base64 = base64.b64encode(plot_as_string).decode()\n",
    "data_url = f\"data:image/png;base64,{buffer_base64}\"\n",
    "attachment = [{\"fallback\": \"Decaying of indicators\",\"color\": \"#ff8000\",\"image_url\": data_url}]\n",
    "\n",
    "message = False\n",
    "\n",
    "if send_to_mattermost_option == \"via a chat message\":\n",
    "    message = {\"username\": mattermost_playbook_user, \"text\": summary, \"attachments\": attachment}\n",
    "elif send_to_mattermost_option == \"via a chat message with card\":\n",
    "    message = {\"username\": mattermost_playbook_user, \"text\": intro, \"props\": {\"card\": summary}, \"attachments\": attachment}\n",
    "\n",
    "if message:\n",
    "    r = requests.post(mattermost_hook, data=json.dumps(message))\n",
    "    r.raise_for_status()\n",
    "if message and r.status_code == 200:\n",
    "    print(\"Summary is \\033[92msent to Mattermost.\\n\")\n",
    "else:\n",
    "    print(\"\\033[91mFailed to sent summary\\033[90m to Mattermost.\\n\")"
   ]
  },
  {
   "cell_type": "markdown",
   "id": "498b8eff-7d1b-47b7-90c4-e13cc738b36c",
   "metadata": {},
   "source": [
    "## EN:4 End of the playbook "
   ]
  },
  {
   "cell_type": "code",
   "execution_count": null,
   "id": "4c03bb30",
   "metadata": {},
   "outputs": [],
   "source": [
    "print(\"\\033[92m End of the playbook\")\n"
   ]
  },
  {
   "cell_type": "markdown",
   "id": "b17af9f2",
   "metadata": {},
   "source": [
    "## External references <a name=\"extreferences\"></a>\n",
    "\n",
    "- [The MISP Project](https://www.misp-project.org/)\n",
    "- [Mattermost](https://mattermost.com/)"
   ]
  },
  {
   "cell_type": "markdown",
   "id": "e1c813f6",
   "metadata": {},
   "source": [
    "## Technical details \n",
    "\n",
    "### Documentation\n",
    "\n",
    "This playbook requires these Python **libraries** to exist in the environment where the playbook is executed. You can install them with `pip install <library>`.\n",
    "\n",
    "```\n",
    "PrettyTable\n",
    "ipywidgets\n",
    "matplotlib\n",
    "io\n",
    "```\n",
    "\n",
    "### Colour codes\n",
    "\n",
    "The output from Python displays some text in different colours. These are the colour codes\n",
    "\n",
    "```\n",
    "Red = '\\033[91m'\n",
    "Green = '\\033[92m'\n",
    "Blue = '\\033[94m'\n",
    "Cyan = '\\033[96m'\n",
    "White = '\\033[97m'\n",
    "Yellow = '\\033[93m'\n",
    "Magenta = '\\033[95m'\n",
    "Grey = '\\033[90m'\n",
    "Black = '\\033[90m'\n",
    "Default = '\\033[99m'\n",
    "```"
   ]
  },
  {
   "cell_type": "code",
   "execution_count": null,
   "id": "14dce812-e432-4c18-8358-f8b66e5b94a5",
   "metadata": {},
   "outputs": [],
   "source": []
  }
 ],
 "metadata": {
  "celltoolbar": "Attachments",
  "kernelspec": {
   "display_name": "Python 3 (ipykernel)",
   "language": "python",
   "name": "python3"
  },
  "language_info": {
   "codemirror_mode": {
    "name": "ipython",
    "version": 3
   },
   "file_extension": ".py",
   "mimetype": "text/x-python",
   "name": "python",
   "nbconvert_exporter": "python",
   "pygments_lexer": "ipython3",
   "version": "3.8.10"
  },
  "toc-autonumbering": false,
  "toc-showcode": false,
  "toc-showmarkdowntxt": false
 },
 "nbformat": 4,
 "nbformat_minor": 5
}
