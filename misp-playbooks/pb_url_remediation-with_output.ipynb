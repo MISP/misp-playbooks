{
 "cells": [
  {
   "cell_type": "markdown",
   "id": "ca1fbfb5",
   "metadata": {
    "tags": [
     "playbook-introduction"
    ]
   },
   "source": [
    "# URL remediation\n",
    "\n",
    "## Introduction\n",
    "\n",
    "- UUID: **94e81d43-0299-45d1-8cb9-5e27b37ff900**\n",
    "- Started from [issue 16](https://github.com/MISP/misp-playbooks/issues/16)\n",
    "- State: **Published** : demo version with **output**\n",
    "- Purpose : This playbook builds on the **Query URL information** playbook ([Issue #14](https://github.com/MISP/misp-playbooks/issues/14)). \n",
    "    - It leverages an existing MISP event containing a URL object to query abuse contact information through **Abuse_Finder**, **LookyLoo**, **FIRST** and **RDAP**. Additionally, it guides you on reporting the URL as a phishing website using platforms such as **Microsoft MSRC**, **Google Safe Browsing**, and **Netcraft**. The playbook also provides detailed instructions for reporting phishing URLs via webforms and email to organisations like **Spamhaus**, **APWG**, **SafeOnWeb**, and others. At the end, a summary is sent to Mattermost.\n",
    "- Tags: [ \"url\", \"remediation\", \"phishing\" ]\n",
    "- External resources: **LookyLoo**, **Abusefinder**, **FIRST**, **MMDB**, **Mattermost**, **RDAP**\n",
    "- Target audience: **SOC, CSIRT, CTI**\n",
    "\n",
    "![](https://mermaid.ink/img/pako:eNp1VN2OqjAQfpWmiTcGXsALExWPIZFdAms2OWLOFhigR-iQtuweY3z3UyqrMazc0Jn55u-bac80wxzojLqumwjNdQ0zEvhxSNqanVLEI9lFWyKhgZwzzVEkwkInkzMXXM_IOaFFjV9ZxaROqJUr3dRblkKtekXBagWXC7lMJom4Qck2SkwsYj7VpaVkbUV88QlK83LI09t2O98jrktWFaKCa2XrTxDaKOcE-tPeKu3xcHWCAUDW_7RkmSaY_gXzG4LN-5aeIHNsGBcuby3OD4cqDAUGtDV0nGpEa1uh0MZDPSAWaafgT8FFDvIHlB_2oA1gjZlt0mKCwFv2-l9-FL899Yq8Rfg08Zy8bb2fY5ChU5GP-LYQLhrDwUMXEbQorwwHcbTaBzyTqLDQVjw8w27i5X6DWNZAYlYAWUr8UlyUTx1eQGeSFY_J3yEtUDYWkIM67sOKq0ozcXyMs3bNpOo7LG5ZU7FOOWQRvm8c8tqCsK6OreZVmMCHR848KJgoR5twq8-MkZs5oVTXHbvLhxGpPTPWSXVNw-TpqjWUjJXfbY8t9wRj222eI8sgWEPDtAbZoBpIvcv7hH7EfY8CNS_4sH8ayXQa3EDT6UdCD9ShjZEZz83DcO4DJVRX5gnor3NCc0NbV5vLnoiLgbJOY3wSGZ1p2YFDJXZlRWf22ju0a3OmwePMrFxz07ZM_Eb8li__AfbVbqw)"
   ]
  },
  {
   "cell_type": "raw",
   "id": "e9723bab-770c-4387-adc8-6e7c4ab8d734",
   "metadata": {},
   "source": [
    "```\n",
    "---\n",
    "title: MISP playbook URL remediation\n",
    "---\n",
    "%%{init: {\"flowchart\": {\"htmlLabels\": false}} }%%\n",
    "flowchart LR\n",
    "\n",
    "    subgraph Investigation\n",
    "    UUID -- Choose MISP Event --> event[MISP event]\n",
    "    event -- Extract object UUID --> URL\n",
    "    event -- Extract domain-ip --> IP\n",
    "    URL -- Lookyloo --> Contacts\n",
    "    URL -- Abuse_finder --> Contacts\n",
    "    IP -- Geolocation --> MMDB -- FIRST --> Contacts\n",
    "    IP -- RDAP --> Contacts\n",
    "    URL --> TLD -- FIRST --> Contacts \n",
    "    end\n",
    "\n",
    "    subgraph Containment\n",
    "    URL -- Report --> MSRC[Microsoft MSRC]\n",
    "    URL -- Report --> GSB[Google Safe Browsing]\n",
    "    URL -- Report --> Netcraft\n",
    "    URL -- Webform --> desk[Phishtank]\n",
    "    URL -- E-mail --> desk[Spamhaus, APWG, OpenPhish, SafeOnWeb]\n",
    "    URL --> Defang\n",
    "    event -- Export --> indicators[MISP indicators]\n",
    "    end\n",
    "\n",
    "    MSRC --> summary\n",
    "    GSB --> summary\n",
    "    Netcraft --> summary\n",
    "    indicators --> summary\n",
    "    Contacts --> summary\n",
    "    summary --> mattermost\n",
    "    mattermost[\"`Sent notification to **Mattermost**`\"]\n",
    "```"
   ]
  },
  {
   "cell_type": "markdown",
   "id": "a512a2c1",
   "metadata": {
    "tags": []
   },
   "source": [
    "# Playbook\n",
    "\n",
    "- **URL remediation**\n",
    "    - Introduction\n",
    "- **Preparation**\n",
    "    - PR:1 Initialise environment\n",
    "    - PR:2 Set helper variables\n",
    "- **Investigate**\n",
    "    - IN:1 Choose MISP event\n",
    "    - IN:2 Abuse contacts via LookyLoo\n",
    "    - IN:3 Abuse contacts via Abusefinder\n",
    "    - IN:4 Get geolocation of the IP from MMDB\n",
    "    - IN:5 Query RDAP\n",
    "    - IN:6 Contact details via FIRST\n",
    "- **Containment**\n",
    "    - CN:1 Report to Microsoft MSRC\n",
    "    - CN:2 Report to Google Safe Browsing\n",
    "    - CN:3 Report to Netcraft\n",
    "    - CN:4 Reporting via web forms\n",
    "    - CN:5 Reporting via e-mail\n",
    "    - CN:6 Defang URL\n",
    "    - CN:7 Export MISP indicators\n",
    "- **Summary**\n",
    "    - EN:1 Create the summary of the playbook\n",
    "    - EN:2 Add the summary as a MISP report\n",
    "    - EN:3 Send a summary to Mattermost\n",
    "    - EN:4 Publish MISP event\n",
    "    - EN:5 End of the playbook\n",
    "- External references\n",
    "- Technical details"
   ]
  },
  {
   "cell_type": "markdown",
   "id": "8dc24913",
   "metadata": {
    "tags": []
   },
   "source": [
    "# Preparation\n",
    "\n",
    "## PR:1 Initialise environment\n",
    "\n",
    "This section **initialises the playbook environment** and loads the required Python libraries. \n",
    "\n",
    "The credentials for MISP (**API key**) and other services are loaded from the file `keys.py` in the directory **vault**. A [PyMISP](https://github.com/MISP/PyMISP) object is created to interact with MISP and the active MISP server is displayed. By printing out the server name you know that it's possible to connect to MISP. In case of a problem PyMISP will indicate the error with `PyMISPError: Unable to connect to MISP`.\n",
    "\n",
    "The contents of the `keys.py` file should contain at least :\n",
    "\n",
    "```\n",
    "misp_url=\"<MISP URL>\"                  # The URL to our MISP server\n",
    "misp_key=\"<MISP API KEY>\"              # The MISP API key\n",
    "misp_verifycert=<True or False>        # Indicate if PyMISP should attempt to verify the certificate or ignore errors\n",
    "mattermost_playbook_user=\"<MATTERMOST USER>\"\n",
    "mattermost_hook=\"<MATTERMOST WEBHOOK>\"\n",
    "thehive_url=\"<THEHIVE URL>\"\n",
    "thehive_key=\"<THEHIVE API KEY>\"\n",
    "google_sb_api_key=\"<GOOGLE API KEY>\"\n",
    "```"
   ]
  },
  {
   "cell_type": "code",
   "execution_count": 2,
   "id": "5f94c336",
   "metadata": {
    "tags": []
   },
   "outputs": [
    {
     "name": "stderr",
     "output_type": "stream",
     "text": [
      "The version of PyMISP recommended by the MISP instance (2.4.198) is newer than the one you're using now (2.4.194). Please upgrade PyMISP.\n"
     ]
    },
    {
     "name": "stdout",
     "output_type": "stream",
     "text": [
      "The \u001b[92mPython libraries\u001b[90m are loaded and the \u001b[92mcredentials\u001b[90m are read from the keys file.\n",
      "I will use the MISP server \u001b[92mhttps://misp.demo.cudeso.be/\u001b[90m for this playbook.\n",
      "\n",
      "\n"
     ]
    }
   ],
   "source": [
    "# Initialise Python environment\n",
    "import urllib3\n",
    "import sys\n",
    "import json\n",
    "import base64\n",
    "import uuid\n",
    "import time\n",
    "import re\n",
    "from prettytable import PrettyTable, MARKDOWN\n",
    "from IPython.display import Image, display, display_markdown, HTML\n",
    "from datetime import date\n",
    "from datetime import datetime\n",
    "import requests\n",
    "from pymisp import *\n",
    "from pymisp.tools import GenericObjectGenerator\n",
    "import textwrap\n",
    "import validators\n",
    "from urllib.parse import urlparse\n",
    "from pylookyloo import Lookyloo\n",
    "from pyfaup.faup import Faup\n",
    "from abuse_finder import domain_abuse, ip_abuse, email_abuse, url_abuse\n",
    "\n",
    "# Load the credentials\n",
    "sys.path.insert(0, \"../vault/\")\n",
    "from keys import *\n",
    "if misp_verifycert is False:\n",
    "    import urllib3\n",
    "    urllib3.disable_warnings(urllib3.exceptions.InsecureRequestWarning)\n",
    "print(\"The \\033[92mPython libraries\\033[90m are loaded and the \\033[92mcredentials\\033[90m are read from the keys file.\")\n",
    "\n",
    "# Create the PyMISP object\n",
    "misp = PyMISP(misp_url, misp_key, misp_verifycert)\n",
    "misp_headers = {\"Authorization\": misp_key,  \"Content-Type\": \"application/json\", \"Accept\": \"application/json\"}\n",
    "print(\"I will use the MISP server \\033[92m{}\\033[90m for this playbook.\\n\\n\".format(misp_url))"
   ]
  },
  {
   "cell_type": "markdown",
   "id": "6b0fe9f4-23b1-4eec-bc61-8bc965ffc619",
   "metadata": {},
   "source": [
    "## PR:2 Set helper variables\n",
    "\n",
    "This cell contains **helper variables** that are used in this playbook.\n",
    "\n",
    "- `playbook_config` : the configuration of the playbook\n",
    "- `playbook_results` : the results of the playbook"
   ]
  },
  {
   "cell_type": "code",
   "execution_count": 3,
   "id": "645d8ee5-e07f-4bab-953c-8d71f9c1b171",
   "metadata": {
    "tags": []
   },
   "outputs": [],
   "source": [
    "# Dictionary to playbook results and some of the core objects that are created\n",
    "playbook_results = {}\n",
    "\n",
    "playbook_config = {\"reporter_email\": \"info@example.com\",\n",
    "                   \"msrc_test_submission\": False,\n",
    "                   \"mmdb_url\": \"https://ip.circl.lu/geolookup/\",\n",
    "                   \"skip_tld_search\": [\"com\", \"net\", \"org\", \"io\", \"biz\", \"top\"],\n",
    "                  }"
   ]
  },
  {
   "cell_type": "markdown",
   "id": "2243ae8b-cb77-4835-a0cd-2738ee8c9bec",
   "metadata": {},
   "source": [
    "# Investigate"
   ]
  },
  {
   "cell_type": "markdown",
   "id": "d55f7949-99c5-434b-ab14-07cfac95d5d8",
   "metadata": {},
   "source": [
    "## IN:1 Choose MISP event\n",
    "\n",
    "In this initial step, the playbook queries a MISP event using its **UUID**. From the selected event, it extracts the **URL object** along with the associated **URL** and **domain** attributes.\n",
    "\n",
    "Ideally, this event was created using the MISP playbook [Query URL reputation](https://github.com/MISP/misp-playbooks/blob/main/misp-playbooks/pb_query_url_reputation.ipynb), which helps enrich and validate the URLs.\n",
    "\n",
    "To proceed, provide the **MISP event UUID** by setting the `event_uuid` variable."
   ]
  },
  {
   "cell_type": "code",
   "execution_count": 4,
   "id": "888e65f4-0529-425b-8cb0-f6d7189daa4c",
   "metadata": {},
   "outputs": [
    {
     "name": "stdout",
     "output_type": "stream",
     "text": [
      "Found event with UUID \u001b[92m9c05b615-3759-442a-80b7-7d67c260e85c\u001b[90m\n",
      " URL reputation investigation for https://britamix.net.br/\n",
      " URL: \u001b[92mhttps://britamix.net.br/\u001b[90m\n",
      " URL object UUID: \u001b[92m6d4a273e-8114-43b5-95c6-c123a7ab7ae4\u001b[90m\n",
      " IP: \u001b[92m162.214.126.4\u001b[90m\n"
     ]
    }
   ],
   "source": [
    "# Provide the event UUID where you stored the URL object\n",
    "event_uuid = \"9c05b615-3759-442a-80b7-7d67c260e85c\"\n",
    "\n",
    "# Search for the event and the URL\n",
    "query = False\n",
    "misp_event = misp.get_event(event_uuid, pythonify=True)\n",
    "if not \"errors\" in misp_event:\n",
    "    print(\"Found event with UUID \\033[92m{}\\033[90m\".format(event_uuid))\n",
    "    playbook_results[\"event\"] = misp_event.uuid\n",
    "    print(\" {}\".format(misp_event.info))\n",
    "    for obj in misp_event.objects:\n",
    "        if obj.name == \"url\":\n",
    "            for attribute in obj.attributes:\n",
    "                if attribute.object_relation == \"url\":\n",
    "                    query = attribute.value\n",
    "                    playbook_results[\"url\"] = query\n",
    "                if attribute.object_relation == \"domain\":\n",
    "                    playbook_results[\"domain\"] = attribute.value\n",
    "            if query:\n",
    "                print(\" URL: \\033[92m{}\\033[90m\".format(query))\n",
    "                playbook_results[\"url_object\"] = obj\n",
    "                print(\" URL object UUID: \\033[92m{}\\033[90m\".format(playbook_results[\"url_object\"].uuid))\n",
    "            else:\n",
    "                print(\"Unable to find a \\033[91mURL object\\033[90m with a URL in the event.\")\n",
    "        if obj.name == \"domain-ip\":\n",
    "            for attribute in obj.attributes:\n",
    "                if attribute.object_relation == \"ip\":\n",
    "                    print(\" IP: \\033[92m{}\\033[90m\".format(attribute.value))\n",
    "                    playbook_results[\"dns\"] = {\"resolves\": attribute.value}\n",
    "else:\n",
    "    print(\"Unable to load event with UUID \\033[91m{}\\033[90m\".format(event_uuid))"
   ]
  },
  {
   "cell_type": "markdown",
   "id": "d04337a2-bdd1-495d-9a61-1b48d787b238",
   "metadata": {},
   "source": [
    "## IN:2 Abuse contacts via LookyLoo\n",
    "\n",
    "The LookyLoo analysis provides us with contact information for the domain, IPs and ASN.  These contacts are also added as MISP attributes."
   ]
  },
  {
   "cell_type": "code",
   "execution_count": 5,
   "id": "78c64803-e49c-444c-8308-f2ef9d8c03b6",
   "metadata": {},
   "outputs": [
    {
     "name": "stdout",
     "output_type": "stream",
     "text": [
      "Search in event for LookyLoo submit URL\n",
      "Found LookyLoo submit URL https://lookyloo.circl.lu/tree/fc15b21f-9912-4bbd-9def-a964e5af6360\n",
      " LookyLoo UUID: \u001b[92mfc15b21f-9912-4bbd-9def-a964e5af6360\u001b[90m\n",
      " Found \u001b[92mcert@cert.br\u001b[90m\n",
      " Found \u001b[92mlucas_mikury@hotmail.com\u001b[90m\n",
      " Found \u001b[92mmail-abuse@cert.br\u001b[90m\n",
      " Found \u001b[92mabuse@bluehost.com\u001b[90m\n",
      " Found \u001b[92mabuse@unifiedlayer.com\u001b[90m\n",
      " Found \u001b[92meig-net-team@endurance.com\u001b[90m\n",
      " Found \u001b[92mnetops@unifiedlayer.com\u001b[90m\n"
     ]
    },
    {
     "name": "stderr",
     "output_type": "stream",
     "text": [
      "Something went wrong (403): {'saved': False, 'name': 'Could not add Attribute', 'message': 'Could not add Attribute', 'url': '/attributes/add', 'errors': {'value': ['A similar attribute already exists for this event.']}}\n",
      "Something went wrong (403): {'saved': False, 'name': 'Could not add Attribute', 'message': 'Could not add Attribute', 'url': '/attributes/add', 'errors': {'value': ['A similar attribute already exists for this event.']}}\n",
      "Something went wrong (403): {'saved': False, 'name': 'Could not add Attribute', 'message': 'Could not add Attribute', 'url': '/attributes/add', 'errors': {'value': ['A similar attribute already exists for this event.']}}\n"
     ]
    },
    {
     "name": "stdout",
     "output_type": "stream",
     "text": [
      " Found \u001b[92mabuse@bluehost.com\u001b[90m\n",
      " Found \u001b[92mabuse@unifiedlayer.com\u001b[90m\n",
      " Found \u001b[92meig-net-team@endurance.com\u001b[90m\n",
      " Found \u001b[92meig-noc@endurance.com\u001b[90m\n"
     ]
    }
   ],
   "source": [
    "# Query Lookyloo\n",
    "lookyloo_url = \"https://lookyloo.circl.lu\"\n",
    "\n",
    "print(\"Search in event for LookyLoo submit URL\")\n",
    "lookyloo = Lookyloo(lookyloo_url)\n",
    "\n",
    "def add_takedown_contact(contact, contact_detail):\n",
    "    attribute = MISPAttribute()\n",
    "    attribute.value = contact\n",
    "    attribute.to_ids = False\n",
    "    attribute.category = \"Attribution\"\n",
    "    attribute.type = \"email\"\n",
    "    attribute.disable_correlation = False\n",
    "    attribute.comment = f\"Contact for {contact_detail}\"\n",
    "    attribute_misp = misp.add_attribute(misp_event.uuid, attribute, pythonify=True)\n",
    "    return attribute_misp\n",
    "                    \n",
    "                    \n",
    "lookyloo_uuid = False\n",
    "for attribute in misp_event.attributes:\n",
    "    if attribute.type == \"link\":\n",
    "        if lookyloo_url in attribute.value and \"/tree/\" in attribute.value:\n",
    "            print(\"Found LookyLoo submit URL {}\".format(attribute.value))\n",
    "            lookyloo_uuid = attribute.value.split(\"/tree/\")[1]\n",
    "            print(\" LookyLoo UUID: \\033[92m{}\\033[90m\".format(lookyloo_uuid))\n",
    "if lookyloo_uuid:\n",
    "    playbook_results[\"takedown\"] = { \"contacts\": [], \"IPs\": [], \"ASNs\": [] }\n",
    "    relationtype = \"contact-for\"\n",
    "    takedown_information = lookyloo.get_takedown_information(lookyloo_uuid)\n",
    "    if takedown_information[0].get(\"contacts\", False):\n",
    "        for email in takedown_information[0].get(\"contacts\", False):\n",
    "            if email not in playbook_results[\"takedown\"][\"contacts\"]:\n",
    "                attribute_misp = add_takedown_contact(email, \"contacts\")\n",
    "                print(\" Found \\033[92m{}\\033[90m\".format(email))\n",
    "                playbook_results[\"takedown\"][\"contacts\"].append(email)\n",
    "                if not \"errors\" in attribute_misp:\n",
    "                    misp.tag(attribute_misp.uuid, \"abuse-contact:lookyloo\", True)\n",
    "                    misp.add_object_reference(playbook_results[\"url_object\"].add_reference(attribute_misp.uuid, relationtype))\n",
    "    \n",
    "    if takedown_information[0].get(\"ips\", False):\n",
    "        for ip in takedown_information[0].get(\"ips\", False):\n",
    "            for email in takedown_information[0][\"ips\"][ip]:\n",
    "                if email not in playbook_results[\"takedown\"][\"IPs\"]:\n",
    "                    attribute_misp = add_takedown_contact(email, \"IPs\")\n",
    "                    print(\" Found \\033[92m{}\\033[90m\".format(email))\n",
    "                    playbook_results[\"takedown\"][\"IPs\"].append(email)\n",
    "                    if not \"errors\" in attribute_misp:\n",
    "                        misp.tag(attribute_misp.uuid, \"abuse-contact:lookyloo\", True)\n",
    "                        misp.add_object_reference(playbook_results[\"url_object\"].add_reference(attribute_misp.uuid, relationtype))\n",
    "                        \n",
    "    if takedown_information[0].get(\"asns\", False):\n",
    "        for asn in takedown_information[0].get(\"asns\", False):\n",
    "            for email in takedown_information[0][\"asns\"][asn]:\n",
    "                if email not in playbook_results[\"takedown\"][\"ASNs\"]:\n",
    "                    attribute_misp = add_takedown_contact(email, \"ASNs\")\n",
    "                    print(\" Found \\033[92m{}\\033[90m\".format(email))\n",
    "                    playbook_results[\"takedown\"][\"ASNs\"].append(email)\n",
    "                    if not \"errors\" in attribute_misp:\n",
    "                        misp.tag(attribute_misp.uuid, \"abuse-contact:lookyloo\", True)\n",
    "                        misp.add_object_reference(playbook_results[\"url_object\"].add_reference(attribute_misp.uuid, relationtype))                    \n",
    "else:\n",
    "    print(\"Unable to find a \\033[91mLookyLoo submit URL\\033[90m in the event.\")"
   ]
  },
  {
   "cell_type": "markdown",
   "id": "c34cd131-e4c0-4c56-86c4-b054df381533",
   "metadata": {},
   "source": [
    "### Takedown information enrichment table\n",
    "\n",
    "The results are now stored in `playbook_results`. Execute the next cell to display them in a table format."
   ]
  },
  {
   "cell_type": "code",
   "execution_count": 6,
   "id": "234dfcc0-7717-4744-a09f-96ed312419b1",
   "metadata": {
    "tags": []
   },
   "outputs": [
    {
     "name": "stdout",
     "output_type": "stream",
     "text": [
      "+----------+--------------------------+----------+----------------------------+\n",
      "|  Source  | Value                    | Type     | Enriched                   |\n",
      "+----------+--------------------------+----------+----------------------------+\n",
      "| LookyLoo | https://britamix.net.br/ | ASNs     | abuse@bluehost.com         |\n",
      "| LookyLoo | https://britamix.net.br/ | ASNs     | abuse@unifiedlayer.com     |\n",
      "| LookyLoo | https://britamix.net.br/ | ASNs     | eig-net-team@endurance.com |\n",
      "| LookyLoo | https://britamix.net.br/ | ASNs     | eig-noc@endurance.com      |\n",
      "| LookyLoo | https://britamix.net.br/ | IPs      | abuse@bluehost.com         |\n",
      "| LookyLoo | https://britamix.net.br/ | IPs      | abuse@unifiedlayer.com     |\n",
      "| LookyLoo | https://britamix.net.br/ | IPs      | eig-net-team@endurance.com |\n",
      "| LookyLoo | https://britamix.net.br/ | IPs      | netops@unifiedlayer.com    |\n",
      "| LookyLoo | https://britamix.net.br/ | contacts | cert@cert.br               |\n",
      "| LookyLoo | https://britamix.net.br/ | contacts | lucas_mikury@hotmail.com   |\n",
      "| LookyLoo | https://britamix.net.br/ | contacts | mail-abuse@cert.br         |\n",
      "+----------+--------------------------+----------+----------------------------+\n"
     ]
    }
   ],
   "source": [
    "# Put the correlations in a pretty table. We can use this table later also for the summary\n",
    "table = PrettyTable()\n",
    "table.field_names = [\"Source\", \"Value\", \"Type\", \"Enriched\"]\n",
    "table.align[\"Value\"] = \"l\"\n",
    "table.align[\"Category\"] = \"l\"\n",
    "table.align[\"Type\"] = \"l\"\n",
    "table.align[\"Enriched\"] = \"l\"\n",
    "table._max_width = {\"Enriched\": 50}\n",
    "for match in playbook_results[\"takedown\"][\"contacts\"]:\n",
    "    table.add_row([\"LookyLoo\", playbook_results[\"url\"], \"contacts\", match])\n",
    "for match in playbook_results[\"takedown\"][\"IPs\"]:\n",
    "    table.add_row([\"LookyLoo\", playbook_results[\"url\"], \"IPs\", match])\n",
    "for match in playbook_results[\"takedown\"][\"ASNs\"]:\n",
    "    table.add_row([\"LookyLoo\", playbook_results[\"url\"], \"ASNs\", match])\n",
    "print(table.get_string(sortby=\"Type\"))\n",
    "table_lookyloo_info = table"
   ]
  },
  {
   "cell_type": "markdown",
   "id": "49c9d5e9-4421-40d7-bc48-b373f2b44c81",
   "metadata": {},
   "source": [
    "## IN:3 Abuse contacts via abuse_finder\n",
    "\n",
    "The next cell uses the [abuse_finder](https://github.com/certsocietegenerale/abuse_finder) information to get the most appropriate contact details for abuse reports, both for what concerns the domain and the associated IP. These contacts are added as MISP attributes, either `whois-registrant-name` or `whois-registrant-email`."
   ]
  },
  {
   "cell_type": "code",
   "execution_count": 7,
   "id": "d89581dc-f781-406f-bf6c-812a82070417",
   "metadata": {},
   "outputs": [
    {
     "name": "stdout",
     "output_type": "stream",
     "text": [
      "Start \u001b[92mabuse_finder_domain\u001b[90m.\n",
      "Trying \u001b[92mbritamix.net.br\u001b[90m\n",
      " Found \u001b[92mlucas_mikury@hotmail.com\u001b[90m\n",
      " Found \u001b[92mcert@cert.br\u001b[90m\n",
      " Found \u001b[92mmail-abuse@cert.br\u001b[90m\n",
      "Finished abuse_finder enrichment for domains.\n",
      "Trying \u001b[92m162.214.126.4\u001b[90m\n",
      " Found \u001b[92mabuse@bluehost.com\u001b[90m\n",
      "Finished abuse_finder enrichment for IPs.\n",
      "\n",
      "\n"
     ]
    }
   ],
   "source": [
    "# Query abuse_finder\n",
    "def process_abuse_details(module_name, item, details, relationtype, comment):\n",
    "    playbook_results[module_name] = {}\n",
    "    attribute_mapping = {\n",
    "        \"names\": (\"Attribution\", \"whois-registrant-name\"),\n",
    "        \"abuse\": (\"Attribution\", \"whois-registrant-email\")\n",
    "    }\n",
    "    email_regex = r'^[a-zA-Z0-9._%+-]+@[a-zA-Z0-9.-]+\\.[a-zA-Z]{2,}$'\n",
    "\n",
    "    for detail_key, (attribute_category, attribute_type) in attribute_mapping.items():\n",
    "        if detail_key in details:\n",
    "            playbook_results[module_name][attribute_type] = []\n",
    "            for name in details[detail_key]:\n",
    "                if re.match(email_regex, name):\n",
    "                    attribute = MISPAttribute()\n",
    "                    attribute.value = name\n",
    "                    attribute.to_ids = False\n",
    "                    attribute.category = attribute_category\n",
    "                    attribute.type = attribute_type\n",
    "                    attribute.disable_correlation = False\n",
    "                    attribute.comment = f\"{comment}. Information for {item}\"\n",
    "                    attribute_misp = misp.add_attribute(misp_event.uuid, attribute, pythonify=True)\n",
    "\n",
    "                    if name not in playbook_results[module_name][attribute_type]:\n",
    "                        print(\" Found \\033[92m{}\\033[90m\".format(name))\n",
    "                        playbook_results[module_name][attribute_type].append(name)\n",
    "                        if not \"errors\" in attribute_misp:\n",
    "                            misp.tag(attribute_misp.uuid, \"abuse-contact:abuse_finder\", True) \n",
    "                            misp.add_object_reference(playbook_results[\"url_object\"].add_reference(attribute_misp.uuid, relationtype))\n",
    "                    else:\n",
    "                        print(attribute_misp)\n",
    "\n",
    "module_name = \"abuse_finder_domain\"\n",
    "module_comment = f\"From {module_name}\"\n",
    "relationtype = \"contact-for\"\n",
    "\n",
    "print(\"Start \\033[92m{}\\033[90m.\".format(module_name))\n",
    "print(\"Trying \\033[92m{}\\033[90m\".format(playbook_results['domain']))\n",
    "domain_details = domain_abuse(playbook_results[\"domain\"])\n",
    "process_abuse_details(module_name, playbook_results[\"domain\"], domain_details, relationtype, module_comment)\n",
    "print(\"Finished abuse_finder enrichment for domains.\")\n",
    "\n",
    "module_name = \"abuse_finder_ip\"\n",
    "module_comment = f\"From {module_name}\"\n",
    "relationtype = \"associated-with\"\n",
    "\n",
    "ip = playbook_results.get(\"dns\", {}).get(\"resolves\", [])\n",
    "if ip:\n",
    "    print(\"Trying \\033[92m{}\\033[90m\".format(ip))\n",
    "    ip_details = ip_abuse(ip)\n",
    "    process_abuse_details(module_name, ip, ip_details, relationtype, module_comment)\n",
    "print(\"Finished abuse_finder enrichment for IPs.\\n\\n\")"
   ]
  },
  {
   "cell_type": "markdown",
   "id": "ac297fa8-eb2c-4167-9a6f-ec2a08717d85",
   "metadata": {},
   "source": [
    "### Abuse information enrichment table\n",
    "\n",
    "The results are now stored in `playbook_results`. Execute the next cell to display them in a table format."
   ]
  },
  {
   "cell_type": "code",
   "execution_count": 8,
   "id": "a94ac4e3-e375-485f-90a2-5eeb201da00d",
   "metadata": {},
   "outputs": [
    {
     "name": "stdout",
     "output_type": "stream",
     "text": [
      "+--------------+--------------------------+------------------------+--------------------------+\n",
      "|    Source    | Value                    | Type                   | Enriched                 |\n",
      "+--------------+--------------------------+------------------------+--------------------------+\n",
      "| Abuse_finder | https://britamix.net.br/ | whois-registrant-email | abuse@bluehost.com       |\n",
      "| Abuse_finder | https://britamix.net.br/ | whois-registrant-email | cert@cert.br             |\n",
      "| Abuse_finder | https://britamix.net.br/ | whois-registrant-email | lucas_mikury@hotmail.com |\n",
      "| Abuse_finder | https://britamix.net.br/ | whois-registrant-email | mail-abuse@cert.br       |\n",
      "+--------------+--------------------------+------------------------+--------------------------+\n"
     ]
    }
   ],
   "source": [
    "# Put the correlations in a pretty table. We can use this table later also for the summary\n",
    "table = PrettyTable()\n",
    "table.field_names = [\"Source\", \"Value\", \"Type\", \"Enriched\"]\n",
    "table.align[\"Value\"] = \"l\"\n",
    "table.align[\"Category\"] = \"l\"\n",
    "table.align[\"Type\"] = \"l\"\n",
    "table.align[\"Enriched\"] = \"l\"\n",
    "table._max_width = {\"Enriched\": 50}\n",
    "for match in playbook_results[\"abuse_finder_domain\"]:\n",
    "    if len(playbook_results[\"abuse_finder_domain\"][match]) > 0:\n",
    "        for entry in playbook_results[\"abuse_finder_domain\"][match]:\n",
    "            table.add_row([\"Abuse_finder\", playbook_results[\"url\"], match, entry])\n",
    "for match in playbook_results[\"abuse_finder_ip\"]:\n",
    "    if len(playbook_results[\"abuse_finder_ip\"][match]) > 0:\n",
    "        for entry in playbook_results[\"abuse_finder_ip\"][match]:\n",
    "            table.add_row([\"Abuse_finder\", playbook_results[\"url\"], match, entry])\n",
    "print(table.get_string(sortby=\"Type\"))\n",
    "table_abuse_info = table"
   ]
  },
  {
   "cell_type": "markdown",
   "id": "3aeb5236-cc95-4fa6-a62c-0b7ed62eb6ac",
   "metadata": {},
   "source": [
    "## IN:4 Get geolocation of the IP from MMDB\n",
    "\n",
    "The playbook uses an MMDB service to identify the **geolocation**, with latitude and longitude. In this playbook it uses [ip.circl.lu](https://ip.circl.lu/geolookup/) as MMDB server."
   ]
  },
  {
   "cell_type": "code",
   "execution_count": 9,
   "id": "0e4f9e7a-5a90-45ea-97ca-b04da8fd59f3",
   "metadata": {
    "tags": []
   },
   "outputs": [
    {
     "name": "stdout",
     "output_type": "stream",
     "text": [
      "Search MMDB\n",
      "Query for \u001b[92m162.214.126.4\u001b[90m\n",
      " \u001b[92m{'iso_code': 'US'}\u001b[90m\n",
      "Finished MMDB\n"
     ]
    }
   ],
   "source": [
    "# Query MMDB\n",
    "def get_mmdb(value):\n",
    "    headers = {}\n",
    "    response = requests.request(\"GET\", \"{}{}\".format(playbook_config[\"mmdb_url\"], value), headers={})\n",
    "    if response.status_code == 200:\n",
    "        result_json = response.json()[0]\n",
    "        iso_code = result_json.get(\"country\", False).get(\"iso_code\", False)\n",
    "        return {\"iso_code\": iso_code}\n",
    "    else:\n",
    "        return {}\n",
    "    \n",
    "print(\"Search MMDB\")\n",
    "ip = playbook_results.get(\"dns\", {}).get(\"resolves\", [])\n",
    "if len(ip) > 0:\n",
    "    print(\"Query for \\033[92m{}\\033[90m\".format(ip))\n",
    "    country = get_mmdb(ip)\n",
    "    if country:\n",
    "        playbook_results[\"geolocation\"] = country.get(\"iso_code\", False)\n",
    "        print(\" \\033[92m{}\\033[90m\".format(country))\n",
    "print(\"Finished MMDB\")"
   ]
  },
  {
   "cell_type": "markdown",
   "id": "ded53c49-49a0-42d8-a978-b08b722f622f",
   "metadata": {},
   "source": [
    "## IN:5 Query RDAP\n",
    "\n",
    "RDAP or the **Registration Data Access Protocol** is a standardized protocol for accessing registration and ownership details of internet resources like domains, IP addresses, and ASNs, replacing traditional WHOIS. \n",
    "\n",
    "This playbook queries the RDAP contact details for the IP associated with the URL. These contacts are added as MISP attributes. In most cases however these contacts will already be added via the previous cells."
   ]
  },
  {
   "cell_type": "code",
   "execution_count": 10,
   "id": "8bc05b95-93ed-4e43-b90d-929eb995c1ad",
   "metadata": {
    "tags": []
   },
   "outputs": [
    {
     "name": "stdout",
     "output_type": "stream",
     "text": [
      "Query WHOIS data\n"
     ]
    },
    {
     "name": "stderr",
     "output_type": "stream",
     "text": [
      "Something went wrong (403): {'saved': False, 'name': 'Could not add Attribute', 'message': 'Could not add Attribute', 'url': '/attributes/add', 'errors': {'value': ['A similar attribute already exists for this event.']}}\n",
      "Something went wrong (403): {'saved': False, 'name': 'Could not add Attribute', 'message': 'Could not add Attribute', 'url': '/attributes/add', 'errors': {'value': ['A similar attribute already exists for this event.']}}\n"
     ]
    },
    {
     "name": "stdout",
     "output_type": "stream",
     "text": [
      " Found \u001b[92mNOC2320-ARIN\u001b[90m - abuse@bluehost.com ['abuse']\n",
      " Found \u001b[92mENO74-ARIN\u001b[90m - eig-net-team@endurance.com ['technical', 'noc', 'administrative']\n",
      "Finished query WHOIS\n"
     ]
    }
   ],
   "source": [
    "# Query RDAP\n",
    "rdap_url = \"https://rdap.arin.net/registry/ip\"\n",
    "print(\"Query WHOIS data\")\n",
    "response = requests.get(\"{}/{}\".format(rdap_url, ip))\n",
    "playbook_results[\"whois_rdap\"] = []\n",
    "if response.status_code == 200:\n",
    "    rdap_data = response.json()\n",
    "    playbook_results[\"whois_name\"] = rdap_data.get(\"name\", False)\n",
    "    results = []\n",
    "    entities = rdap_data.get(\"entities\", [])\n",
    "    for entity in entities:\n",
    "        handle = entity.get(\"handle\", \"N/A\")\n",
    "        roles = entity.get(\"roles\", [])\n",
    "        vcard = entity.get(\"vcardArray\", [])\n",
    "        \n",
    "        email = None\n",
    "        if len(vcard) == 2 and isinstance(vcard[1], list):\n",
    "            for entry in vcard[1]:\n",
    "                if entry[0] == \"email\":\n",
    "                    email = entry[3]\n",
    "                    break\n",
    "        if email:\n",
    "            print(\" Found \\033[92m{}\\033[90m - {} {}\".format(handle, email, roles))\n",
    "            results.append({\"handle\": handle, \"roles\": roles, \"email\": email})    \n",
    "    \n",
    "    for entity in entities:\n",
    "        entities_detail = entity.get(\"entities\", [])\n",
    "        for entity_detail in entities_detail:\n",
    "            handle = entity_detail.get(\"handle\", \"N/A\")\n",
    "            roles = entity_detail.get(\"roles\", [])\n",
    "            vcard = entity_detail.get(\"vcardArray\", [])\n",
    "            email = None\n",
    "            if len(vcard) == 2 and isinstance(vcard[1], list):\n",
    "                for entry in vcard[1]:\n",
    "                    if entry[0] == \"email\":\n",
    "                        email = entry[3]\n",
    "                        break\n",
    "            if email:\n",
    "                print(\" Found \\033[92m{}\\033[90m - {} {}\".format(handle, email, roles))\n",
    "                results.append({\"handle\": handle, \"roles\": roles, \"email\": email})    \n",
    "    playbook_results[\"whois_rdap\"] = results\n",
    "    \n",
    "    relationtype = \"contact-for\"\n",
    "    for entry in playbook_results[\"whois_rdap\"]:\n",
    "        if entry[\"email\"] and len(entry[\"email\"]) > 0:\n",
    "            attribute = MISPAttribute()\n",
    "            attribute.value = entry[\"email\"]\n",
    "            attribute.to_ids = False\n",
    "            attribute.category = \"Attribution\"\n",
    "            attribute.type = \"email\"\n",
    "            attribute.disable_correlation = False\n",
    "            attribute.comment = \"{} - {}\".format(entry[\"handle\"], entry[\"roles\"])\n",
    "            attribute_misp = misp.add_attribute(misp_event.uuid, attribute, pythonify=True)                \n",
    "            if not \"errors\" in attribute_misp:\n",
    "                misp.tag(attribute_misp.uuid, \"abuse-contact:rdap\", True)\n",
    "                misp.add_object_reference(playbook_results[\"url_object\"].add_reference(attribute_misp.uuid, relationtype))\n",
    "else: \n",
    "    print(\"Unable to get a response for \\033[91mWHOIS\\033[90m data.\")\n",
    "print(\"Finished query WHOIS\")"
   ]
  },
  {
   "cell_type": "markdown",
   "id": "c2494fa9-2b0b-458d-990f-483edbdb822c",
   "metadata": {},
   "source": [
    "### RDAP information enrichment table\n",
    "\n",
    "The results are now stored in `playbook_results`. Execute the next cell to display them in a table format."
   ]
  },
  {
   "cell_type": "code",
   "execution_count": 11,
   "id": "9cb77a5f-f008-47e0-b8fc-9a036bdb7afc",
   "metadata": {
    "tags": []
   },
   "outputs": [
    {
     "name": "stdout",
     "output_type": "stream",
     "text": [
      "+--------------+--------------------------+--------------+----------------------------------------+----------------------------+\n",
      "|    Source    | Value                    | Type         | Roles                                  | Email                      |\n",
      "+--------------+--------------------------+--------------+----------------------------------------+----------------------------+\n",
      "| WHOIS - RDAP | https://britamix.net.br/ | ENO74-ARIN   | ['technical', 'noc', 'administrative'] | eig-net-team@endurance.com |\n",
      "| WHOIS - RDAP | https://britamix.net.br/ | NOC2320-ARIN | ['abuse']                              | abuse@bluehost.com         |\n",
      "+--------------+--------------------------+--------------+----------------------------------------+----------------------------+\n"
     ]
    }
   ],
   "source": [
    "# Put the correlations in a pretty table. We can use this table later also for the summary\n",
    "table = PrettyTable()\n",
    "table.field_names = [\"Source\", \"Value\", \"Type\", \"Roles\", \"Email\"]\n",
    "table.align[\"Value\"] = \"l\"\n",
    "table.align[\"Category\"] = \"l\"\n",
    "table.align[\"Type\"] = \"l\"\n",
    "table.align[\"Roles\"] = \"l\"\n",
    "table.align[\"Email\"] = \"l\"\n",
    "for match in playbook_results[\"whois_rdap\"]:\n",
    "    table.add_row([\"WHOIS - RDAP\", playbook_results[\"url\"], match[\"handle\"], match[\"roles\"], match[\"email\"]])\n",
    "print(table.get_string(sortby=\"Type\"))\n",
    "table_rdap = table"
   ]
  },
  {
   "cell_type": "markdown",
   "id": "b2180ac3-81da-4952-a3fc-ffb641efed86",
   "metadata": {},
   "source": [
    "## IN:6 Contact details via FIRST\n",
    "\n",
    "[FIRST](https://www.first.org/) or the Forum of Incident Response and Security Teams is a global association that brings together incident response and security teams to foster collaboration, information sharing, and best practices for handling cybersecurity incidents. Its members include government agencies, private companies, and academic institutions, all working to improve global cybersecurity resilience. The team list of FIRST is accessible over an API. \n",
    "\n",
    "The playbook queries the teams operating in the country where the **TLD** and **IP** is located."
   ]
  },
  {
   "cell_type": "code",
   "execution_count": 14,
   "id": "67c6a028-ba63-4785-b3a3-e306079e502f",
   "metadata": {
    "tags": []
   },
   "outputs": [
    {
     "name": "stdout",
     "output_type": "stream",
     "text": [
      "Search in FIRST.\n",
      " Search for teams operating in \u001b[92mUS\u001b[90m\n",
      "  Found \u001b[92mAcuity Brands Product Security Incident Response Team\u001b[90m - ICT vendor customer base\n",
      "   psirt@acuitybrands.com\n",
      "  Found \u001b[92mSecurity Coordination Center\u001b[90m - Other commercial\n",
      "   scc@adobe.com\n",
      "  Found \u001b[92mAirbnb DART CSIRT\u001b[90m - Other commercial\n",
      "   kristen.arms@airbnb.com\n",
      "  Found \u001b[92mAmazon Security Incident Response Team\u001b[90m - Other commercial\n",
      "   amazon-sirt@amazon.com\n",
      "  Found \u001b[92mAMD PSIRT\u001b[90m - Other commercial\n",
      "   psirt@amd.com\n",
      "  Found \u001b[92mAptiv PSOC\u001b[90m - Industrial sector\n",
      "   psirt@aptiv.com\n",
      "  Found \u001b[92mAuth0 Detection and Response team\u001b[90m - Other commercial\n",
      "   detection-and-response@auth0.com\n",
      "  Found \u001b[92mBooz Allen Hamilton Cyber Incident Response Team\u001b[90m - Government, Private and Public sectors\n",
      "   bah_cirt@bah.com\n",
      "  Found \u001b[92mBank of America Cyber Threat Defence\u001b[90m - Financial sector\n",
      "   security@bankofamerica.com\n",
      "  Found \u001b[92mBILL Cybersecurity Incident Response Team \u001b[90m - Financial sector\n",
      "   csirt@hq.bill.com\n",
      "  Found \u001b[92mBox Security Incident Response Team\u001b[90m - Other commercial\n",
      "   security@box.com\n",
      "  Found \u001b[92mBrocade Security Incident Response Team\u001b[90m - ICT vendor customer base\n",
      "   brocade.sirt@broadcom.com\n",
      "  Found \u001b[92mBridgewater CIRT\u001b[90m - Financial sector\n",
      "   security_cirt_first_team@bwater.com\n",
      "  Found \u001b[92mSecurity Intelligence Response Team\u001b[90m - Other commercial\n",
      "   first-team@capgroup.com\n",
      "  Found \u001b[92mCybersecurity and Infrastructure Security Agency\u001b[90m - Government, Private and Public sectors\n",
      "   soc@us-cert.gov\n",
      "  Found \u001b[92mCiti Global Cyber Security\u001b[90m - Financial sector\n",
      "   citi.first@citi.com\n",
      "  Found \u001b[92mCLEAR CIRT\u001b[90m - Other commercial\n",
      "   fusion@clearme.com\n",
      "  Found \u001b[92mCloud Software Group Cyber Security Incident Response Team\u001b[90m - Other commercial\n",
      "   csirt@cloud.com\n",
      "  Found \u001b[92mComcast Cybersecurity Operations Center\u001b[90m - Other commercial\n",
      "   first@comcast.com\n",
      "  Found \u001b[92mCrowdStrike Security Incident Response Team (CSIRT)\u001b[90m - Government, Private and Public sectors\n",
      "   csirt@crowdstrike.com\n",
      "  Found \u001b[92mCyber Threat Fusion Center Centene CSIRT\u001b[90m - Other commercial\n",
      "   report2cyber@centene.com\n",
      "  Found \u001b[92mDell Product Security Incident Response Team\u001b[90m - ICT vendor customer base\n",
      "   secure@dell.com\n",
      "  Found \u001b[92mDeloitte Cyber Threat Intelligence\u001b[90m - Other commercial\n",
      "   jwidenhofer@deloitte.com\n",
      "  Found \u001b[92mDePaul Incident Response Team\u001b[90m - Research & education\n",
      "   dirt@depaul.edu\n",
      "  Found \u001b[92mDuke University and Duke Health\u001b[90m - Research & education\n",
      "   security@duke.edu\n",
      "  Found \u001b[92mErnst & Young LLP\u001b[90m - Financial sector\n",
      "   first-team@ey.com\n",
      "  Found \u001b[92mFifth Third Detection Analysis and Response Team\u001b[90m - Financial sector\n",
      "   informationsecurityexternalthreatops@53.com\n",
      "  Found \u001b[92mForcepoint Product Security Incident Response Team\u001b[90m - Other commercial\n",
      "   psirt@forcepoint.com\n",
      "  Found \u001b[92mGeneral Dynamics\u001b[90m - Government & military\n",
      "   gdisac@gdit.com\n",
      "  Found \u001b[92mGitHub\u001b[90m - Other commercial\n",
      "   security@github.com\n",
      "  Found \u001b[92mGoTo CSIRT\u001b[90m - Government, Private and Public sectors\n",
      "   cirt@logmein.com\n",
      "  Found \u001b[92mHealth-ISAC Threat Operations Center\u001b[90m - Government, Private and Public sectors\n",
      "   znelson@h-isac.org\n",
      "  Found \u001b[92mHewlett Packard Enterprise (HPE) PSRT\u001b[90m - Industrial sector\n",
      "   security-alert@hpe.com\n",
      "  Found \u001b[92mHP Inc. Product Security Response Team\u001b[90m - Other commercial\n",
      "   hp-security-alert@hp.com\n",
      "  Found \u001b[92mHuman CSIRT\u001b[90m - Other commercial\n",
      "   first@humansecurity.com\n",
      "  Found \u001b[92mHuntington Bancshares Cybersecurity Operations Team\u001b[90m - Financial sector\n",
      "   first-team@huntington.com\n",
      "  Found \u001b[92mIBM\u001b[90m - Other commercial\n",
      "   psirt@us.ibm.com\n",
      "  Found \u001b[92mFacebook Incident Response Team\u001b[90m - ICT vendor customer base\n",
      "   cert@fb.com\n",
      "  Found \u001b[92mIntel FIRST Team\u001b[90m - ICT vendor customer base\n",
      "   first-team@intel.com\n",
      "  Found \u001b[92mInterSystems Security Architecture and Engineering\u001b[90m - Other commercial\n",
      "   psirt@intersystems.com\n",
      "  Found \u001b[92mJohnson Controls Product Security Incident Response Team\u001b[90m - ICT vendor customer base\n",
      "   productsecurity@jci.com\n",
      "  Found \u001b[92mJPMorgan Chase Global Cyber Security\u001b[90m - Financial sector\n",
      "   cyber.alert@jpmchase.com\n",
      "  Found \u001b[92mJuniper Networks Security Incident Response Team\u001b[90m - ICT vendor customer base\n",
      "   sirt@juniper.net\n",
      "  Found \u001b[92mLBNL\u001b[90m - Research & education\n",
      "   security@lbl.gov\n",
      "  Found \u001b[92mLeidos - Incident Response Team\u001b[90m - Government, Private and Public sectors\n",
      "   l_first-team@leidos.com\n",
      "  Found \u001b[92mLenovo Product Security Incident Response Team\u001b[90m - Government, Private and Public sectors\n",
      "   psirt@lenovo.com\n",
      "  Found \u001b[92mLinkedIn Computer Security Incident Response Team\u001b[90m - Other commercial\n",
      "   seek-external@linkedin.com\n",
      "  Found \u001b[92mMandiant\u001b[90m - ICT vendor customer base\n",
      "   first-team@mandiant.com\n",
      "\n",
      "\n",
      " Search for teams operating in \u001b[92mbr\u001b[90m\n",
      "  Found \u001b[92mApura DFIR / CSIRT Team\u001b[90m - Other commercial\n",
      "   csirt@apura.com.br\n",
      "  Found \u001b[92mBrazilian Academic and Research Network CSIRT\u001b[90m - Research & education\n",
      "   cais@cais.rnp.br\n",
      "  Found \u001b[92mCSIRT PETROBRAS\u001b[90m - Industrial sector\n",
      "   csirt@petrobras.com.br\n",
      "  Found \u001b[92mCyber Incident Prevention, Handling and Response Center of Brazilian Government\u001b[90m - Government, Private and Public sectors\n",
      "   ctir@ctir.gov.br\n",
      "  Found \u001b[92mNTTDATA-BR-CERT\u001b[90m - Other commercial\n",
      "   am.br.soc-csirt@global.ntt\n",
      "  Found \u001b[92mNu CSIRT\u001b[90m - Financial sector\n",
      "   csirt@nubank.com.br\n",
      "  Found \u001b[92mTecnodesign\u001b[90m - Other commercial\n",
      "   it@tecnodz.com\n",
      "Finished searching in FIRST.\n"
     ]
    }
   ],
   "source": [
    "# Query FIRST\n",
    "first_url = \"https://api.first.org/data/v1\"\n",
    "headers = {\n",
    "    \"Content-Type\": \"application/json\",\n",
    "    \"Accept\": \"application/json\"\n",
    "}\n",
    "\n",
    "playbook_results[\"first\"] = {}\n",
    "first_search_country_ip = False\n",
    "first_search_country_tld = False\n",
    "print(\"Search in FIRST.\")\n",
    "if playbook_results.get(\"geolocation\", False):\n",
    "    first_search_country_ip = playbook_results[\"geolocation\"]\n",
    "    print(\" Search for teams operating in \\033[92m{}\\033[90m\".format(first_search_country_ip))\n",
    "    first_teams = requests.get(\"{}/teams?country={}\".format(first_url, first_search_country_ip), headers=headers)\n",
    "    if first_teams.json().get(\"total\", 0) > 0:\n",
    "        for team in first_teams.json().get(\"data\", []):\n",
    "            # Skip liaisons (without constituency)\n",
    "            if len(team.get(\"constituency\", \"\")) > 0 and len(team.get(\"email\", \"\")) > 0:\n",
    "                print(\"  Found \\033[92m{}\\033[90m - {}\".format(team[\"team-full\"], team.get(\"constituency\", \"\")))\n",
    "                print(\"   {}\".format(team.get(\"email\", \"\")))\n",
    "                playbook_results[\"first\"][team[\"team-full\"]] = { \"country\": first_search_country_ip, \"constituency\": team.get(\"constituency\", \"\"),\n",
    "                                                                    \"email\": team.get(\"email\", \"\")}\n",
    "\n",
    "    first_search_country_tld = playbook_results[\"domain\"].split(\".\")[-1].strip()\n",
    "    print(\"\\n\")\n",
    "    if first_search_country_tld in playbook_config[\"skip_tld_search\"]:\n",
    "        print(\" Not searching for {}\".format(first_search_country_tld))\n",
    "    else:\n",
    "        print(\" Search for teams operating in \\033[92m{}\\033[90m\".format(first_search_country_tld))\n",
    "        first_teams = requests.get(\"{}/teams?country={}\".format(first_url, first_search_country_tld), headers=headers)\n",
    "        if first_teams.json().get(\"total\", 0) > 0:\n",
    "            for team in first_teams.json().get(\"data\", []):\n",
    "                # Skip liaisons (without constituency)\n",
    "                if len(team.get(\"constituency\", \"\")) > 0 and len(team.get(\"email\", \"\")) > 0:\n",
    "                    print(\"  Found \\033[92m{}\\033[90m - {}\".format(team[\"team-full\"], team.get(\"constituency\", \"\")))\n",
    "                    print(\"   {}\".format(team.get(\"email\", \"\")))\n",
    "                    playbook_results[\"first\"][team[\"team-full\"]] = { \"country\": first_search_country_tld,\"constituency\": team.get(\"constituency\", \"\"),\n",
    "                                                                        \"email\": team.get(\"email\", \"\")}\n",
    "else:\n",
    "    print(\"Unable to get correct country code to search in FIRST\")\n",
    "print(\"Finished searching in FIRST.\")"
   ]
  },
  {
   "cell_type": "markdown",
   "id": "80745269-9b4f-456c-82cf-eb28a1efb262",
   "metadata": {},
   "source": [
    "### Abuse information enrichment table\n",
    "\n",
    "The results are now stored in `playbook_results`. Execute the next cell to display them in a table format."
   ]
  },
  {
   "cell_type": "code",
   "execution_count": 15,
   "id": "d411360c-a4fc-4bc1-bf4d-a8c69ea8bbd6",
   "metadata": {
    "tags": []
   },
   "outputs": [
    {
     "name": "stdout",
     "output_type": "stream",
     "text": [
      "+--------+--------------------------+----------------------------------------------------+---------------------------------------------+--------------+\n",
      "| Source | Value                    | Type                                               | Enriched                                    | Country link |\n",
      "+--------+--------------------------+----------------------------------------------------+---------------------------------------------+--------------+\n",
      "| FIRST  | https://britamix.net.br/ | AMD PSIRT                                          | psirt@amd.com                               | US           |\n",
      "| FIRST  | https://britamix.net.br/ | Acuity Brands Product Security Incident Response   | psirt@acuitybrands.com                      | US           |\n",
      "|        |                          | Team                                               |                                             |              |\n",
      "| FIRST  | https://britamix.net.br/ | Airbnb DART CSIRT                                  | kristen.arms@airbnb.com                     | US           |\n",
      "| FIRST  | https://britamix.net.br/ | Amazon Security Incident Response Team             | amazon-sirt@amazon.com                      | US           |\n",
      "| FIRST  | https://britamix.net.br/ | Aptiv PSOC                                         | psirt@aptiv.com                             | US           |\n",
      "| FIRST  | https://britamix.net.br/ | Apura DFIR / CSIRT Team                            | csirt@apura.com.br                          | br           |\n",
      "| FIRST  | https://britamix.net.br/ | Auth0 Detection and Response team                  | detection-and-response@auth0.com            | US           |\n",
      "| FIRST  | https://britamix.net.br/ | BILL Cybersecurity Incident Response Team          | csirt@hq.bill.com                           | US           |\n",
      "| FIRST  | https://britamix.net.br/ | Bank of America Cyber Threat Defence               | security@bankofamerica.com                  | US           |\n",
      "| FIRST  | https://britamix.net.br/ | Booz Allen Hamilton Cyber Incident Response Team   | bah_cirt@bah.com                            | US           |\n",
      "| FIRST  | https://britamix.net.br/ | Box Security Incident Response Team                | security@box.com                            | US           |\n",
      "| FIRST  | https://britamix.net.br/ | Brazilian Academic and Research Network CSIRT      | cais@cais.rnp.br                            | br           |\n",
      "| FIRST  | https://britamix.net.br/ | Bridgewater CIRT                                   | security_cirt_first_team@bwater.com         | US           |\n",
      "| FIRST  | https://britamix.net.br/ | Brocade Security Incident Response Team            | brocade.sirt@broadcom.com                   | US           |\n",
      "| FIRST  | https://britamix.net.br/ | CLEAR CIRT                                         | fusion@clearme.com                          | US           |\n",
      "| FIRST  | https://britamix.net.br/ | CSIRT PETROBRAS                                    | csirt@petrobras.com.br                      | br           |\n",
      "| FIRST  | https://britamix.net.br/ | Citi Global Cyber Security                         | citi.first@citi.com                         | US           |\n",
      "| FIRST  | https://britamix.net.br/ | Cloud Software Group Cyber Security Incident       | csirt@cloud.com                             | US           |\n",
      "|        |                          | Response Team                                      |                                             |              |\n",
      "| FIRST  | https://britamix.net.br/ | Comcast Cybersecurity Operations Center            | first@comcast.com                           | US           |\n",
      "| FIRST  | https://britamix.net.br/ | CrowdStrike Security Incident Response Team        | csirt@crowdstrike.com                       | US           |\n",
      "|        |                          | (CSIRT)                                            |                                             |              |\n",
      "| FIRST  | https://britamix.net.br/ | Cyber Incident Prevention, Handling and Response   | ctir@ctir.gov.br                            | br           |\n",
      "|        |                          | Center of Brazilian Government                     |                                             |              |\n",
      "| FIRST  | https://britamix.net.br/ | Cyber Threat Fusion Center Centene CSIRT           | report2cyber@centene.com                    | US           |\n",
      "| FIRST  | https://britamix.net.br/ | Cybersecurity and Infrastructure Security Agency   | soc@us-cert.gov                             | US           |\n",
      "| FIRST  | https://britamix.net.br/ | DePaul Incident Response Team                      | dirt@depaul.edu                             | US           |\n",
      "| FIRST  | https://britamix.net.br/ | Dell Product Security Incident Response Team       | secure@dell.com                             | US           |\n",
      "| FIRST  | https://britamix.net.br/ | Deloitte Cyber Threat Intelligence                 | jwidenhofer@deloitte.com                    | US           |\n",
      "| FIRST  | https://britamix.net.br/ | Duke University and Duke Health                    | security@duke.edu                           | US           |\n",
      "| FIRST  | https://britamix.net.br/ | Ernst & Young LLP                                  | first-team@ey.com                           | US           |\n",
      "| FIRST  | https://britamix.net.br/ | Facebook Incident Response Team                    | cert@fb.com                                 | US           |\n",
      "| FIRST  | https://britamix.net.br/ | Fifth Third Detection Analysis and Response Team   | informationsecurityexternalthreatops@53.com | US           |\n",
      "| FIRST  | https://britamix.net.br/ | Forcepoint Product Security Incident Response Team | psirt@forcepoint.com                        | US           |\n",
      "| FIRST  | https://britamix.net.br/ | General Dynamics                                   | gdisac@gdit.com                             | US           |\n",
      "| FIRST  | https://britamix.net.br/ | GitHub                                             | security@github.com                         | US           |\n",
      "| FIRST  | https://britamix.net.br/ | GoTo CSIRT                                         | cirt@logmein.com                            | US           |\n",
      "| FIRST  | https://britamix.net.br/ | HP Inc. Product Security Response Team             | hp-security-alert@hp.com                    | US           |\n",
      "| FIRST  | https://britamix.net.br/ | Health-ISAC Threat Operations Center               | znelson@h-isac.org                          | US           |\n",
      "| FIRST  | https://britamix.net.br/ | Hewlett Packard Enterprise (HPE) PSRT              | security-alert@hpe.com                      | US           |\n",
      "| FIRST  | https://britamix.net.br/ | Human CSIRT                                        | first@humansecurity.com                     | US           |\n",
      "| FIRST  | https://britamix.net.br/ | Huntington Bancshares Cybersecurity Operations     | first-team@huntington.com                   | US           |\n",
      "|        |                          | Team                                               |                                             |              |\n",
      "| FIRST  | https://britamix.net.br/ | IBM                                                | psirt@us.ibm.com                            | US           |\n",
      "| FIRST  | https://britamix.net.br/ | Intel FIRST Team                                   | first-team@intel.com                        | US           |\n",
      "| FIRST  | https://britamix.net.br/ | InterSystems Security Architecture and Engineering | psirt@intersystems.com                      | US           |\n",
      "| FIRST  | https://britamix.net.br/ | JPMorgan Chase Global Cyber Security               | cyber.alert@jpmchase.com                    | US           |\n",
      "| FIRST  | https://britamix.net.br/ | Johnson Controls Product Security Incident         | productsecurity@jci.com                     | US           |\n",
      "|        |                          | Response Team                                      |                                             |              |\n",
      "| FIRST  | https://britamix.net.br/ | Juniper Networks Security Incident Response Team   | sirt@juniper.net                            | US           |\n",
      "| FIRST  | https://britamix.net.br/ | LBNL                                               | security@lbl.gov                            | US           |\n",
      "| FIRST  | https://britamix.net.br/ | Leidos - Incident Response Team                    | l_first-team@leidos.com                     | US           |\n",
      "| FIRST  | https://britamix.net.br/ | Lenovo Product Security Incident Response Team     | psirt@lenovo.com                            | US           |\n",
      "| FIRST  | https://britamix.net.br/ | LinkedIn Computer Security Incident Response Team  | seek-external@linkedin.com                  | US           |\n",
      "| FIRST  | https://britamix.net.br/ | Mandiant                                           | first-team@mandiant.com                     | US           |\n",
      "| FIRST  | https://britamix.net.br/ | NTTDATA-BR-CERT                                    | am.br.soc-csirt@global.ntt                  | br           |\n",
      "| FIRST  | https://britamix.net.br/ | Nu CSIRT                                           | csirt@nubank.com.br                         | br           |\n",
      "| FIRST  | https://britamix.net.br/ | Security Coordination Center                       | scc@adobe.com                               | US           |\n",
      "| FIRST  | https://britamix.net.br/ | Security Intelligence Response Team                | first-team@capgroup.com                     | US           |\n",
      "| FIRST  | https://britamix.net.br/ | Tecnodesign                                        | it@tecnodz.com                              | br           |\n",
      "+--------+--------------------------+----------------------------------------------------+---------------------------------------------+--------------+\n"
     ]
    }
   ],
   "source": [
    "# Put the correlations in a pretty table. We can use this table later also for the summary\n",
    "table = PrettyTable()\n",
    "table.field_names = [\"Source\", \"Value\", \"Type\", \"Enriched\", \"Country link\"]\n",
    "table.align[\"Value\"] = \"l\"\n",
    "table.align[\"Category\"] = \"l\"\n",
    "table.align[\"Type\"] = \"l\"\n",
    "table.align[\"Country link\"] = \"l\"\n",
    "table.align[\"Enriched\"] = \"l\"\n",
    "table._max_width = {\"Type\": 50}\n",
    "for match in playbook_results[\"first\"]:\n",
    "    table.add_row([\"FIRST\", playbook_results[\"url\"], match, playbook_results[\"first\"][match][\"email\"], playbook_results[\"first\"][match][\"country\"]])\n",
    "print(table.get_string(sortby=\"Type\"))\n",
    "table_first = table"
   ]
  },
  {
   "cell_type": "markdown",
   "id": "77c5a713-6444-4742-b4cb-c2a5fa7eaf82",
   "metadata": {},
   "source": [
    "# Containment"
   ]
  },
  {
   "cell_type": "markdown",
   "id": "0c6a6d9b-1087-4247-a49c-80c3ac53d93c",
   "metadata": {},
   "source": [
    "## CN:1 Report to Microsoft MSRC\n",
    "\n",
    "The next cell allows to report URLs hosted on Microsoft-managed platforms and services, including Microsoft Online Services such as Azure, Bing, OneDrive, and Office 365. It utilises the Microsoft Security Response Center (MSRC) [portal](https://msrc.microsoft.com/report/) for secure and effective reporting.\n",
    "\n",
    "To prevent accidental submissions, you can set the **testSubmission** (`playbook_config[\"msrc_test_submission\"]`)parameter to True. Change this to False to proceed with an actual report. Additionally, ensure you provide a valid **reporterEmail** (`playbook_config[\"msrc_reporter_email\"]`) for proper attribution and follow-up.\n",
    "\n",
    "Alternatively, you can also report an unsafe IP or URL to Microsoft Security Intelligence via the form at [https://www.microsoft.com/en-us/wdsi/support/report-unsafe-site-guest](https://www.microsoft.com/en-us/wdsi/support/report-unsafe-site-guest)."
   ]
  },
  {
   "cell_type": "code",
   "execution_count": 16,
   "id": "25a3d4a0-e631-4644-96db-51e22d60e856",
   "metadata": {
    "tags": []
   },
   "outputs": [
    {
     "name": "stdout",
     "output_type": "stream",
     "text": [
      "Start submitting to MSRC\n",
      " Submitted \u001b[92m{\"code\":\"OK\",\"message\":\"fe043975-b3f9-4d5e-8547-312e8a83be14\"}\u001b[90m\n",
      "End submitting to MSRC\n"
     ]
    }
   ],
   "source": [
    "# Report to MSRC\n",
    "current_datetime = datetime.now()\n",
    "payload = {\n",
    "    \"date\": current_datetime.strftime(\"%Y-%m-%d\"),\n",
    "    \"time\": current_datetime.strftime(\"%H:%M:%S\"),\n",
    "    \"timeZone\": time.strftime(\"%z\"),\n",
    "    \"threatType\": \"URL\",\n",
    "    \"incidentType\": \"Phishing\",\n",
    "    \"sourceUrl\": playbook_results[\"url\"],\n",
    "    \"testSubmission\": playbook_config[\"msrc_test_submission\"],\n",
    "    \"reporterName\": \"MISP playbook\",\n",
    "    \"reporterEmail\": playbook_config[\"reporter_email\"],\n",
    "    \"reportNotes\": \"MISP playbook\"\n",
    "}\n",
    "\n",
    "print(\"Start submitting to MSRC\")\n",
    "msrc_url = \"https://api.msrc.microsoft.com/report/v3.0/abuse\"\n",
    "headers = {\n",
    "  \"Content-Type\": \"application/json\"\n",
    "}\n",
    "playbook_results[\"msrc\"] = False\n",
    "response = requests.post(msrc_url, json=payload, headers=headers)\n",
    "if response.json().get(\"code\", \"\") == \"OK\":\n",
    "    print(\" Submitted \\033[92m{}\\033[90m\".format(response.text))\n",
    "    playbook_results[\"msrc\"] = True\n",
    "else:\n",
    "    print(\" Failed submitting \\033[91m{}\\033[90m\".format(response.text))\n",
    "print(\"End submitting to MSRC\")"
   ]
  },
  {
   "cell_type": "markdown",
   "id": "61de4723-3cfd-4ac5-abd6-cf05e4cd8611",
   "metadata": {},
   "source": [
    "## CN:2 Report to Google Safe Browsing\n",
    "\n",
    "You can submit the URL to [Google Safe Browsing](https://safebrowsing.google.com/safebrowsing/report_general/). Note that you need access to the API and a valid API key (defined in `google_sb_api_key`)."
   ]
  },
  {
   "cell_type": "code",
   "execution_count": 17,
   "id": "11573a5c-fb62-4322-aa9e-5a4450cca534",
   "metadata": {
    "tags": []
   },
   "outputs": [
    {
     "name": "stdout",
     "output_type": "stream",
     "text": [
      "Start submitting to Google Safe Browsing\n",
      " URL \u001b[92msubmitted successfully\u001b[90m {\n",
      "  \"matches\": [\n",
      "    {\n",
      "      \"threatType\": \"SOCIAL_ENGINEERING\",\n",
      "      \"platformType\": \"ANY_PLATFORM\",\n",
      "      \"threat\": {\n",
      "        \"url\": \"https://britamix.net.br/\"\n",
      "      },\n",
      "      \"cacheDuration\": \"300s\",\n",
      "      \"threatEntryType\": \"URL\"\n",
      "    }\n",
      "  ]\n",
      "}\n",
      "\n",
      "End submitting to Google Safe Browsing\n"
     ]
    }
   ],
   "source": [
    "# Submit to Google Safe Browsing\n",
    "google_sb_url = \"https://safebrowsing.googleapis.com/v4/threatMatches:find?key=\"\n",
    "payload = {\n",
    "    \"client\": {\n",
    "        \"clientId\": \"MISP playbook\",\n",
    "        \"clientVersion\": \"1.0\"\n",
    "    },\n",
    "    \"threatInfo\": {\n",
    "        \"threatTypes\": [\"SOCIAL_ENGINEERING\"], \n",
    "        \"platformTypes\": [\"ANY_PLATFORM\"],\n",
    "        \"threatEntryTypes\": [\"URL\"],\n",
    "        \"threatEntries\": [{\"url\": playbook_results[\"url\"]}]\n",
    "    }\n",
    "}\n",
    "print(\"Start submitting to Google Safe Browsing\")\n",
    "playbook_results[\"google_sb\"] = False\n",
    "response = requests.post(\"{}{}\".format(google_sb_url, google_sb_api_key), json=payload)\n",
    "if response.status_code == 200:\n",
    "    print(\" URL \\033[92msubmitted successfully\\033[90m {}\".format(response.text))\n",
    "    playbook_results[\"google_sb\"] = True\n",
    "else:\n",
    "    print(\" Failed submitting {} - \\033[91m{}\\033[90m\".format(response.status_code, response.text))\n",
    "print(\"End submitting to Google Safe Browsing\")"
   ]
  },
  {
   "cell_type": "markdown",
   "id": "4a699fd8-f006-4074-b1ab-9bbaf8efe133",
   "metadata": {},
   "source": [
    "## CN:3 Report to Netcraft\n",
    "\n",
    "Similar as the previous cells, you can also report the URL to [https://www.netcraft.com/](https://www.netcraft.com/)."
   ]
  },
  {
   "cell_type": "code",
   "execution_count": 19,
   "id": "4f60b90a-0cb7-45c6-b3fe-8d9e137b4ffe",
   "metadata": {
    "tags": []
   },
   "outputs": [
    {
     "name": "stdout",
     "output_type": "stream",
     "text": [
      "Start submitting to Netcraft\n",
      " URL \u001b[92msubmitted successfully\u001b[90m {\"message\":\"Successfully reported\",\"uuid\":\"3K13PecTkhR0Qp1DrlJPTrmfxXtP9hGI\"}\n",
      "End submitting to Netcraft\n"
     ]
    }
   ],
   "source": [
    "# Submit to Netcraft\n",
    "netcraft_url = \"https://report.netcraft.com/api/v3/report/urls\"\n",
    "payload = {\n",
    "    \"email\": playbook_config[\"reporter_email\"],\n",
    "    \"urls\": [{\"reason\":\"phishing\", \"url\": playbook_results[\"url\"]}]\n",
    "}\n",
    "print(\"Start submitting to Netcraft\")\n",
    "playbook_results[\"netcraft\"] = False\n",
    "response = requests.post(netcraft_url, json=payload)\n",
    "if response.status_code == 200:\n",
    "    print(\" URL \\033[92msubmitted successfully\\033[90m {}\".format(response.text))\n",
    "    playbook_results[\"netcraft\"] = True\n",
    "else:\n",
    "    print(\" Failed submitting {} - \\033[91m{}\\033[90m\".format(response.status_code, response.text))\n",
    "print(\"End submitting to Netcraft\")"
   ]
  },
  {
   "cell_type": "markdown",
   "id": "7e35a1d6-52c8-441f-9e3a-892975746243",
   "metadata": {},
   "source": [
    "## CN:4 Reporting via web forms\n",
    "\n",
    "Not all services allow you to report phishing URLs, or suspicious URLs, via an API. Some services require to report the URL via a web form.\n",
    "\n",
    "### PhishTank\n",
    "\n",
    "You can submit a URL to PhishTank via [https://phishtank.org/add_web_phish.php](https://phishtank.org/add_web_phish.php). Note that you need to be **logged in** to PhishTank.\n",
    "\n",
    "## CN:5 Reporting via e-mail\n",
    "\n",
    "An alternative way of reporting suspicious URLs is via e-mail. Take great care in **defanging** the URL (the next cell can help you with that).\n",
    "\n",
    "### Spamhaus\n",
    "\n",
    "Report phishing via **phish@spamhaus.org**\n",
    "\n",
    "### APWG (Anti-Phishing Working Group)\n",
    "\n",
    "Report phishing via **reportphishing@apwg.org**\n",
    "\n",
    "### OpenPhish\n",
    "\n",
    "Report phishing via **report@openphish.com**\n",
    "\n",
    "### SafeOnWeb\n",
    "\n",
    "Report phishing via **verdacht@safeonweb.be**\n",
    " "
   ]
  },
  {
   "cell_type": "markdown",
   "id": "0dc90646-8c3b-44aa-b35a-214352fba329",
   "metadata": {},
   "source": [
    "## CN:6 Defang URL\n",
    "\n",
    "A cell to simplify the defanging of a URL."
   ]
  },
  {
   "cell_type": "code",
   "execution_count": 20,
   "id": "eb2dae17-7f40-4b53-87b1-e49c0e1bda9e",
   "metadata": {
    "tags": []
   },
   "outputs": [
    {
     "name": "stdout",
     "output_type": "stream",
     "text": [
      "Defanged URL: hxxps://britamix[.]net[.]br/\n"
     ]
    }
   ],
   "source": [
    "# Defang the URL\n",
    "defang_url = playbook_results[\"url\"].replace(\"http://\", \"hxxp://\").replace(\"https://\", \"hxxps://\").replace(\".\", \"[.]\")\n",
    "print(\"Defanged URL: {}\".format(defang_url))"
   ]
  },
  {
   "cell_type": "markdown",
   "id": "b9a9d0ca-ed80-49a9-901e-b5387735fa84",
   "metadata": {},
   "source": [
    "## CN:7 Export MISP indicators\n",
    "\n",
    "The next section first **queries MISP for the indicators added to the event** linked to the execution of this playbook. Only those indicators with to_ids set to True are returned. You can use this list, or the **raw** list as input for your web filtering devices."
   ]
  },
  {
   "cell_type": "code",
   "execution_count": 21,
   "id": "16d50d2c-078c-476f-acfc-bb536934f049",
   "metadata": {},
   "outputs": [
    {
     "name": "stdout",
     "output_type": "stream",
     "text": [
      "Got \u001b[92m4\u001b[90m indicator(s) from the event \u001b[92mURL reputation investigation for https://britamix.net.br/\u001b[90m (3570).\n",
      "\n",
      "\n"
     ]
    }
   ],
   "source": [
    "# Get all the indicators for our event and store this is in a table. We can also use this for the summary.\n",
    "indicator_search = misp.search(\"attributes\", uuid=misp_event.uuid, to_ids=True, pythonify=True)\n",
    "indicator_raw_list = []\n",
    "indicator_table = PrettyTable()\n",
    "if len(indicator_search) > 0:\n",
    "    indicator_table.field_names = [\"Type\", \"Category\", \"Indicator\", \"Comment\"]\n",
    "    indicator_table.align[\"Type\"] = \"l\"\n",
    "    indicator_table.align[\"Category\"] = \"l\"\n",
    "    indicator_table.align[\"Indicator\"] = \"l\"\n",
    "    indicator_table.align[\"Comment\"] = \"l\"\n",
    "    indicator_table.border = True\n",
    "    for indicator in indicator_search:\n",
    "        if indicator.value not in indicator_raw_list:\n",
    "            indicator_table.add_row([indicator.type, indicator.category, indicator.value, indicator.comment])\n",
    "            indicator_raw_list.append(indicator.value)\n",
    "    print(\"Got \\033[92m{}\\033[90m indicator(s) from the event \\033[92m{}\\033[90m ({}).\\n\\n\".format(len(indicator_raw_list), misp_event.info, misp_event.id))\n",
    "else:\n",
    "    print(\"\\033[93mNo indicators found in the event \\033[92m{}\\033[90m ({})\".format(misp_event.info, misp_event.id))"
   ]
  },
  {
   "cell_type": "markdown",
   "id": "d26d1c3b-dec4-4191-92fe-4c130e3f9686",
   "metadata": {},
   "source": [
    "### Raw list of MISP indicators\n",
    "\n",
    "The indicators are now stored in `indicator_search` (as Python objects) and `indicator_raw_list` (in raw format, only the indicators). Execute the next cell to display them in a table format. The table is also included in the summary sent to Mattermost and TheHive."
   ]
  },
  {
   "cell_type": "code",
   "execution_count": 22,
   "id": "72cd3e2a-afad-4b9c-9f3a-9dbe9e8e135d",
   "metadata": {
    "tags": []
   },
   "outputs": [
    {
     "name": "stdout",
     "output_type": "stream",
     "text": [
      "+----------+------------------+----------------------------+-----------------------------------------------------------------+\n",
      "| Type     | Category         | Indicator                  | Comment                                                         |\n",
      "+----------+------------------+----------------------------+-----------------------------------------------------------------+\n",
      "| hostname | Network activity | britamix.net.br            |                                                                 |\n",
      "| hostname | Network activity | vps-6049444.copacel.com.br | https://britamix.net.br/: Enriched via the urlscan module - PTR |\n",
      "| ip-dst   | Network activity | 162.214.126.4              | https://britamix.net.br/: Enriched via the urlscan module - IP  |\n",
      "| url      | Network activity | https://britamix.net.br/   |                                                                 |\n",
      "+----------+------------------+----------------------------+-----------------------------------------------------------------+\n",
      "\n",
      "\n",
      "Indicator list in raw format:\n",
      "---------------------------------------------------\n",
      "https://britamix.net.br/\n",
      "britamix.net.br\n",
      "162.214.126.4\n",
      "vps-6049444.copacel.com.br\n",
      "---------------------------------------------------\n"
     ]
    }
   ],
   "source": [
    "if len(indicator_raw_list) > 0:\n",
    "    print(indicator_table.get_string(sortby=\"Type\"))\n",
    "    print(\"\\n\\nIndicator list in raw format:\")\n",
    "    print(\"---------------------------------------------------\")\n",
    "    for el in indicator_raw_list:\n",
    "        print(\"{}\".format(el))\n",
    "    print(\"---------------------------------------------------\")"
   ]
  },
  {
   "cell_type": "markdown",
   "id": "70dea5ca",
   "metadata": {},
   "source": [
    "# Closure\n",
    "\n",
    "In this **closure** or end step we create a **summary** of the actions that were performed by the playbook. The summary is printed in the playbook and can also be send to a chat channel. "
   ]
  },
  {
   "cell_type": "markdown",
   "id": "b82e2327-1e11-4efb-8869-ccbcc896bfcc",
   "metadata": {},
   "source": [
    "## EN:1 Create the summary of the playbook\n",
    "\n",
    "The next section creates a summary and stores the output in the variable `summary` in Markdown format."
   ]
  },
  {
   "cell_type": "code",
   "execution_count": 25,
   "id": "58f63e04-6f9e-4fa9-b803-07e451692197",
   "metadata": {
    "tags": []
   },
   "outputs": [
    {
     "name": "stdout",
     "output_type": "stream",
     "text": [
      "The \u001b[92msummary\u001b[90m of the playbook is available.\n",
      "\n",
      "\n"
     ]
    }
   ],
   "source": [
    "summary = \"# MISP Playbook summary\\nURL remediation.\\n\\n\"\n",
    "\n",
    "current_date = datetime.now()\n",
    "formatted_date = current_date.strftime(\"%Y-%m-%d\")\n",
    "summary += \"## Overview\\n\\n\"\n",
    "summary += \"- Date: **{}**\\n\".format(formatted_date)\n",
    "summary += \"- URL: **{}**\\n\".format(playbook_results[\"url\"])\n",
    "summary += \"- Domain: **{}**\\n\".format(playbook_results[\"domain\"])\n",
    "summary += \"- Resolves to: **{}**\\n\".format(playbook_results[\"dns\"][\"resolves\"])\n",
    "\n",
    "summary += \"\\n\\n\"\n",
    "summary += \"## Abuse contacts\\n\\n\"\n",
    "for match in playbook_results[\"takedown\"][\"contacts\"]:\n",
    "    summary += \"- Contacts: **{}** (LookyLoo)\\n\".format(match)\n",
    "for match in playbook_results[\"abuse_finder_domain\"]:\n",
    "    if len(playbook_results[\"abuse_finder_domain\"][match]) > 0:\n",
    "        for entry in playbook_results[\"abuse_finder_domain\"][match]:\n",
    "            summary += \"- Contacts: **{}**\\n (Abusefinder)\\n\".format(entry)\n",
    "for match in playbook_results[\"takedown\"][\"IPs\"]:\n",
    "    summary += \"- Contacts - IP: **{}** (LookyLoo)\\n\".format(match)\n",
    "for match in playbook_results[\"abuse_finder_ip\"]:\n",
    "    if len(playbook_results[\"abuse_finder_ip\"][match]) > 0:\n",
    "        for entry in playbook_results[\"abuse_finder_ip\"][match]:\n",
    "            summary += \"- Contacts - IP: **{}**\\n (Abusefinder)\\n\".format(entry)\n",
    "for match in playbook_results[\"takedown\"][\"ASNs\"]:\n",
    "    summary += \"- Contacts - ASN: **{}** (LookyLoo)\\n\".format(match)\n",
    "for match in playbook_results[\"whois_rdap\"]:\n",
    "    if not match[\"email\"] == \"None\":\n",
    "        summary += \"- Contacts - IP: **{}** as {} for {} (RDAP)\\n\".format(match[\"email\"], match[\"roles\"],match[\"handle\"])\n",
    "summary += \"\\n\\n\"\n",
    "\n",
    "\n",
    "summary += \"## FIRST teams\\n\"\n",
    "summary += \"Overview of FIRST teams. First column indicates the country they are operating in.\\n\"\n",
    "for match in playbook_results[\"first\"]:\n",
    "    if len(playbook_results[\"first\"][match][\"email\"].strip()) > 0:\n",
    "        summary += \"- ({}): {} **{}** ({})\\n\".format(playbook_results[\"first\"][match][\"country\"], match, playbook_results[\"first\"][match][\"email\"], playbook_results[\"first\"][match][\"constituency\"])\n",
    "summary += \"\\n\\n\"\n",
    "\n",
    "\n",
    "summary += \"## URL reports\\n\"\n",
    "if playbook_results[\"msrc\"]:\n",
    "    summary += \"- Reported to **Microsoft** MSRC\\n\"\n",
    "if playbook_results[\"google_sb\"]:\n",
    "    summary += \"- Reported to **Google** Safe Browsing\\n\"\n",
    "if playbook_results[\"netcraft\"]:\n",
    "    summary += \"- Reported to **Netcraft**\\n\"\n",
    "\n",
    "summary += \"## Indicators\\n\\n\"\n",
    "summary += \"### Indicators table\\n\\n\"\n",
    "if len(indicator_raw_list) > 0:\n",
    "    indicator_table.set_style(MARKDOWN)\n",
    "    summary += indicator_table.get_string(sortby=\"Type\")\n",
    "    summary += \"\\n\\n\\n\" \n",
    "    summary += \"### Indicators in **raw format**\\n\\n\"\n",
    "    for indicator in indicator_raw_list:\n",
    "        summary += \"{}\\n\\n\".format(indicator)\n",
    "    summary += \"\\n\" \n",
    "else:\n",
    "    summary += \"There are no indicators\"\n",
    "summary += \"\\n\\n\"\n",
    "\n",
    "summary += \"## LookyLoo\\n\\n\"\n",
    "summary += \"### Overview table\\n\\n\"\n",
    "table_lookyloo_info.set_style(MARKDOWN)\n",
    "summary += table_lookyloo_info.get_string()\n",
    "summary += \"\\n\\n\"\n",
    "\n",
    "summary += \"## Abusefinder\\n\\n\"\n",
    "summary += \"### Overview table\\n\\n\"\n",
    "table_abuse_info.set_style(MARKDOWN)\n",
    "summary += table_abuse_info.get_string()\n",
    "summary += \"\\n\\n\"\n",
    "\n",
    "summary += \"## RDAP\\n\\n\"\n",
    "summary += \"### Overview table\\n\\n\"\n",
    "table_rdap.set_style(MARKDOWN)\n",
    "summary += table_rdap.get_string()\n",
    "summary += \"\\n\\n\"\n",
    "\n",
    "summary += \"## FIRST\\n\\n\"\n",
    "summary += \"### Overview table\\n\\n\"\n",
    "table_first.set_style(MARKDOWN)\n",
    "summary += table_first.get_string()\n",
    "summary += \"\\n\\n\"\n",
    "                                                                            \n",
    "print(\"The \\033[92msummary\\033[90m of the playbook is available.\\n\\n\")"
   ]
  },
  {
   "cell_type": "markdown",
   "id": "d603257f-0cbe-47c8-876f-9bbe52216c0d",
   "metadata": {},
   "source": [
    "#### Print the summary"
   ]
  },
  {
   "cell_type": "code",
   "execution_count": null,
   "id": "12691048-4122-4ba3-aab0-203226137e3b",
   "metadata": {
    "tags": []
   },
   "outputs": [],
   "source": [
    "display_markdown(summary, raw=True)"
   ]
  },
  {
   "cell_type": "markdown",
   "id": "13c2b820-3f17-4b7f-ac02-eb8296f5d7d4",
   "metadata": {},
   "source": [
    "## EN:2 Add the summary as a MISP report\n",
    "\n",
    "Add the summary as a MISP report to the event."
   ]
  },
  {
   "cell_type": "code",
   "execution_count": 26,
   "id": "56c97901-e890-4aa1-bcb1-1c19b40c3144",
   "metadata": {
    "tags": []
   },
   "outputs": [
    {
     "name": "stdout",
     "output_type": "stream",
     "text": [
      "Creating MISP report \u001b[92mURL remediation\u001b[90m\n",
      " Report ID: \u001b[92m949\u001b[90m\n",
      "Finished creating report\n"
     ]
    }
   ],
   "source": [
    "event_title = \"URL remediation\"\n",
    "print(\"Creating MISP report \\033[92m{}\\033[90m\".format(event_title))\n",
    "chunk_size = 61500\n",
    "for i in range(0, len(summary), chunk_size):\n",
    "    chunk = summary[i:i + chunk_size]\n",
    "    event_report = MISPEventReport()\n",
    "    event_title_edit = event_title\n",
    "    if i > 0:\n",
    "        event_title_edit = \"{} ({} > {})\".format(event_title, i, i + chunk_size)\n",
    "    event_report.name = event_title_edit\n",
    "    event_report.content = chunk\n",
    "    result = misp.add_event_report(misp_event.id, event_report)\n",
    "    if \"EventReport\" in result:\n",
    "        print(\" Report ID: \\033[92m{}\\033[90m\".format(result.get(\"EventReport\", []).get(\"id\", 0)))\n",
    "    else:\n",
    "        print(\"Failed to create report for \\033[91m{}\\033[90m.\".format(event_title))\n",
    "print(\"Finished creating report\")"
   ]
  },
  {
   "cell_type": "markdown",
   "id": "eba96062-deaa-4fb9-8302-7b3ef829201e",
   "metadata": {},
   "source": [
    "## EN:3 Send a summary to Mattermost\n",
    "\n",
    "Now you can send the summary to Mattermost. You can send the summary in two ways by selecting one of the options for the variable `send_to_mattermost_option` in the next cell.\n",
    "\n",
    "- The default option where the entire summary is in the **chat**, or\n",
    "- a short intro and the summary in a **card**\n",
    "\n",
    "For this playbook we rely on a webhook in Mattermost. You can add a webhook by choosing the gear icon in Mattermost, then choose Integrations and then **Incoming Webhooks**. Set a channel for the webhook and lock the webhook to this channel with *\"Lock to this channel\"*."
   ]
  },
  {
   "cell_type": "code",
   "execution_count": 27,
   "id": "8c455bc3-35cc-436d-8237-95c81b57208f",
   "metadata": {
    "tags": []
   },
   "outputs": [],
   "source": [
    "send_to_mattermost_option = \"via a chat message\"\n",
    "#send_to_mattermost_option = \"via a chat message with card\""
   ]
  },
  {
   "cell_type": "code",
   "execution_count": 28,
   "id": "ed2f2cdd-4eea-4125-8e52-8addc47bba5b",
   "metadata": {
    "tags": []
   },
   "outputs": [
    {
     "name": "stdout",
     "output_type": "stream",
     "text": [
      "Summary is \u001b[92msent to Mattermost.\n",
      "\n"
     ]
    }
   ],
   "source": [
    "message = False\n",
    "\n",
    "if send_to_mattermost_option == \"via a chat message\":\n",
    "    message = {\"username\": mattermost_playbook_user, \"text\": summary}\n",
    "elif send_to_mattermost_option == \"via a chat message with card\":\n",
    "    message = {\"username\": mattermost_playbook_user, \"text\": intro, \"props\": {\"card\": summary}}\n",
    "\n",
    "if message:\n",
    "    r = requests.post(mattermost_hook, data=json.dumps(message))\n",
    "    r.raise_for_status()\n",
    "if message and r.status_code == 200:\n",
    "    print(\"Summary is \\033[92msent to Mattermost.\\n\")\n",
    "else:\n",
    "    print(\"\\033[91mFailed to sent summary\\033[90m to Mattermost.\\n\")"
   ]
  },
  {
   "cell_type": "markdown",
   "id": "bf1ff03b-6e70-42c4-9fa6-1c0699787fc3",
   "metadata": {},
   "source": [
    "## EN:4 Publish MISP event \n",
    "\n",
    "As a final step, you can choose the **publish** the MISP event. \n",
    "\n",
    "Publishing MISP events makes the event available to your users and, depending on the synchronisation and distribution rules, will also sync it with other connected MISP servers. Publishing an event also typically makes the indicators available for your security controls to import them in their ruleset."
   ]
  },
  {
   "cell_type": "code",
   "execution_count": 29,
   "id": "dea3cae4-482e-4457-a5fd-7a68dde60acb",
   "metadata": {
    "tags": []
   },
   "outputs": [
    {
     "name": "stderr",
     "output_type": "stream",
     "text": [
      "Something went wrong (404): {'name': 'Could not remove tag as it is not attached to the target Event', 'message': 'Could not remove tag as it is not attached to the target Event', 'url': '/tags/removeTagFromObject'}\n"
     ]
    },
    {
     "name": "stdout",
     "output_type": "stream",
     "text": [
      "Event URL reputation investigation for https://britamix.net.br/ (3570 - 9c05b615-3759-442a-80b7-7d67c260e85c) is \u001b[92mpublished.\n",
      "\n"
     ]
    }
   ],
   "source": [
    "misp.publish(misp_event.uuid)\n",
    "misp.untag(misp_event.uuid, \"workflow:state=\\\"incomplete\\\"\")\n",
    "misp.tag(misp_event.uuid, \"workflow:state=\\\"complete\\\"\", True)\n",
    "print(\"Event {} ({} - {}) is \\033[92mpublished.\\n\".format(misp_event.info, misp_event.id, misp_event.uuid))"
   ]
  },
  {
   "cell_type": "markdown",
   "id": "498b8eff-7d1b-47b7-90c4-e13cc738b36c",
   "metadata": {},
   "source": [
    "## EN:5 End of the playbook "
   ]
  },
  {
   "cell_type": "code",
   "execution_count": 30,
   "id": "4c03bb30",
   "metadata": {},
   "outputs": [
    {
     "name": "stdout",
     "output_type": "stream",
     "text": [
      "\u001b[92m End of the playbook\n"
     ]
    }
   ],
   "source": [
    "print(\"\\033[92m End of the playbook\")"
   ]
  },
  {
   "cell_type": "markdown",
   "id": "b17af9f2",
   "metadata": {},
   "source": [
    "## External references\n",
    "\n",
    "- [The MISP Project](https://www.misp-project.org/)\n",
    "- [Mattermost](https://mattermost.com/)\n"
   ]
  },
  {
   "cell_type": "markdown",
   "id": "e1c813f6",
   "metadata": {},
   "source": [
    "## Technical details \n",
    "\n",
    "### Documentation\n",
    "\n",
    "This playbook requires these Python **libraries** to exist in the environment where the playbook is executed. You can install them with `pip install <library>`.\n",
    "\n",
    "```\n",
    "PrettyTable\n",
    "ipywidgets\n",
    "pylookyloo\n",
    "pyfaup\n",
    "```\n",
    "\n",
    "These **MISP modules** need to be enabled\n",
    "- urlscan\n",
    "- dns\n",
    "\n",
    "### Colour codes\n",
    "\n",
    "The output from Python displays some text in different colours. These are the colour codes\n",
    "\n",
    "```\n",
    "Red = '\\033[91m'\n",
    "Green = '\\033[92m'\n",
    "Blue = '\\033[94m'\n",
    "Cyan = '\\033[96m'\n",
    "White = '\\033[97m'\n",
    "Yellow = '\\033[93m'\n",
    "Magenta = '\\033[95m'\n",
    "Grey = '\\033[90m'\n",
    "Black = '\\033[90m'\n",
    "Default = '\\033[99m'\n",
    "```"
   ]
  },
  {
   "cell_type": "code",
   "execution_count": null,
   "id": "14dce812-e432-4c18-8358-f8b66e5b94a5",
   "metadata": {},
   "outputs": [],
   "source": []
  }
 ],
 "metadata": {
  "celltoolbar": "Attachments",
  "kernelspec": {
   "display_name": "Python 3 (ipykernel)",
   "language": "python",
   "name": "python3"
  },
  "language_info": {
   "codemirror_mode": {
    "name": "ipython",
    "version": 3
   },
   "file_extension": ".py",
   "mimetype": "text/x-python",
   "name": "python",
   "nbconvert_exporter": "python",
   "pygments_lexer": "ipython3",
   "version": "3.8.10"
  },
  "toc-showcode": false,
  "toc-showmarkdowntxt": false
 },
 "nbformat": 4,
 "nbformat_minor": 5
}
