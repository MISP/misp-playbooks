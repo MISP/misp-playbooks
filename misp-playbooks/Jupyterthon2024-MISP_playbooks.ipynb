{
 "cells": [
  {
   "cell_type": "markdown",
   "id": "42d3d053-8d37-4704-af93-9c7eab4b2387",
   "metadata": {},
   "source": [
    "# Introduction\n",
    "\n",
    "## Koen Van Impe\n",
    "\n",
    "- **Freelancer**, work in incident response, threat intelligence and security operations\n",
    "- **Open source** contribtions (MISP, DFIR automation tools, ...) [github.com/cudeso](https://github.com/cudeso)\n",
    "- OSINT **threat feed** [botvrij.eu](https://botvrij.eu)\n",
    "- [www.cudeso.be](https://www.cudeso.be) and [vanimpe.eu](https://www.vanimpe.eu)\n",
    "- [@cudeso](https://twitter.com/cudeso)"
   ]
  },
  {
   "cell_type": "markdown",
   "id": "3d3ae15a-8ca5-40d9-80de-b6039641502c",
   "metadata": {},
   "source": [
    "# MISP playbooks\n",
    "\n",
    "MISP playbooks address common use-cases encountered by **SOCs, CSIRTs or CTI teams**, specifically when working with information or intelligence received by **MISP**.\n",
    "\n",
    "## Building blocks \n",
    "\n",
    "### Jupyter notebooks\n",
    "\n",
    "The MISP playbooks are built with **Jupyter notebooks** which are used to *glue* together **documentation** (why? where? when? who? - *IR procedures / CTI investigation guidelines*) with **commands and services** (what? - *queries, use of correlation/enrichment services*) to solve a use case.\n",
    "\n",
    "The playbooks (or the *output* of the notebook) can be kept for **reporting** purposes but also to **update MISP** (threat events created or modified,...), sent a notification to Mattermost (inform your colleagues of your work) or create an alert in TheHive or any other case handling platform.\n",
    "\n",
    "### MISP\n",
    "\n",
    "A open source **threat intelligence and sharing platform** ([www.misp-project.org](https://www.misp-project.org/) and [github.com/MISP/MISP](https://github.com/MISP/MISP)) used by a large number of SOCs, CSIRTs and CTI teams.\n",
    "\n",
    "![MISP](helpers/jupyterthon-misp.png)\n",
    "\n",
    "### PyMISP\n",
    "\n",
    "[PyMISP](https://github.com/MISP/PyMISP) is a Python library that interacts with MISP via its REST API to add, modify or query data in a MISP instance. Important to know is that everything you do in the MISP web interface, is also available via its REST API. This makes PyMISP a very powerful tool to build automation or setup integrations.\n",
    "\n",
    "### MISP modules\n",
    "\n",
    "The [MISP modules](https://github.com/MISP/misp-modules) are modules to extend MISP with new (*external*) services, such as querying data from [Hashlookup](https://www.circl.lu/services/hashlookup/) or VirusTotal, submit malware samples to a sandbox or lookup network information. It allows you to add functionality to MISP (**correlation**, **enrichment**), without having to change the core code of the platform."
   ]
  },
  {
   "cell_type": "markdown",
   "id": "a95b8005-d266-4501-b05b-5c807274b558",
   "metadata": {},
   "source": [
    "## MISP playbooks\n",
    "\n",
    "### GitHub\n",
    "\n",
    "MISP playbooks are published on GitHub [github.com/MISP/misp-playbooks](https://github.com/MISP/misp-playbooks). Since the start of the project there have been **35 commits**, resulting in **16 MISP playbooks**. There is also **guidance** and **technical** documentation on how to setup an environment for MISP playbooks.\n",
    "\n",
    "![Commits](helpers/jupyterthon-commits.png)\n",
    "\n",
    "### Playbooks for MISP users\n",
    "\n",
    "- Deal with **malware investigations**\n",
    "  - **Malware** triage with MISP with **static** malware analysis ([2](https://github.com/MISP/misp-playbooks/blob/main/misp-playbooks/pb_malware_triage-with_output.ipynb))\n",
    "      - *MISP, Mattermost, VirusTotal, Hashlookup, MalwareBazaar, MWDB*\n",
    "  - **Malware** triage with MISP with **dynamic** malware analysis ([3](https://github.com/MISP/misp-playbooks/blob/main/misp-playbooks/pb_malware_triage_upload_sample-with_output.ipynb))\n",
    "      - *MISP, Mattermost, VMRay, Hybrid-Analysis, VirusTotal*\n",
    "  - Query for **hash** information ([15](https://github.com/MISP/misp-playbooks/blob/main/misp-playbooks/pb_query_hash_information-with_output.ipynb))\n",
    "      - *MISP, Mattermost, VirusTotal, Hashlookup, MalwareBazaar*\n",
    "- Do **OSINT investigations**\n",
    "  - Query for **CVE** information ([25](https://github.com/MISP/misp-playbooks/blob/main/misp-playbooks/pb_query_cve_information.ipynb))\n",
    "      - *MISP, Mattermost, TheHive, cvesearch, vulners, XForceExchange, exploitdb*\n",
    "  - Query for **IP** reputation ([12](https://github.com/MISP/misp-playbooks/blob/main/misp-playbooks/pb_query_ip_reputation-with_output.ipynb))\n",
    "      - *MISP, Mattermost, TheHive, abuse_finder, DNS, MMDB, Shodan, Greynoise, VirusTotal, AbuseIPDB*\n",
    "  - Query for **domain** reputation ([13](https://github.com/MISP/misp-playbooks/blob/main/misp-playbooks/pb_query_domain_reputation-with_output.ipynb))\n",
    "      - *MISP, Mattermost, TheHive, URLscan, abuse_finder, DNS, URLhaus, Shodan, VirusTotal*\n",
    "- Use the playbooks to deal with **phishing** incidents\n",
    "  - Create or update a MISP event with information from a phishing incident with a link ([1](https://github.com/MISP/misp-playbooks/blob/main/misp-playbooks/pb_create_or_update_a_MISP_event_with_information_from_a_phishing_incident_with_a_link-with_output.ipynb))\n",
    "      - *MISP, Mattermost, TheHive, URLscan, Lookyloo, TheHive, Google Safe Browsing, Microsoft Security Intelligence, Phishtank*\n",
    "- Use MISP for **CTI work**\n",
    "  - **Curate** threat events ([21](https://github.com/MISP/misp-playbooks/blob/main/misp-playbooks/pb_curate_misp_events.ipynb))\n",
    "      - *MISP, Mattermost, Hashlookup, MMDB*\n",
    "  - Query for **inconsistencies** in MISP events ([22](https://github.com/MISP/misp-playbooks/blob/main/misp-playbooks/pb_query_for_inconsistencies_misp_events.ipynb))\n",
    "  - **Threat actor** profiling ([26](https://github.com/MISP/misp-playbooks/blob/main/misp-playbooks/pb_threat_actor_profiling-with_output.ipynb))\n",
    "      - *MISP, Mattermost, MITRE*\n",
    "  - Do a retroscan with a MISP **warninglist** (*check for false positives and alike in your platform*) ([8](https://github.com/MISP/misp-playbooks/blob/main/misp-playbooks/pb_retroscan_with_MISP_warninglist-with_output.ipynb))\n",
    "- Become better acquainted with the **MISP features**\n",
    "  - Create MISP **objects** and relationships ([11](https://github.com/MISP/misp-playbooks/blob/main/misp-playbooks/pb_create_MISP_objects_and_relationship-with_output.ipynb))\n",
    "  - Work with the different MISP **timestamps** ([42](https://github.com/MISP/misp-playbooks/blob/main/misp-playbooks/pb_using_timestamps_in_MISP-with_output.ipynb))\n",
    "  - Create a custom MISP warninglist ([7](https://github.com/MISP/misp-playbooks/blob/main/misp-playbooks/pb_create_custom_MISP_warninglist-with_output.ipynb))\n",
    "      - *MISP, Mattermost, TheHive, VirusTotal, Shodan*\n",
    "  \n",
    "### Playbooks for MISP administrators\n",
    "\n",
    "- Provision **users** and **organisations** ([43](https://github.com/MISP/misp-playbooks/blob/main/misp-playbooks/pb_provision_users_organisations-with_output.ipynb))\n",
    "    - *MISP, Mattermost*\n",
    "- Do bulk **deletes** of MISP events ([29](https://github.com/MISP/misp-playbooks/blob/main/misp-playbooks/pb_bulk_delete_events-with_output.ipynb))\n",
    "    - *MISP, Mattermost*\n",
    "    \n",
    "### Documentation\n",
    "\n",
    "The technical documentation explains you how to get started and setup your own environment, includes guidelines on the playbook structure and tips on how to develop the playbooks. There's also a guide to quickly set it up on a [Kali VM](https://github.com/MISP/misp-playbooks/blob/main/documentation/MISP%20playbook%20on%20Kali.md) (or any Linux VM). There is [technical documentation](https://github.com/MISP/misp-playbooks/blob/main/documentation/MISP%20playbook%20technical%20documentation.md) with step-by-step guide on how to setup your environment, a [configuration](https://github.com/MISP/misp-playbooks/blob/main/config/misp-playbook-jupyter.py) file for JupyterLab, a [systemd](https://github.com/MISP/misp-playbooks/blob/main/config/misp-playbook-jupyter.service) startup script and an [NGINX](https://github.com/MISP/misp-playbooks/blob/main/config/nginx-notebook.conf) configuration file to put notebooks behind a reverse proxy.\n",
    "\n",
    "The GitHub repository also includes a [skeleton](https://github.com/MISP/misp-playbooks/blob/main/misp-playbooks/pb_skeleton.ipynb) playbook that is used to start a new playbook, with the basic elements for its structure included."
   ]
  },
  {
   "cell_type": "markdown",
   "id": "8ddc51ec-c17c-49ca-ab8b-cfcd7a5ec16e",
   "metadata": {},
   "source": [
    "# Getting started\n",
    "\n",
    "## What do you need?\n",
    "\n",
    "![what do you need](helpers/jupyterthon-whatdoyouneed.png)\n",
    "\n",
    "- Web browser\n",
    "- **Jupyter notebook** environment\n",
    "    - Have **PyMISP** and other Python libraries installed\n",
    "- A connection to a **MISP server**\n",
    "    - Use your own MISP server, or connect to a MISP server run by a community ([https://www.misp-project.org/communities/](https://www.misp-project.org/communities/))\n",
    "    - A **MISP api key**\n",
    "    - MISP modules (need to be accessible by the notebook)\n",
    "- Accounts at other external services if you do enrichment or correlation\n",
    "    - VirusTotal, URLscan.io, ...\n",
    "\n",
    "## Structure of playbooks\n",
    "\n",
    "- Introduction\n",
    "    - Describe what the playbook is about\n",
    "    - Intended audience\n",
    "- Playbook\n",
    "    - Initialise environment\n",
    "    - Steps of the playbook\n",
    "- Closure\n",
    "    - External resources\n",
    "    - Technical details\n",
    "\n",
    "[MISP playbook structure](https://github.com/MISP/misp-playbooks/blob/main/documentation/assets/playbook-structure-playbook-structure.drawio.png)\n",
    "\n",
    "![Structure](helpers/jupyterthon-structure.png) "
   ]
  },
  {
   "cell_type": "markdown",
   "id": "90f40b48-607f-412f-8caf-99e163485778",
   "metadata": {},
   "source": [
    "# Demo MISP playbook\n",
    "\n",
    "## Playbooks published on GitHub\n",
    "\n",
    "The MISP playbooks on GitHub are available in a version that you can run (*clean*) and a version with **output** (named *playbook-with_output.ipynb*). The latter allows you to \n",
    "- Review the general flow\n",
    "- Have an idea how the output should look like\n",
    "\n",
    "## Introduction\n",
    "\n",
    "- UUID: **4de35561-23df-4f4b-95f9-11910ed30b91**\n",
    "- Started from [issue 51](https://github.com/MISP/misp-playbooks/issues/51)\n",
    "- State: **Published**\n",
    "- Purpose: A playbook to demonstrate MISP playbooks at Jupyterthon 2024\n",
    "- Tags: [ \"demo\", \"jupyterthon\"]\n",
    "- External resources: **Hashlookup** **Mattermost**\n",
    "- Target audience: **Jupyterthon 2024**\n",
    "\n",
    "## Preparation\n",
    "\n",
    "### PR:1 Initialise environment\n",
    "\n",
    "This section **initialises the playbook environment** and loads the required Python libraries. \n",
    "\n",
    "The credentials for MISP (**API key**) and other services are loaded from the file `keys.py` in the directory **vault**. A [PyMISP](https://github.com/MISP/PyMISP) object is created to interact with MISP and the active MISP server is displayed. By printing out the server name you know that it's possible to connect to MISP. In case of a problem PyMISP will indicate the error with `PyMISPError: Unable to connect to MISP`."
   ]
  },
  {
   "cell_type": "code",
   "execution_count": null,
   "id": "d02d069e-8580-4a2b-9aa0-60d9962c7492",
   "metadata": {
    "tags": []
   },
   "outputs": [],
   "source": [
    "# Initialise Python environment\n",
    "import sys\n",
    "import json\n",
    "import uuid\n",
    "from datetime import date\n",
    "from prettytable import PrettyTable, MARKDOWN\n",
    "import requests\n",
    "from IPython.display import Image, display, display_markdown, HTML\n",
    "\n",
    "# Load the credentials\n",
    "sys.path.insert(0, \"../vault/\")\n",
    "from keys import *\n",
    "if misp_verifycert is False:\n",
    "    import urllib3\n",
    "    urllib3.disable_warnings(urllib3.exceptions.InsecureRequestWarning)\n",
    "print(\"The \\033[92mPython libraries\\033[90m are loaded and the \\033[92mcredentials\\033[90m are read from the keys file.\")\n",
    "\n",
    "# Create the PyMISP object\n",
    "from pymisp import *\n",
    "misp = PyMISP(misp_url, misp_key, misp_verifycert)\n",
    "print(\"I will use the MISP server \\033[92m{}\\033[90m for this playbook.\".format(misp_url))"
   ]
  },
  {
   "cell_type": "markdown",
   "id": "a4e8d1ae-ecef-4821-837e-447533c98410",
   "metadata": {},
   "source": [
    "### PR:2 Verify MISP modules\n",
    "\n",
    "This playbook uses the MISP modules to obtain additional correlation or enrichment information. [MISP modules](https://github.com/MISP/misp-modules) are autonomous modules that can be used to extend MISP for new services such as expansion, import and export. The modules are written in Python 3 following a simple API interface. The objective is to ease the extensions of MISP functionalities without modifying core components. The API is available via a simple REST API which is independent from MISP installation or configuration.\n",
    "\n",
    "In the next cell we check if we have access to the **MISP module** server and if the required modules are enabled."
   ]
  },
  {
   "cell_type": "code",
   "execution_count": null,
   "id": "69db0780-fea8-478f-a7fb-13cfa3db0255",
   "metadata": {
    "tags": []
   },
   "outputs": [],
   "source": [
    "# Where can we find the local MISP Module server? You can leave this to the default setting in most cases.\n",
    "misp_modules_url = \"http://127.0.0.1:6666\"\n",
    "\n",
    "# Which modules are we using in this playbook?\n",
    "misp_modules_in_use = [\"hashlookup\"]\n",
    "\n",
    "\n",
    "\n",
    "# How long do we wait between queries when using the MISP modules (API rate limiting of external service such as VirusTotal)\n",
    "misp_modules_wait = 3\n",
    "\n",
    "# Initiliasation\n",
    "misp_modules = {}\n",
    "misp_modules_headers = {\"Content-Type\": \"application/json\", \"Accept\": \"application/json\"}\n",
    "\n",
    "# Code block to query the MISP module server and check if our modules are enabled\n",
    "res = requests.get(\"{}/modules\".format(misp_modules_url), headers=misp_modules_headers)\n",
    "for module in res.json():\n",
    "    for module_requested in misp_modules_in_use:\n",
    "        if module.get(\"name\", False) == module_requested:\n",
    "            misp_modules[module_requested] = {\"enabled\": True, \"input\": module.get(\"mispattributes\").get(\"input\")}\n",
    "            print(\"Found the \\033[92m{}\\033[90m MISP module (Accepted input: {}).\".format(module_requested, misp_modules[module_requested][\"input\"]))\n",
    "print(\"\\n\")"
   ]
  },
  {
   "cell_type": "markdown",
   "id": "dc00809e-cac5-42c2-89a2-763f21a3a7f2",
   "metadata": {},
   "source": [
    "### PR:3 Load helper functions\n",
    "\n",
    "The next cell contains **helper functions** that are used in this playbook. \n",
    "\n",
    "Instead of distributing helper functions as separate Python files this playbook includes all the required code as one code cell. This makes portability of playbooks between instances easier. The downside is that functions defined in this playbook need to be defined again in other playbooks, which is not optimal for code re-use. For this iteration of playbooks it is chosen to include the code in the playbook (more portability), but you can easily create one \"helper\" file that contains all the helper code and then import that file in each playbook (for example by adding to the previous cell `from helpers import *`)."
   ]
  },
  {
   "cell_type": "code",
   "execution_count": null,
   "id": "d6a5fb7a-fb50-400f-9606-85c72fd031ef",
   "metadata": {
    "tags": []
   },
   "outputs": [],
   "source": [
    "def __includeFlattenedAttributes(attributes, objects):\n",
    "    # Function to merge attributes from 'single' attributes and objects into one set\n",
    "    object_attributes = []\n",
    "    for misp_object in objects:\n",
    "        for object_attribute in misp_object.Attribute:\n",
    "            object_attributes.append(object_attribute)\n",
    "    event_attributes = object_attributes + attributes\n",
    "    return event_attributes"
   ]
  },
  {
   "cell_type": "markdown",
   "id": "3a49513f-15fb-4388-abb5-ee341eb3fb0d",
   "metadata": {},
   "source": [
    "### PR:4 Set helper variables\n",
    "\n",
    "This cell contains **helper variables** that are used in this playbook."
   ]
  },
  {
   "cell_type": "code",
   "execution_count": null,
   "id": "7257a57b-7203-49aa-9ab3-b715f111b882",
   "metadata": {
    "tags": []
   },
   "outputs": [],
   "source": [
    "event_details = {\"header\": \"\", \"context\": \"\", \"attributes\": \"\", \"links\": \"\"}\n",
    "ir_findings = {}\n",
    "indicator_match = \"\"\n",
    "related_events = \"\""
   ]
  },
  {
   "cell_type": "markdown",
   "id": "961b021c-fc7f-4eb6-b80f-1488dbd26211",
   "metadata": {},
   "source": [
    "## Run the playbook\n",
    "\n",
    "### RP:1 Query for indicators in MISP\n",
    "\n",
    "Once the preparation is done, the *core* steps of the playbook are executed.\n",
    "\n",
    "A typical *use case* is where your organisation identifies certain indicators that are part of unusual behaviour. How can you quickly get to know what your MISP **community** knows about these indicators?\n",
    "\n",
    "The guidelines of the MISP playbook recommends to define **playbook variables ('input')** outside code blocks. This makes the playbook more accessible for users without coding skills. In this section, the **indicators** are defined in the variable `indicators`."
   ]
  },
  {
   "cell_type": "code",
   "execution_count": null,
   "id": "c299a348-3a60-48c8-9e91-0fd2ab6dc890",
   "metadata": {
    "tags": []
   },
   "outputs": [],
   "source": [
    "# Search for indicators\n",
    "#    IP: 94.131.98.14\n",
    "#    Filenames: \"compcheckresult.cgi\", \"Nwsapagent.sys\"\n",
    "indicators=[\"94.131.98.14\", \"%compcheckresult.cgi\"]"
   ]
  },
  {
   "cell_type": "markdown",
   "id": "5c042478-3b01-434b-a8e4-0eb16ce2c19a",
   "metadata": {},
   "source": [
    "Some additional options that are available when querying MISP:\n",
    "- `to_ids`: Is the indicator *actionable* (useful for detection/alerting purposes) or primarily for *informationable* purposes?\n",
    "- `published`: Only include Published (*shared with others*) events\n",
    "- `pythonify`: Return as Python objects"
   ]
  },
  {
   "cell_type": "code",
   "execution_count": null,
   "id": "d4467974-f080-49b0-ab57-62116d38b1d8",
   "metadata": {
    "tags": []
   },
   "outputs": [],
   "source": [
    "# MISP search\n",
    "search_results = misp.search(\"attributes\", value=indicators, to_ids=None, published=None, pythonify=True)\n",
    "\n",
    "print(\"Found {} results\".format(len(search_results)))\n",
    "if len(search_results) > 0:\n",
    "    table = PrettyTable()\n",
    "    table.field_names = [\"Indicator\", \"Event ID\", \"Event Title\", \"Organisation\"]\n",
    "    table._max_width = {\"Event Title\": 30}\n",
    "    table.align[\"Indicator\"] = \"l\"\n",
    "    table.align[\"Event Title\"] = \"l\"\n",
    "    table.align[\"Organisation\"] = \"l\"\n",
    "    for hit in search_results:\n",
    "        table.add_row([hit.value, hit.Event.id, hit.Event.info, misp.get_organisation(hit.Event.orgc_id, pythonify=True).name])\n",
    "    print(table.get_string(sortby=\"Indicator\"))\n",
    "    indicator_match = table"
   ]
  },
  {
   "cell_type": "markdown",
   "id": "b3981f6a-8678-4dd8-944c-6c0bd89455d3",
   "metadata": {},
   "source": [
    "### RP:2 Get indicators for a specific MISP threat event\n",
    "\n",
    "One of the results in the previous query looks interesting to us. Get all indicators for the threat event **Seedworm: Iranian Hackers Target Telecoms Orgs in North and East Africa**."
   ]
  },
  {
   "cell_type": "code",
   "execution_count": null,
   "id": "5b2aa5a3-9a29-44d7-b8eb-a27f5eeb0415",
   "metadata": {
    "tags": []
   },
   "outputs": [],
   "source": [
    "# Specify the MISP event ID as a filter\n",
    "eventid = \"3345\""
   ]
  },
  {
   "cell_type": "markdown",
   "id": "8b2188e6-010e-455e-a1e5-aefd2e2d8b40",
   "metadata": {},
   "source": [
    "Use the `get_event` function from PyMISP to get all information available on this threat event. You can specify a MISP event ID, but also a unique UUID."
   ]
  },
  {
   "cell_type": "code",
   "execution_count": null,
   "id": "0c3b46f5-4f00-490a-b5c5-8778712092db",
   "metadata": {
    "tags": []
   },
   "outputs": [],
   "source": [
    "# Get all information related to a specific MISP event\n",
    "misp_event = misp.get_event(eventid, pythonify=True)\n",
    "\n",
    "if not \"errors\" in misp_event:\n",
    "    # The metadata of an event\n",
    "    event_details[\"header\"] = \"\"\"### Event: {}\n",
    "- Organisation: **{}**\n",
    "- ID/UUID: {} / {}\n",
    "- Date: {}\n",
    "- Distribution: **{}**\n",
    "- Analysis: **{}**\n",
    "- Threat level: **{}**\n",
    "\"\"\".format(misp_event.info, misp_event.Orgc.name, misp_event.id, misp_event.uuid, misp_event.date, \n",
    "           Distribution(misp_event.distribution), Analysis(misp_event.analysis), ThreatLevel(misp_event.threat_level_id))\n",
    "    \n",
    "    # Display the contextual elements\n",
    "    event_details[\"context\"] = \"#### Context\\n\"\n",
    "    for tag in misp_event.Tag:\n",
    "        event_details[\"context\"] = \"{}- {}\\n\".format(event_details[\"context\"], tag.name)\n",
    "        \n",
    "        \n",
    "    # External links that can be useful to consult\n",
    "    event_details[\"links\"] = \"#### Useful reading material\\n\"    \n",
    "    attributes = __includeFlattenedAttributes(misp_event.Attribute, misp_event.Object)\n",
    "    \n",
    "    \n",
    "    # The indicators/attributes in this event\n",
    "    table = PrettyTable()\n",
    "    table.field_names = [\"Indicator\", \"In feeds\", \"Type\", \"Category\"]\n",
    "    table.align[\"Indicator\"] = \"l\"\n",
    "    table.align[\"Type\"] = \"l\"\n",
    "    table.align[\"Category\"] = \"l\"\n",
    "    for attribute in attributes:\n",
    "        if attribute.type == \"link\":\n",
    "            event_details[\"links\"] = \"{}- {}\\n\".format(event_details[\"links\"], attribute.value)\n",
    "        if attribute.to_ids:\n",
    "            if hasattr(attribute, 'Feed'):\n",
    "                table.add_row([attribute.value, \"*\", attribute.type, attribute.category])\n",
    "            else:\n",
    "                table.add_row([attribute.value, \" \", attribute.type, attribute.category])\n",
    "    table.set_style(MARKDOWN)\n",
    "    event_details[\"attributes\"] = \"#### Attributes\\n{}\".format(table.get_string())\n",
    "              \n",
    "# Print out everything in MarkDown, we will also send this to Mattermost\n",
    "display_markdown(event_details[\"header\"], raw=True)\n",
    "display_markdown(event_details[\"context\"], raw=True)\n",
    "display_markdown(event_details[\"attributes\"], raw=True)\n",
    "display_markdown(event_details[\"links\"], raw=True)"
   ]
  },
  {
   "cell_type": "markdown",
   "id": "d69029aa-c8fe-4a53-917d-99e620e8d6ac",
   "metadata": {},
   "source": [
    "### RP:3 Get all events related to a specific intrusion set\n",
    "\n",
    "MISP has an extensive list of elements that provide contextual information to threat events. It's called MISP [Galaxy Clusters](https://www.misp-project.org/galaxy.html) and, among other elements, includes the information from MITRE, such as the Intrusion Sets (or *threat actors*). \n",
    "\n",
    "In this example we want to know more about the threat actor **MuddyWater**, identified with **G0069**."
   ]
  },
  {
   "cell_type": "code",
   "execution_count": null,
   "id": "7831f3e8-0b2d-48ca-991b-62c8e6d190cb",
   "metadata": {
    "tags": []
   },
   "outputs": [],
   "source": [
    "# Specify the filter for the threat actor\n",
    "context_filter = \"MuddyWater - G0069\""
   ]
  },
  {
   "cell_type": "code",
   "execution_count": null,
   "id": "103c2bcc-ac50-4af9-b172-c267de51d660",
   "metadata": {
    "tags": []
   },
   "outputs": [],
   "source": [
    "tag_filter = \"misp-galaxy:mitre-intrusion-set=\\\"{}\\\"\".format(context_filter)\n",
    "\n",
    "# Search for events that are tagged with the \"tag_filter\"\n",
    "search_results = misp.search(\"events\", tags=tag_filter, pythonify=True)\n",
    "print(\"Found {} results\".format(len(search_results)))\n",
    "if len(search_results) > 0:\n",
    "    \n",
    "    # Print out the results in an easy to read table\n",
    "    table = PrettyTable()\n",
    "    table.field_names = [\"Event ID\", \"Event Title\", \"Date\", \"Organisation\"]\n",
    "    table._max_width = {\"Event Title\": 30}\n",
    "    table.align[\"Event ID\"] = \"l\"\n",
    "    table.align[\"Event Title\"] = \"l\"\n",
    "    table.align[\"Organisation\"] = \"l\"    \n",
    "    for hit in search_results:\n",
    "        table.add_row([hit.id, hit.info, hit.date, hit.Orgc.name])\n",
    "    print(table.get_string(sortby=\"Date\"))\n",
    "    related_events = table"
   ]
  },
  {
   "cell_type": "markdown",
   "id": "c214a503-a5b6-444c-9f30-5b6d5c7acef8",
   "metadata": {},
   "source": [
    "### RP:4 Send a summary to Mattermost\n",
    "\n",
    "So far we have\n",
    "- Queried MISP for **indicators**\n",
    "- Identified **actionable** indicators for a threat event related to our investigation\n",
    "- Searched for events related to a **threat actor** we're interested in.\n",
    "\n",
    "We can notify our colleagus of these findings via Mattermost."
   ]
  },
  {
   "cell_type": "code",
   "execution_count": null,
   "id": "274ef20d-af13-4cad-8fee-eeee10694459",
   "metadata": {
    "tags": []
   },
   "outputs": [],
   "source": [
    "summary = event_details[\"header\"] + \"\\n\" + event_details[\"context\"] + \"\\n\" + event_details[\"attributes\"] + \"\\n\" + event_details[\"links\"]\n",
    "message = {\"username\": mattermost_playbook_user, \"text\": summary}\n",
    "r = requests.post(mattermost_hook, data=json.dumps(message))\n",
    "r.raise_for_status()\n",
    "if r.status_code == 200:\n",
    "    print(\"Summary is \\033[92msent to Mattermost.\\n\")\n",
    "else:\n",
    "    print(\"\\033[91mFailed to sent summary\\033[90m to Mattermost.\\n\")"
   ]
  },
  {
   "cell_type": "markdown",
   "id": "1e1f2b43-b61a-4d9c-97ed-a107b7f98d97",
   "metadata": {},
   "source": [
    "## Create a MISP threat event\n",
    "\n",
    "### CR:1 Set the event details\n",
    "\n",
    "Put the event details in variables that can be easily edited."
   ]
  },
  {
   "cell_type": "code",
   "execution_count": null,
   "id": "1dda4a41-8d7f-489c-a3c3-5f205db6bdbb",
   "metadata": {
    "tags": []
   },
   "outputs": [],
   "source": [
    "event_title = \"MISP playbook demo event\"\n",
    "event_threat_level_id = ThreatLevel.low\n",
    "event_analysis = Analysis.ongoing\n",
    "event_distribution = Distribution.your_organisation_only\n",
    "event_date = date.today()       "
   ]
  },
  {
   "cell_type": "markdown",
   "id": "a61a28ed-ef68-4243-9db4-3ff548890d2d",
   "metadata": {},
   "source": [
    "### CR:2 Create the event\n",
    "\n",
    "Adding threat events to MISP is easy with [PyMISP](https://github.com/MISP/PyMISP).\n",
    "\n",
    "- First, **create a MISP event**,\n",
    "- Add context elements, such as TLP and TTPs."
   ]
  },
  {
   "cell_type": "code",
   "execution_count": null,
   "id": "26ede81e-8a8d-4832-a4c2-e6f495ced53f",
   "metadata": {
    "tags": []
   },
   "outputs": [],
   "source": [
    "# Link the previously set variables with MISPEvent()\n",
    "event = MISPEvent()\n",
    "event.info = event_title\n",
    "event.distribution = event_distribution\n",
    "event.threat_level_id = event_threat_level_id\n",
    "event.analysis = event_analysis\n",
    "event.set_date(event_date)\n",
    "\n",
    "# Create the MISP event on the server side\n",
    "ir_findings[\"event\"] = misp.add_event(event, pythonify=True)\n",
    "ir_findings[\"attributes\"] = {}\n",
    "ir_findings[\"misp_attributes\"] = {}\n",
    "print(\"Result: Event ID: {} UUID: {}\".format(ir_findings[\"event\"].id, ir_findings[\"event\"].uuid))\n",
    "      \n",
    "# Add context to our event\n",
    "global_tags = [\"tlp:amber\", \n",
    "               \"misp-galaxy:mitre-intrusion-set=\\\"MuddyWater - G0069\\\"\",\n",
    "               \"misp-galaxy:mitre-attack-pattern=\\\"Exploit Public-Facing Application - T1190\\\"\",\n",
    "               \"misp-galaxy:malpedia=\\\"MuddyC2Go\\\"\"]\n",
    "local_tags = [\"workflow:todo=\\\"preserve-evidence\\\"\", \"workflow:state=\\\"incomplete\\\"\"]\n",
    "for tag in global_tags:\n",
    "    misp.tag(ir_findings[\"event\"].uuid, tag)\n",
    "for tag in local_tags:\n",
    "    misp.tag(ir_findings[\"event\"].uuid, tag, True)"
   ]
  },
  {
   "cell_type": "markdown",
   "id": "7dbaff4d-a1f9-427e-bf49-245d5778a1cf",
   "metadata": {},
   "source": [
    "### CR:3 Add attributes to MISP\n",
    "\n",
    "We add attributes defined in `ir_findings[\"indicators\"]` to the newly created event."
   ]
  },
  {
   "cell_type": "code",
   "execution_count": null,
   "id": "ca8f5f37-be32-4578-8ca3-222eb5d5fe13",
   "metadata": {
    "tags": []
   },
   "outputs": [],
   "source": [
    "ir_findings[\"indicators\"] = [\n",
    "    {\"value\": \"1.2.3.4\", \"type\": \"ip-src\", \"category\": \"Network activity\", \"to_ids\": 1, \"comment\": \"IR findings\"},\n",
    "    {\"value\": \"5.6.7.8\", \"type\": \"ip-src\", \"category\": \"Network activity\", \"to_ids\": 1, \"comment\": \"IR findings\"},\n",
    "    {\"value\": \"94.131.98.14\", \"type\": \"ip-src\", \"category\": \"Network activity\", \"to_ids\": 1, \"comment\": \"IR findings\",\n",
    "        \"tags\": [\"course-of-action:active=\\\"deceive\\\"\"]},\n",
    "    {\"value\": \"5da8c98136d98dfec4716edd79c7145f\", \"type\": \"md5\", \"category\": \"Payload delivery\", \"to_ids\": 1, \"comment\": \"IR findings\"},\n",
    "    {\"value\": \"2ec505088b942c234f39a37188e80d7a\", \"type\": \"md5\", \"category\": \"Payload delivery\", \"to_ids\": 1, \"comment\": \"IR findings\"},\n",
    "    {\"value\": \"compcheckresult.cgi\", \"type\": \"filename\", \"category\": \"Payload delivery\", \"to_ids\": 0, \"comment\": \"IR findings\",\n",
    "        \"tags\": [\"probably-not-related\"]},\n",
    "]"
   ]
  },
  {
   "cell_type": "code",
   "execution_count": null,
   "id": "9acef5d8-bb37-4494-8c92-9c217d198718",
   "metadata": {
    "tags": []
   },
   "outputs": [],
   "source": [
    "for indicator in ir_findings[\"indicators\"]:\n",
    "    misp_attribute = misp.add_attribute(ir_findings[\"event\"].uuid, indicator, pythonify=True)\n",
    "    ir_findings[\"misp_attributes\"][indicator[\"value\"]] = misp_attribute\n",
    "    print(\"Add {} - {}\".format(indicator[\"value\"], misp_attribute.uuid))"
   ]
  },
  {
   "cell_type": "markdown",
   "id": "57676485-92bc-479a-bf91-d9c154eac444",
   "metadata": {},
   "source": [
    "### CR:4 Lookup hashes in Hashlookup - Disable to_ids for known legitimate file hashes\n",
    "\n",
    "We added one hash to our threat event. In order to avoid working with a false lead it's good to check first if this hash is linked to a \"known good\" software. To accomplish this we use one of the MISP modules, the [CIRCL Hashlookup](https://www.circl.lu/services/hashlookup/) service."
   ]
  },
  {
   "cell_type": "code",
   "execution_count": null,
   "id": "cb6a7c2a-e26b-49b2-a42c-90b754217858",
   "metadata": {
    "tags": []
   },
   "outputs": [],
   "source": [
    "for indicator in ir_findings[\"indicators\"]:\n",
    "    if indicator[\"type\"] in [\"sha1\", \"md5\", \"sha256\"]:\n",
    "        indicator_type = indicator[\"type\"]\n",
    "        indicator_value = indicator[\"value\"]\n",
    "        data = {\"attribute\": {\"type\": f\"{indicator_type}\", \"uuid\": str(uuid.uuid4()), \"value\": f\"{indicator_value}\"},\n",
    "                \"module\": \"hashlookup\", \"config\": {\"custom_API\": False}\n",
    "                }\n",
    "        result = requests.post(\"{}/query\".format(misp_modules_url), headers=misp_modules_headers, json=data)\n",
    "        if \"results\" in result.json() and len(result.json()[\"results\"]) > 0:\n",
    "            result_json = result.json()[\"results\"]\n",
    "            for misp_object in result_json.get(\"Object\", []):\n",
    "                filename = \"Unknown\"\n",
    "                created_object = misp.add_object(ir_findings[\"event\"].uuid, misp_object, pythonify=True)\n",
    "                for misp_object_attribute in misp_object[\"Attribute\"]:\n",
    "                    if misp_object_attribute[\"object_relation\"] == \"FileName\":\n",
    "                        filename = misp_object_attribute[\"value\"]\n",
    "                if not \"errors\" in created_object:\n",
    "                    print(\" Got \\033[92m{}\\033[90m \".format(misp_object[\"name\"]))\n",
    "                    misp.add_object_reference(created_object.add_reference(ir_findings[\"misp_attributes\"][indicator_value].uuid, \"related-to\"))\n",
    "                    misp.tag(ir_findings[\"misp_attributes\"][indicator_value].uuid, \"cudeso.be:curated=\\\"disable_ids_circl_hashlookup\\\"\", True)\n",
    "                    misp.update_attribute({\"uuid\": ir_findings[\"misp_attributes\"][indicator_value].uuid, \"to_ids\": 0})\n",
    "                    print(\" Disabled to_ids for \\033[92m{}\\033[90m - filename: {}\".format(indicator_value, filename))"
   ]
  },
  {
   "cell_type": "markdown",
   "id": "5d92bd26-9245-4096-974e-e822a2d86cca",
   "metadata": {},
   "source": [
    "### CR:4 Get related threat events\n",
    "\n",
    "A good practice before diving into all the indicators you explored during IR is to sketch a picture of what's already known about them. The MISP **related events** is a good start for this.\n",
    "\n",
    "We first query MISP for our newly created event, it will then return all the identifiers for the related evens and feeds."
   ]
  },
  {
   "cell_type": "code",
   "execution_count": null,
   "id": "91b8316a-6da1-4f37-b4ca-8b6e0464fe93",
   "metadata": {
    "tags": []
   },
   "outputs": [],
   "source": [
    "misp_event = misp.get_event(ir_findings[\"event\"].uuid, pythonify=True)\n",
    "print(\"Related events:\")\n",
    "for event_related in misp_event.RelatedEvent:\n",
    "    print(event_related)\n",
    "print(\"\\nOverlap with MISP feeds:\")\n",
    "for event_overlap in misp_event.Feed:\n",
    "    print(event_overlap)"
   ]
  },
  {
   "cell_type": "markdown",
   "id": "1f368ad5-f47d-4b05-bf1f-205f7c786c2f",
   "metadata": {},
   "source": [
    "### CR:5 Add a MISP report\n",
    "\n",
    "A report in MISP allows to combine documentation (in Markdown) with attributes/indicators. In this case we just add our previously created summary as a MISP report."
   ]
  },
  {
   "cell_type": "code",
   "execution_count": null,
   "id": "78d6b572-ae3a-4f14-9ed5-fbd0ee8e8fdc",
   "metadata": {
    "tags": []
   },
   "outputs": [],
   "source": [
    "event_title = \"Information related to our incident response investigation\"\n",
    "print(\"Creating MISP report \\033[92m{}\\033[90m\".format(event_title))\n",
    "chunk_size = 61500\n",
    "for i in range(0, len(summary), chunk_size):\n",
    "    chunk = summary[i:i + chunk_size]\n",
    "    event_report = MISPEventReport()\n",
    "    event_title_edit = event_title\n",
    "    if i > 0:\n",
    "        event_title_edit = \"{} ({} > {})\".format(event_title, i, i + chunk_size)\n",
    "    event_report.name = event_title_edit\n",
    "    event_report.content = chunk\n",
    "    result = misp.add_event_report(ir_findings[\"event\"].id, event_report)\n",
    "    if \"EventReport\" in result:\n",
    "        print(\" Report ID: \\033[92m{}\\033[90m\".format(result.get(\"EventReport\", []).get(\"id\", 0)))\n",
    "    else:\n",
    "        print(\"Failed to create report for \\033[91m{}\\033[90m.\".format(event_title))"
   ]
  },
  {
   "cell_type": "markdown",
   "id": "4f1bddd6-8700-40c4-bd22-3e4c9dc57dd6",
   "metadata": {},
   "source": [
    "### CR:6 Publish the MISP event\n",
    "\n",
    "And finally, the last step is to remove the incomplete workflow tag and **publish** the event. This makes it available to our community."
   ]
  },
  {
   "cell_type": "code",
   "execution_count": null,
   "id": "68e4e181-c4e6-45b3-b3e0-c51c4542ec0f",
   "metadata": {
    "tags": []
   },
   "outputs": [],
   "source": [
    "misp.untag(ir_findings[\"event\"].uuid, \"workflow:state=\\\"incomplete\\\"\")\n",
    "misp.untag(ir_findings[\"event\"].uuid, \"workflow:todo=\\\"preserve-evidence\\\"\")\n",
    "misp.tag(ir_findings[\"event\"].uuid, \"workflow:state=\\\"complete\\\"\", True)\n",
    "print(misp.publish(ir_findings[\"event\"].uuid))\n",
    "print(\"Event \\033[92mpublished\\033[90m\")"
   ]
  },
  {
   "cell_type": "markdown",
   "id": "53470cac-fc4f-4cad-b042-776e5ed51dc6",
   "metadata": {},
   "source": [
    "## Closure\n",
    "\n",
    "### External references\n",
    "\n",
    "- [MISP playbooks](https://github.com/MISP/misp-playbooks)\n",
    "- [MISP](https://www.misp-project.org/)\n",
    "- [PyMISP](https://github.com/MISP/PyMISP)\n",
    "- [MISP modules](https://github.com/MISP/misp-modules)\n",
    "- [Hashlookup](https://www.circl.lu/services/hashlookup/)"
   ]
  },
  {
   "cell_type": "code",
   "execution_count": null,
   "id": "6e47d266-5244-45aa-97e7-24a94e34cb7e",
   "metadata": {},
   "outputs": [],
   "source": []
  }
 ],
 "metadata": {
  "kernelspec": {
   "display_name": "Python 3 (ipykernel)",
   "language": "python",
   "name": "python3"
  },
  "language_info": {
   "codemirror_mode": {
    "name": "ipython",
    "version": 3
   },
   "file_extension": ".py",
   "mimetype": "text/x-python",
   "name": "python",
   "nbconvert_exporter": "python",
   "pygments_lexer": "ipython3",
   "version": "3.8.10"
  },
  "toc-autonumbering": true,
  "toc-showmarkdowntxt": false
 },
 "nbformat": 4,
 "nbformat_minor": 5
}
