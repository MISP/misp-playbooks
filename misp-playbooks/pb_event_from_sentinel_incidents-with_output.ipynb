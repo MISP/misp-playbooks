{
 "cells": [
  {
   "cell_type": "markdown",
   "id": "ca1fbfb5",
   "metadata": {
    "tags": [
     "playbook-introduction"
    ]
   },
   "source": [
    "# Create a MISP event from Microsoft Sentinel security incidents\n",
    "\n",
    "## Introduction\n",
    "\n",
    "- UUID: **00ba33ee-1402-4669-ad0b-fef256a36870**\n",
    "- Started from [issue 34](https://github.com/MISP/misp-playbooks/issues/34)\n",
    "- State: **Published** : demo version with **output**\n",
    "- Purpose: This playbook extracts information from Microsoft Sentinel security incidents, parses the associated alerts and entities, and extracts useful indicators. A new MISP event is created with the incident summary, and the indicators are added to the MISP event. Sightings are also added to the indicators. At the end of the playbook, a summary is displayed and shared via Mattermost. The playbook uses credentials (tokens) obtained through an Azure App. Additionally, it includes a section on uploading custom logs to Sentinel, which was used during development and can be relevant for other purposes.\n",
    "- Tags: [ \"sentinel\", \"siem\", \"monitoring\", \"detection\", \"microsoft\"]\n",
    "- External resources: **Mattermost**, **Sentinel**\n",
    "- Target audience: **CTI**, **CSIRT**, **SOC**\n",
    "\n",
    "[![](https://mermaid.ink/img/pako:eNp9VMGOozAM_ZUoUi9V-QEOK43UPVSa7q6GuTUrTQoGog0JSsyuqop_35jSQBk6nBK_Z_vZDr7y3BbAU54kiTCoUEPKjofsF2u1vJyt_SPMAG02V2UUpuwqeKntv7yWDgUf7jU2-lWeQXsylFJ76HvWbzbCRCp7fROGhe-ocme9LTGDkM-APt0Pv4W5UXx3rpxsaxYp0YnNyERVJldFMBWAUml_Ooz3EZYaXMRe6OJHhMKgAn8Hv4_3CBdP5LIkYXtAyFFZw1yngaFTVQXOB-jbUtGqzIE41zYYFpJGIX-D-TRMZDjGJi3YJOsFg5Jzh8Aa2bbKVKOgQuUS7ahviHIPstDAsq5ppLtMRAetDXN-UsTX_BWFz_mzam-2Wc3sZplKn1jzkghaPCCKcQuUW-dASxpanDG5ze3zlCv8EqD4TP-ZHX68D9hqDnpHs3ST3jmZLRnLVA8xHjyJ7W9dXVf5mbFs3wO4eC0Ruzd2ml8jEcE11uMDdhL8Y688rY9IVyaukw_Bx9ZM_uRCvxczFlVJ6enXQsu222Mkbbfkyne8CXepirCzrhRIcKyhAdo8ghdQyk6HvSRMH6iyQ5tdTM5TdB3suLNdVfN02FA73rWFRNgrGd5KM1r7_6FdxPI?type=png)](https://mermaid.live/edit#pako:eNp9VMGOozAM_ZUoUi9V-QEOK43UPVSa7q6GuTUrTQoGog0JSsyuqop_35jSQBk6nBK_Z_vZDr7y3BbAU54kiTCoUEPKjofsF2u1vJyt_SPMAG02V2UUpuwqeKntv7yWDgUf7jU2-lWeQXsylFJ76HvWbzbCRCp7fROGhe-ocme9LTGDkM-APt0Pv4W5UXx3rpxsaxYp0YnNyERVJldFMBWAUml_Ooz3EZYaXMRe6OJHhMKgAn8Hv4_3CBdP5LIkYXtAyFFZw1yngaFTVQXOB-jbUtGqzIE41zYYFpJGIX-D-TRMZDjGJi3YJOsFg5Jzh8Aa2bbKVKOgQuUS7ahviHIPstDAsq5ppLtMRAetDXN-UsTX_BWFz_mzam-2Wc3sZplKn1jzkghaPCCKcQuUW-dASxpanDG5ze3zlCv8EqD4TP-ZHX68D9hqDnpHs3ST3jmZLRnLVA8xHjyJ7W9dXVf5mbFs3wO4eC0Ruzd2ml8jEcE11uMDdhL8Y688rY9IVyaukw_Bx9ZM_uRCvxczFlVJ6enXQsu222Mkbbfkyne8CXepirCzrhRIcKyhAdo8ghdQyk6HvSRMH6iyQ5tdTM5TdB3suLNdVfN02FA73rWFRNgrGd5KM1r7_6FdxPI)"
   ]
  },
  {
   "cell_type": "raw",
   "id": "d5aa1137-6000-4553-a65d-841b149ae521",
   "metadata": {
    "tags": []
   },
   "source": [
    "---\n",
    "title: MISP playbook\n",
    "---\n",
    "%%{init: {\"flowchart\": {\"htmlLabels\": false}} }%%\n",
    "flowchart LR\n",
    "    MicrosoftSentinel[Sentinel]\n",
    "\n",
    "    subgraph Sentinel[Microsoft Sentinel]\n",
    "    incidentdetails[Incident]\n",
    "    alertdetails[Alerts]\n",
    "    entitiesdetails[Entities]\n",
    "    end\n",
    "    MicrosoftSentinel -- Detection rule triggers --> incidentdetails\n",
    "    incidentdetails --> alertdetails --> entitiesdetails\n",
    "    event[MISP event]\n",
    "\n",
    "    entitiesdetails -- Attribute mapping --> indicators --> event\n",
    "\n",
    "    alertdetails -- Summary --> eventreport\n",
    "    incidentdetails -- Summary --> eventreport\n",
    "    entitiesdetails -- Summary --> eventreport\n",
    " \n",
    "    eventreport[MISP event report]\n",
    "\n",
    "    eventreport --> event\n",
    "    \n",
    "    subgraph MISP[MISP correlations]\n",
    "    eventcorrelations[MISP event correlations]\n",
    "    feedcorrelations[MISP OSINT feed correlations]\n",
    "    end\n",
    "\n",
    "    event --> eventcorrelations \n",
    "    event --> feedcorrelations\n",
    "\n",
    "    eventcorrelations --> summary\n",
    "    feedcorrelations --> summary\n",
    "    eventreport --> summary\n",
    "    indicators --> summary\n",
    "\n",
    "    summary --> mattermost\n",
    "    summary[\"`Display summary in playbook`\"]\n",
    "    mattermost[\"`Sent notification to **Mattermost**`\"]"
   ]
  },
  {
   "cell_type": "markdown",
   "id": "a512a2c1",
   "metadata": {
    "jp-MarkdownHeadingCollapsed": true,
    "tags": []
   },
   "source": [
    "# Playbook\n",
    "\n",
    "- **Create a MISP event from Microsoft Sentinel security incidents**\n",
    "    - Introduction\n",
    "- **Preparation**\n",
    "    - PR:1 Initialise environment\n",
    "    - PR:2 Set helper variables\n",
    "    - PR:3 Microsoft Sentinel\n",
    "    - PR:4 MISP2Sentinel\n",
    "    - PR:5 Azure App\n",
    "    - PR:6 Microsoft Azure SDK\n",
    "- **Sentinel**\n",
    "    - SE:1 Sentinel incident details\n",
    "    - SE:2 Sentinel alert and entity details\n",
    "- **MISP**\n",
    "    - MI:1 Create MISP event\n",
    "    - MI:2 Add the MISP attributes\n",
    "    - MI:3 Add MISP report\n",
    "    - MI:4 Add sightings\n",
    "- **Correlation**\n",
    "    - CR:1 Correlation with MISP events\n",
    "    - CR:2 Correlation with MISP feeds\n",
    "- **Closure**\n",
    "    - EN:1 Create the summary of the playbook \n",
    "    - EN:2 Print the summary\n",
    "    - EN:3 Send a summary to Mattermost\n",
    "    - EN:4 End of the playbook \n",
    "- **Extra section**\n",
    "    - EX:1 Import logs into Sentinel\n",
    "    - EX:2 Detection rules\n",
    "- External references\n",
    "- Technical details"
   ]
  },
  {
   "cell_type": "markdown",
   "id": "8dc24913",
   "metadata": {
    "tags": []
   },
   "source": [
    "# Preparation\n",
    "\n",
    "## PR:1 Initialise environment\n",
    "\n",
    "This section **initialises the playbook environment** and loads the required Python libraries. \n",
    "\n",
    "The credentials for MISP (**API key**) and other services are loaded from the file `keys.py` in the directory **vault**. A [PyMISP](https://github.com/MISP/PyMISP) object is created to interact with MISP and the active MISP server is displayed. By printing out the server name you know that it's possible to connect to MISP. In case of a problem PyMISP will indicate the error with `PyMISPError: Unable to connect to MISP`.\n",
    "\n",
    "The contents of the `keys.py` file should contain at least :\n",
    "\n",
    "```\n",
    "misp_url=\"<MISP URL>\"                  # The URL to our MISP server\n",
    "misp_key=\"<MISP API KEY>\"              # The MISP API key\n",
    "misp_verifycert=<True or False>        # Ignore certificate errors\n",
    "mattermost_playbook_user=\"<MATTERMOST USER>\"\n",
    "mattermost_hook=\"<MATTERMOST WEBHOOK>\"\n",
    "\n",
    "tenant_id = \"<AZURE_TENANT>\"      # Azure Tenant ID\n",
    "client_id = \"<CLIENT_ID>\"         # Azure App client id\n",
    "client_secret = \"<CLIENT_SECRET>\" # Azure App secret\n",
    "workspace_id = \"<WORKSPACE_ID>\"   # Log Analytics workspace\n",
    "```"
   ]
  },
  {
   "cell_type": "code",
   "execution_count": 2,
   "id": "5f94c336",
   "metadata": {
    "tags": []
   },
   "outputs": [
    {
     "name": "stdout",
     "output_type": "stream",
     "text": [
      "The \u001b[92mPython libraries\u001b[90m are loaded and the \u001b[92mcredentials\u001b[90m are read from the keys file.\n",
      "I will use the MISP server \u001b[92mhttps://misp.demo.cudeso.be/\u001b[90m for this playbook.\n",
      "Created \u001b[92mAzure Credential\u001b[90m object.\n"
     ]
    }
   ],
   "source": [
    "# Initialise Python environment\n",
    "import urllib3\n",
    "import sys\n",
    "import json\n",
    "from pyfaup.faup import Faup\n",
    "from prettytable import PrettyTable, MARKDOWN\n",
    "from IPython.display import Image, display, display_markdown, HTML\n",
    "from datetime import date\n",
    "import requests\n",
    "import uuid\n",
    "from uuid import uuid4\n",
    "from pymisp import *\n",
    "from pymisp.tools import GenericObjectGenerator\n",
    "\n",
    "import re\n",
    "import time\n",
    "from datetime import datetime\n",
    "\n",
    "import copy\n",
    "\n",
    "from azure.identity import ClientSecretCredential\n",
    "import ast\n",
    "\n",
    "# Load the credentials\n",
    "sys.path.insert(0, \"../vault/\")\n",
    "from keys import *\n",
    "if misp_verifycert is False:\n",
    "    import urllib3\n",
    "    urllib3.disable_warnings(urllib3.exceptions.InsecureRequestWarning)\n",
    "print(\"The \\033[92mPython libraries\\033[90m are loaded and the \\033[92mcredentials\\033[90m are read from the keys file.\")\n",
    "\n",
    "# Create the PyMISP object\n",
    "misp = PyMISP(misp_url, misp_key, misp_verifycert)\n",
    "misp_headers = {\"Authorization\": misp_key,  \"Content-Type\": \"application/json\", \"Accept\": \"application/json\"}\n",
    "print(\"I will use the MISP server \\033[92m{}\\033[90m for this playbook.\".format(misp_url))\n",
    "\n",
    "azure_credential = ClientSecretCredential(tenant_id, client_id, client_secret)\n",
    "print(\"Created \\033[92mAzure Credential\\033[90m object.\")"
   ]
  },
  {
   "cell_type": "markdown",
   "id": "36d28445-dfa1-47ae-942e-16adb2111cc0",
   "metadata": {},
   "source": [
    "## PR:2 Set helper variables\n",
    "\n",
    "This cell contains **helper variables** that are used in this playbook. Their usage is explained in the next steps of the playbook.\n",
    "\n",
    "- `playbook_config` : the configuration of the playbook\n",
    "- `playbook_results` : the results of the playbook"
   ]
  },
  {
   "cell_type": "code",
   "execution_count": 3,
   "id": "aa5409f6-d042-410f-9dc7-51500aae61c3",
   "metadata": {
    "tags": []
   },
   "outputs": [],
   "source": [
    "playbook_config = {\n",
    "    \"sentinel_entity_type_map\": {\n",
    "        \"host\": [\"HostName\", \"hostname\"],\n",
    "        \"ip\": [\"Address\", \"ip-dst\"],\n",
    "        \"url\": [\"Url\", \"url\"],\n",
    "        \"dns\": [\"DomainName\", \"hostname\"],\n",
    "        \"filehash\": [\"Value\", \"sha256\"],\n",
    "    },\n",
    "    \"azure_token_scope\": \"https://api.loganalytics.io/.default\",\n",
    "    \"azure_query_url\": \"https://api.loganalytics.io/v1/workspaces/\",\n",
    "    \"correlation_published\": True,\n",
    "    \"correlation_limit\": 1000,\n",
    "}\n",
    "\n",
    "playbook_results = {\n",
    "    \"SecurityIncidents\": {},\n",
    "    \"SecurityIncident_summary\": {},\n",
    "    \"SecurityAlerts\": [],\n",
    "    \"event\": False,\n",
    "    \"indicators\": {},\n",
    "    \"related_feeds\": [],\n",
    "    \"related_events\": [],\n",
    "}\n"
   ]
  },
  {
   "cell_type": "markdown",
   "id": "831f9fe9-c5fb-4132-9011-b17b9d2c932e",
   "metadata": {},
   "source": [
    "## PR:3 Microsoft Sentinel\n",
    "\n",
    "Microsoft [Sentinel](https://learn.microsoft.com/en-us/azure/sentinel/overview?tabs=azure-portal) is a cloud-native security information and event management (SIEM) system. In Sentinel, **incidents** are collections of related alerts representing a potential security breach or threat. **Alerts** are individual notifications generated by detection rules or analytics that indicate possible security issues, such as suspicious activity or policy violations. **Entities** are the objects or elements involved in the alerts and incidents, such as users, IP addresses, hosts, files, or processes, providing context and details needed for investigation and response.\n",
    "\n",
    "In this playbook, we use the entities associated with alerts and incidents to generate MISP events. The alerts can potentially be triggered by **threat intelligence** coming from your MISP server.\n",
    "\n",
    "## PR:4 MISP2Sentinel\n",
    "\n",
    "The MISP to Sentinel integration allows you to upload indicators from MISP to Microsoft Sentinel. It relies on PyMISP to get indicators from MISP and an **Azure App** with a Threat Intelligence Data Connector in Azure.\n",
    "\n",
    "The integration is available on GitHub at [MISP2Sentinel](https://github.com/cudeso/misp2sentinel).\n",
    "\n",
    "## PR:5 Azure App\n",
    "\n",
    "For this playbook, you can either use the Azure App you're using for sending threat indicators from MISP to Microsoft Sentinel, or you can set up a new app with the proper permissions. The steps and requirements to achieve this are documented in the [installation](https://github.com/cudeso/misp2sentinel?tab=readme-ov-file#azure) section of MISP2Sentinel.\n",
    "\n",
    "## PR:6 Microsoft Azure SDK\n",
    "\n",
    "We do not use the Microsoft [Azure SDK](https://pypi.org/project/azure-mgmt-securityinsight/) for Python (such as `SecurityInsights`), simply because the SDK does not support querying the incident and alert *entities*. To work around this shortcoming, the playbook executes **KQL queries** to obtain the same information and then parses the returned results."
   ]
  },
  {
   "cell_type": "markdown",
   "id": "a1bb07f8-ab79-449b-9270-0d57442f6e72",
   "metadata": {},
   "source": [
    "# Sentinel\n",
    "\n",
    "This playbook section interacts with **Microsoft Sentinel**, via the credentials obtained from the Azure App.\n",
    "\n",
    "## SE:1 Sentinel incident details\n",
    "\n",
    "The first step in the playbook is to query the Sentinel incident details (**SecurityIncident**). Define the Sentinel incident ID (or IDs) in `sentinel_incidents`. You can supply one ID or multiple as a list. This is the **incident number** (internally stored in the field `IncidentNumber` in table `SecurityIncident`) displayed in the Azure interface and not the incident name, which is in the incident URL (and internally stored in `IncidentName`). \n",
    "\n",
    "This KQL is executed to obtain the incident information:\n",
    "```kql\n",
    "SecurityIncident \n",
    "| where IncidentNumber == {sentinel_incident_number}\n",
    "| sort by TimeGenerated desc\n",
    "| top 1 by TimeGenerated\n",
    "| project Title, Severity, Status, Classification, CreatedTime, AlertIds, IncidentUrl, Type, Comments, AdditionalData\n",
    "```"
   ]
  },
  {
   "cell_type": "code",
   "execution_count": 4,
   "id": "8ae4aa14-37cf-4195-a84a-361c7dbb669c",
   "metadata": {
    "tags": []
   },
   "outputs": [
    {
     "name": "stdout",
     "output_type": "stream",
     "text": [
      "Obtained a token.\n",
      "Query \u001b[92mhttps://api.loganalytics.io/v1/workspaces/54456550-09a3-4547-b8e2-548f4e5d575c/query\u001b[90m\n",
      "Work with sentinel_incident_number: 266\n",
      " Found security incident \u001b[92mTI alert cudeso\u001b[90m\n",
      "Work with sentinel_incident_number: 267\n",
      " Found security incident \u001b[92mTI alert cudeso\u001b[90m\n",
      "Work with sentinel_incident_number: 268\n",
      " Found security incident \u001b[92mTI alert cudeso\u001b[90m\n"
     ]
    }
   ],
   "source": [
    "# Sentinel incident\n",
    "sentinel_incidents = [266,267,268]\n",
    "\n",
    "# Always make sure sentinel_incidents is a list\n",
    "if not isinstance(sentinel_incidents, list):\n",
    "    sentinel_incidents = [sentinel_incidents]\n",
    "    \n",
    "# Query URL\n",
    "query_url = \"{}{}/query\".format(playbook_config[\"azure_query_url\"], workspace_id)\n",
    "\n",
    "# Get an Azure token\n",
    "valid_azure_token = False\n",
    "try:\n",
    "    azure_token = azure_credential.get_token(playbook_config[\"azure_token_scope\"]).token\n",
    "    azure_headers = {\n",
    "        \"Authorization\": f\"Bearer {azure_token}\",\n",
    "        \"Content-Type\": \"application/json\"\n",
    "    }\n",
    "    print(\"Obtained a token.\")\n",
    "    valid_azure_token = True\n",
    "except Exception as e:\n",
    "    print(\"Unable to get a \\033[91mtoken\\033[90m\", str(e))\n",
    "\n",
    "if valid_azure_token:\n",
    "    print(\"Query \\033[92m{}\\033[90m\".format(query_url))\n",
    "\n",
    "    for sentinel_incident_number in sentinel_incidents:\n",
    "        print(\"Work with sentinel_incident_number: {}\".format(sentinel_incident_number))\n",
    "        # KQL\n",
    "        query = f\"\"\"\n",
    "        SecurityIncident \n",
    "        | where IncidentNumber == {sentinel_incident_number}\n",
    "        | sort by TimeGenerated desc\n",
    "        | top 1 by TimeGenerated\n",
    "        | project Title, Severity, Status, Classification, CreatedTime, AlertIds, IncidentUrl, Type, Comments, AdditionalData\n",
    "        \"\"\"\n",
    "\n",
    "        # Query Sentinel\n",
    "        response = requests.post(query_url, headers=azure_headers, json={\"query\": query})\n",
    "        if \"tables\" in response.json() and len(response.json()[\"tables\"][0][\"rows\"]) == 1:\n",
    "            row = response.json()[\"tables\"][0][\"rows\"][0]\n",
    "\n",
    "            # Extract comments\n",
    "            comments = json.loads(row[8])\n",
    "            extracted_comments = [\n",
    "                {\"message\": comment[\"message\"], \"author\": comment[\"author\"][\"name\"]}\n",
    "                for comment in comments\n",
    "            ]\n",
    "\n",
    "            # Extract tactics\n",
    "            additional_data = ast.literal_eval(row[9])\n",
    "            tactics = []\n",
    "            if \"tactics\" in additional_data:\n",
    "                tactics = additional_data[\"tactics\"]\n",
    "\n",
    "            # Add to SecurityIncident\n",
    "            SecurityIncident = {\n",
    "                \"Title\": row[0],\n",
    "                \"Severity\": row[1],\n",
    "                \"Status\": row[2],\n",
    "                \"Classification\": row[3],\n",
    "                \"CreatedTime\": row[4],\n",
    "                \"AlertIds\": ast.literal_eval(row[5]),\n",
    "                \"IncidentUrl\": row[6],\n",
    "                \"Type\": row[7],\n",
    "                \"Comments\": extracted_comments,\n",
    "                \"Tactics\": tactics,\n",
    "                \"Number\": sentinel_incident_number\n",
    "            }\n",
    "            playbook_results[\"SecurityIncidents\"][sentinel_incident_number] = SecurityIncident\n",
    "            print(\" Found security incident \\033[92m{}\\033[90m\".format(playbook_results[\"SecurityIncidents\"][sentinel_incident_number][\"Title\"]))\n",
    "\n",
    "            incident_summary = \"### Sentinel incident {}\\n\".format(sentinel_incident_number)\n",
    "            incident_summary += \"- Title: **{}**\\n\".format(playbook_results[\"SecurityIncidents\"][sentinel_incident_number][\"Title\"])\n",
    "            incident_summary += \"- Status: **{}**\\n\".format(playbook_results[\"SecurityIncidents\"][sentinel_incident_number][\"Status\"])\n",
    "            incident_summary += \"- Severity: **{}**\\n\".format(playbook_results[\"SecurityIncidents\"][sentinel_incident_number][\"Severity\"])\n",
    "            if playbook_results[\"SecurityIncidents\"][sentinel_incident_number][\"Classification\"].strip():\n",
    "                incident_summary += \"- Classification: **{}**\\n\".format(\n",
    "                    playbook_results[\"SecurityIncidents\"][sentinel_incident_number][\"Classification\"]\n",
    "                )\n",
    "            incident_summary += \"- Type: **{}**\\n\".format(\n",
    "                playbook_results[\"SecurityIncidents\"][sentinel_incident_number][\"Type\"]\n",
    "            )\n",
    "            if playbook_results[\"SecurityIncidents\"][sentinel_incident_number][\"Tactics\"]:\n",
    "                incident_summary += \"- Tactics: \"\n",
    "                for tactic in playbook_results[\"SecurityIncidents\"][sentinel_incident_number][\"Tactics\"]:\n",
    "                    incident_summary += \"**{}** \".format(tactic)\n",
    "                incident_summary += \"\\n\"\n",
    "            if playbook_results[\"SecurityIncidents\"][sentinel_incident_number][\"Comments\"]:\n",
    "                incident_summary += \"- Comments:\\n\"\n",
    "                for comment in playbook_results[\"SecurityIncidents\"][sentinel_incident_number][\"Comments\"]:\n",
    "                    incident_summary += \"  - **{}** by {}\\n\".format(\n",
    "                        comment[\"message\"], comment[\"author\"]\n",
    "                    )\n",
    "            incident_summary += \"- Created: **{}**\\n\".format(\n",
    "                playbook_results[\"SecurityIncidents\"][sentinel_incident_number][\"CreatedTime\"]\n",
    "            )\n",
    "            incident_summary += \"- Sentinel URL: {}\\n\".format(\n",
    "                playbook_results[\"SecurityIncidents\"][sentinel_incident_number][\"IncidentUrl\"]\n",
    "            )\n",
    "            incident_summary += \"\\n\\n\"\n",
    "            playbook_results[\"SecurityIncidents\"][sentinel_incident_number][\"summary\"] = incident_summary\n",
    "        else:\n",
    "            print(\"Unable to \\033[91mextract incident information\\033[90m from response\")\n",
    "else:\n",
    "    print(\"Unable to continue without a valid \\033[91mtoken\\033[90m\")\n"
   ]
  },
  {
   "cell_type": "markdown",
   "id": "654f57eb-5de4-4a02-b016-cfedca6ed57e",
   "metadata": {},
   "source": [
    "## SE:2 Sentinel alert and entity details\n",
    "\n",
    "In this section, we query Sentinel to obtain details of all related alerts (**SecurityAlert**). The list of alert IDs was returned in the previous result. The playbook fetches the details of each alert, extracts the entities, and checks if any of these entities can be mapped to MISP attributes.\n",
    "\n",
    "The KQL query to get the alert details is as follows:\n",
    "\n",
    "```kql\n",
    "SecurityAlert\n",
    "| where SystemAlertId == '{alert_id}'\n",
    "| project SystemAlertId, AlertName, Entities\n",
    "```\n",
    "\n",
    "This mapping of entities to MISP attributes is done using `playbook_config[\"sentinel_entity_type_map\"]`. This dictionary contains the Sentinel entity types as keys. The corresponding values are lists with the first element being the key to retrieve the entity value, and the second element being the MISP attribute type. For example, `\"host\": [\"HostName\", \"hostname\"]`. Here, `host` is the Sentinel entity type, `HostName` is how the value is retrieved from the entity, and `hostname` is the MISP attribute type. The playbook includes a default set of MISP attributes, but you can also add your own."
   ]
  },
  {
   "cell_type": "code",
   "execution_count": 5,
   "id": "75977253-1cdf-4c0f-8d2e-c07086ce10b6",
   "metadata": {
    "tags": []
   },
   "outputs": [
    {
     "name": "stdout",
     "output_type": "stream",
     "text": [
      "Processing alert and entity details.\n",
      "Query \u001b[92mhttps://api.loganalytics.io/v1/workspaces/54456550-09a3-4547-b8e2-548f4e5d575c/query\u001b[90m\n",
      " Query for alert id \u001b[92m680dee3d-9b30-11c3-c663-68cbd8881873\u001b[90m\n",
      " Found alert \u001b[92mTI alert cudeso\u001b[90m\n",
      "  Found entity type \u001b[92mhost\u001b[90m\n",
      "   Extracted indicator from HostName DC1\n",
      "  Found entity type \u001b[92mip\u001b[90m\n",
      "   Extracted indicator from Address 185.195.237.123\n",
      "  Found entity type \u001b[92mfilehash\u001b[90m\n",
      "   Extracted indicator from Value b708dd11942c3e87a8987bdf83f7ea603425ae75fc25a306f54f1087df4198b4\n",
      "  Found entity type \u001b[92murl\u001b[90m\n",
      "   Extracted indicator from Url https://message.ooguy.com\n",
      "  Found entity type \u001b[92mdns\u001b[90m\n",
      "   Extracted indicator from DomainName message.ooguy.com\n",
      " Finished query\n",
      " Query for alert id \u001b[92m0cf32c7a-256a-f66a-9a6e-82b02a365904\u001b[90m\n",
      " Found alert \u001b[92mTI alert cudeso\u001b[90m\n",
      "  Found entity type \u001b[92mhost\u001b[90m\n",
      "   Skip value DC1 because it's already in indicator list\n",
      "  Found entity type \u001b[92mip\u001b[90m\n",
      "   Extracted indicator from Address 191.96.53.132\n",
      "  Found entity type \u001b[92mfilehash\u001b[90m\n",
      "   Extracted indicator from Value f830c3771d35237b4a63b946d7a0d187f5aaa4240e965d74070b7d72b6fba210\n",
      "  Found entity type \u001b[92murl\u001b[90m\n",
      "   Extracted indicator from Url https://dmsz.org\n",
      "  Found entity type \u001b[92mdns\u001b[90m\n",
      "   Extracted indicator from DomainName dmsz.org\n",
      " Finished query\n",
      " Query for alert id \u001b[92m6ee5bea1-4ae9-239f-86b4-6a3def39db8c\u001b[90m\n",
      " Found alert \u001b[92mTI alert cudeso\u001b[90m\n",
      "  Found entity type \u001b[92mhost\u001b[90m\n",
      "   Extracted indicator from HostName BACKUP1\n",
      "  Found entity type \u001b[92mip\u001b[90m\n",
      "   Extracted indicator from Address 45.9.191.183\n",
      "  Found entity type \u001b[92mfilehash\u001b[90m\n",
      "   Extracted indicator from Value 776d427a19d8389464f855b2f70e0ac11e896162a9f9b50bcb23f0f0aea5044f\n",
      "  Found entity type \u001b[92murl\u001b[90m\n",
      "   Extracted indicator from Url https://cloud.keepasses.com\n",
      "  Found entity type \u001b[92mdns\u001b[90m\n",
      "   Extracted indicator from DomainName cloud.keepasses.com\n",
      " Finished query\n",
      "Finished\n"
     ]
    }
   ],
   "source": [
    "print(\"Processing alert and entity details.\")\n",
    "print(\"Query \\033[92m{}\\033[90m\".format(query_url))\n",
    "\n",
    "for sentinel_incident_number in sentinel_incidents:\n",
    "    alert_count = 0\n",
    "    alert_summary = \"\"\n",
    "    if playbook_results[\"SecurityIncidents\"][sentinel_incident_number] and len(playbook_results[\"SecurityIncidents\"][sentinel_incident_number][\"AlertIds\"]) > 0:\n",
    "        playbook_results[\"SecurityIncidents\"][sentinel_incident_number][\"SecurityAlerts\"] = []\n",
    "        for alert_id in playbook_results[\"SecurityIncidents\"][sentinel_incident_number][\"AlertIds\"]:\n",
    "            query = f\"\"\"\n",
    "                SecurityAlert\n",
    "                | where SystemAlertId == '{alert_id}'\n",
    "                | project SystemAlertId, AlertName, Entities\n",
    "                \"\"\"\n",
    "            print(\" Query for alert id \\033[92m{}\\033[90m\".format(alert_id))\n",
    "            response = requests.post(query_url, headers=azure_headers, json={\"query\": query})\n",
    "            if \"tables\" in response.json() and len(response.json()[\"tables\"][0][\"rows\"]) == 1:\n",
    "                alert_count += 1\n",
    "                row = response.json()[\"tables\"][0][\"rows\"][0]\n",
    "                alert = {\"SystemAlertId\": row[0], \"AlertName\": row[1], \"Entities\": row[2]}\n",
    "                print(\" Found alert \\033[92m{}\\033[90m\".format(alert[\"AlertName\"]))\n",
    "                playbook_results[\"SecurityIncidents\"][sentinel_incident_number][\"SecurityAlerts\"].append(alert)\n",
    "                alert_summary += \"- Alert: **{}**\\n\".format(alert[\"AlertName\"])\n",
    "\n",
    "                for entity in ast.literal_eval(alert[\"Entities\"]):\n",
    "                    entity_type = entity.get(\"Type\")                \n",
    "                    print(\"  Found entity type \\033[92m{}\\033[90m\".format(entity_type))\n",
    "                    if entity_type in playbook_config[\"sentinel_entity_type_map\"]:\n",
    "                        key = playbook_config[\"sentinel_entity_type_map\"][entity_type][0]\n",
    "                        value = entity.get(key)\n",
    "                        if value not in playbook_results[\"indicators\"]:\n",
    "                            indicator = {\"misp-attribute-type\": playbook_config[\"sentinel_entity_type_map\"][entity_type][1],\n",
    "                                         \"value\": value,\n",
    "                                         \"alert\": alert[\"AlertName\"],\n",
    "                                         \"incident\": sentinel_incident_number}\n",
    "                            print(\"   Extracted indicator from {} {}\".format(key, value))\n",
    "                            playbook_results[\"indicators\"][value] = indicator\n",
    "                            alert_summary += \"  - Entity: **{}**, transformed to **{}** {} \\n\".format(entity_type, value, indicator[\"misp-attribute-type\"])\n",
    "                        else:\n",
    "                            print(\"   Skip value {} because it's already in indicator list\".format(value))\n",
    "                    else:\n",
    "                        print(\"   Skip because {} - {} is not part of sentinel_entity_type_map\".format(entity_type, entity))\n",
    "                        alert_summary += \"  - Entity: **{}** \\n\".format(entity_type)\n",
    "        alert_summary = \"#### Alerts\\n Found **{}** alert(s) with below details.\\n{}\".format(alert_count, alert_summary)\n",
    "        playbook_results[\"SecurityIncidents\"][sentinel_incident_number][\"alert_summary\"] = alert_summary\n",
    "        print(\" Finished query\")\n",
    "    else:\n",
    "        print(\"No security incident information obtained\")\n",
    "print(\"Finished\")"
   ]
  },
  {
   "cell_type": "markdown",
   "id": "f1f731ed-8809-45ac-b22a-8468f66d64a6",
   "metadata": {},
   "source": [
    "# MISP\n",
    "\n",
    "This playbook section interacts with MISP."
   ]
  },
  {
   "cell_type": "markdown",
   "id": "749b5560-91ec-470e-b5de-91e4c50a316d",
   "metadata": {},
   "source": [
    "## MI:1 Create MISP event\n",
    "\n",
    "The next cell **creates the MISP event** and stores the reference (UUID) to the event in the variable `playbook_results[\"event\"]`. Note that instead of creating a new event, you can also reference an existing MISP event (with its UUID, and in this case, also update the eventid with the Event ID). "
   ]
  },
  {
   "cell_type": "code",
   "execution_count": 6,
   "id": "583a9944-cb3d-4c95-a1d9-7e1d4df5142d",
   "metadata": {
    "tags": []
   },
   "outputs": [
    {
     "name": "stdout",
     "output_type": "stream",
     "text": [
      "Continue the playbook with the new MISP event ID \u001b[92m3501\u001b[90m with title \u001b[92mInvestigation Sentinel 266, 267, 268\u001b[90m and UUID \u001b[92m682a0968-3512-44de-8c7b-cfe15049345a\u001b[90m.\n"
     ]
    }
   ],
   "source": [
    "# Create the PyMISP object for an event\n",
    "sentinel_incident_title = ', '.join(map(str, sentinel_incidents))\n",
    "event_title = \"Investigation Sentinel {}\".format(sentinel_incident_title)\n",
    "event = MISPEvent()\n",
    "event.info = event_title\n",
    "event.distribution = Distribution.your_organisation_only\n",
    "event.threat_level_id = ThreatLevel.low\n",
    "event.analysis = Analysis.ongoing\n",
    "event.set_date(date.today())\n",
    "\n",
    "# Create the MISP event on the server side\n",
    "misp_event = misp.add_event(event, pythonify=True)\n",
    "playbook_results[\"event\"] = misp_event.uuid\n",
    "playbook_results[\"eventid\"] = misp_event.id\n",
    "\n",
    "# Add default tags for the event\n",
    "misp.tag(playbook_results[\"event\"], \"tlp:amber\")\n",
    "misp.tag(playbook_results[\"event\"], \"event-classification:event-class=\\\"incident\\\"\")\n",
    "misp.tag(playbook_results[\"event\"], \"workflow:state=\\\"incomplete\\\"\", local=True)\n",
    "\n",
    "print(\"Continue the playbook with the new MISP event ID \\033[92m{}\\033[90m with title \\033[92m{}\\033[90m and UUID \\033[92m{}\\033[90m.\".format(misp_event.id, misp_event.info, playbook_results[\"event\"]))"
   ]
  },
  {
   "cell_type": "markdown",
   "id": "5dda7bd5-0813-49cd-8e01-2f3d45cc4075",
   "metadata": {},
   "source": [
    "## MI:2 Add the MISP attributes\n",
    "\n",
    "After creating the MISP event, the attributes extracted from the entities are added to MISP. By default, detection is enabled (`to_ids` is set to True), and a comment referencing the Sentinel incident is added. The playbook also includes a link to the Sentinel incident, as well as a comment attribute with the Sentinel incident ID. The latter can be useful for future **correlation** purposes."
   ]
  },
  {
   "cell_type": "code",
   "execution_count": 7,
   "id": "4c51954c-835f-40c2-aea8-27c714e3f1c1",
   "metadata": {
    "tags": []
   },
   "outputs": [
    {
     "name": "stdout",
     "output_type": "stream",
     "text": [
      "Adding attributes to the MISP event.\n"
     ]
    },
    {
     "name": "stderr",
     "output_type": "stream",
     "text": [
      "Something went wrong (403): {'saved': False, 'name': 'Could not add Attribute', 'message': 'Could not add Attribute', 'url': '/attributes/add', 'errors': {'value': ['Hostname has an invalid format. Please double check the value or select type \"other\".']}}\n"
     ]
    },
    {
     "name": "stdout",
     "output_type": "stream",
     "text": [
      " Failed to add attribute DC1 of type hostname - {'errors': (403, {'saved': False, 'name': 'Could not add Attribute', 'message': 'Could not add Attribute', 'url': '/attributes/add', 'errors': {'value': ['Hostname has an invalid format. Please double check the value or select type \"other\".']}})}\n",
      " Added attribute 185.195.237.123 of type ip-dst\n",
      " Added attribute b708dd11942c3e87a8987bdf83f7ea603425ae75fc25a306f54f1087df4198b4 of type sha256\n",
      " Added attribute https://message.ooguy.com of type url\n",
      " Added attribute message.ooguy.com of type hostname\n",
      " Added attribute 191.96.53.132 of type ip-dst\n",
      " Added attribute f830c3771d35237b4a63b946d7a0d187f5aaa4240e965d74070b7d72b6fba210 of type sha256\n",
      " Added attribute https://dmsz.org of type url\n"
     ]
    },
    {
     "name": "stderr",
     "output_type": "stream",
     "text": [
      "Something went wrong (403): {'saved': False, 'name': 'Could not add Attribute', 'message': 'Could not add Attribute', 'url': '/attributes/add', 'errors': {'value': ['Hostname has an invalid format. Please double check the value or select type \"other\".']}}\n"
     ]
    },
    {
     "name": "stdout",
     "output_type": "stream",
     "text": [
      " Added attribute dmsz.org of type hostname\n",
      " Failed to add attribute BACKUP1 of type hostname - {'errors': (403, {'saved': False, 'name': 'Could not add Attribute', 'message': 'Could not add Attribute', 'url': '/attributes/add', 'errors': {'value': ['Hostname has an invalid format. Please double check the value or select type \"other\".']}})}\n",
      " Added attribute 45.9.191.183 of type ip-dst\n",
      " Added attribute 776d427a19d8389464f855b2f70e0ac11e896162a9f9b50bcb23f0f0aea5044f of type sha256\n",
      " Added attribute https://cloud.keepasses.com of type url\n",
      " Added attribute cloud.keepasses.com of type hostname\n",
      "Finished adding attributes.\n",
      "Adding reference link to Sentinel incident\n",
      "Finished adding reference link.\n",
      "\n",
      "\n",
      "+---------------+------------------------------------------------------------------+----------+\n",
      "|     Source    | Value                                                            | Type     |\n",
      "+---------------+------------------------------------------------------------------+----------+\n",
      "| Incident #266 | 185.195.237.123                                                  | ip-dst   |\n",
      "| Incident #266 | b708dd11942c3e87a8987bdf83f7ea603425ae75fc25a306f54f1087df4198b4 | sha256   |\n",
      "| Incident #266 | https://message.ooguy.com                                        | url      |\n",
      "| Incident #266 | message.ooguy.com                                                | hostname |\n",
      "| Incident #267 | 191.96.53.132                                                    | ip-dst   |\n",
      "| Incident #267 | dmsz.org                                                         | hostname |\n",
      "| Incident #267 | f830c3771d35237b4a63b946d7a0d187f5aaa4240e965d74070b7d72b6fba210 | sha256   |\n",
      "| Incident #267 | https://dmsz.org                                                 | url      |\n",
      "| Incident #268 | 45.9.191.183                                                     | ip-dst   |\n",
      "| Incident #268 | 776d427a19d8389464f855b2f70e0ac11e896162a9f9b50bcb23f0f0aea5044f | sha256   |\n",
      "| Incident #268 | cloud.keepasses.com                                              | hostname |\n",
      "| Incident #268 | https://cloud.keepasses.com                                      | url      |\n",
      "+---------------+------------------------------------------------------------------+----------+\n",
      "Finished creating table\n"
     ]
    }
   ],
   "source": [
    "print(\"Adding attributes to the MISP event.\")\n",
    "table = PrettyTable()\n",
    "table.field_names = [\"Source\", \"Value\", \"Type\"]\n",
    "table.align[\"Value\"] = \"l\"\n",
    "table.align[\"Type\"] = \"l\"\n",
    "\n",
    "safe_copy = copy.copy(playbook_results[\"indicators\"]) # Avoid altering list while iterating over values\n",
    "for value in safe_copy:\n",
    "    attribute_comment = \"Sentinel incident #{}\".format(playbook_results[\"indicators\"][value][\"incident\"])    \n",
    "    attribute = MISPAttribute()\n",
    "    attribute.type = playbook_results[\"indicators\"][value][\"misp-attribute-type\"]\n",
    "    attribute.value = value\n",
    "    attribute.to_ids = True\n",
    "    attribute.disable_correlation = False\n",
    "    attribute.comment = attribute_comment\n",
    "    result = misp.add_attribute(playbook_results[\"event\"], attribute, pythonify=True)\n",
    "    if \"errors\" not in result:\n",
    "        print(\" Added attribute {} of type {}\".format(attribute.value, attribute.type))\n",
    "        table.add_row([\"Incident #{}\".format(playbook_results[\"indicators\"][value][\"incident\"]), value, attribute.type])\n",
    "    else:\n",
    "        print(\" Failed to add attribute {} of type {} - {}\".format(attribute.value, attribute.type, result))\n",
    "        del(playbook_results[\"indicators\"][value])\n",
    "print(\"Finished adding attributes.\")\n",
    "\n",
    "print(\"Adding reference link to Sentinel incident\")\n",
    "for incident in playbook_results[\"SecurityIncidents\"]:\n",
    "    attribute = MISPAttribute()\n",
    "    attribute.type = \"link\"\n",
    "    attribute.value = playbook_results[\"SecurityIncidents\"][incident][\"IncidentUrl\"]\n",
    "    attribute.to_ids = False\n",
    "    attribute.disable_correlation = False\n",
    "    attribute.comment = \"Sentinel incident #{} - {}\".format(incident, playbook_results[\"SecurityIncidents\"][incident][\"Title\"])\n",
    "    result = misp.add_attribute(playbook_results[\"event\"], attribute, pythonify=True)\n",
    "    \n",
    "    # Adding a comment with incident number to allow for correlation if we add additional events for the same incident\n",
    "    attribute = MISPAttribute()\n",
    "    attribute.type = \"comment\"\n",
    "    attribute.value = \"Sentinel incident #{} - {}\".format(incident, playbook_results[\"SecurityIncidents\"][incident][\"Title\"])\n",
    "    attribute.to_ids = False\n",
    "    attribute.disable_correlation = False\n",
    "    result = misp.add_attribute(playbook_results[\"event\"], attribute, pythonify=True)    \n",
    "print(\"Finished adding reference link.\")\n",
    "\n",
    "print(\"\\n\")\n",
    "print(table.get_string(sortby=\"Source\"))\n",
    "table_mispindicators = table\n",
    "\n",
    "print(\"Finished creating table\")"
   ]
  },
  {
   "cell_type": "markdown",
   "id": "50681cbf-e6f2-40d5-a3e2-6ca9d3931e6d",
   "metadata": {},
   "source": [
    "## MI:3 Add MISP report\n",
    "\n",
    "The parsing of the incident and alert details created a Markdown summary. This summary is now added as a MISP report."
   ]
  },
  {
   "cell_type": "code",
   "execution_count": 8,
   "id": "529fb91b-f20b-4f46-aad4-165239429f62",
   "metadata": {
    "tags": []
   },
   "outputs": [
    {
     "name": "stdout",
     "output_type": "stream",
     "text": [
      "Creating MISP event reports.\n",
      " MISP report \u001b[92mReport for Sentinel incident #266 - TI alert cudeso\u001b[90m\n",
      " Report ID: \u001b[92m917\u001b[90m\n",
      " MISP report \u001b[92mReport for Sentinel incident #267 - TI alert cudeso\u001b[90m\n",
      " Report ID: \u001b[92m918\u001b[90m\n",
      " MISP report \u001b[92mReport for Sentinel incident #268 - TI alert cudeso\u001b[90m\n",
      " Report ID: \u001b[92m919\u001b[90m\n",
      "Finished.\n",
      "\n"
     ]
    }
   ],
   "source": [
    "print(\"Creating MISP event reports.\")\n",
    "\n",
    "for incident in playbook_results[\"SecurityIncidents\"]:\n",
    "    summary_iv = \"\"\n",
    "    summary_iv += playbook_results[\"SecurityIncidents\"][incident][\"summary\"]\n",
    "    summary_iv += \"\\n\\n\"\n",
    "    summary_iv += playbook_results[\"SecurityIncidents\"][incident][\"alert_summary\"]\n",
    "\n",
    "    report_title = \"Report for Sentinel incident #{} - {}\".format(incident, playbook_results[\"SecurityIncidents\"][incident][\"Title\"])\n",
    "    print(\" MISP report \\033[92m{}\\033[90m\".format(report_title))\n",
    "    chunk_size = 61500\n",
    "\n",
    "    for i in range(0, len(summary_iv), chunk_size):\n",
    "        chunk = summary_iv[i:i + chunk_size]\n",
    "        event_report = MISPEventReport()\n",
    "        event_title_edit = report_title\n",
    "        if i > 0:\n",
    "            event_title_edit = \"{} ({} > {})\".format(report_title, i, i + chunk_size)\n",
    "        event_report.name = event_title_edit\n",
    "        event_report.content = chunk\n",
    "        result = misp.add_event_report(playbook_results[\"eventid\"], event_report)\n",
    "        if \"EventReport\" in result:\n",
    "            print(\" Report ID: \\033[92m{}\\033[90m\".format(result.get(\"EventReport\", {}).get(\"id\", 0)))\n",
    "        else:\n",
    "            print(\" Failed to create report for \\033[91m{}\\033[90m.\".format(report_title))\n",
    "\n",
    "print(\"Finished.\\n\")\n"
   ]
  },
  {
   "cell_type": "markdown",
   "id": "48cffe59-fe63-469c-aaaa-ac4eb6b85859",
   "metadata": {},
   "source": [
    "## MI:4 Add sightings\n",
    "\n",
    "Now we'll add a MISP sighting for the entitites associated with the Sentinel incident. You can set the source with `sighting_source` and the sighting type with `sighting_type`. For the latter, these values exist\n",
    "- 0 = True **sighting**, the most common used option\n",
    "- 1 = **False positive** sighting\n",
    "- 2 = **Expiration** sighting\n",
    "\n",
    "The timestamp of the sighting corresponds with the time the playbook is executed. As an extension you could use the alert timestamp instead."
   ]
  },
  {
   "cell_type": "code",
   "execution_count": 9,
   "id": "407bb02a-eb58-4c0c-8945-88f1ec9233c4",
   "metadata": {
    "tags": []
   },
   "outputs": [
    {
     "name": "stdout",
     "output_type": "stream",
     "text": [
      "Adding sightings to MISP.\n",
      " Adding \u001b[92m185.195.237.123\u001b[90m at Set by playbook, detected in Sentinel incident #266\n",
      " Adding \u001b[92mb708dd11942c3e87a8987bdf83f7ea603425ae75fc25a306f54f1087df4198b4\u001b[90m at Set by playbook, detected in Sentinel incident #266\n",
      " Adding \u001b[92mhttps://message.ooguy.com\u001b[90m at Set by playbook, detected in Sentinel incident #266\n",
      " Adding \u001b[92mmessage.ooguy.com\u001b[90m at Set by playbook, detected in Sentinel incident #266\n",
      " Adding \u001b[92m191.96.53.132\u001b[90m at Set by playbook, detected in Sentinel incident #267\n",
      " Adding \u001b[92mf830c3771d35237b4a63b946d7a0d187f5aaa4240e965d74070b7d72b6fba210\u001b[90m at Set by playbook, detected in Sentinel incident #267\n",
      " Adding \u001b[92mhttps://dmsz.org\u001b[90m at Set by playbook, detected in Sentinel incident #267\n",
      " Adding \u001b[92mdmsz.org\u001b[90m at Set by playbook, detected in Sentinel incident #267\n",
      " Adding \u001b[92m45.9.191.183\u001b[90m at Set by playbook, detected in Sentinel incident #268\n",
      " Adding \u001b[92m776d427a19d8389464f855b2f70e0ac11e896162a9f9b50bcb23f0f0aea5044f\u001b[90m at Set by playbook, detected in Sentinel incident #268\n",
      " Adding \u001b[92mhttps://cloud.keepasses.com\u001b[90m at Set by playbook, detected in Sentinel incident #268\n",
      " Adding \u001b[92mcloud.keepasses.com\u001b[90m at Set by playbook, detected in Sentinel incident #268\n",
      "Finished adding sightings.\n"
     ]
    }
   ],
   "source": [
    "# Add sightings to MISP\n",
    "sighting_source = \"Set by playbook, detected in Sentinel incident\"\n",
    "sighting_type = 0  # Sighting types: 0=sighting ; 1=false positive ; 2=expiration\n",
    "\n",
    "print(\"Adding sightings to MISP.\")\n",
    "\n",
    "for value in playbook_results[\"indicators\"]:\n",
    "    #dt = datetime.strptime(hit[\"@timestamp\"], \"%Y-%m-%dT%H:%M:%S.%fZ\")\n",
    "    #dt = dt.replace(tzinfo=pytz.UTC)\n",
    "    sighting_timestamp = datetime.now().strftime(\"%Y-%m-%d %H:%M:%S\")\n",
    "    sighting_source_add = \"{} #{}\".format(sighting_source, playbook_results[\"indicators\"][value][\"incident\"])\n",
    "    data = {\"value\": value, \"type\": sighting_type, \"source\": sighting_source_add, \"date_sighting\": sighting_timestamp}\n",
    "    request = misp._prepare_request(\"POST\", \"{}/sightings/add\".format(misp_url), data=data)\n",
    "    if \"Sighting\" in request.json():\n",
    "        print(\" Adding \\033[92m{}\\033[90m at {}\".format(value, sighting_source_add))\n",
    "    else:\n",
    "        print(\" Unable to add sighting \\033[91m{}\\033[90m {}\".format(value, request.text))\n",
    "print(\"Finished adding sightings.\")"
   ]
  },
  {
   "cell_type": "markdown",
   "id": "06259b27-fc1b-4b48-86a8-688823b1df8c",
   "metadata": {},
   "source": [
    "# Correlation\n",
    "\n",
    "## CR:1 Correlation with MISP events\n",
    "\n",
    "When the event and attributes are added to MISP it will immediately show the related events and OSINT feed matches in the web interface. We also want that information to be included in the playbook results and summary. \n",
    "\n",
    "Only published events (`correlation_published`) are take into account. There is a default limit of 1000 hits (`correlation_limit`)."
   ]
  },
  {
   "cell_type": "code",
   "execution_count": 10,
   "id": "d2ab7e37-d27d-409c-8c98-2cb2506a2fb4",
   "metadata": {
    "tags": []
   },
   "outputs": [
    {
     "name": "stdout",
     "output_type": "stream",
     "text": [
      "Found match for 185.195.237.123 in \u001b[92m3493\u001b[90m in \u001b[92mOperation Crimson Palace: Sophos threat hunting unveils multiple clusters of Chinese state-sponsored activity targeting Southeast Asian government\u001b[90m\n",
      "Found match for b708dd11942c3e87a8987bdf83f7ea603425ae75fc25a306f54f1087df4198b4 in \u001b[92m3493\u001b[90m in \u001b[92mOperation Crimson Palace: Sophos threat hunting unveils multiple clusters of Chinese state-sponsored activity targeting Southeast Asian government\u001b[90m\n",
      "\u001b[93mNo correlating MISP events\u001b[90m found for https://message.ooguy.com.\n",
      "Found match for message.ooguy.com in \u001b[92m3493\u001b[90m in \u001b[92mOperation Crimson Palace: Sophos threat hunting unveils multiple clusters of Chinese state-sponsored activity targeting Southeast Asian government\u001b[90m\n",
      "Found match for 191.96.53.132 in \u001b[92m3493\u001b[90m in \u001b[92mOperation Crimson Palace: Sophos threat hunting unveils multiple clusters of Chinese state-sponsored activity targeting Southeast Asian government\u001b[90m\n",
      "Found match for f830c3771d35237b4a63b946d7a0d187f5aaa4240e965d74070b7d72b6fba210 in \u001b[92m3493\u001b[90m in \u001b[92mOperation Crimson Palace: Sophos threat hunting unveils multiple clusters of Chinese state-sponsored activity targeting Southeast Asian government\u001b[90m\n",
      "\u001b[93mNo correlating MISP events\u001b[90m found for https://dmsz.org.\n",
      "Found match for dmsz.org in \u001b[92m3493\u001b[90m in \u001b[92mOperation Crimson Palace: Sophos threat hunting unveils multiple clusters of Chinese state-sponsored activity targeting Southeast Asian government\u001b[90m\n",
      "Found match for 45.9.191.183 in \u001b[92m3493\u001b[90m in \u001b[92mOperation Crimson Palace: Sophos threat hunting unveils multiple clusters of Chinese state-sponsored activity targeting Southeast Asian government\u001b[90m\n",
      "Found match for 776d427a19d8389464f855b2f70e0ac11e896162a9f9b50bcb23f0f0aea5044f in \u001b[92m3493\u001b[90m in \u001b[92mOperation Crimson Palace: Sophos threat hunting unveils multiple clusters of Chinese state-sponsored activity targeting Southeast Asian government\u001b[90m\n",
      "\u001b[93mNo correlating MISP events\u001b[90m found for https://cloud.keepasses.com.\n",
      "Found match for cloud.keepasses.com in \u001b[92m3493\u001b[90m in \u001b[92mOperation Crimson Palace: Sophos threat hunting unveils multiple clusters of Chinese state-sponsored activity targeting Southeast Asian government\u001b[90m\n",
      "Finished correlating with MISP events.\n",
      "\n",
      "\n"
     ]
    }
   ],
   "source": [
    "# Code block to query MISP and find the correlations\n",
    "for value in playbook_results[\"indicators\"]:\n",
    "    search_match = misp.search(\"events\", value=value, published=playbook_config[\"correlation_published\"],\n",
    "                                        limit=playbook_config[\"correlation_limit\"], pythonify=True)\n",
    "    if len(search_match) > 0:\n",
    "        for event in search_match:\n",
    "            if event.uuid != playbook_results[\"event\"]:   # Skip the event we just created for this playbook\n",
    "                print(\"Found match for {} in \\033[92m{}\\033[90m in \\033[92m{}\\033[90m\".format(value, event.id, event.info))\n",
    "                entry = {\"source\": \"MISP\", \"org\": event.org.name, \"event_id\": event.id, \"event_info\": event.info,\n",
    "                                     \"date\": event.date, \"value\": value, \"incident\": playbook_results[\"indicators\"][value][\"incident\"]}\n",
    "                playbook_results[\"related_events\"].append(entry)\n",
    "    else:\n",
    "        print(\"\\033[93mNo correlating MISP events\\033[90m found for {}.\".format(value))\n",
    "print(\"Finished correlating with MISP events.\\n\\n\")"
   ]
  },
  {
   "cell_type": "markdown",
   "id": "0fd9fe24-f8be-4691-a26d-dc1d1140a73c",
   "metadata": {},
   "source": [
    "### MISP events correlation table\n",
    "\n",
    "The correlation results are now stored in `playbook_results`. Execute the next cell to display them in a table format. The table is also included in the summary for Mattermost."
   ]
  },
  {
   "cell_type": "code",
   "execution_count": 11,
   "id": "b62d0cf8-548e-4da4-8b6e-f58e5e2b1076",
   "metadata": {
    "tags": []
   },
   "outputs": [
    {
     "name": "stdout",
     "output_type": "stream",
     "text": [
      "+--------+------------------------------------------------------------------+----------------------------------------------------+----------+----------+\n",
      "| Source | Value                                                            | Event                                              | Event ID | Incident |\n",
      "+--------+------------------------------------------------------------------+----------------------------------------------------+----------+----------+\n",
      "|  MISP  | 185.195.237.123                                                  | Operation Crimson Palace: Sophos threat hunting    | 3493     |   266    |\n",
      "|        |                                                                  | unveils multiple clusters of Chinese state-        |          |          |\n",
      "|        |                                                                  | sponsored activity targeting Southeast Asian       |          |          |\n",
      "|        |                                                                  | government                                         |          |          |\n",
      "|  MISP  | 191.96.53.132                                                    | Operation Crimson Palace: Sophos threat hunting    | 3493     |   267    |\n",
      "|        |                                                                  | unveils multiple clusters of Chinese state-        |          |          |\n",
      "|        |                                                                  | sponsored activity targeting Southeast Asian       |          |          |\n",
      "|        |                                                                  | government                                         |          |          |\n",
      "|  MISP  | 45.9.191.183                                                     | Operation Crimson Palace: Sophos threat hunting    | 3493     |   268    |\n",
      "|        |                                                                  | unveils multiple clusters of Chinese state-        |          |          |\n",
      "|        |                                                                  | sponsored activity targeting Southeast Asian       |          |          |\n",
      "|        |                                                                  | government                                         |          |          |\n",
      "|  MISP  | 776d427a19d8389464f855b2f70e0ac11e896162a9f9b50bcb23f0f0aea5044f | Operation Crimson Palace: Sophos threat hunting    | 3493     |   268    |\n",
      "|        |                                                                  | unveils multiple clusters of Chinese state-        |          |          |\n",
      "|        |                                                                  | sponsored activity targeting Southeast Asian       |          |          |\n",
      "|        |                                                                  | government                                         |          |          |\n",
      "|  MISP  | b708dd11942c3e87a8987bdf83f7ea603425ae75fc25a306f54f1087df4198b4 | Operation Crimson Palace: Sophos threat hunting    | 3493     |   266    |\n",
      "|        |                                                                  | unveils multiple clusters of Chinese state-        |          |          |\n",
      "|        |                                                                  | sponsored activity targeting Southeast Asian       |          |          |\n",
      "|        |                                                                  | government                                         |          |          |\n",
      "|  MISP  | cloud.keepasses.com                                              | Operation Crimson Palace: Sophos threat hunting    | 3493     |   268    |\n",
      "|        |                                                                  | unveils multiple clusters of Chinese state-        |          |          |\n",
      "|        |                                                                  | sponsored activity targeting Southeast Asian       |          |          |\n",
      "|        |                                                                  | government                                         |          |          |\n",
      "|  MISP  | dmsz.org                                                         | Operation Crimson Palace: Sophos threat hunting    | 3493     |   267    |\n",
      "|        |                                                                  | unveils multiple clusters of Chinese state-        |          |          |\n",
      "|        |                                                                  | sponsored activity targeting Southeast Asian       |          |          |\n",
      "|        |                                                                  | government                                         |          |          |\n",
      "|  MISP  | f830c3771d35237b4a63b946d7a0d187f5aaa4240e965d74070b7d72b6fba210 | Operation Crimson Palace: Sophos threat hunting    | 3493     |   267    |\n",
      "|        |                                                                  | unveils multiple clusters of Chinese state-        |          |          |\n",
      "|        |                                                                  | sponsored activity targeting Southeast Asian       |          |          |\n",
      "|        |                                                                  | government                                         |          |          |\n",
      "|  MISP  | message.ooguy.com                                                | Operation Crimson Palace: Sophos threat hunting    | 3493     |   266    |\n",
      "|        |                                                                  | unveils multiple clusters of Chinese state-        |          |          |\n",
      "|        |                                                                  | sponsored activity targeting Southeast Asian       |          |          |\n",
      "|        |                                                                  | government                                         |          |          |\n",
      "+--------+------------------------------------------------------------------+----------------------------------------------------+----------+----------+\n"
     ]
    }
   ],
   "source": [
    "# Put the correlations in a pretty table. We can use this table later also for the summary\n",
    "table = PrettyTable()\n",
    "table.field_names = [\"Source\", \"Value\", \"Event\", \"Event ID\", \"Incident\"]\n",
    "table.align[\"Value\"] = \"l\"\n",
    "table.align[\"Event\"] = \"l\"\n",
    "table.align[\"Event ID\"] = \"l\"\n",
    "table._max_width = {\"Event\": 50}\n",
    "for match in playbook_results[\"related_events\"]:\n",
    "    table.add_row([match[\"source\"], match[\"value\"], match[\"event_info\"], match[\"event_id\"], match[\"incident\"]])\n",
    "print(table.get_string(sortby=\"Value\"))\n",
    "table_mispevents = table"
   ]
  },
  {
   "cell_type": "markdown",
   "id": "15bd9018-d637-4055-a41d-bf77613cd4a4",
   "metadata": {},
   "source": [
    "## CR:2 Correlation with MISP feeds\n",
    "\n",
    "Search the MISP feeds for events that match with one of the fingerprints you specified earlier. The results highly depend on the feeds you have enabled. "
   ]
  },
  {
   "cell_type": "code",
   "execution_count": 12,
   "id": "c3421605-9cd9-4420-8f48-44bf73338902",
   "metadata": {
    "tags": []
   },
   "outputs": [
    {
     "name": "stdout",
     "output_type": "stream",
     "text": [
      "Search in MISP feeds.\n",
      " Found \u001b[92m185.195.237.123\u001b[90m in \u001b[92mThe Botvrij.eu Data\u001b[90m.\n",
      " Found \u001b[92mb708dd11942c3e87a8987bdf83f7ea603425ae75fc25a306f54f1087df4198b4\u001b[90m in \u001b[92mThe Botvrij.eu Data\u001b[90m.\n",
      " Found \u001b[92mmessage.ooguy.com\u001b[90m in \u001b[92mThe Botvrij.eu Data\u001b[90m.\n",
      " Found \u001b[92m191.96.53.132\u001b[90m in \u001b[92mThe Botvrij.eu Data\u001b[90m.\n",
      " Found \u001b[92mf830c3771d35237b4a63b946d7a0d187f5aaa4240e965d74070b7d72b6fba210\u001b[90m in \u001b[92mThe Botvrij.eu Data\u001b[90m.\n",
      " Found \u001b[92mdmsz.org\u001b[90m in \u001b[92mThe Botvrij.eu Data\u001b[90m.\n",
      " Found \u001b[92m45.9.191.183\u001b[90m in \u001b[92mThe Botvrij.eu Data\u001b[90m.\n",
      " Found \u001b[92m776d427a19d8389464f855b2f70e0ac11e896162a9f9b50bcb23f0f0aea5044f\u001b[90m in \u001b[92mThe Botvrij.eu Data\u001b[90m.\n",
      " Found \u001b[92mcloud.keepasses.com\u001b[90m in \u001b[92mThe Botvrij.eu Data\u001b[90m.\n",
      "Finished searching in MISP feeds.\n"
     ]
    }
   ],
   "source": [
    "print(\"Search in MISP feeds.\")\n",
    "misp_cache_url = \"{}/feeds/searchCaches/\".format(misp_url)\n",
    "match = False\n",
    "for value in playbook_results[\"indicators\"]:\n",
    "    # Instead of GET, use POST (https://github.com/MISP/MISP/issues/7478)\n",
    "    cache_results = requests.post(misp_cache_url, headers=misp_headers, verify=misp_verifycert, json={\"value\": value})\n",
    "    for result in cache_results.json():\n",
    "        if \"Feed\" in result:\n",
    "            match = True\n",
    "            print(\" Found \\033[92m{}\\033[90m in \\033[92m{}\\033[90m.\".format(value, result[\"Feed\"][\"name\"]))\n",
    "            for match in result[\"Feed\"][\"direct_urls\"]:\n",
    "                entry = {\"source\": \"Feeds\", \"feed_name\": result[\"Feed\"][\"name\"], \"match_url\": match[\"url\"], \"value\": value, \"incident\": playbook_results[\"indicators\"][value][\"incident\"]}\n",
    "                playbook_results[\"related_feeds\"].append(entry)\n",
    "\n",
    "print(\"Finished searching in MISP feeds.\")\n",
    "if not match:\n",
    "    print(\"\\033[93mNo correlating information found in MISP feeds.\")"
   ]
  },
  {
   "cell_type": "markdown",
   "id": "ef50b45a-e9fc-4139-8ba8-e28ac819f45a",
   "metadata": {},
   "source": [
    "### MISP feed correlations table\n",
    "\n",
    "The correlation results are now stored in `playbook_results`. Execute the next cell to display them in a table format. The table is also included in the summary for Mattermost."
   ]
  },
  {
   "cell_type": "code",
   "execution_count": 13,
   "id": "fee0ffce-105d-4f04-9d88-4d0a12fabd0a",
   "metadata": {
    "tags": []
   },
   "outputs": [
    {
     "name": "stdout",
     "output_type": "stream",
     "text": [
      "+--------+------------------------------------------------------------------+---------------------+---------------------------------------------------------------------------------------+----------+\n",
      "| Source | Value                                                            | Feed                | Feed URL                                                                              | Incident |\n",
      "+--------+------------------------------------------------------------------+---------------------+---------------------------------------------------------------------------------------+----------+\n",
      "| Feeds  | 185.195.237.123                                                  | The Botvrij.eu Data | https://misp.demo.cudeso.be/feeds/previewEvent/2/f48f7c30-fe6f-4854-b27e-f86a308da714 |   266    |\n",
      "| Feeds  | 191.96.53.132                                                    | The Botvrij.eu Data | https://misp.demo.cudeso.be/feeds/previewEvent/2/f48f7c30-fe6f-4854-b27e-f86a308da714 |   267    |\n",
      "| Feeds  | 45.9.191.183                                                     | The Botvrij.eu Data | https://misp.demo.cudeso.be/feeds/previewEvent/2/f48f7c30-fe6f-4854-b27e-f86a308da714 |   268    |\n",
      "| Feeds  | 776d427a19d8389464f855b2f70e0ac11e896162a9f9b50bcb23f0f0aea5044f | The Botvrij.eu Data | https://misp.demo.cudeso.be/feeds/previewEvent/2/f48f7c30-fe6f-4854-b27e-f86a308da714 |   268    |\n",
      "| Feeds  | b708dd11942c3e87a8987bdf83f7ea603425ae75fc25a306f54f1087df4198b4 | The Botvrij.eu Data | https://misp.demo.cudeso.be/feeds/previewEvent/2/f48f7c30-fe6f-4854-b27e-f86a308da714 |   266    |\n",
      "| Feeds  | cloud.keepasses.com                                              | The Botvrij.eu Data | https://misp.demo.cudeso.be/feeds/previewEvent/2/f48f7c30-fe6f-4854-b27e-f86a308da714 |   268    |\n",
      "| Feeds  | dmsz.org                                                         | The Botvrij.eu Data | https://misp.demo.cudeso.be/feeds/previewEvent/2/f48f7c30-fe6f-4854-b27e-f86a308da714 |   267    |\n",
      "| Feeds  | f830c3771d35237b4a63b946d7a0d187f5aaa4240e965d74070b7d72b6fba210 | The Botvrij.eu Data | https://misp.demo.cudeso.be/feeds/previewEvent/2/f48f7c30-fe6f-4854-b27e-f86a308da714 |   267    |\n",
      "| Feeds  | message.ooguy.com                                                | The Botvrij.eu Data | https://misp.demo.cudeso.be/feeds/previewEvent/2/f48f7c30-fe6f-4854-b27e-f86a308da714 |   266    |\n",
      "+--------+------------------------------------------------------------------+---------------------+---------------------------------------------------------------------------------------+----------+\n"
     ]
    }
   ],
   "source": [
    "# Put the correlations in a pretty table. We can use this table later also for the summary\n",
    "table = PrettyTable()\n",
    "table.field_names = [\"Source\", \"Value\", \"Feed\", \"Feed URL\", \"Incident\"]\n",
    "table.align[\"Value\"] = \"l\"\n",
    "table.align[\"Feed\"] = \"l\"\n",
    "table.align[\"Feed URL\"] = \"l\"\n",
    "table._max_width = {\"Event\": 50}\n",
    "for match in playbook_results[\"related_feeds\"]:\n",
    "    table.add_row([match[\"source\"], match[\"value\"], match[\"feed_name\"], match[\"match_url\"], match[\"incident\"]])\n",
    "print(table.get_string(sortby=\"Value\"))\n",
    "table_mispfeeds = table"
   ]
  },
  {
   "cell_type": "markdown",
   "id": "70dea5ca",
   "metadata": {},
   "source": [
    "# Closure\n",
    "\n",
    "In this **closure** or end step we create a **summary** of the actions that were performed by the playbook. The summary is printed and can also be send to a chat channel. "
   ]
  },
  {
   "cell_type": "markdown",
   "id": "75b87ba6-19cc-4127-9299-480f708a61ff",
   "metadata": {},
   "source": [
    "## EN:1 Create the summary of the playbook \n",
    "\n",
    "The next section creates a summary and stores the output in the variable `summary` in Markdown format. It also stores an intro text in the variable `intro`. These variables can later be used when sending information to Mattermost or TheHive."
   ]
  },
  {
   "cell_type": "code",
   "execution_count": 14,
   "id": "12561137-e759-440b-9d21-dc6def901cbc",
   "metadata": {
    "tags": []
   },
   "outputs": [
    {
     "name": "stdout",
     "output_type": "stream",
     "text": [
      "The \u001b[92msummary\u001b[90m of the playbook is available.\n",
      "\n"
     ]
    }
   ],
   "source": [
    "summary = \"# MISP Playbook summary\\nCreate a MISP event from Microsoft Sentinel security incidents \\n\\n\"\n",
    "\n",
    "current_date = datetime.now()\n",
    "formatted_date = current_date.strftime(\"%Y-%m-%d\")\n",
    "summary += \"## Overview\\n\\n\"\n",
    "summary += \"This concerned the investigation of security incident **{}**\\n\\n\".format(event.info)\n",
    "summary += \"- Date: **{}**\\n\".format(formatted_date)\n",
    "summary += \"- Event: **{}** - UUID: {}\\n\".format(event.id, event.uuid)\n",
    "summary += \"\\n\\n\"\n",
    "\n",
    "summary += \"## Incidents\\n\"\n",
    "for incident in playbook_results[\"SecurityIncidents\"]:\n",
    "    summary += playbook_results[\"SecurityIncidents\"][incident][\"summary\"]\n",
    "    summary += playbook_results[\"SecurityIncidents\"][incident][\"alert_summary\"]\n",
    "    summary += \"\\n\\n\"\n",
    "    \n",
    "summary += \"## MISP correlations\\n\\n\"\n",
    "summary += \"### Events\\n\\n\"\n",
    "table_mispevents.set_style(MARKDOWN)\n",
    "summary += table_mispevents.get_string(sortby=\"Value\")\n",
    "summary += \"\\n\\n\"\n",
    "\n",
    "summary += \"### OSINT feeds\\n\\n\"\n",
    "table_mispfeeds.set_style(MARKDOWN)\n",
    "summary += table_mispfeeds.get_string(sortby=\"Value\")\n",
    "summary += \"\\n\\n\"\n",
    "\n",
    "summary += \"## MISP indicators\\n\\n\"\n",
    "table_mispindicators.set_style(MARKDOWN)\n",
    "summary += table_mispindicators.get_string(sortby=\"Type\")\n",
    "summary += \"\\n\\n\"\n",
    "\n",
    "\n",
    "print(\"The \\033[92msummary\\033[90m of the playbook is available.\\n\")"
   ]
  },
  {
   "cell_type": "markdown",
   "id": "e2093c95-efb8-45ad-974a-e158b6bea8ea",
   "metadata": {},
   "source": [
    "## EN:2 Print the summary"
   ]
  },
  {
   "cell_type": "code",
   "execution_count": null,
   "id": "179bc3ed-97bd-4dc9-8f12-29ebe2a11a19",
   "metadata": {
    "tags": []
   },
   "outputs": [],
   "source": [
    "print(summary)\n",
    "# Or print with parsed markdown\n",
    "#display_markdown(summary, raw=True)"
   ]
  },
  {
   "cell_type": "markdown",
   "id": "eba96062-deaa-4fb9-8302-7b3ef829201e",
   "metadata": {
    "tags": []
   },
   "source": [
    "## EN:3 Send a summary to Mattermost\n",
    "\n",
    "Now you can send the summary to Mattermost. You can send the summary in two ways by selecting one of the options for the variable `send_to_mattermost_option` in the next cell.\n",
    "\n",
    "- The default option where the entire summary is in the **chat**, or\n",
    "- a short intro and the summary in a **card**\n",
    "\n",
    "For this playbook we rely on a webhook in Mattermost. You can add a webhook by choosing the gear icon in Mattermost, then choose Integrations and then **Incoming Webhooks**. Set a channel for the webhook and lock the webhook to this channel with *\"Lock to this channel\"*."
   ]
  },
  {
   "cell_type": "code",
   "execution_count": 16,
   "id": "8c455bc3-35cc-436d-8237-95c81b57208f",
   "metadata": {
    "tags": []
   },
   "outputs": [],
   "source": [
    "send_to_mattermost_option = \"via a chat message\"\n",
    "#send_to_mattermost_option = \"via a chat message with card\""
   ]
  },
  {
   "cell_type": "code",
   "execution_count": 17,
   "id": "ca49f33e",
   "metadata": {},
   "outputs": [
    {
     "name": "stdout",
     "output_type": "stream",
     "text": [
      "Summary is \u001b[92msent to Mattermost.\n",
      "\n"
     ]
    }
   ],
   "source": [
    "message = False\n",
    "if send_to_mattermost_option == \"via a chat message\":\n",
    "    message = {\"username\": mattermost_playbook_user, \"text\": summary}\n",
    "elif send_to_mattermost_option == \"via a chat message with card\":\n",
    "    message = {\"username\": mattermost_playbook_user, \"text\": intro, \"props\": {\"card\": summary}}\n",
    "\n",
    "if message:\n",
    "    r = requests.post(mattermost_hook, data=json.dumps(message))\n",
    "    r.raise_for_status()\n",
    "if message and r.status_code == 200:\n",
    "    print(\"Summary is \\033[92msent to Mattermost.\\n\")\n",
    "else:\n",
    "    print(\"\\033[91mFailed to sent summary\\033[90m to Mattermost.\\n\")"
   ]
  },
  {
   "cell_type": "markdown",
   "id": "498b8eff-7d1b-47b7-90c4-e13cc738b36c",
   "metadata": {},
   "source": [
    "## EN:4 End of the playbook "
   ]
  },
  {
   "cell_type": "code",
   "execution_count": 18,
   "id": "4c03bb30",
   "metadata": {},
   "outputs": [
    {
     "name": "stdout",
     "output_type": "stream",
     "text": [
      "\u001b[92m End of the playbook\n"
     ]
    }
   ],
   "source": [
    "print(\"\\033[92m End of the playbook\")\n"
   ]
  },
  {
   "cell_type": "markdown",
   "id": "a0301010-a173-4683-b212-cc2cd40f9b6f",
   "metadata": {},
   "source": [
    "# Extra section\n",
    "\n",
    "## EX:1 Import logs into Sentinel\n",
    "\n",
    "This section demonstrates how to import custom logs into a table in Sentinel. It uses a simple CSV file (defined in `csv_data`) and uploads it to your Log Analytics workspace.\n",
    "\n",
    "To perform the import, you need to specify the following:\n",
    "\n",
    "- `azure_customer_id`: The **Log Analytics Workspace ID**.\n",
    "- `azure_shared_key`: The **Log Analytics Primary Key** (found under Log Analytics > Settings > Agents > Log Analytics agent instructions).\n",
    "- `azure_log_type`: The name of the **custom log table**."
   ]
  },
  {
   "cell_type": "code",
   "execution_count": null,
   "id": "a545755b-9e76-4e48-aba3-b24b6e2094c5",
   "metadata": {
    "tags": []
   },
   "outputs": [],
   "source": [
    "# Required libraries\n",
    "import csv\n",
    "import io\n",
    "import base64\n",
    "import requests\n",
    "import hmac\n",
    "import hashlib\n",
    "\n",
    "# Build the signature\n",
    "def build_signature(customer_id, shared_key, date, content_length, method, content_type, resource):\n",
    "    x_headers = 'x-ms-date:' + date\n",
    "    string_to_hash = method + '\\n' + str(content_length) + '\\n' + content_type + '\\n' + x_headers + '\\n' + resource\n",
    "    bytes_to_hash = bytes(string_to_hash, 'utf-8')\n",
    "    decoded_key = base64.b64decode(shared_key)\n",
    "    encoded_hash = base64.b64encode(hmac.new(decoded_key, bytes_to_hash, hashlib.sha256).digest()).decode('utf-8')\n",
    "    authorization = \"SharedKey {}:{}\".format(customer_id, encoded_hash)\n",
    "    return authorization\n",
    "\n",
    "\n",
    "# Post data\n",
    "def post_data(customer_id, shared_key, body, log_type):\n",
    "    method = 'POST'\n",
    "    content_type = 'application/json'\n",
    "    resource = '/api/logs'\n",
    "    rfc1123date = datetime.utcnow().strftime('%a, %d %b %Y %H:%M:%S GMT')\n",
    "    content_length = len(body)\n",
    "    signature = build_signature(customer_id, shared_key, rfc1123date, content_length, method, content_type, resource)\n",
    "    uri = 'https://' + customer_id + '.ods.opinsights.azure.com' + resource + '?api-version=2016-04-01'\n",
    "\n",
    "    headers = {\n",
    "        'Content-Type': content_type,\n",
    "        'Authorization': signature,\n",
    "        'Log-Type': log_type,\n",
    "        'x-ms-date': rfc1123date,\n",
    "        'time-generated-field': 'TimeGenerated'\n",
    "    }\n",
    "\n",
    "    response = requests.post(uri, data=body, headers=headers)\n",
    "    if response.status_code >= 200 and response.status_code <= 299:\n",
    "        print(response, response.status_code, vars(response))\n",
    "        print('Accepted')\n",
    "    else:\n",
    "        print('Error: {}'.format(response.status_code))\n",
    "        print(response.text)\n",
    "\n",
    "        \n",
    "# Function to convert CSV string to JSON\n",
    "def csv_string_to_json(csv_string):\n",
    "    csv_reader = csv.DictReader(io.StringIO(csv_string))\n",
    "    json_array = [row for row in csv_reader]\n",
    "    return json.dumps(json_array, indent=4)"
   ]
  },
  {
   "cell_type": "code",
   "execution_count": null,
   "id": "b923b3f0-67d5-4416-901c-9e7557efd4de",
   "metadata": {
    "tags": []
   },
   "outputs": [],
   "source": [
    "# Adjust with your credentials\n",
    "azure_customer_id = ''  # Replace with your Log Analytics Workspace ID\n",
    "azure_shared_key = ''  # Replace with your Log Analytics Primary Key\n",
    "azure_log_type = 'CudesoDemoSyslog' # Log name\n",
    "\n",
    "# CSV data as a string\n",
    "csv_data = \"\"\"Computer,HostIP,HostName,DestinationIP,FileHash,ProcessName,DestinationDomain,DestinationURL\n",
    "DC1,192.168.1.1,DC1.demo.cudeso.be,185.195.237.123,b708dd11942c3e87a8987bdf83f7ea603425ae75fc25a306f54f1087df4198b4,curl.exe,message.ooguy.com,https://message.ooguy.com\n",
    "DC1,192.168.1.1,DC1.demo.cudeso.be,191.96.53.132,f830c3771d35237b4a63b946d7a0d187f5aaa4240e965d74070b7d72b6fba210,curl.exe,dmsz.org,https://dmsz.org\n",
    "BACKUP1,192.168.1.20,BACKUP1.demo.cudeso.be,45.9.191.183,776d427a19d8389464f855b2f70e0ac11e896162a9f9b50bcb23f0f0aea5044f,certutil.exe,cloud.keepasses.com,https://cloud.keepasses.com\"\"\"\n",
    "\n",
    "# Post data\n",
    "print(\"Posting data\")\n",
    "post_data(azure_customer_id, azure_shared_key, csv_string_to_json(csv_data), azure_log_type)\n",
    "print(\"Finished posting data\")"
   ]
  },
  {
   "cell_type": "markdown",
   "id": "72a151a5-148f-483a-acb7-243d4368f3a3",
   "metadata": {},
   "source": [
    "## EX:2 Detection rules\n",
    "\n",
    "After uploading the CSV files, you can add **detection rules**. In this demo, the detection rules trigger on entries from the CSV files that match previously uploaded threat intelligence in Sentinel. To set up these rules, navigate to your Log Analytics workspace, select **Configuration**, and then **Analytics**. Here, you can create a new rule to trigger based on the results of a specific query. For this example, use the following KQL query, which triggers on network activity:\n",
    "\n",
    "```kql\n",
    "let indicator_list = (\n",
    "    ThreatIntelligenceIndicator\n",
    "    | where ExpirationDateTime > now()\n",
    "    | where ExpirationDateTime < datetime(9999-12-31)\n",
    "    | where TimeGenerated > ago(1d)\n",
    "    | where Active == true\n",
    "    | where isnotempty(NetworkDestinationIP) or isnotempty(NetworkSourceIP)\n",
    "    | extend NetworkIPs = case(\n",
    "        isnotempty(NetworkDestinationIP) and isnotempty(NetworkSourceIP), NetworkDestinationIP,\n",
    "        isnotempty(NetworkDestinationIP), NetworkDestinationIP,\n",
    "        isnotempty(NetworkSourceIP), NetworkSourceIP,\n",
    "        \"\"\n",
    "    )\n",
    "    | distinct NetworkIPs \n",
    "    | project NetworkIPs \n",
    ");\n",
    "CudesoDemoSyslog_CL\n",
    "| where DestinationIP_s has_any (indicator_list)\n",
    "```\n",
    "\n",
    "In the detection rule, under **Set rule logic**, you can map the **Entities** to specific fields. For example, map FileHash to FileHash_s, URL to DestinationURL_s, etc."
   ]
  },
  {
   "cell_type": "markdown",
   "id": "b17af9f2",
   "metadata": {},
   "source": [
    "## External references\n",
    "\n",
    "- [The MISP Project](https://www.misp-project.org/)\n",
    "- [Mattermost](https://mattermost.com/)\n",
    "- [MISP2Sentinel](https://github.com/cudeso/misp2sentinel)"
   ]
  },
  {
   "cell_type": "markdown",
   "id": "e1c813f6",
   "metadata": {},
   "source": [
    "## Technical details \n",
    "\n",
    "### Documentation\n",
    "\n",
    "This playbook requires these Python **libraries** to exist in the environment where the playbook is executed. You can install them with `pip install <library>`.\n",
    "\n",
    "```\n",
    "PrettyTable\n",
    "ipywidgets\n",
    "azure-identity\n",
    "```\n",
    "\n",
    "### Colour codes\n",
    "\n",
    "The output from Python displays some text in different colours. These are the colour codes\n",
    "\n",
    "```\n",
    "Red = '\\033[91m'\n",
    "Green = '\\033[92m'\n",
    "Blue = '\\033[94m'\n",
    "Cyan = '\\033[96m'\n",
    "White = '\\033[97m'\n",
    "Yellow = '\\033[93m'\n",
    "Magenta = '\\033[95m'\n",
    "Grey = '\\033[90m'\n",
    "Black = '\\033[90m'\n",
    "Default = '\\033[99m'\n",
    "```"
   ]
  },
  {
   "cell_type": "code",
   "execution_count": null,
   "id": "14dce812-e432-4c18-8358-f8b66e5b94a5",
   "metadata": {},
   "outputs": [],
   "source": []
  }
 ],
 "metadata": {
  "celltoolbar": "Attachments",
  "kernelspec": {
   "display_name": "Python 3 (ipykernel)",
   "language": "python",
   "name": "python3"
  },
  "language_info": {
   "codemirror_mode": {
    "name": "ipython",
    "version": 3
   },
   "file_extension": ".py",
   "mimetype": "text/x-python",
   "name": "python",
   "nbconvert_exporter": "python",
   "pygments_lexer": "ipython3",
   "version": "3.8.10"
  },
  "toc-showcode": false,
  "toc-showmarkdowntxt": false
 },
 "nbformat": 4,
 "nbformat_minor": 5
}
