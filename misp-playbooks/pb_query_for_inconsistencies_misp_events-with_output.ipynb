{
 "cells": [
  {
   "cell_type": "markdown",
   "id": "ca1fbfb5",
   "metadata": {
    "tags": [
     "playbook-introduction"
    ]
   },
   "source": [
    "# Query for inconsistencies in MISP events\n",
    "\n",
    "## Introduction\n",
    "\n",
    "- UUID: **83e49ad8-6a8e-4317-b689-4154084dfe82**\n",
    "- Started from [issue 22](https://github.com/MISP/misp-playbooks/issues/22)\n",
    "- State: **Published** : demo version with **output**\n",
    "- Purpose: This playbook checks for **inconsistencies** in the event **distribution**, the TLP designation and the PAP marking. The playbook also verifies if events contain sufficient **attributes**, objects, **tags** or galaxies. \n",
    "    - There are also checks for inconsistencies with the **workflow** tags, a taxonomy that is often used during *threat intelligence curation*.\n",
    "    - The results are listed in the playbook and sent to Mattermost.\n",
    "    - Note that MISP has also built-in checks encoded in [https://github.com/MISP/MISP/blob/2.4/app/Lib/EventWarning/DefaultWarning.php](https://github.com/MISP/MISP/blob/2.4/app/Lib/EventWarning/DefaultWarning.php)\n",
    "- Tags: [ \"distribution\", \"data protection\", \"curation\", \"inconsistencies\", \"qa\", \"quality\", \"audit\"]\n",
    "- External resources: **Mattermost**\n",
    "- Target audience: **CTI**"
   ]
  },
  {
   "cell_type": "markdown",
   "id": "a512a2c1",
   "metadata": {
    "jp-MarkdownHeadingCollapsed": true,
    "tags": []
   },
   "source": [
    "# Playbook\n",
    "\n",
    "- **Query for inconsistencies in MISP events**\n",
    "    - Introduction\n",
    "- **Preparation**\n",
    "    - PR:1 Initialise environment\n",
    "    - PR:2 Load helper functions\n",
    "    - PR:3 Set helper variables\n",
    "- **Event quality check**\n",
    "    - RE:1 Review events for inconsistencies\n",
    "    - RE:2 Summary of findings\n",
    "    - RE:3 Details of our findings\n",
    "- **Closure**\n",
    "    - EN:1 Create the summary of the playbook \n",
    "    - EN:2 Send a summary to Mattermost\n",
    "    - EN:3 End of the playbook \n",
    "- External references\n",
    "- Technical details"
   ]
  },
  {
   "cell_type": "markdown",
   "id": "8dc24913",
   "metadata": {
    "tags": []
   },
   "source": [
    "# Preparation\n",
    "\n",
    "## PR:1 Initialise environment\n",
    "\n",
    "This section **initialises the playbook environment** and loads the required Python libraries. \n",
    "\n",
    "The credentials for MISP (**API key**) and other services are loaded from the file `keys.py` in the directory **vault**. A [PyMISP](https://github.com/MISP/PyMISP) object is created to interact with MISP and the active MISP server is displayed. By printing out the server name you know that it's possible to connect to MISP. In case of a problem PyMISP will indicate the error with `PyMISPError: Unable to connect to MISP`.\n",
    "\n",
    "The contents of the `keys.py` file should contain at least :\n",
    "\n",
    "```\n",
    "misp_url=\"<MISP URL>\"                  # The URL to our MISP server\n",
    "misp_key=\"<MISP API KEY>\"              # The MISP API key\n",
    "misp_verifycert=<True or False>        # Ignore certificate errors\n",
    "mattermost_playbook_user=\"<MATTERMOST USER>\"\n",
    "mattermost_hook=\"<MATTERMOST WEBHOOK>\"\n",
    "```"
   ]
  },
  {
   "cell_type": "code",
   "execution_count": 2,
   "id": "5f94c336",
   "metadata": {
    "tags": []
   },
   "outputs": [
    {
     "name": "stderr",
     "output_type": "stream",
     "text": [
      "The version of PyMISP recommended by the MISP instance (2.4.176) is newer than the one you're using now (2.4.173). Please upgrade PyMISP.\n"
     ]
    },
    {
     "name": "stdout",
     "output_type": "stream",
     "text": [
      "The \u001b[92mPython libraries\u001b[90m are loaded and the \u001b[92mcredentials\u001b[90m are read from the keys file.\n",
      "I will use the MISP server \u001b[92mhttps://misp.demo.cudeso.be/\u001b[90m for this playbook.\n",
      "\n",
      "\n"
     ]
    }
   ],
   "source": [
    "# Initialise Python environment\n",
    "import urllib3\n",
    "import sys\n",
    "import json\n",
    "from pyfaup.faup import Faup\n",
    "from prettytable import PrettyTable, MARKDOWN\n",
    "from IPython.display import Image, display, display_markdown, HTML\n",
    "from datetime import date\n",
    "import requests\n",
    "import uuid\n",
    "from uuid import uuid4\n",
    "from pymisp import *\n",
    "from pymisp.tools import GenericObjectGenerator\n",
    "import re\n",
    "import time\n",
    "from datetime import datetime\n",
    "\n",
    "# Load the credentials\n",
    "sys.path.insert(0, \"../vault/\")\n",
    "from keys import *\n",
    "if misp_verifycert is False:\n",
    "    import urllib3\n",
    "    urllib3.disable_warnings(urllib3.exceptions.InsecureRequestWarning)\n",
    "print(\"The \\033[92mPython libraries\\033[90m are loaded and the \\033[92mcredentials\\033[90m are read from the keys file.\")\n",
    "\n",
    "# Create the PyMISP object\n",
    "misp = PyMISP(misp_url, misp_key, misp_verifycert)\n",
    "print(\"I will use the MISP server \\033[92m{}\\033[90m for this playbook.\\n\\n\".format(misp_url))"
   ]
  },
  {
   "cell_type": "markdown",
   "id": "50587a49-e703-454a-84ba-538cc2e3050b",
   "metadata": {},
   "source": [
    "## PR:2 Load helper functions\n",
    "\n",
    "The next cell contains **helper functions** that are used in this playbook. \n",
    "\n",
    "Instead of distributing helper functions as separate Python files this playbook includes all the required code as one code cell. This makes portability of playbooks between instances easier. The downside is that functions defined in this playbook need to be defined again in other playbooks, which is not optimal for code re-use. For this iteration of playbooks it is chosen to include the code in the playbook (more portability), but you can easily create one \"helper\" file that contains all the helper code and then import that file in each playbook (for example by adding to the previous cell `from helpers import *`). Note that the graphical workflow image is included as an external image. A missing image would not influence the further progress of the playbook."
   ]
  },
  {
   "cell_type": "code",
   "execution_count": 3,
   "id": "e0ca002f-4ea7-4b7d-bcdb-7a333c628f36",
   "metadata": {
    "tags": []
   },
   "outputs": [],
   "source": [
    "def add_event_alert(playbook_results, event_id, event_info, problem):\n",
    "    '''\n",
    "    Add an alert to the event alert list\n",
    "    '''\n",
    "    if event_id in playbook_results:\n",
    "        if problem not in playbook_results[event_id][\"alerts\"]:\n",
    "            playbook_results[event_id][\"alerts\"].append(problem)\n",
    "    else:\n",
    "        playbook_results[event_id] = {}\n",
    "        playbook_results[event_id][\"info\"] = event_info\n",
    "        playbook_results[event_id][\"alerts\"] = [problem]\n",
    "    return playbook_results\n",
    "\n",
    "\n",
    "def check_sufficient_in_event(event, event_key, playbook_key, do_check):\n",
    "    '''\n",
    "    Check if there are sufficient attributes, objects, galaxies, ...\n",
    "    '''\n",
    "    if do_check:\n",
    "        if not len(event.get(event_key, [])) > playbook_checks[playbook_key][\"qt\"]:\n",
    "            insufficient_count[playbook_key] += 1\n",
    "            add_event_alert(playbook_results, event[\"id\"], event[\"info\"], playbook_checks[playbook_key][\"alert\"])\n",
    "\n",
    "\n",
    "def check_workflow_tag(event, tag, do_check, do_check_local, tag_name, playbook_key, published_state):\n",
    "    '''\n",
    "    Checks for the workflow tag, primarily useful for threat intelligence curation\n",
    "    '''\n",
    "    if do_check and tag[\"name\"] == tag_name:\n",
    "        if do_check_local and tag[\"local\"] == 0:\n",
    "            insufficient_count[\"workflow_tag\"] += 1\n",
    "            add_event_alert(playbook_results, event[\"id\"], event[\"info\"], playbook_checks[\"workflow_tag_local\"][\"alert\"])\n",
    "        if event[\"published\"] == published_state:\n",
    "            insufficient_count[\"workflow_tag\"] += 1\n",
    "            add_event_alert(playbook_results, event[\"id\"], event[\"info\"], playbook_checks[playbook_key][\"alert\"])\n",
    "\n",
    "\n",
    "def check_marking_distribution(event, tag, tlp_tag, playbook_key):\n",
    "    '''\n",
    "    Check if the TLP or PAP markings correspond with the event distribution settings\n",
    "    '''\n",
    "    distribution = int(event[\"distribution\"])\n",
    "    if tag[\"name\"] == tlp_tag and distribution not in playbook_checks[playbook_key][\"distribution\"]:\n",
    "        insufficient_count[\"distribution\"] += 1\n",
    "        add_event_alert(playbook_results, event[\"id\"], event[\"info\"], playbook_checks[playbook_key][\"alert\"].format(distribution_labels[distribution]))"
   ]
  },
  {
   "cell_type": "markdown",
   "id": "36d28445-dfa1-47ae-942e-16adb2111cc0",
   "metadata": {},
   "source": [
    "## PR:3 Set helper variables\n",
    "\n",
    "This cell contains **helper variables** that are used in this playbook. Their usage is explained in the next steps of the playbook.\n",
    "\n",
    "- `playbook_results` : the results of the playbook\n",
    "- `insufficient_count` : numeric results of the playbook\n",
    "- `playbook_checks` : the checks that are executed, with their alert message\n",
    "- `distribution_labels` : the list of distribution labels\n",
    "- `result_limit` : maximum number of results to include in one result page when querying MISP"
   ]
  },
  {
   "cell_type": "code",
   "execution_count": 15,
   "id": "ff80a613-31bd-4c77-89a9-5c890110425a",
   "metadata": {
    "tags": []
   },
   "outputs": [],
   "source": [
    "playbook_checks = {\"attributes\": {\"do_check\": True, \"qt\": 5, \"alert\": \"Insufficient attributes\"},\n",
    "                   \"objects\": {\"do_check\": False, \"qt\": 0, \"alert\": \"Insufficient objects\"},\n",
    "                   \"tags\": {\"do_check\": True, \"qt\": 0, \"alert\": \"Insufficient tags\"},\n",
    "                   \"galaxies\": {\"do_check\": True, \"qt\": 0, \"alert\": \"Insufficient galaxies\"},\n",
    "                   \"tlp_white\": {\"distribution\": [3], \"alert\": \"The event is tagged as tlp:white, yet the distribution is not set to all.\"},\n",
    "                   \"tlp_green\": {\"distribution\": [1, 2, 3], \"alert\": \"The event is tagged as tlp:green, yet the distribution is not set to community, connected communities or all.\"},\n",
    "                   \"tlp_amber\": {\"distribution\": [0, 1, 2, 4], \"alert\": \"The event is tagged as tlp:amber, yet the distribution is set to {}, be aware of potential information leakage.\"},\n",
    "                   \"tlp_red\": {\"distribution\": [0, 1, 2, 4], \"alert\": \"The event is tagged as tlp:red, yet the distribution is set to {}, be aware of potential information leakage.\"},\n",
    "                   \"valid_tlps\": {\"tlps\": [\"tlp:white\", \"tlp:green\", \"tlp:amber\", \"tlp:red\", \"tlp:ex:chr\", \"tlp:clear\", \"tlp:amber+strict\"], \"alert\": \"Unknown TLP tag, please refer to the TLP taxonomy as to what is valid, otherwise filtering rules created by your partners may miss your intent.\"},\n",
    "                   \"valid_tlps_required\": {\"alert\": \"The event does not have a valid TLP designation.\"},\n",
    "                   \"valid_tlps_global\": {\"alert\": \"The TLP tag is a 'local' tag. It needs to be a 'global' to be efficient and synchronise to your partners.\"},\n",
    "                   \"pap_white\": {\"distribution\": [3], \"alert\": \"The event is tagged with PAP:WHITE, yet the distribution is not set to all.\"},\n",
    "                   \"pap_red\": {\"distribution\": [0, 1, 2, 4], \"alert\": \"The event is tagged with PAP:RED, yet the distribution is set to {}, be aware of that information can be used on unintendedly.\"},\n",
    "                   \"workflow_tag_complete\": {\"do_check\": True, \"alert\": \"The workflow state is set to complete, yet the event is not published.\"},\n",
    "                   \"workflow_tag_incomplete\": {\"do_check\": True, \"alert\": \"The workflow state is set to incomplete, yet the event is published.\"},\n",
    "                   \"workflow_tag_rejected\": {\"do_check\": True, \"alert\": \"The workflow state is set to rejected, yet the event is published.\"},                   \n",
    "                   \"workflow_tag_local\": {\"do_check\": True, \"alert\": \"The workflow tag is not a 'local' tag. In general workflow tags should not be shared outside your organisation.\"},\n",
    "                   \"workflow_tag_todo\":  {\"do_check\": True, \"alert\": \"There are remaining workflow todo tasks, yet the event is already published.\"},\n",
    "                   \"required_tags\": {\"do_check\": True, \"tags\": [\"workflow:state\"], \"alert\": \"One or more of the required tags is missing.\"},\n",
    "                    }\n",
    "distribution_labels = {0: \"Your organisation only\", 1: \"This community only\", 2: \"Connected communities\", 3:\"All communities\", 4:\"Sharing groups\"}\n",
    "result_limit = 100\n",
    "\n",
    "playbook_results = {}\n",
    "insufficient_count = {\"attributes\": 0, \"objects\": 0, \"tags\": 0, \"galaxies\": 0, \"distribution\": 0, \"valid_tlps\": 0, \n",
    "                        \"valid_tlps_required\": 0, \"valid_tlps_global\": 0, \"workflow_tag\": 0, \"required_tags\": 0}"
   ]
  },
  {
   "cell_type": "markdown",
   "id": "e300e5f6-f851-4b39-82ef-e642f339619a",
   "metadata": {},
   "source": [
    "# Event quality check\n",
    "\n",
    "The next cell reviews the MISP events for various inconsistencies. To avoid memory issues, the playbook does not use `pythonify=True`. The checks include\n",
    "\n",
    "- Verify there are sufficient **attributes**, **objects**, **tags** and **galaxies**;\n",
    "- Review if the Traffic Light Protocol (**TLP**) and Permissible Actions Protocol (**PAP**) do not contradict with the event **distribution** setting;\n",
    "- Check that the **workflow** tags make sense with the event publish state.\n",
    "\n",
    "You can disable checks by setting their corresponding `do_check` value to False. \n",
    "\n",
    "You can also add additional filters to the MISP event search by changing the line starting with `event_list = misp.search(\"events\" ...`. One of the filters is `org_list`. It allows to limit the search to one or a list of **organisations**. Set the value to False to include all organisations. Additional filters are for example\n",
    "- `published` : published or not-published events\n",
    "- `date_from` and `date_to` : filter on event dates\n",
    "- `tags` : specify a list of tags\n",
    "- and many more, basically all those available to the MISP [REST API search](https://www.misp-project.org/openapi/#tag/Events/operation/restSearchEvents)\n",
    "\n",
    "## RE:1 Review events for inconsistencies"
   ]
  },
  {
   "cell_type": "code",
   "execution_count": 16,
   "id": "e16c8755-cdc8-4598-9e11-339406d06081",
   "metadata": {
    "tags": []
   },
   "outputs": [
    {
     "name": "stdout",
     "output_type": "stream",
     "text": [
      "Searching for events ...\n",
      " Page 1 with 18 results.\n",
      "Finished searching. Processed \u001b[92m18\u001b[90m events.\n"
     ]
    }
   ],
   "source": [
    "# Only consider events created by the below organisations. Set to False to include events from all orgs\n",
    "org_list = [1, 2, 14, 16]\n",
    "#org_list = False\n",
    "\n",
    "\n",
    "print(\"Searching for events ...\")\n",
    "current_page = 1\n",
    "processed_events = 0\n",
    "\n",
    "while True:\n",
    "    # Don't use pythonify=True to limit memory usage\n",
    "    event_list = misp.search(\"events\", org=org_list, limit=result_limit, page=current_page)\n",
    "    len_event_list = len(event_list)\n",
    "    if len_event_list == 0:\n",
    "        break\n",
    "\n",
    "    print(\" Page {} with {} results.\".format(current_page, len_event_list))\n",
    "    for el in event_list:\n",
    "        if not el.get(\"Event\", False):\n",
    "            break\n",
    "        event = el[\"Event\"]\n",
    "\n",
    "        # Sufficient elements in the events?\n",
    "        check_sufficient_in_event(event, \"Attribute\", \"attributes\", playbook_checks[\"attributes\"][\"do_check\"])\n",
    "        check_sufficient_in_event(event, \"Object\", \"objects\", playbook_checks[\"objects\"][\"do_check\"])\n",
    "        check_sufficient_in_event(event, \"Galaxy\", \"galaxies\", playbook_checks[\"galaxies\"][\"do_check\"])\n",
    "\n",
    "        tlp_present = False\n",
    "        qt_tags = 0\n",
    "        tag_list = []\n",
    "        for tag in event.get(\"Tag\", []):\n",
    "            # Skip tag count if it refers to a galaxy\n",
    "            if not tag[\"is_galaxy\"] is True:\n",
    "                tag_list.append(tag[\"name\"].strip())\n",
    "                qt_tags += 1\n",
    "\n",
    "            # Workflow tags for threat intelligence curation\n",
    "            check_workflow_tag(event, tag, playbook_checks[\"workflow_tag_complete\"][\"do_check\"], playbook_checks[\"workflow_tag_local\"][\"do_check\"], \"workflow:state=\\\"complete\\\"\", \"workflow_tag_complete\", False)\n",
    "            check_workflow_tag(event, tag, playbook_checks[\"workflow_tag_incomplete\"][\"do_check\"], playbook_checks[\"workflow_tag_local\"][\"do_check\"], \"workflow:state=\\\"incomplete\\\"\", \"workflow_tag_incomplete\", True)\n",
    "            check_workflow_tag(event, tag, playbook_checks[\"workflow_tag_rejected\"][\"do_check\"], playbook_checks[\"workflow_tag_local\"][\"do_check\"], \"workflow:state=\\\"rejected\\\"\", \"workflow_tag_rejected\", True)\n",
    "  \n",
    "            # Check for published events with remaining todo tags\n",
    "            if playbook_checks[\"workflow_tag_todo\"][\"do_check\"] and \"workflow:todo=\" in tag[\"name\"]:\n",
    "                if event[\"published\"] is True:\n",
    "                    insufficient_count[\"workflow_tag\"] += 1\n",
    "                    add_event_alert(playbook_results, event[\"id\"], event[\"info\"], playbook_checks[\"workflow_tag_todo\"][\"alert\"])\n",
    "\n",
    "            # Review the distribution settings while we process the tags\n",
    "            check_marking_distribution(event, tag, \"PAP:WHITE\", \"pap_white\")\n",
    "            check_marking_distribution(event, tag, \"PAP:RED\", \"pap_red\")\n",
    "            check_marking_distribution(event, tag, \"tlp:white\", \"tlp_white\")\n",
    "            check_marking_distribution(event, tag, \"tlp:green\", \"tlp_green\")\n",
    "            check_marking_distribution(event, tag, \"tlp:amber\", \"tlp_amber\")\n",
    "            check_marking_distribution(event, tag, \"tlp:red\", \"tlp_red\")\n",
    "\n",
    "            # Check if the tag is from TLP taxonomy\n",
    "            tag_name = tag[\"name\"].lower().strip()\n",
    "            if \"tlp:\" in tag_name or \"threat tlp:\" in tag_name or \"tlp=\" in tag_name:\n",
    "                if not tag[\"name\"] in playbook_checks[\"valid_tlps\"][\"tlps\"]:\n",
    "                    insufficient_count[\"valid_tlps\"] += 1\n",
    "                    add_event_alert(playbook_results, event[\"id\"], event[\"info\"], playbook_checks[\"valid_tlps\"][\"alert\"])\n",
    "                else:\n",
    "                    tlp_present = True\n",
    "                    if tag[\"local\"] == 1:\n",
    "                        insufficient_count[\"valid_tlps_global\"] += 1\n",
    "                        add_event_alert(playbook_results, event[\"id\"], event[\"info\"], playbook_checks[\"valid_tlps_global\"][\"alert\"])\n",
    "\n",
    "        # Finished processing the tags. Summarise results for tags\n",
    "        if not tlp_present:\n",
    "            insufficient_count[\"valid_tlps_required\"] += 1\n",
    "            add_event_alert(playbook_results, event[\"id\"], event[\"info\"], playbook_checks[\"valid_tlps_required\"][\"alert\"])\n",
    "\n",
    "        if playbook_checks[\"required_tags\"][\"do_check\"]:\n",
    "            required_tags = all(any(tag in element for element in tag_list) for tag in playbook_checks[\"required_tags\"][\"tags\"])\n",
    "            if not required_tags:\n",
    "                insufficient_count[\"required_tags\"] += 1\n",
    "                add_event_alert(playbook_results, event[\"id\"], event[\"info\"], playbook_checks[\"required_tags\"][\"alert\"])\n",
    "\n",
    "        if playbook_checks[\"tags\"][\"do_check\"] and not qt_tags > playbook_checks[\"tags\"][\"qt\"]:\n",
    "            insufficient_count[\"tags\"] += 1\n",
    "            add_event_alert(playbook_results, event[\"id\"], event[\"info\"], playbook_checks[\"tags\"][\"alert\"])\n",
    "\n",
    "        processed_events += 1\n",
    "    current_page += 1\n",
    "\n",
    "print(\"Finished searching. Processed \\033[92m{}\\033[90m events.\".format(processed_events))"
   ]
  },
  {
   "cell_type": "markdown",
   "id": "910c3a19-128a-4cdf-a371-c452e5e8a265",
   "metadata": {},
   "source": [
    "## RE:2 Summary of findings\n",
    "\n",
    "Print out a short summary of the findings. The closure section will create a detailed overview of events that require improvement."
   ]
  },
  {
   "cell_type": "code",
   "execution_count": 17,
   "id": "8ed7eada-4cf4-4cbe-bdef-e5ee92d1615c",
   "metadata": {},
   "outputs": [
    {
     "name": "stdout",
     "output_type": "stream",
     "text": [
      "\n",
      "Summary of the playbook findings:\n",
      " \u001b[91m1\u001b[90m alerts for attributes\n",
      " \u001b[91m0\u001b[90m alerts for objects\n",
      " \u001b[91m0\u001b[90m alerts for tags\n",
      " \u001b[91m3\u001b[90m alerts for galaxies\n",
      " \u001b[91m1\u001b[90m alerts for distribution settings\n",
      " \u001b[91m0\u001b[90m alerts for valid_tlps\n",
      " \u001b[91m1\u001b[90m alerts for valid_tlps_required\n",
      " \u001b[91m1\u001b[90m alerts for workflow_tag\n",
      " \u001b[91m5\u001b[90m alerts for required_tags\n"
     ]
    }
   ],
   "source": [
    "print(\"\\nSummary of the playbook findings:\")\n",
    "print(\" \\033[91m{}\\033[90m alerts for attributes\".format(insufficient_count[\"attributes\"]))\n",
    "print(\" \\033[91m{}\\033[90m alerts for objects\".format(insufficient_count[\"objects\"]))\n",
    "print(\" \\033[91m{}\\033[90m alerts for tags\".format(insufficient_count[\"tags\"]))\n",
    "print(\" \\033[91m{}\\033[90m alerts for galaxies\".format(insufficient_count[\"galaxies\"]))\n",
    "print(\" \\033[91m{}\\033[90m alerts for distribution settings\".format(insufficient_count[\"distribution\"]))\n",
    "print(\" \\033[91m{}\\033[90m alerts for valid_tlps\".format(insufficient_count[\"valid_tlps\"]))\n",
    "print(\" \\033[91m{}\\033[90m alerts for valid_tlps_required\".format(insufficient_count[\"valid_tlps_required\"]))\n",
    "print(\" \\033[91m{}\\033[90m alerts for workflow_tag\".format(insufficient_count[\"workflow_tag\"]))\n",
    "print(\" \\033[91m{}\\033[90m alerts for required_tags\".format(insufficient_count[\"required_tags\"]))\n",
    "\n",
    "# A JSON dump of the results can be printed with the below command\n",
    "#print(json.dumps(playbook_results, indent=4))"
   ]
  },
  {
   "cell_type": "markdown",
   "id": "0f2705b5-60c7-4e70-a8b5-7268156319a9",
   "metadata": {},
   "source": [
    "## RE:3 Details of our findings\n",
    "\n",
    "### Summarised by alert\n",
    "\n",
    "Print the findings summarised per **alert** type."
   ]
  },
  {
   "cell_type": "code",
   "execution_count": 18,
   "id": "d9bd5cb8-64de-440f-aa8d-0719d89ea5b0",
   "metadata": {
    "tags": []
   },
   "outputs": [
    {
     "name": "stdout",
     "output_type": "stream",
     "text": [
      "+---------------------------------------------------------------------------+------------------------------------------------------------------------+\n",
      "| Alert                                                                     | Events                                                                 |\n",
      "+---------------------------------------------------------------------------+------------------------------------------------------------------------+\n",
      "| Insufficient attributes                                                   | 3138 - Malware triage for incident in L2/L3                            |\n",
      "|                                                                           |                                                                        |\n",
      "| Insufficient galaxies                                                     | 1873 - Stantinko investigation                                         |\n",
      "|                                                                           | 3037 - MAR-10382580.r1.v1: Unidentified RAT                            |\n",
      "|                                                                           | 3288 - ThreatFox IOCs for 2022-05-17                                   |\n",
      "|                                                                           |                                                                        |\n",
      "| One or more of the required tags is missing.                              | 2658 - AA23-136A StopRansomware BianLian Ransomware Group              |\n",
      "|                                                                           | 2949 - Campaigns abusing corporate trusted infrastructure hunt for     |\n",
      "|                                                                           | corporate credentials on ICS networks                                  |\n",
      "|                                                                           | 2977 - Targeted attack on industrial enterprises and public            |\n",
      "|                                                                           | institutions                                                           |\n",
      "|                                                                           | 2979 - MeteorExpress Mysterious Wiper Paralyzes Iranian Trains         |\n",
      "|                                                                           | 3037 - MAR-10382580.r1.v1: Unidentified RAT                            |\n",
      "|                                                                           |                                                                        |\n",
      "| The event does not have a valid TLP designation.                          | 1873 - Stantinko investigation                                         |\n",
      "|                                                                           |                                                                        |\n",
      "| The event is tagged as tlp:white, yet the distribution is not set to all. | 3037 - MAR-10382580.r1.v1: Unidentified RAT                            |\n",
      "|                                                                           |                                                                        |\n",
      "| The workflow state is set to complete, yet the event is not published.    | 2178 - Turla Outlook White Paper                                       |\n",
      "|                                                                           |                                                                        |\n",
      "+---------------------------------------------------------------------------+------------------------------------------------------------------------+\n"
     ]
    }
   ],
   "source": [
    "table = PrettyTable()\n",
    "table.field_names = [\"Alert\", \"Events\"]\n",
    "table.align[\"Events\"] = \"l\"\n",
    "table.align[\"Alert\"] = \"l\"\n",
    "table._max_width = {\"Alert\": 80, \"Events\": 70}\n",
    "alert_list = {}\n",
    "for key, event in playbook_results.items():\n",
    "    for alert in event[\"alerts\"]:\n",
    "        if alert in alert_list:\n",
    "            alert_list[alert].append(\"{} - {}\".format(key, event[\"info\"]))\n",
    "        else:\n",
    "            alert_list[alert] = [\"{} - {}\".format(key, event[\"info\"])]\n",
    "for alert in alert_list:\n",
    "    event_string = \"\"\n",
    "    for event in alert_list[alert]:\n",
    "        event_string = \"{}{}\\n\".format(event_string, event)\n",
    "    table.add_row([alert, event_string])\n",
    "print(table.get_string(sortby=\"Alert\"))\n",
    "misp_alerts = table"
   ]
  },
  {
   "cell_type": "markdown",
   "id": "81e96b11-8e98-446b-b0b4-8b580f9d97de",
   "metadata": {},
   "source": [
    "### Summarised by event\n",
    "\n",
    "Print the findings summarised by MISP **event**."
   ]
  },
  {
   "cell_type": "code",
   "execution_count": 19,
   "id": "88f28c18-05a2-4c08-9015-532e5df92fc2",
   "metadata": {
    "tags": []
   },
   "outputs": [
    {
     "name": "stdout",
     "output_type": "stream",
     "text": [
      "+------+------------------------------------------------------------------------+---------------------------------------------------------------------------+\n",
      "| ID   | Event title                                                            | Alerts                                                                    |\n",
      "+------+------------------------------------------------------------------------+---------------------------------------------------------------------------+\n",
      "| 1873 | Stantinko investigation                                                | Insufficient galaxies                                                     |\n",
      "|      |                                                                        | The event does not have a valid TLP designation.                          |\n",
      "|      |                                                                        |                                                                           |\n",
      "| 2178 | Turla Outlook White Paper                                              | The workflow state is set to complete, yet the event is not published.    |\n",
      "|      |                                                                        |                                                                           |\n",
      "| 2658 | AA23-136A StopRansomware BianLian Ransomware Group                     | One or more of the required tags is missing.                              |\n",
      "|      |                                                                        |                                                                           |\n",
      "| 2949 | Campaigns abusing corporate trusted infrastructure hunt for corporate  | One or more of the required tags is missing.                              |\n",
      "|      | credentials on ICS networks                                            |                                                                           |\n",
      "| 2977 | Targeted attack on industrial enterprises and public institutions      | One or more of the required tags is missing.                              |\n",
      "|      |                                                                        |                                                                           |\n",
      "| 2979 | MeteorExpress Mysterious Wiper Paralyzes Iranian Trains                | One or more of the required tags is missing.                              |\n",
      "|      |                                                                        |                                                                           |\n",
      "| 3037 | MAR-10382580.r1.v1: Unidentified RAT                                   | Insufficient galaxies                                                     |\n",
      "|      |                                                                        | The event is tagged as tlp:white, yet the distribution is not set to all. |\n",
      "|      |                                                                        | One or more of the required tags is missing.                              |\n",
      "|      |                                                                        |                                                                           |\n",
      "| 3138 | Malware triage for incident in L2/L3                                   | Insufficient attributes                                                   |\n",
      "|      |                                                                        |                                                                           |\n",
      "| 3288 | ThreatFox IOCs for 2022-05-17                                          | Insufficient galaxies                                                     |\n",
      "|      |                                                                        |                                                                           |\n",
      "+------+------------------------------------------------------------------------+---------------------------------------------------------------------------+\n"
     ]
    }
   ],
   "source": [
    "table = PrettyTable()\n",
    "table.field_names = [\"ID\", \"Event title\", \"Alerts\"]\n",
    "table.align[\"Event title\"] = \"l\"\n",
    "table.align[\"ID\"] = \"l\"\n",
    "table.align[\"Alerts\"] = \"l\"\n",
    "table._max_width = {\"Alerts\": 80, \"Event title\": 70}\n",
    "for key, event in playbook_results.items():\n",
    "    alert_string = \"\"\n",
    "    for alert in event[\"alerts\"]:\n",
    "        alert_string = \"{}{}\\n\".format(alert_string, alert)\n",
    "    table.add_row([key, event[\"info\"], alert_string])\n",
    "print(table.get_string(sortby=\"ID\"))\n",
    "misp_events = table"
   ]
  },
  {
   "cell_type": "markdown",
   "id": "70dea5ca",
   "metadata": {},
   "source": [
    "# Closure\n",
    "\n",
    "In this **closure** or end step we create a **summary** of the actions that were performed by the playbook. The summary is printed and can also be send to a chat channel. "
   ]
  },
  {
   "cell_type": "markdown",
   "id": "75b87ba6-19cc-4127-9299-480f708a61ff",
   "metadata": {},
   "source": [
    "## EN:1 Create the summary of the playbook \n",
    "\n",
    "The next section creates a summary and stores the output in the variable `summary` in Markdown format. It also stores an intro text in the variable `intro`. These variables can later be used when sending information to Mattermost or TheHive."
   ]
  },
  {
   "cell_type": "code",
   "execution_count": 20,
   "id": "12561137-e759-440b-9d21-dc6def901cbc",
   "metadata": {
    "tags": []
   },
   "outputs": [
    {
     "name": "stdout",
     "output_type": "stream",
     "text": [
      "The \u001b[92msummary\u001b[90m of the playbook is available.\n",
      "\n"
     ]
    }
   ],
   "source": [
    "summary = \"# MISP Playbook summary\\nQuery MISP events for inconsistencies \\n\\n\"\n",
    "\n",
    "current_date = datetime.now()\n",
    "formatted_date = current_date.strftime(\"%Y-%m-%d\")\n",
    "summary += \"## Overview\\n\\n\"\n",
    "summary += \"- Date: **{}**\\n\".format(formatted_date)\n",
    "summary += \"- Events reviewed: **{}**\\n\".format(processed_events)\n",
    "summary += \"- Insufficient **attributes**: **{}**\\n\".format(insufficient_count[\"attributes\"])\n",
    "summary += \"- Insufficient **objects**: **{}**\\n\".format(insufficient_count[\"objects\"])\n",
    "summary += \"- Insufficient **tags**: **{}**\\n\".format(insufficient_count[\"tags\"])\n",
    "summary += \"- Insufficient **galaxies**: **{}**\\n\".format(insufficient_count[\"galaxies\"])\n",
    "summary += \"- Inconsistent **distribution** settings: **{}**\\n\".format(insufficient_count[\"distribution\"])\n",
    "summary += \"- Invalid Traffic Light Protocol (**TLP**) designations: **{}**\\n\".format(insufficient_count[\"valid_tlps\"])\n",
    "summary += \"- **Missing TLP**: **{}**\\n\".format(insufficient_count[\"valid_tlps_required\"])\n",
    "summary += \"- Inconsistent **workflow** tags: **{}**\\n\".format(insufficient_count[\"workflow_tag\"])\n",
    "summary += \"- **Required tags** not present: **{}**\\n\".format(insufficient_count[\"required_tags\"])\n",
    "\n",
    "summary += \"\\n\\n\"\n",
    "summary += \"## Alerts\\n\\n\"\n",
    "misp_alerts.set_style(MARKDOWN)\n",
    "summary += misp_alerts.get_string(sortby=\"Alert\")\n",
    "\n",
    "summary += \"\\n\\n\"\n",
    "summary += \"## Events\\n\\n\"\n",
    "misp_events.set_style(MARKDOWN)\n",
    "summary += misp_events.get_string(sortby=\"ID\")\n",
    "summary += \"\\n\\n\"\n",
    "\n",
    "print(\"The \\033[92msummary\\033[90m of the playbook is available.\\n\")"
   ]
  },
  {
   "cell_type": "markdown",
   "id": "eba96062-deaa-4fb9-8302-7b3ef829201e",
   "metadata": {},
   "source": [
    "## EN:2 Send a summary to Mattermost\n",
    "\n",
    "Now you can send the summary to Mattermost. You can send the summary in two ways by selecting one of the options for the variable `send_to_mattermost_option` in the next cell.\n",
    "\n",
    "- The default option where the entire summary is in the **chat**, or\n",
    "- a short intro and the summary in a **card**\n",
    "\n",
    "For this playbook we rely on a webhook in Mattermost. You can add a webhook by choosing the gear icon in Mattermost, then choose Integrations and then **Incoming Webhooks**. Set a channel for the webhook and lock the webhook to this channel with *\"Lock to this channel\"*."
   ]
  },
  {
   "cell_type": "code",
   "execution_count": 21,
   "id": "8c455bc3-35cc-436d-8237-95c81b57208f",
   "metadata": {
    "tags": []
   },
   "outputs": [],
   "source": [
    "send_to_mattermost_option = \"via a chat message\"\n",
    "#send_to_mattermost_option = \"via a chat message with card\""
   ]
  },
  {
   "cell_type": "code",
   "execution_count": 22,
   "id": "ca49f33e",
   "metadata": {},
   "outputs": [
    {
     "name": "stdout",
     "output_type": "stream",
     "text": [
      "Summary is \u001b[92msent to Mattermost.\n",
      "\n"
     ]
    }
   ],
   "source": [
    "message = False\n",
    "if send_to_mattermost_option == \"via a chat message\":\n",
    "    message = {\"username\": mattermost_playbook_user, \"text\": summary}\n",
    "elif send_to_mattermost_option == \"via a chat message with card\":\n",
    "    message = {\"username\": mattermost_playbook_user, \"text\": intro, \"props\": {\"card\": summary}}\n",
    "\n",
    "if message:\n",
    "    r = requests.post(mattermost_hook, data=json.dumps(message))\n",
    "    r.raise_for_status()\n",
    "if message and r.status_code == 200:\n",
    "    print(\"Summary is \\033[92msent to Mattermost.\\n\")\n",
    "else:\n",
    "    print(\"\\033[91mFailed to sent summary\\033[90m to Mattermost.\\n\")"
   ]
  },
  {
   "cell_type": "markdown",
   "id": "498b8eff-7d1b-47b7-90c4-e13cc738b36c",
   "metadata": {},
   "source": [
    "## EN:3 End of the playbook "
   ]
  },
  {
   "cell_type": "code",
   "execution_count": 23,
   "id": "4c03bb30",
   "metadata": {},
   "outputs": [
    {
     "name": "stdout",
     "output_type": "stream",
     "text": [
      "\u001b[92m End of the playbook\n"
     ]
    }
   ],
   "source": [
    "print(\"\\033[92m End of the playbook\")\n"
   ]
  },
  {
   "cell_type": "markdown",
   "id": "b17af9f2",
   "metadata": {},
   "source": [
    "## External references <a name=\"extreferences\"></a>\n",
    "\n",
    "- [The MISP Project](https://www.misp-project.org/)\n",
    "- [Mattermost](https://mattermost.com/)"
   ]
  },
  {
   "cell_type": "markdown",
   "id": "e1c813f6",
   "metadata": {},
   "source": [
    "## Technical details \n",
    "\n",
    "### Documentation\n",
    "\n",
    "This playbook requires these Python **libraries** to exist in the environment where the playbook is executed. You can install them with `pip install <library>`.\n",
    "\n",
    "```\n",
    "pyfaup\n",
    "chardet\n",
    "PrettyTable\n",
    "ipywidgets\n",
    "```\n",
    "\n",
    "### Colour codes\n",
    "\n",
    "The output from Python displays some text in different colours. These are the colour codes\n",
    "\n",
    "```\n",
    "Red = '\\033[91m'\n",
    "Green = '\\033[92m'\n",
    "Blue = '\\033[94m'\n",
    "Cyan = '\\033[96m'\n",
    "White = '\\033[97m'\n",
    "Yellow = '\\033[93m'\n",
    "Magenta = '\\033[95m'\n",
    "Grey = '\\033[90m'\n",
    "Black = '\\033[90m'\n",
    "Default = '\\033[99m'\n",
    "```"
   ]
  },
  {
   "cell_type": "code",
   "execution_count": null,
   "id": "14dce812-e432-4c18-8358-f8b66e5b94a5",
   "metadata": {},
   "outputs": [],
   "source": []
  }
 ],
 "metadata": {
  "celltoolbar": "Attachments",
  "kernelspec": {
   "display_name": "Python 3 (ipykernel)",
   "language": "python",
   "name": "python3"
  },
  "language_info": {
   "codemirror_mode": {
    "name": "ipython",
    "version": 3
   },
   "file_extension": ".py",
   "mimetype": "text/x-python",
   "name": "python",
   "nbconvert_exporter": "python",
   "pygments_lexer": "ipython3",
   "version": "3.8.10"
  },
  "toc-showcode": false,
  "toc-showmarkdowntxt": false
 },
 "nbformat": 4,
 "nbformat_minor": 5
}
