{
 "cells": [
  {
   "cell_type": "markdown",
   "id": "ca1fbfb5",
   "metadata": {
    "tags": [
     "playbook-introduction"
    ]
   },
   "source": [
    "# Check MISP server connection\n",
    "\n",
    "## Introduction\n",
    "\n",
    "- UUID: **53adc7a4-feb1-4de8-af09-d3c0104cb67f**\n",
    "- State: **Published**\n",
    "- Purpose: Check the connection with a MISP server.\n",
    "- Tags: [ \"administration\", \"audit\", \"sync\" ]\n",
    "- External resources: -\n",
    "- Target audience: **SOC**, **CSIRT**, **CTI**\n"
   ]
  },
  {
   "cell_type": "markdown",
   "id": "8dc24913",
   "metadata": {
    "tags": []
   },
   "source": [
    "# PR:1 Preparation"
   ]
  },
  {
   "cell_type": "code",
   "execution_count": null,
   "id": "5f94c336",
   "metadata": {
    "tags": []
   },
   "outputs": [],
   "source": [
    "# Initialise Python environment\n",
    "import urllib3\n",
    "import json\n",
    "import requests"
   ]
  },
  {
   "cell_type": "markdown",
   "id": "2243ae8b-cb77-4835-a0cd-2738ee8c9bec",
   "metadata": {},
   "source": [
    "# CN:1 Configure MISP server"
   ]
  },
  {
   "cell_type": "code",
   "execution_count": null,
   "id": "9e7f3360-71ad-4e47-aed2-118a7797585f",
   "metadata": {
    "tags": []
   },
   "outputs": [],
   "source": [
    "misp_server = \"\" # MISP server\n",
    "misp_api_key = \"\" # API key\n",
    "misp_verifycert = False # Check certificate"
   ]
  },
  {
   "cell_type": "markdown",
   "id": "399c71a9-2765-4414-82e4-0a91b8edb6da",
   "metadata": {},
   "source": [
    "# IN:1 Investigate"
   ]
  },
  {
   "cell_type": "code",
   "execution_count": null,
   "id": "5642187e-4e57-485b-b898-62ed766e2fae",
   "metadata": {
    "tags": []
   },
   "outputs": [],
   "source": [
    "if misp_verifycert is False:\n",
    "    import urllib3\n",
    "    urllib3.disable_warnings(urllib3.exceptions.InsecureRequestWarning)\n",
    "    \n",
    "headers = {\n",
    "    \"Authorization\": misp_api_key,\n",
    "    \"Accept\": \"application/json\",\n",
    "    \"Content-Type\": \"application/json\"\n",
    "}\n",
    "endpoint = \"/servers/getVersion\"\n",
    "url = f\"{misp_server}{endpoint}\"\n",
    "\n",
    "data = None\n",
    "try:\n",
    "    response = requests.get(url, headers=headers, verify=misp_verifycert)\n",
    "    response.raise_for_status()\n",
    "    data = response.json()\n",
    "    if 'version' in data:\n",
    "        print(f\"Access to {misp_server}. It has version: {data['version']}\")\n",
    "    else:\n",
    "        print(data)\n",
    "        print(\"Unexpected response format:\", data)\n",
    "except requests.exceptions.HTTPError as http_err:\n",
    "    print(\"HTTP status code: \",response.status_code)\n",
    "    print(\"Reason: \", response.text)\n",
    "    if response.status_code == 400:\n",
    "        print(\"Bad Request: Check your request parameters.\")\n",
    "    elif response.status_code == 401:\n",
    "        print(\"Unauthorized: Invalid API key or insufficient permissions.\")\n",
    "    elif response.status_code == 403:\n",
    "        print(\"Forbidden: You do not have permission to access this resource.\")\n",
    "    elif response.status_code == 404:\n",
    "        print(\"Not Found: The requested endpoint does not exist.\")\n",
    "    elif response.status_code == 500:\n",
    "        print(\"Internal Server Error: MISP server might be experiencing issues.\")\n",
    "    else:\n",
    "        print(f\"HTTP error occurred: {http_err} (Status Code: {response.status_code})\")\n",
    "except requests.exceptions.ConnectionError:\n",
    "    print(\"Error: Unable to connect to the MISP server. Check the URL or network.\")\n",
    "except requests.exceptions.Timeout:\n",
    "    print(\"Error: The request timed out. Try again later.\")\n",
    "except requests.exceptions.RequestException as req_err:\n",
    "    print(f\"An unexpected error occurred: {req_err}\")"
   ]
  },
  {
   "cell_type": "markdown",
   "id": "498b8eff-7d1b-47b7-90c4-e13cc738b36c",
   "metadata": {},
   "source": [
    "## EN:1 End of the playbook "
   ]
  },
  {
   "cell_type": "code",
   "execution_count": null,
   "id": "4c03bb30",
   "metadata": {},
   "outputs": [],
   "source": [
    "print(\"\\033[92m End of the playbook\")\n"
   ]
  },
  {
   "cell_type": "markdown",
   "id": "b17af9f2",
   "metadata": {},
   "source": [
    "## External references <a name=\"extreferences\"></a>\n",
    "\n",
    "- [The MISP Project](https://www.misp-project.org/)"
   ]
  },
  {
   "cell_type": "markdown",
   "id": "e1c813f6",
   "metadata": {},
   "source": [
    "## Technical details \n",
    "\n",
    "### Documentation\n",
    "\n",
    "This playbook requires these Python **libraries** to exist in the environment where the playbook is executed. You can install them with `pip install <library>`.\n",
    "\n",
    "```\n",
    "urllib3\n",
    "json\n",
    "requests\n",
    "```"
   ]
  },
  {
   "cell_type": "code",
   "execution_count": null,
   "id": "14dce812-e432-4c18-8358-f8b66e5b94a5",
   "metadata": {},
   "outputs": [],
   "source": []
  },
  {
   "cell_type": "code",
   "execution_count": null,
   "id": "65fe6804-13d9-4c74-bc1f-0e33e4e97d31",
   "metadata": {},
   "outputs": [],
   "source": []
  }
 ],
 "metadata": {
  "celltoolbar": "Attachments",
  "kernelspec": {
   "display_name": "Python 3 (ipykernel)",
   "language": "python",
   "name": "python3"
  },
  "language_info": {
   "codemirror_mode": {
    "name": "ipython",
    "version": 3
   },
   "file_extension": ".py",
   "mimetype": "text/x-python",
   "name": "python",
   "nbconvert_exporter": "python",
   "pygments_lexer": "ipython3",
   "version": "3.8.10"
  },
  "toc-showcode": false,
  "toc-showmarkdowntxt": false
 },
 "nbformat": 4,
 "nbformat_minor": 5
}
