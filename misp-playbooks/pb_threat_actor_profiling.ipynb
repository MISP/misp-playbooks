{
 "cells": [
  {
   "cell_type": "markdown",
   "id": "ca1fbfb5",
   "metadata": {
    "tags": [
     "playbook-introduction"
    ]
   },
   "source": [
    "# Threat Actor profiling\n",
    "\n",
    "## Introduction\n",
    "\n",
    "- UUID: **bf0d86c4-b795-48a7-a3a9-e625620d1726**\n",
    "- Started from [issue 26](https://github.com/MISP/misp-playbooks/issues/26)\n",
    "- State: **Published**\n",
    "- Purpose:\n",
    "    - This playbook queries MISP events associated with a specific **threat actor**. \n",
    "    - The playbook summaries the galaxies, **clusters** and tags from the MISP events, lists the **vulnerabilities** (CVE) and the actionable **indicators**. \n",
    "    - Optionally the playbook queries the **MITRE TAXII** server to get a list of associated techniques and software. \n",
    "    - The result of the playbook is a profile on a threat actor based on the MISP events. \n",
    "    - The results are stored in the playbook and sent to Mattermost and as an alert in TheHive.\n",
    "- Tags: [ \"mitre\", \"actor\", \"intrusion-set\", \"galaxies\", \"clusters\", \"contextualisation\" ]    \n",
    "- External resources: \n",
    "- Target audience: **CTI**\n",
    "\n",
    "![helpers/playbook-actor_profiling.png](helpers/playbook-actor_profiling.png)\n"
   ]
  },
  {
   "cell_type": "markdown",
   "id": "a512a2c1",
   "metadata": {
    "jp-MarkdownHeadingCollapsed": true,
    "tags": []
   },
   "source": [
    "# Playbook TOC\n",
    "\n",
    "- **Threat Actor profiling**\n",
    "   - Introduction\n",
    "- **Preparation**\n",
    "   - PR:1 Initialise environment\n",
    "   - PR:2 Set helper variables\n",
    "   - PR:3 MISP galaxies and clusters\n",
    "   - PR:4 Load galaxies and clusters\n",
    "- **Investigate**\n",
    "   - IN:1 User input: Which threat actor to profile?\n",
    "   - IN:2 Search threat actor in galaxy / cluster\n",
    "   - IN:3 MISP tags to search events\n",
    "   - IN:4 Additional tags for event filtering\n",
    "- **Profile**\n",
    "   - PO:1 Search MISP events\n",
    "   - PO:2 Context in other MISP events\n",
    "   - PO:3 Vulnerabilities exploited\n",
    "   - PO:4 Indicators\n",
    "   - PO:5 Victims, countries and incident types from galaxy/cluster\n",
    "   - PO:6 Information from MITRE\n",
    "- **Closure**\n",
    "   - EN:1 Create the summary of the playbook\n",
    "   - EN:2 Send a summary to Mattermost\n",
    "   - EN:3 Send an alert to TheHive\n",
    "   - EN:4 End of the playbook\n",
    "   - External references\n",
    "   - Technical details"
   ]
  },
  {
   "cell_type": "markdown",
   "id": "8dc24913",
   "metadata": {
    "tags": []
   },
   "source": [
    "# Preparation\n",
    "\n",
    "## PR:1 Initialise environment\n",
    "\n",
    "This section **initialises the playbook environment** and loads the required Python libraries. The credentials for MISP (**API key**) and other services are loaded from the file `keys.py` in the directory **vault**. A [PyMISP](https://github.com/MISP/PyMISP) object is created to interact with MISP and the active MISP server is displayed. By printing out the server name you know that it's possible to connect to MISP. In case of a problem PyMISP will indicate the error with `PyMISPError: Unable to connect to MISP`.\n",
    "\n",
    "The contents of the `keys.py` file should contain at least :\n",
    "\n",
    "```\n",
    "misp_url=\"<MISP URL>\"                  # The URL to our MISP server\n",
    "misp_key=\"<MISP API KEY>\"              # The MISP API key\n",
    "misp_verifycert=<True or False>        # Indicate if PyMISP should attempt to verify the certificate or ignore errors\n",
    "\n",
    "mattermost_playbook_user\n",
    "mattermost_hook\n",
    "thehive_url\n",
    "thehive_key\n",
    "```"
   ]
  },
  {
   "cell_type": "code",
   "execution_count": null,
   "id": "5f94c336",
   "metadata": {
    "tags": []
   },
   "outputs": [],
   "source": [
    "# Initialise Python environment\n",
    "import urllib3\n",
    "import sys\n",
    "import json\n",
    "from prettytable import PrettyTable, MARKDOWN\n",
    "from datetime import date\n",
    "import requests\n",
    "import uuid\n",
    "from pymisp import *\n",
    "import time\n",
    "import csv\n",
    "import codecs\n",
    "from contextlib import closing\n",
    "from IPython.display import display, Image, Markdown, display_markdown\n",
    "import re\n",
    "from attackcti import attack_client\n",
    "import random\n",
    "\n",
    "# Load the credentials\n",
    "sys.path.insert(0, \"../vault/\")\n",
    "from keys import *\n",
    "if misp_verifycert is False:\n",
    "    import urllib3\n",
    "    urllib3.disable_warnings(urllib3.exceptions.InsecureRequestWarning)\n",
    "print(\"The \\033[92mPython libraries\\033[90m are loaded and the \\033[92mcredentials\\033[90m are read from the keys file.\")\n",
    "\n",
    "# Create the PyMISP object\n",
    "misp = PyMISP(misp_url, misp_key, misp_verifycert)\n",
    "print(\"I will use the MISP server \\033[92m{}\\033[90m for this playbook.\\n\\n\".format(misp_url))"
   ]
  },
  {
   "cell_type": "markdown",
   "id": "6b0fe9f4-23b1-4eec-bc61-8bc965ffc619",
   "metadata": {},
   "source": [
    "## PR:2 Set helper variables\n",
    "\n",
    "This cell contains **helper variables** for this playbook."
   ]
  },
  {
   "cell_type": "code",
   "execution_count": null,
   "id": "41745c8b-73d3-4e19-908b-3ab8107bc609",
   "metadata": {
    "tags": []
   },
   "outputs": [],
   "source": [
    "# Init variables\n",
    "threat_actors = {}\n",
    "search_actor = \"\"\n",
    "\n",
    "summary = \"\"\n",
    "table_mispevents, table_context, table_cve, table_indicators, table_mitre_techniques, table_mitre_software = \"\", \"\", \"\", \"\", \"\", \"\"\n",
    "playbook_results = {\"events\": [], \"galaxies\": [], \"galaxy_clusters\": [], \"tags\": [], \"vulnerabilities\": [], \"indicators\": {}}\n",
    "\n",
    "search_actor_match = {\"actors\": [], \"tags\": []}\n",
    "search_actor_tags = []\n",
    "search_actor_names = []\n",
    "actor_victims, actor_country, actor_incident_type, actor_target = [], [], [], []"
   ]
  },
  {
   "cell_type": "markdown",
   "id": "68cc353a-5505-4068-a6ab-ee8a75a1531f",
   "metadata": {},
   "source": [
    "## PR:3 MISP galaxies and clusters\n",
    "\n",
    "### What are galaxies and clusters?\n",
    "\n",
    "The MISP [galaxies and clusters](https://www.misp-project.org/galaxy.html) are an easy way for threat analysts to add **contextual information** to threat events. They allow you to refer to **threat actors**, tactics and techniques, malware and toolsets. They also allow you to express **relationships** between elements, such as threat actor synonyms, the software threat actors use or the techniques they employ.\n",
    "\n",
    "![helpers/playbook_actorprofile_galaxy_cluster_t1568001.png](helpers/playbook_actorprofile_galaxy_cluster_t1568001.png)\n",
    "\n",
    "### Threat actors\n",
    "\n",
    "The most popular galaxy is the one implementing the [MITRE ATT&CK](https://attack.mitre.org/) framework. In this framework  the threat actors are listed as [Intrusion Set](https://www.misp-project.org/galaxy.html#_intrusion_set). The most comprehensive group of threat actors is in the MISP Threat Actor galaxy. In this playbook we search in both sets, and the playbook will indicate in which set the threat actor has been found. Where possible, the link is made between the MISP Threat Actor galaxy and the MITRE ATT&CK Intrusion Set. There are other galaxies containing threat actors, such as the [Microsoft Activity Group](https://www.misp-project.org/galaxy.html#_microsoft_activity_group_actor), the [360.net Threat Actors](https://www.misp-project.org/galaxy.html#_360_net_threat_actors) or [Malpedia](https://www.misp-project.org/galaxy.html#_malpedia).\n",
    "\n",
    "### Metadata\n",
    "\n",
    "The [metadata](https://www.misp-standard.org/rfc/misp-standard-galaxy-format.html#name-meta) of clusters contain a list of custom defined JSON key value pairs that describe additional metadata, such as victims (cfr-suspected-victims) or targets (cfr-target-category). In this playbook we use this metadata to provide additional context for your results.\n",
    "\n",
    "### Relationships\n",
    "\n",
    "The MISP galaxies and clusters also contain relationships to other galaxies and clusters. Unfortunately in the current PyMISP version it's not possible to easily query these relationships. The relationships are available though via the \"normal\" MISP REST API. For example the below query returns the clusters (similar to the PyMISP functions `get_galaxy` and `get_galaxy_cluster`), but also includes a key `GalaxyClusterRelation`, that you can use to list the relationships.\n",
    "\n",
    "```\n",
    "curl \\\n",
    " -d '{\"id\":\"24769\"}' \\\n",
    " -H \"Authorization: MISP_KEY\" \\\n",
    " -H \"Accept: application/json\" \\\n",
    " -H \"Content-type: application/json\" \\\n",
    " -X POST https://MISP_URL/galaxy_clusters/restSearch\n",
    "```\n",
    "\n",
    "### Custom clusters\n",
    "\n",
    "You're not limited to the clusters that are provided by the MISP project. It's possible to add your own **private clusters**, for example to label exotic flavours of malware or track threat actors specifically targeting your organisation. You can add custom clusters by going to **Galaxies**, select a galaxy, then click on **Add cluster**. For your intel work it can be useful to add relations to similar threat actor groups, malware or attack techniques. And finally, do not forget to publish (similar as with MISP events) the cluster to make it available to your users.\n",
    "\n",
    "![helpers/playbook_actorprofile_customcluster1.png](helpers/playbook_actorprofile_customcluster1.png)\n",
    "\n",
    "![helpers/playbook_actorprofile_customcluster2.png](helpers/playbook_actorprofile_customcluster2.png)\n",
    "\n",
    "### MISP Threat Actor Intelligence Server\n",
    "\n",
    "In this playbook we use the galaxy and clusters available on your MISP server. As an alternative way of getting access to galaxies and clusters you can directly parse the JSON files that are in the [GitHub repository](https://github.com/MISP/misp-galaxy). But there's another, less known, option: the [MISP Threat Actor Intelligence Server](https://github.com/MISP/threat-actor-intelligence-server). You can setup your own server and there's also one freely available by the MISP project. You can use the results from this TAI (Threat Actor Intelligence) server with MISP playbooks but you can also leverage the results in other tools, such as during report composition.\n",
    "\n",
    "Execute the next cell to get a glimpse on what's available via such TAI server. This playbook is not using these results but they might give you some ideas how to use them in other use cases."
   ]
  },
  {
   "cell_type": "code",
   "execution_count": null,
   "id": "e0319a0e-f93e-4268-8eed-4e3d34ed8106",
   "metadata": {
    "tags": []
   },
   "outputs": [],
   "source": [
    "# Query the Threat Actor Intelligence server at misp-project.org.\n",
    "# You can skip executing this cell, it's added for demonstrating that there is a TAI\n",
    "\n",
    "search_actor = \"APT-28\"\n",
    "\n",
    "search_actor_str = re.sub(r'[^a-zA-Z0-9]', '', search_actor.lower().strip())\n",
    "intel_server_url = \"https://www.misp-project.org/tai/query\"\n",
    "headers = {\"Content-Type\":\"application/json\"}\n",
    "result = requests.post(intel_server_url, json={\"name\":search_actor_str}, headers=headers)\n",
    "print(json.dumps(result.json(), indent=2))"
   ]
  },
  {
   "cell_type": "markdown",
   "id": "76cdbcb4-21ce-40fc-9874-2f881b1f56cd",
   "metadata": {},
   "source": [
    "## PR:4 Load galaxies and clusters\n",
    "\n",
    "Tthe playbook first loads galaxies and clusters in the Python list `threat_actors`. It uses these galaxies to have a good coverage of threat actors:\n",
    "- [MISP Threat Actors](https://www.misp-project.org/galaxy.html#_threat_actor)\n",
    "- [MITRE ATT&CK Intrusion Sets](https://www.misp-project.org/galaxy.html#_intrusion_set)\n",
    "\n",
    "You can then use the playbook to search for threat actors via their name or their synonyms. Note that there is a PyMISP function [search_galaxy_clusters](https://pymisp.readthedocs.io/en/latest/_modules/pymisp/api.html#PyMISP.search_galaxy_clusters) that allows you to search for a value but in this playbook we want to restrict the search results to name and synoyms only.\n",
    "\n",
    "### Load the MISP Threat Actor galaxy"
   ]
  },
  {
   "cell_type": "code",
   "execution_count": null,
   "id": "793db5c9-b52e-4700-83db-f53d10a9ad5a",
   "metadata": {
    "tags": []
   },
   "outputs": [],
   "source": [
    "# Search in the MISP Threat Actor galaxy\n",
    "\n",
    "galaxy_id_misp = 0\n",
    "result = misp.search_galaxy(\"misp\")\n",
    "for galaxy in result:\n",
    "    if galaxy[\"Galaxy\"].get(\"name\", False) == \"Threat Actor\":\n",
    "        galaxy_id_misp = int(galaxy[\"Galaxy\"][\"id\"])\n",
    "if galaxy_id_misp > 0:\n",
    "    result = misp.get_galaxy(galaxy_id_misp)\n",
    "    for cluster in result.get(\"GalaxyCluster\", []):\n",
    "        synonyms, victims, target, country, incident_type, mitre_group = [], [], [], [], [], []\n",
    "        for element in cluster.get(\"GalaxyElement\", []):\n",
    "            if element[\"key\"] == \"synonyms\":\n",
    "                if re.match(\"G\\d{4}\", element[\"value\"]):\n",
    "                    mitre_group.append(element[\"value\"])\n",
    "                synonyms.append(element[\"value\"])\n",
    "            elif element[\"key\"] == \"cfr-suspected-victims\":\n",
    "                victims.append(element[\"value\"])\n",
    "            elif element[\"key\"] == \"cfr-target-category\":\n",
    "                target.append(element[\"value\"])\n",
    "            elif element[\"key\"] == \"country\":\n",
    "                country.append(element[\"value\"])\n",
    "            elif element[\"key\"] == \"cfr-type-of-incident\":\n",
    "                incident_type.append(element[\"value\"])\n",
    "        entry = {\"source\": \"misp\", \"value\": cluster[\"value\"], \"uuid\": cluster[\"uuid\"], \"synonyms\": synonyms, \"tag\": cluster[\"tag_name\"], \n",
    "                     \"mitre_group\": mitre_group, \"victims\": victims, \"target\": target, \"country\": country, \"incident_type\": incident_type}\n",
    "        threat_actors[cluster[\"value\"]] = entry\n",
    "\n",
    "print(\"Found \\033[92m{}\\033[90m threat actors in MISP Threat Actor galaxy.\".format(len(threat_actors)))"
   ]
  },
  {
   "cell_type": "markdown",
   "id": "015b3e62-935c-4655-a6a7-1c5b9fb1063e",
   "metadata": {},
   "source": [
    "### Load the MITRE ATT&CK Intrusion Set\n",
    "\n",
    "Next we load the threat actors (or called **Intrusion Set**) from the MITRE ATT&CK Intrusion Set galaxy. On most MISP systems this search matches with `Intrusion Set`, `Pre Attack - Intrusion Set`, `Enterprise Attack - Intrusion Set`, and `Mobile Attack - Intrusion Set`."
   ]
  },
  {
   "cell_type": "code",
   "execution_count": null,
   "id": "ed77d8b7-2ecb-43fc-a70a-05cf1d9d383d",
   "metadata": {
    "tags": []
   },
   "outputs": [],
   "source": [
    "# Search in the MITRE ATT&CK Intrusion Set\n",
    "\n",
    "start_count = len(threat_actors)\n",
    "result = misp.search_galaxy(\"Intrusion Set\")\n",
    "for galaxy in result:\n",
    "    print(\"Loading from \\033[92m{}\\033[90m\".format(galaxy[\"Galaxy\"][\"name\"]))\n",
    "    galaxy_id = int(galaxy[\"Galaxy\"][\"id\"])\n",
    "    result = misp.get_galaxy(galaxy_id)\n",
    "    for cluster in result.get(\"GalaxyCluster\", []):\n",
    "        synonyms, mitre_group = [], []\n",
    "        for element in cluster.get(\"GalaxyElement\", []):\n",
    "            if element[\"key\"] == \"synonyms\":\n",
    "                synonyms.append(element[\"value\"])\n",
    "            elif element[\"key\"] == \"external_id\":\n",
    "                mitre_group.append(element[\"value\"])\n",
    "        #Anticipate double entries\n",
    "        tag = list(set([cluster[\"tag_name\"]]).union(set(threat_actors.get(cluster[\"value\"], {}).get(\"tag\", []))))\n",
    "        synonym = list(set(synonyms).union(set(threat_actors.get(cluster[\"value\"], {}).get(\"synonyms\", []))))\n",
    "        mitre_group = list(set(mitre_group).union(set(threat_actors.get(cluster[\"value\"], {}).get(\"mitre_group\", []))))\n",
    "        uuid = list(set([cluster[\"uuid\"]]).union(set(threat_actors.get(cluster[\"value\"], {}).get(\"uuid\", []))))\n",
    "\n",
    "        entry = {\"source\": \"mitre\", \"value\": cluster[\"value\"], \"uuid\": uuid, \"synonyms\": synonyms, \"tag\": tag,\n",
    "                    \"mitre_group\": mitre_group}\n",
    "        threat_actors[cluster[\"value\"]] = entry\n",
    "\n",
    "print(\"Found \\033[92m{}\\033[90m threat actors in MITRE ATT&CK Intrusion Set.\".format(len(threat_actors) - start_count))"
   ]
  },
  {
   "cell_type": "markdown",
   "id": "cef14f57-a947-41a0-b6e8-6f391b7eedcf",
   "metadata": {},
   "source": [
    "### Loaded threat actors\n",
    "\n",
    "The next cell gives an overview of all the loaded threat actors. You can easily spot the different sources (misp or mitre), their name and the **MISP anchor tag**. In a later phase the playbook uses these tags to search for events that have the corresponding tag (or in this case threat actor / cluster) attached.\n",
    "\n",
    "Because the list of threat actors is fairly long, the output of the table is limited to **15** actors. Change `limit_output` if you want to display more threat actors."
   ]
  },
  {
   "cell_type": "code",
   "execution_count": null,
   "id": "5843adcd-3ed6-4e6a-a4bd-e4968c6f94a9",
   "metadata": {
    "tags": []
   },
   "outputs": [],
   "source": [
    "limit_output = 15  # Set to len(threat_actors) to print all rows\n",
    "\n",
    "table = PrettyTable()\n",
    "table.field_names = [\"Source\", \"Threat actor\", \"MITRE\", \"Synonyms\", \"Tag\"]\n",
    "table.align = \"l\"\n",
    "for result in threat_actors:\n",
    "    synonyms = \"\"\n",
    "    for el in threat_actors[result].get(\"synonyms\", []):\n",
    "        synonyms = \"{}{}\\n\".format(synonyms, el.strip())\n",
    "    table.add_row([threat_actors[result][\"source\"], threat_actors[result][\"value\"].strip(), threat_actors[result][\"mitre_group\"],\n",
    "                       synonyms.strip(), threat_actors[result][\"tag\"]])\n",
    "print(table.get_string(sortby=\"Threat actor\", end=limit_output))"
   ]
  },
  {
   "cell_type": "markdown",
   "id": "e01ffec5-4428-4eb5-8283-fda769a7555a",
   "metadata": {},
   "source": [
    "# Investigate\n",
    "\n",
    "## IN:1 User input: Which threat actor to profile?\n",
    "\n",
    "This cell is the primary <strong><font color=red>user input</font></strong> for this playbook. Define the **threat actor** that you want to profile with this playbook in the variable `search_actor`. You can only supply **one threat actor** as a string.\n",
    "\n",
    "The search will look for matches in the MISP and MITRE galaxies, both in the threat actor names and synoyms. The search is **case insensitive** and it removes special characters such as '-'."
   ]
  },
  {
   "cell_type": "code",
   "execution_count": null,
   "id": "b8c3440a-0974-4e47-a4c7-b1189839a4b8",
   "metadata": {
    "tags": []
   },
   "outputs": [],
   "source": [
    "# Add the threat actor name or synonym \n",
    "search_actor = \"APT-28\""
   ]
  },
  {
   "cell_type": "code",
   "execution_count": null,
   "id": "98946d92-63f2-4d0b-85ec-f3ec97e57259",
   "metadata": {
    "tags": []
   },
   "outputs": [],
   "source": [
    "# Check that we have a valid string before we continue\n",
    "if type(search_actor) == str and len(search_actor) > 0:\n",
    "    print(\"The playbook will do the query for \\033[92m{}\\033[90m\\n\".format(search_actor))\n",
    "else:\n",
    "    print(\"It's \\033[91mnot possible to continue\\033[90m. Please provide a threat actor name.\\n\")"
   ]
  },
  {
   "cell_type": "markdown",
   "id": "715c0d40-5432-468c-a95b-179c15fa4a35",
   "metadata": {},
   "source": [
    "## IN:2 Search threat actor in galaxy / cluster\n",
    "\n",
    "The playbook now searches in the list of MISP galaxies and clusters for the threat actor you supplied earlier. This is done to build a list of synonyms and MISP anchor tags."
   ]
  },
  {
   "cell_type": "code",
   "execution_count": null,
   "id": "f4d76662-4178-4266-b1f6-f3763b89d323",
   "metadata": {
    "tags": []
   },
   "outputs": [],
   "source": [
    "search_actor_str = re.sub(r'[^a-zA-Z0-9]', '', search_actor.lower().strip())\n",
    "print(\"Searching for {} ...\".format(search_actor_str))\n",
    "\n",
    "for actor in threat_actors:\n",
    "    if search_actor_str in actor.lower():\n",
    "        if threat_actors[actor][\"tag\"] not in search_actor_match[\"tags\"]:\n",
    "            print(\" match found for threat actor name: \\033[92m{}\\033[90m in {}\".format(actor, threat_actors[actor][\"source\"]))\n",
    "            search_actor_match[\"tags\"].append(threat_actors[actor][\"tag\"])\n",
    "            search_actor_match[\"actors\"].append(threat_actors[actor])\n",
    "    else:\n",
    "        for synonym in threat_actors[actor].get(\"synonyms\", []):\n",
    "            synonym_str = synonym.lower().strip()\n",
    "            if search_actor_str in synonym_str:\n",
    "                if threat_actors[actor][\"tag\"] not in search_actor_match[\"tags\"]:\n",
    "                    print(\" match found for threat actor synonym: \\033[92m{}\\033[90m in {}\".format(actor, threat_actors[actor][\"source\"]))\n",
    "                    search_actor_match[\"tags\"].append(threat_actors[actor][\"tag\"])\n",
    "                    search_actor_match[\"actors\"].append(threat_actors[actor])\n",
    "print(\"\\n\")\n",
    "\n",
    "if len(search_actor_match) > 0:\n",
    "    table = PrettyTable()\n",
    "    table.field_names = [\"Source\", \"Threat actor\", \"MITRE\", \"Synonyms\", \"Tag\"]\n",
    "    table.align = \"l\"\n",
    "    table._max_width = {\"Tag\": 40}\n",
    "    for result in search_actor_match[\"actors\"]:\n",
    "        if result[\"tag\"] not in search_actor_tags:\n",
    "            search_actor_tags.append(result[\"tag\"])\n",
    "        if result[\"value\"].strip() not in search_actor_names:\n",
    "            search_actor_names.append(result[\"value\"].strip())\n",
    "        synonyms = \"\"\n",
    "        for el in result.get(\"synonyms\", []):\n",
    "            synonyms = \"{}{}\\n\".format(synonyms, el.strip())\n",
    "            if el.strip() not in search_actor_names:\n",
    "                search_actor_names.append(el.strip())\n",
    "        table.add_row([result[\"source\"], result[\"value\"].strip(), result[\"mitre_group\"], synonyms.strip(), result[\"tag\"]])\n",
    "    print(table.get_string(sortby=\"Threat actor\"))\n",
    "    table_actor_match = table\n",
    "    print(\"\\n\")\n",
    "else:\n",
    "    print(\"Unable to find \\033[91m{}\\033[90m in list of threat actor names or synonyms.\\n\".format(search_actor))"
   ]
  },
  {
   "cell_type": "markdown",
   "id": "8692c5bb-f398-4ff1-8c46-0556a79f3933",
   "metadata": {},
   "source": [
    "## IN:3 MISP tags to search events\n",
    "\n",
    "The search for threat actors results in a list of MISP anchor tags that are used to query the MISP threat events in the investigation phase."
   ]
  },
  {
   "cell_type": "code",
   "execution_count": null,
   "id": "55eeead3-6304-473f-8316-c68f06ac5923",
   "metadata": {
    "tags": []
   },
   "outputs": [],
   "source": [
    "if len(search_actor_tags) > 0:\n",
    "    search_actor_tags = [item for sublist in search_actor_tags for item in (sublist if isinstance(sublist, list) else [sublist])]\n",
    "    print(\"The investigation will use these tags to search MISP events:\")\n",
    "    for tag in search_actor_tags:\n",
    "        print(\" \\033[92m{}\\033[90m.\".format(tag))\n",
    "else:\n",
    "    print(\"There are \\033[91mno tags\\033[90m that can be used to search MISP events.\\n\")\n",
    "print(\"\\n\")"
   ]
  },
  {
   "cell_type": "markdown",
   "id": "d3e334a0-69d8-4513-95ee-ef377d99cd13",
   "metadata": {},
   "source": [
    "## IN:4 Additional tags for event filtering\n",
    "\n",
    "You can specify additional MISP tags (as strings) to filter the events. For example supply the tags `\"tlp:amber\"` or `workflow:state=\"complete\"` to fine-tune the search."
   ]
  },
  {
   "cell_type": "code",
   "execution_count": null,
   "id": "92443965-5db0-4947-993d-0e3bf4ea629e",
   "metadata": {
    "tags": []
   },
   "outputs": [],
   "source": [
    "misp_additional_filter_tags = [\"tlp:white\"]\n",
    "#misp_additional_filter_tags = [\"tlp:amber\", \"workflow:state=\\\"complete\\\"\"]"
   ]
  },
  {
   "cell_type": "markdown",
   "id": "f01bebfd-1ced-406b-98cb-00251ded01f2",
   "metadata": {},
   "source": [
    "# Profile\n",
    "\n",
    "This section of the playbook does the heavy lifting. It searches for the MISP events that have a cluster attached corresponding with the search tags defined earlier in `search_actor_tags`.\n",
    "\n",
    "## PO:1 Search MISP events\n",
    "\n",
    "The search only considers MISP events that are **published** (`published`) and after a specific date (`date_from`)."
   ]
  },
  {
   "cell_type": "code",
   "execution_count": null,
   "id": "a637f569-c02b-431e-979a-0dcb03a00f52",
   "metadata": {
    "tags": []
   },
   "outputs": [],
   "source": [
    "published = True \n",
    "date_from = \"2019-01-01\"\n",
    "\n",
    "\n",
    "print(\"Searching ...\")\n",
    "tag_query = misp.build_complex_query(or_parameters=search_actor_tags, and_parameters=misp_additional_filter_tags,not_parameters=None)\n",
    "\n",
    "search_match = misp.search(\"events\", tags=tag_query, date_from=date_from, published=published, pythonify=True)\n",
    "if len(search_match) > 0:\n",
    "    for event in search_match:\n",
    "        vulnerability_string, galaxy_string, tag_string = \"\", \"\", \"\"\n",
    "        for attribute in event.Attribute:\n",
    "            if attribute.type == \"vulnerability\":\n",
    "                if attribute.value not in playbook_results[\"vulnerabilities\"]:\n",
    "                    playbook_results[\"vulnerabilities\"].append(attribute.value)\n",
    "                vulnerability_string = \"{}{}\\n\".format(vulnerability_string, attribute.value.strip())\n",
    "            else:\n",
    "                if attribute.to_ids and attribute.value not in playbook_results[\"indicators\"].values():\n",
    "                    entry = {\"value\": attribute.value, \"category\": attribute.category, \"type\": attribute.type, \"comment\": attribute.comment}\n",
    "                    playbook_results[\"indicators\"][attribute.value] = entry\n",
    "        for object in event.Object:\n",
    "            if object.name == \"vulnerability\":\n",
    "                for attribute in object.Attribute:\n",
    "                    if attribute.object_relation == \"id\":\n",
    "                        if attribute.value not in playbook_results[\"vulnerabilities\"]:\n",
    "                            playbook_results[\"vulnerabilities\"].append(attribute.value)\n",
    "                        vulnerability_string = \"{}{}\\n\".format(vulnerability_string, attribute.value.strip())\n",
    "            else:\n",
    "                for attribute in object.Attribute:\n",
    "                    if attribute.to_ids and attribute.value not in playbook_results[\"indicators\"].values():\n",
    "                        entry = {\"value\": attribute.value, \"category\": attribute.category, \"type\": attribute.type, \"comment\": attribute.comment}\n",
    "                        playbook_results[\"indicators\"][attribute.value] = entry\n",
    "\n",
    "        for galaxy in event.Galaxy:\n",
    "            for cluster in galaxy.GalaxyCluster:\n",
    "                if galaxy.name not in playbook_results[\"galaxies\"]:\n",
    "                    playbook_results[\"galaxies\"].append(galaxy.name)\n",
    "                skip_entry = False\n",
    "                for existing_entry in playbook_results[\"galaxy_clusters\"]:\n",
    "                    if existing_entry[\"galaxy\"] == galaxy.name and existing_entry[\"cluster\"] == cluster.value:\n",
    "                        skip_entry = True\n",
    "                if not skip_entry:\n",
    "                    entry = {\"galaxy\": galaxy.name.strip(), \"cluster\": cluster.value.strip(), \"synonyms\": cluster.meta.get(\"synonyms\", []), \"tag\": cluster.tag_name}\n",
    "                    playbook_results[\"galaxy_clusters\"].append(entry)\n",
    "                # The galaxy_string cannot have doubles, 'cause a MISP event can only have the cluster once\n",
    "                galaxy_string = \"{}{} - {}\\n\".format(galaxy_string, galaxy.name.strip(), cluster.value.strip())\n",
    "\n",
    "        for tag in event.tags:\n",
    "            if not tag.name.startswith(\"misp-galaxy:\"):\n",
    "                if tag.name not in playbook_results[\"tags\"]:\n",
    "                    playbook_results[\"tags\"].append(tag.name)\n",
    "                tag_string = \"{}{}\\n\".format(tag_string, tag.name)\n",
    "        entry = {\"info\": event.info.strip(), \"id\": event.id, \"uuid\": event.uuid, \"org\": event.Org.name, \"date\": event.date, \"galaxy_string\": galaxy_string.strip(),\n",
    "                         \"tag_string\": tag_string.strip(), \"vulnerability_string\": vulnerability_string.strip()}\n",
    "        playbook_results[\"events\"].append(entry)\n",
    "\n",
    "        print(\" Found match in \\033[92m{}\\033[90m in \\033[92m{}\\033[90m\".format(event.id, event.info))\n",
    "else:\n",
    "    print(\"\\033[93mNo MISP events\\033[90m found for {}\".format(search_actor_tags))\n",
    "\n",
    "print(\"Finished searching in MISP events.\\n\\n\")"
   ]
  },
  {
   "cell_type": "markdown",
   "id": "6bfcb61c-637f-47f6-b9ad-0aed355e7f6c",
   "metadata": {},
   "source": [
    "### MISP events\n",
    "\n",
    "You can now print the matching events, with their event title, date, organisation and associated galaxies/clusters and tags."
   ]
  },
  {
   "cell_type": "code",
   "execution_count": null,
   "id": "c782972c-0700-404d-8997-0df9fa5072b4",
   "metadata": {
    "tags": []
   },
   "outputs": [],
   "source": [
    "table = PrettyTable()\n",
    "table.field_names = [\"ID\", \"Title\", \"Organsation\", \"Date\", \"Galaxies\", \"Tags\"]\n",
    "table.align = \"l\"\n",
    "table._max_width = {\"Title\":40,\"Organisation\":30}\n",
    "\n",
    "for result in playbook_results[\"events\"]:\n",
    "    table.add_row([result[\"id\"], result[\"info\"], result[\"org\"], result[\"date\"], result[\"galaxy_string\"], result[\"tag_string\"]])\n",
    "print(table.get_string(sortby=\"Date\"))\n",
    "table_mispevents = table"
   ]
  },
  {
   "cell_type": "markdown",
   "id": "1f1c700a-cfde-4996-872c-158ca56bf2c5",
   "metadata": {},
   "source": [
    "## PO:2 Context in other MISP events\n",
    "\n",
    "The previous cell printed the context per MISP event. You can also summarise all found galaxies, clusters and tags."
   ]
  },
  {
   "cell_type": "code",
   "execution_count": null,
   "id": "2e467b5a-eca5-4b0a-8eda-711a0b2df6c6",
   "metadata": {
    "tags": []
   },
   "outputs": [],
   "source": [
    "table = PrettyTable()\n",
    "table.field_names = [\"Event titles\", \"Galaxies\", \"Galaxies - Clusters\", \"Tags\"]\n",
    "table.align = \"l\"\n",
    "table._max_width = {\"Event titles\": 40}\n",
    "\n",
    "event_column, galaxies_column, clusters_column, tag_column = \"\", \"\", \"\", \"\"\n",
    "\n",
    "for result in sorted(playbook_results[\"events\"], key=lambda x: (x['info'], -x['id'])):\n",
    "    event_column = \"{}{} ({})\\n\".format(event_column, result[\"info\"], result[\"id\"])\n",
    "for result in sorted(playbook_results[\"galaxies\"]):\n",
    "    galaxies_column = \"{}{}\\n\".format(galaxies_column, result)\n",
    "for result in sorted(playbook_results[\"galaxy_clusters\"], key=lambda x: (x['galaxy'], x['cluster'])):\n",
    "    clusters_column = \"{}{} - {}\\n\".format(clusters_column, result[\"galaxy\"], result[\"cluster\"])\n",
    "for result in sorted(playbook_results[\"tags\"]):\n",
    "    tag_column = \"{}{}\\n\".format(tag_column, result)           \n",
    "table.add_row([event_column, galaxies_column, clusters_column, tag_column])\n",
    "print(table.get_string(sortby=\"Galaxies - Clusters\"))\n",
    "table_context = table"
   ]
  },
  {
   "cell_type": "markdown",
   "id": "145cba31-45b4-4837-b0fb-6314b511bdb8",
   "metadata": {},
   "source": [
    "## PO:3 Vulnerabilities exploited\n",
    "\n",
    "The playbook also extracts all vulnerabilities (either as a vulnerability **attribute** or as a vulnerability **object**)."
   ]
  },
  {
   "cell_type": "code",
   "execution_count": null,
   "id": "449934c0-72ef-44bb-8560-632994e61785",
   "metadata": {
    "tags": []
   },
   "outputs": [],
   "source": [
    "table = PrettyTable()\n",
    "table.field_names = [\"ID\", \"Title\", \"CVE\"]\n",
    "table.align = \"l\"\n",
    "table._max_width = {\"Title\": 40,\"Organisation\": 30}\n",
    "\n",
    "for result in playbook_results[\"events\"]:\n",
    "    table.add_row([result[\"id\"], result[\"info\"], result[\"vulnerability_string\"]])\n",
    "print(table.get_string(sortby=\"ID\"))\n",
    "table_cve = table\n",
    "\n",
    "print(\"\\n\\n- Threat actor \\033[92m{}\\033[90m \\n- CVE: \\033[92m{}\\033[90m.\\n\\n\".format(search_actor_names, playbook_results[\"vulnerabilities\"]))"
   ]
  },
  {
   "cell_type": "markdown",
   "id": "f37c6876-777f-4a3c-acce-ea21bafd2973",
   "metadata": {},
   "source": [
    "## PO:4 Indicators\n",
    "\n",
    "The playbook also extracted the list of **actionable** (those with to_ids set to True) indicators."
   ]
  },
  {
   "cell_type": "code",
   "execution_count": null,
   "id": "523c9fe3-320e-42cd-963c-f659aa12f844",
   "metadata": {
    "tags": []
   },
   "outputs": [],
   "source": [
    "table = PrettyTable()\n",
    "table.field_names = [\"Category\", \"Type\", \"Indicator\"]\n",
    "table.align = \"l\"\n",
    "\n",
    "for result in playbook_results[\"indicators\"]:\n",
    "    table.add_row([playbook_results[\"indicators\"][result][\"category\"], playbook_results[\"indicators\"][result][\"type\"], playbook_results[\"indicators\"][result][\"value\"]])\n",
    "print(table.get_string(sortby=\"Type\"))\n",
    "table_indicators = table"
   ]
  },
  {
   "cell_type": "markdown",
   "id": "661215c1-ee7b-4875-bdcb-847320491dfb",
   "metadata": {},
   "source": [
    "## PO:5 Victims, countries and incident types from galaxy/cluster\n",
    "\n",
    "The metadata from the MISP galaxy and cluster provides a list of victims, targets, allegedly supporting countries and incident types."
   ]
  },
  {
   "cell_type": "code",
   "execution_count": null,
   "id": "7c1b0e1c-54b1-4d5c-af56-f64029878a85",
   "metadata": {
    "tags": []
   },
   "outputs": [],
   "source": [
    "for actor in search_actor_match[\"actors\"]:\n",
    "    actor_victims = list(set(actor_victims).union(actor.get(\"victims\", [])))\n",
    "    actor_country = list(set(actor_country).union(actor.get(\"country\", [])))\n",
    "    actor_incident_type = list(set(actor_incident_type).union(actor.get(\"incident_type\", [])))\n",
    "    actor_target = list(set(actor_target).union(actor.get(\"target\", [])))\n",
    "    \n",
    "print(\"According to the metadata of the galaxies, the threat actor\\n\")\n",
    "print(\" - Targets: \\033[92m{}\\033[90m\".format(actor_target))\n",
    "print(\" - With victims in: \\033[92m{}\\033[90m\".format(actor_victims))\n",
    "print(\" - Incident type: \\033[92m{}\\033[90m\".format(actor_incident_type))\n",
    "print(\" - Alledgely supporting countries: \\033[92m{}\\033[90m\".format(actor_country))"
   ]
  },
  {
   "cell_type": "markdown",
   "id": "56293889-4098-453c-8322-8eaeccdedc5e",
   "metadata": {},
   "source": [
    "## PO:6 Information from MITRE\n",
    "\n",
    "The playbook now queries the TAXII server from MITRE for threat actor details, techniques and software. If the query does not return results then it can help to tune the threat actor name, or use one of the synonyms."
   ]
  },
  {
   "cell_type": "code",
   "execution_count": null,
   "id": "396960f4-c61d-41aa-8344-051c2efcc9f5",
   "metadata": {
    "tags": []
   },
   "outputs": [],
   "source": [
    "print(\"Search for \\033[92m{}\\033[90m at MITRE ({}).\\n\".format(search_actor, search_actor_names))\n",
    "\n",
    "print(\"Searching ...\")\n",
    "lift = attack_client()\n",
    "group_techniques = []\n",
    "group_software = []\n",
    "\n",
    "# For MITRE, we remove the '-' in group names (APT-28>APT28)\n",
    "mitre_search_actor = re.sub(r'[^a-zA-Z0-9]', '', search_actor)\n",
    "mitre_group_result = lift.get_group_by_alias(mitre_search_actor, case=False)\n",
    "if len(mitre_group_result) > 0:\n",
    "    for group in mitre_group_result:\n",
    "        print(\" Found match with group ID \\033[92m{}\\033[90m in \\033[92m{}\\033[90m\".format(group.id, group.name))\n",
    "        print(\" Searching for techniques\")\n",
    "        techniques = lift.get_techniques_used_by_group(group)\n",
    "        if len(techniques) > 0:\n",
    "            group_techniques = group_techniques + techniques\n",
    "            print(\" Found \\033[92m{}\\033[90m techniques\".format(len(techniques)))\n",
    "        else:\n",
    "            print(\" \\033[93mNo techniques found\\033[90m\")\n",
    "        print(\" Searching for software\")\n",
    "        software = lift.get_software_used_by_group(group)\n",
    "        if len(software) > 0:\n",
    "            group_software = group_software + software\n",
    "            print(\" Found \\033[92m{}\\033[90m software\".format(len(software)))\n",
    "        else:\n",
    "            print(\" \\033[93mNo software found\\033[90m\")\n",
    "else:\n",
    "    print(\"\\033[93mNo MITRE group match\\033[90m found for {}\".format(search_actor_tags))\n",
    "print(\"Finished searching\")"
   ]
  },
  {
   "cell_type": "markdown",
   "id": "b6c8dae0-6948-4815-af78-34fbbb1be4f5",
   "metadata": {},
   "source": [
    "### Techniques\n",
    "\n",
    "When the threat actor has been found with MITRE ATT&CK, it also queries for the associated techniques."
   ]
  },
  {
   "cell_type": "code",
   "execution_count": null,
   "id": "7e08bcb4-9ada-4650-8b64-539456f26f8c",
   "metadata": {
    "tags": []
   },
   "outputs": [],
   "source": [
    "table = PrettyTable()\n",
    "table.field_names = [\"ID\", \"Technique\", \"Platform\"]\n",
    "table.align = \"l\"\n",
    "table._max_width = {\"Technique\": 40, \"Platform\": 60}\n",
    "\n",
    "# Other useful columns: x_mitre_data_sources\n",
    "for technique in group_techniques:\n",
    "    technique_id = \"\"\n",
    "    for ref in technique.external_references:\n",
    "        if ref[\"source_name\"] == \"mitre-attack\":\n",
    "            technique_id = ref[\"external_id\"] \n",
    "    table.add_row([technique_id, technique.name, technique.get(\"x_mitre_platforms\",\"\")])\n",
    "print(table.get_string(sortby=\"Technique\"))\n",
    "table_mitre_techniques = table"
   ]
  },
  {
   "cell_type": "markdown",
   "id": "a9886bdc-f1ba-4bfc-970a-086fdb3f7ffa",
   "metadata": {},
   "source": [
    "### Software\n",
    "\n",
    "Similar to techniques, the playbook also queries for the software associated with the threat actor."
   ]
  },
  {
   "cell_type": "code",
   "execution_count": null,
   "id": "1f9d9aef-3ab3-4e4f-98b3-c915e463711b",
   "metadata": {
    "tags": []
   },
   "outputs": [],
   "source": [
    "table = PrettyTable()\n",
    "table.field_names = [\"ID\", \"Name\", \"Type\", \"Platforms\"]\n",
    "table.align = \"l\"\n",
    "table._max_width = {\"Technique\": 40, \"Platform\": 60}\n",
    "\n",
    "# Other useful columns: x_mitre_data_sources, x_mitre_platforms\n",
    "for software in group_software:\n",
    "    software_id = \"\"\n",
    "    for ref in software.external_references:\n",
    "        if ref[\"source_name\"] == \"mitre-attack\":\n",
    "            software_id = ref[\"external_id\"] \n",
    "    table.add_row([software_id, software.name, software.type, software.get(\"x_mitre_platforms\", \"\")])\n",
    "print(table.get_string(sortby=\"Type\"))\n",
    "table_mitre_software = table        "
   ]
  },
  {
   "cell_type": "markdown",
   "id": "b6558fe9-dec2-4fc5-8709-020d5960a306",
   "metadata": {},
   "source": [
    "# Closure\n",
    "\n",
    "In this **closure** step we create a **summary** of the actions performed by the playbook. The summary is printed in the playbook and also send to Mattermost.\n",
    "\n",
    "## EN:1 Create the summary of the playbook\n",
    "\n",
    "The next section creates a summary and stores the output in the variable `summary` in Markdown format. It also stores an intro text in the variable `intro`. These variables are later used when sending information to Mattermost or TheHive."
   ]
  },
  {
   "cell_type": "code",
   "execution_count": null,
   "id": "1fdcac35-1922-4c19-98e3-fdef5c1559be",
   "metadata": {
    "tags": []
   },
   "outputs": [],
   "source": [
    "summary = \"\\n\"\n",
    "summary += \"### MISP Playbook summary\\n\\n\"\n",
    "intro = summary\n",
    "\n",
    "summary += \"### Threat actor {} ({})\\n\\n\".format(search_actor_names[0], search_actor)\n",
    "summary += \"#### Names and synonyms\\n\\n\"\n",
    "summary += \"The threat actor **{}** is also known as \\n\".format(search_actor)\n",
    "for name in search_actor_names:\n",
    "    summary += \"- {}\\n\".format(name)\n",
    "summary += \"\\n\\n\"\n",
    "table_actor_match.set_style(MARKDOWN)\n",
    "summary += table_actor_match.get_string(sortby=\"Threat actor\")\n",
    "summary += \"\\n\\n\"\n",
    "\n",
    "summary += \"#### Targets, victims, incident types and alledgely supporting countries\\n\\n\"\n",
    "summary += \"According to the metadata of the galaxies, the threat actor\\n\"\n",
    "summary += \" - Targets: {}\\n\".format(actor_target)\n",
    "summary += \" - With victims in: {}\\n\".format(actor_victims)\n",
    "summary += \" - Incident type: {}\\n\".format(actor_incident_type)\n",
    "summary += \" - Alledgely supporting countries: {}\\n\".format(actor_country)\n",
    "\n",
    "summary += \"#### MISP Tag search\\n\\nThe MISP events are searched for these tags (corresponding with galaxies/clusters):\\n\"\n",
    "for tag in search_actor_tags:\n",
    "    summary += \"- {}\\n\".format(tag)\n",
    "summary += \"\\n\\n\"\n",
    "\n",
    "summary += \"### MISP events\\n\"\n",
    "table_mispevents.set_style(MARKDOWN)\n",
    "summary += table_mispevents.get_string()\n",
    "summary += \"\\n\\n\"\n",
    "\n",
    "summary += \"#### Context from MISP events\\n\"\n",
    "table_context.set_style(MARKDOWN)\n",
    "summary += table_context.get_string()\n",
    "summary += \"\\n\\n\"\n",
    "\n",
    "summary += \"#### Vulnerabilities exploited\\n\"\n",
    "table_cve.set_style(MARKDOWN)\n",
    "summary += table_cve.get_string()\n",
    "summary += \"\\n\\n\"\n",
    "\n",
    "summary += \"#### Indicators\\n\"\n",
    "table_indicators.set_style(MARKDOWN)\n",
    "summary += table_indicators.get_string()\n",
    "summary += \"\\n\\n\"\n",
    "\n",
    "summary += \"### MITRE information\\n\"\n",
    "summary += \"#### Techniques\\n\"\n",
    "table_mitre_techniques.set_style(MARKDOWN)\n",
    "summary += table_mitre_techniques.get_string()\n",
    "summary += \"\\n\\n\"\n",
    "\n",
    "summary += \"#### Software\\n\"\n",
    "table_mitre_software.set_style(MARKDOWN)\n",
    "summary += table_mitre_software.get_string()\n",
    "summary += \"\\n\\n\"\n",
    "\n",
    "summary += \"\\n\\n\"\n",
    "\n",
    "print(\"The \\033[92msummary\\033[90m of the playbook is available.\\n\")"
   ]
  },
  {
   "cell_type": "markdown",
   "id": "c17d9d26-abb7-466c-ae80-5aa886c4328e",
   "metadata": {},
   "source": [
    "### Print the summary"
   ]
  },
  {
   "cell_type": "code",
   "execution_count": null,
   "id": "8614a4b3-c343-4525-afe4-a09b78a2ca40",
   "metadata": {
    "tags": []
   },
   "outputs": [],
   "source": [
    "display_markdown(summary, raw=True)"
   ]
  },
  {
   "cell_type": "markdown",
   "id": "eba96062-deaa-4fb9-8302-7b3ef829201e",
   "metadata": {},
   "source": [
    "## EN:2 Send a summary to Mattermost\n",
    "\n",
    "Now you can send the summary to Mattermost. You can send the summary in two ways by selecting one of the options for the variable `send_to_mattermost_option` in the next cell.\n",
    "\n",
    "- The default option where the entire summary is in the **chat**, or\n",
    "- a short intro and the summary in a **card**\n",
    "\n",
    "For this playbook we rely on a webhook in Mattermost. You can add a webhook by choosing the gear icon in Mattermost, then choose Integrations and then **Incoming Webhooks**. Set a channel for the webhook and lock the webhook to this channel with *\"Lock to this channel\"*."
   ]
  },
  {
   "cell_type": "code",
   "execution_count": null,
   "id": "8c455bc3-35cc-436d-8237-95c81b57208f",
   "metadata": {
    "tags": []
   },
   "outputs": [],
   "source": [
    "send_to_mattermost_option = \"via a chat message\"\n",
    "#send_to_mattermost_option = \"via a chat message with card\""
   ]
  },
  {
   "cell_type": "code",
   "execution_count": null,
   "id": "ca49f33e",
   "metadata": {},
   "outputs": [],
   "source": [
    "message = False\n",
    "if send_to_mattermost_option == \"via a chat message\":\n",
    "    message = {\"username\": mattermost_playbook_user, \"text\": summary}\n",
    "elif send_to_mattermost_option == \"via a chat message with card\":\n",
    "    message = {\"username\": mattermost_playbook_user, \"text\": intro, \"props\": {\"card\": summary}}\n",
    "\n",
    "if message:\n",
    "    r = requests.post(mattermost_hook, data=json.dumps(message))\n",
    "    r.raise_for_status()\n",
    "if message and r.status_code == 200:\n",
    "    print(\"Summary is \\033[92msent to Mattermost.\\n\")\n",
    "else:\n",
    "    print(\"\\033[91mFailed to sent summary\\033[90m to Mattermost.\\n\")"
   ]
  },
  {
   "cell_type": "markdown",
   "id": "f9c0f780-d8df-4f9b-9a11-230eb3e4f42d",
   "metadata": {},
   "source": [
    "## EN:3 Send an alert to TheHive\n",
    "\n",
    "Next to informing your colleagues via Mattermost you can also send an **alert** to TheHive. The alert contains the summary, and a list of indicators as 'observables'.\n",
    "\n",
    "You can change the alert title with `thehive_alert_title` and provide a reference type with `thehive_alert_reference`. Note that this reference needs to be **unique** in TheHive."
   ]
  },
  {
   "cell_type": "code",
   "execution_count": null,
   "id": "87edbdbf-e6b0-47b7-b70a-4ddb4af67e55",
   "metadata": {
    "tags": []
   },
   "outputs": [],
   "source": [
    "# The title of the TheHive alert\n",
    "thehive_alert_title = \"MISP Playbook Summary - MISP Threat Actor Profiling - {} - {}\".format(search_actor_names[0], search_actor)\n",
    "\n",
    "# A unique reference for the TheHive (we include the MISP event UUID)\n",
    "thehive_alert_reference = \"MISP Threat Actor Profiling - {} - {} - {}\".format(search_actor_names[0], search_actor, random.random())\n",
    "\n",
    "# Alert type in TheHive\n",
    "thehive_alert_type = \"MISP Playbook alert\"\n",
    "\n",
    "# TLP:Amber for TheHive\n",
    "thehive_tlp = 2\n",
    "\n",
    "# PAP:GREEN for TheHive\n",
    "thehive_pap = 1"
   ]
  },
  {
   "cell_type": "code",
   "execution_count": null,
   "id": "0da33569-cd50-414a-ad0b-70bcdb69174d",
   "metadata": {
    "tags": []
   },
   "outputs": [],
   "source": [
    "# Code block to send an alert to TheHive\n",
    "# We use the Python requests library\n",
    "thehive_headers = {'Content-Type': 'application/json', 'Authorization': f'Bearer {thehive_key}'}\n",
    "thehive_url_create = \"{}/api/v1/alert\".format(thehive_url)\n",
    "\n",
    "thehive_observables = []\n",
    "for entry in playbook_results[\"indicators\"]:\n",
    "    indicator = playbook_results[\"indicators\"][entry]\n",
    "    dataType = False\n",
    "    if indicator[\"type\"] == \"ip-src\" or indicator[\"type\"] == \"ip-dst\":\n",
    "        dataType = \"ip\"\n",
    "    elif indicator[\"type\"] == \"url\":\n",
    "        dataType = \"url\"\n",
    "    elif indicator[\"type\"] == \"hostname\":\n",
    "        dataType = \"hostname\"\n",
    "    else:\n",
    "        dataType = \"other\"\n",
    "    if dataType:\n",
    "        thehive_observables.append({\"dataType\": dataType, \"data\": indicator[\"value\"], \"pap\": thehive_pap, \"tlp\": thehive_tlp})\n",
    "\n",
    "thehive_alert = {\"title\": thehive_alert_title, \n",
    "                 \"description\": intro,\n",
    "                 \"summary\": summary[0:1048576],\n",
    "                 \"type\": thehive_alert_type, \n",
    "                 \"source\": \"playbook\", \n",
    "                 \"sourceRef\": thehive_alert_reference, \n",
    "                 \"tlp\": thehive_tlp, \"pap\": thehive_pap,\n",
    "                 \"observables\": thehive_observables}\n",
    "\n",
    "result = requests.post(thehive_url_create, headers=thehive_headers, data=json.dumps(thehive_alert))\n",
    "if result.json()['status'] == 'New':\n",
    "    thehive_alert_id = result.json()['_id']\n",
    "    print('The TheHive \\033[92malert {} is added'.format(thehive_alert_id))\n",
    "else:\n",
    "    print('\\033[91mFailed\\033[90m to add TheHive alert')\n",
    "    print(result.text)"
   ]
  },
  {
   "cell_type": "markdown",
   "id": "498b8eff-7d1b-47b7-90c4-e13cc738b36c",
   "metadata": {},
   "source": [
    "## EN:4 End of the playbook "
   ]
  },
  {
   "cell_type": "code",
   "execution_count": null,
   "id": "4c03bb30",
   "metadata": {},
   "outputs": [],
   "source": [
    "print(\"\\033[92m End of the playbook\")\n"
   ]
  },
  {
   "cell_type": "markdown",
   "id": "b17af9f2",
   "metadata": {},
   "source": [
    "## External references\n",
    "\n",
    "- [The MISP Project](https://www.misp-project.org/)\n",
    "- [Mattermost](https://mattermost.com/)\n",
    "- [TheHive](https://thehive-project.org/)\n",
    "- [Threat Actor Profile for CTI](https://www.curatedintel.org/2023/07/the-threat-actor-profile-guide-for-cti.html)"
   ]
  },
  {
   "cell_type": "markdown",
   "id": "e1c813f6",
   "metadata": {},
   "source": [
    "## Technical details \n",
    "\n",
    "### Documentation\n",
    "\n",
    "This playbook requires these Python **libraries** to exist in the environment where the playbook is executed. You can install them with `pip install <library>`.\n",
    "\n",
    "```\n",
    "pyfaup\n",
    "chardet\n",
    "PrettyTable\n",
    "ipywidgets\n",
    "attackcti\n",
    "```\n",
    "\n",
    "You need to have **network access** to \n",
    "- your MISP server (HTTP or HTTPS)\n",
    "- to your Mattermostand TheHive server\n",
    "\n",
    "You need\n",
    "- an **API key with MISP**\n",
    "- - Under Global Actions, My Profile. Add an extra authentication key.\n",
    "- - Add the API key (`misp_key`) and the MISP URL (`misp_url`) to `keys.py`\n",
    "- - If you use a self-signed certificate set `misp_verifycert` to False\n",
    "- an **incoming webhook in your Mattermost server**\n",
    "- - Set this up under Integrations, Incoming Webhooks. Set as default channel your SOC/CSIRT team channel. For additional protection, lock the webhook so that the incoming webhook can post only to the selected channel.\n",
    "- - Add the webhook to `mattermost_hook`. It is displayed under 'integrations/incoming_webhooks' and set a username under `mattermost_playbook_user`\n",
    "- an **API key with your TheHive server**\n",
    "- - Click on your username (upper right corner), Settings and then API key\n",
    "- - Make sure that your user has 'manageAlert/create' privileges\n",
    "- - Add the API key (`thehive_key`) to `keys.py` and add the URL to TheHive (`thehive_url`)\n",
    "\n",
    "### Colour codes\n",
    "\n",
    "The output from Python displays some text in different colours. These are the colour codes\n",
    "\n",
    "```\n",
    "Red = '\\033[91m'\n",
    "Green = '\\033[92m'\n",
    "Blue = '\\033[94m'\n",
    "Cyan = '\\033[96m'\n",
    "White = '\\033[97m'\n",
    "Yellow = '\\033[93m'\n",
    "Magenta = '\\033[95m'\n",
    "Grey = '\\033[90m'\n",
    "Black = '\\033[90m'\n",
    "Default = '\\033[99m'\n",
    "```"
   ]
  },
  {
   "cell_type": "code",
   "execution_count": null,
   "id": "14dce812-e432-4c18-8358-f8b66e5b94a5",
   "metadata": {},
   "outputs": [],
   "source": []
  }
 ],
 "metadata": {
  "celltoolbar": "Attachments",
  "kernelspec": {
   "display_name": "Python 3 (ipykernel)",
   "language": "python",
   "name": "python3"
  },
  "language_info": {
   "codemirror_mode": {
    "name": "ipython",
    "version": 3
   },
   "file_extension": ".py",
   "mimetype": "text/x-python",
   "name": "python",
   "nbconvert_exporter": "python",
   "pygments_lexer": "ipython3",
   "version": "3.8.10"
  },
  "toc-showcode": false,
  "toc-showmarkdowntxt": false
 },
 "nbformat": 4,
 "nbformat_minor": 5
}
