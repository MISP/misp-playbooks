{
 "cells": [
  {
   "attachments": {
    "playbook-structure-graphical-workflow.drawio.png": {
     "image/png": "[encoded data removed]"
    }
   },
   "cell_type": "markdown",
   "id": "ca1fbfb5",
   "metadata": {},
   "source": [
    "# MISP playbook title\n",
    "\n",
    "- UUID: **42fdc8d0-eab6-4497-8a42-c051316cc211**\n",
    "- State: **Draft**\n",
    "- Purpose: **This notebook is used to demonstrate the general structure of a MISP playbook.**\n",
    "- External resources: **Hashlookup**, **CVE**\n",
    "- Graphical workflow ![playbook-structure-graphical-workflow.drawio.png](attachment:playbook-structure-graphical-workflow.drawio.png)"
   ]
  },
  {
   "attachments": {},
   "cell_type": "markdown",
   "id": "a512a2c1",
   "metadata": {},
   "source": [
    "# Playbook <a name=\"top\"></a>\n",
    "\n",
    "- IN:1 Initialise environment\n",
    "- SR:1 Search for MISP events\n",
    "- MP:1 Manipulate MISP events\n",
    "- EN:1 Send a report via chat\n",
    "- Result\n",
    "- External references\n",
    "- Technical details"
   ]
  },
  {
   "attachments": {},
   "cell_type": "markdown",
   "id": "8dc24913",
   "metadata": {},
   "source": [
    "## IN:1 Initialise environment\n",
    "This section initialises our environment and loads the required Python libraries."
   ]
  },
  {
   "cell_type": "code",
   "execution_count": 1,
   "id": "5f94c336",
   "metadata": {},
   "outputs": [],
   "source": [
    "import json"
   ]
  },
  {
   "attachments": {},
   "cell_type": "markdown",
   "id": "d4f135da",
   "metadata": {},
   "source": [
    "## SR:1 Search for MISP events\n",
    "\n",
    "In this **start** step we search for MISP events. You need to supply the **list of organisations** and / or **tags** that you are interested in. We will then use this result in our next execution steps."
   ]
  },
  {
   "cell_type": "code",
   "execution_count": 2,
   "id": "75e45517",
   "metadata": {},
   "outputs": [],
   "source": [
    "required_orgs = [ \"MyCSIRT\", \"MySOC\"]\n",
    "required_tags = [ \"workflow:state=\\\"draft\\\"\", \"PAP:GREEN\"]"
   ]
  },
  {
   "cell_type": "code",
   "execution_count": 3,
   "id": "a0587ac0",
   "metadata": {},
   "outputs": [],
   "source": [
    "# Do Python things\n"
   ]
  },
  {
   "attachments": {},
   "cell_type": "markdown",
   "id": "fb59cb1f",
   "metadata": {},
   "source": [
    "## MP:1: Manipulate MISP events\n",
    "\n",
    "In this steps we use the result from searching for MISP events and manipulate the events. We can change the workflow state and publish the event."
   ]
  },
  {
   "cell_type": "code",
   "execution_count": 4,
   "id": "3a3d28c3",
   "metadata": {},
   "outputs": [],
   "source": [
    "change_workflow: True\n",
    "publish_event: True"
   ]
  },
  {
   "cell_type": "code",
   "execution_count": 5,
   "id": "81ac5cb4",
   "metadata": {},
   "outputs": [],
   "source": [
    "# Do Python things\n"
   ]
  },
  {
   "attachments": {},
   "cell_type": "markdown",
   "id": "70dea5ca",
   "metadata": {},
   "source": [
    "## EN:1 Send a report via chat\n",
    "\n",
    "In this **end** step we send the result of our actions to a chat channel. "
   ]
  },
  {
   "cell_type": "code",
   "execution_count": 6,
   "id": "ca49f33e",
   "metadata": {},
   "outputs": [],
   "source": [
    "# Do Python things\n"
   ]
  },
  {
   "attachments": {},
   "cell_type": "markdown",
   "id": "c1347592",
   "metadata": {},
   "source": [
    "## Result\n",
    "\n",
    "In the closure of our playbook we print the **result** of our actions. This can also just be a \"success\" / \"failure\" status."
   ]
  },
  {
   "cell_type": "code",
   "execution_count": 7,
   "id": "4c03bb30",
   "metadata": {},
   "outputs": [
    {
     "name": "stdout",
     "output_type": "stream",
     "text": [
      "\u001b[92m Success\n"
     ]
    }
   ],
   "source": [
    "print(\"\\033[92m Success\")\n"
   ]
  },
  {
   "attachments": {},
   "cell_type": "markdown",
   "id": "b17af9f2",
   "metadata": {},
   "source": [
    "## External references \n",
    "\n",
    "- [The MISP Project](https://www.misp-project.org/)"
   ]
  },
  {
   "cell_type": "markdown",
   "id": "e1c813f6",
   "metadata": {},
   "source": [
    "## Technical details <a name=\"techdetails\"></a>\n",
    "\n",
    "- Requires PyMISP\n",
    "- Requires network access to your MISP server via HTTPS (tcp/443)\n",
    "- Requires a MISP API key with write permissions"
   ]
  }
 ],
 "metadata": {
  "kernelspec": {
   "display_name": "Python 3 (ipykernel)",
   "language": "python",
   "name": "python3"
  },
  "language_info": {
   "codemirror_mode": {
    "name": "ipython",
    "version": 3
   },
   "file_extension": ".py",
   "mimetype": "text/x-python",
   "name": "python",
   "nbconvert_exporter": "python",
   "pygments_lexer": "ipython3",
   "version": "3.8.10"
  }
 },
 "nbformat": 4,
 "nbformat_minor": 5
}
