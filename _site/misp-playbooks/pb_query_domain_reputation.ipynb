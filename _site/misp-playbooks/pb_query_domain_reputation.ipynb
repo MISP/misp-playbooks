{
 "cells": [
  {
   "cell_type": "markdown",
   "id": "ca1fbfb5",
   "metadata": {
    "tags": [
     "playbook-introduction"
    ]
   },
   "source": [
    "# Query domain reputation\n",
    "\n",
    "## Introduction\n",
    "\n",
    "- UUID: **e0af39c0-095b-4c31-9e42-2a731928c2a1**\n",
    "- Started from [issue 13](https://github.com/MISP/misp-playbooks/issues/13)\n",
    "- State: **Published**\n",
    "- Purpose: This playbook queries the enabled OSINT feeds and the local MISP events for matches with one or more **domain name(s)**. \n",
    "- - The playbook also queries URLscan for historical scans related to the domains and extracts the screenshots from URLscan. The playbook then uses the MISP modules to look up the DNS resolutions and queries VirusTotal, Shodan and URLhaus for information related to the domains. You can also specify additional entries (indicators or elements to be used for querying these sources). \n",
    "- - The playbook also looks up the known abuse contacts via abuse_finder. All this information is then included in a summary and send to Mattermost and TheHive.\n",
    "- Tags: [ \"domain\", \"reputation\" ]\n",
    "- External resources: **URLscan**, **abuse_finder**, **DNS**, **URLhaus**, **Shodan**, **VirusTotal**, **Mattermost, TheHive**\n",
    "- Target audience: **SOC, CSIRT, CTI**\n",
    "- Graphical workflow \n",
    "\n",
    "![helpers/playbook-query_domain_reputation.png](helpers/playbook-query_domain_reputation.png)"
   ]
  },
  {
   "cell_type": "markdown",
   "id": "a512a2c1",
   "metadata": {
    "jp-MarkdownHeadingCollapsed": true,
    "tags": []
   },
   "source": [
    "# Playbook\n",
    "\n",
    "- **Query domain reputation**\n",
    "- - Introduction\n",
    "- **Preparation**\n",
    "- - PR:1 Initialise environment\n",
    "- - PR:2 Verify MISP modules\n",
    "- - PR:3 Load helper functions\n",
    "- - PR:4 Set helper variables\n",
    "- - PR:5 What are you searching for?\n",
    "- - PR:6 MISP event details\n",
    "- - PR:7 Setup MISP event link\n",
    "- **Investigate**\n",
    "- - IN:1 Context details for the domains\n",
    "- - IN:2 Add the domains to the event\n",
    "- **Correlation**\n",
    "- - CR:1 Correlation with MISP events\n",
    "- - CR:2 Correlation with MISP feeds\n",
    "- **Enrichment**\n",
    "- - ER:1 Enrich with information from URLscan\n",
    "- - ER:2 Enrich with DNS information\n",
    "- - ER:3 Enrich with abuse information\n",
    "- - ER:4 Add custom enrichment information\n",
    "- - ER:5 Review the current MISP event graph\n",
    "- - ER:6 Enrich with information from VirusTotal\n",
    "- - ER:7 Enrich with information from Shodan\n",
    "- - ER:8 Enrich with information from URLhaus\n",
    "- - ER:9 Add screenshots from URLscan to playbook\n",
    "- - ER:10 Review and export final MISP event graph\n",
    "- **Summary**\n",
    "- - EN:1 MISP indicators\n",
    "- - EN:2 Create the summary of the playbook\n",
    "- - EN:3 Send a summary to Mattermost\n",
    "- - EN:4 Send an alert to TheHive\n",
    "- - EN:5 Publish MISP event\n",
    "- - EN:6 End of the playbook\n",
    "- External references\n",
    "- Technical details"
   ]
  },
  {
   "cell_type": "markdown",
   "id": "8dc24913",
   "metadata": {
    "tags": []
   },
   "source": [
    "# Preparation\n",
    "\n",
    "## PR:1 Initialise environment\n",
    "\n",
    "This section **initialises the playbook environment** and loads the required Python libraries. \n",
    "\n",
    "The credentials for MISP (**API key**) and other services are loaded from the file `keys.py` in the directory **vault**. A [PyMISP](https://github.com/MISP/PyMISP) object is created to interact with MISP and the active MISP server is displayed. By printing out the server name you know that it's possible to connect to MISP. In case of a problem PyMISP will indicate the error with `PyMISPError: Unable to connect to MISP`.\n",
    "\n",
    "The contents of the `keys.py` file should contain at least :\n",
    "\n",
    "```\n",
    "misp_url=\"<MISP URL>\"                  # The URL to our MISP server\n",
    "misp_key=\"<MISP API KEY>\"              # The MISP API key\n",
    "misp_verifycert=<True or False>        # Indicate if PyMISP should attempt to verify the certificate or ignore errors\n",
    "urlscan_url=\"https://urlscan.io/api/v1/search\"\n",
    "urlscan_apikey=\"<URLSCAN API KEY>\"\n",
    "mattermost_playbook_user=\"<MATTERMOST USER>\"\n",
    "mattermost_hook=\"<MATTERMOST WEBHOOK>\"\n",
    "thehive_url=\"<THEHIVE URL>\"\n",
    "thehive_key=\"<THEHIVE API KEY>\"\n",
    "virustotal_apikey=\"<VIRUSTOTAL_APIKEY>\"\n",
    "shodan_apikey=\"<SHODAN_APIKEY>\"\n",
    "```"
   ]
  },
  {
   "cell_type": "code",
   "execution_count": null,
   "id": "5f94c336",
   "metadata": {
    "tags": []
   },
   "outputs": [],
   "source": [
    "# Initialise Python environment\n",
    "import urllib3\n",
    "import sys\n",
    "import json\n",
    "import base64\n",
    "import uuid\n",
    "import time\n",
    "import re\n",
    "from prettytable import PrettyTable, MARKDOWN\n",
    "from IPython.display import Image, display, display_markdown, HTML\n",
    "from datetime import date\n",
    "import requests\n",
    "from pymisp import *\n",
    "from pymisp.tools import GenericObjectGenerator\n",
    "from abuse_finder import domain_abuse, ip_abuse, email_abuse, url_abuse\n",
    "import textwrap\n",
    "\n",
    "# Load the credentials\n",
    "sys.path.insert(0, \"../vault/\")\n",
    "from keys import *\n",
    "if misp_verifycert is False:\n",
    "    import urllib3\n",
    "    urllib3.disable_warnings(urllib3.exceptions.InsecureRequestWarning)\n",
    "print(\"The \\033[92mPython libraries\\033[90m are loaded and the \\033[92mcredentials\\033[90m are read from the keys file.\")\n",
    "\n",
    "# Create the PyMISP object\n",
    "misp = PyMISP(misp_url, misp_key, misp_verifycert)\n",
    "misp_headers = {\"Authorization\": misp_key,  \"Content-Type\": \"application/json\", \"Accept\": \"application/json\"}\n",
    "print(\"I will use the MISP server \\033[92m{}\\033[90m for this playbook.\\n\\n\".format(misp_url))"
   ]
  },
  {
   "cell_type": "markdown",
   "id": "0e4c6424-0056-416a-812c-04a7559cbe56",
   "metadata": {},
   "source": [
    "## PR:2 Verify MISP modules\n",
    "\n",
    "This playbook uses the MISP modules to obtain additional correlation or enrichment information. [MISP modules](https://github.com/MISP/misp-modules) are autonomous modules that can be used to extend MISP for new services such as expansion, import and export. The modules are written in Python 3 following a simple API interface. The objective is to ease the extensions of MISP functionalities without modifying core components. The API is available via a simple REST API which is independent from MISP installation or configuration.\n",
    "\n",
    "In the next cell we check if we have access to the **MISP module** server and if the required modules are enabled."
   ]
  },
  {
   "cell_type": "code",
   "execution_count": null,
   "id": "49c3c749-79b4-42c2-ac29-68181119e548",
   "metadata": {
    "tags": []
   },
   "outputs": [],
   "source": [
    "# Where can we find the local MISP Module server? You can leave this to the default setting in most cases.\n",
    "misp_modules_url = \"http://127.0.0.1:6666\"\n",
    "\n",
    "# How long do we wait between queries when using the MISP modules (API rate limiting of external service such as VirusTotal)\n",
    "misp_modules_wait = 3\n",
    "\n",
    "# Initiliasation\n",
    "misp_modules = {}\n",
    "misp_modules_headers = {\n",
    "    \"Content-Type\": \"application/json\",\n",
    "    \"Accept\": \"application/json\"\n",
    "}\n",
    "misp_modules_in_use = [\"dns\", \"virustotal_public\", \"shodan\", \"urlhaus\"]\n",
    "# Code block to query the MISP module server and check if our modules are enabled\n",
    "res = requests.get(\"{}/modules\".format(misp_modules_url), headers=misp_modules_headers)\n",
    "for module in res.json():\n",
    "    for module_requested in misp_modules_in_use:\n",
    "        if module.get(\"name\", False) == module_requested:\n",
    "            misp_modules[module_requested] = {\"enabled\": True, \"input\": module.get(\"mispattributes\").get(\"input\")}\n",
    "            print(\"Found the \\033[92m{}\\033[90m MISP module (Accepted input: {}).\".format(module_requested, misp_modules[module_requested][\"input\"]))\n",
    "print(\"\\n\\n\")"
   ]
  },
  {
   "cell_type": "markdown",
   "id": "e9e92317-49fd-4746-b61e-abd84468114e",
   "metadata": {},
   "source": [
    "## PR:3 Load helper functions\n",
    "\n",
    "The next cell contains **helper functions** that are used in this playbook. \n",
    "\n",
    "Instead of distributing helper functions as separate Python files this playbook includes all the required code as one code cell. This makes portability of playbooks between instances easier. The downside is that functions defined in this playbook need to be defined again in other playbooks, which is not optimal for code re-use. For this iteration of playbooks it is chosen to include the code in the playbook (more portability), but you can easily create one \"helper\" file that contains all the helper code and then import that file in each playbook (for example by adding to the previous cell `from helpers import *`). Note that the graphical workflow image is included as an external image. A missing image would not influence the further progress of the playbook.\n",
    "\n",
    "To avoid cluttering the output of the playbook the next code cell is **collapsed**. You still **need to execute it**, but you can leave the cell collapsed. Click on the cell to expand it, click on the left bar that indicates the active cell in the Jupyter notebook to collapse it again."
   ]
  },
  {
   "cell_type": "code",
   "execution_count": null,
   "id": "cfab4370-b5be-483d-9344-0b414a06cd61",
   "metadata": {
    "tags": []
   },
   "outputs": [],
   "source": [
    "def pb_get_misp_tags(tags=[], local_tags=[]):\n",
    "    '''\n",
    "    Get a list of MISP tags based on a Python list\n",
    "\n",
    "    :param misp: MISP object\n",
    "    :param object_template: which object template to return\n",
    "    '''\n",
    "    misp_tags = []\n",
    "    for el in tags:\n",
    "        t = MISPTag()\n",
    "        t.name = el\n",
    "        t.local = False\n",
    "        misp_tags.append(t)\n",
    "\n",
    "    for el in local_tags:\n",
    "        t = MISPTag()\n",
    "        t.name = el\n",
    "        t.local = True\n",
    "        misp_tags.append(t)\n",
    "    return misp_tags\n",
    "\n",
    "\n",
    "def pb_add_enrichment(playbook_results, field, entry, key, value):\n",
    "    '''\n",
    "    Add an enrichment (or correlation) entry but first check that the value is not already there\n",
    "    \n",
    "    : param playbook_results: all the enrichment results\n",
    "    : param field\n",
    "    : param entry\n",
    "    : param key\n",
    "    : param value\n",
    "    '''\n",
    "    skip_field = False\n",
    "    for existing_entry in playbook_results.get(field, []):\n",
    "        if existing_entry.get(key, False) == value:\n",
    "            skip_field = True\n",
    "            print(\" Not adding to playbook results because of duplicate. Already added via {}\".format(existing_entry.get(\"source\", False)))\n",
    "    if not skip_field:\n",
    "        if field in playbook_results:\n",
    "            playbook_results[field].append(entry)\n",
    "        else:\n",
    "            playbook_results[field] = [entry]\n",
    "    return playbook_results\n",
    "\n",
    "\n",
    "print(\"\\033[92mHelper functions loaded\\033[90m.\\n\\n\".format(misp_url))"
   ]
  },
  {
   "cell_type": "markdown",
   "id": "6b0fe9f4-23b1-4eec-bc61-8bc965ffc619",
   "metadata": {},
   "source": [
    "## PR:4 Set helper variables\n",
    "\n",
    "This cell contains **helper variables** that are used in this playbook. Their usage is explained in the next steps of the playbook."
   ]
  },
  {
   "cell_type": "code",
   "execution_count": null,
   "id": "645d8ee5-e07f-4bab-953c-8d71f9c1b171",
   "metadata": {
    "tags": []
   },
   "outputs": [],
   "source": [
    "# Dictionary to playbook results and some of the core objects that are created\n",
    "playbook_results = {}\n",
    "case_objects = {}\n",
    "\n",
    "# A set of regular expressions that we use to determine the attribute type\n",
    "regular_expressions = {\"sha256\": \"^[a-fA-F0-9]{64}$\",\n",
    "                       \"md5\": \"^[a-fA-F0-9]{32}$\",\n",
    "                       \"hostname\": \"^[a-zA-Z0-9.\\-_]+\\.[a-zA-Z]{2,}$\",\n",
    "                       \"sha1\": \"^[a-fA-F0-9]{40}$\",\n",
    "                       \"url\": \"^(http|https):\\/\\/[-a-zA-Z0-9-]{2,256}\\.[-a-zA-Z0-9-]{2,256}\",\n",
    "                       \"ip-src\": \"[0-9]{1,3}\\.[0-9]{1,3}\\.[0-9]{1,3}\\.[0-9]{1,3}\",\n",
    "                       \"ip-dst\": \"[0-9]{1,3}\\.[0-9]{1,3}\\.[0-9]{1,3}\\.[0-9]{1,3}\"\n",
    "                      }\n",
    "\n",
    "# Variables to hold the output tables. Can also be moved to a dictionary\n",
    "table_customentries = None\n",
    "table_mispevents = None\n",
    "table_mispfeeds = None\n",
    "table_urlscan = None\n",
    "table_dns = None\n",
    "table_abuse = None\n",
    "table_virustotal = None\n",
    "table_shodan = None\n",
    "table_urlhaus = None"
   ]
  },
  {
   "cell_type": "markdown",
   "id": "62f98308-a0c2-486d-9675-44f51f9a538e",
   "metadata": {},
   "source": [
    "## PR:5 What are you searching for?\n",
    "\n",
    "In this section you can define your **user input** as the **domains** that you want to investigate with this playbook. The variable `query_domain` can contain one domain (a 'string') or a list of domains.\n",
    "\n",
    "The input to this cell is <font color='red'>crucial for the further progress</font> of this playbook."
   ]
  },
  {
   "cell_type": "code",
   "execution_count": null,
   "id": "01fd3a79-9ab2-4fde-a9d3-2a242a621a8f",
   "metadata": {
    "tags": []
   },
   "outputs": [],
   "source": [
    "# Provide one or more domain names\n",
    "query_domain = [\"qwepoi123098.com\", \"mikeylinehan.com\"]"
   ]
  },
  {
   "cell_type": "code",
   "execution_count": null,
   "id": "b67481c1-3e9f-4f18-82b8-284c132057cf",
   "metadata": {
    "tags": []
   },
   "outputs": [],
   "source": [
    "# Simple function to make a list. Makes it more consistent to work with the user input in the next cells.\n",
    "if type(query_domain) == str:\n",
    "    query_domain =[query_domain]\n",
    "print(\"The playbook will do the domain reputation query for \\033[92m{}\\033[90m\\n\".format(query_domain))"
   ]
  },
  {
   "cell_type": "markdown",
   "id": "2bfd0045-13fe-4f83-a6a7-2d70621b7423",
   "metadata": {},
   "source": [
    "## PR:6 MISP event details\n",
    "\n",
    "### Event title\n",
    "\n",
    "In this playbook we create a **new** MISP event with title **Domain reputation investigation for _domainlist_**. You get the chance to override this default title but remember that it is good practice to choose a self-explanatory **event title**. This event title is shown in the MISP event index and should provide you the necessary information what the event is about. You should avoid using generic event titles. Read the [Best Practices in Threat Intelligence](https://www.misp-project.org/best-practices-in-threat-intelligence.html) for further guidance.\n",
    "\n",
    "### Contexualisation\n",
    "\n",
    "This playbook adds event contexualisation via the **tags** that are defined in `event_additional_global_tags` (for *global* tags) and `event_additional_local_tags` (for *local* tags). As a reminder, whereas *global* tags remain attached to the events that you share with your community, the *local* tags are not shared outside your organisation. It's also a good idea to primarily use tags that are part of a [taxonomy](https://github.com/MISP/misp-taxonomies), this allows you to make the contexualisation more portable accross multiple MISP instances.\n",
    "\n",
    "In this playbook the list of tags is build via one of the helper functions `pb_get_misp_tags`. This function takes two arguments, first a list of tags to convert as *global* tags, and secondly a list of tags to convert as *local* tags. It then returns a Python list of MISPTag objects.\n",
    "\n",
    "### Traffic Light Protocol\n",
    "\n",
    "The default **TLP** for this event is **<span style='color:#FFBF00'>tlp:amber</span>**. The Traffic Light Protocol (TLP) facilitates sharing of potentially sensitive information and allows for more effective collaboration. TLP is a set of four standard labels to indicate the sharing boundaries to be applied by the recipients. TLP is always set by the creator of information. You can find more information at [FIRST](https://www.first.org/tlp/). You can specify the TLP via `event_tlp`.\n",
    "\n",
    "### MISP Galaxies\n",
    "\n",
    "This playbook can also add MISP galaxies to the event with the variable `event_galaxies`. A common galaxy is for example [T1583/001](https://attack.mitre.org/techniques/T1583/001/). You can also leave the list empty if you do not want to add galaxies in this stage of the investigation.\n",
    "\n",
    "### MISP distribution, threat level and analysis level\n",
    "\n",
    "Optionally you can specifiy a MISP **distribution** (with `event_distribution`), **threat level** (with `event_threat_level_id`) or **analysis state** (with `event_analysis`). The event **date** is set to today via `event_date`.\n",
    "\n",
    "If you cannot remember the options for distribution, threat level or the analysis state then use the next cell to guide you. This cell is set as **raw**. If you **change its type to code** and execute the cell you get an overview of the options available for creating a MISP event."
   ]
  },
  {
   "cell_type": "raw",
   "id": "2241e980-7b66-427d-aa70-95e62669102d",
   "metadata": {},
   "source": [
    "# This cell is 'raw' by default. Change it to 'code' to execute it.\n",
    "\n",
    "print(\"Distribution value\")\n",
    "for e in Distribution:\n",
    "    print(\" \", e.value, \"=\", e)\n",
    "print(\"\\n\")\n",
    "print(\"Threat level\")\n",
    "for e in ThreatLevel:\n",
    "    print(\" \", e.value, \"=\", e)\n",
    "print(\"\\n\")\n",
    "print(\"Analysis level\")\n",
    "for e in Analysis:\n",
    "    print(\" \", e.value, \"=\", e)"
   ]
  },
  {
   "cell_type": "markdown",
   "id": "f46eaf74-a42e-41c5-8f10-e8882d5dd31d",
   "metadata": {},
   "source": [
    "## PR:7 Setup MISP event link\n",
    "\n",
    "By default the playbook will generate a **title** with a prefix and the domains you want to investigate. You can override this event title with the variable `event_title`. If you leave this value empty the playbook will generate the MISP event title for you."
   ]
  },
  {
   "cell_type": "code",
   "execution_count": null,
   "id": "63ac7f8b-cd54-4b36-9604-76a7a38d25e0",
   "metadata": {
    "tags": []
   },
   "outputs": [],
   "source": [
    "# Provide the event title for a new event. Leave blank for the playbook to auto generate one\n",
    "event_title = \"\"\n",
    "\n",
    "# Prefix for auto generate event title\n",
    "event_title_default_prefix = \"Domain reputation investigation\"\n",
    "\n",
    "# Optionally, you can change TLP, add additional event (local and global) tags, threatlevel, analysis state or distribution level\n",
    "event_tlp = \"tlp:amber\"\n",
    "\n",
    "# Event context\n",
    "event_additional_global_tags = []                                 # This needs to be a Python list\n",
    "event_additional_local_tags = [\"workflow:state=\\\"incomplete\\\"\"]   # This needs to be a Python list\n",
    "\n",
    "# Event galaxies\n",
    "event_galaxies = [\"misp-galaxy:mitre-attack-pattern=\\\"Domains - T1583.001\\\"\"]\n",
    "\n",
    "# Additional MISP event settings\n",
    "event_threat_level_id = ThreatLevel.low\n",
    "event_analysis = Analysis.ongoing\n",
    "event_distribution = Distribution.your_organisation_only\n",
    "event_date = date.today()"
   ]
  },
  {
   "cell_type": "markdown",
   "id": "1a6b266f-577f-4a4c-882b-10542107987e",
   "metadata": {},
   "source": [
    "### Create MISP event\n",
    "\n",
    "The next code cell will **create the MISP event** and store the references to the newly created event in the variable `misp_event`. This variable is used further when the playbook progresses."
   ]
  },
  {
   "cell_type": "code",
   "execution_count": null,
   "id": "864d7c62-a923-472a-937a-ba196c148b77",
   "metadata": {
    "tags": []
   },
   "outputs": [],
   "source": [
    "# Code block to create the event or add data to an existing event\n",
    "event_title = event_title.strip()\n",
    "\n",
    "if not(event_title is str and len(event_title) > 0):\n",
    "    event_title = \"{} for {}\".format(event_title_default_prefix, ' '.join(query_domain))\n",
    "\n",
    "# Construct the event tags\n",
    "event_additional_global_tags.append(event_tlp)\n",
    "event_additional_global_tags.append(event_galaxies)\n",
    "event_tags = pb_get_misp_tags(event_additional_global_tags, event_additional_local_tags)\n",
    "\n",
    "# Create the PyMISP object for an event\n",
    "event = MISPEvent()\n",
    "event.info = event_title\n",
    "event.distribution = event_distribution\n",
    "event.threat_level_id = event_threat_level_id\n",
    "event.analysis = event_analysis\n",
    "event.set_date(event_date)\n",
    "\n",
    "# Create the MISP event on the server side\n",
    "misp_event = misp.add_event(event, pythonify=True)\n",
    "print(\"Continue the playbook with the new \\033[92mcreated\\033[90m MISP event ID {} with title \\033[92m{}\\033[90m and UUID {}\".format(misp_event.id, misp_event.info, misp_event.uuid))\n",
    "for tag in event_tags:\n",
    "    misp.tag(misp_event.uuid, tag, local=tag.local)\n",
    "    print(\"\\033[92mAdded\\033[90m event tag {}\".format(tag))\n",
    "print(\"\\n\\n\")"
   ]
  },
  {
   "cell_type": "markdown",
   "id": "2243ae8b-cb77-4835-a0cd-2738ee8c9bec",
   "metadata": {},
   "source": [
    "# Investigate"
   ]
  },
  {
   "cell_type": "markdown",
   "id": "9da9ca98-401e-4205-a31b-1a571f681f9b",
   "metadata": {},
   "source": [
    "## IN:1 Context details for the domains\n",
    "\n",
    "In this section you can set the context details (tags) for the (domain) attributes via the variable `attribute_tags`. These tags are used when the domains are added as an object to the MISP event."
   ]
  },
  {
   "cell_type": "code",
   "execution_count": null,
   "id": "171aee2b-bf8b-4668-9992-3c64f04e7ec3",
   "metadata": {
    "tags": []
   },
   "outputs": [],
   "source": [
    "attribute_tags = pb_get_misp_tags([\"PAP:GREEN\", \"course-of-action:passive=\\\"discover\\\"\"])"
   ]
  },
  {
   "cell_type": "markdown",
   "id": "e4be95a1-67ee-4c5a-85e3-a9607f335f40",
   "metadata": {},
   "source": [
    "## IN:2 Add the domains to the event\n",
    "\n",
    "Before we query the MISP events or the external data sources we first add the domains that are under investigation as `domain-ip` objects to our events."
   ]
  },
  {
   "cell_type": "code",
   "execution_count": null,
   "id": "d17bcaf4-07d9-4329-bfb4-ec04a1530294",
   "metadata": {
    "tags": []
   },
   "outputs": [],
   "source": [
    "for domain in query_domain:\n",
    "    domain_object = MISPObject(\"domain-ip\")\n",
    "    domain_object.add_attribute(\"domain\", domain, tags=attribute_tags, comment=\"Added by playbook\")\n",
    "    result = misp.add_object(misp_event.uuid, domain_object, pythonify=True)\n",
    "    if not \"errors\" in result:\n",
    "        case_objects[domain] = result\n",
    "        playbook_results[domain] = []\n",
    "        print(\"\\033[92mAdded\\033[90m object for {} with UUID {}\".format(domain, result.uuid))\n",
    "    else:\n",
    "        print(result)\n",
    "print(\"\\n\")"
   ]
  },
  {
   "cell_type": "markdown",
   "id": "7aefa562-90fb-449d-be2e-cccf76060e74",
   "metadata": {},
   "source": [
    "# Correlation\n",
    "\n",
    "## CR:1 Correlation with MISP events\n",
    "\n",
    "This cell searches the **MISP server** for events that have a match with one of the domains previously specified. A summary of the correlation is also shown at the end of the playbook.\n",
    "\n",
    "Only **published** events (`correlation_published`) and attributes that have the **to_ids** flag (`correlation_to_ids`) set are take into account. There is a default limit of **1000 hits** (`correlation_limit`) and you can limit the search with tags (`correlation_match_tags`)."
   ]
  },
  {
   "cell_type": "code",
   "execution_count": null,
   "id": "69ad9cc1-ab8a-4bc1-a485-11565b849785",
   "metadata": {
    "tags": []
   },
   "outputs": [],
   "source": [
    "# Only query for published MISP events\n",
    "correlation_published = True\n",
    "\n",
    "# Only consider those values that have the to_ids field set to True\n",
    "correlation_to_ids = True\n",
    "\n",
    "# Limit the returned results to 1000 attributes\n",
    "correlation_limit = 1000\n",
    "\n",
    "# Only return results corresponding with these tags\n",
    "correlation_match_tags = [\"tlp:amber\", \"tlp:white\"]"
   ]
  },
  {
   "cell_type": "code",
   "execution_count": null,
   "id": "ba6ac8f8-cd37-4db6-be8a-12e39275d63b",
   "metadata": {
    "tags": []
   },
   "outputs": [],
   "source": [
    "# Code block to query MISP and find the correlations\n",
    "if len(query_domain) > 0:\n",
    "    search_match = misp.search(\"attributes\", to_ids=correlation_to_ids, value=query_domain, tags=correlation_match_tags,\n",
    "                                   published=correlation_published, limit=correlation_limit, pythonify=True)\n",
    "    if len(search_match) > 0:\n",
    "        for attribute in search_match:\n",
    "            if attribute.Event.id != misp_event.id:   # Skip the event we just created for this playbook\n",
    "                print(\"Found \\033[92m{}\\033[90m in \\033[92m{}\\033[90m\".format(attribute.value, attribute.Event.info))\n",
    "                entry = {\"source\": \"MISP\", \"category\": attribute.category, \"type\": attribute.type, \"event_id\": attribute.Event.id, \"event_info\": attribute.Event.info, \"enriched\": attribute.value}\n",
    "                playbook_results = pb_add_enrichment(playbook_results, attribute.value, entry, \"event_id\", attribute.Event.id)\n",
    "        print(\"\\n\")\n",
    "    else:\n",
    "        print(\"\\033[93mNo correlating MISP events found\")\n",
    "else:\n",
    "    print(\"\\033[93mNo correlating MISP events found\")"
   ]
  },
  {
   "cell_type": "markdown",
   "id": "6c10d315-123f-4622-b764-13c1a036ebb5",
   "metadata": {},
   "source": [
    "### MISP events correlation table\n",
    "\n",
    "The correlation results are now stored in `playbook_results`. Execute the next cell to display them in a table format. The table is also included in the summary sent to Mattermost and TheHive."
   ]
  },
  {
   "cell_type": "code",
   "execution_count": null,
   "id": "7d098b83-1733-4804-939e-c9d370d8e596",
   "metadata": {
    "tags": []
   },
   "outputs": [],
   "source": [
    "# Put the correlations in a pretty table. We can use this table later also for the summary\n",
    "table = PrettyTable()\n",
    "table.field_names = [\"Source\", \"Value\", \"Category\", \"Type\", \"Event\", \"Event ID\"]\n",
    "table.align[\"Value\"] = \"l\"\n",
    "table.align[\"Category\"] = \"l\"\n",
    "table.align[\"Type\"] = \"l\"\n",
    "table.align[\"Event\"] = \"l\"\n",
    "table.align[\"Event ID\"] = \"l\"\n",
    "table._max_width = {\"Event\": 50}\n",
    "for domain in playbook_results:\n",
    "    for match in playbook_results[domain]:\n",
    "        if match[\"source\"] == \"MISP\":\n",
    "            table.add_row([match[\"source\"], domain, match[\"category\"], match[\"type\"], match[\"event_info\"], match[\"event_id\"]])\n",
    "print(table.get_string(sortby=\"Value\"))\n",
    "table_mispevents = table"
   ]
  },
  {
   "cell_type": "markdown",
   "id": "0469a986-b85e-4f99-ac16-8957447ec76e",
   "metadata": {},
   "source": [
    "## CR:2 Correlation with MISP feeds\n",
    "\n",
    "This cell searches the **MISP feeds** for events that have a match with the domains you specified in `query_domain`. The output of this cell is a table with all the matches. The output is also repeated at the end of the playbook.\n",
    "\n",
    "Note that the correlation lookup in the MISP feeds does not return the name of the MISP event, it returns the UUID of the event as title."
   ]
  },
  {
   "cell_type": "code",
   "execution_count": null,
   "id": "21a234ec-0ecd-493c-bfac-c1c6aaa6ce4d",
   "metadata": {
    "tags": []
   },
   "outputs": [],
   "source": [
    "if len(query_domain) > 0:\n",
    "    misp_cache_url = \"{}/feeds/searchCaches/\".format(misp_url)\n",
    "    match = False\n",
    "    for domain in query_domain:\n",
    "        # Instead of GET, use POST (https://github.com/MISP/MISP/issues/7478)\n",
    "        cache_results = requests.post(misp_cache_url, headers=misp_headers, verify=misp_verifycert, json={\"value\": domain})\n",
    "        for result in cache_results.json():\n",
    "            if \"Feed\" in result:\n",
    "                match = True\n",
    "                print(\"Found \\033[92m{}\\033[90m in \\033[92m{}\\033[90m\".format(domain, result[\"Feed\"][\"name\"]))\n",
    "                for match in result[\"Feed\"][\"direct_urls\"]:\n",
    "                    entry = {\"source\": \"Feeds\", \"feed_name\": result[\"Feed\"][\"name\"], \"match_url\": match[\"url\"]}\n",
    "                    playbook_results = pb_add_enrichment(playbook_results, domain, entry, \"match_url\", match[\"url\"])\n",
    "    if not match:\n",
    "        print(\"\\033[93mNo correlating information found in MISP feeds.\\n\\n\")\n",
    "else:\n",
    "    print(\"\\033[93mNo correlating information found in MISP feeds.\\n\\n\")"
   ]
  },
  {
   "cell_type": "markdown",
   "id": "597185dd-bfd2-4dbb-9a93-46dff4f68945",
   "metadata": {},
   "source": [
    "### MISP feed correlations table\n",
    "\n",
    "The correlation results are now stored in `playbook_results`. Execute the next cell to display them in a table format. The table is also included in the summary sent to Mattermost and TheHive."
   ]
  },
  {
   "cell_type": "code",
   "execution_count": null,
   "id": "0e1734e3-b012-44ab-b6fa-d7090758bdaf",
   "metadata": {
    "tags": []
   },
   "outputs": [],
   "source": [
    "# Put the correlations in a pretty table. We can use this table later also for the summary\n",
    "table = PrettyTable()\n",
    "table.field_names = [\"Source\", \"Value\", \"Feed\", \"URL\"]\n",
    "table.align[\"Value\"] = \"l\"\n",
    "table.align[\"Feed\"] = \"l\"\n",
    "table.align[\"Feed URL\"] = \"l\"\n",
    "table._max_width = {\"Feed\": 50}\n",
    "for domain in playbook_results:\n",
    "    for match in playbook_results[domain]:\n",
    "        if match[\"source\"] == \"Feeds\":\n",
    "            table.add_row([match[\"source\"], domain, match[\"feed_name\"], match[\"match_url\"]])\n",
    "print(table.get_string(sortby=\"Value\"))\n",
    "table_mispfeeds = table"
   ]
  },
  {
   "cell_type": "markdown",
   "id": "dc903d95-22f5-4c46-aba9-f4c5c5aa601e",
   "metadata": {},
   "source": [
    "# Enrichment\n",
    "\n",
    "## ER:1 Enrich with information from URLscan\n",
    "\n",
    "### URLscan\n",
    "\n",
    "This section queries [URLscan.io](https://urlscan.io/) for scan results of the **domains** that are under investigation. Note that there is also a [MISP enrichment module for URLscan](https://github.com/MISP/misp-modules/blob/main/misp_modules/modules/expansion/urlscan.py) but that module is not used in this playbook. This playbook required more flexibility in handling the results from URLscan.\n",
    "\n",
    "### Query time\n",
    "\n",
    "Note that execution of this cell takes a couple of seconds. "
   ]
  },
  {
   "cell_type": "code",
   "execution_count": null,
   "id": "95ffa966-1c32-4061-b527-8eaa6f10a70d",
   "metadata": {
    "tags": []
   },
   "outputs": [],
   "source": [
    "# Code block to query URLscan\n",
    "replace_urlscan = [\"+\", \"-\", \"=\", \"&&\", \"||\", \">\", \"<\", \"!\", \"(\", \")\", \"{\", \"}\", \"[\", \"]\", \"^\", \"~\", \"*\", \"?\", \":\", \"/\"]\n",
    "module_source = \"URLscan.io\"\n",
    "comment_default = \"From {}\".format(module_source)\n",
    "for domain in query_domain:\n",
    "    domain = domain.strip()\n",
    "    for k in replace_urlscan:\n",
    "        domain = domain.replace(k, \"\\{}\".format(k))      # Required by URLscan to avoid errors in the submit\n",
    "    enrichment = []\n",
    "    headers = {\"API-Key\": urlscan_apikey, \"Content-Type\": \"application/json\", \"Cache-Control\": \"no-cache\"}\n",
    "    result = requests.get(\"{}/?q=domain:{}\".format(urlscan_url, domain), headers=headers)\n",
    "\n",
    "    if result.status_code == 200 and result.json().get(\"total\") > 0:\n",
    "        print(\"Received {} URLscan results for \\033[92m{}\\033[90m\".format(result.json().get(\"total\"), domain))\n",
    "        for el in result.json().get(\"results\"):\n",
    "            screenshot_data = requests.get(el[\"screenshot\"])\n",
    "            enrichment.append({\n",
    "                    \"url\": el[\"page\"][\"url\"],\n",
    "                    \"ip\": el[\"page\"].get(\"ip\", False),\n",
    "                    \"server\": el[\"page\"].get(\"server\", \"Unknown\").strip(),\n",
    "                    \"title\": el[\"page\"].get(\"title\", \"\").strip(),\n",
    "                    \"result\": el[\"result\"],\n",
    "                    \"screenshot\": el[\"screenshot\"],\n",
    "                    \"screenshot_data\": screenshot_data,\n",
    "                    \"time\": el[\"task\"].get(\"time\", False),\n",
    "                    \"umbrellaRank\": el[\"page\"].get(\"umbrellaRank\", False)\n",
    "            })\n",
    "\n",
    "        for enriched in enrichment:\n",
    "            b_screenshot_data = False\n",
    "            if \"url\" in enriched:\n",
    "                print(\" Got analysis result for \\033[92m{}\\033[90m\".format(enriched[\"url\"]))\n",
    "                entry = {\"source\": module_source, \"category\": \"Network activity\", \"type\": \"url\", \"enriched\": enriched[\"url\"]}\n",
    "                playbook_results = pb_add_enrichment(playbook_results, domain, entry, \"enriched\", enriched[\"url\"])\n",
    "                url_object = MISPObject(\"url\")\n",
    "                url_object.add_attribute(\"url\", enriched[\"url\"], comment=comment_default)\n",
    "                url_object.comment = \"{} {}\".format(comment_default, enriched[\"result\"])\n",
    "                if \"time\" in enriched:\n",
    "                    url_object.last_seen = enriched[\"time\"]\n",
    "                    url_object.first_seen = enriched[\"time\"]\n",
    "                    url_object.add_attribute(\"first-seen\", enriched[\"time\"], comment=comment_default)\n",
    "                    url_object.add_attribute(\"last-seen\", enriched[\"time\"], comment=comment_default)\n",
    "                if \"title\" in enriched and enriched[\"title\"]:\n",
    "                    url_object.add_attribute(\"text\", enriched[\"title\"], comment=comment_default)\n",
    "                if \"ip\" in enriched and enriched[\"ip\"]:\n",
    "                    url_object.add_attribute(\"ip\", enriched[\"ip\"], comment=comment_default)\n",
    "                    print(\" Got \\033[92m{}\\033[90m\".format(enriched[\"ip\"]))\n",
    "                    entry = {\"source\": module_source, \"category\": \"Network activity\", \"type\": \"ip-dst\", \"enriched\": enriched[\"ip\"]}\n",
    "                    playbook_results = pb_add_enrichment(playbook_results, domain, entry, \"enriched\", enriched[\"ip\"])\n",
    "                url_object_misp = misp.add_object(misp_event.uuid, url_object, pythonify=True)\n",
    "                if not \"errors\" in url_object_misp:\n",
    "                    misp.add_object_reference(url_object_misp.add_reference(case_objects[domain].uuid, \"linked-to\"))\n",
    "                    if enriched[\"url\"] not in case_objects:\n",
    "                        case_objects[enriched[\"url\"]] = url_object_misp                    \n",
    "                else:\n",
    "                    print(url_object_misp)\n",
    "\n",
    "                if \"screenshot\" in enriched:\n",
    "                    b_screenshot_data = base64.b64encode(enriched[\"screenshot_data\"].content).decode('utf-8')\n",
    "                    attribute = MISPAttribute()\n",
    "                    attribute.value = \"screenshot-{}-{}\".format(domain, enriched[\"screenshot\"].split(\"screenshots/\")[1])\n",
    "                    attribute.to_ids = False\n",
    "                    attribute.type = \"attachment\"\n",
    "                    attribute.disable_correlation = True\n",
    "                    attribute.comment = comment_default\n",
    "                    screenshot_time = \"\"\n",
    "                    if \"time\" in enriched:\n",
    "                        attribute.last_seen = enriched[\"time\"]\n",
    "                        attribute.first_seen = enriched[\"time\"]\n",
    "                        screenshot_time = enriched[\"time\"]\n",
    "                    attribute.data = b_screenshot_data\n",
    "                    attribute_misp = misp.add_attribute(misp_event.uuid, attribute, pythonify=True)                    \n",
    "                    entry = {\"source\": module_source, \"screenshot_url\": enriched[\"url\"], \"screenshot_urlscan\": enriched[\"screenshot\"], \"screenshot_name\": attribute.value, \"screenshot\": b_screenshot_data, \"screenshot_time\": screenshot_time}\n",
    "                    playbook_results = pb_add_enrichment(playbook_results, domain, entry, \"screenshot\", b_screenshot_data)\n",
    "                    if not \"errors\" in attribute_misp:\n",
    "                        misp.add_object_reference(url_object_misp.add_reference(attribute_misp.uuid, \"screenshot-of\"))\n",
    "                    else:\n",
    "                        print(attribute_misp)\n",
    "\n",
    "                if \"server\" in enriched and enriched[\"server\"] and enriched[\"server\"] not in [\"Unknown\"]:\n",
    "                    already_there = misp.search(\"attributes\", value=\"server: {}\".format(enriched[\"server\"]), uuid=misp_event.uuid, to_ids=False, type=\"comment\", category=\"Other\", limit=1, pythonify=True)\n",
    "                    if len(already_there) < 1:\n",
    "                        attribute = MISPAttribute()\n",
    "                        attribute.category = \"Other\"\n",
    "                        attribute.type = \"comment\"\n",
    "                        attribute.value = \"server: {}\".format(enriched[\"server\"])\n",
    "                        attribute.to_ids = False\n",
    "                        attribute.disable_correlation = False\n",
    "                        attribute.comment = comment_default\n",
    "                        if \"time\" in enriched:\n",
    "                            attribute.last_seen = enriched[\"time\"]\n",
    "                            attribute.first_seen = enriched[\"time\"]\n",
    "                        attribute_misp = misp.add_attribute(misp_event.uuid, attribute, pythonify=True)\n",
    "                        entry = {\"source\": module_source, \"category\": \"Other\", \"type\": \"server\", \"enriched\": enriched[\"server\"]}\n",
    "                        playbook_results = pb_add_enrichment(playbook_results, domain, entry, \"enriched\", enriched[\"server\"])\n",
    "                    else:\n",
    "                        attribute_misp = already_there[0]\n",
    "                    if not \"errors\" in attribute_misp:\n",
    "                        misp.add_object_reference(url_object_misp.add_reference(attribute_misp.uuid, \"related-to\"))\n",
    "                    else:\n",
    "                        print(attribute_misp)\n",
    "                        \n",
    "                if \"umbrellaRank\" in enriched and enriched[\"umbrellaRank\"]:\n",
    "                    already_there = misp.search(\"attributes\", value=\"umbrellaRank: {}\".format(enriched[\"umbrellaRank\"]), uuid=misp_event.uuid, to_ids=False, type=\"text\", category=\"External analysis\", limit=1, pythonify=True)\n",
    "                    if len(already_there) < 1:\n",
    "                        attribute = MISPAttribute()\n",
    "                        attribute.category = \"External analysis\"\n",
    "                        attribute.type = \"text\"\n",
    "                        attribute.value = \"umbrellaRank: {}\".format(enriched[\"umbrellaRank\"])\n",
    "                        attribute.to_ids = False\n",
    "                        attribute.disable_correlation = False\n",
    "                        attribute.comment = comment_default\n",
    "                        if \"time\" in enriched:\n",
    "                            attribute.last_seen = enriched[\"time\"]\n",
    "                            attribute.first_seen = enriched[\"time\"]\n",
    "                        attribute_misp = misp.add_attribute(misp_event.uuid, attribute, pythonify=True)\n",
    "                        entry = {\"source\": module_source, \"category\": \"Other\", \"type\": \"umbrellaRank\", \"enriched\": enriched[\"umbrellaRank\"]}\n",
    "                        playbook_results = pb_add_enrichment(playbook_results, domain, entry, \"enriched\", enriched[\"umbrellaRank\"])\n",
    "                    else:\n",
    "                        attribute_misp = already_there[0]\n",
    "                    if not \"errors\" in attribute_misp:\n",
    "                        misp.add_object_reference(url_object_misp.add_reference(attribute_misp.uuid, \"ranked-with\"))\n",
    "                    else:\n",
    "                        print(attribute_misp)\n",
    "\n",
    "print(\"Finished URLscan enrichment.\\n\\n\")"
   ]
  },
  {
   "cell_type": "markdown",
   "id": "0dff8d83-c8cd-4404-81c5-a4b71484954f",
   "metadata": {},
   "source": [
    "### URLscan enrichment table\n",
    "\n",
    "The results are now stored in `playbook_results`. Execute the next cell to display them in a table format. The table is also included in the summary sent to Mattermost and TheHive.\n",
    "\n",
    "This playbook has the \"enrichment\" code and the \"table\" code in two different code cells. Although this requires you to execute two code cells, it provides you the advantage of being to print out the table, without having to go through the entire enrichment code again. This table returns only those matches corresponding with the source **URLscan.io**."
   ]
  },
  {
   "cell_type": "code",
   "execution_count": null,
   "id": "e6daa5f9-e07e-4cf8-9dd9-48bb9c9bab00",
   "metadata": {
    "tags": []
   },
   "outputs": [],
   "source": [
    "# Put the correlations in a pretty table. We can use this table later also for the summary\n",
    "table = PrettyTable()\n",
    "table.field_names = [\"Source\", \"Value\", \"Category\", \"Type\", \"Enriched\"]\n",
    "table.align[\"Value\"] = \"l\"\n",
    "table.align[\"Category\"] = \"l\"\n",
    "table.align[\"Type\"] = \"l\"\n",
    "table.align[\"Enriched\"] = \"l\"\n",
    "table._max_width = {\"Enriched\": 50}\n",
    "for domain in playbook_results:\n",
    "    for match in playbook_results[domain]:\n",
    "        if match[\"source\"] == \"URLscan.io\":\n",
    "            if \"category\" in match and \"type\" in match:\n",
    "                table.add_row([match[\"source\"], domain, match[\"category\"], match[\"type\"], match[\"enriched\"]])\n",
    "            elif \"screenshot_name\" in match:\n",
    "                table.add_row([match[\"source\"], domain, \"\", \"screenshot\", \"{} for {}\".format(match[\"screenshot_name\"], match[\"screenshot_url\"])])\n",
    "print(table.get_string(sortby=\"Value\"))\n",
    "table_urlscan = table"
   ]
  },
  {
   "cell_type": "markdown",
   "id": "2ab4bd03-1000-4ed8-a37e-2ad420db9ba0",
   "metadata": {
    "tags": []
   },
   "source": [
    "## ER:2 Enrich with DNS information\n",
    "\n",
    "The next cell will query the MISP DNS module and add the DNS resolution result as a MISP `domain-ip` object. This new object is also linked to the domain via a relation `resolves-to`. The resulting IP addresses can later be used by the VirusTotal and other MISP modules for enrichment.\n",
    "\n",
    "This module uses the default DNS resolver defined in the MISP module (8.8.8.8) but you can also specify your own DNS server with `module_dnsserver`."
   ]
  },
  {
   "cell_type": "code",
   "execution_count": null,
   "id": "21bfeee2-528f-4913-9354-791f09e39b84",
   "metadata": {
    "tags": []
   },
   "outputs": [],
   "source": [
    "# DNS server to use. Leave blank to use 8.8.8.8 (default MISP module)\n",
    "module_dnsserver = \"\""
   ]
  },
  {
   "cell_type": "code",
   "execution_count": null,
   "id": "1e3b71b5-0c6e-4f1b-8ea8-d37d5d77c8d3",
   "metadata": {
    "tags": []
   },
   "outputs": [],
   "source": [
    "module_name = \"dns\"\n",
    "module_source = \"DNS\"\n",
    "module_comment = \"From {}\".format(module_source)\n",
    "\n",
    "if misp_modules[module_name][\"enabled\"] and len(query_domain) > 0:\n",
    "    for value in query_domain:\n",
    "        attribute_type = \"domain\"\n",
    "        data = {\n",
    "            \"domain\": f\"{value}\",\n",
    "            \"module\": module_name\n",
    "        }\n",
    "        if len(module_dnsserver) > 0:\n",
    "            data[\"config\"] = { \"nameserver\": module_dnsserver }\n",
    "        print(\"Query \\033[92m{}\\033[90m\".format(value))\n",
    "        result = requests.post(\"{}/query\".format(misp_modules_url), headers=misp_modules_headers, json=data)\n",
    "        #pprint(result.json())\n",
    "        if \"results\" in result.json() and len(result.json()[\"results\"]) > 0:\n",
    "            result_json = result.json()[\"results\"]\n",
    "            for entry in result_json:\n",
    "                if \"values\" in entry:\n",
    "                    for module_value in entry[\"values\"]:\n",
    "                        ip_object = MISPObject(\"domain-ip\")\n",
    "                        ip_object.add_attribute(\"ip\", module_value, comment=module_comment)\n",
    "                        ip_object_misp = misp.add_object(misp_event.uuid, ip_object, pythonify=True)\n",
    "                        if not \"errors\" in ip_object_misp:\n",
    "                            case_objects[module_value] = ip_object_misp\n",
    "                            misp.add_object_reference(case_objects[value].add_reference(ip_object_misp.uuid, \"resolves-to\"))\n",
    "                            print(\" Got \\033[92m{}\\033[90m\".format(module_value))\n",
    "                            entry = {\"source\": module_source, \"category\": \"Network activity\", \"type\": \"ip-dst\", \"enriched\": module_value}\n",
    "                            playbook_results = pb_add_enrichment(playbook_results, domain, entry, \"enriched\", module_value)\n",
    "\n",
    "print(\"Finished DNS enrichment.\\n\\n\")"
   ]
  },
  {
   "cell_type": "markdown",
   "id": "05f84d4c-f867-4d26-891d-4e9e3f217a8e",
   "metadata": {},
   "source": [
    "### DNS enrichment table\n",
    "\n",
    "The results are now stored in `playbook_results`. Execute the next cell to display them in a table format. The table is also included in the summary sent to Mattermost and TheHive.\n",
    "\n",
    "This table returns only those matches corresponding with the source **DNS**."
   ]
  },
  {
   "cell_type": "code",
   "execution_count": null,
   "id": "42fc89c4-98c4-42e4-b2ed-3360292147ce",
   "metadata": {
    "tags": []
   },
   "outputs": [],
   "source": [
    "# Put the correlations in a pretty table. We can use this table later also for the summary\n",
    "table = PrettyTable()\n",
    "table.field_names = [\"Source\", \"Value\", \"Category\", \"Type\", \"Enriched\"]\n",
    "table.align[\"Value\"] = \"l\"\n",
    "table.align[\"Category\"] = \"l\"\n",
    "table.align[\"Type\"] = \"l\"\n",
    "table.align[\"Enriched\"] = \"l\"\n",
    "table._max_width = {\"Enriched\": 50}\n",
    "for domain in playbook_results:\n",
    "    for match in playbook_results[domain]:\n",
    "        if match[\"source\"] == \"DNS\":\n",
    "            table.add_row([match[\"source\"], domain, match[\"category\"], match[\"type\"], match[\"enriched\"]])\n",
    "print(table.get_string(sortby=\"Value\"))\n",
    "table_dns = table"
   ]
  },
  {
   "cell_type": "markdown",
   "id": "70bc578c-b648-45d4-becb-9630db8c5650",
   "metadata": {},
   "source": [
    "## ER:3 Enrich with abuse information\n",
    "\n",
    "The next cell uses the [abuse_finder](https://github.com/certsocietegenerale/abuse_finder) information to get the most appropriate contact details for abuse reports. These contain details are also added as MISP attributes, either `whois-registrant-name` or `whois-registrant-email`.\n",
    "\n",
    "The first cell will look up the details for the **domains**. The second cell looks up the details for the **IP addresses**.\n",
    "\n",
    "Optionally you can specify the relationship type with the variable `relationtype` (by default it is `associated-with`)."
   ]
  },
  {
   "cell_type": "code",
   "execution_count": null,
   "id": "e0087cb1-f36a-42fb-a4ed-216d8d594c3a",
   "metadata": {
    "tags": []
   },
   "outputs": [],
   "source": [
    "# Relationship type for abuse records\n",
    "relationtype = \"associated-with\""
   ]
  },
  {
   "cell_type": "code",
   "execution_count": null,
   "id": "6c9bcba7-2bc4-4716-bc94-f5d41e46c208",
   "metadata": {
    "tags": []
   },
   "outputs": [],
   "source": [
    "module_source = \"abuse_finder\"\n",
    "module_comment = \"From {}\".format(module_source)\n",
    "\n",
    "# Lookup abuse details for the domains\n",
    "for domain in query_domain:\n",
    "    print(\"Trying \\033[92m{}\\033[90m\".format(domain))\n",
    "    details = domain_abuse(domain)\n",
    "    if \"names\" in details:\n",
    "        attribute_category = \"Attribution\"\n",
    "        attribute_type = \"whois-registrant-name\"\n",
    "        for name in details[\"names\"]:\n",
    "            print(\" Got \\033[92m{}\\033[90m\".format(name))\n",
    "            entry = {\"source\": module_source, \"category\": attribute_category, \"type\": attribute_type, \"enriched\": name}\n",
    "            playbook_results = pb_add_enrichment(playbook_results, domain, entry, \"enriched\", name)\n",
    "            \n",
    "            attribute = MISPAttribute()\n",
    "            attribute.value = name\n",
    "            attribute.to_ids = False\n",
    "            attribute.category = attribute_category\n",
    "            attribute.type = attribute_type\n",
    "            attribute.disable_correlation = True\n",
    "            attribute.comment = \"{}. Information for {}\".format(module_comment, domain)\n",
    "            attribute_misp = misp.add_attribute(misp_event.uuid, attribute, pythonify=True)\n",
    "            if not \"errors\" in attribute_misp:\n",
    "                misp.add_object_reference(case_objects[domain].add_reference(attribute_misp.uuid, relationtype))\n",
    "            else:\n",
    "                print(attribute_misp)\n",
    "    if \"abuse\" in details:\n",
    "        attribute_category = \"Attribution\"\n",
    "        attribute_type = \"whois-registrant-email\"\n",
    "        for name in details[\"abuse\"]:\n",
    "            print(\" Got \\033[92m{}\\033[90m\".format(name))\n",
    "            entry = {\"source\": module_source, \"category\": \"Attribution\", \"type\": \"whois-registrant-email\", \"enriched\": name}\n",
    "            playbook_results = pb_add_enrichment(playbook_results, domain, entry, \"enriched\", name)\n",
    "\n",
    "            attribute = MISPAttribute()\n",
    "            attribute.value = name\n",
    "            attribute.to_ids = False\n",
    "            attribute.category = attribute_category\n",
    "            attribute.type = attribute_type\n",
    "            attribute.disable_correlation = True\n",
    "            attribute.comment = \"{}. Information for {}\".format(module_comment, domain)\n",
    "            attribute_misp = misp.add_attribute(misp_event.uuid, attribute, pythonify=True)\n",
    "            if not \"errors\" in attribute_misp:\n",
    "                misp.add_object_reference(case_objects[domain].add_reference(attribute_misp.uuid, relationtype))\n",
    "            else:\n",
    "                print(attribute_misp)\n",
    "        \n",
    "print(\"Finished abuse_finder enrichment for domains.\\n\\n\")"
   ]
  },
  {
   "cell_type": "code",
   "execution_count": null,
   "id": "65d7aac2-f31b-48d3-a3c8-9ad23767e06d",
   "metadata": {
    "tags": []
   },
   "outputs": [],
   "source": [
    "# Lookup abuse details for the IP addresses\n",
    "for ip in case_objects:\n",
    "    if re.match(r\"{}\".format(regular_expressions[\"ip-dst\"]), ip):\n",
    "        print(\"Trying \\033[92m{}\\033[90m\".format(ip))\n",
    "        details = ip_abuse(ip)\n",
    "        if \"names\" in details:\n",
    "            attribute_category = \"Attribution\"\n",
    "            attribute_type = \"whois-registrant-name\"\n",
    "            for name in details[\"names\"]:\n",
    "                print(\" Got \\033[92m{}\\033[90m\".format(name))\n",
    "                entry = {\"source\": module_source, \"category\": attribute_category, \"type\": attribute_type, \"enriched\": name}\n",
    "                playbook_results = pb_add_enrichment(playbook_results, ip, entry, \"enriched\", name)\n",
    "\n",
    "                attribute = MISPAttribute()\n",
    "                attribute.value = name\n",
    "                attribute.to_ids = False\n",
    "                attribute.category = attribute_category\n",
    "                attribute.type = attribute_type\n",
    "                attribute.disable_correlation = True\n",
    "                attribute.comment = \"{}. Information for {}\".format(module_comment, ip)\n",
    "                attribute_misp = misp.add_attribute(misp_event.uuid, attribute, pythonify=True)\n",
    "                if not \"errors\" in attribute_misp:\n",
    "                    misp.add_object_reference(case_objects[ip].add_reference(attribute_misp.uuid, relationtype))\n",
    "                else:\n",
    "                    print(attribute_misp)\n",
    "        if \"abuse\" in details:\n",
    "            attribute_category = \"Attribution\"\n",
    "            attribute_type = \"whois-registrant-email\"\n",
    "            for name in details[\"abuse\"]:\n",
    "                print(\" Got \\033[92m{}\\033[90m\".format(name))\n",
    "                entry = {\"source\": module_source, \"category\": \"Attribution\", \"type\": \"whois-registrant-email\", \"enriched\": name}\n",
    "                playbook_results = pb_add_enrichment(playbook_results, ip, entry, \"enriched\", name)\n",
    "\n",
    "                attribute = MISPAttribute()\n",
    "                attribute.value = name\n",
    "                attribute.to_ids = False\n",
    "                attribute.category = attribute_category\n",
    "                attribute.type = attribute_type\n",
    "                attribute.disable_correlation = True\n",
    "                attribute.comment = \"{}. Information for {}\".format(module_comment, ip)\n",
    "                attribute_misp = misp.add_attribute(misp_event.uuid, attribute, pythonify=True)\n",
    "                if not \"errors\" in attribute_misp:\n",
    "                    misp.add_object_reference(case_objects[ip].add_reference(attribute_misp.uuid, relationtype))\n",
    "                else:\n",
    "                    print(attribute_misp)\n",
    "\n",
    "print(\"Finished abuse_finder enrichment for IPs.\\n\\n\")"
   ]
  },
  {
   "cell_type": "markdown",
   "id": "4f342ed9-afbf-4734-a64f-29f8292d845b",
   "metadata": {},
   "source": [
    "### Abuse information enrichment table\n",
    "\n",
    "The results are now stored in `playbook_results`. Execute the next cell to display them in a table format. The table is also included in the summary sent to Mattermost and TheHive.\n",
    "\n",
    "This table returns only those matches corresponding with the source **abuse_finder**."
   ]
  },
  {
   "cell_type": "code",
   "execution_count": null,
   "id": "614b00d7-d965-4ca1-8fb3-417bfbb287c7",
   "metadata": {
    "tags": []
   },
   "outputs": [],
   "source": [
    "# Put the correlations in a pretty table. We can use this table later also for the summary\n",
    "table = PrettyTable()\n",
    "table.field_names = [\"Source\", \"Value\", \"Category\", \"Type\", \"Enriched\"]\n",
    "table.align[\"Value\"] = \"l\"\n",
    "table.align[\"Category\"] = \"l\"\n",
    "table.align[\"Type\"] = \"l\"\n",
    "table.align[\"Enriched\"] = \"l\"\n",
    "table._max_width = {\"Enriched\": 50}\n",
    "for domain in playbook_results:\n",
    "    for match in playbook_results[domain]:\n",
    "        if match[\"source\"] == \"abuse_finder\":\n",
    "            table.add_row([match[\"source\"], domain, match[\"category\"], match[\"type\"], match[\"enriched\"]])\n",
    "print(table.get_string(sortby=\"Value\"))\n",
    "table_abuse = table"
   ]
  },
  {
   "cell_type": "markdown",
   "id": "7302b948-a628-4265-9d34-d28d9e565e7c",
   "metadata": {},
   "source": [
    "## ER:4 Add custom enrichment information\n",
    "\n",
    "The next cells query VirusTotal, Shodan and URLhaus for additional enrichments. This is done with the list of domains you provided earlier (via `query_domain`) but also (optionally) on the results of DNS resolution. But before we get to that you can also add **additional entries** that need to be investigated by the next *enrichment* cells. \n",
    "\n",
    "You can add these entries now as custom enrichment information. Obviously you can also use them to add additional indicators that you found relevant for your investigation.\n",
    "\n",
    "You first have to define the **domain** that the information is related to with `custom_entry_domain` and set the enrichment **category** `custom_entry_category`, **type** `custom_entry_type` and **value** `custom_entry_value`. If you leave `custom_entry_value` empty then the code execution is skipped and no additional entries are added. You can add multiple values by re-executing the next two cells multiple times.\n",
    "\n",
    "Optionally you can also specify the relation type (with `custom_entry_relation`), set the to_ids value (with `custom_entry_to_ids`) and provide a comment (with `custom_entry_comment`).\n",
    "\n",
    "To provide you some help the next cell prints out the domains you supplied earlier via query_domains. You can use that as input for the `custom_entry_domain` in the cell for adding custom enrichment information."
   ]
  },
  {
   "cell_type": "code",
   "execution_count": null,
   "id": "f5984349-e8b7-4ac7-98cf-b52bcffa47ad",
   "metadata": {
    "tags": []
   },
   "outputs": [],
   "source": [
    "# Print an overview of the domains this playbook works with\n",
    "count = 0\n",
    "for domain in query_domain:\n",
    "    print(\"{} = {}\".format(count, domain))\n",
    "    count += 1"
   ]
  },
  {
   "cell_type": "code",
   "execution_count": null,
   "id": "f98aaa87-9200-4890-86a3-bca87652a007",
   "metadata": {
    "tags": []
   },
   "outputs": [],
   "source": [
    "# To which domain do you want the enrichment to link\n",
    "custom_entry_domain = query_domain[0] # (or provide the domain directly)\n",
    "\n",
    "# What's the MISP category and type\n",
    "custom_entry_category = \"Payload delivery\"\n",
    "custom_entry_type = \"md5\"\n",
    "\n",
    "# Custom value\n",
    "custom_entry_value = \"44d88612fea8a8f36de82e1278abb02f\" # For example MD5 of EICAR\n",
    "\n",
    "# Define the relation ship type\n",
    "custom_entry_relation = \"linked-to\"\n",
    "\n",
    "# Do you want to have the to_ids field enabled when adding it the attribute to MISP?\n",
    "custom_entry_to_ids = True\n",
    "\n",
    "# Comment field for additional entry\n",
    "custom_entry_comment = \"EICAR hash\""
   ]
  },
  {
   "cell_type": "code",
   "execution_count": null,
   "id": "1e774594-4e35-4bda-a4be-e6567c39e0a6",
   "metadata": {
    "tags": []
   },
   "outputs": [],
   "source": [
    "if len(custom_entry_value.strip()) > 0:\n",
    "    # Set the custom enrichment\n",
    "    entry = {\"source\":\"Custom\", \"category\": custom_entry_category, \"type\": custom_entry_type, \"enriched\": custom_entry_value}\n",
    "    playbook_results = pb_add_enrichment(playbook_results, custom_entry_domain, entry, \"enriched\", entry[\"enriched\"])\n",
    "\n",
    "    # Add to MISP\n",
    "    attribute = MISPAttribute()\n",
    "    attribute.value = custom_entry_value\n",
    "    attribute.to_ids = custom_entry_to_ids\n",
    "    attribute.category = custom_entry_category\n",
    "    attribute.type = custom_entry_type\n",
    "    attribute.comment = \"Added as custom enrichment - {}\".format(custom_entry_comment)\n",
    "    attribute_misp = misp.add_attribute(misp_event.uuid, attribute, pythonify=True)\n",
    "    if not \"errors\" in attribute_misp:\n",
    "        print(\"Attribute \\033[92m{}\\033[90m added\\n\".format(attribute_misp.uuid))\n",
    "        misp.add_object_reference(case_objects[custom_entry_domain].add_reference(attribute_misp.uuid, custom_entry_relation))\n",
    "        if not table_customentries:\n",
    "            table_customentries = PrettyTable()\n",
    "            table_customentries.field_names = [\"Source\", \"Value\", \"Category\", \"Type\", \"Enriched\"]\n",
    "            table_customentries.align[\"Value\"] = \"l\"\n",
    "            table_customentries.align[\"Category\"] = \"l\"\n",
    "            table_customentries.align[\"Type\"] = \"l\"\n",
    "            table_customentries.align[\"Enriched\"] = \"l\"\n",
    "            table_customentries._max_width = {\"Enriched\": 50}\n",
    "        for domain in playbook_results:\n",
    "            for match in playbook_results[domain]:\n",
    "                if match[\"source\"] == \"Custom\":\n",
    "                    table_customentries.add_row([match[\"source\"], domain, match[\"category\"], match[\"type\"], match[\"enriched\"]])\n",
    "    else:\n",
    "        print(attribute_misp)\n",
    "        print(\"Attribute \\033[91mnot added\\033[90m\\n\")"
   ]
  },
  {
   "cell_type": "markdown",
   "id": "b7985ff3-fdb6-46b8-825e-554c55d3e218",
   "metadata": {},
   "source": [
    "## ER:5 Review the current MISP event graph\n",
    "\n",
    "The MISP event graph allows you to get a visualisation of the relationships between different objects and attributes. At this stage of the investigation it can already be useful to have a look at the current graph. It should contain the relations for the **domain** objects, the **URL** objects received from URLscan but also the **DNS**, **abuse information** and **custom** enrichment information.\n",
    "\n",
    "You can access the event graph by logging in to MISP, viewing the details of the newly created event and then using the **Event graph** tab. While you are reviewing the event graph it can also be useful to have a look at the **correlation** graph."
   ]
  },
  {
   "cell_type": "markdown",
   "id": "8feb85d5-d202-41f1-922b-0f36d982e6be",
   "metadata": {
    "tags": []
   },
   "source": [
    "![helpers/playbook-query_domain_reputation_eventgraph.png](helpers/playbook-query_domain_reputation_eventgraph.png)\n",
    "\n",
    "![helpers/playbook-query_domain_reputation_correlationgraph.png](helpers/playbook-query_domain_reputation_correlationgraph.png)"
   ]
  },
  {
   "cell_type": "markdown",
   "id": "03d862f0-2462-49fe-b83d-f5f96bae907a",
   "metadata": {},
   "source": [
    "## ER:6 Enrich with information from VirusTotal\n",
    "\n",
    "If the **VirusTotal** module is enabled in MISP modules you can now query VirusTotal. \n",
    "\n",
    "By default the playbook will query VirusTotal for results related to the original domains you specified as input in the first section of the playbook. But you can extend this list via `virustotal_include_enrichment`. Be aware that some attributes (such as IPs) can create a lot of additional attributes when the domain points to a shared hosting facility.\n",
    "\n",
    "You can also ignore results that are returned by VirusTotal with `virustotal_skip_enrichment_result`.\n",
    "\n",
    "And finally you can also indicate if you want to keep the to_ids value set by the VirusTotal module or always set it to False (`virustotal_to_ids`). The latter is advised. If you set `virustotal_to_ids` to True, then the playbook keeps the value returned by the VirusTotal module."
   ]
  },
  {
   "cell_type": "code",
   "execution_count": null,
   "id": "159f7a41-8e51-4cb3-9701-1fbd141cd81f",
   "metadata": {
    "tags": []
   },
   "outputs": [],
   "source": [
    "# In addition to the domains, query VirusTotal for the below enrichment values\n",
    "# Beware of IPs pointing to hosting facilities\n",
    "#virustotal_include_enrichment = []\n",
    "virustotal_include_enrichment = [\"ip-dst\"]\n",
    "#virustotal_include_enrichment = [\"ip-dst\", \"url\", \"domain\", \"whois-registrant-email\"]\n",
    "\n",
    "# Do not include related URLs returned by VirusTotal. For some domains this can result a large result set\n",
    "virustotal_result_skip_enrichment_result = [\"url\", \"domain\"]\n",
    "\n",
    "# to_ids: False: always set to False ; True: keep what's returned by the MISP module\n",
    "virustotal_to_ids = False"
   ]
  },
  {
   "cell_type": "code",
   "execution_count": null,
   "id": "51e58415-82b2-4144-ae97-2cb74705991b",
   "metadata": {
    "tags": []
   },
   "outputs": [],
   "source": [
    "# Code block to query VirusTotal\n",
    "vt_query = []\n",
    "for domain in query_domain:\n",
    "    if re.match(r\"{}\".format(regular_expressions[\"hostname\"]), domain):\n",
    "        vt_query.append(domain)\n",
    "\n",
    "for domain in playbook_results:\n",
    "    for element in playbook_results[domain]:\n",
    "        if element.get(\"type\", False) in virustotal_include_enrichment and len(element[\"enriched\"]) > 0 and element[\"enriched\"] not in vt_query:\n",
    "            vt_query.append(element[\"enriched\"])\n",
    "\n",
    "# Code block to query VirusTotal\n",
    "module_name = \"virustotal_public\"\n",
    "module_source = \"VirusTotal\"\n",
    "if misp_modules[module_name][\"enabled\"]:\n",
    "    for value in vt_query:\n",
    "        module_comment = \"From {} for {}\".format(module_source, value)\n",
    "        for expr in regular_expressions:\n",
    "            if re.match(r\"{}\".format(regular_expressions[expr]), value):\n",
    "                attribute_type = expr\n",
    "                break\n",
    "\n",
    "        if attribute_type in misp_modules[module_name][\"input\"]:\n",
    "            data = {\n",
    "                \"attribute\": {\n",
    "                    \"type\": f\"{attribute_type}\",\n",
    "                    \"uuid\": str(uuid.uuid4()),\n",
    "                    \"value\": f\"{value}\",\n",
    "                },\n",
    "                \"module\": module_name,\n",
    "                \"config\": {\"apikey\": virustotal_apikey}\n",
    "            }\n",
    "            print(\"Query \\033[92m{}\\033[90m as \\033[92m{}\\033[90m\".format(value, attribute_type))\n",
    "            result = requests.post(\"{}/query\".format(misp_modules_url), headers=misp_modules_headers, json=data)\n",
    "            if \"results\" in result.json() and len(result.json()[\"results\"]) > 0:\n",
    "                result_json = result.json()[\"results\"]\n",
    "                for misp_attribute in result_json.get(\"Attribute\", []):\n",
    "                    if misp_attribute[\"type\"] in virustotal_result_skip_enrichment_result:\n",
    "                        print(\" Skip {} \\033[96m{}\\033[90m\".format(misp_attribute[\"type\"], misp_attribute[\"value\"]))\n",
    "                        continue\n",
    "                    else:\n",
    "                        del misp_attribute[\"uuid\"]\n",
    "                        misp_attribute[\"comment\"] = \"{}{}\".format(module_comment, misp_attribute.get(\"comment\", \"\"))\n",
    "                        if misp_attribute[\"to_ids\"] == True and not virustotal_to_ids:\n",
    "                            misp_attribute[\"to_ids\"] = False\n",
    "                        try:\n",
    "                            created_attribute = misp.add_attribute(misp_event.uuid, misp_attribute, pythonify=True)\n",
    "                            if not \"errors\" in created_attribute:\n",
    "                                if value in case_objects:\n",
    "                                    misp.add_object_reference(case_objects[value].add_reference(created_attribute.uuid, \"related-to\"))\n",
    "                                print(\" Got {} \\033[92m{}\\033[90m\".format(misp_attribute[\"type\"], misp_attribute[\"value\"]))\n",
    "                                entry = {\"source\": module_source, \"category\": misp_attribute[\"category\"], \"type\": misp_attribute[\"type\"], \"enriched\": misp_attribute[\"value\"]}\n",
    "                                playbook_results = pb_add_enrichment(playbook_results, value, entry, \"enriched\", misp_attribute[\"value\"])\n",
    "                        except:\n",
    "                            print(\" Unable to add {} \\033[92m{}\\033[90m to MISP event\".format(misp_attribute[\"type\"], misp_attribute[\"value\"]))\n",
    "\n",
    "                for misp_object in result_json.get(\"Object\", []):\n",
    "                    if misp_object[\"name\"] in virustotal_result_skip_enrichment_result:\n",
    "                        print(\" Skip {}\".format(misp_object[\"name\"]))\n",
    "                        continue\n",
    "                    else:\n",
    "                        del misp_object[\"uuid\"]\n",
    "                        misp_object[\"comment\"] = \"{}{}\".format(module_comment, misp_object.get(\"comment\", \"\"))\n",
    "                        new_attribute_list = []\n",
    "                        for attribute in misp_object.get(\"Attribute\", []):\n",
    "                            if attribute[\"type\"] in virustotal_result_skip_enrichment_result:\n",
    "                                print(\" Skip {} \\033[96m{}\\033[90m\".format(attribute[\"type\"], attribute[\"value\"]))\n",
    "                            else:\n",
    "                                if attribute[\"to_ids\"] == True and not virustotal_to_ids:\n",
    "                                    attribute[\"to_ids\"] = False\n",
    "                                attribute[\"comment\"] = module_comment\n",
    "                                new_attribute_list.append(attribute)\n",
    "                        misp_object[\"Attribute\"] = new_attribute_list\n",
    "                        if len(misp_object[\"Attribute\"]) > 0:\n",
    "                            created_object = misp.add_object(misp_event.uuid, misp_object, pythonify=True)\n",
    "                            if not \"errors\" in created_object:\n",
    "                                if value in case_objects:\n",
    "                                    misp.add_object_reference(case_objects[value].add_reference(created_object.uuid, \"related-to\"))\n",
    "                                if misp_object[\"name\"] == \"whois\":\n",
    "                                    whois_attributes = misp_object.get(\"Attribute\", [])\n",
    "                                    for whois_attribute in whois_attributes:\n",
    "                                        print(\" Got whois data for \\033[92m{}\\033[90m \".format(domain))\n",
    "                                        entry = {\"source\": module_source, \"category\": \"Other\", \"type\": \"whois\", \"enriched\": whois_attribute[\"value\"]}\n",
    "                                        playbook_results = pb_add_enrichment(playbook_results, value, entry, \"enriched\", whois_attribute[\"value\"])\n",
    "                                else:\n",
    "                                    if misp_object[\"name\"] == \"domain-ip\":\n",
    "                                        for attribute in misp_object.get(\"Attribute\",[]):\n",
    "                                            if attribute[\"type\"] == \"ip-dst\":\n",
    "                                                if attribute[\"value\"] not in case_objects:\n",
    "                                                    case_objects[attribute[\"value\"]] = created_object\n",
    "                                    for misp_attribute in misp_object[\"Attribute\"]:\n",
    "                                        print(\" Got {} \\033[92m{}\\033[90m as part of object {}\".format(misp_attribute[\"type\"], misp_attribute[\"value\"], misp_object[\"name\"]))\n",
    "                                        entry = {\"source\": module_source, \"category\": misp_attribute[\"category\"], \"type\": misp_attribute[\"type\"], \"enriched\": misp_attribute[\"value\"]}\n",
    "                                        playbook_results = pb_add_enrichment(playbook_results, value, entry, \"enriched\", misp_attribute[\"value\"])\n",
    "\n",
    "            print(\"Sleeping for {} seconds\".format(misp_modules_wait))\n",
    "            time.sleep(misp_modules_wait)\n",
    "        else:\n",
    "            print(\"Skipping \\033[91m{}\\033[90m. Not a valid query type ({}).\".format(value, misp_modules[module_name][\"input\"]))\n",
    "\n",
    "print(\"Finished VirusTotal enrichment.\\n\\n\")"
   ]
  },
  {
   "cell_type": "markdown",
   "id": "4c5c6b14-e6de-469a-8988-1f5b1e9ed3d2",
   "metadata": {},
   "source": [
    "### VirusTotal enrichment table\n",
    "\n",
    "The results are now stored in `playbook_results`. Execute the next cell to display them in a table format. The table is also included in the summary sent to Mattermost and TheHive.\n",
    "\n",
    "This table returns only those matches corresponding with the source **VirusTotal**."
   ]
  },
  {
   "cell_type": "code",
   "execution_count": null,
   "id": "4b6cd04e-7361-4c24-9305-7c34a1b909c1",
   "metadata": {
    "tags": []
   },
   "outputs": [],
   "source": [
    "# Put the correlations in a pretty table. We can use this table later also for the summary\n",
    "table = PrettyTable()\n",
    "table.field_names = [\"Source\", \"Value\", \"Category\", \"Type\", \"Enriched\"]\n",
    "table.align[\"Value\"] = \"l\"\n",
    "table.align[\"Category\"] = \"l\"\n",
    "table.align[\"Type\"] = \"l\"\n",
    "table.align[\"Enriched\"] = \"l\"\n",
    "table._max_width = {\"Enriched\": 50}\n",
    "for domain in playbook_results:\n",
    "    for match in playbook_results[domain]:\n",
    "        if match[\"source\"] == \"VirusTotal\":\n",
    "            table.add_row([match[\"source\"], domain, match[\"category\"], match[\"type\"], match[\"enriched\"]])\n",
    "print(table.get_string(sortby=\"Value\"))\n",
    "table_virustotal = table"
   ]
  },
  {
   "cell_type": "markdown",
   "id": "b9b6b0f4-d99d-4db1-8bee-944466c6cfaf",
   "metadata": {},
   "source": [
    "## ER:7 Enrich with information from Shodan\n",
    "\n",
    "If the **Shodan** module is enabled in MISP modules you can now query Shodan. \n",
    "\n",
    "By default the playbook will query Shodan for results related to the original domains you specified as input in the first section of the playbook. But you can extend this list via `shodan_include_enrichment`. Be aware that some attributes (such as IPs) can create a lot of additional attributes when the domain points to a shared hosting facility.\n",
    "\n",
    "You can also ignore additional results returned by Shodan with `shodan_result_skip_category_type`. This variable is a Python list containing a combination of MISP category and type (format: `category/type`) that you do not want to include the summary and event.\n",
    "\n",
    "And finally you can also indicate if you want to keep the to_ids value set by the Shodan module or always set it to False (`shodan_to_ids`). The latter is advised. If you set `shodan_to_ids` to True, then the playbook keeps the value returned by the Shodan module."
   ]
  },
  {
   "cell_type": "code",
   "execution_count": null,
   "id": "d7d900c5-f167-47ee-981e-5faf3d1a71bd",
   "metadata": {
    "tags": []
   },
   "outputs": [],
   "source": [
    "# In addition to the domains, query Shodan for the below enrichment values\n",
    "# Beware of IPs pointing to hosting facilities. Note that the MISP Shodan module only accepts IPs as input\n",
    "shodan_include_enrichment = [\"ip-dst\"]\n",
    "#shodan_include_enrichment = []\n",
    "\n",
    "# Do not include category_type of the below returned by Shodan. For some domains this can result a large result set\n",
    "shodan_result_skip_category_type = [\"Other/text\", \"Other/float\", \"Other/datetime\", \"Network activity/port\", \"External analysis/link\"]\n",
    "\n",
    "# to_ids: False: always set to False ; True: keep what's returned by the MISP module\n",
    "shodan_to_ids = False"
   ]
  },
  {
   "cell_type": "code",
   "execution_count": null,
   "id": "c6819a95-3f4a-4911-ab1f-442ddfcff900",
   "metadata": {
    "tags": []
   },
   "outputs": [],
   "source": [
    "# Code block to query Shodan\n",
    "shodan_query = []\n",
    "for domain in query_domain:\n",
    "    if re.match(r\"{}\".format(regular_expressions[\"hostname\"]), domain):\n",
    "        shodan_query.append(domain)\n",
    "\n",
    "for domain in playbook_results:\n",
    "    for element in playbook_results[domain]:\n",
    "        if element.get(\"type\", False) in shodan_include_enrichment and len(element[\"enriched\"]) > 0 and element[\"enriched\"] not in shodan_query:\n",
    "            shodan_query.append(element[\"enriched\"])\n",
    "\n",
    "# Code block to query Shodan\n",
    "module_name = \"shodan\"\n",
    "module_source = \"Shodan\"\n",
    "if misp_modules[module_name][\"enabled\"]:\n",
    "    for value in shodan_query:\n",
    "        module_comment = \"From {} for {}\".format(module_source, value)\n",
    "        attribute_type = False\n",
    "        for expr in regular_expressions:\n",
    "            if re.match(r\"{}\".format(regular_expressions[expr]), value):\n",
    "                attribute_type = expr\n",
    "                break\n",
    "\n",
    "        if attribute_type in misp_modules[module_name][\"input\"]:\n",
    "            data = {\n",
    "                \"attribute\": {\n",
    "                    \"type\": f\"{attribute_type}\",\n",
    "                    \"uuid\": str(uuid.uuid4()),\n",
    "                    \"value\": f\"{value}\",\n",
    "                },\n",
    "                \"module\": module_name,\n",
    "                \"config\": {\"apikey\": shodan_apikey}\n",
    "            }\n",
    "            print(\"Query \\033[92m{}\\033[90m as \\033[92m{}\\033[90m\".format(value, attribute_type))\n",
    "            result = requests.post(\"{}/query\".format(misp_modules_url), headers=misp_modules_headers, json=data)\n",
    "            #pprint(result.json())\n",
    "            if \"results\" in result.json() and len(result.json()[\"results\"]) > 0:\n",
    "                result_json = result.json()[\"results\"]\n",
    "                for misp_object in result_json[\"Object\"]:\n",
    "                    misp_object[\"comment\"] = \"{}{}\".format(module_comment, misp_object.get(\"comment\", \"\"))\n",
    "                    new_attribute_list = []\n",
    "                    for misp_attribute in misp_object.get(\"Attribute\", []):\n",
    "                        category_type = \"{}/{}\".format(misp_attribute[\"category\"], misp_attribute[\"type\"])\n",
    "                        if category_type not in shodan_result_skip_category_type:\n",
    "                            if misp_attribute[\"to_ids\"] == True and not shodan_to_ids:\n",
    "                                misp_attribute[\"to_ids\"] = False\n",
    "                            entry = {\"source\": module_source, \"category\": misp_attribute[\"category\"], \"type\": misp_attribute[\"type\"], \"enriched\": misp_attribute[\"value\"]}\n",
    "                            playbook_results = pb_add_enrichment(playbook_results, value, entry, \"enriched\", misp_attribute[\"value\"])\n",
    "                            misp_attribute[\"comment\"] = module_comment\n",
    "                            new_attribute_list.append(misp_attribute)\n",
    "                            print(\" Got {} {} as part of object {}\".format(misp_attribute[\"type\"], misp_attribute[\"value\"], misp_object[\"name\"]))\n",
    "                    misp_object[\"Attribute\"] = new_attribute_list\n",
    "                    if len(misp_object[\"Attribute\"]) > 0:\n",
    "                        created_object = misp.add_object(misp_event.uuid, misp_object, pythonify=True)\n",
    "                        if not \"errors\" in created_object:\n",
    "                            if value in case_objects:\n",
    "                                misp.add_object_reference(case_objects[value].add_reference(created_object.uuid, \"related-to\"))\n",
    "            print(\"Sleeping for {} seconds\".format(misp_modules_wait))\n",
    "            time.sleep(misp_modules_wait)\n",
    "        else:\n",
    "            print(\"Skipping \\033[91m{}\\033[90m. Not a valid query type ({}).\".format(value, misp_modules[module_name][\"input\"]))\n",
    "\n",
    "print(\"Finished Shodan enrichment.\\n\\n\")"
   ]
  },
  {
   "cell_type": "markdown",
   "id": "9159c241-8dc3-4d59-912e-7bab805d1fd1",
   "metadata": {},
   "source": [
    "### Shodan enrichment table\n",
    "\n",
    "The results are now stored in `playbook_results`. Execute the next cell to display them in a table format. The table is also included in the summary sent to Mattermost and TheHive.\n",
    "\n",
    "This table returns only those matches corresponding with the source **Shodan**."
   ]
  },
  {
   "cell_type": "code",
   "execution_count": null,
   "id": "4bfa6be2-082d-4728-a9f2-f959d8d5fe28",
   "metadata": {
    "tags": []
   },
   "outputs": [],
   "source": [
    "# Put the correlations in a pretty table. We can use this table later also for the summary\n",
    "table = PrettyTable()\n",
    "table.field_names = [\"Source\", \"Value\", \"Category\", \"Type\", \"Enriched\"]\n",
    "table.align[\"Value\"] = \"l\"\n",
    "table.align[\"Category\"] = \"l\"\n",
    "table.align[\"Type\"] = \"l\"\n",
    "table.align[\"Enriched\"] = \"l\"\n",
    "table._max_width = {\"Enriched\": 50}\n",
    "for domain in playbook_results:\n",
    "    for match in playbook_results[domain]:\n",
    "        if match[\"source\"] == \"Shodan\":\n",
    "            table.add_row([match[\"source\"], domain, match[\"category\"], match[\"type\"], match[\"enriched\"]])\n",
    "print(table.get_string(sortby=\"Value\"))\n",
    "table_shodan = table"
   ]
  },
  {
   "cell_type": "markdown",
   "id": "2273cff7-ce1b-4404-8112-702edb8eee95",
   "metadata": {},
   "source": [
    "## ER:8 Enrich with information from URLhaus\n",
    "\n",
    "If the **URLhaus** module is enabled in MISP modules you can now query URLhaus. \n",
    "\n",
    "By default the playbook will query URLhaus for results related to the original domains you specified as input in the first section of the playbook. But you can extend this list via `urlhaus_include_enrichment`. Be aware that some attributes (such as IPs) can create a lot of additional attributes when the domain points to a shared hosting facility.\n",
    "\n",
    "You can also ignore additional results returned by URLhaus with `urlhaus_result_skip_category_type`. This variable is a Python list containing a combination of MISP category and type (format: `category/type`) that you do not want to include the summary and event.\n",
    "\n",
    "And finally you can also indicate if you want to keep the to_ids value set by the URLhaus module or always set it to False (`urlhaus_to_ids`). The latter is advised. If you set `urlhaus_to_ids` to True, then the playbook keeps the value returned by the URLhaus module."
   ]
  },
  {
   "cell_type": "code",
   "execution_count": null,
   "id": "17c9ad03-7f7a-4596-9b8f-726dfd013ec5",
   "metadata": {
    "tags": []
   },
   "outputs": [],
   "source": [
    "# In addition to the domains, query URLhaus for the below enrichment values\n",
    "# Beware of IPs pointing to hosting facilities.\n",
    "#urlhaus_include_enrichment = []\n",
    "urlhaus_include_enrichment = [\"ip-src\", \"domain\", \"md5\", \"sha256\"]\n",
    "\n",
    "# Do not include category_type of the below returned by URLhaus. For some domains this can result a large result set\n",
    "urlhaus_result_skip_category_type = [\"Other/text\", \"Other/float\", \"Other/datetime\", \"Network activity/port\", \"External analysis/link\"]\n",
    "\n",
    "# to_ids: False: always set to False ; True: keep what's returned by the MISP module\n",
    "urlhaus_to_ids = False"
   ]
  },
  {
   "cell_type": "code",
   "execution_count": null,
   "id": "5c054ed8-bddd-4b4f-9068-f8a94e696b4b",
   "metadata": {
    "tags": []
   },
   "outputs": [],
   "source": [
    "# Code block to query URLhaus\n",
    "urlhaus_query = []\n",
    "for domain in query_domain:\n",
    "    if re.match(r\"{}\".format(regular_expressions[\"hostname\"]), domain):\n",
    "        urlhaus_query.append(domain)\n",
    "for domain in playbook_results:\n",
    "    for element in playbook_results[domain]:\n",
    "        if element.get(\"type\", False) in urlhaus_include_enrichment and len(element[\"enriched\"]) > 0 and element[\"enriched\"] not in urlhaus_query:\n",
    "            urlhaus_query.append(element[\"enriched\"])\n",
    "\n",
    "# Code block to query URLHaus\n",
    "module_name = \"urlhaus\"\n",
    "module_source = \"URLhaus\"\n",
    "if misp_modules[module_name][\"enabled\"] and len(urlhaus_query) > 0:\n",
    "    for value in urlhaus_query:\n",
    "        module_comment = \"From {} for {}\".format(module_source, value)\n",
    "        attribute_type = False\n",
    "        for expr in regular_expressions:\n",
    "            if re.match(r\"{}\".format(regular_expressions[expr]), value):\n",
    "                attribute_type = expr\n",
    "                break\n",
    "\n",
    "        if attribute_type in misp_modules[module_name][\"input\"]:\n",
    "            data = {\n",
    "                \"attribute\": {\n",
    "                    \"type\": f\"{attribute_type}\",\n",
    "                    \"uuid\": str(uuid.uuid4()),\n",
    "                    \"value\": f\"{value}\",\n",
    "                },\n",
    "                \"module\": module_name,\n",
    "            }\n",
    "            print(\"Query \\033[92m{}\\033[90m as \\033[92m{}\\033[90m\".format(value, attribute_type))\n",
    "            result = requests.post(\"{}/query\".format(misp_modules_url), headers=misp_modules_headers, json=data)\n",
    "            if \"results\" in result.json() and len(result.json()[\"results\"]) > 0:\n",
    "                result_json = result.json()[\"results\"]\n",
    "\n",
    "                for misp_attribute in result_json.get(\"Attribute\", []):\n",
    "                    del misp_attribute[\"uuid\"]\n",
    "                    misp_attribute[\"comment\"] = \"{}{}\".format(module_comment, misp_attribute.get(\"comment\", \"\"))\n",
    "                    if misp_attribute[\"to_ids\"] == True and not urlhaus_to_ids:\n",
    "                        misp_attribute[\"to_ids\"] = False\n",
    "                    try:\n",
    "                        created_attribute = misp.add_attribute(misp_event.uuid, misp_attribute, pythonify=True)\n",
    "                        if not \"errors\" in created_attribute:\n",
    "                            if value in case_objects:\n",
    "                                misp.add_object_reference(case_objects[value].add_reference(created_attribute.uuid, \"related-to\"))\n",
    "                            print(\" Got {} {}\".format(misp_attribute[\"type\"], misp_attribute[\"value\"]))\n",
    "                            entry = {\"source\": module_source, \"category\": misp_attribute[\"category\"], \"type\": misp_attribute[\"type\"], \"enriched\": misp_attribute[\"value\"]}\n",
    "                            playbook_results = pb_add_enrichment(playbook_results, value, entry, \"enriched\", misp_attribute[\"value\"])\n",
    "                    except:\n",
    "                        print(\" Unable to add {} {} to MISP event\".format(misp_attribute[\"type\"], misp_attribute[\"value\"]))\n",
    "\n",
    "                for misp_object in result_json.get(\"Object\", []):\n",
    "                    del misp_object[\"uuid\"]\n",
    "                    misp_object[\"comment\"] = \"{}{}\".format(module_comment, misp_object.get(\"comment\", \"\"))\n",
    "                    new_attribute_list = []\n",
    "                    for attribute in misp_object.get(\"Attribute\", []):\n",
    "                        attribute[\"comment\"] = module_comment\n",
    "                        if attribute[\"to_ids\"] == True and not urlhaus_to_ids:\n",
    "                            attribute[\"to_ids\"] = False\n",
    "                        new_attribute_list.append(attribute)\n",
    "                    misp_object[\"Attribute\"] = new_attribute_list\n",
    "                    created_object = misp.add_object(misp_event.uuid, misp_object, pythonify=True)\n",
    "                    if not \"errors\" in created_object:\n",
    "                        if value in case_objects:\n",
    "                            misp.add_object_reference(case_objects[value].add_reference(created_object.uuid, \"related-to\"))\n",
    "\n",
    "            print(\"Sleeping for {} seconds\".format(misp_modules_wait))\n",
    "            time.sleep(misp_modules_wait)\n",
    "        else:\n",
    "            print(\"Skipping \\033[91m{}\\033[90m. Not a valid query type ({}).\".format(value, misp_modules[module_name][\"input\"]))\n",
    "\n",
    "print(\"Finished URLhaus enrichment.\\n\\n\")"
   ]
  },
  {
   "cell_type": "markdown",
   "id": "490201ed-24ce-43de-bee7-8250e1317bab",
   "metadata": {},
   "source": [
    "### URLhaus enrichment table\n",
    "\n",
    "The results are now stored in `playbook_results`. Execute the next cell to display them in a table format. The table is also included in the summary sent to Mattermost and TheHive.\n",
    "\n",
    "This table returns only those matches corresponding with the source **URLhaus**."
   ]
  },
  {
   "cell_type": "code",
   "execution_count": null,
   "id": "afcba94f-e8d5-43e1-b605-1b0fecec6204",
   "metadata": {
    "tags": []
   },
   "outputs": [],
   "source": [
    "# Put the correlations in a pretty table. We can use this table later also for the summary\n",
    "table = PrettyTable()\n",
    "table.field_names = [\"Source\", \"Value\", \"Category\", \"Type\", \"Enriched\"]\n",
    "table.align[\"Value\"] = \"l\"\n",
    "table.align[\"Category\"] = \"l\"\n",
    "table.align[\"Type\"] = \"l\"\n",
    "table.align[\"Enriched\"] = \"l\"\n",
    "table._max_width = {\"Enriched\": 50}\n",
    "for domain in playbook_results:\n",
    "    for match in playbook_results[domain]:\n",
    "        if match[\"source\"] == \"URLhaus\":\n",
    "            table.add_row([match[\"source\"], domain, match[\"category\"], match[\"type\"], match[\"enriched\"]])\n",
    "print(table.get_string(sortby=\"Value\"))\n",
    "table_urlhaus = table"
   ]
  },
  {
   "cell_type": "markdown",
   "id": "2dff54e6-ec30-4a47-a021-9ed4e617f58b",
   "metadata": {},
   "source": [
    "## ER:9 Add screenshots from URLscan to playbook\n",
    "\n",
    "This section displays the screenshots retrieved earlier from URLscan. \n",
    "\n",
    "You can use the screenshots for a visual verification of the URLs without the need to visit them in a sandbox. All these screenshots are also **added to the MISP event** and link to the URL objects.\n",
    "\n",
    "If you want to skip this step then don't execute the next cell. Not executing the cell has no negative impact on the progress of the playbook."
   ]
  },
  {
   "cell_type": "code",
   "execution_count": null,
   "id": "81b20fdf-6a80-4f2b-879d-b88c6b37e3d4",
   "metadata": {
    "tags": []
   },
   "outputs": [],
   "source": [
    "# Store the displayed results in a list. If you want to print them later you can just use this list\n",
    "displayed = []\n",
    "for domain in playbook_results:\n",
    "    for match in playbook_results[domain]:\n",
    "        if match[\"source\"] == \"URLscan.io\": \n",
    "            if \"screenshot_name\" in match:\n",
    "                if match[\"screenshot\"] not in displayed:\n",
    "                    print(\"{} for {} at {}\".format(match[\"screenshot_url\"], domain, match.get(\"screenshot_time\", \"Unknown\")))\n",
    "                    display(Image(base64.b64decode(match[\"screenshot\"]), width=240))\n",
    "                    displayed.append(match[\"screenshot\"])\n",
    "                    print(\"\\n\")"
   ]
  },
  {
   "cell_type": "markdown",
   "id": "3d7ed3f2-f912-43e1-8959-f4d875759799",
   "metadata": {},
   "source": [
    "## ER:10 Review and export final MISP event graph\n",
    "\n",
    "Once the object relations have been added you can also display them on a graph, similar as we did in an earlier cell. Head over again to MISP and use the **Event graph** tab. This allows you to visually represent the objects, attributes and relations. Did you know you can also export these graphs to JSON, JPEG, PNG or the dot format? Under the **Export** button you can choose to export type. It's also possible to save the graph so that when you re-visit the event you can immediately have access to the lay of the objects you picked earlier. \n",
    "\n",
    "### Access the graph via the API\n",
    "\n",
    "Additionally, it's also possible to access these \"saved\" event graphs via the **API**. If you have a graph, you can access them via `/event_graph/viewPicture/<mispevent_id>/<misp_eventgraph_id>`.\n",
    "\n",
    "First, **save a graph** in the MISP interface under Event graph and then execute the next cell. Don't worry if you don't want to save the graph right away, the playbook will catch the error and continue without it."
   ]
  },
  {
   "cell_type": "code",
   "execution_count": null,
   "id": "a47771b3-f4f2-4e58-9c8f-2a9c4327c7bb",
   "metadata": {
    "tags": []
   },
   "outputs": [],
   "source": [
    "# Start with the first MISP Event graph\n",
    "misp_eventgraph_id = 10\n",
    "\n",
    "# We use the requests library and need to set the headers\n",
    "misp_headers = {\"Authorization\": misp_key,  \"Content-Type\": \"application/json\", \"Accept\": \"application/json\"}\n",
    "event_graph = requests.get(\"{}/event_graph/viewPicture/{}/{}\".format(misp_url, misp_event.id, misp_eventgraph_id), headers=misp_headers, verify=misp_verifycert)\n",
    "if event_graph.status_code == 200:\n",
    "    display(Image(event_graph.content, width=480))\n",
    "else:\n",
    "    print(\"Event \\033[91mgraph not found\\033[90m. Continue with the playbook.\\n\\n\")"
   ]
  },
  {
   "cell_type": "markdown",
   "id": "70dea5ca",
   "metadata": {},
   "source": [
    "# Closure\n",
    "\n",
    "In this **closure** or end step we create a **summary** of the actions that were performed by the playbook. The summary is printed in the playbook and can also be send to a chat channel. "
   ]
  },
  {
   "cell_type": "markdown",
   "id": "bf86d67a-de23-4121-a26b-b8fb1c67c44e",
   "metadata": {},
   "source": [
    "## EN:1 MISP indicators\n",
    "\n",
    "The next section first **queries MISP for the indicators added to the MISP event** that is linked to the execution of this playbook.\n",
    "\n",
    "The indicators are stored in the variable `indicator_table` (table format) and `indicator_raw_list` (in raw format) which is used in a later section to create the playbook summary."
   ]
  },
  {
   "cell_type": "code",
   "execution_count": null,
   "id": "16d50d2c-078c-476f-acfc-bb536934f049",
   "metadata": {},
   "outputs": [],
   "source": [
    "# Get all the indicators for our event and store this is in a table. We can also use this for the summary.\n",
    "indicator_search = misp.search(\"attributes\", uuid=misp_event.uuid, to_ids=True, pythonify=True)\n",
    "indicator_raw_list = []\n",
    "indicator_table = PrettyTable()\n",
    "if len(indicator_search) > 0:\n",
    "    indicator_table.field_names = [\"Type\", \"Category\", \"Indicator\", \"Comment\"]\n",
    "    indicator_table.align[\"Type\"] = \"l\"\n",
    "    indicator_table.align[\"Category\"] = \"l\"\n",
    "    indicator_table.align[\"Indicator\"] = \"l\"\n",
    "    indicator_table.align[\"Comment\"] = \"l\"\n",
    "    indicator_table.border = True\n",
    "    for indicator in indicator_search:\n",
    "        if indicator.value not in indicator_raw_list:\n",
    "            indicator_table.add_row([indicator.type, indicator.category, indicator.value, indicator.comment])\n",
    "            indicator_raw_list.append(indicator.value)\n",
    "    print(\"Got \\033[92m{}\\033[90m indicator(s) from the event \\033[92m{}\\033[90m ({}).\\n\\n\".format(len(indicator_raw_list), misp_event.info, misp_event.id))\n",
    "else:\n",
    "    print(\"\\033[93mNo indicators found in the event \\033[92m{}\\033[90m ({})\".format(misp_event.info, misp_event.id))\n"
   ]
  },
  {
   "cell_type": "markdown",
   "id": "d26d1c3b-dec4-4191-92fe-4c130e3f9686",
   "metadata": {},
   "source": [
    "### Raw list of MISP indicators\n",
    "\n",
    "The indicators are now stored in `indicator_search` (as Python objects) and `indicator_raw_list` (in raw format, only the indicators). Execute the next cell to display them in a table format. The table is also included in the summary sent to Mattermost and TheHive."
   ]
  },
  {
   "cell_type": "code",
   "execution_count": null,
   "id": "72cd3e2a-afad-4b9c-9f3a-9dbe9e8e135d",
   "metadata": {
    "tags": []
   },
   "outputs": [],
   "source": [
    "if len(indicator_raw_list) > 0:\n",
    "    print(indicator_table.get_string(sortby=\"Type\"))\n",
    "    print(\"\\n\\nIndicator list in raw format:\")\n",
    "    print(\"---------------------------------------------------\")\n",
    "    for el in indicator_raw_list:\n",
    "        print(\"{}\".format(el))\n",
    "    print(\"---------------------------------------------------\")"
   ]
  },
  {
   "cell_type": "markdown",
   "id": "b82e2327-1e11-4efb-8869-ccbcc896bfcc",
   "metadata": {},
   "source": [
    "## EN:2 Create the summary of the playbook\n",
    "\n",
    "The next section creates a summary and stores the output in the variable `summary` in Markdown format. It also stores an intro text in the variable `intro`. These variables are later used when sending information to Mattermost or TheHive."
   ]
  },
  {
   "cell_type": "code",
   "execution_count": null,
   "id": "ad25bb9f-aa60-4621-b1a4-153444cea7c5",
   "metadata": {
    "tags": []
   },
   "outputs": [],
   "source": [
    "summary = \"## MISP Playbook summary\\nQuery domain reputation with MISP event: **{}** ({}/events/view/{}). \".format(misp_event.info, misp_url, misp_event.id)\n",
    "\n",
    "summary_domains = \"\"\n",
    "for domain in query_domain:\n",
    "    summary_domains = \"{}{} \".format(summary_domains, domain)\n",
    "summary += \"This concerned the investigation of domains **{}**\\n\\n\".format(summary_domains)\n",
    "intro = summary\n",
    "\n",
    "summary += \"### Indicators\\n\\n\"\n",
    "summary += \"#### Indicators table\\n\\n\"\n",
    "if len(indicator_raw_list) > 0:\n",
    "    indicator_table.set_style(MARKDOWN)\n",
    "    summary += indicator_table.get_string(sortby=\"Type\")\n",
    "    summary += \"\\n\\n\\n\" \n",
    "    summary += \"#### Indicators in **raw format**\\n\\n\"\n",
    "    for indicator in indicator_raw_list:\n",
    "        summary += \"{}\\n\\n\".format(indicator)\n",
    "    summary += \"\\n\" \n",
    "else:\n",
    "    summary += \"There are no indicators\"\n",
    "summary += \"\\n\\n\"\n",
    "\n",
    "summary += \"### Correlations\\n\\n\"\n",
    "summary += \"#### MISP event matches\\n\\n\"\n",
    "table_mispevents.set_style(MARKDOWN)\n",
    "summary += table_mispevents.get_string()\n",
    "summary += \"\\n\\n\"\n",
    "\n",
    "summary += \"#### MISP feed matches\\n\\n\"\n",
    "table_mispfeeds.set_style(MARKDOWN)\n",
    "summary += table_mispfeeds.get_string()\n",
    "summary += \"\\n\\n\"\n",
    "\n",
    "summary += \"### Enrichment\\n\\n\"\n",
    "summary += \"#### URLscan\\n\\n\"\n",
    "table_urlscan.set_style(MARKDOWN)\n",
    "summary += table_urlscan.get_string()\n",
    "summary += \"\\n\\n\"\n",
    "\n",
    "summary_second = \"## MISP Playbook summary\\nQuery domain reputation with MISP event: **{}** ({}/events/view/{}) (continuation). \".format(misp_event.info, misp_url, misp_event.id)\n",
    "# Some tables are optional, if previous cells are skipped\n",
    "if table_dns:\n",
    "    summary += \"#### DNS\\n\\n\"\n",
    "    table_dns.set_style(MARKDOWN)\n",
    "    summary += table_dns.get_string()\n",
    "    summary += \"\\n\\n\"\n",
    "    \n",
    "if table_abuse:\n",
    "    summary += \"#### Abuse information\\n\\n\"\n",
    "    table_abuse.set_style(MARKDOWN)\n",
    "    summary += table_abuse.get_string()\n",
    "    summary += \"\\n\\n\"    \n",
    "    \n",
    "if table_customentries:\n",
    "    summary += \"#### Custom enrichment information\\n\\n\"\n",
    "    table_customentries.set_style(MARKDOWN)\n",
    "    summary += table_customentries.get_string()\n",
    "    summary += \"\\n\\n\" \n",
    "    \n",
    "if table_virustotal:\n",
    "    summary += \"#### VirusTotal\\n\\n\"\n",
    "    table_virustotal.set_style(MARKDOWN)\n",
    "    summary += table_virustotal.get_string()\n",
    "    summary += \"\\n\\n\"\n",
    "\n",
    "if table_shodan:\n",
    "    summary += \"#### Shodan\\n\\n\"\n",
    "    table_shodan.set_style(MARKDOWN)\n",
    "    summary += table_shodan.get_string()\n",
    "    summary += \"\\n\\n\"\n",
    "\n",
    "if table_urlhaus:\n",
    "    summary += \"#### URLhaus\\n\\n\"\n",
    "    table_urlhaus.set_style(MARKDOWN)\n",
    "    summary += table_urlhaus.get_string()\n",
    "    summary += \"\\n\\n\"\n",
    "\n",
    "summary += \"### Screenshots via URLscan\\n\\n\"\n",
    "summary_urls = []\n",
    "for domain in playbook_results:\n",
    "    for match in playbook_results[domain]:\n",
    "        if match[\"source\"] == \"URLscan.io\": \n",
    "            if \"screenshot_name\" in match:\n",
    "                summary_urls.append({\"image_url\": match[\"screenshot_urlscan\"]})\n",
    "                summary += \"- {}\\n\".format(match[\"screenshot_urlscan\"])\n",
    "summary += \"\\n\\n\"\n",
    "\n",
    "print(\"The \\033[92msummary\\033[90m of the playbook is available.\\n\")"
   ]
  },
  {
   "cell_type": "markdown",
   "id": "d603257f-0cbe-47c8-876f-9bbe52216c0d",
   "metadata": {},
   "source": [
    "#### Print the summary"
   ]
  },
  {
   "cell_type": "code",
   "execution_count": null,
   "id": "12691048-4122-4ba3-aab0-203226137e3b",
   "metadata": {
    "tags": []
   },
   "outputs": [],
   "source": [
    "display_markdown(summary, raw=True)"
   ]
  },
  {
   "cell_type": "markdown",
   "id": "eba96062-deaa-4fb9-8302-7b3ef829201e",
   "metadata": {},
   "source": [
    "## EN:3 Send a summary to Mattermost\n",
    "\n",
    "Now you can send the summary to Mattermost. You can send the summary in two ways by selecting one of the options for the variable `send_to_mattermost_option` in the next cell.\n",
    "\n",
    "- The default option where the entire summary is in the **chat**, or\n",
    "- a short intro and the summary in a **card**\n",
    "\n",
    "For this playbook we rely on a webhook in Mattermost. You can add a webhook by choosing the gear icon in Mattermost, then choose Integrations and then **Incoming Webhooks**. Set a channel for the webhook and lock the webhook to this channel with *\"Lock to this channel\"*."
   ]
  },
  {
   "cell_type": "code",
   "execution_count": null,
   "id": "8c455bc3-35cc-436d-8237-95c81b57208f",
   "metadata": {
    "tags": []
   },
   "outputs": [],
   "source": [
    "send_to_mattermost_option = \"via a chat message\"\n",
    "#send_to_mattermost_option = \"via a chat message with card\""
   ]
  },
  {
   "cell_type": "code",
   "execution_count": null,
   "id": "ed2f2cdd-4eea-4125-8e52-8addc47bba5b",
   "metadata": {
    "tags": []
   },
   "outputs": [],
   "source": [
    "# Set a bit below maximum size for message length https://docs.mattermost.com/upgrade/important-upgrade-notes.html\n",
    "mattermost_max_length = 16300\n",
    "\n",
    "message = False\n",
    "lines = textwrap.wrap(summary, mattermost_max_length,  fix_sentence_endings=True, replace_whitespace=False)\n",
    "line_count = 0\n",
    "for line in lines:\n",
    "    if send_to_mattermost_option == \"via a chat message\":\n",
    "        message = {\"username\": mattermost_playbook_user, \"text\": line}\n",
    "    elif send_to_mattermost_option == \"via a chat message with card\":\n",
    "        message = {\"username\": mattermost_playbook_user, \"text\": intro, \"props\": {\"card\": line}}\n",
    "    if message:\n",
    "        r = requests.post(mattermost_hook, data=json.dumps(message))\n",
    "        r.raise_for_status()\n",
    "    if message and r.status_code == 200:\n",
    "        print(\"Summary {} of {} is \\033[92msent to Mattermost\\033[90m.\".format(line_count, len(lines) - 1))\n",
    "        line_count += 1\n",
    "    else:\n",
    "        print(\"\\033[91mFailed to sent summary\\033[90m to Mattermost.\\n\")\n",
    "\n",
    "if len(summary_urls) > 0:        \n",
    "    message = {\"username\": mattermost_playbook_user, \"text\": \"Screenshots\", \"attachments\": summary_urls}\n",
    "    if message:\n",
    "        r = requests.post(mattermost_hook, data=json.dumps(message))\n",
    "        r.raise_for_status()\n",
    "    if message and r.status_code == 200:\n",
    "        print(\"Screenshots are \\033[92msent to Mattermost\\033[90m.\\n\")\n",
    "    else:\n",
    "        print(\"\\033[91mFailed to sent screenshots \\033[90m to Mattermost.\\n\")    "
   ]
  },
  {
   "cell_type": "markdown",
   "id": "943d1682-7553-4cbd-a353-d5b3b65880cf",
   "metadata": {},
   "source": [
    "![helpers/playbook-query_domain_reputation_mattermost.png](helpers/playbook-query_domain_reputation_mattermost.png)"
   ]
  },
  {
   "cell_type": "markdown",
   "id": "f9c0f780-d8df-4f9b-9a11-230eb3e4f42d",
   "metadata": {},
   "source": [
    "## EN:4 Send an alert to TheHive\n",
    "\n",
    "Next to informing your colleagues via Mattermost you can also send an **alert** to TheHive. The alert contains the summary, and a list of indicators as 'observables'.\n",
    "\n",
    "You can change the alert title with `thehive_alert_title` and provide a reference type with `thehive_alert_reference`. Note that this reference needs to be **unique** in TheHive. If you want to create multiple alerts for the same MISP event then add some random value at the end."
   ]
  },
  {
   "cell_type": "code",
   "execution_count": null,
   "id": "87edbdbf-e6b0-47b7-b70a-4ddb4af67e55",
   "metadata": {
    "tags": []
   },
   "outputs": [],
   "source": [
    "# The title of the TheHive alert\n",
    "thehive_alert_title = \"MISP Playbook Summary\"\n",
    "\n",
    "# A unique reference for the TheHive (we include the MISP event UUID)\n",
    "thehive_alert_reference = \"MISP event - {} - {}\".format(misp_event.info, misp_event.uuid)\n",
    "\n",
    "# Alert type in TheHive\n",
    "thehive_alert_type = \"MISP Playbook alert\"\n",
    "\n",
    "# TLP:Amber for TheHive\n",
    "thehive_tlp = 2\n",
    "\n",
    "# PAP:GREEN for TheHive\n",
    "thehive_pap = 1"
   ]
  },
  {
   "cell_type": "code",
   "execution_count": null,
   "id": "0da33569-cd50-414a-ad0b-70bcdb69174d",
   "metadata": {
    "tags": []
   },
   "outputs": [],
   "source": [
    "# Code block to send an alert to TheHive\n",
    "# We use the Python requests library\n",
    "thehive_headers = {'Content-Type': 'application/json', 'Authorization': f'Bearer {thehive_key}'}\n",
    "thehive_url_create = \"{}/api/v1/alert\".format(thehive_url)\n",
    "\n",
    "thehive_observables = []\n",
    "for indicator in indicator_search:\n",
    "    dataType = False\n",
    "    if indicator.type == \"ip-src\" or indicator.type == \"ip-dst\":\n",
    "        dataType = \"ip\"\n",
    "    elif indicator.type == \"url\":\n",
    "        dataType = \"url\"\n",
    "    elif indicator.type == \"hostname\":\n",
    "        dataType = \"hostname\"        \n",
    "    elif indicator.type == \"email-dst\" or indicator.type == \"email-src\":        \n",
    "        dataType = \"mail\"\n",
    "    if dataType:\n",
    "        thehive_observables.append({\"dataType\": dataType, \"data\": indicator.value, \"pap\": thehive_pap, \"tlp\": thehive_tlp})\n",
    "thehive_alert = {\"title\": thehive_alert_title, \n",
    "                 \"description\": intro,\n",
    "                 \"summary\": summary[0:1048576],\n",
    "                 \"type\": thehive_alert_type, \n",
    "                 \"source\": \"playbook\", \n",
    "                 \"sourceRef\": thehive_alert_reference, \n",
    "                 \"tlp\": thehive_tlp, \"pap\": thehive_pap,\n",
    "                 \"observables\": thehive_observables}\n",
    "\n",
    "result = requests.post(thehive_url_create, headers=thehive_headers, data=json.dumps(thehive_alert))\n",
    "if result.json()['status'] == 'New':\n",
    "    thehive_alert_id = result.json()['_id']\n",
    "    print('The TheHive \\033[92malert {} is added'.format(thehive_alert_id))\n",
    "else:\n",
    "    print('\\033[91mFailed\\033[90m to add TheHive alert')\n",
    "    print(result.text)"
   ]
  },
  {
   "cell_type": "markdown",
   "id": "25ab00ac-4df9-4d89-85fb-a70099165813",
   "metadata": {},
   "source": [
    "![helpers/playbook-query_domain_reputation_thehive.png](helpers/playbook-query_domain_reputation_thehive.png)"
   ]
  },
  {
   "cell_type": "markdown",
   "id": "bf1ff03b-6e70-42c4-9fa6-1c0699787fc3",
   "metadata": {},
   "source": [
    "## EN:5 Publish MISP event \n",
    "\n",
    "As a final step, you can choose the **publish** the MISP event. \n",
    "\n",
    "### Remaining workflow todo's\n",
    "\n",
    "This step will remove the **workflow** states incomplete, add a workflow state complete and then publish the event.\n",
    "\n",
    "The playbook will also remove the workflow **todo** tags. If you have not addressed them yet then now might be a good time to do that before publishing the event.\n",
    "\n",
    "### Publish\n",
    "\n",
    "Publishing MISP events makes the event available to your users and, depending on the synchronisation and distribution rules, will also sync it with other connected MISP servers. Publishing an event also typically makes the indicators available for your security controls to import them in their ruleset."
   ]
  },
  {
   "cell_type": "code",
   "execution_count": null,
   "id": "dea3cae4-482e-4457-a5fd-7a68dde60acb",
   "metadata": {
    "tags": []
   },
   "outputs": [],
   "source": [
    "try:\n",
    "    misp.untag(misp_event.uuid, \"workflow:state=\\\"incomplete\\\"\")\n",
    "    misp.untag(misp_event.uuid, \"workflow:todo=\\\"review-for-privacy\\\"\")    \n",
    "    misp.untag(misp_event.uuid, \"workflow:todo=\\\"review-for-false-positive\\\"\")        \n",
    "    misp.tag(misp_event.uuid, \"workflow:state=\\\"complete\\\"\", local=True)\n",
    "    print(\"Removed workflow todo tags and removed incomplete tag. Added complete tag.\")\n",
    "    misp.publish(misp_event.uuid)\n",
    "    print(\"Event {} ({} - {}) is \\033[92mpublished.\\n\".format(misp_event.info, misp_event.id, misp_event.uuid))\n",
    "except:\n",
    "    print(\"\\033[91mFailed to publish\\033[90m event {} ({} - {}).\\n\".format(misp_event.info, misp_event.id, misp_event.uuid))"
   ]
  },
  {
   "cell_type": "markdown",
   "id": "498b8eff-7d1b-47b7-90c4-e13cc738b36c",
   "metadata": {},
   "source": [
    "## EN:6 End of the playbook "
   ]
  },
  {
   "cell_type": "code",
   "execution_count": null,
   "id": "4c03bb30",
   "metadata": {},
   "outputs": [],
   "source": [
    "print(\"\\033[92m End of the playbook\")\n"
   ]
  },
  {
   "cell_type": "markdown",
   "id": "b17af9f2",
   "metadata": {},
   "source": [
    "## External references <a name=\"extreferences\"></a>\n",
    "\n",
    "- [The MISP Project](https://www.misp-project.org/)\n",
    "- [Mattermost](https://mattermost.com/)\n",
    "- [TheHive](https://thehive-project.org/)\n",
    "\n",
    "- [OSINT domain name investigations](https://hackcontrol.org/OSINT/Domain_name.html)"
   ]
  },
  {
   "cell_type": "markdown",
   "id": "e1c813f6",
   "metadata": {},
   "source": [
    "## Technical details \n",
    "\n",
    "### Documentation\n",
    "\n",
    "This playbook requires these Python **libraries** to exist in the environment where the playbook is executed. You can install them with `pip install <library>`.\n",
    "\n",
    "```\n",
    "pyfaup\n",
    "chardet\n",
    "PrettyTable\n",
    "ipywidgets\n",
    "mattermostdriver\n",
    "```\n",
    "\n",
    "You need to have **network access** to \n",
    "- your MISP server (HTTP or HTTPS)\n",
    "- to your Mattermostand TheHive server\n",
    "- to the website of URLscan.io, VirusTotal, Shodan and URLhaus (HTTPS)\n",
    "\n",
    "These **MISP modules** need to be enabled\n",
    "- dns\n",
    "- virustotal_public\n",
    "- shodan\n",
    "- urlhaus\n",
    "\n",
    "You need\n",
    "- an **API key with MISP**\n",
    "- - Under Global Actions, My Profile. Add an extra authentication key.\n",
    "- - Add the API key (`misp_key`) and the MISP URL (`misp_url`) to `keys.py`\n",
    "- - If you use a self-signed certificate set `misp_verifycert` to False\n",
    "- an **API key with URLscan.io**\n",
    "- - Click on your username (upper right corner), select Settings & API and Create a new API key.\n",
    "- - Add the API key (`urlscan_apikey`) to `keys.py`. Leave `urlscan_url` to `https://urlscan.io/api/v1/search`\n",
    "- an **API key with VirusTotal**\n",
    "- - Click on your username (upper right corner), select API key.\n",
    "- - Add the API key (`virustotal_apikey`) to `keys.py`.\n",
    "- an **API key with Shodan**\n",
    "- - Click on your Shodan (upper left corner), click on Account.\n",
    "- - Add the API key (`shodan_apikey`) to `keys.py`.\n",
    "- an **incoming webhook in your Mattermost server**\n",
    "- - Set this up under Integrations, Incoming Webhooks. Set as default channel your SOC/CSIRT team channel. For additional protection, lock the webhook so that the incoming webhook can post only to the selected channel.\n",
    "- - Add the webhook to `mattermost_hook`. It is displayed under 'integrations/incoming_webhooks' and set a username under `mattermost_playbook_user`\n",
    "- an **API key with your TheHive server**\n",
    "- - Click on your username (upper right corner), Settings and then API key\n",
    "- - Make sure that your user has 'manageAlert/create' privileges\n",
    "- - Add the API key (`thehive_key`) to `keys.py` and add the URL to TheHive (`thehive_url`)\n",
    "\n",
    "### Helper functions\n",
    "\n",
    "#### pb_get_misp_tags\n",
    "```\n",
    "def pb_get_misp_tags(tags=[], local_tags=[]):\n",
    "    '''\n",
    "    Get a list of MISP tags based on a Python list\n",
    "\n",
    "    :param misp: MISP object\n",
    "    :param object_template: which object template to return\n",
    "    '''\n",
    "```\n",
    "\n",
    "#### pb_add_enrichment\n",
    "```\n",
    "def pb_add_enrichment(playbook_results, field, entry, key, value):\n",
    "    '''\n",
    "    Add an enrichment (or correlation) entry but first check that the value is not already there\n",
    "    \n",
    "    : param playbook_results: all the enrichment results\n",
    "    : param field\n",
    "    : param entry\n",
    "    : param key\n",
    "    : param value\n",
    "    '''\n",
    "```\n",
    "\n",
    "### Colour codes\n",
    "\n",
    "The output from Python displays some text in different colours. These are the colour codes\n",
    "\n",
    "```\n",
    "Red = '\\033[91m'\n",
    "Green = '\\033[92m'\n",
    "Blue = '\\033[94m'\n",
    "Cyan = '\\033[96m'\n",
    "White = '\\033[97m'\n",
    "Yellow = '\\033[93m'\n",
    "Magenta = '\\033[95m'\n",
    "Grey = '\\033[90m'\n",
    "Black = '\\033[90m'\n",
    "Default = '\\033[99m'\n",
    "```"
   ]
  },
  {
   "cell_type": "code",
   "execution_count": null,
   "id": "14dce812-e432-4c18-8358-f8b66e5b94a5",
   "metadata": {},
   "outputs": [],
   "source": []
  }
 ],
 "metadata": {
  "celltoolbar": "Attachments",
  "kernelspec": {
   "display_name": "Python 3 (ipykernel)",
   "language": "python",
   "name": "python3"
  },
  "language_info": {
   "codemirror_mode": {
    "name": "ipython",
    "version": 3
   },
   "file_extension": ".py",
   "mimetype": "text/x-python",
   "name": "python",
   "nbconvert_exporter": "python",
   "pygments_lexer": "ipython3",
   "version": "3.8.10"
  },
  "toc-showcode": false,
  "toc-showmarkdowntxt": false
 },
 "nbformat": 4,
 "nbformat_minor": 5
}
