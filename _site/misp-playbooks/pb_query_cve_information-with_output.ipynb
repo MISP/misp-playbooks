{
 "cells": [
  {
   "cell_type": "markdown",
   "id": "ca1fbfb5",
   "metadata": {
    "tags": [
     "playbook-introduction"
    ]
   },
   "source": [
    "# Query CVE information\n",
    "\n",
    "## Introduction\n",
    "\n",
    "- UUID: **efda7766-78f6-4444-8072-beac92eaae97**\n",
    "- Started from [issue 25](https://github.com/MISP/misp-playbooks/issues/25)\n",
    "- State: **Published** : demo version with **output**\n",
    "- Purpose:\n",
    "    - This playbook queries the MISP events for the use of specific CVEs. It lists the events with the context (galaxies) that are attached to the event. \n",
    "    - The playbook queries public sources (CVE search, vulners, XForceExchange, exploitdb) for additional CVE information. \n",
    "    - The results are stored in the playbook, in a MISP event and sent to Mattermost and TheHive.\n",
    "- Tags: [ \"cve\", \"vulnerability\", \"exploits\" ]    \n",
    "- External resources: **cvesearch**, **vulners**, **XForceExchange**, **exploitdb**, **Mattermost, TheHive**\n",
    "- Target audience: **SOC, CSIRT, CTI**\n",
    "- Graphical workflow\n",
    "\n",
    "![helpers/playbook-query_cve_information.png](helpers/playbook-query_cve_information.png)"
   ]
  },
  {
   "cell_type": "markdown",
   "id": "a512a2c1",
   "metadata": {
    "jp-MarkdownHeadingCollapsed": true,
    "tags": []
   },
   "source": [
    "# Playbook TOC\n",
    "\n",
    "- **Query CVE information**\n",
    "   - Introduction\n",
    "- **Preparation**\n",
    "   - PR:1 Initialise environment\n",
    "   - PR:2 Verify MISP modules\n",
    "   - PR:3 Load helper functions\n",
    "   - PR:4 Set helper variables\n",
    "   - PR:5 User input: CVE to investigate?\n",
    "   - PR:6 MISP event details\n",
    "   - PR:7 Create MISP event\n",
    "- **Investigate**\n",
    "   - IN:1 Attribute details\n",
    "   - IN:2 Add the CVE to the event\n",
    "   - IN:3 Query CVE advanced module\n",
    "   - IN:4 Query vulners module\n",
    "   - IN:5 Query IBM XForceExchange module\n",
    "   - IN:6 Query ExploitDB\n",
    "   - IN:7 Other queries\n",
    "- **Correlation**\n",
    "   - CR:1 Correlation with MISP events\n",
    "   - CR:2 Correlation with MISP feeds\n",
    "- **Closure**\n",
    "   - EN:1 Create the summary of the CVE information\n",
    "   - EN:2 Create the summary of the playbook\n",
    "   - EN:3 Send a summary to Mattermost\n",
    "   - EN:4 Send an alert to TheHive\n",
    "   - EN:5 Publish MISP event\n",
    "   - EN:6 End of the playbook\n",
    "   - External references\n",
    "   - Technical details"
   ]
  },
  {
   "cell_type": "markdown",
   "id": "8dc24913",
   "metadata": {
    "tags": []
   },
   "source": [
    "# Preparation\n",
    "\n",
    "## PR:1 Initialise environment\n",
    "\n",
    "This section **initialises the playbook environment** and loads the required Python libraries. The credentials for MISP (**API key**) and other services are loaded from the file `keys.py` in the directory **vault**. A [PyMISP](https://github.com/MISP/PyMISP) object is created to interact with MISP and the active MISP server is displayed. By printing out the server name you know that it's possible to connect to MISP. In case of a problem PyMISP will indicate the error with `PyMISPError: Unable to connect to MISP`.\n",
    "\n",
    "The contents of the `keys.py` file should contain at least :\n",
    "\n",
    "```\n",
    "misp_url=\"<MISP URL>\"                  # The URL to our MISP server\n",
    "misp_key=\"<MISP API KEY>\"              # The MISP API key\n",
    "misp_verifycert=<True or False>        # Indicate if PyMISP should attempt to verify the certificate or ignore errors\n",
    "\n",
    "mattermost_playbook_user\n",
    "mattermost_hook\n",
    "thehive_url\n",
    "thehive_key\n",
    "vulners_apikey\n",
    "xforce_apikey\n",
    "xforce_apipassword\n",
    "```"
   ]
  },
  {
   "cell_type": "code",
   "execution_count": 1,
   "id": "5f94c336",
   "metadata": {
    "tags": []
   },
   "outputs": [
    {
     "name": "stderr",
     "output_type": "stream",
     "text": [
      "/tmp/ipykernel_618068/3451753110.py:9: DeprecationWarning: \n",
      "As our baseline system is the latest Ubuntu LTS, and Ubuntu LTS 22.04 has Python 3.10 available,\n",
      "we will officially deprecate python versions below 3.10 on January 1st 2024.\n",
      "**Please update your codebase.**\n",
      "  from pymisp import *\n",
      "The version of PyMISP recommended by the MISP instance (2.4.172) is newer than the one you're using now (2.4.168.1). Please upgrade PyMISP.\n"
     ]
    },
    {
     "name": "stdout",
     "output_type": "stream",
     "text": [
      "The \u001b[92mPython libraries\u001b[90m are loaded and the \u001b[92mcredentials\u001b[90m are read from the keys file.\n",
      "I will use the MISP server \u001b[92mhttps://misp.demo.cudeso.be/\u001b[90m for this playbook.\n",
      "\n",
      "\n"
     ]
    }
   ],
   "source": [
    "# Initialise Python environment\n",
    "import urllib3\n",
    "import sys\n",
    "import json\n",
    "from prettytable import PrettyTable, MARKDOWN\n",
    "from datetime import date\n",
    "import requests\n",
    "import uuid\n",
    "from pymisp import *\n",
    "import time\n",
    "import csv\n",
    "import codecs\n",
    "from contextlib import closing\n",
    "from IPython.display import display, Image, Markdown, display_markdown\n",
    "\n",
    "# Load the credentials\n",
    "sys.path.insert(0, \"../vault/\")\n",
    "from keys import *\n",
    "if misp_verifycert is False:\n",
    "    import urllib3\n",
    "    urllib3.disable_warnings(urllib3.exceptions.InsecureRequestWarning)\n",
    "print(\"The \\033[92mPython libraries\\033[90m are loaded and the \\033[92mcredentials\\033[90m are read from the keys file.\")\n",
    "\n",
    "# Create the PyMISP object\n",
    "misp = PyMISP(misp_url, misp_key, misp_verifycert)\n",
    "print(\"I will use the MISP server \\033[92m{}\\033[90m for this playbook.\\n\\n\".format(misp_url))"
   ]
  },
  {
   "cell_type": "markdown",
   "id": "a40e2299-7803-4a6b-b893-5ebf7a274f8b",
   "metadata": {},
   "source": [
    "## PR:2 Verify MISP modules\n",
    "\n",
    "This playbook uses the MISP modules for correlation or enrichment. [MISP modules](https://github.com/MISP/misp-modules) are autonomous modules that can be used to extend MISP for new services such as expansion, import and export. The modules are written in Python 3. We first check if we have access to the **MISP module** server and if we find the modules. \n",
    "\n",
    "Note that for this playbook these modules do not need to be enabled in MISP. The playbook can use the MISP modules, even if they are not enabled for MISP."
   ]
  },
  {
   "cell_type": "code",
   "execution_count": 2,
   "id": "607ab417-9cbb-4e8e-8d5a-60a314388bc0",
   "metadata": {
    "tags": []
   },
   "outputs": [
    {
     "name": "stdout",
     "output_type": "stream",
     "text": [
      "Found the \u001b[92mcve_advanced\u001b[90m MISP module\n",
      " Accepted input: ['vulnerability'].\n",
      "Found the \u001b[92mxforceexchange\u001b[90m MISP module\n",
      " Accepted input: ['ip-src', 'ip-dst', 'vulnerability', 'md5', 'sha1', 'sha256', 'domain', 'hostname', 'url'].\n",
      "Found the \u001b[92mvulners\u001b[90m MISP module\n",
      " Accepted input: ['vulnerability'].\n",
      "\n",
      "\n",
      "\n"
     ]
    }
   ],
   "source": [
    "# Modules used in this playbook\n",
    "misp_modules_in_use = [\"cve_advanced\", \"vulners\", \"xforceexchange\"]\n",
    "\n",
    "# Where can we find the local MISP Module server? You can leave this to the default setting in most cases.\n",
    "misp_modules_url = \"http://127.0.0.1:6666\"\n",
    "\n",
    "# How long do we wait between queries when using the MISP modules (API rate limiting of external service such as VirusTotal)\n",
    "misp_modules_wait = 3\n",
    "\n",
    "# Initiliasation\n",
    "misp_modules = {}\n",
    "misp_modules_headers = {\n",
    "    \"Content-Type\": \"application/json\",\n",
    "    \"Accept\": \"application/json\"\n",
    "}\n",
    "\n",
    "# Query the MISP module server and check if our modules are available\n",
    "res = requests.get(\"{}/modules\".format(misp_modules_url), headers=misp_modules_headers)\n",
    "for module in res.json():\n",
    "    for module_requested in misp_modules_in_use:\n",
    "        if module.get(\"name\", False) == module_requested:\n",
    "            misp_modules[module_requested] = {\"enabled\": True, \"input\": module.get(\"mispattributes\").get(\"input\")}\n",
    "            print(\"Found the \\033[92m{}\\033[90m MISP module\\n Accepted input: {}.\".format(module_requested, misp_modules[module_requested][\"input\"]))\n",
    "print(\"\\n\\n\")"
   ]
  },
  {
   "cell_type": "markdown",
   "id": "2d86805b-1a98-437b-b041-75dbf67e83c7",
   "metadata": {},
   "source": [
    "## PR:3 Load helper functions\n",
    "\n",
    "The next cell contains **helper functions**. Instead of distributing helper functions as separate Python files this playbook includes the required code as one code cell. This makes portability of playbooks easier. The downside is that functions need to be defined again in other playbooks, which is not optimal for code re-use. For this iteration it is chosen to include the code in the playbook (more portability), but you can easily create a \"helper\" file with the code and import that file in each playbook."
   ]
  },
  {
   "cell_type": "code",
   "execution_count": 3,
   "id": "6e74ac11-de81-4dcb-a4c1-419cf6b57053",
   "metadata": {
    "tags": [
     "hide-input",
     "hide_input",
     "hide_code"
    ]
   },
   "outputs": [
    {
     "name": "stdout",
     "output_type": "stream",
     "text": [
      "\u001b[92mHelper functions loaded\u001b[90m.\n",
      "\n",
      "\n"
     ]
    }
   ],
   "source": [
    "def pb_get_misp_tags(tags=[], local_tags=[]):\n",
    "    '''\n",
    "    Get a list of MISP tags based on a Python list\n",
    "\n",
    "    :param misp: MISP object\n",
    "    :param object_template: which object template to return\n",
    "    '''\n",
    "    misp_tags = []\n",
    "    for el in tags:\n",
    "        t = MISPTag()\n",
    "        t.name = el\n",
    "        t.local = False\n",
    "        misp_tags.append(t)\n",
    "\n",
    "    for el in local_tags:\n",
    "        t = MISPTag()\n",
    "        t.name = el\n",
    "        t.local = True\n",
    "        misp_tags.append(t)\n",
    "    return misp_tags\n",
    "\n",
    "\n",
    "def pb_add_enrichment(playbook_results, field, entry, key, value):\n",
    "    '''\n",
    "    Add an enrichment (or correlation) entry but first check that the value is not already there\n",
    "\n",
    "    : param playbook_results: all the enrichment results\n",
    "    : param field\n",
    "    : param entry\n",
    "    : param key\n",
    "    : param value\n",
    "    '''\n",
    "    skip_field = False\n",
    "    for existing_entry in playbook_results.get(field, []):\n",
    "        if existing_entry.get(key, False) == value:\n",
    "            skip_field = True\n",
    "            print(\" Not adding to playbook results because of duplicate. Already added via {}\".format(existing_entry.get(\"source\", False)))\n",
    "    if not skip_field:\n",
    "        if field in playbook_results:\n",
    "            playbook_results[field].append(entry)\n",
    "        else:\n",
    "            playbook_results[field] = [entry]\n",
    "    return playbook_results\n",
    "\n",
    "\n",
    "def pb_analyse_tags(tags, tags_to_analyse, tags_to_skip):\n",
    "    '''\n",
    "    Analyse a list of MISP tags. Remove unwanted tags and put other tags (fe. MITRE) in buckets\n",
    "\n",
    "    : param tags\n",
    "    : param tags_to_analyse\n",
    "    : param tags_to_skip\n",
    "    '''\n",
    "    tags_to_return = []\n",
    "    tags_analysed = {}\n",
    "    \n",
    "    for tag in event.tags:\n",
    "        skip_tag = False\n",
    "        for skip in tags_to_skip:\n",
    "            if skip in tag.name:\n",
    "                skip_tag = True\n",
    "        if not skip_tag:\n",
    "            tags_to_return.append(tag.name)\n",
    "            for el in tags_to_analyse:\n",
    "                if tags_to_analyse[el] in tag.name.strip():\n",
    "                    match = tag.name.strip().split(tags_to_analyse[el])[1].replace(\"\\\"\", \"\").strip()\n",
    "                    if len(tags_analysed.get(el, [])) > 0:\n",
    "                        tags_analysed[el].append(match)\n",
    "                    else:\n",
    "                        tags_analysed[el] = [match]\n",
    "    return tags_to_return, tags_analysed\n",
    "\n",
    "\n",
    "print(\"\\033[92mHelper functions loaded\\033[90m.\\n\\n\".format(misp_url))"
   ]
  },
  {
   "cell_type": "markdown",
   "id": "6b0fe9f4-23b1-4eec-bc61-8bc965ffc619",
   "metadata": {},
   "source": [
    "## PR:4 Set helper variables\n",
    "\n",
    "This cell contains **helper variables** for this playbook."
   ]
  },
  {
   "cell_type": "code",
   "execution_count": 4,
   "id": "41745c8b-73d3-4e19-908b-3ab8107bc609",
   "metadata": {
    "tags": []
   },
   "outputs": [],
   "source": [
    "# Dictionary to playbook results and some of the core objects that are created\n",
    "playbook_results = {}\n",
    "case_objects = {}\n",
    "\n",
    "# Init variables\n",
    "table_mispevents = \"\"\n",
    "table_mispevents_tools_malware_malpedia = \"\"\n",
    "table_mispevents_sector_country = \"\"\n",
    "table_exploitdb = \"\"\n",
    "summary = \"\"\n",
    "summary_cve = {}"
   ]
  },
  {
   "cell_type": "markdown",
   "id": "918ad3c3-1ca9-4c73-974f-354127c95a29",
   "metadata": {},
   "source": [
    "## PR:5 User input: CVE to investigate?\n",
    "\n",
    "This cell is the primary <strong><font color=red>user input</font></strong> for this playbook.\n",
    "Define the list of **CVE** to investigate with this playbook. \n",
    "\n",
    "The variable `query` can contain one CVE or a list of CVE."
   ]
  },
  {
   "cell_type": "code",
   "execution_count": 5,
   "id": "1afbb102-7892-4b65-8ca7-a26c4bc318af",
   "metadata": {
    "tags": []
   },
   "outputs": [
    {
     "name": "stdout",
     "output_type": "stream",
     "text": [
      "The playbook will do the query for \u001b[92m['CVE-2021-44228', 'CVE-2022-41082']\u001b[90m\n",
      "\n"
     ]
    }
   ],
   "source": [
    "# Provide one or more CVE\n",
    "query = [\"CVE-2021-44228\", \"CVE-2022-41082\"]\n",
    "\n",
    "# Simple function to always make a list, even if there is only one value. Makes it more consistent to work with the user input in the next cells.\n",
    "if type(query) == str:\n",
    "    query =[query]\n",
    "print(\"The playbook will do the query for \\033[92m{}\\033[90m\\n\".format(query))"
   ]
  },
  {
   "cell_type": "markdown",
   "id": "1657c96a-6064-4833-8b17-d368f8125856",
   "metadata": {
    "tags": []
   },
   "source": [
    "## PR:6 MISP event details\n",
    "\n",
    "### Event title\n",
    "\n",
    "In this playbook we create a **new** MISP event with title **CVE investigation for CVE-XXXX** (defined in `event_title`). Tt is good practice to choose a self-explanatory **event title**. This title is shown in the event index and should provide the necessary information to understand what the event is about. Avoid using generic event titles such as \"phishing incident\" or \"infection\". Read [Best Practices in Threat Intelligence](https://www.misp-project.org/best-practices-in-threat-intelligence.html) for further guidance.\n",
    "\n",
    "### Contexualisation\n",
    "\n",
    "This playbook adds contexualisation via **tags** defined in `event_additional_global_tags` and `event_additional_local_tags`. Whereas *global* tags remain attached to the events that you share with your community, the *local* tags are not shared outside your organisation. It's also a good idea to only use tags part of a [taxonomy](https://github.com/MISP/misp-taxonomies), this allows you to make the contexualisation portable across multiple MISP instances.\n",
    "\n",
    "### Traffic Light Protocol\n",
    "\n",
    "The default **TLP** for this event is **<span style='color:#FFBF00'>tlp:amber</span>**. The Traffic Light Protocol (TLP) facilitates sharing of potentially sensitive information and allows for more effective collaboration. TLP is a set of four standard labels to indicate the sharing boundaries to be applied by the recipients. TLP is set by the creator of information. You can find more information at [FIRST](https://www.first.org/tlp/). You can specify the TLP via `event_tlp`.\n",
    "\n",
    "### MISP Galaxies\n",
    "\n",
    "This playbook adds MISP galaxies with the variable `event_galaxies`. In this playbook we add relevant techniques from MITRE and classifications from [ENISA](https://www.enisa.europa.eu/publications/reference-incident-classification-taxonomy).\n",
    "\n",
    "### MISP distribution, threat level and analysis level\n",
    "\n",
    "You can specifiy a MISP **distribution** (with `event_distribution`), **threat level** (with `event_threat_level_id`) or **analysis state** (with `event_analysis`). The event **date** is set to today via `event_date`. If you cannot remember the options for distribution, threat level or the analysis state then use the next cell to guide you. This cell is set as **raw**. If you **change its type to code** and execute the cell you get an overview of the options available for creating a MISP event.\n",
    "\n",
    "### Summary\n",
    "\n",
    "- `event_title`: event title\n",
    "- `event_tlp`: event TLP\n",
    "- `event_additional_global_tags`: event global tags\n",
    "- `event_additional_local_tags`: eventlocal tags\n",
    "- `event_galaxies`: galaxies\n",
    "- `event_distribution`: distribution\n",
    "- `event_threat_level_id`: threat level\n",
    "- `event_analysis`: analysis\n",
    "- `event_date`: date"
   ]
  },
  {
   "cell_type": "raw",
   "id": "fcae3c10-4c3f-44fa-aea0-52692136c49f",
   "metadata": {},
   "source": [
    "# This cell is 'raw' by default. Change it to 'code' to execute it.\n",
    "\n",
    "print(\"Distribution value\")\n",
    "for e in Distribution:\n",
    "    print(\" \", e.value, \"=\", e)\n",
    "print(\"\\n\")\n",
    "print(\"Threat level\")\n",
    "for e in ThreatLevel:\n",
    "    print(\" \", e.value, \"=\", e)\n",
    "print(\"\\n\")\n",
    "print(\"Analysis level\")\n",
    "for e in Analysis:\n",
    "    print(\" \", e.value, \"=\", e)"
   ]
  },
  {
   "cell_type": "code",
   "execution_count": 6,
   "id": "5abf9e28-85ce-4024-8013-188902f5ee92",
   "metadata": {
    "tags": []
   },
   "outputs": [],
   "source": [
    "# Provide the event title for a new event. Leave blank for the playbook to auto generate one\n",
    "event_title = \"\"\n",
    "\n",
    "# Prefix for auto generate event title\n",
    "event_title_default_prefix = \"CVE investigation\"\n",
    "\n",
    "# Optionally, you can change TLP, add additional event (local and global) tags, threatlevel, analysis state or distribution level\n",
    "event_tlp = \"tlp:amber\"\n",
    "\n",
    "# Event context\n",
    "event_additional_global_tags = []                                 # This needs to be a Python list\n",
    "event_additional_local_tags = [\"workflow:state=\\\"incomplete\\\"\"]   # This needs to be a Python list\n",
    "\n",
    "# Event galaxies\n",
    "event_galaxies = [\"misp-galaxy:rsit=\\\"Vulnerable:Vulnerable system\\\"\",\n",
    "                  \"misp-galaxy:mitre-attack-pattern=\\\"Active Scanning - T1595\\\"\",\n",
    "                  \"misp-galaxy:mitre-attack-pattern=\\\"Vulnerability Scanning - T1595.002\\\"\",\n",
    "                  \"misp-galaxy:mitre-attack-pattern=\\\"Vulnerabilities - T1588.006\\\"\"]\n",
    "\n",
    "# Additional MISP event settings\n",
    "event_threat_level_id = ThreatLevel.low\n",
    "event_analysis = Analysis.ongoing\n",
    "event_distribution = Distribution.your_organisation_only\n",
    "event_date = date.today()"
   ]
  },
  {
   "cell_type": "markdown",
   "id": "6807d6bd-397c-4501-a40d-0f29ae299c06",
   "metadata": {},
   "source": [
    "## PR:7 Create MISP event\n",
    "\n",
    "The next cell **creates the MISP event** and stores the reference to the event in the variable `misp_event`."
   ]
  },
  {
   "cell_type": "code",
   "execution_count": 7,
   "id": "c54e982e-e274-4a02-9009-a5c86774d5ca",
   "metadata": {
    "tags": []
   },
   "outputs": [
    {
     "name": "stdout",
     "output_type": "stream",
     "text": [
      "Continue the playbook with the new MISP event ID \u001b[92m3047\u001b[90m with title \u001b[92mCVE investigation for CVE-2021-44228 CVE-2022-41082\u001b[90m and UUID \u001b[92maca12dc5-58b8-44fe-92e7-0433b3c762e4\u001b[90m \n",
      " \u001b[92mAdded\u001b[90m event tag <MISPTag(name=tlp:amber)>\n",
      " \u001b[92mAdded\u001b[90m event tag <MISPTag(name=['misp-galaxy:rsit=\"Vulnerable:Vulnerable system\"', 'misp-galaxy:mitre-attack-pattern=\"Active Scanning - T1595\"', 'misp-galaxy:mitre-attack-pattern=\"Vulnerability Scanning - T1595.002\"', 'misp-galaxy:mitre-attack-pattern=\"Vulnerabilities - T1588.006\"'])>\n",
      " \u001b[92mAdded\u001b[90m event tag <MISPTag(name=workflow:state=\"incomplete\")>\n",
      "\n",
      "\n",
      "\n"
     ]
    }
   ],
   "source": [
    "# Code block to create the event or add data to an existing event\n",
    "event_title = event_title.strip()\n",
    "\n",
    "if not(event_title is str and len(event_title) > 0):\n",
    "    event_title = \"{} for {}\".format(event_title_default_prefix, ' '.join(query))\n",
    "\n",
    "# Construct the event tags\n",
    "event_additional_global_tags.append(event_tlp)\n",
    "event_additional_global_tags.append(event_galaxies)\n",
    "event_tags = pb_get_misp_tags(event_additional_global_tags, event_additional_local_tags)\n",
    "\n",
    "# Create the PyMISP object for an event\n",
    "event = MISPEvent()\n",
    "event.info = event_title\n",
    "event.distribution = event_distribution\n",
    "event.threat_level_id = event_threat_level_id\n",
    "event.analysis = event_analysis\n",
    "event.set_date(event_date)\n",
    "\n",
    "# Create the MISP event on the server side\n",
    "misp_event = misp.add_event(event, pythonify=True)\n",
    "print(\"Continue the playbook with the new MISP event ID \\033[92m{}\\033[90m with title \\033[92m{}\\033[90m and UUID \\033[92m{}\\033[90m \".format(misp_event.id, misp_event.info, misp_event.uuid))\n",
    "for tag in event_tags:\n",
    "    misp.tag(misp_event.uuid, tag, local=tag.local)\n",
    "    print(\" \\033[92mAdded\\033[90m event tag {}\".format(tag))\n",
    "print(\"\\n\\n\")"
   ]
  },
  {
   "cell_type": "markdown",
   "id": "2243ae8b-cb77-4835-a0cd-2738ee8c9bec",
   "metadata": {},
   "source": [
    "# Investigate\n",
    "\n",
    "This section of the playbook does the heavy lifting. It adds the CVE that are investigated and queries external sources for additional information.\n",
    "\n",
    "## IN:1 Attribute details\n",
    "\n",
    "You can set context details (tags) for the attributes via `attribute_tags`. With `attribute_type_to_tag` you specify which attribute type needs to be tagged.\n",
    "\n",
    "You can also specify with `attribute_to_skip` which attributes should not be imported. For example for vulnerabilities the list of external links or CPE references can substantially  blow up your threat event."
   ]
  },
  {
   "cell_type": "code",
   "execution_count": 8,
   "id": "de191a67-0984-4534-b8f4-ab161a58126f",
   "metadata": {
    "tags": []
   },
   "outputs": [],
   "source": [
    "# Which tags to add to attributes\n",
    "attribute_tags = pb_get_misp_tags([\"PAP:WHITE\", \"kill-chain:Exploitation\", \"cycat:type=\\\"vulnerability\\\"\"])\n",
    "\n",
    "# Which attribute to tag with attribute_tags\n",
    "attribute_type_to_tag = [\"vulnerability\", \"weakness\"]\n",
    "\n",
    "# Skip attributes of this type when received from external sources\n",
    "attribute_to_skip = [\"link\", \"cpe\"]\n",
    "#attribute_to_skip = []"
   ]
  },
  {
   "cell_type": "markdown",
   "id": "255e76f0-a447-4854-af8b-4ab6ef13d01f",
   "metadata": {},
   "source": [
    "## IN:2 Add the CVE to the event\n",
    "\n",
    "The next cell will add the CVE to investigate as individual MISP objects.\n",
    "\n",
    "## IN:3 Query CVE advanced module\n",
    "\n",
    "The MISP module [cve_advanced](https://cve.circl.lu/) is used to gather vulnerability, weaknesses and attack-pattern information. The objects are added to MISP, together with their references."
   ]
  },
  {
   "cell_type": "code",
   "execution_count": 9,
   "id": "57c55da8-4b67-4275-a1b6-57d43f967aca",
   "metadata": {
    "tags": []
   },
   "outputs": [
    {
     "name": "stdout",
     "output_type": "stream",
     "text": [
      "Query \u001b[92mCVE-2021-44228\u001b[90m\n",
      " Add object \u001b[92mvulnerability\u001b[90m bb980da2-1ff5-4d84-bb52-7d730a067812 to event.\n",
      " Add object \u001b[92mweakness\u001b[90m 0dbd71e8-dfd3-4b9c-9fc8-2f696c2b824e to event.\n",
      " Add object \u001b[92mattack-pattern\u001b[90m 10a36c93-3951-4612-900f-0bdbe9a1d53b to event.\n",
      " Tag attribute 31911748-64b4-41cd-a267-dd49597c5b31\n",
      " Tag attribute b2f664ba-9269-4595-a970-129717b9374f\n",
      " Tag attribute 7db5f362-2e16-409a-8664-79059787e56b\n",
      " Add related-to from bb980da2-1ff5-4d84-bb52-7d730a067812 to e60acc1d-0770-486e-bd02-8573c8d20903\n",
      " Add weakened-by from bb980da2-1ff5-4d84-bb52-7d730a067812 to 0dbd71e8-dfd3-4b9c-9fc8-2f696c2b824e\n",
      " Add targeted-by from bb980da2-1ff5-4d84-bb52-7d730a067812 to 10a36c93-3951-4612-900f-0bdbe9a1d53b\n",
      "\n",
      "\n",
      "Query \u001b[92mCVE-2022-41082\u001b[90m\n",
      " Add object \u001b[92mvulnerability\u001b[90m ed1ef5ce-6904-4680-b82c-45c2d2f0c98e to event.\n",
      " Tag attribute 17841c7b-37ef-4c83-a5b5-5ead739b64f4\n",
      " Add related-to from ed1ef5ce-6904-4680-b82c-45c2d2f0c98e to a132555d-0c1a-433c-abfc-83b659b4cf54\n",
      "\n",
      "\n",
      "Finished queries at cve_advanced\n",
      "Finished CVE investigations\n",
      "\n",
      "\n"
     ]
    }
   ],
   "source": [
    "module_name = \"cve_advanced\"\n",
    "module_source = module_name\n",
    "module_comment = \"From {}\".format(module_source)\n",
    "module_run = 0\n",
    "\n",
    "cve_to_add_manually = []\n",
    "\n",
    "if misp_modules[module_name][\"enabled\"] and len(query) > 0:\n",
    "    for value in query:\n",
    "        # Wait 'misp_modules_wait' before doing the next query (take into account rate limiting)\n",
    "        if module_run == 0:\n",
    "            module_run = 1\n",
    "        else:\n",
    "            module_run += 1\n",
    "            time.sleep(misp_modules_wait)\n",
    "        attribute_type = \"vulnerability\"\n",
    "        data = {\n",
    "            \"attribute\": {\n",
    "                \"type\": f\"{attribute_type}\",\n",
    "                \"uuid\": str(uuid.uuid4()),\n",
    "                \"value\": f\"{value}\",\n",
    "            },\n",
    "            \"module\": module_name,\n",
    "            \"config\": {}\n",
    "        }\n",
    "        print(\"Query \\033[92m{}\\033[90m\".format(value))\n",
    "        result = requests.post(\"{}/query\".format(misp_modules_url), headers=misp_modules_headers, json=data)\n",
    "        if \"results\" in result.json() and len(result.json()[\"results\"]) > 0:\n",
    "            result_json = result.json()[\"results\"]\n",
    "            for misp_attribute in result_json.get(\"Attribute\", []):\n",
    "                if misp_attribute[\"type\"] in attribute_to_skip:\n",
    "                    print(\" Skip {} \\033[96m{}\\033[90m\".format(misp_attribute[\"type\"], misp_attribute[\"value\"]))\n",
    "                    continue\n",
    "                else:\n",
    "                    misp_attribute[\"comment\"] = \"{}{}\".format(module_comment, misp_attribute.get(\"comment\", \"\"))\n",
    "                    try:\n",
    "                        created_attribute = misp.add_attribute(misp_event.uuid, misp_attribute, pythonify=True)\n",
    "                        if misp_attribute[\"type\"] in attribute_type_to_tag:\n",
    "                            for tag in attribute_tags:\n",
    "                                misp.tag(created_attribute, tag)\n",
    "                    except:\n",
    "                        print(\" Unable to add {} \\033[92m{}\\033[90m to MISP event\".format(misp_attribute[\"type\"], misp_attribute[\"value\"]))\n",
    "            misp_object_references = []\n",
    "            misp_attribute_in_object_to_tag = []\n",
    "            for misp_object in result_json.get(\"Object\", []):\n",
    "                if misp_object[\"name\"] in attribute_to_skip:\n",
    "                    print(\" Skip {}\".format(misp_object[\"name\"]))\n",
    "                    continue\n",
    "                else:\n",
    "                    misp_object[\"comment\"] = \"{}{}\".format(module_comment, misp_object.get(\"comment\", \"\"))\n",
    "                    new_attribute_list = []\n",
    "                    entry = {}\n",
    "                    for attribute in misp_object.get(\"Attribute\", []):\n",
    "                        if attribute[\"type\"] in attribute_to_skip:\n",
    "                            True\n",
    "                        else:\n",
    "                            entry[attribute[\"object_relation\"]] = attribute[\"value\"]\n",
    "                            attribute[\"comment\"] = module_comment\n",
    "                            if attribute[\"type\"] in attribute_type_to_tag:\n",
    "                                misp_attribute_in_object_to_tag.append(attribute[\"uuid\"])\n",
    "                            new_attribute_list.append(attribute)\n",
    "                    misp_object[\"Attribute\"] = new_attribute_list\n",
    "                    if len(misp_object[\"Attribute\"]) > 0:\n",
    "                        try:\n",
    "                            created_object = misp.add_object(misp_event.uuid, misp_object, pythonify=True)\n",
    "                            key = \"{}-{}\".format(misp_object[\"name\"], value)\n",
    "                            case_objects[key] = created_object\n",
    "                            print(\" Add object \\033[92m{}\\033[90m {} to event.\".format(misp_object[\"name\"], created_object.uuid))\n",
    "                        except:\n",
    "                            print(\" Unable to add \\033[92m{}\\033[90m to MISP event\".format(misp_object[\"name\"]))\n",
    "                    for reference in misp_object.get(\"ObjectReference\", []):\n",
    "                        misp_object_references.append(reference)\n",
    "                    entry[\"source\"] = module_name\n",
    "                    entry[\"enriched\"] = value\n",
    "                    entry[\"object\"] = misp_object[\"name\"]\n",
    "                    playbook_results = pb_add_enrichment(playbook_results, value, entry, \"object_uuid\", created_object.uuid)\n",
    "\n",
    "            for attribute in misp_attribute_in_object_to_tag:\n",
    "                for tag in attribute_tags:\n",
    "                    misp.tag(attribute, tag)\n",
    "                print(\" Tag attribute {}\".format(attribute))\n",
    "            for reference in misp_object_references:\n",
    "                object_uuid = reference[\"object_uuid\"]\n",
    "                referenced_uuid = reference[\"referenced_uuid\"]\n",
    "                relationship_type = reference[\"relationship_type\"]\n",
    "                myobject = misp.get_object(object_uuid, pythonify=True)\n",
    "                add_reference = misp.add_object_reference(myobject.add_reference(referenced_uuid, relationship_type))\n",
    "                if add_reference.get(\"errors\"):\n",
    "                    print(\" Unable to add \\033[92mreference {} for {} {}\\033[90m to MISP event\".format(relationship_type, object_uuid, referenced_uuid))\n",
    "                else:\n",
    "                    print(\" Add {} from {} to {}\".format(relationship_type, object_uuid, referenced_uuid))\n",
    "            print(\"\\n\")\n",
    "        else:\n",
    "            print(\" \\033[95mNon existing CVE {}\\033[90m according to {}\".format(value, module_name))\n",
    "            cve_to_add_manually.append(value)\n",
    "    print(\"Finished queries at {}\".format(module_name))\n",
    "else:\n",
    "    print(\"\\033[91mUnable to use {}\\033[90m.\".format(module_name))\n",
    "    for value in query:\n",
    "        cve_to_add_manually.append(value)\n",
    "\n",
    "if len(cve_to_add_manually) > 0:\n",
    "    for value in cve_to_add_manually:\n",
    "        vulnerability_object = MISPObject(\"vulnerability\")\n",
    "        attribute = vulnerability_object.add_attribute(\"id\", value, comment=\"From playbook\")\n",
    "        created_object = misp.add_object(misp_event.uuid, vulnerability_object, pythonify=True)\n",
    "        key = \"{}-{}\".format(\"vulnerability\", value)\n",
    "        case_objects[key] = created_object\n",
    "        for tag in attribute_tags:\n",
    "            misp.tag(attribute, tag)\n",
    "        print(\"Added object for \\033[92m{}\\033[90m\".format(value))\n",
    "\n",
    "print(\"Finished CVE investigations\\n\\n\")"
   ]
  },
  {
   "cell_type": "markdown",
   "id": "e5d62bcd-4ac2-49bf-b0d2-9daae6ee7476",
   "metadata": {},
   "source": [
    "## IN:4 Query vulners module\n",
    "\n",
    "The MISP module from [vulners](https://vulners.com/) is used to obtain scoring and additional descriptions for the vulnerabilities."
   ]
  },
  {
   "cell_type": "code",
   "execution_count": 10,
   "id": "c42ada98-760c-418d-8214-5b87328f4025",
   "metadata": {
    "tags": []
   },
   "outputs": [
    {
     "name": "stdout",
     "output_type": "stream",
     "text": [
      "Query \u001b[92mCVE-2021-44228\u001b[90m\n",
      " Added AI score \u001b[92m6.7\u001b[90m\n",
      " Added AI score reference annotates to CVE\n",
      " Added description\n",
      " Added description reference annotates to CVE\n",
      "Query \u001b[92mCVE-2022-41082\u001b[90m\n",
      " Added AI score \u001b[92m6.7\u001b[90m\n",
      " Added AI score reference annotates to CVE\n",
      " Added description\n",
      " Added description reference annotates to CVE\n",
      "Finished vulners investigation\n",
      "\n",
      "\n"
     ]
    }
   ],
   "source": [
    "module_name = \"vulners\"\n",
    "module_source = module_name\n",
    "module_comment = \"From {}\".format(module_source)\n",
    "module_run = 0\n",
    "vulners_seperator = \" || \"\n",
    "vulners_relation = \"annotates\"\n",
    "\n",
    "try:\n",
    "    if len(vulners_apikey) > 0 and misp_modules[module_name][\"enabled\"] and len(query) > 0:\n",
    "        for value in query:\n",
    "            # Wait 'misp_modules_wait' before doing the next query (take into account rate limiting)\n",
    "            if module_run == 0:\n",
    "                module_run = 1\n",
    "            else:\n",
    "                module_run += 1\n",
    "                time.sleep(misp_modules_wait)\n",
    "            data = {\n",
    "                \"vulnerability\": f\"{value}\",\n",
    "                \"module\": module_name,\n",
    "                \"config\": { \"apikey\": vulners_apikey}\n",
    "            }\n",
    "            print(\"Query \\033[92m{}\\033[90m\".format(value))\n",
    "            result = requests.post(\"{}/query\".format(misp_modules_url), headers=misp_modules_headers, json=data)\n",
    "            if \"results\" in result.json() and len(result.json()[\"results\"]) > 0:\n",
    "                if \"Vulnerability Description:  Non existing CVE\" in result_json:\n",
    "                    print(\" \\033[95mNon existing CVE\\033[90m according to {}\".format(module_name))\n",
    "                else:\n",
    "                    result_json = result.json()[\"results\"][0][\"values\"]\n",
    "                    vulners_result = result_json.split(vulners_seperator)\n",
    "                    vulners_ai_score = False\n",
    "                    vulners_description = False\n",
    "                    entry = {}\n",
    "                    for el in vulners_result:\n",
    "                        if \"Vulners AI Score is\" in el:\n",
    "                            vulners_ai_score = el.split(\"Vulners AI Score is \")[1].strip()\n",
    "                        elif \"Vulnerability Description:\" in el:\n",
    "                            vulners_description = el.split(\"Vulnerability Description:\")[1].strip()\n",
    "                    if vulners_ai_score:\n",
    "                        attr_value = \"AI score {} is {}\".format(value, vulners_ai_score)\n",
    "                        entry[\"aiscore\"] = attr_value\n",
    "                        attribute = MISPAttribute()\n",
    "                        attribute.type = \"comment\"\n",
    "                        attribute.value = attr_value\n",
    "                        attribute.to_ids = False\n",
    "                        attribute.disable_correlation = False\n",
    "                        attribute.comment = \"AI score from {} for {}\".format(module_name, value)\n",
    "                        vulners_attr_aiscore = misp.add_attribute(misp_event.uuid, attribute, pythonify=True)\n",
    "                        print(\" Added AI score \\033[92m{}\\033[90m\".format(vulners_ai_score))\n",
    "                        try:\n",
    "                            for obj in case_objects:\n",
    "                                if obj == \"vulnerability-{}\".format(value):\n",
    "                                    misp.add_object_reference(case_objects[obj].add_reference(vulners_attr_aiscore.uuid, vulners_relation))\n",
    "                                    print(\" Added AI score reference {} to CVE\".format(vulners_relation))\n",
    "                        except:\n",
    "                            print(\" Unable to add reference {} to CVE\".format(vulners_relation))\n",
    "\n",
    "                    if vulners_description:\n",
    "                        attr_value = \"{}: {}\".format(value, vulners_description)\n",
    "                        entry[\"aidescription\"] = attr_value\n",
    "                        attribute = MISPAttribute()\n",
    "                        attribute.type = \"comment\"\n",
    "                        attribute.value = attr_value\n",
    "                        attribute.to_ids = False\n",
    "                        attribute.comment = \"Description from {} for {}\".format(module_name, value)\n",
    "                        vulners_attr_descr = misp.add_attribute(misp_event.uuid, attribute, pythonify=True)\n",
    "                        print(\" Added description\")\n",
    "                        try:\n",
    "                            for obj in case_objects:\n",
    "                                if obj == \"vulnerability-{}\".format(value):\n",
    "                                    misp.add_object_reference(case_objects[obj].add_reference(vulners_attr_descr.uuid, vulners_relation))\n",
    "                                    print(\" Added description reference {} to CVE\".format(vulners_relation))\n",
    "                        except:\n",
    "                            print(\" Unable to add reference {} to CVE\".format(vulners_relation))\n",
    "                    entry[\"source\"] = module_name\n",
    "                    entry[\"enriched\"] = value\n",
    "                    playbook_results = pb_add_enrichment(playbook_results, value, entry, \"vulners\", value)\n",
    "            else:\n",
    "                print(\"\\033[91mNo results returned by the module\\033[90m {}\".format(result.text))\n",
    "    else:\n",
    "        print(\"\\033[91mUnable to use {}\\033[90m.\".format(module_name))\n",
    "except NameError:\n",
    "    print(\"\\033[91mUnable to use {}\\033[90m. Maybe the API key is not loaded in the initialisation phase?\".format(module_name))\n",
    "\n",
    "print(\"Finished {} investigation\\n\\n\".format(module_name))"
   ]
  },
  {
   "cell_type": "markdown",
   "id": "5020f911-9435-4e00-82f8-6cf082d6a05e",
   "metadata": {},
   "source": [
    "## IN:5 Query IBM XForceExchange module\n",
    "\n",
    "The [IBM XForceExchange](https://exchange.xforce.ibmcloud.com/) MISP module is used to get additional vulnerability information on the CVE. The results are added as individual objects, linked to the 'main' object. Note that some results returned by the XForceExchange module are not in a correct CVE-format, we skip these to avoid errors."
   ]
  },
  {
   "cell_type": "code",
   "execution_count": 11,
   "id": "4998a5fb-c381-4385-a961-921e5ec86a0f",
   "metadata": {
    "tags": []
   },
   "outputs": [
    {
     "name": "stdout",
     "output_type": "stream",
     "text": [
      "Query \u001b[92mCVE-2021-44228\u001b[90m\n",
      " Add object \u001b[92mvulnerability\u001b[90m a32a3906-4add-4dbb-a412-cd54e056a26b to event.\n",
      " Added reference related-to to vulnerability object\n",
      " Tag attribute ed86e819-523d-4521-ac01-6318bf20c132\n",
      "\n",
      "\n",
      "Query \u001b[92mCVE-2022-41082\u001b[90m\n",
      " Add object \u001b[92mvulnerability\u001b[90m 740c4772-dae4-48be-8452-4f9706f6a10c to event.\n",
      " Added reference related-to to vulnerability object\n",
      " Tag attribute a8488e21-1004-42ea-b08d-8a3da3b47adc\n",
      "\n",
      "\n",
      "Finished xforceexchange investigation\n",
      "\n",
      "\n"
     ]
    }
   ],
   "source": [
    "module_name = \"xforceexchange\"\n",
    "module_source = module_name\n",
    "module_comment = \"From {}\".format(module_source)\n",
    "module_run = 0\n",
    "xforce_relation = \"related-to\"\n",
    "\n",
    "try:\n",
    "    if len(xforce_apikey) > 0 and len(xforce_apipassword) > 0 and misp_modules[module_name][\"enabled\"] and len(query) > 0:\n",
    "        for value in query:\n",
    "            # Wait 'misp_modules_wait' before doing the next query (take into account rate limiting)\n",
    "            if module_run == 0:\n",
    "                module_run = 1\n",
    "            else:\n",
    "                module_run += 1\n",
    "                time.sleep(misp_modules_wait)\n",
    "            attribute_type = \"vulnerability\"\n",
    "            data = {\n",
    "                \"attribute\": {\n",
    "                    \"type\": f\"{attribute_type}\",\n",
    "                    \"uuid\": str(uuid.uuid4()),\n",
    "                    \"value\": f\"{value}\",\n",
    "                },\n",
    "                \"module\": module_name,\n",
    "                \"config\": {\"apikey\": f\"{xforce_apikey}\",\n",
    "                            \"apipassword\": f\"{xforce_apipassword}\"}\n",
    "            }\n",
    "            print(\"Query \\033[92m{}\\033[90m\".format(value))\n",
    "            result = requests.post(\"{}/query\".format(misp_modules_url), headers=misp_modules_headers, json=data)\n",
    "            if \"results\" in result.json() and len(result.json()[\"results\"]) > 0:\n",
    "                misp_attribute_in_object_to_tag = []\n",
    "                result_json = result.json()[\"results\"]\n",
    "                for misp_object in result_json.get(\"Object\", []):\n",
    "                    entry = {}\n",
    "                    if misp_object[\"name\"] in attribute_to_skip:\n",
    "                        print(\" Skip {}\".format(misp_object[\"name\"]))\n",
    "                        continue\n",
    "                    else:\n",
    "                        misp_object[\"comment\"] = \"{}{}\".format(module_comment, misp_object.get(\"comment\", \"\"))\n",
    "                        new_attribute_list = []\n",
    "                        for attribute in misp_object.get(\"Attribute\", []):\n",
    "                            if attribute[\"type\"] in attribute_to_skip:\n",
    "                                True\n",
    "                            else:\n",
    "                                if attribute[\"type\"] == \"vulnerability\" and attribute[\"value\"][:4].lower() != \"cve-\":\n",
    "                                    # Xforce also returns \"vulnerability\" attributes not in CVE-format\n",
    "                                    # This causes an \"Invalid format. Expected: CVE-xxxx-xxxx...\" error\n",
    "                                    continue\n",
    "                                attribute[\"comment\"] = module_comment\n",
    "                                entry[attribute[\"object_relation\"]] = attribute[\"value\"]\n",
    "                                if attribute[\"type\"] in attribute_type_to_tag:\n",
    "                                    misp_attribute_in_object_to_tag.append(attribute[\"uuid\"])\n",
    "                                new_attribute_list.append(attribute)\n",
    "                        misp_object[\"Attribute\"] = new_attribute_list\n",
    "                        if len(misp_object[\"Attribute\"]) > 0:\n",
    "                            try:\n",
    "                                created_object = misp.add_object(misp_event.uuid, misp_object, pythonify=True)\n",
    "                                print(\" Add object \\033[92m{}\\033[90m {} to event.\".format(misp_object[\"name\"], created_object.uuid))\n",
    "                                for obj in case_objects:\n",
    "                                    if obj == \"vulnerability-{}\".format(value):\n",
    "                                        misp.add_object_reference(case_objects[obj].add_reference(created_object.uuid, xforce_relation))\n",
    "                                        print(\" Added reference {} to vulnerability object\".format(xforce_relation))\n",
    "                                entry[\"source\"] = module_name\n",
    "                                entry[\"enriched\"] = value\n",
    "                                entry[\"object\"] = misp_object[\"name\"]\n",
    "                                playbook_results = pb_add_enrichment(playbook_results, value, entry, \"object_uuid\", created_object.uuid)\n",
    "                            except:\n",
    "                                print(\" Unable to add \\033[92m{}\\033[90m to MISP event\".format(misp_object[\"name\"]))\n",
    "\n",
    "                for attribute in misp_attribute_in_object_to_tag:\n",
    "                    for tag in attribute_tags:\n",
    "                        misp.tag(attribute, tag)\n",
    "                    print(\" Tag attribute {}\".format(attribute))\n",
    "                print(\"\\n\")\n",
    "            else:\n",
    "                print(\"\\033[91mNo results returned by the module\\033[90m {}\".format(result.text))\n",
    "    else:\n",
    "        print(\"\\033[91mUnable to use {}\\033[90m.\".format(module_name))\n",
    "except NameError:\n",
    "    print(\"\\033[91mUnable to use {}\\033[90m. Maybe the API key is not loaded in the initialisation phase?\".format(module_name))\n",
    "\n",
    "print(\"Finished {} investigation\\n\\n\".format(module_name))"
   ]
  },
  {
   "cell_type": "markdown",
   "id": "4bc478c2-41d0-4344-a643-69e2cb88ccbc",
   "metadata": {},
   "source": [
    "## IN:6 Query ExploitDB\n",
    "\n",
    "The information from [ExploitDB](https://gitlab.com/exploit-database/exploitdb) is used to list the known exploit for the CVE that you are investigating. ExploitDB makes this information available via a CSV file and you can use this playbook to query the GitLab server. The CSV location is defined in `exploitdb_files_exploit`.\n",
    "\n",
    "If you execute this playbook regularly  then it is useful to setup a local copy of ExploitDB (the git repository) and query your local file. In case you setup a local version and serve it via a server with a self-signed certificate then set `exploitdb_files_exploit_verify` to False to skip certificate verification."
   ]
  },
  {
   "cell_type": "code",
   "execution_count": 12,
   "id": "91403cd3-65b0-4878-aa98-b946f5ac2911",
   "metadata": {
    "tags": []
   },
   "outputs": [
    {
     "name": "stdout",
     "output_type": "stream",
     "text": [
      "Found match for CVE-2021-44228 in \u001b[92mexploitdb\u001b[90m\n",
      " Added exploit object for CVE-2021-44228\n",
      " Added reference exploits to vulnerability object\n",
      "Found match for CVE-2021-44228 in \u001b[92mexploitdb\u001b[90m\n",
      " Added exploit object for CVE-2021-44228\n",
      " Added reference exploits to vulnerability object\n",
      "Found match for CVE-2021-44228 in \u001b[92mexploitdb\u001b[90m\n",
      " Added exploit object for CVE-2021-44228\n",
      " Added reference exploits to vulnerability object\n",
      "Finished correlating with exploitdb.\n",
      "\n",
      "\n"
     ]
    }
   ],
   "source": [
    "exploitdb_files_exploit = \"https://gitlab.com/exploit-database/exploitdb/-/raw/main/files_exploits.csv\"\n",
    "exploitdb_files_exploit = \"https://misp.demo.cudeso.be/demo/files_exploits.csv\"\n",
    "exploitdb_files_exploit_verify = False\n",
    "\n",
    "module_name = \"exploitdb\"\n",
    "exploitdb_relation = \"exploits\"\n",
    "with closing(requests.get(exploitdb_files_exploit, stream=True, verify=exploitdb_files_exploit_verify)) as res:\n",
    "    data = csv.DictReader(codecs.iterdecode(res.iter_lines(), encoding=\"utf-8\"), delimiter=\",\")\n",
    "    for index, row in enumerate(data):\n",
    "        for value in query:\n",
    "            if value in row.get(\"codes\", \"\"):\n",
    "                print(\"Found match for {} in \\033[92m{}\\033[90m\".format(value, module_name))\n",
    "                entry = {\"source\": module_name, \"id\": row.get(\"id\", \"\"), \"file\": row.get(\"file\", \"\"), \"description\": row.get(\"description\", \"\"),\n",
    "                                 \"date_published\": row.get(\"date_published\", \"\"), \"author\": row.get(\"author\", \"\"), \"type\": row.get(\"type\", \"\"), \"verified\": row.get(\"verified\", \"0\"),\n",
    "                                 \"platform\": row.get(\"platform\", \"\"), \"date_added\": row.get(\"date_added\", \"\"), \"codes\": row.get(\"codes\", \"\"), \"source_url\": row.get(\"source_url\",  \"\")}\n",
    "                playbook_results = pb_add_enrichment(playbook_results, value, entry, \"id\", row.get(\"id\", 0))\n",
    "\n",
    "                exploit_object = MISPObject(\"exploit\")\n",
    "                default_comment = \"From {}\".format(module_name)\n",
    "                if len(entry[\"file\"]) > 0:\n",
    "                    exploit_object.add_attribute(\"filename\", entry[\"file\"].strip(), comment=default_comment)\n",
    "                if len(entry[\"id\"]) > 0:\n",
    "                    exploit_object.add_attribute(\"exploitdb-id\", entry[\"id\"].strip(), comment=default_comment)\n",
    "                if len(entry[\"source_url\"]) > 0:\n",
    "                    exploit_object.add_attribute(\"reference\", entry[\"source_url\"].strip(), comment=default_comment)\n",
    "                if len(entry[\"author\"]) > 0:\n",
    "                    exploit_object.add_attribute(\"credit\", entry[\"author\"].strip(), comment=default_comment)\n",
    "                comment = \"\"\n",
    "                for el in [\"description\", \"type\", \"verified\", \"date_published\", \"date_added\", \"platform\"]:\n",
    "                    if el in row and len(row[el]) > 0:\n",
    "                        comment = \"{}\\n{}: {}\".format(comment, el, row[el].strip())\n",
    "                exploit_object.add_attribute(\"comment\", comment, comment=default_comment)\n",
    "                created_object = misp.add_object(misp_event.uuid, exploit_object, pythonify=True)\n",
    "                print(\" Added exploit object for {}\".format(value))\n",
    "\n",
    "                for obj in case_objects:\n",
    "                    if obj == \"vulnerability-{}\".format(value):\n",
    "                        misp.add_object_reference(created_object.add_reference(case_objects[obj].uuid, exploitdb_relation))\n",
    "                        print(\" Added reference {} to vulnerability object\".format(exploitdb_relation))\n",
    "\n",
    "print(\"Finished correlating with {}.\\n\\n\".format(module_name))"
   ]
  },
  {
   "cell_type": "markdown",
   "id": "82ae5f85-7792-4c5b-ab07-2a912e7e363b",
   "metadata": {},
   "source": [
    "### ExploitDB Table\n",
    "\n",
    "The investigation results are now stored in playbook_results. Execute the next cell to display them in a table format. The table is also included in the summary sent to Mattermost and TheHive.\n",
    "\n",
    "For reference, if you want to add the exploit files mentioned by ExploitDB, then prepend this URL to the file name: `https://gitlab.com/exploit-database/exploitdb/-/tree/main/exploits/`."
   ]
  },
  {
   "cell_type": "code",
   "execution_count": 13,
   "id": "a2642d9a-4761-42bb-a75e-ea21d4666ef5",
   "metadata": {
    "tags": []
   },
   "outputs": [
    {
     "name": "stdout",
     "output_type": "stream",
     "text": [
      "+-----------+----------------+----------------------------------------------------+----------+--------+----------+--------------------------------+------------+\n",
      "|   Source  | Value          | Description                                        | Platform | Type   | Verified | File                           | Source URL |\n",
      "+-----------+----------------+----------------------------------------------------+----------+--------+----------+--------------------------------+------------+\n",
      "| exploitdb | CVE-2021-44228 | AD Manager Plus 7122 - Remote Code Execution (RCE) | java     | remote |    0     | exploits/java/remote/51183.txt |            |\n",
      "| exploitdb | CVE-2021-44228 | Apache Log4j 2 - Remote Code Execution (RCE)       | java     | remote |    0     | exploits/java/remote/50592.py  |            |\n",
      "| exploitdb | CVE-2021-44228 | Apache Log4j2 2.14.1 - Information Disclosure      | java     | remote |    0     | exploits/java/remote/50590.py  |            |\n",
      "+-----------+----------------+----------------------------------------------------+----------+--------+----------+--------------------------------+------------+\n"
     ]
    }
   ],
   "source": [
    "# Put the correlations in a pretty table. We can use this table later also for the summary\n",
    "table = PrettyTable()\n",
    "table.field_names = [\"Source\", \"Value\", \"Description\", \"Platform\", \"Type\", \"Verified\", \"File\", \"Source URL\"]\n",
    "table.align[\"Value\"] = \"l\"\n",
    "table.align[\"Description\"] = \"l\"\n",
    "table.align[\"Platform\"] = \"l\"\n",
    "table.align[\"Type\"] = \"l\"\n",
    "table.align[\"File\"] = \"l\"\n",
    "table.align[\"Source URL\"] = \"l\"\n",
    "for result in playbook_results:\n",
    "    for match in playbook_results[result]:\n",
    "        if match[\"source\"] == \"exploitdb\":\n",
    "            table.add_row([match[\"source\"], result, match[\"description\"], match[\"platform\"], match[\"type\"], match[\"verified\"], match[\"file\"], match[\"source_url\"]])\n",
    "print(table.get_string(sortby=\"Value\"))\n",
    "table_exploitdb = table"
   ]
  },
  {
   "cell_type": "markdown",
   "id": "93b27934-01e2-4c14-a912-421e2187cd82",
   "metadata": {},
   "source": [
    "## IN:7 Other queries\n",
    "\n",
    "This playbook only includes **free** available sources. You can extend the investigation with information from these resources:\n",
    "\n",
    "- VirusTotal\n",
    "    - Use the query `tag:cve-XXXX` to search for results linked to a CVE (requires VT Enterprise)\n",
    "- Shodan\n",
    "    - Use the query `vuln:cve-XXXX` to search for results linked to a CVE (limited to Academic users or Small Business API subscription and higher)\n",
    "- Greynoise\n",
    "    - \"cve\" search is payed feature\n",
    "- Vulndb\n",
    "    - Available as a MISP module, but requires a payed subscription"
   ]
  },
  {
   "cell_type": "markdown",
   "id": "60b12c31-9c22-415a-9a4e-da419ed83a08",
   "metadata": {
    "tags": []
   },
   "source": [
    "# Correlation\n",
    "\n",
    "## CR:1 Correlation with MISP events\n",
    "\n",
    "This cell searches the **MISP server** for events that have a match with the CVE that are being investigated. A summary of the correlation is also shown at the end of the playbook. Only **published** events (`correlation_published`) are take into account. There is a default limit of **1000 hits** (`correlation_limit`)."
   ]
  },
  {
   "cell_type": "code",
   "execution_count": 14,
   "id": "80685d01-d1f6-48c6-b419-a1eb1c574be1",
   "metadata": {
    "tags": []
   },
   "outputs": [
    {
     "name": "stdout",
     "output_type": "stream",
     "text": [
      "Found match for CVE-2021-44228 in \u001b[92m2978\u001b[90m in \u001b[92mThe Curious Case of “Monti” Ransomware: A Real-World Doppelganger BlackBerry Logo\u001b[90m\n",
      "Found match for CVE-2022-41082 in \u001b[92m2662\u001b[90m in \u001b[92mAn older threat event\u001b[90m\n",
      "Finished correlating with MISP events.\n",
      "\n",
      "\n"
     ]
    }
   ],
   "source": [
    "# Only query for published MISP events\n",
    "correlation_published = True\n",
    "\n",
    "# Limit the returned results to 1000 attributes\n",
    "correlation_limit = 1000\n",
    "\n",
    "# During tag analysis, which tags to skip?\n",
    "tags_to_skip = [\"workflow:state=\",\"misp:tool=\",\"osint:source-type=\",\"misp:event-type=\"]\n",
    "\n",
    "# Split tags in buckets\n",
    "tags_to_analyse = {\"intrusion-set\": \"-intrusion-set=\",\n",
    "                   \"attack-pattern\": \"-attack-pattern=\",\n",
    "                   \"coa\": \"-course-of-action=\",\n",
    "                   \"malware\": \"-malware=\",\n",
    "                   \"tool\": \"-tool=\",\n",
    "                   \"malpedia\": \"malpedia=\",\n",
    "                   \"country\": \"misp-galaxy:country=\",\n",
    "                   \"sector\": \"misp-galaxy:sector=\"}\n",
    "\n",
    "# Code block to query MISP and find the correlations\n",
    "for value in query:\n",
    "    search_match = misp.search(\"events\", value=value, published=correlation_published, limit=correlation_limit, pythonify=True)\n",
    "    if len(search_match) > 0:\n",
    "        for event in search_match:\n",
    "            if event.id != misp_event.id:   # Skip the event we just created for this playbook\n",
    "                print(\"Found match for {} in \\033[92m{}\\033[90m in \\033[92m{}\\033[90m\".format(value, event.id, event.info))\n",
    "                tags_to_return, tags_analysed = pb_analyse_tags(event.tags, tags_to_analyse, tags_to_skip)\n",
    "                entry = {\"source\": \"MISP\", \"org\": event.org.name, \"event_id\": event.id, \"event_info\": event.info,\n",
    "                                     \"date\": event.date, \"enriched\": value, \"tags\": tags_to_return}\n",
    "                for el in tags_analysed:\n",
    "                    entry[el] = tags_analysed[el]\n",
    "                playbook_results = pb_add_enrichment(playbook_results, value, entry, \"event_id\", event.id)\n",
    "    else:\n",
    "        print(\"\\033[93mNo correlating MISP events\\033[90m found for {}\".format(value))\n",
    "print(\"Finished correlating with MISP events.\\n\\n\")"
   ]
  },
  {
   "cell_type": "markdown",
   "id": "5575d871-d56f-4f4a-b4b6-70eda21e2844",
   "metadata": {},
   "source": [
    "### MISP events correlation table\n",
    "\n",
    "The correlation results are now stored in `playbook_results`. Execute the next cell to display them in a table format. The table is also included in the summary sent to Mattermost and TheHive."
   ]
  },
  {
   "cell_type": "code",
   "execution_count": 15,
   "id": "c7ed771e-b0f4-4b5f-93ec-4dd6d9383ea9",
   "metadata": {
    "tags": []
   },
   "outputs": [
    {
     "name": "stdout",
     "output_type": "stream",
     "text": [
      "+--------+----------------+------------+--------------------------------+----------+---------------------------+-------------------------------------------------+-------------------------------------------------------+\n",
      "| Source | Value          |    Date    | Event                          | Event ID | Intrusion set             | Technique                                       | Course of action                                      |\n",
      "+--------+----------------+------------+--------------------------------+----------+---------------------------+-------------------------------------------------+-------------------------------------------------------+\n",
      "|  MISP  | CVE-2021-44228 | 2022-09-12 | The Curious Case of “Monti”    | 2978     |                           | Modify Registry - T1112                         | Registry Run Keys / Startup Folder Mitigation - T1060 |\n",
      "|        |                |            | Ransomware: A Real-World       |          |                           | Registry Run Keys / Startup Folder - T1060      |                                                       |\n",
      "|        |                |            | Doppelganger BlackBerry Logo   |          |                           |                                                 |                                                       |\n",
      "|  MISP  | CVE-2022-41082 | 2023-05-29 | An older threat event          | 2662     | BackdoorDiplomacy - G0135 | PowerShell - T1086                              | Disable or Remove Feature or Program - M1042          |\n",
      "|        |                |            |                                |          |                           | Hide Artifacts - T1564                          | Application Isolation and Sandboxing - M1048          |\n",
      "|        |                |            |                                |          |                           | User Execution - T1204                          |                                                       |\n",
      "|        |                |            |                                |          |                           | Server Software Component - T1505               |                                                       |\n",
      "|        |                |            |                                |          |                           | Exploit Public-Facing Application - T1190       |                                                       |\n",
      "|        |                |            |                                |          |                           | Deobfuscate/Decode Files or Information - T1140 |                                                       |\n",
      "|        |                |            |                                |          |                           |                                                 |                                                       |\n",
      "+--------+----------------+------------+--------------------------------+----------+---------------------------+-------------------------------------------------+-------------------------------------------------------+\n"
     ]
    }
   ],
   "source": [
    "# Put the correlations in a pretty table. We can use this table later also for the summary\n",
    "table = PrettyTable()\n",
    "table.field_names = [\"Source\", \"Value\", \"Date\", \"Event\", \"Event ID\", \"Intrusion set\", \"Technique\", \"Course of action\"]\n",
    "table.align[\"Value\"] = \"l\"\n",
    "table.align[\"Event\"] = \"l\"\n",
    "table.align[\"Intrusion set\"] = \"l\"\n",
    "table.align[\"Technique\"] = \"l\"\n",
    "table.align[\"Course of action\"] = \"l\"\n",
    "table.align[\"Event ID\"] = \"l\"\n",
    "table._max_width = {\"Event\": 30}\n",
    "for result in playbook_results:\n",
    "    for match in playbook_results[result]:\n",
    "        if match[\"source\"] == \"MISP\":\n",
    "            intrusion_set = \"\"\n",
    "            for el in match.get(\"intrusion-set\", []):\n",
    "                intrusion_set = \"{}\\n{}\".format(el, intrusion_set)\n",
    "            techniques = \"\"\n",
    "            for el in match.get(\"attack-pattern\", []):\n",
    "                techniques = \"{}\\n{}\".format(el, techniques)\n",
    "            coa = \"\"\n",
    "            for el in match.get(\"coa\", []):\n",
    "                coa = \"{}\\n{}\".format(el, coa)                \n",
    "            table.add_row([match[\"source\"], result, match[\"date\"], match[\"event_info\"], match[\"event_id\"], intrusion_set, techniques, coa])\n",
    "print(table.get_string(sortby=\"Value\"))\n",
    "table_mispevents = table"
   ]
  },
  {
   "cell_type": "markdown",
   "id": "db5b11ea-eab0-4670-ab78-19b63878628a",
   "metadata": {},
   "source": [
    "### MISP tools, malware and Malpedia information\n",
    "\n",
    "Based on the information from correlating MISP events there is a list of [tools](https://www.misp-project.org/galaxy.html#_tool), [malware](https://www.misp-project.org/galaxy.html#_malware_2) and [Malpedia](https://malpedia.caad.fkie.fraunhofer.de/library) classifications commonly associated with the vulnerabilities you are investigating."
   ]
  },
  {
   "cell_type": "code",
   "execution_count": 16,
   "id": "a200854c-f48c-4355-ac0f-39621b2d1262",
   "metadata": {
    "tags": []
   },
   "outputs": [
    {
     "name": "stdout",
     "output_type": "stream",
     "text": [
      "+--------+----------------+-----------------------+---------------+---------------+\n",
      "| Source | Value          | Tools                 | Malware       | Malpedia      |\n",
      "+--------+----------------+-----------------------+---------------+---------------+\n",
      "|  MISP  | CVE-2021-44228 | Cobalt Strike - S0154 | Conti - S0575 | Cobalt Strike |\n",
      "|        |                |                       |               |               |\n",
      "|  MISP  | CVE-2022-41082 |                       |               |               |\n",
      "+--------+----------------+-----------------------+---------------+---------------+\n"
     ]
    }
   ],
   "source": [
    "# Put the correlations in a pretty table. We can use this table later also for the summary\n",
    "table = PrettyTable()\n",
    "table.field_names = [\"Source\", \"Value\", \"Tools\", \"Malware\", \"Malpedia\"]\n",
    "table.align[\"Value\"] = \"l\"\n",
    "table.align[\"Tools\"] = \"l\"\n",
    "table.align[\"Malware\"] = \"l\"\n",
    "table.align[\"Malpedia\"] = \"l\"\n",
    "for result in playbook_results:\n",
    "    tool = \"\"\n",
    "    malware = \"\"\n",
    "    malpedia = \"\"\n",
    "    for match in playbook_results[result]:\n",
    "        if match[\"source\"] == \"MISP\":\n",
    "            for el in match.get(\"tool\", []):\n",
    "                tool = \"{}\\n{}\".format(el, tool)\n",
    "            for el in match.get(\"malware\", []):\n",
    "                malware = \"{}\\n{}\".format(el, malware)\n",
    "            for el in match.get(\"malpedia\", []):\n",
    "                malpedia = \"{}\\n{}\".format(el, malpedia)                \n",
    "    table.add_row([match[\"source\"], result, tool, malware, malpedia])\n",
    "print(table.get_string(sortby=\"Value\"))\n",
    "table_mispevents_tools_malware_malpedia = table"
   ]
  },
  {
   "cell_type": "markdown",
   "id": "2843b3d6-8744-4ecb-b617-0e419134924f",
   "metadata": {},
   "source": [
    "### MISP sectors and countries\n",
    "\n",
    "Another information sources retried from the correlating events are the [sectors](https://www.misp-project.org/galaxy.html#_sector) and [countries](https://www.misp-project.org/galaxy.html#_country) commonly targeted by using this vulnerability."
   ]
  },
  {
   "cell_type": "code",
   "execution_count": 17,
   "id": "1d6cabc4-b32e-4e9a-a903-99150c98e0bc",
   "metadata": {
    "tags": []
   },
   "outputs": [
    {
     "name": "stdout",
     "output_type": "stream",
     "text": [
      "+--------+----------------+--------------+----------------------------+\n",
      "| Source | Value          | Sectors      | Countries                  |\n",
      "+--------+----------------+--------------+----------------------------+\n",
      "|  MISP  | CVE-2021-44228 | France       | Manufacturing              |\n",
      "|        |                | Germany      | Bank                       |\n",
      "|        |                | Belgium      | Academia - University      |\n",
      "|        |                |              |                            |\n",
      "|  MISP  | CVE-2022-41082 | South africa | Government, Administration |\n",
      "|        |                | Poland       | Diplomacy                  |\n",
      "|        |                | Libya        | Telecoms                   |\n",
      "|        |                | India        |                            |\n",
      "|        |                | Germany      |                            |\n",
      "|        |                |              |                            |\n",
      "+--------+----------------+--------------+----------------------------+\n"
     ]
    }
   ],
   "source": [
    "# Put the correlations in a pretty table. We can use this table later also for the summary\n",
    "table = PrettyTable()\n",
    "table.field_names = [\"Source\", \"Value\", \"Sectors\", \"Countries\"]\n",
    "table.align[\"Value\"] = \"l\"\n",
    "table.align[\"Sectors\"] = \"l\"\n",
    "table.align[\"Countries\"] = \"l\"\n",
    "for result in playbook_results:\n",
    "    sectors = \"\"\n",
    "    countries = \"\"\n",
    "    for match in playbook_results[result]:\n",
    "        if match[\"source\"] == \"MISP\":\n",
    "            for el in match.get(\"country\", []):\n",
    "                sectors = \"{}\\n{}\".format(el.capitalize(), sectors)\n",
    "            for el in match.get(\"sector\", []):\n",
    "                countries = \"{}\\n{}\".format(el, countries)            \n",
    "    table.add_row([match[\"source\"], result, sectors, countries])\n",
    "print(table.get_string(sortby=\"Value\"))\n",
    "table_mispevents_sector_country = table"
   ]
  },
  {
   "cell_type": "markdown",
   "id": "5e535187-4794-437a-b2fb-a99ce33a6191",
   "metadata": {},
   "source": [
    "## CR:2 Correlation with MISP feeds\n",
    "\n",
    "The playbook does not query the MISP feeds for matches. It's currently not possible to query the MISP feed cache for attributes that do not have the to_ids flag set to True (which is often the case for CVE values). Also see this feature request: [Have a way to search in the feed cache for attributes that do not have to_ids set to True #9188](https://github.com/MISP/MISP/issues/9188)."
   ]
  },
  {
   "cell_type": "markdown",
   "id": "70dea5ca",
   "metadata": {},
   "source": [
    "# Closure\n",
    "\n",
    "In this **closure** step we create a **summary** of the actions performed by the playbook. The summary is printed in the playbook and also send to Mattermost.\n",
    "\n",
    "## EN:1 Create the summary of the CVE information\n",
    "\n",
    "The next cell summarises the CVE information in Markdown strings stored in `summary_cve`."
   ]
  },
  {
   "cell_type": "code",
   "execution_count": 18,
   "id": "aecdf44b-607b-42b1-ab71-b0450b8da612",
   "metadata": {
    "tags": []
   },
   "outputs": [
    {
     "name": "stdout",
     "output_type": "stream",
     "text": [
      "CVE summary stored in Markdown format.\n",
      "\n",
      "\n"
     ]
    }
   ],
   "source": [
    "for result in playbook_results:\n",
    "    vuln_details = \"\"\n",
    "    weak_details = \"##### Weakness\\n\"\n",
    "    attpattern_details = \"##### Attack pattern\\n\"\n",
    "    vulners_details = \"\"\n",
    "    for match in playbook_results[result]:\n",
    "        if match[\"source\"] == \"cve_advanced\":\n",
    "            if match[\"object\"] == \"vulnerability\":\n",
    "                for el in match:\n",
    "                    if el not in [\"object\", \"source\", \"vulnerability\", \"enriched\"]:\n",
    "                        vuln_details = \"{}\\n{}: {}\\n\".format(vuln_details, el, match[el])\n",
    "            elif match[\"object\"] == \"weakness\":\n",
    "                \n",
    "                for el in match:\n",
    "                    if el not in [\"object\", \"source\", \"vulnerability\", \"enriched\"]:\n",
    "                        weak_details = \"{}\\n{}: {}\\n\".format(weak_details, el, match[el])\n",
    "            elif match[\"object\"] == \"attack-pattern\":\n",
    "                \n",
    "                for el in match:\n",
    "                    if el not in [\"object\", \"source\", \"vulnerability\", \"enriched\", \"weakness\"]:\n",
    "                        attpattern_details = \"{}\\n{}: {}\\n\".format(attpattern_details, el, match[el])                        \n",
    "        if match[\"source\"] == \"vulners\":\n",
    "            vulners_details = \"##### Vulners information\\n Score: {}\\n\\n Description: {}\".format(match[\"aiscore\"], match[\"aidescription\"])\n",
    "    summary_cve[result] = \"##### Vulnerability details\\n{}\\n{}\\n{}\\n{}\\n\".format(vuln_details, vulners_details, weak_details, attpattern_details)\n",
    "print(\"CVE summary stored in Markdown format.\\n\\n\")"
   ]
  },
  {
   "cell_type": "markdown",
   "id": "b6558fe9-dec2-4fc5-8709-020d5960a306",
   "metadata": {},
   "source": [
    "## EN:2 Create the summary of the playbook\n",
    "\n",
    "The next section creates a summary and stores the output in the variable `summary` in Markdown format. It also stores an intro text in the variable `intro`. These variables are later used when sending information to Mattermost or TheHive."
   ]
  },
  {
   "cell_type": "code",
   "execution_count": 19,
   "id": "377d9ff1-b6e6-4d28-9f91-21db5eb0a132",
   "metadata": {
    "tags": []
   },
   "outputs": [
    {
     "name": "stdout",
     "output_type": "stream",
     "text": [
      "The \u001b[92msummary\u001b[90m of the playbook is available.\n",
      "\n"
     ]
    }
   ],
   "source": [
    "summary = \"## MISP Playbook summary\\nCVE investigation with MISP event: **{}** ({}/events/view/{}). \".format(misp_event.info, misp_url, misp_event.id)\n",
    "\n",
    "summary_query = \"\"\n",
    "for value in query:\n",
    "    summary_query = \"{}{} \".format(summary_query, value)\n",
    "summary += \"This concerned the investigation of CVE **{}**\\n\\n\".format(summary_query)\n",
    "intro = summary\n",
    "\n",
    "summary += \"### Investigations\\n\\n\"\n",
    "for i in summary_cve:\n",
    "    summary += \"#### {}\\n{}\".format(i, summary_cve[i])\n",
    "summary += \"\\n\\n\"\n",
    "\n",
    "summary += \"#### ExploitDB\\n\\n\"\n",
    "table_exploitdb.set_style(MARKDOWN)\n",
    "summary += table_exploitdb.get_string()\n",
    "summary += \"\\n\\n\"\n",
    "\n",
    "summary += \"### Correlations\\n\\n\"\n",
    "summary += \"#### MISP event matches\\n\\n\"\n",
    "table_mispevents.set_style(MARKDOWN)\n",
    "summary += table_mispevents.get_string()\n",
    "summary += \"\\n\\n\"\n",
    "\n",
    "summary += \"#### MISP tools, malware and malpedia\\n\\n\"\n",
    "table_mispevents_tools_malware_malpedia.set_style(MARKDOWN)\n",
    "summary += table_mispevents_tools_malware_malpedia.get_string()\n",
    "summary += \"\\n\\n\"\n",
    "\n",
    "summary += \"#### MISP sectors and countries\\n\\n\"\n",
    "table_mispevents_sector_country.set_style(MARKDOWN)\n",
    "summary += table_mispevents_sector_country.get_string()\n",
    "summary += \"\\n\\n\"\n",
    "\n",
    "summary_second = \"## MISP Playbook summary\\nCVE investigation with MISP event: **{}** ({}/events/view/{}) (continuation). \".format(misp_event.info, misp_url, misp_event.id)\n",
    "summary += \"\\n\\n\"\n",
    "\n",
    "print(\"The \\033[92msummary\\033[90m of the playbook is available.\\n\")"
   ]
  },
  {
   "cell_type": "markdown",
   "id": "c17d9d26-abb7-466c-ae80-5aa886c4328e",
   "metadata": {},
   "source": [
    "### Print the summary"
   ]
  },
  {
   "cell_type": "code",
   "execution_count": 20,
   "id": "8614a4b3-c343-4525-afe4-a09b78a2ca40",
   "metadata": {
    "tags": []
   },
   "outputs": [
    {
     "data": {
      "text/markdown": [
       "## MISP Playbook summary\n",
       "CVE investigation with MISP event: **CVE investigation for CVE-2021-44228 CVE-2022-41082** (https://misp.demo.cudeso.be//events/view/3047). This concerned the investigation of CVE **CVE-2021-44228 CVE-2022-41082 **\n",
       "\n",
       "### Investigations\n",
       "\n",
       "#### CVE-2021-44228\n",
       "##### Vulnerability details\n",
       "\n",
       "id: CVE-2021-44228\n",
       "\n",
       "summary: Apache Log4j2 2.0-beta9 through 2.15.0 (excluding security releases 2.12.2, 2.12.3, and 2.3.1) JNDI features used in configuration, log messages, and parameters do not protect against attacker controlled LDAP and other JNDI related endpoints. An attacker who can control log messages or log message parameters can execute arbitrary code loaded from LDAP servers when message lookup substitution is enabled. From log4j 2.15.0, this behavior has been disabled by default. From version 2.16.0 (along with 2.12.2, 2.12.3, and 2.3.1), this functionality has been completely removed. Note that this vulnerability is specific to log4j-core and does not affect log4net, log4cxx, or other Apache Logging Services projects.\n",
       "\n",
       "modified: 2023-04-03T20:15:00\n",
       "\n",
       "cvss-score: 10.0\n",
       "\n",
       "cvss-string: CVSS:3.1/AV:N/AC:L/PR:N/UI:N/S:C/C:H/I:H/A:H\n",
       "\n",
       "published: 2021-12-10T10:15:00\n",
       "\n",
       "state: Published\n",
       "\n",
       "##### Vulners information\n",
       " Score: AI score CVE-2021-44228 is 6.7\n",
       "\n",
       " Description: CVE-2021-44228: Apache Log4j2 2.0-beta9 through 2.15.0 (excluding security releases 2.12.2, 2.12.3, and 2.3.1) JNDI features used in configuration, log messages, and parameters do not protect against attacker controlled LDAP and other JNDI related endpoints. An attacker who can control log messages or log message parameters can execute arbitrary code loaded from LDAP servers when message lookup substitution is enabled. From log4j 2.15.0, this behavior has been disabled by default. From version 2.16.0 (along with 2.12.2, 2.12.3, and 2.3.1), this functionality has been completely removed. Note that this vulnerability is specific to log4j-core and does not affect log4net, log4cxx, or other Apache Logging Services projects.Apache Log4j2 2.0-beta9 through 2.15.0 (excluding security releases 2.12.2, 2.12.3, and 2.3.1) JNDI features used in configuration, log messages, and parameters do not protect against attacker controlled LDAP and other JNDI related endpoints. An attacker who can control log messages or log message parameters can execute arbitrary code loaded from LDAP servers when message lookup substitution is enabled. From log4j 2.15.0, this behavior has been disabled by default. From version 2.16.0 (along with 2.12.2, 2.12.3, and 2.3.1), this functionality has been completely removed. Note that this vulnerability is specific to log4j-core and does not affect log4net, log4cxx, or other Apache Logging Services projects.\n",
       "##### Weakness\n",
       "\n",
       "id: CWE-502\n",
       "\n",
       "name: Deserialization of Untrusted Data\n",
       "\n",
       "status: Draft\n",
       "\n",
       "weakness-abs: Base\n",
       "\n",
       "##### Attack pattern\n",
       "\n",
       "id: 586\n",
       "\n",
       "name: Object Injection\n",
       "\n",
       "summary: An adversary attempts to exploit an application by injecting additional, malicious content during its processing of serialized objects. Developers leverage serialization in order to convert data or state into a static, binary format for saving to disk or transferring over a network. These objects are then deserialized when needed to recover the data/state. By injecting a malformed object into a vulnerable application, an adversary can potentially compromise the application by manipulating the deserialization process. This can result in a number of unwanted outcomes, including remote code execution.\n",
       "\n",
       "prerequisites: The target application must unserialize data before validation.\n",
       "\n",
       "solutions: Implementation: Validate object before deserialization process Design: Limit which types can be deserialized. Implementation: Avoid having unnecessary types or gadgets available that can be leveraged for malicious ends. Use an allowlist of acceptable classes. Implementation: Keep session state on the server, when possible.\n",
       "\n",
       "related-weakness: CWE-502\n",
       "\n",
       "#### CVE-2022-41082\n",
       "##### Vulnerability details\n",
       "\n",
       "id: CVE-2022-41082\n",
       "\n",
       "summary: Microsoft Exchange Server Remote Code Execution Vulnerability.\n",
       "\n",
       "modified: 2022-12-07T17:07:00\n",
       "\n",
       "cvss-score: 8.8\n",
       "\n",
       "cvss-string: CVSS:3.1/AV:N/AC:L/PR:L/UI:N/S:U/C:H/I:H/A:H\n",
       "\n",
       "published: 2022-10-03T01:15:00\n",
       "\n",
       "state: Published\n",
       "\n",
       "##### Vulners information\n",
       " Score: AI score CVE-2022-41082 is 6.7\n",
       "\n",
       " Description: CVE-2022-41082: Microsoft Exchange Server Remote Code Execution Vulnerability.Microsoft Exchange Server Remote Code Execution Vulnerability.\n",
       "##### Weakness\n",
       "\n",
       "##### Attack pattern\n",
       "\n",
       "\n",
       "\n",
       "#### ExploitDB\n",
       "\n",
       "|   Source  | Value          | Description                                        | Platform | Type   | Verified | File                           | Source URL |\n",
       "|:---------:|:---------------|:---------------------------------------------------|:---------|:-------|:--------:|:-------------------------------|:-----------|\n",
       "| exploitdb | CVE-2021-44228 | AD Manager Plus 7122 - Remote Code Execution (RCE) | java     | remote |    0     | exploits/java/remote/51183.txt |            |\n",
       "| exploitdb | CVE-2021-44228 | Apache Log4j 2 - Remote Code Execution (RCE)       | java     | remote |    0     | exploits/java/remote/50592.py  |            |\n",
       "| exploitdb | CVE-2021-44228 | Apache Log4j2 2.14.1 - Information Disclosure      | java     | remote |    0     | exploits/java/remote/50590.py  |            |\n",
       "\n",
       "### Correlations\n",
       "\n",
       "#### MISP event matches\n",
       "\n",
       "| Source | Value          |    Date    | Event                          | Event ID | Intrusion set             | Technique                                       | Course of action                                      |\n",
       "|:------:|:---------------|:----------:|:-------------------------------|:---------|:--------------------------|:------------------------------------------------|:------------------------------------------------------|\n",
       "|  MISP  | CVE-2021-44228 | 2022-09-12 | The Curious Case of “Monti”    | 2978     |                           | Modify Registry - T1112                         | Registry Run Keys / Startup Folder Mitigation - T1060 |\n",
       "|        |                |            | Ransomware: A Real-World       |          |                           | Registry Run Keys / Startup Folder - T1060      |                                                       |\n",
       "|        |                |            | Doppelganger BlackBerry Logo   |          |                           |                                                 |                                                       |\n",
       "|  MISP  | CVE-2022-41082 | 2023-05-29 | An older threat event          | 2662     | BackdoorDiplomacy - G0135 | PowerShell - T1086                              | Disable or Remove Feature or Program - M1042          |\n",
       "|        |                |            |                                |          |                           | Hide Artifacts - T1564                          | Application Isolation and Sandboxing - M1048          |\n",
       "|        |                |            |                                |          |                           | User Execution - T1204                          |                                                       |\n",
       "|        |                |            |                                |          |                           | Server Software Component - T1505               |                                                       |\n",
       "|        |                |            |                                |          |                           | Exploit Public-Facing Application - T1190       |                                                       |\n",
       "|        |                |            |                                |          |                           | Deobfuscate/Decode Files or Information - T1140 |                                                       |\n",
       "|        |                |            |                                |          |                           |                                                 |                                                       |\n",
       "\n",
       "#### MISP tools, malware and malpedia\n",
       "\n",
       "| Source | Value          | Tools                 | Malware       | Malpedia      |\n",
       "|:------:|:---------------|:----------------------|:--------------|:--------------|\n",
       "|  MISP  | CVE-2021-44228 | Cobalt Strike - S0154 | Conti - S0575 | Cobalt Strike |\n",
       "|        |                |                       |               |               |\n",
       "|  MISP  | CVE-2022-41082 |                       |               |               |\n",
       "\n",
       "#### MISP sectors and countries\n",
       "\n",
       "| Source | Value          | Sectors      | Countries                  |\n",
       "|:------:|:---------------|:-------------|:---------------------------|\n",
       "|  MISP  | CVE-2021-44228 | France       | Manufacturing              |\n",
       "|        |                | Germany      | Bank                       |\n",
       "|        |                | Belgium      | Academia - University      |\n",
       "|        |                |              |                            |\n",
       "|  MISP  | CVE-2022-41082 | South africa | Government, Administration |\n",
       "|        |                | Poland       | Diplomacy                  |\n",
       "|        |                | Libya        | Telecoms                   |\n",
       "|        |                | India        |                            |\n",
       "|        |                | Germany      |                            |\n",
       "|        |                |              |                            |\n",
       "\n",
       "\n",
       "\n"
      ]
     },
     "metadata": {},
     "output_type": "display_data"
    }
   ],
   "source": [
    "display_markdown(summary, raw=True)"
   ]
  },
  {
   "cell_type": "markdown",
   "id": "eba96062-deaa-4fb9-8302-7b3ef829201e",
   "metadata": {},
   "source": [
    "## EN:3 Send a summary to Mattermost\n",
    "\n",
    "Now you can send the summary to Mattermost. You can send the summary in two ways by selecting one of the options for the variable `send_to_mattermost_option` in the next cell.\n",
    "\n",
    "- The default option where the entire summary is in the **chat**, or\n",
    "- a short intro and the summary in a **card**\n",
    "\n",
    "For this playbook we rely on a webhook in Mattermost. You can add a webhook by choosing the gear icon in Mattermost, then choose Integrations and then **Incoming Webhooks**. Set a channel for the webhook and lock the webhook to this channel with *\"Lock to this channel\"*."
   ]
  },
  {
   "cell_type": "code",
   "execution_count": 21,
   "id": "8c455bc3-35cc-436d-8237-95c81b57208f",
   "metadata": {
    "tags": []
   },
   "outputs": [],
   "source": [
    "send_to_mattermost_option = \"via a chat message\"\n",
    "#send_to_mattermost_option = \"via a chat message with card\""
   ]
  },
  {
   "cell_type": "code",
   "execution_count": 22,
   "id": "ca49f33e",
   "metadata": {},
   "outputs": [
    {
     "name": "stdout",
     "output_type": "stream",
     "text": [
      "Summary is \u001b[92msent to Mattermost.\n",
      "\n"
     ]
    }
   ],
   "source": [
    "message = False\n",
    "if send_to_mattermost_option == \"via a chat message\":\n",
    "    message = {\"username\": mattermost_playbook_user, \"text\": summary}\n",
    "elif send_to_mattermost_option == \"via a chat message with card\":\n",
    "    message = {\"username\": mattermost_playbook_user, \"text\": intro, \"props\": {\"card\": summary}}\n",
    "\n",
    "if message:\n",
    "    r = requests.post(mattermost_hook, data=json.dumps(message))\n",
    "    r.raise_for_status()\n",
    "if message and r.status_code == 200:\n",
    "    print(\"Summary is \\033[92msent to Mattermost.\\n\")\n",
    "else:\n",
    "    print(\"\\033[91mFailed to sent summary\\033[90m to Mattermost.\\n\")"
   ]
  },
  {
   "cell_type": "markdown",
   "id": "4f551664-984f-4d50-ae45-6506f4c25ce5",
   "metadata": {
    "tags": []
   },
   "source": [
    "![helpers/playbook_query_cve_information_mattermost1.png](helpers/playbook_query_cve_information_mattermost1.png)\n",
    "![helpers/playbook_query_cve_information_mattermost2.png](helpers/playbook_query_cve_information_mattermost2.png)"
   ]
  },
  {
   "cell_type": "markdown",
   "id": "f9c0f780-d8df-4f9b-9a11-230eb3e4f42d",
   "metadata": {},
   "source": [
    "## EN:4 Send an alert to TheHive\n",
    "\n",
    "Next to informing your colleagues via Mattermost you can also send an **alert** to TheHive. The alert contains the summary, and a list of indicators as 'observables'.\n",
    "\n",
    "You can change the alert title with `thehive_alert_title` and provide a reference type with `thehive_alert_reference`. Note that this reference needs to be **unique** in TheHive. If you want to create multiple alerts for the same MISP event then add some random value at the end."
   ]
  },
  {
   "cell_type": "code",
   "execution_count": 23,
   "id": "87edbdbf-e6b0-47b7-b70a-4ddb4af67e55",
   "metadata": {
    "tags": []
   },
   "outputs": [],
   "source": [
    "# The title of the TheHive alert\n",
    "thehive_alert_title = \"MISP Playbook Summary\"\n",
    "\n",
    "# A unique reference for the TheHive (we include the MISP event UUID)\n",
    "thehive_alert_reference = \"MISP event - {} - {}\".format(misp_event.info, misp_event.uuid)\n",
    "\n",
    "# Alert type in TheHive\n",
    "thehive_alert_type = \"MISP Playbook alert\"\n",
    "\n",
    "# TLP:Amber for TheHive\n",
    "thehive_tlp = 2\n",
    "\n",
    "# PAP:GREEN for TheHive\n",
    "thehive_pap = 1"
   ]
  },
  {
   "cell_type": "code",
   "execution_count": 24,
   "id": "0da33569-cd50-414a-ad0b-70bcdb69174d",
   "metadata": {
    "tags": []
   },
   "outputs": [
    {
     "name": "stdout",
     "output_type": "stream",
     "text": [
      "The TheHive \u001b[92malert ~86096 is added\n"
     ]
    }
   ],
   "source": [
    "# Code block to send an alert to TheHive\n",
    "# We use the Python requests library\n",
    "thehive_headers = {'Content-Type': 'application/json', 'Authorization': f'Bearer {thehive_key}'}\n",
    "thehive_url_create = \"{}/api/v1/alert\".format(thehive_url)\n",
    "\n",
    "thehive_observables = []\n",
    "for value in query:\n",
    "    thehive_observables.append({\"dataType\": \"other\", \"data\": value, \"pap\": thehive_pap, \"tlp\": thehive_tlp})\n",
    "\n",
    "thehive_alert = {\"title\": thehive_alert_title, \n",
    "                 \"description\": intro,\n",
    "                 \"summary\": summary[0:1048576],\n",
    "                 \"type\": thehive_alert_type, \n",
    "                 \"source\": \"playbook\", \n",
    "                 \"sourceRef\": thehive_alert_reference, \n",
    "                 \"tlp\": thehive_tlp, \"pap\": thehive_pap,\n",
    "                 \"observables\": thehive_observables}\n",
    "\n",
    "result = requests.post(thehive_url_create, headers=thehive_headers, data=json.dumps(thehive_alert))\n",
    "if result.json()['status'] == 'New':\n",
    "    thehive_alert_id = result.json()['_id']\n",
    "    print('The TheHive \\033[92malert {} is added'.format(thehive_alert_id))\n",
    "else:\n",
    "    print('\\033[91mFailed\\033[90m to add TheHive alert')\n",
    "    print(result.text)"
   ]
  },
  {
   "cell_type": "markdown",
   "id": "7d1c91e6-b57f-4006-804a-2b427c9960df",
   "metadata": {},
   "source": [
    "![helpers/playbook_query_cve_information_thehive.png](helpers/playbook_query_cve_information_thehive.png)"
   ]
  },
  {
   "cell_type": "markdown",
   "id": "6f59dcad-d93a-4848-bc05-2fb2cd92141e",
   "metadata": {},
   "source": [
    "## EN:5 Publish MISP event \n",
    "\n",
    "As a final step, you can choose the **publish** the MISP event. \n",
    "\n",
    "### Remaining workflow todo's\n",
    "\n",
    "This step will remove the **workflow** states incomplete, add a workflow state complete and then publish the event. The playbook will also remove the workflow **todo** tags. If you have not addressed them yet then now might be a good time to do that before publishing the event.\n",
    "\n",
    "### Publish\n",
    "\n",
    "Publishing MISP events makes the event available to your users and, depending on the synchronisation and distribution rules, will also sync it with other connected MISP servers. Publishing an event also typically makes the indicators available for your security controls to import them in their ruleset."
   ]
  },
  {
   "cell_type": "code",
   "execution_count": 25,
   "id": "c8009761-0466-43e7-a157-d91def29ab59",
   "metadata": {
    "tags": []
   },
   "outputs": [
    {
     "name": "stderr",
     "output_type": "stream",
     "text": [
      "Something went wrong (404): {'name': 'Could not remove tag as it is not attached to the target Event', 'message': 'Could not remove tag as it is not attached to the target Event', 'url': '/tags/removeTagFromObject'}\n",
      "Something went wrong (404): {'name': 'Could not remove tag as it is not attached to the target Event', 'message': 'Could not remove tag as it is not attached to the target Event', 'url': '/tags/removeTagFromObject'}\n"
     ]
    },
    {
     "name": "stdout",
     "output_type": "stream",
     "text": [
      "Removed workflow todo tags and removed incomplete tag. Added complete tag.\n",
      "Event CVE investigation for CVE-2021-44228 CVE-2022-41082 (3047 - aca12dc5-58b8-44fe-92e7-0433b3c762e4) is \u001b[92mpublished.\n",
      "\n"
     ]
    }
   ],
   "source": [
    "try:\n",
    "    misp.untag(misp_event.uuid, \"workflow:state=\\\"incomplete\\\"\")\n",
    "    misp.untag(misp_event.uuid, \"workflow:todo=\\\"review-for-privacy\\\"\")    \n",
    "    misp.untag(misp_event.uuid, \"workflow:todo=\\\"review-for-false-positive\\\"\")        \n",
    "    misp.tag(misp_event.uuid, \"workflow:state=\\\"complete\\\"\", local=True)\n",
    "    print(\"Removed workflow todo tags and removed incomplete tag. Added complete tag.\")\n",
    "    misp.publish(misp_event.uuid)\n",
    "    print(\"Event {} ({} - {}) is \\033[92mpublished.\\n\".format(misp_event.info, misp_event.id, misp_event.uuid))\n",
    "except:\n",
    "    print(\"\\033[91mFailed to publish\\033[90m event {} ({} - {}).\\n\".format(misp_event.info, misp_event.id, misp_event.uuid))"
   ]
  },
  {
   "cell_type": "markdown",
   "id": "09388283-e3bd-4776-80aa-0ebe101c11b0",
   "metadata": {},
   "source": [
    "### Even graph\n",
    "\n",
    "The MISP **Event graph** build out of this investigation of the CVE allows you to visually represent the objects, attributes and relations. You can export these graphs to JSON, JPEG, PNG or the dot format, which is useful if you want to include them in a **report**.\n",
    "\n",
    "It's possible to access \"saved\" event graphs via the **API**. If you have a graph, you can access them via `/event_graph/viewPicture/<mispevent_id>/<misp_eventgraph_id>`. First, **save a graph** in the MISP interface under Event graph and then execute the next cell. "
   ]
  },
  {
   "cell_type": "code",
   "execution_count": 28,
   "id": "b8a4bae5-16bf-40a1-9dbc-17ab81a2daad",
   "metadata": {
    "tags": []
   },
   "outputs": [
    {
     "data": {
      "image/png": "[encoded data removed]",
      "text/plain": [
       "<IPython.core.display.Image object>"
      ]
     },
     "metadata": {
      "image/png": {
       "width": 1200
      }
     },
     "output_type": "display_data"
    }
   ],
   "source": [
    "# Start with the first MISP Event graph\n",
    "misp_eventgraph_id = 12\n",
    "\n",
    "# We use the requests library and need to set the headers\n",
    "misp_headers = {\"Authorization\": misp_key,  \"Content-Type\": \"application/json\", \"Accept\": \"application/json\"}\n",
    "event_graph = requests.get(\"{}/event_graph/viewPicture/{}/{}\".format(misp_url, misp_event.id, misp_eventgraph_id), headers=misp_headers, verify=misp_verifycert)\n",
    "if event_graph.status_code == 200:\n",
    "    display(Image(event_graph.content, width=1200))\n",
    "else:\n",
    "    print(\"Event \\033[91mgraph not found\\033[90m. Continue with the playbook.\\n\\n\")"
   ]
  },
  {
   "cell_type": "markdown",
   "id": "498b8eff-7d1b-47b7-90c4-e13cc738b36c",
   "metadata": {},
   "source": [
    "## EN:6 End of the playbook "
   ]
  },
  {
   "cell_type": "code",
   "execution_count": 27,
   "id": "4c03bb30",
   "metadata": {},
   "outputs": [
    {
     "name": "stdout",
     "output_type": "stream",
     "text": [
      "\u001b[92m End of the playbook\n"
     ]
    }
   ],
   "source": [
    "print(\"\\033[92m End of the playbook\")\n"
   ]
  },
  {
   "cell_type": "markdown",
   "id": "b17af9f2",
   "metadata": {},
   "source": [
    "## External references\n",
    "\n",
    "- [The MISP Project](https://www.misp-project.org/)\n",
    "- [Mattermost](https://mattermost.com/)\n",
    "- [TheHive](https://thehive-project.org/)\n",
    "- [Mapping ATT&CK to CVE for impact](https://mitre-engenuity.org/cybersecurity/center-for-threat-informed-defense/our-work/mapping-attck-to-cve-for-impact/)"
   ]
  },
  {
   "cell_type": "markdown",
   "id": "e1c813f6",
   "metadata": {},
   "source": [
    "## Technical details \n",
    "\n",
    "### Documentation\n",
    "\n",
    "This playbook requires these Python **libraries** to exist in the environment where the playbook is executed. You can install them with `pip install <library>`.\n",
    "\n",
    "```\n",
    "pyfaup\n",
    "chardet\n",
    "PrettyTable\n",
    "ipywidgets\n",
    "```\n",
    "\n",
    "You need to have **network access** to \n",
    "- your MISP server (HTTP or HTTPS)\n",
    "- to your Mattermostand TheHive server\n",
    "- to the website of CVE Advanced (https://cvepremium.circl.lu-, Vulners (https://vulners.com), ExploitDB (https://gitlab.com/exploit-database) and IBM XForceExchange (https://exchange.xforce.ibmcloud.com)\n",
    "\n",
    "These **MISP modules** need to be enabled\n",
    "- cve_advanced\n",
    "- vulners\n",
    "- xforceexchange\n",
    "\n",
    "You need\n",
    "- an **API key with MISP**\n",
    "- - Under Global Actions, My Profile. Add an extra authentication key.\n",
    "- - Add the API key (`misp_key`) and the MISP URL (`misp_url`) to `keys.py`\n",
    "- - If you use a self-signed certificate set `misp_verifycert` to False\n",
    "- an **API key with Vulners**\n",
    "- - Add the API key (`vulners_apikey`) to `keys.py`.\n",
    "- an **API key with XForce Exchange**\n",
    "- - Add the API key (`xforce_apikey`) and API password (`xforce_apipassword`) to `keys.py`.\n",
    "- an **incoming webhook in your Mattermost server**\n",
    "- - Set this up under Integrations, Incoming Webhooks. Set as default channel your SOC/CSIRT team channel. For additional protection, lock the webhook so that the incoming webhook can post only to the selected channel.\n",
    "- - Add the webhook to `mattermost_hook`. It is displayed under 'integrations/incoming_webhooks' and set a username under `mattermost_playbook_user`\n",
    "- an **API key with your TheHive server**\n",
    "- - Click on your username (upper right corner), Settings and then API key\n",
    "- - Make sure that your user has 'manageAlert/create' privileges\n",
    "- - Add the API key (`thehive_key`) to `keys.py` and add the URL to TheHive (`thehive_url`)\n",
    "\n",
    "### Colour codes\n",
    "\n",
    "The output from Python displays some text in different colours. These are the colour codes\n",
    "\n",
    "```\n",
    "Red = '\\033[91m'\n",
    "Green = '\\033[92m'\n",
    "Blue = '\\033[94m'\n",
    "Cyan = '\\033[96m'\n",
    "White = '\\033[97m'\n",
    "Yellow = '\\033[93m'\n",
    "Magenta = '\\033[95m'\n",
    "Grey = '\\033[90m'\n",
    "Black = '\\033[90m'\n",
    "Default = '\\033[99m'\n",
    "```"
   ]
  },
  {
   "cell_type": "code",
   "execution_count": null,
   "id": "14dce812-e432-4c18-8358-f8b66e5b94a5",
   "metadata": {},
   "outputs": [],
   "source": []
  }
 ],
 "metadata": {
  "celltoolbar": "Attachments",
  "kernelspec": {
   "display_name": "Python 3 (ipykernel)",
   "language": "python",
   "name": "python3"
  },
  "language_info": {
   "codemirror_mode": {
    "name": "ipython",
    "version": 3
   },
   "file_extension": ".py",
   "mimetype": "text/x-python",
   "name": "python",
   "nbconvert_exporter": "python",
   "pygments_lexer": "ipython3",
   "version": "3.8.10"
  },
  "toc-showcode": false,
  "toc-showmarkdowntxt": false
 },
 "nbformat": 4,
 "nbformat_minor": 5
}
