{
 "cells": [
  {
   "cell_type": "markdown",
   "id": "2e2e9049-e732-4613-a41a-82cb02fbf7ab",
   "metadata": {
    "tags": [
     "playbook-introduction"
    ]
   },
   "source": [
    "# Create MISP objects and relationships\n",
    "\n",
    "## Introduction\n",
    "\n",
    "- UUID: **c0f920a6-37e1-47bb-92b8-1491dc710d39**\n",
    "- Started from [issue 11](https://github.com/MISP/misp-playbooks/issues/11)\n",
    "- State: **published** : demo version with **output**\n",
    "- Purpose: This playbook walks the analyst through the phases of creating MISP objects and adding a relationship between these objects. \n",
    "- - The playbook is typically *triggered* when an an analyst wants to add related, contextually linked, attributes to a MISP event.\n",
    "- - The objects are added to a new or an existing MISP event. The playbook prints out a summary that can be used to notify colleagues via Mattermost or other channels.\n",
    "- - The playbook uses an Emotet sample to demonstrate the functionality, with links from a file object to URL and HTTP request objects. It also creates the victim objects.\n",
    "- Tags: [ \"objects\", \"context\" ]\n",
    "- Target audience: **SOC, CSIRT, CTI**\n",
    "\n",
    "![helpers/playbook-create_MISP_objects_and_relationships.png](helpers/playbook-create_MISP_objects_and_relationships.png)"
   ]
  },
  {
   "cell_type": "markdown",
   "id": "3f47493d-a911-48d4-bf28-7f0668d7d38f",
   "metadata": {},
   "source": [
    "# Playbook\n",
    "\n",
    "- **Create MISP objects and relationships**\n",
    "- - Introduction\n",
    "- **Preparation**\n",
    "- - PR:1 Initialise environment\n",
    "- - PR:2 Load helper functions\n",
    "- - PR:3 Set helper variables\n",
    "- - PR:4 MISP event details\n",
    "- - PR:5 Setup MISP event link\n",
    "- - PR:6 Intro on MISP objects\n",
    "- **Investigate**\n",
    "- - IN:1 User input on the file sample\n",
    "- - IN:2 Categorisation and case context details\n",
    "- - IN:3 Create MISP objects\n",
    "- - IN:4 Add a file object\n",
    "- - IN:5 Add the URL and HTTP request objects\n",
    "- - IN:6 Add the victim objects\n",
    "- - IN:7 Create object relationships\n",
    "- - IN:8 Event graphs\n",
    "- **Extending MISP objects**\n",
    "- - EX:1 Extending the default list of MISP objects\n",
    "- - EX:2 Add custom MISP objects\n",
    "- - EX:3 Update custom MISP objects\n",
    "- - EX:4 Update the custom MISP object via the web user interface\n",
    "- - EX:5 Delete objects from an event\n",
    "- **Summary**\n",
    "- - EN:1 MISP indicators\n",
    "- - EN:2 Create the summary of the playbook\n",
    "- - EN:3 Print the summary of the playbook\n",
    "- - EN:4 Publish MISP event\n",
    "- - EN:5 End of the playbook\n",
    "- External references\n",
    "- Technical details\n"
   ]
  },
  {
   "cell_type": "markdown",
   "id": "d82b49d0-5d4f-4445-9c90-190128770045",
   "metadata": {
    "tags": []
   },
   "source": [
    "# Preparation\n",
    "\n",
    "## PR:1 Initialise environment\n",
    "\n",
    "This section **initialises the playbook environment** and loads the required Python libraries. \n",
    "\n",
    "The credentials for MISP (**API key**) and other services are loaded from the file `keys.py` in the directory **vault**. A [PyMISP](https://github.com/MISP/PyMISP) object is created to interact with MISP and the active MISP server is displayed. By printing out the server name you know that it's possible to connect to MISP. In case of a problem PyMISP will indicate the error with `PyMISPError: Unable to connect to MISP`.\n",
    "\n",
    "The contents of the `keys.py` file should contain at least :\n",
    "\n",
    "```\n",
    "misp_url=\"<MISP URL>\"                  # The URL to our MISP server\n",
    "misp_key=\"<MISP API KEY>\"              # The MISP API key\n",
    "misp_verifycert=<True or False>        # Indicate if PyMISP should attempt to verify the certificate or ignore errors\n",
    "```"
   ]
  },
  {
   "cell_type": "code",
   "execution_count": 2,
   "id": "5f94c336",
   "metadata": {
    "tags": []
   },
   "outputs": [
    {
     "name": "stdout",
     "output_type": "stream",
     "text": [
      "The \u001b[92mPython libraries\u001b[90m are loaded and the \u001b[92mcredentials\u001b[90m are read from the keys file.\n",
      "I will use the MISP server \u001b[92mhttps://misp.demo.cudeso.be/\u001b[90m for this playbook.\n",
      "\n",
      "\n"
     ]
    }
   ],
   "source": [
    "# Initialise Python environment\n",
    "import urllib3\n",
    "import sys\n",
    "import json\n",
    "from pyfaup.faup import Faup\n",
    "from prettytable import PrettyTable, MARKDOWN\n",
    "from IPython.display import Image, display, display_markdown, HTML\n",
    "from datetime import date\n",
    "import requests\n",
    "import uuid\n",
    "from uuid import uuid4\n",
    "from pymisp import *\n",
    "from pymisp.tools import GenericObjectGenerator\n",
    "\n",
    "# Load the credentials\n",
    "sys.path.insert(0, \"../vault/\")\n",
    "from keys import *\n",
    "if misp_verifycert is False:\n",
    "    import urllib3\n",
    "    urllib3.disable_warnings(urllib3.exceptions.InsecureRequestWarning)\n",
    "print(\"The \\033[92mPython libraries\\033[90m are loaded and the \\033[92mcredentials\\033[90m are read from the keys file.\")\n",
    "\n",
    "# Create the PyMISP object\n",
    "misp = PyMISP(misp_url, misp_key, misp_verifycert)\n",
    "print(\"I will use the MISP server \\033[92m{}\\033[90m for this playbook.\\n\\n\".format(misp_url))"
   ]
  },
  {
   "cell_type": "markdown",
   "id": "e4af5f3c-e3c0-4db3-820e-5e487e14a9ed",
   "metadata": {
    "tags": []
   },
   "source": [
    "## PR:2 Load helper functions\n",
    "\n",
    "The next cell contains **helper functions** that are used in this playbook. \n",
    "\n",
    "Instead of distributing helper functions as separate Python files this playbook includes all the required code as one code cell. This makes portability of playbooks between instances easier. The downside is that functions defined in this playbook need to be defined again in other playbooks, which is not optimal for code re-use. For this iteration of playbooks it is chosen to include the code in the playbook (more portability), but you can easily create one \"helper\" file that contains all the helper code and then import that file in each playbook (for example by adding to the previous cell `from helpers import *`). Note that the graphical workflow image is included as an external image. A missing image would not influence the further progress of the playbook.\n",
    "\n",
    "To avoid cluttering the output of the playbook the next code cell is **collapsed**. You still **need to execute it**, but you can leave the cell collapsed. Click on the cell to expand it, click on the left bar that indicates the active cell in the Jupyter notebook to collapse it again."
   ]
  },
  {
   "cell_type": "code",
   "execution_count": 3,
   "id": "f71bc592-c628-4155-a695-c4afdeb0a584",
   "metadata": {
    "tags": []
   },
   "outputs": [
    {
     "name": "stdout",
     "output_type": "stream",
     "text": [
      "Helper \u001b[92mfunctions\u001b[90m loaded.\n",
      "\n",
      "\n"
     ]
    }
   ],
   "source": [
    "def pb_print_object_definition(misp, object_template):\n",
    "    '''\n",
    "    Print the raw object template\n",
    "\n",
    "    :param misp: MISP object\n",
    "    :param object_template: which object template to return\n",
    "    '''\n",
    "\n",
    "    if object_template:\n",
    "        object_definition = misp.get_raw_object_template(object_template)  # get_raw_object_template does not support pythonify\n",
    "        if \"errors\" not in object_definition:\n",
    "            from prettytable import PrettyTable\n",
    "            object_definition_table = PrettyTable()\n",
    "            object_definition_table.title = \"MISP object definition for '{}'\".format(object_template)\n",
    "            object_definition_table.field_names = [\"Object attribute name\", \"Description\", \"MISP attribute type\", \"Multiple allowed?\"]\n",
    "            object_definition_table.align[\"Object attribute name\"] = \"l\"\n",
    "            object_definition_table.align[\"Description\"] = \"l\"\n",
    "            object_definition_table.align[\"MISP attribute type\"] = \"l\"\n",
    "            object_definition_table.sortby = \"Object attribute name\"\n",
    "            object_definition_table.border = True\n",
    "\n",
    "            for attribute in object_definition[\"attributes\"]:\n",
    "                attribute_details = object_definition[\"attributes\"][attribute]\n",
    "                multiple = False\n",
    "                if attribute_details.get(\"multiple\", False):\n",
    "                    multiple = True\n",
    "                object_definition_table.add_row([attribute, attribute_details[\"description\"][:50], attribute_details[\"misp-attribute\"], multiple])\n",
    "            print(object_definition_table)\n",
    "            if \"required\" in object_definition:\n",
    "                print(\"required\", object_definition[\"required\"])\n",
    "            elif \"requiredOneOf\" in object_definition:\n",
    "                print(\"requiredOneOf\", object_definition[\"requiredOneOf\"])\n",
    "        else:\n",
    "            print(\"Error: {} for template {}\".format(object_definition[\"errors\"][1][\"message\"], object_template))\n",
    "            return False\n",
    "    else:\n",
    "        print(\"No object template supplied\")\n",
    "        return False\n",
    "\n",
    "def pb_get_misp_tags(tags=[], local_tags=[]):\n",
    "    '''\n",
    "    Get a list of MISP tags based on a Python list\n",
    "\n",
    "    :param misp: MISP object\n",
    "    :param object_template: which object template to return\n",
    "    '''\n",
    "    misp_tags = []\n",
    "    for el in tags:\n",
    "        t = MISPTag()\n",
    "        t.name = el\n",
    "        t.local = False\n",
    "        misp_tags.append(t)\n",
    "\n",
    "    for el in local_tags:\n",
    "        t = MISPTag()\n",
    "        t.name = el\n",
    "        t.local = True\n",
    "        misp_tags.append(t)\n",
    "    return misp_tags\n",
    "\n",
    "print(\"Helper \\033[92mfunctions\\033[90m loaded.\\n\\n\")"
   ]
  },
  {
   "cell_type": "markdown",
   "id": "628723a6-7342-4b1c-ba17-fc34ff7e0a05",
   "metadata": {},
   "source": [
    "## PR:3 Set helper variables\n",
    "\n",
    "This cell contains **helper variables** that are used in this playbook. Their usage is explained in the next steps of the playbook.\n",
    "\n",
    "- `playbook_objects` : a dictionary of the objects that are created when the playbook progresses"
   ]
  },
  {
   "cell_type": "code",
   "execution_count": 4,
   "id": "3d07ede3-8f05-4602-bbf7-f1675a3f232c",
   "metadata": {
    "tags": []
   },
   "outputs": [
    {
     "name": "stdout",
     "output_type": "stream",
     "text": [
      "Helper \u001b[92mvariables\u001b[90m loaded.\n",
      "\n",
      "\n"
     ]
    }
   ],
   "source": [
    "playbook_objects = {}\n",
    "\n",
    "print(\"Helper \\033[92mvariables\\033[90m loaded.\\n\\n\")"
   ]
  },
  {
   "cell_type": "markdown",
   "id": "99a719c0-383e-4f84-899a-ecec24cf49e9",
   "metadata": {},
   "source": [
    "## PR:4 MISP event details\n",
    "\n",
    "### Event title\n",
    "\n",
    "Now decide if you want to create a **new** MISP event or add data to an **existing** MISP event (referenced via its UUID). If you create a new event then its good practice to choose a self-explanatory **event title**. This event title is shown in the MISP event index and should provide you the necessary information what the event is about. You should avoid using generic event titles. Read the [Best Practices in Threat Intelligence](https://www.misp-project.org/best-practices-in-threat-intelligence.html) for further guidance.\n",
    "\n",
    "### Contexualisation\n",
    "\n",
    "This playbook adds event contexualisation via the **tags** that are defined in `event_additional_global_tags` (for *global* tags) and `event_additional_global_tags` (for *local* tags). As a reminder, whereas *global* tags remain attached to the events that you share with your community, the *local* tags are not shared outside your organisation. It's also a good idea to primarily use tags that are part of a [taxonomy](https://github.com/MISP/misp-taxonomies), this allows you to make the contexualisation more portable accross multiple MISP instances.\n",
    "\n",
    "In this playbook the list of tags is build via one of the helper functions `pb_get_misp_tags`. This function takes two arguments, first a list of tags to convert as *global* tags, and secondly a list of tags to convert as *local* tags. \n",
    "\n",
    "### Traffic Light Protocol\n",
    "\n",
    "The default **TLP** for this event is **<span style='color:#FFBF00'>tlp:amber</span>**. The Traffic Light Protocol (TLP) facilitates sharing of potentially sensitive information and allows for more effective collaboration. TLP is a set of four standard labels to indicate the sharing boundaries to be applied by the recipients. TLP is always set by the creator of information. You can find more information at [FIRST](https://www.first.org/tlp/). You can specify TLP via `event_tlp`.\n",
    "\n",
    "### MISP distribution, threat level and analysis level\n",
    "\n",
    "Optionally you can specifiy a MISP **distribution** (with `event_distribution`), **threat level** (with `event_threat_level_id`) or **analysis state** (with `event_analysis`). The event **date** is set to today via `event_date`.\n",
    "\n",
    "If you cannot remember the options for distribution, threat level or the analysis state then use the next cell to guide you. This cell is set as **raw**. If you **change its type to code** and execute the cell you get an overview of the options available for creating a MISP event."
   ]
  },
  {
   "cell_type": "raw",
   "id": "56017709-eb9d-42b5-a5df-b8fb85f04514",
   "metadata": {
    "tags": []
   },
   "source": [
    "# This cell is 'raw' by default. Change it to 'code' to execute it.\n",
    "\n",
    "print(\"Distribution value\")\n",
    "for e in Distribution:\n",
    "    print(\" \", e.value, \"=\", e)\n",
    "print(\"\\n\")\n",
    "print(\"Threat level\")\n",
    "for e in ThreatLevel:\n",
    "    print(\" \", e.value, \"=\", e)\n",
    "print(\"\\n\")\n",
    "print(\"Analysis level\")\n",
    "for e in Analysis:\n",
    "    print(\" \", e.value, \"=\", e)"
   ]
  },
  {
   "cell_type": "markdown",
   "id": "adbfeaf1-ab18-4c43-ae8e-fc802ea689cc",
   "metadata": {},
   "source": [
    "## PR:5 Setup MISP event link\n",
    "\n",
    "Provide your **user input** via the variable `event_input`.\n",
    "\n",
    "If you want to **create a new event** then provide the MISP event title in `event_input`. We will use the PyMISP function [add_event](https://pymisp.readthedocs.io/en/latest/_modules/pymisp/api.html#PyMISP.add_event) to create the MISP event.\n",
    "\n",
    "If you want to add the results of the playbook to an **existing event**, then add the MISP event UUID to `event_input`. In this case we check that you provide a valid UUID4 and use the PyMISP function [get_event](https://pymisp.readthedocs.io/en/latest/_modules/pymisp/api.html#PyMISP.get_event) to query the MISP server for the provided UUID. We also request the response to be returned as a PyMISP object with `pythonify=True`. If the event does not exist then PyMISP will return an error."
   ]
  },
  {
   "cell_type": "code",
   "execution_count": 5,
   "id": "781e9b2f-2110-409d-a375-a6c0947a03f4",
   "metadata": {
    "tags": []
   },
   "outputs": [],
   "source": [
    "# Provide the event title for a new event or valid MISP event UUID to add to an existing event\n",
    "#event_input = \"9cf8cac1-845e-44db-af1f-266e858d63b5\"\n",
    "event_input = \"Demo Event Create MISP objects and relations\"\n",
    "\n",
    "# Optionally, you can change TLP, add additional event (local and global) tags, threatlevel, analysis state or distribution level\n",
    "event_tlp = \"tlp:amber\"\n",
    "\n",
    "# Event context\n",
    "event_additional_global_tags = []                                 # This needs to be a Python list\n",
    "event_additional_local_tags = [\"workflow:state=\\\"incomplete\\\"\"]   # This needs to be a Python list\n",
    "\n",
    "# Additional MISP event settings\n",
    "event_threat_level_id = ThreatLevel.low\n",
    "event_analysis = Analysis.ongoing\n",
    "event_distribution = Distribution.your_organisation_only\n",
    "event_date = date.today()"
   ]
  },
  {
   "cell_type": "code",
   "execution_count": 6,
   "id": "667a1d7f-cabf-47ed-9883-f16510f85c6f",
   "metadata": {
    "tags": []
   },
   "outputs": [
    {
     "name": "stdout",
     "output_type": "stream",
     "text": [
      "Continue the playbook with the new \u001b[92mcreated\u001b[90m MISP event ID 2590 with UUID ead00dd5-1fc0-4c4f-93bf-0b95edcb4433\n",
      "\u001b[92mAdded\u001b[90m event tag tlp:amber\n",
      "\u001b[92mAdded\u001b[90m event tag workflow:state=\"incomplete\"\n",
      "\n",
      "\n",
      "\n"
     ]
    }
   ],
   "source": [
    "# Code block to create the event or add data to an existing event\n",
    "event_input = event_input.strip()\n",
    "new_event = False\n",
    "misp_event = False\n",
    "\n",
    "# Check if we received a valid UUID\n",
    "try:\n",
    "    uuid.UUID(str(event_input))\n",
    "except ValueError:\n",
    "    new_event = True\n",
    "\n",
    "# Decide if we start with a new event or add to an existing one\n",
    "if not new_event:   \n",
    "    misp_event = misp.get_event(event_input, pythonify=True)\n",
    "    if \"errors\" in misp_event:\n",
    "        misp_event = False\n",
    "        print(\"\\033[91mUnable to proceed.\\033[90m \\nEither the MISP event does not exist or the UUID is not in the correct format.\")\n",
    "        print(\"Go back to the previous (code) cell and adjust the input.\\n\\n\")\n",
    "    else:\n",
    "        print(\"Continue the playbook with adding data to an \\033[92mexisting MISP event\\033[90m: {} ({}).\\n\\n\".format(misp_event.info, misp_event.uuid))\n",
    "else:\n",
    "    # Set the tags, or default to an empty list in case of wrong types\n",
    "    if type(event_tlp) == str and type(event_additional_global_tags) == list and type(event_additional_local_tags) == list:\n",
    "        event_additional_global_tags.append(event_tlp)\n",
    "        misp_event_tags = pb_get_misp_tags(event_additional_global_tags, event_additional_local_tags)\n",
    "    else:\n",
    "        print(\"\\033[91mWrong types\\033[90m specified for the tags. I will not add tags to the event.\")\n",
    "        misp_event_tags = []\n",
    "        \n",
    "    # Create the PyMISP object for an event\n",
    "    event = MISPEvent()\n",
    "    event.info = event_input\n",
    "    event.distribution = event_distribution\n",
    "    event.threat_level_id = event_threat_level_id\n",
    "    event.analysis = event_analysis\n",
    "    event.set_date(event_date)\n",
    " \n",
    "    # Create the MISP event on the server side\n",
    "    misp_event = misp.add_event(event, pythonify=True)\n",
    "    print(\"Continue the playbook with the new \\033[92mcreated\\033[90m MISP event ID {} with UUID {}\".format(misp_event.id, misp_event.uuid))\n",
    "    for el in misp_event_tags:\n",
    "        misp.tag(misp_event.uuid, el, local=el.local)\n",
    "        print(\"\\033[92mAdded\\033[90m event tag {}\".format(el.name))\n",
    "    print(\"\\n\\n\")"
   ]
  },
  {
   "cell_type": "markdown",
   "id": "aa9c2530-27b1-48bc-be6e-633f74de221a",
   "metadata": {
    "tags": []
   },
   "source": [
    "## PR:6 Intro on MISP objects \n",
    "\n",
    "### What are MISP objects?\n",
    "\n",
    "MISP objects are **containers around contextually linked attributes**. They support analysts in grouping related attributes and describing the relations that exist between the data points in a threat event. Combining these objects and relations is something that can then be used to represent the story of what is being told in a threat event.\n",
    "\n",
    "MISP supports a large list of objects such as\n",
    "\n",
    "- AV-signature: an antivirus detection signature;\n",
    "- Domain/IP: document a tuple domain, hostname and IP address;\n",
    "- File: describing a file with meta information;\n",
    "- Organization: an object to describe an organization.\n",
    "\n",
    "All these objects are available via the [MISP-Objects GitHub repository](https://github.com/MISP/misp-objects) and directly accessible from MISP (via Global Actions, List Object Templates).\n",
    "\n",
    "### MISP objects available on your server\n",
    "\n",
    "Execute the next cell to know how many MISP objects are available on your server."
   ]
  },
  {
   "cell_type": "code",
   "execution_count": 7,
   "id": "4a2eca23-d3fa-499a-b708-3f535db81d9b",
   "metadata": {
    "tags": []
   },
   "outputs": [
    {
     "name": "stdout",
     "output_type": "stream",
     "text": [
      "There are \u001b[92m297\u001b[90m MISP objects definitions available on your server.\n",
      "\n",
      "\n"
     ]
    }
   ],
   "source": [
    "misp_object_templates = misp.object_templates(pythonify=True)\n",
    "print(\"There are \\033[92m{}\\033[90m MISP objects definitions available on your server.\\n\\n\".format(len(misp_object_templates)))"
   ]
  },
  {
   "cell_type": "markdown",
   "id": "30fcf90a-dbfa-4489-9c0e-a927c65cef08",
   "metadata": {},
   "source": [
    "![helpers/playbook-create_MISP_objects_and_relationships_objects.png](helpers/playbook-create_MISP_objects_and_relationships_objects.png)"
   ]
  },
  {
   "cell_type": "markdown",
   "id": "32ff6a33-5ca2-485f-8c15-dcb16b547307",
   "metadata": {},
   "source": [
    "### Detailed view of MISP objects available on your server\n",
    "\n",
    "You can get a **detailed view of the available MISP object templates** with the help of the next cell. This cell is set as raw. If you change the cell type to **code** and execute the cell you will get an overview of the object templates that are available on your server. The list is sorted according to the **name** of the object template."
   ]
  },
  {
   "cell_type": "raw",
   "id": "fc093557-5e27-4f9a-a189-5af05e58c374",
   "metadata": {
    "tags": []
   },
   "source": [
    "# This cell is 'raw' by default. Change it to 'code' to execute it.\n",
    "\n",
    "object_templates_table = PrettyTable()\n",
    "object_templates_table.title = \"Available MISP object templates\"\n",
    "object_templates_table.field_names = [\"id\", \"name\", \"uuid\"]\n",
    "object_templates_table.align[\"name\"] = \"l\"\n",
    "object_templates_table.add_rows([template.id, template.name, template.uuid] for template in misp_object_templates)\n",
    "print(object_templates_table.get_string(sortby=(\"name\")))"
   ]
  },
  {
   "cell_type": "markdown",
   "id": "2db3e316-3747-4bc7-ab67-87b52a8b7c4f",
   "metadata": {},
   "source": [
    "### MISP object definitions\n",
    "\n",
    "Before you add an object to MISP it is useful to know the requirements, or the attributes, that are essential for an object. You can do this by reading the documentation in the GitHub repository but you can also do this directly with the help of PyMISP. The function `get_raw_object_template` queries MISP for the raw template in your MISP server. The exact object definitions are not that relevant to execute this playbook but then can be useful if you want to further extend the playbook. \n",
    "\n",
    "The next cell looks up the **MISP object definitions** and prints the details in an easy to use table. This cell is set as raw. If you change the cell type to **code** and execute the cell you will get the object definitions as defined in your MISP server. This makes use of one of the helper functions `pb_print_object_definition`."
   ]
  },
  {
   "cell_type": "raw",
   "id": "12bfa16e-3943-4738-9778-e1736aa6c382",
   "metadata": {
    "tags": []
   },
   "source": [
    "# This cell is 'raw' by default. Change it to 'code' to execute it.\n",
    "\n",
    "for el in [\"file\", \"url\", \"http-request\", \"victim\"]:\n",
    "    pb_print_object_definition(misp, el)"
   ]
  },
  {
   "cell_type": "markdown",
   "id": "7a372d67-734c-4a0f-acad-d25246859e5c",
   "metadata": {
    "tags": []
   },
   "source": [
    "![helpers/playbook-create_MISP_objects_and_relationships_objects-definition.png](helpers/playbook-create_MISP_objects_and_relationships_objects-definition.png)"
   ]
  },
  {
   "cell_type": "markdown",
   "id": "cd74a617-11a3-4677-8643-faafd3ab212f",
   "metadata": {},
   "source": [
    "# Investigate\n",
    "\n",
    "## IN:1 User input on the file sample \n",
    "\n",
    "In this playbook we assume we have a sample of **Emotet** and have been able to extract the file details as well as the URLs to which it connects.\n",
    "\n",
    "According to [VMRay](https://www.vmray.com/glossary/emotet/), Emotet is a malware family that in its earliest iterations functioned primarily as a banking trojan that attempted to steal financial credentials by intercepting a target system’s network traffic. In later iterations, malware authors took advantage of its persistence and ability to propagate across networks to adapt it into a robust delivery mechanism for spam and even other malware, including the Qakbot and Trickbot Trojan(s), as well as the Ryuk ransomware.\n",
    "\n",
    "In this playbook we store the extracted values in a dictionary `case_details`. In future extensions of this playbook you can let this dictionary be prefilled with information from your case handling system. This dictionary contains these fields\n",
    "\n",
    "- `filename`    : **Filename** of the sample. Provide none or one value.\n",
    "- `md5`         : **MD5** hash of the sample. Provide none or one value.\n",
    "- `sha256`      : **SHA256** hash of the sample. Provide none or one value.\n",
    "- `virustotal`  : An *optional* reference to a **VirusTotal Report**. Provide one URL\n",
    "- `requests`    : A list of dictionaries that specify the HTTP method used to contact a specific URL, in the format { \"HTTP_METHOD\": \"URL\"}\n",
    "- `victims`     : A list of victims. Provide one victim string or a list of victim strings;\n",
    "\n",
    "You need to specify at least the **requests** key. The playbook also needs either a **filename, MD5 or SHA256** (or a combination of these keys)."
   ]
  },
  {
   "cell_type": "markdown",
   "id": "433944b7-b914-4ab7-affc-702d4eea4299",
   "metadata": {},
   "source": [
    "### Case details\n",
    "\n",
    "The next cell fills the dictionary `case_details` with the required **user input** and is the <font color='red'>central piece of this playbook</font>. Do not forget to complete it!"
   ]
  },
  {
   "cell_type": "code",
   "execution_count": 9,
   "id": "edb4d725-fd1b-4911-9423-6ce5d1697dde",
   "metadata": {
    "tags": []
   },
   "outputs": [],
   "source": [
    "# Case details\n",
    "\n",
    "case_details = {\n",
    "    \"filename\"   : \"jgm1GEN.dll\",\n",
    "    \"md5\"        : \"8b3f3e3028c5c934654509cb18307dc7\",\n",
    "    \"sha256\"     : \"14c829d93436c24a6c271b53dbf80f2c4419b30698aee78558c8f5494ad12c96\",\n",
    "    \"virustotal\" : \"https://www.virustotal.com/gui/file/14c829d93436c24a6c271b53dbf80f2c4419b30698aee78558c8f5494ad12c96\",    \n",
    "    \"requests\"   : [{\"get\": \"http://12.195.47.98:7080/\"}, {\"get\": \"http://67.254.13.154/\"}],\n",
    "    \"victims\"    : [\"BigBrand\", \"AnotherBigBrand\"]\n",
    "    }"
   ]
  },
  {
   "cell_type": "code",
   "execution_count": 10,
   "id": "1b257135-64f1-4742-b220-59857ffcfe03",
   "metadata": {
    "tags": []
   },
   "outputs": [
    {
     "name": "stdout",
     "output_type": "stream",
     "text": [
      "All required fields present. \u001b[92mContinue\u001b[90m with the investigation.\n",
      "\n",
      "\n"
     ]
    }
   ],
   "source": [
    "# A simple check to verify that all required fields are present.\n",
    "required_fields_present = False\n",
    "if len(case_details.get(\"requests\", \"\")) > 0 and (len(case_details.get(\"filename\", \"\")) > 0 or len(case_details.get(\"md5\", \"\")) > 0 or len(case_details.get(\"sha256\", \"\")) > 0):\n",
    "    required_fields_present = True\n",
    "\n",
    "if not required_fields_present:\n",
    "    print(\"\\033[91mCannot continue\\033[90m when not all required fields for the investigation are provided.\\n\\n\")\n",
    "else:\n",
    "    print(\"All required fields present. \\033[92mContinue\\033[90m with the investigation.\\n\\n\")"
   ]
  },
  {
   "cell_type": "markdown",
   "id": "036a1f43-253e-435a-993a-435d57c7b1d1",
   "metadata": {},
   "source": [
    "## IN:2 Categorisation and case context details\n",
    "\n",
    "In this section you can set the context details (tags) for the attributes that are part of the MISP objects. You can leave most of these variables to their default settings.\n",
    "\n",
    "### PAP\n",
    "\n",
    "The default **PAP** code is **<span style='color:green'>PAP:GREEN</span>**. In this playbook PAP is attached to the attributes. The Permissible Actions Protocol (PAP) was designed to indicate how received information can be used. It uses a colour code similar as TLP and describes how much that we accept that an attacker can detect of the current analysis state or defensive actions. Read more about PAP on the [MISP taxonomy website](https://www.misp-project.org/taxonomies.html#_pap). You can specify PAP via `attribute_pap`.\n",
    "\n",
    "### Courses of action\n",
    "\n",
    "The **courses of action** matrix describes passive and active actions that defenders can take with a varying type of impact on the attacker (or intrusion). In this playbook the CoA is attached to attributes. You can read more about how PAP and CoA work together in this [blog post](https://www.vanimpe.eu/2020/12/28/how-to-support-defenders-with-the-permissible-actions-protocol/). In this playbook we use\n",
    "- the **discover** course of action to indicate we want to query our logs for traffic towards one of the URLs or the presence of file indicators. This is a form of **retro-search**;\n",
    "- the **detect** course of action, to setup rules to detect future traffic to the URLs, as well as detecting the presence of the file indicators. This is **alerting**;\n",
    "- the **deny** course of action, to deny traffic to the URLs and prevent the file from being executed on expoints. This is **blocking**.\n",
    "\n",
    "You can specify the contextualisation via a dictionary with a course of action per attribute type via `attribute_course_of_action`. The playbook will translate the dictionary to the corresponding tags and add them to the attributes that are part of the objects.\n",
    "\n",
    "```\n",
    "attribute_course_of_action = {\n",
    "    \"file\": [\"discover\", \"detect\", \"deny\"],\n",
    "    \"network\": [\"discover\", \"detect\", \"deny\"]\n",
    "    }\n",
    "```\n",
    "\n",
    "### Privacy\n",
    "\n",
    "There might also be attributes that you want to keep track of but never want to share outside your organisation. You can tag these attributes with tags indicating that they are sensitive or privacy related.\n",
    "\n",
    "- `attribute_tags_private`: Attributes that should never be shared outside your organisation, either because of their sensitivity or because of privacy related information.\n",
    "\n",
    "### Galaxies and clusters\n",
    "\n",
    "This playbook also adds a MISP **galaxy** referring to Emotet ([S0367](https://attack.mitre.org/software/S0367/))"
   ]
  },
  {
   "cell_type": "code",
   "execution_count": 11,
   "id": "d7f7d600-1bc9-4dcb-8752-1dbaa86a3f07",
   "metadata": {
    "tags": []
   },
   "outputs": [],
   "source": [
    "# Set the course of action per attribute type\n",
    "attribute_course_of_action = { \n",
    "    \"file\": [\"discover\", \"detect\", \"deny\"],\n",
    "    \"url\": [\"discover\", \"detect\", \"deny\"],\n",
    "    \"domain\": [\"discover\", \"detect\"],\n",
    "    \"subdomain\": [\"discover\", \"detect\"],\n",
    "}\n",
    "\n",
    "# Default PAP\n",
    "attribute_pap = \"PAP:GREEN\"\n",
    "\n",
    "# Tags for \"private\" attributes\n",
    "attribute_tags_private = pb_get_misp_tags([\"tlp:red\"], [\"workflow:todo=\\\"review-for-privacy\\\"\"])\n",
    "\n",
    "# Tags to add for linking a galaxy to Emotet.\n",
    "attribute_tags_galaxy = pb_get_misp_tags([\"misp-galaxy:mitre-malware=\\\"Emotet - S0367\\\"\"])"
   ]
  },
  {
   "cell_type": "code",
   "execution_count": 12,
   "id": "62c384b2-5eb0-4d1e-804e-177dce942d4f",
   "metadata": {
    "tags": []
   },
   "outputs": [
    {
     "name": "stdout",
     "output_type": "stream",
     "text": [
      "Converted user input to usable list of tags. \u001b[92mContinue\u001b[90m with the investigation.\n",
      "\n",
      "\n"
     ]
    }
   ],
   "source": [
    "# Convert the tag matrix to something we can use for tagging the attributes\n",
    "attribute_tags = {}\n",
    "for target in attribute_course_of_action:\n",
    "    tag_list = []\n",
    "    for action in attribute_course_of_action[target]:\n",
    "        if action.lower() in [\"discover\", \"detect\"]:\n",
    "            tag_list.append(\"course-of-action:{}=\\\"{}\\\"\".format(\"passive\", action.lower()))\n",
    "        elif action.lower() in [\"decieve\", \"degrade\", \"deny\", \"destroy\", \"disrupt\"]:\n",
    "            tag_list.append(\"course-of-action:{}=\\\"{}\\\"\".format(\"active\", action.lower()))\n",
    "    tag_list.append(attribute_pap.upper())\n",
    "    attribute_tags[target] = pb_get_misp_tags(tag_list)\n",
    "\n",
    "print(\"Converted user input to usable list of tags. \\033[92mContinue\\033[90m with the investigation.\\n\\n\")"
   ]
  },
  {
   "cell_type": "markdown",
   "id": "043823b8-3571-43c4-bda4-359573c6e176",
   "metadata": {},
   "source": [
    "## IN:3 Create MISP objects \n",
    "\n",
    "You have previously provided the **user input** via the dictionary `case_details`. Now we build MISP objects based your input.\n",
    "\n",
    "## IN:4 Add a file object \n",
    "\n",
    "First we add a file object. If you forgot how a file object looks like then scroll up to the section on **MISP object definitions** and review its definition. For a file object to be valid it needs at least one of filename, MD5 or SHA256 (there are other fields, but that's all we have in our example).\n",
    "\n",
    "Adding a file object consists of first creating the PyMISP object for **MISPObject** and then **adding attributes** to that object. And as a last step we add the object to the event and store its reference in `playbook_objects`.\n",
    "\n",
    "Because a filename is not always a good indicator for detection we override the object defaults for the to_ids flag and disable it. For reference, the MISP to_ids flag represents whether the attribute is meant to be 'actionable'."
   ]
  },
  {
   "cell_type": "code",
   "execution_count": 13,
   "id": "25e8def6-cedf-4eb2-9c64-65da85c182c5",
   "metadata": {
    "tags": []
   },
   "outputs": [
    {
     "name": "stdout",
     "output_type": "stream",
     "text": [
      "\u001b[92mFile\u001b[90m object added: 7a7fa48d-7fbd-4fb8-a929-4b7ab6ea5784.\n",
      "\n",
      "\n"
     ]
    }
   ],
   "source": [
    "# Create the file object and attach it to the MISP event\n",
    "emotet_sample = MISPObject('file')\n",
    "emotet_sample.comment = \"Emotet sample\"\n",
    "emotet_sample.add_attribute(\"filename\", case_details[\"filename\"], to_ids = False, tags=attribute_tags_galaxy) # Do not do detection on filename\n",
    "emotet_sample.add_attribute(\"md5\", case_details[\"md5\"], tags=attribute_tags[\"file\"] + attribute_tags_galaxy)\n",
    "emotet_sample.add_attribute(\"sha256\", case_details[\"sha256\"], tags=attribute_tags[\"file\"] + attribute_tags_galaxy)\n",
    "playbook_objects[\"emotet_sample\"] = misp.add_object(misp_event.uuid, emotet_sample, pythonify=True)\n",
    "print(\"\\033[92mFile\\033[90m object added: {}.\\n\\n\".format(playbook_objects[\"emotet_sample\"].uuid))"
   ]
  },
  {
   "cell_type": "markdown",
   "id": "ee11e90e-a6e8-4cca-813b-f8a7493a5c6f",
   "metadata": {},
   "source": [
    "## IN:5 Add the URL and HTTP request objects \n",
    "\n",
    "Next we add the URL objects. In this playbook we use the [Faup](https://github.com/stricaud/faup) library to extract the elements of an URL and then use them in a **MISP object**. Faup stands for Finally An Url Parser and is a library and command line tool to parse URLs and normalize fields. Because Emotet can connect to multiple URLs we create these objects in a for loop.\n",
    "\n",
    "Next to the URL objects we create an additional object, the **http-request** object. This allows us to identify if the malware uses HTTP GET or HTTP POST requests.\n",
    "\n",
    "Where possible (depending on the extraction via Faup) we also add the domain, subdomains, schema and query_strings to the URL object."
   ]
  },
  {
   "cell_type": "code",
   "execution_count": 14,
   "id": "31933afb-c5b8-4a2e-83aa-b73d5d40e24b",
   "metadata": {
    "tags": []
   },
   "outputs": [
    {
     "name": "stderr",
     "output_type": "stream",
     "text": [
      "The value of the attribute you're trying to add is None, skipping it. Object relation: subdomain\n",
      "The value of the attribute you're trying to add is None, skipping it. Object relation: query_string\n",
      "The value of the attribute you're trying to add is None, skipping it. Object relation: port\n",
      "The value of the attribute you're trying to add is None, skipping it. Object relation: subdomain\n",
      "The value of the attribute you're trying to add is None, skipping it. Object relation: query_string\n"
     ]
    },
    {
     "name": "stdout",
     "output_type": "stream",
     "text": [
      "\u001b[92mURL\u001b[90m object added for http://12.195.47.98:7080/: 7b045176-c810-4dc9-8e41-13ca71546925.\n",
      "\u001b[92mHTTP-request\u001b[90m object added for http://12.195.47.98:7080/: 8ff19eae-4916-4e50-96be-5340a8ee81ff.\n",
      "\n",
      "\n",
      "\u001b[92mURL\u001b[90m object added for http://67.254.13.154/: a3aa2d27-cfbb-41ee-9ac2-fdfbaf2acee0.\n",
      "\u001b[92mHTTP-request\u001b[90m object added for http://67.254.13.154/: 5e83976c-9044-46d9-8a0c-5db3f1079d7f.\n",
      "\n",
      "\n"
     ]
    }
   ],
   "source": [
    "# Create one or more URL objects and http-request objects and attach them to the MISP event\n",
    "playbook_objects[\"requests\"] = []\n",
    "for request in case_details[\"requests\"]:\n",
    "    method, url = list(request.items())[0]\n",
    "    fp = Faup()\n",
    "    fp.decode(url)\n",
    "    parsed_url = fp.get()\n",
    "    emotet_url = MISPObject(\"url\")\n",
    "    emotet_url.add_attribute(\"url\", url, tags=attribute_tags[\"url\"] + attribute_tags_galaxy)\n",
    "    emotet_url.add_attribute(\"domain\", parsed_url.get(\"domain\", False), tags=attribute_tags[\"domain\"])    \n",
    "    emotet_url.add_attribute(\"scheme\", parsed_url.get(\"scheme\", False))\n",
    "    emotet_url.add_attribute(\"port\", parsed_url.get(\"port\", False))\n",
    "    emotet_url.add_attribute(\"subdomain\", parsed_url.get(\"subdomain\", False), tags=attribute_tags[\"subdomain\"])\n",
    "    emotet_url.add_attribute(\"query_string\", parsed_url.get(\"query_string\", False))\n",
    "    \n",
    "    emotet_http_request = MISPObject('http-request')\n",
    "    emotet_http_request.add_attribute(\"url\", url, tags=attribute_tags[\"url\"] + attribute_tags_galaxy)\n",
    "    emotet_http_request.add_attribute(\"method\", method)\n",
    "    emotet_http_request.add_attribute(\"host\", parsed_url.get(\"domain\", False), tags=attribute_tags[\"domain\"])    \n",
    "    \n",
    "    playbook_objects[\"requests\"].append({\"url\": misp.add_object(misp_event.uuid, emotet_url, pythonify=True),\n",
    "                                        \"http-request\": misp.add_object(misp_event.uuid, emotet_http_request, pythonify=True)})\n",
    "    print(\"\\033[92mURL\\033[90m object added for {}: {}.\".format(url, emotet_url.uuid))\n",
    "    print(\"\\033[92mHTTP-request\\033[90m object added for {}: {}.\\n\\n\".format(url, emotet_http_request.uuid))    "
   ]
  },
  {
   "cell_type": "markdown",
   "id": "79cea04d-d396-484b-a5ca-554f82ac858e",
   "metadata": {},
   "source": [
    "## IN:6 Add the victim objects  \n",
    "\n",
    "The last set of objects that we add to the MISP event are the MISP victim objects. The attribute that is added to this object takes into account the `attribute_tags_private` and also overrides the distribution level by using **Your organisation**. By default any attribute (or object) added to a MISP event inherits the distribution setting that is defined on the event level. You can however override. \n",
    "\n",
    "Because the victim information is only relevant for our internal purposes we do not want to share this with the outside world."
   ]
  },
  {
   "cell_type": "code",
   "execution_count": 15,
   "id": "4824f616-2c0c-4713-a6d6-fdac890f6d7f",
   "metadata": {
    "tags": []
   },
   "outputs": [
    {
     "name": "stdout",
     "output_type": "stream",
     "text": [
      "\u001b[92mVictim\u001b[90m object added: afc91ad2-df0e-490a-9d61-55dea905844e.\n",
      "\u001b[92mVictim\u001b[90m object added: 73154ca4-b6b7-4889-be10-3c3027406248.\n",
      "\n",
      "\n",
      "\n"
     ]
    }
   ],
   "source": [
    "playbook_objects[\"victims\"] = []\n",
    "for victim in case_details[\"victims\"]:\n",
    "    emotet_victim = MISPObject(\"victim\")\n",
    "    emotet_victim.add_attribute(\"name\", victim, tags=attribute_tags_private, distribution=0)\n",
    "    playbook_objects[\"victims\"].append(misp.add_object(misp_event.uuid, emotet_victim, pythonify=True))\n",
    "    print(\"\\033[92mVictim\\033[90m object added: {}.\".format(emotet_victim.uuid))\n",
    "print(\"\\n\\n\")"
   ]
  },
  {
   "cell_type": "markdown",
   "id": "b4db9c53-fcea-4f9b-a6c1-f3ca17570bcb",
   "metadata": {},
   "source": [
    "## IN:7 Create object relationships \n",
    "\n",
    "The MISP objects are already providing a lot of useful contextual information. But there's more. MISP allows you to create **relations** between different objects. This feature basically allows you to *tell the story* about the event that you are encoding. Instead of having a list of unrelated entities, you can provide information to the consumers of your threat intelligence how all these different pieces of information that you analysed work together.\n",
    "\n",
    "The **MISP relations** require the UUIDs of the objects that we created in a previous step. In this playbook we will create the relations with PyMISP. In the MISP user interface you can view these relations under the **Event graph** tab of the event. It's even possible to export the graph of the event which provides you an additional element to include in your reporting.\n",
    "\n",
    "For our playbook we define these relations:\n",
    "- The URL objects **uses** the HTTP request method, via `relation_url_request`\n",
    "- The file object **connects-to** the URL object, via `relation_file_url`\n",
    "- The file object **targets** the victim object, via `relation_file_victim``"
   ]
  },
  {
   "cell_type": "code",
   "execution_count": 16,
   "id": "eab86bf6-3bfe-419a-848e-ae5b030baf91",
   "metadata": {
    "tags": []
   },
   "outputs": [],
   "source": [
    "# Object relations\n",
    "relation_url_request = \"uses\"\n",
    "relation_file_url = \"connects-to\"\n",
    "relation_file_victim = \"targets\""
   ]
  },
  {
   "cell_type": "code",
   "execution_count": 17,
   "id": "7038f97d-433f-48be-a8fc-8628da5089c4",
   "metadata": {
    "tags": []
   },
   "outputs": [
    {
     "name": "stdout",
     "output_type": "stream",
     "text": [
      "Added \u001b[92mrelation\u001b[90m 0e37ee64-68d5-43f4-b990-47135d18cf96 \u001b[92muses\u001b[90m between URL 7b045176-c810-4dc9-8e41-13ca71546925 and HTTP-request 8ff19eae-4916-4e50-96be-5340a8ee81ff.\n",
      "Added \u001b[92mrelation\u001b[90m c16c239c-fe95-4661-9f29-121732854610 \u001b[92mconnects-to\u001b[90m between file 7a7fa48d-7fbd-4fb8-a929-4b7ab6ea5784 and URL 7b045176-c810-4dc9-8e41-13ca71546925.\n",
      "\n",
      "\n",
      "Added \u001b[92mrelation\u001b[90m e03ce3b4-b448-409e-b909-7a108c42f064 \u001b[92muses\u001b[90m between URL a3aa2d27-cfbb-41ee-9ac2-fdfbaf2acee0 and HTTP-request 5e83976c-9044-46d9-8a0c-5db3f1079d7f.\n",
      "Added \u001b[92mrelation\u001b[90m 3c917c3b-ef37-42d8-bcec-dc39624183eb \u001b[92mconnects-to\u001b[90m between file 7a7fa48d-7fbd-4fb8-a929-4b7ab6ea5784 and URL a3aa2d27-cfbb-41ee-9ac2-fdfbaf2acee0.\n",
      "\n",
      "\n",
      "Added \u001b[92mrelation\u001b[90m ba441e8f-550a-493b-af5b-ab4539434170 \u001b[92mtargets\u001b[90m between file 7a7fa48d-7fbd-4fb8-a929-4b7ab6ea5784 and victim afc91ad2-df0e-490a-9d61-55dea905844e.\n",
      "Added \u001b[92mrelation\u001b[90m 8ca18ec0-eefc-46d6-96ae-3f9f7a8ff90a \u001b[92mtargets\u001b[90m between file 7a7fa48d-7fbd-4fb8-a929-4b7ab6ea5784 and victim 73154ca4-b6b7-4889-be10-3c3027406248.\n",
      "\n",
      "\n"
     ]
    }
   ],
   "source": [
    "# Loop through the objects and add the relations\n",
    "\n",
    "# Link the URL with the http-request\n",
    "for request in playbook_objects[\"requests\"]:\n",
    "    reference = misp.add_object_reference(request[\"url\"].add_reference(request[\"http-request\"].uuid, relation_url_request), pythonify=True)\n",
    "    print(\"Added \\033[92mrelation\\033[90m {} \\033[92m{}\\033[90m between URL {} and HTTP-request {}.\".format(reference.uuid, relation_url_request, request[\"url\"].uuid, request[\"http-request\"].uuid))\n",
    "    reference = misp.add_object_reference(playbook_objects[\"emotet_sample\"].add_reference(request[\"url\"].uuid, relation_file_url), pythonify=True)\n",
    "    print(\"Added \\033[92mrelation\\033[90m {} \\033[92m{}\\033[90m between file {} and URL {}.\".format(reference.uuid, relation_file_url, playbook_objects[\"emotet_sample\"].uuid, request[\"url\"].uuid))\n",
    "    print(\"\\n\")\n",
    "    \n",
    "# Create the relation between the victim and file (Emotet) object\n",
    "for victim in playbook_objects.get(\"victims\", None):\n",
    "    reference = misp.add_object_reference(playbook_objects[\"emotet_sample\"].add_reference(victim.uuid, relation_file_victim), pythonify=True)\n",
    "    print(\"Added \\033[92mrelation\\033[90m {} \\033[92m{}\\033[90m between file {} and victim {}.\".format(reference.uuid, relation_file_victim, playbook_objects[\"emotet_sample\"].uuid, victim.uuid))\n",
    "\n",
    "print(\"\\n\")"
   ]
  },
  {
   "cell_type": "markdown",
   "id": "a7c55a3f-d913-438f-bc54-19db7967d6f2",
   "metadata": {},
   "source": [
    "![helpers/playbook-create_MISP_objects_and_relationships_objectscreated.png](helpers/playbook-create_MISP_objects_and_relationships_objectscreated.png)"
   ]
  },
  {
   "cell_type": "markdown",
   "id": "43ea6870-4faa-49f0-b46f-18cb0d7475fa",
   "metadata": {},
   "source": [
    "## IN:8 Event graphs\n",
    "\n",
    "Once the object relations have been added you can also display them on a graph. Head over to MISP and use the **Event graph** tab. This allows you to visually represent the objects, attributes and relations. Did you know you can also export these graphs to JSON, JPEG, PNG or the dot format? Under the **Export** button you can choose to export type. It's also possible to save the graph so that when you re-visit the event you can immediately have access to the lay of the objects you picked earlier. \n",
    "\n",
    "Additionally, it's also possible to access these \"saved\" event graphs via the **API**. If you have a graph, you can access them via `/event_graph/viewPicture/<mispevent_id>/<misp_eventgraph_id>`.\n",
    "\n",
    "First, **save a graph** in the MISP interface under Event graph and then execute the next cell. Don't worry if you don't want to save the graph right away, the playbook will catch the error and continue without it.\n"
   ]
  },
  {
   "cell_type": "markdown",
   "id": "dc4bbee8-8e95-439f-9d5f-92f150cacd49",
   "metadata": {},
   "source": [
    "![helpers/playbook-create_MISP_objects_and_relationships_eventgraph.png](helpers/playbook-create_MISP_objects_and_relationships_eventgraph.png)"
   ]
  },
  {
   "cell_type": "code",
   "execution_count": 23,
   "id": "0178afca-d8a6-405a-991a-e696ef4542b1",
   "metadata": {
    "tags": []
   },
   "outputs": [
    {
     "data": {
      "image/png": "[encoded data removed]",
      "text/plain": [
       "<IPython.core.display.Image object>"
      ]
     },
     "metadata": {
      "image/png": {
       "width": 480
      }
     },
     "output_type": "display_data"
    }
   ],
   "source": [
    "# Start with the first MISP Event graph\n",
    "misp_eventgraph_id = 6\n",
    "\n",
    "# We use the requests library and need to set the headers\n",
    "misp_headers = {\"Authorization\": misp_key,  \"Content-Type\": \"application/json\", \"Accept\": \"application/json\"}\n",
    "event_graph = requests.get(\"{}/event_graph/viewPicture/{}/{}\".format(misp_url, misp_event.id, misp_eventgraph_id), headers=misp_headers, verify=misp_verifycert)\n",
    "if event_graph.status_code == 200:\n",
    "    display(Image(event_graph.content, width=480))\n",
    "else:\n",
    "    print(\"Event \\033[91mgraph not found\\033[90m. Continue with the playbook.\\n\\n\")"
   ]
  },
  {
   "cell_type": "markdown",
   "id": "e5f3ccbc-89a6-4c8a-8bb5-8fb1ebd76345",
   "metadata": {},
   "source": [
    "# Extending MISP objects\n",
    "\n",
    "## EX:1 Extending the default list of MISP objects\n",
    "\n",
    "So far we used the MISP object definitions that are part of your MISP server. Similar to taxonomies or warninglists the MISP objects are based on JSON and are stored in the folder `MISP/app/files/misp-objects/`.\n",
    "\n",
    "Despite the large list of available objects it’s always possible that they do not fully address your need. You can then choose to add a custom MISP object as a JSON file. This is document on the MISP project blog post [Creating a MISP object 101](https://www.misp-project.org/2021/03/17/MISP-Objects-101.html/) and in the MISP training slides for the [MISP Object Templates](https://www.misp-project.org/misp-training/3.3-misp-object-template.pdf). The advantage of adding new object types via a JSON file is that you can share them with the entire community via the GitHub repository (do a simple pull request) or share them directly with your partners in your MISP community.\n",
    "\n",
    "In some cases though maybe you just want to indicate the contextually relation between attributes via an attribute, without creating a full JSON definition of an object. MISP has a flexible way for you to do this rather quicky."
   ]
  },
  {
   "cell_type": "markdown",
   "id": "f55a9594-cedc-43b9-b293-5d72a37bff17",
   "metadata": {},
   "source": [
    "## EX:2 Add custom MISP objects \n",
    "\n",
    "Adding custom MISP objects via PyMISP requires you to first generate a default object with `GenericObjectGenerator`. In our playbook we add a custom MISP object **victim-asset** (defined via `custom_object_name`) that includes the details of the affected victim endpoint. We also specify its description (`custom_object_description`) and meta category (`custom_object_meta_category`).\n",
    "\n",
    "We define the list of custom attributes that are part of the object via a dictionary, in this example `custom_object_attributes` which we then transform to a list of attributes with the function `generate_attributes`. As you see in the example below `custom_object_attributes` is a list of dictionary elements, each describing the attribute type and value that is going to be added to our custom MISP object."
   ]
  },
  {
   "cell_type": "code",
   "execution_count": 19,
   "id": "77745d1f-5ab6-4143-aba0-8ceab51bd22d",
   "metadata": {
    "tags": []
   },
   "outputs": [],
   "source": [
    "# Custom MISP object attributes\n",
    "custom_object_attributes = [{'internal-ip': {'value': '192.168.1.1', 'type': 'ip-src'}},\n",
    "                   {'asset-owner': {'value': 'John', 'type': 'text'}}]\n",
    "custom_object_name = \"victim-asset\"\n",
    "custom_object_description = \"Victim asset information\"\n",
    "custom_object_meta_category = \"asset-info\""
   ]
  },
  {
   "cell_type": "code",
   "execution_count": 20,
   "id": "6fc17412-661b-482d-9c66-32b1be4cac63",
   "metadata": {
    "tags": []
   },
   "outputs": [
    {
     "name": "stdout",
     "output_type": "stream",
     "text": [
      "\u001b[92mAdded victim asset object\u001b[90m f7c04045-651e-4745-a033-6f9083330cb3.\n",
      "\n",
      "\n"
     ]
    }
   ],
   "source": [
    "# Create the custom MISP object and attach it to the MISP event\n",
    "misp_object = GenericObjectGenerator(custom_object_name)\n",
    "misp_object.generate_attributes(custom_object_attributes)\n",
    "misp_object.template_uuid = uuid4()\n",
    "misp_object.template_version = 1\n",
    "misp_object.description = custom_object_description\n",
    "setattr(misp_object, 'meta-category', custom_object_meta_category)\n",
    "victim_asset = misp.add_object(misp_event.uuid, misp_object, pythonify=True)\n",
    "\n",
    "print(\"\\033[92mAdded victim asset object\\033[90m {}.\\n\\n\".format(victim_asset.uuid))"
   ]
  },
  {
   "cell_type": "markdown",
   "id": "774c4767-e029-4a72-8315-14bd4dd8f005",
   "metadata": {},
   "source": [
    "![helpers/playbook-create_MISP_objects_and_relationships_customobject.png](helpers/playbook-create_MISP_objects_and_relationships_customobject.png)"
   ]
  },
  {
   "cell_type": "markdown",
   "id": "c20be9c7-7bda-4869-9f66-f1b89b9279a7",
   "metadata": {},
   "source": [
    "## EX:3 Update custom MISP objects  \n",
    "\n",
    "It can happen that you do not have all the object (in this case the victim) details at once. Obviously it's also to update the custom MISP object with PyMISP and add an additional attribute to it."
   ]
  },
  {
   "cell_type": "code",
   "execution_count": 21,
   "id": "3d5df62f-52b3-495e-ad6b-27383afdda23",
   "metadata": {
    "tags": []
   },
   "outputs": [
    {
     "name": "stdout",
     "output_type": "stream",
     "text": [
      "\u001b[92mUpdated victim asset object\u001b[90m f7c04045-651e-4745-a033-6f9083330cb3.\n",
      "\n",
      "\n"
     ]
    }
   ],
   "source": [
    "misp_object.add_attribute('department', value='HR', type='text', to_ids=False)\n",
    "victim_asset = misp.update_object(misp_object, pythonify=True)\n",
    "\n",
    "print(\"\\033[92mUpdated victim asset object\\033[90m {}.\\n\\n\".format(victim_asset.uuid))"
   ]
  },
  {
   "cell_type": "markdown",
   "id": "e2d6ee57-d089-4a5a-b14f-8f27fc8af261",
   "metadata": {},
   "source": [
    "## EX:4 Update the custom MISP object via the web user interface \n",
    "\n",
    "There is one downside on adding these custom objects to MISP via PyMISP, without creating a JSON constructs. Although you can edit the objects very easily via PyMISP, it's not possible to edit them afterwards via the MISP web user interface. When you try to edit the object you will get an error message: `Object cannot be edited, no valid template found.`.\n",
    "\n",
    "To resolve this you should add the object template (as created in the previous cells) to your MISP server as a JSON file."
   ]
  },
  {
   "cell_type": "markdown",
   "id": "21599116-ab1b-4d1d-99c0-49053c486f6e",
   "metadata": {},
   "source": [
    "## EX:5 Delete objects from an event \n",
    "\n",
    "Adding and updating objects is fine but there might be a time where you want to delete an object. Deleting objects is easy if you have their **UUID** and then use `delete_object`. The next cell deletes our custom MISP object."
   ]
  },
  {
   "cell_type": "code",
   "execution_count": 24,
   "id": "a3a88925-861f-4146-965d-09d1235a9f13",
   "metadata": {
    "tags": []
   },
   "outputs": [
    {
     "name": "stdout",
     "output_type": "stream",
     "text": [
      "\u001b[92mDeleted victim asset object\u001b[90m f7c04045-651e-4745-a033-6f9083330cb3 {'saved': True, 'success': True, 'name': 'Object deleted', 'message': 'Object deleted', 'url': '/objects/delete/2590', 'id': '2590'}.\n",
      "\n",
      "\n"
     ]
    }
   ],
   "source": [
    "result = misp.delete_object(victim_asset.uuid)\n",
    "print(\"\\033[92mDeleted victim asset object\\033[90m {} {}.\\n\\n\".format(victim_asset.uuid, result))"
   ]
  },
  {
   "cell_type": "markdown",
   "id": "950f6d6f-ccb3-43ad-9769-154387b6be4d",
   "metadata": {},
   "source": [
    "# Summary\n",
    "\n",
    "## EN:1 MISP indicators \n",
    "\n",
    "The next section first **queries MISP for the indicators added to the MISP event** that is linked to the execution of this playbook.\n",
    "\n",
    "### Get indicators\n",
    "\n",
    "The indicators are stored in the variable `indicator_table` (table format) and `indicator_raw_list` (in raw format) which is used in a later section to create the playbook summary."
   ]
  },
  {
   "cell_type": "code",
   "execution_count": 25,
   "id": "38b18bd3-3609-48a7-837d-5240fdcd433f",
   "metadata": {
    "tags": []
   },
   "outputs": [
    {
     "name": "stdout",
     "output_type": "stream",
     "text": [
      "Got \u001b[92m6\u001b[90m indicator(s) from the event \u001b[92mDemo Event Create MISP objects and relations\u001b[90m (2590).\n",
      "\n",
      "\n"
     ]
    }
   ],
   "source": [
    "indicator_search = misp.search(\"attributes\", uuid=misp_event.uuid, to_ids=True, pythonify=True)\n",
    "indicator_raw_list = []\n",
    "indicator_table = PrettyTable()\n",
    "if len(indicator_search) > 0:\n",
    "    indicator_table.field_names = [\"Type\", \"Category\", \"Indicator\", \"Comment\"]\n",
    "    indicator_table.align[\"Type\"] = \"l\"\n",
    "    indicator_table.align[\"Category\"] = \"l\"\n",
    "    indicator_table.align[\"Indicator\"] = \"l\"\n",
    "    indicator_table.align[\"Comment\"] = \"l\"\n",
    "    indicator_table.border = True\n",
    "    for indicator in indicator_search:\n",
    "        if indicator.value not in indicator_raw_list:\n",
    "            indicator_table.add_row([indicator.type, indicator.category, indicator.value, indicator.comment])\n",
    "            indicator_raw_list.append(indicator.value)\n",
    "    print(\"Got \\033[92m{}\\033[90m indicator(s) from the event \\033[92m{}\\033[90m ({}).\\n\\n\".format(len(indicator_raw_list), misp_event.info, misp_event.id))\n",
    "else:\n",
    "    print(\"\\033[93mNo indicators found in the event \\033[92m{}\\033[90m ({})\".format(misp_event.info, misp_event.id))"
   ]
  },
  {
   "cell_type": "markdown",
   "id": "e837089d-375e-40d3-9351-e6d393155d2a",
   "metadata": {},
   "source": [
    "### Print indicators\n",
    "\n",
    "The indicators are now stored in `indicator_search` (as Python objects) and `indicator_raw_list` (in raw format, only the indicators). Execute the next cell to display them in a table format. The table is also included in the summary."
   ]
  },
  {
   "cell_type": "code",
   "execution_count": 26,
   "id": "863a280c-3a91-4937-9da2-8869ed0742f4",
   "metadata": {
    "tags": []
   },
   "outputs": [
    {
     "name": "stdout",
     "output_type": "stream",
     "text": [
      "+--------+------------------+------------------------------------------------------------------+---------+\n",
      "| Type   | Category         | Indicator                                                        | Comment |\n",
      "+--------+------------------+------------------------------------------------------------------+---------+\n",
      "| domain | Network activity | 12.195.47.98                                                     |         |\n",
      "| domain | Network activity | 67.254.13.154                                                    |         |\n",
      "| md5    | Payload delivery | 8b3f3e3028c5c934654509cb18307dc7                                 |         |\n",
      "| sha256 | Payload delivery | 14c829d93436c24a6c271b53dbf80f2c4419b30698aee78558c8f5494ad12c96 |         |\n",
      "| url    | Network activity | http://12.195.47.98:7080/                                        |         |\n",
      "| url    | Network activity | http://67.254.13.154/                                            |         |\n",
      "+--------+------------------+------------------------------------------------------------------+---------+\n",
      "\n",
      "\n",
      "Indicator list in raw format:\n",
      "---------------------------------------------------\n",
      "8b3f3e3028c5c934654509cb18307dc7\n",
      "14c829d93436c24a6c271b53dbf80f2c4419b30698aee78558c8f5494ad12c96\n",
      "http://12.195.47.98:7080/\n",
      "12.195.47.98\n",
      "http://67.254.13.154/\n",
      "67.254.13.154\n",
      "---------------------------------------------------\n"
     ]
    }
   ],
   "source": [
    "if len(indicator_raw_list) > 0:\n",
    "    print(indicator_table.get_string(sortby=\"Type\"))\n",
    "    print(\"\\n\\nIndicator list in raw format:\")\n",
    "    print(\"---------------------------------------------------\")\n",
    "    for el in indicator_raw_list:\n",
    "        print(\"{}\".format(el))\n",
    "    print(\"---------------------------------------------------\")"
   ]
  },
  {
   "cell_type": "markdown",
   "id": "3a92d9a6-0629-4c4f-af04-2cac3d676f13",
   "metadata": {},
   "source": [
    "## EN:2 Create the summary of the playbook \n",
    "\n",
    "The next section creates a summary and stores the output in the variable `summary` in Markdown format. It also stores an intro text in the variable `intro`. These variables can later be used when sending information to Mattermost or TheHive. For this playbook we limit ourselves to printing out the summary. You can find examples on how to interact with Mattermost or TheHive in other playbooks."
   ]
  },
  {
   "cell_type": "code",
   "execution_count": 27,
   "id": "221d77f7-88d5-4ed0-b674-5dca0a71a34c",
   "metadata": {
    "tags": []
   },
   "outputs": [
    {
     "name": "stdout",
     "output_type": "stream",
     "text": [
      "The \u001b[92msummary\u001b[90m of the playbook is available.\n",
      "\n"
     ]
    }
   ],
   "source": [
    "summary = \"## MISP Playbook summary\\nThe investigation concerned MISP event: **{}** ({}/events/view/{}). \".format(misp_event.info, misp_url, misp_event.id)\n",
    "\n",
    "intro = summary\n",
    "summary += \"\\n\\n\"\n",
    "summary += \"### Indicators\\n\"\n",
    "if len(indicator_raw_list) > 0:\n",
    "    indicator_table.set_style(MARKDOWN)\n",
    "    summary += indicator_table.get_string(sortby=\"Type\")\n",
    "    summary += \"\\n\\n\\n\" \n",
    "    summary += \"Indicators in **raw format** \\n\\n\"\n",
    "    for el in indicator_raw_list:\n",
    "        summary += \"{} \\n\\n\".format(el)\n",
    "    summary += \"\\n\" \n",
    "else:\n",
    "    summary += \"There are no indicators\"\n",
    "\n",
    "summary += \"### Objects\\n\"\n",
    "summary += \"File object {} is added.\\n\".format(playbook_objects[\"emotet_sample\"].uuid)\n",
    "if len(case_details[\"filename\"]) > 0:\n",
    "    summary += \" - Filename **{}**\\n\".format(case_details[\"filename\"])\n",
    "if len(case_details[\"md5\"]) > 0:\n",
    "    summary += \" - MD5 **{}**\\n\".format(case_details[\"md5\"])\n",
    "if len(case_details[\"sha256\"]) > 0:\n",
    "    summary += \" - SHA256 **{}**\\n\".format(case_details[\"sha256\"])\n",
    "summary += \"\\n\\n\"\n",
    "for request in playbook_objects[\"requests\"]:\n",
    "    for attr in request[\"url\"].attributes:\n",
    "        if attr.object_relation == \"url\":\n",
    "            url = attr.value\n",
    "            break    \n",
    "    summary += \"Network objects for **{}**\\n\".format(url)\n",
    "    summary += \" - URL object {} added.\\n\".format(request[\"url\"].uuid)\n",
    "    summary += \" - HTTP-Request object {} added.\\n\".format(request[\"http-request\"].uuid)\n",
    "    summary += \"\\n\"   \n",
    "    \n",
    "summary += \"\\n\\n\"\n",
    "print(\"The \\033[92msummary\\033[90m of the playbook is available.\\n\")"
   ]
  },
  {
   "cell_type": "markdown",
   "id": "867536f9-bcd3-40d7-8f36-b7a6d60bd010",
   "metadata": {},
   "source": [
    "## EN:3 Print the summary of the playbook \n",
    "\n",
    "Print the summary of the playbook in Markdown format."
   ]
  },
  {
   "cell_type": "code",
   "execution_count": 28,
   "id": "0ae0187f-969d-42ca-a485-445283890067",
   "metadata": {
    "tags": []
   },
   "outputs": [
    {
     "data": {
      "text/markdown": [
       "## MISP Playbook summary\n",
       "The investigation concerned MISP event: **Demo Event Create MISP objects and relations** (https://misp.demo.cudeso.be//events/view/2590). \n",
       "\n",
       "### Indicators\n",
       "| Type   | Category         | Indicator                                                        | Comment |\n",
       "|:-------|:-----------------|:-----------------------------------------------------------------|:--------|\n",
       "| domain | Network activity | 12.195.47.98                                                     |         |\n",
       "| domain | Network activity | 67.254.13.154                                                    |         |\n",
       "| md5    | Payload delivery | 8b3f3e3028c5c934654509cb18307dc7                                 |         |\n",
       "| sha256 | Payload delivery | 14c829d93436c24a6c271b53dbf80f2c4419b30698aee78558c8f5494ad12c96 |         |\n",
       "| url    | Network activity | http://12.195.47.98:7080/                                        |         |\n",
       "| url    | Network activity | http://67.254.13.154/                                            |         |\n",
       "\n",
       "\n",
       "Indicators in **raw format** \n",
       "\n",
       "8b3f3e3028c5c934654509cb18307dc7 \n",
       "\n",
       "14c829d93436c24a6c271b53dbf80f2c4419b30698aee78558c8f5494ad12c96 \n",
       "\n",
       "http://12.195.47.98:7080/ \n",
       "\n",
       "12.195.47.98 \n",
       "\n",
       "http://67.254.13.154/ \n",
       "\n",
       "67.254.13.154 \n",
       "\n",
       "\n",
       "### Objects\n",
       "File object 7a7fa48d-7fbd-4fb8-a929-4b7ab6ea5784 is added.\n",
       " - Filename **jgm1GEN.dll**\n",
       " - MD5 **8b3f3e3028c5c934654509cb18307dc7**\n",
       " - SHA256 **14c829d93436c24a6c271b53dbf80f2c4419b30698aee78558c8f5494ad12c96**\n",
       "\n",
       "\n",
       "Network objects for **http://12.195.47.98:7080/**\n",
       " - URL object 7b045176-c810-4dc9-8e41-13ca71546925 added.\n",
       " - HTTP-Request object 8ff19eae-4916-4e50-96be-5340a8ee81ff added.\n",
       "\n",
       "Network objects for **http://67.254.13.154/**\n",
       " - URL object a3aa2d27-cfbb-41ee-9ac2-fdfbaf2acee0 added.\n",
       " - HTTP-Request object 5e83976c-9044-46d9-8a0c-5db3f1079d7f added.\n",
       "\n",
       "\n",
       "\n"
      ]
     },
     "metadata": {},
     "output_type": "display_data"
    }
   ],
   "source": [
    "display_markdown(summary, raw=True)"
   ]
  },
  {
   "cell_type": "markdown",
   "id": "36a43cfc-552c-44a6-899a-be9c028609c1",
   "metadata": {},
   "source": [
    "## EN:4 Publish MISP event \n",
    "\n",
    "As a final step, you can choose the **publish** the MISP event. Publishing MISP events makes the event available to your users and, depending on the synchronisation and distribution rules, will also sync it with other connected MISP servers. Publishing an event also typically makes the indicators available for your security controls to import them in their ruleset.\n",
    "\n",
    "This step will remove the **workflow** states incomplete, add a workflow state complete and then publish the event."
   ]
  },
  {
   "cell_type": "code",
   "execution_count": 29,
   "id": "d3007c11-557d-4741-ae28-cbd30151a9d8",
   "metadata": {
    "tags": []
   },
   "outputs": [
    {
     "name": "stdout",
     "output_type": "stream",
     "text": [
      "{'saved': True, 'success': True, 'name': 'Job queued', 'message': 'Job queued', 'url': '/events/publish/2590', 'id': '2590'}\n",
      "Event Demo Event Create MISP objects and relations (2590 - ead00dd5-1fc0-4c4f-93bf-0b95edcb4433) is \u001b[92mpublished.\n",
      "\n"
     ]
    }
   ],
   "source": [
    "try:\n",
    "    misp.untag(misp_event.uuid, \"workflow:state=\\\"incomplete\\\"\")\n",
    "    misp.tag(misp_event.uuid, \"workflow:state=\\\"complete\\\"\", local=True)\n",
    "    print(misp.publish(misp_event.uuid))\n",
    "    print(\"Event {} ({} - {}) is \\033[92mpublished.\\n\".format(misp_event.info, misp_event.id, misp_event.uuid))\n",
    "except:\n",
    "    print(\"\\033[91mFailed to publish\\033[90m event {} ({} - {}).\\n\".format(misp_event.info, misp_event.id, misp_event.uuid))"
   ]
  },
  {
   "cell_type": "markdown",
   "id": "af1ba12e-2cd4-4473-aa58-9bb30f761610",
   "metadata": {},
   "source": [
    "## EN:5 End of the playbook"
   ]
  },
  {
   "cell_type": "code",
   "execution_count": 30,
   "id": "97ee9103-f4e2-4366-8d7c-579c8eb28604",
   "metadata": {
    "tags": []
   },
   "outputs": [
    {
     "name": "stdout",
     "output_type": "stream",
     "text": [
      "\u001b[92m End of the playbook\n",
      "\n",
      "\n"
     ]
    }
   ],
   "source": [
    "print(\"\\033[92m End of the playbook\\n\\n\")"
   ]
  },
  {
   "cell_type": "markdown",
   "id": "07791e62-8097-4951-9b4c-22755b09e6dd",
   "metadata": {},
   "source": [
    "## External references \n",
    "\n",
    "- [The MISP Project](https://www.misp-project.org/)\n",
    "- [MISP Objects](https://www.misp-project.org/objects.html)\n",
    "- [MISP Objects GitHub repository](https://github.com/MISP/misp-objects)\n",
    "- [MISP Object Template training](https://www.misp-project.org/misp-training/3.3-misp-object-template.pdf)\n",
    "- [Creating a MISP Object 101](https://www.misp-project.org/2021/03/17/MISP-Objects-101.html/)\n",
    "- [Traffic Light Protocol](https://www.first.org/tlp/)\n",
    "- [Permissible Actions Protocol and Course of Action matrix](https://www.vanimpe.eu/2020/12/28/how-to-support-defenders-with-the-permissible-actions-protocol/)"
   ]
  },
  {
   "cell_type": "markdown",
   "id": "949f0b6a-a88b-4ac4-ba30-95b44d4c3503",
   "metadata": {},
   "source": [
    "## Technical details \n",
    "\n",
    "### Documentation\n",
    "\n",
    "This playbook requires these Python **libraries** to exist in the environment where the playbook is executed. You can install them with `pip install <library>`.\n",
    "\n",
    "```\n",
    "pyfaup\n",
    "chardet\n",
    "PrettyTable\n",
    "ipywidgets\n",
    "```\n",
    "\n",
    "You need to have **network access** to \n",
    "- your MISP server (HTTP or HTTPS)\n",
    "\n",
    "You need\n",
    "- an **API key with MISP**\n",
    "- - Under Global Actions, My Profile. Add an extra authentication key.\n",
    "- - Add the API key (`misp_key`) and the MISP URL (`misp_url`) to `keys.py`\n",
    "- - If you use a self-signed certificate set `misp_verifycert` to False\n",
    "\n",
    "### Helper functions\n",
    "\n",
    "#### pb_print_object_definition\n",
    "```\n",
    "def pb_print_object_definition(misp, object_template):\n",
    "    '''\n",
    "    Print the raw object template\n",
    "\n",
    "    :param misp: MISP object\n",
    "    :param object_template: which object template to return\n",
    "    '''\n",
    "```\n",
    "\n",
    "#### pb_get_misp_tags\n",
    "```\n",
    "def pb_get_misp_tags(tags=[], local_tags=[]):\n",
    "    '''\n",
    "    Get a list of MISP tags based on a Python list\n",
    "\n",
    "    :param misp: MISP object\n",
    "    :param object_template: which object template to return\n",
    "    '''\n",
    "```\n",
    "\n",
    "### Colour codes\n",
    "\n",
    "The output from Python displays some text in different colours. These are the colour codes\n",
    "\n",
    "```\n",
    "Red = '\\033[91m'\n",
    "Green = '\\033[92m'\n",
    "Blue = '\\033[94m'\n",
    "Cyan = '\\033[96m'\n",
    "White = '\\033[97m'\n",
    "Yellow = '\\033[93m'\n",
    "Magenta = '\\033[95m'\n",
    "Grey = '\\033[90m'\n",
    "Black = '\\033[90m'\n",
    "Default = '\\033[99m'\n",
    "```"
   ]
  },
  {
   "cell_type": "code",
   "execution_count": null,
   "id": "99bf5bf7-ef75-4b9a-8200-cd75cf711c4e",
   "metadata": {},
   "outputs": [],
   "source": []
  }
 ],
 "metadata": {
  "celltoolbar": "Attachments",
  "kernelspec": {
   "display_name": "Python 3 (ipykernel)",
   "language": "python",
   "name": "python3"
  },
  "language_info": {
   "codemirror_mode": {
    "name": "ipython",
    "version": 3
   },
   "file_extension": ".py",
   "mimetype": "text/x-python",
   "name": "python",
   "nbconvert_exporter": "python",
   "pygments_lexer": "ipython3",
   "version": "3.8.10"
  },
  "toc-showcode": false,
  "toc-showmarkdowntxt": false
 },
 "nbformat": 4,
 "nbformat_minor": 5
}
