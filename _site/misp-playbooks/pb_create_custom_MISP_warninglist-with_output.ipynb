{
 "cells": [
  {
   "cell_type": "markdown",
   "id": "ca1fbfb5",
   "metadata": {
    "tags": [
     "playbook-introduction"
    ]
   },
   "source": [
    "# Create a custom MISP warninglist\n",
    "\n",
    "## Introduction\n",
    "\n",
    "- UUID: **1c946ff3-0798-4c59-a19e-fc0b622e75e3**\n",
    "- Started from [issue 7](https://github.com/MISP/misp-playbooks/issues/7)\n",
    "- State: **Published** : demo version with **output**\n",
    "- Purpose: This playbook creates a custom **MISP warninglist** with a set of entries provided by the analyst as input. A check is done if the warninglist already exists. If the warninglist already exists then the entries are added to the existing warninglist. When the warninglist is created the MISP events are queried for matches ('**retro-search**'). \n",
    "- - The playbook also queries Shodan and VirusTotal for matches with entries in the warninglist. The result of the creation of the warninglist as well as the matches is summarised at the end of the playbook and sent to Mattermost or Slack or added as an alert in TheHive. \n",
    "- Tags: [ \"warninglist\", \"hunting\" ]\n",
    "- External resources: **VirusTotal**, **Shodan**, **Mattermost, TheHive**\n",
    "- Target audience: **SOC, CSIRT**, **CTI**\n",
    "- Graphical workflow \n",
    "\n",
    "![helpers/playbook-create_custom_MISP_warninglist.png](helpers/playbook-create_custom_MISP_warninglist.png)"
   ]
  },
  {
   "cell_type": "markdown",
   "id": "a512a2c1",
   "metadata": {
    "jp-MarkdownHeadingCollapsed": true,
    "tags": []
   },
   "source": [
    "# Playbook\n",
    "\n",
    "- **Create a custom MISP warninglist**\n",
    "- - Introduction\n",
    "- **Preparation**\n",
    "- - PR:1 Initialise environment\n",
    "- - PR:2 Verify MISP modules\n",
    "- - PR:3 Set helper variables\n",
    "- **Investigate**\n",
    "- - IN:1 MISP warninglists\n",
    "- - IN:2 Set the MISP warninglist name (or ID)\n",
    "- - IN:3 MISP warninglist details\n",
    "- - IN:4 MISP warninglist values\n",
    "- - IN:5 Create or update the MISP warninglist\n",
    "- - IN:6 Enable the MISP warninglist\n",
    "- - IN:7 View the warninglist in MISP\n",
    "- **Correlation**\n",
    "- - ER:1 Query MISP\n",
    "- - ER:2 Query VirusTotal\n",
    "- - ER:3 Query Shodan\n",
    "- **Closure**\n",
    "- - EN:1 Create the summary of the playbook \n",
    "- - EN:2 Send a summary to Mattermost\n",
    "- - EN:3 Send an alert to TheHive\n",
    "- - EN:4 End of the playbook \n",
    "- External references\n",
    "- Technical details"
   ]
  },
  {
   "cell_type": "markdown",
   "id": "8dc24913",
   "metadata": {
    "tags": []
   },
   "source": [
    "# Preparation\n",
    "\n",
    "## PR:1 Initialise environment\n",
    "\n",
    "This section **initialises the playbook environment** and loads the required Python libraries. \n",
    "\n",
    "The credentials for MISP (**API key**) and other services are loaded from the file `keys.py` in the directory **vault**. A [PyMISP](https://github.com/MISP/PyMISP) object is created to interact with MISP and the active MISP server is displayed. By printing out the server name you know that it's possible to connect to MISP. In case of a problem PyMISP will indicate the error with `PyMISPError: Unable to connect to MISP`.\n",
    "\n",
    "The contents of the `keys.py` file should contain at least :\n",
    "\n",
    "```\n",
    "misp_url=\"<MISP URL>\"                  # The URL to our MISP server\n",
    "misp_key=\"<MISP API KEY>\"              # The MISP API key\n",
    "misp_verifycert=<True or False>        # Indicate if PyMISP should attempt to verify the certificate or ignore errors\n",
    "mattermost_playbook_user=\"<MATTERMOST USER>\"\n",
    "mattermost_hook=\"<MATTERMOST WEBHOOK>\"\n",
    "thehive_url=\"<THEHIVE URL>\"\n",
    "thehive_key=\"<THEHIVE API KEY>\"\n",
    "virustotal_apikey=\"<VIRUSTOTAL_APIKEY>\"\n",
    "shodan_apikey=\"<SHODAN_APIKEY>\"\n",
    "```"
   ]
  },
  {
   "cell_type": "code",
   "execution_count": 2,
   "id": "5f94c336",
   "metadata": {
    "tags": []
   },
   "outputs": [
    {
     "name": "stdout",
     "output_type": "stream",
     "text": [
      "The \u001b[92mPython libraries\u001b[90m are loaded and the \u001b[92mcredentials\u001b[90m are read from the keys file.\n",
      "I will use the MISP server \u001b[92mhttps://misp.demo.cudeso.be/\u001b[90m for this playbook.\n",
      "\n",
      "\n"
     ]
    }
   ],
   "source": [
    "# Initialise Python environment\n",
    "import urllib3\n",
    "import sys\n",
    "import json\n",
    "from pyfaup.faup import Faup\n",
    "from prettytable import PrettyTable, MARKDOWN\n",
    "from IPython.display import Image, display, display_markdown, HTML\n",
    "from datetime import date\n",
    "import requests\n",
    "import uuid\n",
    "from uuid import uuid4\n",
    "from pymisp import *\n",
    "from pymisp.tools import GenericObjectGenerator\n",
    "import re\n",
    "import time\n",
    "\n",
    "# Load the credentials\n",
    "sys.path.insert(0, \"../vault/\")\n",
    "from keys import *\n",
    "if misp_verifycert is False:\n",
    "    import urllib3\n",
    "    urllib3.disable_warnings(urllib3.exceptions.InsecureRequestWarning)\n",
    "print(\"The \\033[92mPython libraries\\033[90m are loaded and the \\033[92mcredentials\\033[90m are read from the keys file.\")\n",
    "\n",
    "# Create the PyMISP object\n",
    "misp = PyMISP(misp_url, misp_key, misp_verifycert)\n",
    "print(\"I will use the MISP server \\033[92m{}\\033[90m for this playbook.\\n\\n\".format(misp_url))"
   ]
  },
  {
   "cell_type": "markdown",
   "id": "2d86805b-1a98-437b-b041-75dbf67e83c7",
   "metadata": {},
   "source": [
    "## PR:2 Verify MISP modules\n",
    "\n",
    "This playbook uses the MISP **VirusTotal** and **Shodan** modules to obtain additional correlation information. [MISP modules](https://github.com/MISP/misp-modules) are autonomous modules that can be used to extend MISP for new services such as expansion, import and export. The modules are written in Python 3 following a simple API interface. The objective is to ease the extensions of MISP functionalities without modifying core components. The API is available via a simple REST API which is independent from MISP installation or configuration.\n",
    "\n",
    "Note that the core of the playbook (creating the warninglists) does function without these modules. The playbook does not re-implement the modules, it merely queries the local MISP module server, similarly as how MISP queries this module server. This also means that the playbook needs to have access to this MISP module server.\n",
    "\n",
    "In the next cell we check if we have access to the **MISP module** server and if the VirusTotal and Shodan modules are enabled."
   ]
  },
  {
   "cell_type": "code",
   "execution_count": 3,
   "id": "68292dd4-2b14-450b-8e47-c4e0ac3aa960",
   "metadata": {
    "tags": [
     "hide-input",
     "hide_input",
     "hide_code"
    ]
   },
   "outputs": [
    {
     "name": "stdout",
     "output_type": "stream",
     "text": [
      "Found the \u001b[92mshodan\u001b[90m MISP module (Accepted input: ['ip-src', 'ip-dst']).\n",
      "Found the \u001b[92mvirustotal_public\u001b[90m MISP module (Accepted input: ['hostname', 'domain', 'ip-src', 'ip-dst', 'md5', 'sha1', 'sha256', 'url']).\n",
      "\n",
      "\n",
      "\n"
     ]
    }
   ],
   "source": [
    "# Where can we find the local MISP Module server? You can leave this to the default setting in most cases.\n",
    "misp_modules_url = \"http://127.0.0.1:6666\"\n",
    "\n",
    "# How long do we wait between queries when using the MISP modules (API rate limiting of external service such as VirusTotal)\n",
    "misp_modules_wait = 3\n",
    "\n",
    "# Initiliasation\n",
    "misp_modules = {}\n",
    "misp_modules_headers = {\n",
    "    \"Content-Type\": \"application/json\",\n",
    "    \"Accept\": \"application/json\"\n",
    "}\n",
    "misp_modules_in_use = [\"virustotal_public\", \"shodan\"]\n",
    "# Code block to query the MISP module server and check if our modules are enabled\n",
    "res = requests.get(\"{}/modules\".format(misp_modules_url), headers=misp_modules_headers)\n",
    "for module in res.json():\n",
    "    for module_requested in misp_modules_in_use:\n",
    "        if module.get(\"name\", False) == module_requested:\n",
    "            misp_modules[module_requested] = {\"enabled\": True, \"input\": module.get(\"mispattributes\").get(\"input\")}\n",
    "            print(\"Found the \\033[92m{}\\033[90m MISP module (Accepted input: {}).\".format(module_requested, misp_modules[module_requested][\"input\"]))\n",
    "print(\"\\n\\n\")"
   ]
  },
  {
   "cell_type": "markdown",
   "id": "6b0fe9f4-23b1-4eec-bc61-8bc965ffc619",
   "metadata": {},
   "source": [
    "## PR:3 Set helper variables\n",
    "\n",
    "This cell contains **helper variables** that are used in this playbook."
   ]
  },
  {
   "cell_type": "code",
   "execution_count": 4,
   "id": "16f10787-93be-4474-a84c-1a3cc8dd31b3",
   "metadata": {
    "tags": []
   },
   "outputs": [],
   "source": [
    "# Dictionary to hold correlation results\n",
    "correlation_results = {}\n",
    "correlation_results[\"misp\"] = {}\n",
    "correlation_results[\"virustotal\"] = {}\n",
    "correlation_results[\"shodan\"] = {}\n",
    "\n",
    "# A set of regular expressions that we use to determine the attribute type in a warninglist. Needed to decide if we submit them to MISP modules\n",
    "regular_expressions = {\"sha256\": \"^[a-fA-F0-9]{64}$\",\n",
    "                       \"md5\": \"^[a-fA-F0-9]{32}$\",\n",
    "                       \"hostname\": \"^[a-zA-Z0-9.\\-_]+\\.[a-zA-Z]{2,}$\",\n",
    "                       \"sha1\": \"^[a-fA-F0-9]{40}$\",\n",
    "                       \"url\": \"^(http|https):\\/\\/[-a-zA-Z0-9-]{2,256}\\.[-a-zA-Z0-9-]{2,256}\",\n",
    "                       \"ip-src\": \"[0-9]{1,3}\\.[0-9]{1,3}\\.[0-9]{1,3}\\.[0-9]{1,3}\",\n",
    "                       \"ip-dst\": \"[0-9]{1,3}\\.[0-9]{1,3}\\.[0-9]{1,3}\\.[0-9]{1,3}\"\n",
    "                      }\n",
    "\n",
    "# Warninglist values, in text block and Python list format\n",
    "warninglist_values_blob = \"\"\n",
    "warninglist_values_list = []"
   ]
  },
  {
   "cell_type": "markdown",
   "id": "2243ae8b-cb77-4835-a0cd-2738ee8c9bec",
   "metadata": {},
   "source": [
    "# Investigate\n",
    "\n",
    "## IN:1 MISP warninglists\n",
    "\n",
    "The [misp-warninglists](https://github.com/MISP/misp-warninglists) are lists of **well-known** indicators that can be associated to potential **false positives**, errors or mistakes. The warning lists are integrated in MISP to display an info/warning box at the event and attribute level if such indicators are available in one of the list. The lists are also used to filter potential false-positive at API level. MISP warninglists also serve a dual use. You cannot only use them to identify false positives, you can also use the lists to **track** if specific attributes (for example IPs or domains) are in the threat events you receive from your community.\n",
    "\n",
    "## IN:2 Set the MISP warninglist name (or ID)\n",
    "\n",
    "In the next cell you can use `warninglist_name` to indicate if you want to create a **new** MISP warninglist or add (or replace) data to an **existing** MISP warninglist. Contrary to some of the other MISP elements, warninglists do not have a UUID. The playbook uses the warninglist name as the reference information. The playbook checks if the name that you provide already exists as a warninglist. If it doesn't exist it will create it for you. If you know the ID of the warninglist, you can specify it directly with `warninglist_id`. This overrides `warninglist_name`.\n",
    "\n",
    "In summary:\n",
    "\n",
    "- A value in `warninglist_id`: **add** or **replace** the content of the existing warninglist with ID `warninglist_id`\n",
    "- `warninglist_name` with the name of a non-existing warninglist: the warninglist is **created**\n",
    "- `warninglist_name` with the name of an existing warninglist: **add** or **replace** the content of the warninglist"
   ]
  },
  {
   "cell_type": "code",
   "execution_count": 5,
   "id": "825c9b4f-ee62-44d1-bef6-4ad0894f28a8",
   "metadata": {
    "tags": []
   },
   "outputs": [],
   "source": [
    "# Provide the name of a warninglist. The playbook first checks if the warninglist exists before doing other actions.\n",
    "warninglist_name = \"Campaign-ZN03\" \n",
    "\n",
    "# Optionally provide a warninglist ID directly\n",
    "warninglist_id = 0"
   ]
  },
  {
   "cell_type": "code",
   "execution_count": 6,
   "id": "7b862605-f23f-4b6b-921c-f082fd24eade",
   "metadata": {
    "tags": []
   },
   "outputs": [
    {
     "name": "stdout",
     "output_type": "stream",
     "text": [
      "I will create a \u001b[92mnew warninglist\u001b[90m with the name \u001b[92mCampaign-ZN03\u001b[90m.\n",
      "\n",
      "\n",
      "\n"
     ]
    }
   ],
   "source": [
    "# Code block to check if a warninglist exists.\n",
    "warninglist_existing = False\n",
    "\n",
    "try:\n",
    "    warninglist_id = int(warninglist_id)\n",
    "except ValueError:\n",
    "    warninglist_id = 0\n",
    "    \n",
    "if warninglist_id <= 0:\n",
    "    all_warninglists = misp.warninglists(pythonify=True)\n",
    "    if len(all_warninglists) > 0:\n",
    "        for warninglist in all_warninglists:\n",
    "            if warninglist.name == warninglist_name:\n",
    "                warninglist_id = int(warninglist.id)\n",
    "                warninglist_name = warninglist.name\n",
    "                print(\"Found a matching warninglist with ID \\033[92m{}\\033[90m.\\n\".format(warninglist_id))\n",
    "                break\n",
    "\n",
    "if warninglist_id > 0:\n",
    "    existing_warninglist = misp.get_warninglist(warninglist_id, pythonify=True)\n",
    "    if \"errors\" in existing_warninglist:\n",
    "        print(\"Received an error from MISP when looking up warninglist ID \\033[92m{}\\033[90m.\".format(warninglist_id))\n",
    "    else:\n",
    "        print(\"I will use the warninglist \\033[92m{} - {}\\033[90m.\".format(warninglist_id, warninglist_name))\n",
    "        print(\"- Warninglist description (warninglist_description): \\033[1m{}\\033[0m\".format(existing_warninglist.description))\n",
    "        print(\"- Warninglist type (warninglist_type): \\033[1m{}\\033[0m\".format(existing_warninglist.type))\n",
    "        print(\"- Warninglist category (warninglist_category): \\033[1m{}\\033[0m\".format(existing_warninglist.category))\n",
    "        print(\"- Warninglist matching attributes(warninglist_matching_attributes) : \\033[1m{}\\033[0m\".format(existing_warninglist.WarninglistType))\n",
    "        #print(vars(existing_warninglist))\n",
    "        warninglist_request_url = \"{}/{}/{}\".format(misp_url, \"warninglists/edit\", warninglist_id)\n",
    "        warninglist_existing = True\n",
    "else:\n",
    "    print(\"I will create a \\033[92mnew warninglist\\033[90m with the name \\033[92m{}\\033[90m.\".format(warninglist_name))\n",
    "    warninglist_request_url = \"{}/{}\".format(misp_url, \"warninglists/add\")\n",
    "print(\"\\n\\n\")"
   ]
  },
  {
   "cell_type": "markdown",
   "id": "888168b4-033e-47d6-a51f-c6cc9ec87e6e",
   "metadata": {},
   "source": [
    "## IN:3 MISP warninglist details\n",
    "\n",
    "In the next cell you can provide your **input** and specify the details of the warninglists. If you use an existing warninglist and leave `warninglist_description`, `warninglist_type`, `warninglist_category` and `warninglist_matching_attributes` empty then the warninglist details remains unchanged. If you provide a value  the playbook will override their details in MISP. Make sure that if you change the type the warninglist values are still valid according to the newly selected warninglist type.\n",
    "\n",
    "The **description** of the warninglist is defined in `warninglist_description`. \n",
    "\n",
    "The warninglist **type** is defined in `warninglist_type` and you can choose between \n",
    "- *string* (default): perfect match of a string in the warning list against matching attributes\n",
    "- *substring*: substring matching of a string in the warning list against matching attributes\n",
    "- *hostname*: hostname matching (e.g. domain matching from URL)\n",
    "- *cidr*: IP or CDIR block matching\n",
    "- *regex*: regex matching of a string matching attributes\n",
    "\n",
    "The warninglist **category** is defined with `warninglist_category` and is a list of false positives (value `false_positive`) or a list of known identifiers (value `known`, the default value).\n",
    "\n",
    "And finally you can specify the list of **matching MISP attributes** where this warninglist is applied against with `warninglist_matching_attributes`. The default is an empty list. This means that all attribute types are taken into consideration. The list needs to be supplied in a Python list format."
   ]
  },
  {
   "cell_type": "code",
   "execution_count": 7,
   "id": "c287aa8a-47ea-477f-8e69-55ccb72b85a0",
   "metadata": {
    "tags": []
   },
   "outputs": [],
   "source": [
    "# Leave these settings unchanged if you want to keep the warninglist details already defined in MISP\n",
    "# Warninglist description\n",
    "warninglist_description = \"Tracker for indicators of Campaign-ZN03\"\n",
    "\n",
    "# Warninglist type: string (default), substring, hostname, cidr or regex\n",
    "warninglist_type = \"\"\n",
    "\n",
    "# Warninglist category: false_positive or known (default)\n",
    "warninglist_category = \"\"\n",
    "\n",
    "# Warninglist matching MISP attributes, default is an empty list, meaning all attribute types \n",
    "warninglist_matching_attributes = []"
   ]
  },
  {
   "cell_type": "markdown",
   "id": "162bf983-1e82-43d9-9c83-c049f5635fdc",
   "metadata": {},
   "source": [
    "## IN:4 MISP warninglist values\n",
    "\n",
    "### Add or replace values\n",
    "\n",
    "If you're using an existing warninglist then use `warninglist_values_action` to indicate if you want to **append** (add) data to an existing warninglist or **replace** the values that already exist. The default behaviour is to append values to a warninglist. This is not used when you create a new warninglist.\n",
    "\n",
    "### Warninglist values\n",
    "\n",
    "Then finally with `warninglist_values` you can specify the list of values for a warninglist. This needs to be a Python list. You can include comments by separating them the value from the comment with \"#\" (for example `\" mydomain.com # Demo domain \"`). Note that the playbook prevents you from adding doubles to the value list."
   ]
  },
  {
   "cell_type": "code",
   "execution_count": 8,
   "id": "ac4dfda2-737c-43af-a2f3-6b5ebef9b988",
   "metadata": {
    "tags": []
   },
   "outputs": [],
   "source": [
    "# Append the values from warninglist_values to the list or replace them\n",
    "warninglist_values_action = \"append\"\n",
    "\n",
    "# The values for the warninglist\n",
    "warninglist_values = [\n",
    "                        \"028878c4b6ab475ed0be97eca6f92af9   # TinyTurla / w64time.dll\",\n",
    "                        \"johnshopkin.net\",\n",
    "                        \"158.255.208.168  # SDBbot C2\"\n",
    "                      ]"
   ]
  },
  {
   "cell_type": "code",
   "execution_count": 9,
   "id": "8edf3f0e-e8cc-4472-841c-f8d2fbfedb42",
   "metadata": {
    "tags": []
   },
   "outputs": [
    {
     "name": "stdout",
     "output_type": "stream",
     "text": [
      "I will \u001b[92mcreate\u001b[90m the warninglist Campaign-ZN03 (type: string, category: known, matching_attributes: []). Continue in the next cell with the actual submit.\n",
      "\n",
      "\n"
     ]
    }
   ],
   "source": [
    "# Verify that we only have append or replace. This is not used for new warninglists\n",
    "if not warninglist_values_action in [\"append\", \"replace\"]:\n",
    "    warninglist_values_action = \"append\"\n",
    "\n",
    "# Set details of the warninglist, either use those of the existing warninglist, supplied as input or the default values\n",
    "if warninglist_existing:\n",
    "    post_description = warninglist_description if len(warninglist_description.strip()) > 0 else existing_warninglist.description\n",
    "    post_type = warninglist_type.lower() if len(warninglist_type.strip()) > 0 else existing_warninglist.type\n",
    "    post_category = warninglist_category.lower() if len(warninglist_category.strip()) > 0 else existing_warninglist.category\n",
    "    post_matching_attributes = warninglist_matching_attributes if type(warninglist_matching_attributes) == list and len(warninglist_matching_attributes) > 0 else existing_warninglist.WarninglistType\n",
    "    post_text = \"update\"\n",
    "else:\n",
    "    post_description = warninglist_description.strip()\n",
    "    post_type = warninglist_type.lower() if len(warninglist_type.strip()) > 0 else \"string\"\n",
    "    post_category = warninglist_category.lower() if len(warninglist_category.strip()) > 0 else \"known\"\n",
    "    post_matching_attributes = warninglist_matching_attributes if type(warninglist_matching_attributes) == list and len(warninglist_matching_attributes) > 0 else []\n",
    "    post_text = \"create\"\n",
    "\n",
    "# Process the values in the warninglist and put them in a text blob and Python list. Only consider the current values if there is an append action\n",
    "if warninglist_id > 0 and warninglist_values_action == \"append\":\n",
    "    for value in existing_warninglist.WarninglistEntry:\n",
    "        comment = \" # {}\".format(value[\"comment\"]) if value[\"comment\"] is not None and len(value[\"comment\"]) > 0 else \"\"\n",
    "        warninglist_values_blob = \"{}{}{} \\n\".format(warninglist_values_blob, value[\"value\"], comment)\n",
    "        warninglist_values_list.append(value[\"value\"])\n",
    "for value in warninglist_values:\n",
    "    if value not in warninglist_values_list and len(value) > 0:\n",
    "        warninglist_values_blob = \"{}{} \\n\".format(warninglist_values_blob, value)\n",
    "        warninglist_values_list.append(value.split(\"#\")[0].strip())\n",
    "\n",
    "print(\"I will \\033[92m{}\\033[90m the warninglist {} (type: {}, category: {}, matching_attributes: {}). Continue in the next cell with the actual submit.\\n\\n\".format(post_text, warninglist_name, post_type, post_category, post_matching_attributes))"
   ]
  },
  {
   "cell_type": "markdown",
   "id": "38606e75-2b61-4ade-8224-9b83f9ff72c7",
   "metadata": {},
   "source": [
    "## IN:5 Create or update the MISP warninglist\n",
    "\n",
    "The next cell does the actual connection with MISP and will submit the warninglist values. \n",
    "\n",
    "This is done with a **POST** request via the [_prepare_request](https://github.com/MISP/PyMISP/blob/main/pymisp/api.py#L3671) function of PyMISP. There are different PyMISP functions available to manipulate MISP warninglists but unfortunately there is no function that allows you to add a new warninglist, hence the use of `_prepare_request`. The function is a wrapper around the Python requests library and takes care of setting the necessary HTTP headers for you."
   ]
  },
  {
   "cell_type": "code",
   "execution_count": 10,
   "id": "e39e2220-7221-43cb-b1db-8f1a958496a7",
   "metadata": {
    "tags": []
   },
   "outputs": [
    {
     "name": "stdout",
     "output_type": "stream",
     "text": [
      "There was a \u001b[92msuccessfull\u001b[90m create for the warninglist \u001b[92m91\u001b[90m.\n",
      "\n",
      "\n"
     ]
    }
   ],
   "source": [
    "# Build the JSON block that we will submit\n",
    "custom_warninglist = {\n",
    "        \"name\":        f\"{warninglist_name}\",\n",
    "        \"description\": f\"{post_description}\",\n",
    "        \"type\":        f\"{post_type}\",\n",
    "        \"category\":    f\"{post_category}\",\n",
    "        \"entries\":     f\"{warninglist_values_blob}\",\n",
    "        \"matching_attributes\": post_matching_attributes\n",
    "    }\n",
    "\n",
    "# Send the POST request\n",
    "warninglist = {\"Warninglist\": custom_warninglist}\n",
    "warninglist_post = misp._prepare_request(\"POST\", warninglist_request_url, data=warninglist)\n",
    "\n",
    "# Process the response\n",
    "if not warninglist_post.status_code == 200:\n",
    "    if \"errors\" in warninglist_post.json():\n",
    "        print(\"There were \\033[91merrors when updating the warninglist.\\033[90m Fix these errors before proceeding.\\n\\n\")\n",
    "        print(warninglist_post.json()[\"errors\"])\n",
    "else:\n",
    "    if \"Warninglist\" in warninglist_post.json():\n",
    "        warninglist_id = int(warninglist_post.json()[\"Warninglist\"].get(\"id\", 0))\n",
    "        print(\"There was a \\033[92msuccessfull\\033[90m {} for the warninglist \\033[92m{}\\033[90m.\\n\\n\".format(post_text, warninglist_id))\n",
    "    else:\n",
    "        print(\"There were \\033[91merrors when updating the warninglist.\\033[90mFix these errors before proceeding.\\n\\n\")\n",
    "        print(warninglist_post.json()[\"errors\"])"
   ]
  },
  {
   "cell_type": "markdown",
   "id": "2da5b5d4-b3f9-4df4-a7ef-4f2035c45887",
   "metadata": {},
   "source": [
    "## IN:6 Enable the MISP warninglist\n",
    "\n",
    "If you create a new MISP warninglist you still need to **enable** the list before it becomes active in the MISP interface. Leave `warninglist_enable` to True to enable the warninglist. Note that for the playbook it does not matter if you enabled the warninglist or not."
   ]
  },
  {
   "cell_type": "code",
   "execution_count": 11,
   "id": "21b27736-5604-45ba-86ee-83996f901ae1",
   "metadata": {
    "tags": []
   },
   "outputs": [],
   "source": [
    "warninglist_enable = True"
   ]
  },
  {
   "cell_type": "code",
   "execution_count": 12,
   "id": "6f619ff9-dde0-46ec-bf5d-f82c2c77ec7a",
   "metadata": {
    "tags": []
   },
   "outputs": [
    {
     "name": "stdout",
     "output_type": "stream",
     "text": [
      "\u001b[92mEnabled\u001b[90m the warninglist. Now continue with querying MISP.\n",
      "\n",
      "\n"
     ]
    }
   ],
   "source": [
    "if warninglist_enable and warninglist_id > 0:\n",
    "    result = misp.enable_warninglist(warninglist_id)\n",
    "    if \"errors\" in result:\n",
    "        print(\"There was an \\033[91merror when enabling the warninglist.\\033[90m Fix these errors before proceeding.\\n\\n\")\n",
    "        print(result)\n",
    "    else:\n",
    "        print(\"\\033[92mEnabled\\033[90m the warninglist. Now continue with querying MISP.\\n\\n\")"
   ]
  },
  {
   "cell_type": "markdown",
   "id": "c16fb5cb-5868-4073-bb3e-0de19ca073dc",
   "metadata": {},
   "source": [
    "## IN:7 View the warninglist in MISP\n",
    "\n",
    "You can also view the result of the previous steps of the playbook directly in MISP. "
   ]
  },
  {
   "cell_type": "code",
   "execution_count": null,
   "id": "e60c50b2-ae9c-444a-8c66-830318638537",
   "metadata": {
    "tags": []
   },
   "outputs": [],
   "source": [
    "display(HTML(\"View the <a href=\\\"{}/warninglists/view/{}\\\" target=_blank>warninglist {} in MISP</a>\\n\".format(misp_url, warninglist_id, warninglist_name)))"
   ]
  },
  {
   "cell_type": "markdown",
   "id": "8d65ac93-9d78-445a-933d-e82c6d74719b",
   "metadata": {
    "tags": []
   },
   "source": [
    "![helpers/playbook-create_custom_MISP_warninglist_newlist.png](helpers/playbook-create_custom_MISP_warninglist_newlist.png)"
   ]
  },
  {
   "cell_type": "markdown",
   "id": "7238ce06-914d-4bfb-84d5-103fa74e45fc",
   "metadata": {},
   "source": [
    "# Correlation\n",
    "\n",
    "## ER:1 Query MISP\n",
    "\n",
    "Now that the warninglist is created (or updated), you can query the existing **MISP events** for matches with the entries on the warninglist. This playbook will search in all your events and returns a list of matches (attributes) corresponding with the values on the warninglist. You can consider this as some form of retro-search in your existing MISP database. \n",
    "\n",
    "You can limit this search to events that are **published** (with `match_published`) or events with specific **tags** (with `match_tags`)."
   ]
  },
  {
   "cell_type": "code",
   "execution_count": 14,
   "id": "22f85b83-6852-40ad-ad64-5fb08975537e",
   "metadata": {
    "tags": []
   },
   "outputs": [],
   "source": [
    "match_published = True\n",
    "match_tags = []\n",
    "#match_tags = [ \"workflow:state=\\\"complete\\\"\" ]"
   ]
  },
  {
   "cell_type": "code",
   "execution_count": 15,
   "id": "a8fbe7ac-04f8-4fbe-af7b-ba25b2be85fd",
   "metadata": {},
   "outputs": [
    {
     "name": "stdout",
     "output_type": "stream",
     "text": [
      "Got \u001b[92m3\u001b[90m correlation result(s).\n",
      "\n",
      "\n"
     ]
    }
   ],
   "source": [
    "# Code block to query MISP\n",
    "if len(warninglist_values_list) > 0:\n",
    "    search_match = misp.search(\"attributes\", value=warninglist_values_list, tags=match_tags, published=match_published, pythonify=True)\n",
    "    if len(search_match) > 0:\n",
    "        for attribute in search_match:\n",
    "            category_type = \"{}/{}\".format(attribute.category, attribute.type)\n",
    "            event_info = \"{} ({})\".format(attribute.Event.info, attribute.Event.id)\n",
    "            if attribute.value in correlation_results[\"misp\"]:\n",
    "                correlation_results[\"misp\"][attribute.value][\"category_type\"].append(category_type) if category_type not in correlation_results[\"misp\"][attribute.value][\"category_type\"] else None\n",
    "                correlation_results[\"misp\"][attribute.value][\"event_info\"].append(event_info) if event_info not in correlation_results[\"misp\"][attribute.value][\"event_info\"] else None\n",
    "            else:\n",
    "                correlation_results[\"misp\"][attribute.value] = {\"category_type\": [category_type], \"event_info\": [event_info]}\n",
    "\n",
    "    misp_matches_count = len(correlation_results[\"misp\"])\n",
    "    print(\"Got \\033[92m{}\\033[90m correlation result(s).\\n\\n\".format(misp_matches_count))\n",
    "else:\n",
    "    print(\"\\033[93mNo correlating MISP events found\")"
   ]
  },
  {
   "cell_type": "markdown",
   "id": "2061ca09-826c-47d3-8018-7c52cfa1223c",
   "metadata": {},
   "source": [
    "### MISP events correlation table\n",
    "\n",
    "The correlation results are now stored in `correlation_results[\"misp\"]`. Execute the next cell to display them in a table format. The table is also included in the summary sent to Mattermost and TheHive."
   ]
  },
  {
   "cell_type": "code",
   "execution_count": 16,
   "id": "5a924c84-4dcb-4206-a452-fa0347be315b",
   "metadata": {
    "tags": []
   },
   "outputs": [
    {
     "name": "stdout",
     "output_type": "stream",
     "text": [
      "+--------+----------------------------------+-------------------------+--------------------------------------------------------------------------------------------------------------------------+\n",
      "| Source | Value                            | Type                    | Event                                                                                                                    |\n",
      "+--------+----------------------------------+-------------------------+--------------------------------------------------------------------------------------------------------------------------+\n",
      "|  MISP  | 158.255.208.168                  | Network activity/ip-dst | [CERT-FR] Infrastructure d'attaque du groupe cybercriminel TA505 (2397)                                                  |\n",
      "|        |                                  |                         |                                                                                                                          |\n",
      "|  MISP  | johnshopkin.net                  | Network activity/domain | OSINT -  Protecting customers from a private-sector offensive actor using 0-day exploits and DevilsTongue malware (2411) |\n",
      "|        |                                  |                         |                                                                                                                          |\n",
      "|  MISP  | 028878c4b6ab475ed0be97eca6f92af9 | Payload delivery/md5    | TinyTurla - Turla deploys new malware to keep a secret backdoor on victim machines (2416)                                |\n",
      "|        |                                  |                         |                                                                                                                          |\n",
      "+--------+----------------------------------+-------------------------+--------------------------------------------------------------------------------------------------------------------------+\n"
     ]
    }
   ],
   "source": [
    "# Put the correlations in a pretty table. We can use this table later also for the summary\n",
    "misp_table = PrettyTable()\n",
    "if misp_matches_count > 0:    \n",
    "    misp_table.field_names = [\"Source\", \"Value\", \"Type\", \"Event\"]\n",
    "    misp_table.align[\"Value\"] = \"l\"\n",
    "    misp_table.align[\"Type\"] = \"l\"\n",
    "    misp_table.align[\"Event\"] = \"l\"\n",
    "    for correlation in correlation_results[\"misp\"]:\n",
    "        for category_type in correlation_results[\"misp\"][correlation][\"category_type\"]:\n",
    "            events = \"\"\n",
    "            for event in correlation_results[\"misp\"][correlation][\"event_info\"]:\n",
    "                events = \"{}{}\\n\".format(events, event)\n",
    "            misp_table.add_row([\"MISP\", correlation, category_type, events])\n",
    "    print(misp_table)\n",
    "else:\n",
    "    print(\"\\033[93mNo correlating MISP events found\")"
   ]
  },
  {
   "cell_type": "markdown",
   "id": "5b159447-997c-444b-bf86-9aa17b3a9ec6",
   "metadata": {},
   "source": [
    "## ER:2 Query VirusTotal\n",
    "\n",
    "If the **VirusTotal** module is enabled in MISP modules you can now query VirusTotal for every entry on the warninglist. The playbook will return the corresponding matches. The playbook checks if the attribute in the warninglist is an attribute type that is accepted by the VirusTotal MISP module (previously stored in `misp_modules[module_name][\"input\"]`). In order to deal with the API rate limits the playbook will also wait a short time between each query (`misp_modules_wait`)."
   ]
  },
  {
   "cell_type": "code",
   "execution_count": 17,
   "id": "42d13799-ffa7-42cb-b5a6-29b287bffad5",
   "metadata": {
    "tags": []
   },
   "outputs": [
    {
     "name": "stdout",
     "output_type": "stream",
     "text": [
      "Query \u001b[92m028878c4b6ab475ed0be97eca6f92af9\u001b[90m as \u001b[92mmd5\u001b[90m\n",
      " Got Payload delivery/md5 028878c4b6ab475ed0be97eca6f92af9\n",
      " Got Payload delivery/sha1 02c37ccdfccfe03560a4bf069f46e8ae3a5d2348\n",
      " Got Payload delivery/sha256 030cbd1a51f8583ccfc3fa38a28a5550dc1c84c05d6c0f5eb887d13dedf1da01\n",
      " Got External analysis/link https://www.virustotal.com/gui/file/030cbd1a51f8583ccfc3fa38a28a5550dc1c84c05d6c0f5eb887d13dedf1da01/detection/f-030cbd1a51f8583ccfc3fa38a28a5550dc1c84c05d6c0f5eb887d13dedf1da01-1676466051\n",
      " Got External analysis/text 55/70\n",
      "Sleeping for 3 seconds\n",
      "Query \u001b[92mjohnshopkin.net\u001b[90m as \u001b[92mhostname\u001b[90m\n",
      " Got Network activity/domain johnshopkin.net\n",
      " Got Network activity/ip-dst 152.89.247.66\n",
      " Got Network activity/ip-dst 172.105.27.36\n",
      " Got Network activity/ip-dst 44.227.65.245\n",
      " Got Network activity/ip-dst 44.227.76.166\n",
      " Got Network activity/ip-dst 45.61.137.20\n",
      " Got Network activity/ip-dst 54.197.173.238\n",
      "Sleeping for 3 seconds\n",
      "Query \u001b[92m158.255.208.168\u001b[90m as \u001b[92mip-src\u001b[90m\n",
      " Got Network activity/AS 9009\n",
      " Got Network activity/ip-dst 158.255.208.168\n",
      " Got Network activity/domain hk-ed.metercdn.net\n",
      "Sleeping for 3 seconds\n",
      "\n",
      "\n",
      "Got \u001b[92m15\u001b[90m correlation result(s) from VirusTotal.\n",
      "\n",
      "\n"
     ]
    }
   ],
   "source": [
    "# Code block to query VirusTotal\n",
    "module_name = \"virustotal_public\"\n",
    "if misp_modules[module_name][\"enabled\"] and len(warninglist_values_list) > 0:\n",
    "    for value in warninglist_values_list:\n",
    "        attribute_type = False\n",
    "        for expr in regular_expressions:\n",
    "            if re.match(r\"{}\".format(regular_expressions[expr]), value):\n",
    "                attribute_type = expr\n",
    "                break\n",
    "\n",
    "        if attribute_type in misp_modules[module_name][\"input\"]:\n",
    "            data = {\n",
    "                \"attribute\": {\n",
    "                    \"type\": f\"{attribute_type}\",\n",
    "                    \"uuid\": str(uuid.uuid4()),\n",
    "                    \"value\": f\"{value}\",\n",
    "                },\n",
    "                \"module\": module_name,\n",
    "                \"config\": {\"apikey\": virustotal_apikey}\n",
    "            }\n",
    "            print(\"Query \\033[92m{}\\033[90m as \\033[92m{}\\033[90m\".format(value, attribute_type))\n",
    "            result = requests.post(\"{}/query\".format(misp_modules_url), headers=misp_modules_headers, json=data)\n",
    "            #pprint(result.json())\n",
    "            if \"results\" in result.json() and len(result.json()[\"results\"]) > 0:\n",
    "                result_json = result.json()[\"results\"]\n",
    "                for misp_object in result_json[\"Object\"]:\n",
    "                    for misp_attribute in misp_object[\"Attribute\"]:\n",
    "                        category_type = \"{}/{}\".format(misp_attribute[\"category\"], misp_attribute[\"type\"])\n",
    "                        if category_type not in [\"Other/text\"]:\n",
    "                            correlation_results[\"virustotal\"][misp_attribute[\"value\"]] = {\"category_type\": [category_type]}\n",
    "                            print(\" Got {} {}\".format(category_type, misp_attribute[\"value\"]))\n",
    "\n",
    "            print(\"Sleeping for {} seconds\".format(misp_modules_wait))\n",
    "            time.sleep(misp_modules_wait)\n",
    "        else:\n",
    "            print(\"Skipping \\033[91m{}\\033[90m. Not a valid query type ({}).\".format(value, misp_modules[module_name][\"input\"]))\n",
    "\n",
    "    print(\"\\n\\nGot \\033[92m{}\\033[90m correlation result(s) from VirusTotal.\\n\\n\".format(len(correlation_results[\"virustotal\"])))"
   ]
  },
  {
   "cell_type": "markdown",
   "id": "aa0c62bb-794e-4aca-ade8-b3c0ec7f8a22",
   "metadata": {},
   "source": [
    "### VirusTotal correlation table\n",
    "\n",
    "The correlation results are now stored in `correlation_results[\"virustotal\"]`. Execute the next cell to display them in a table format. The table is also included in the summary sent to Mattermost and TheHive."
   ]
  },
  {
   "cell_type": "code",
   "execution_count": 18,
   "id": "29c480ca-23dd-4036-b143-7b5d423a37ca",
   "metadata": {
    "tags": []
   },
   "outputs": [
    {
     "name": "stdout",
     "output_type": "stream",
     "text": [
      "+------------+----------------------------------------------------------------------------------------------------------------------------------------------------------------------------------------------+-----------------------------+\n",
      "|   Source   | Value                                                                                                                                                                                        | Category and Type           |\n",
      "+------------+----------------------------------------------------------------------------------------------------------------------------------------------------------------------------------------------+-----------------------------+\n",
      "| VirusTotal | 028878c4b6ab475ed0be97eca6f92af9                                                                                                                                                             | ['Payload delivery/md5']    |\n",
      "| VirusTotal | 02c37ccdfccfe03560a4bf069f46e8ae3a5d2348                                                                                                                                                     | ['Payload delivery/sha1']   |\n",
      "| VirusTotal | 030cbd1a51f8583ccfc3fa38a28a5550dc1c84c05d6c0f5eb887d13dedf1da01                                                                                                                             | ['Payload delivery/sha256'] |\n",
      "| VirusTotal | https://www.virustotal.com/gui/file/030cbd1a51f8583ccfc3fa38a28a5550dc1c84c05d6c0f5eb887d13dedf1da01/detection/f-030cbd1a51f8583ccfc3fa38a28a5550dc1c84c05d6c0f5eb887d13dedf1da01-1676466051 | ['External analysis/link']  |\n",
      "| VirusTotal | 55/70                                                                                                                                                                                        | ['External analysis/text']  |\n",
      "| VirusTotal | johnshopkin.net                                                                                                                                                                              | ['Network activity/domain'] |\n",
      "| VirusTotal | 152.89.247.66                                                                                                                                                                                | ['Network activity/ip-dst'] |\n",
      "| VirusTotal | 172.105.27.36                                                                                                                                                                                | ['Network activity/ip-dst'] |\n",
      "| VirusTotal | 44.227.65.245                                                                                                                                                                                | ['Network activity/ip-dst'] |\n",
      "| VirusTotal | 44.227.76.166                                                                                                                                                                                | ['Network activity/ip-dst'] |\n",
      "| VirusTotal | 45.61.137.20                                                                                                                                                                                 | ['Network activity/ip-dst'] |\n",
      "| VirusTotal | 54.197.173.238                                                                                                                                                                               | ['Network activity/ip-dst'] |\n",
      "| VirusTotal | 9009                                                                                                                                                                                         | ['Network activity/AS']     |\n",
      "| VirusTotal | 158.255.208.168                                                                                                                                                                              | ['Network activity/ip-dst'] |\n",
      "| VirusTotal | hk-ed.metercdn.net                                                                                                                                                                           | ['Network activity/domain'] |\n",
      "+------------+----------------------------------------------------------------------------------------------------------------------------------------------------------------------------------------------+-----------------------------+\n"
     ]
    }
   ],
   "source": [
    "# Put the correlations in a pretty table. We can use this table later also for the summary\n",
    "vt_table = PrettyTable()\n",
    "if len(correlation_results[\"virustotal\"]) > 0:    \n",
    "    vt_table.field_names = [\"Source\", \"Value\", \"Category and Type\"]\n",
    "    vt_table.align[\"Value\"] = \"l\"\n",
    "    vt_table.align[\"Category and Type\"] = \"l\"\n",
    "    vt_table.border = True\n",
    "    for el in correlation_results[\"virustotal\"]:\n",
    "        vt_table.add_row([\"VirusTotal\", el, correlation_results[\"virustotal\"][el][\"category_type\"]])\n",
    "    print(vt_table)\n",
    "else:\n",
    "    print(\"\\033[93mNo correlating data found from VirusTotal\")\n"
   ]
  },
  {
   "cell_type": "markdown",
   "id": "fc29d8f6-90f8-4b76-8566-902bbf151db5",
   "metadata": {},
   "source": [
    "## ER:3 Query Shodan\n",
    "\n",
    "If the **Shodan** module is enabled in MISP modules you can now query Shodan for every entry on the warninglist. The playbook will return the corresponding matches. The Shodan MISP module only accepts IP addresses as input, so only those attributes corresponding with the IP regular expression will be used. In order to deal with the API rate limits the playbook will also wait a short time between each query (`misp_modules_wait`)."
   ]
  },
  {
   "cell_type": "code",
   "execution_count": 19,
   "id": "0a0ff02b-f3ce-4028-8743-2b6f382ee129",
   "metadata": {
    "tags": []
   },
   "outputs": [
    {
     "name": "stdout",
     "output_type": "stream",
     "text": [
      "Skipping \u001b[91m028878c4b6ab475ed0be97eca6f92af9\u001b[90m. Not a valid query type (['ip-src', 'ip-dst']).\n",
      "Skipping \u001b[91mjohnshopkin.net\u001b[90m. Not a valid query type (['ip-src', 'ip-dst']).\n",
      "Query \u001b[92m158.255.208.168\u001b[90m as \u001b[92mip-src\u001b[90m\n",
      " Got Network activity/AS AS9009\n",
      " Got Network activity/ip-src 158.255.208.168\n",
      " Got Network activity/ip-src 158.255.208.168\n",
      " Got Network activity/port 80\n",
      " Got Network activity/port 443\n",
      " Got Network activity/port 8443\n",
      " Got Network activity/domain 158.in-addr.arpa\n",
      " Got Network activity/domain metercdn.net\n",
      " Got Network activity/hostname 168.208.255.158.in-addr.arpa\n",
      " Got Network activity/hostname metercdn.net\n",
      " Got Network activity/x509-fingerprint-sha256 2ae166ec2af00fa9bce0d9f992608f9075109d6b9a126274213a8a2d1c83ab70\n",
      " Got Network activity/x509-fingerprint-sha1 0e8ff37c435bccb4082ffa95aa3ed5cbd04f6e87\n",
      " Got Network activity/x509-fingerprint-sha256 2ae166ec2af00fa9bce0d9f992608f9075109d6b9a126274213a8a2d1c83ab70\n",
      " Got Network activity/x509-fingerprint-sha1 0e8ff37c435bccb4082ffa95aa3ed5cbd04f6e87\n",
      "Sleeping for 3 seconds\n",
      "\n",
      "\n",
      "Got \u001b[92m10\u001b[90m correlation result(s) from Shodan.\n",
      "\n",
      "\n"
     ]
    }
   ],
   "source": [
    "# Code block to query Shodan\n",
    "module_name = \"shodan\"\n",
    "if misp_modules[module_name][\"enabled\"] and len(warninglist_values_list) > 0:\n",
    "    for value in warninglist_values_list:\n",
    "        attribute_type = False\n",
    "        for expr in regular_expressions:\n",
    "            if re.match(r\"{}\".format(regular_expressions[expr]), value):\n",
    "                attribute_type = expr\n",
    "                break\n",
    "\n",
    "        if attribute_type in misp_modules[module_name][\"input\"]:\n",
    "            data = {\n",
    "                \"attribute\": {\n",
    "                    \"type\": f\"{attribute_type}\",\n",
    "                    \"uuid\": str(uuid.uuid4()),\n",
    "                    \"value\": f\"{value}\",\n",
    "                },\n",
    "                \"module\": module_name,\n",
    "                \"config\": {\"apikey\": shodan_apikey}\n",
    "            }\n",
    "            print(\"Query \\033[92m{}\\033[90m as \\033[92m{}\\033[90m\".format(value, attribute_type))\n",
    "            result = requests.post(\"{}/query\".format(misp_modules_url), headers=misp_modules_headers, json=data)\n",
    "            #pprint(result.json())\n",
    "            if \"results\" in result.json() and len(result.json()[\"results\"]) > 0:\n",
    "                result_json = result.json()[\"results\"]\n",
    "                for misp_object in result_json[\"Object\"]:\n",
    "                    for misp_attribute in misp_object[\"Attribute\"]:\n",
    "                        category_type = \"{}/{}\".format(misp_attribute[\"category\"], misp_attribute[\"type\"])\n",
    "                        if category_type not in [\"Other/text\", \"Other/float\", \"Other/datetime\"]:\n",
    "                            correlation_results[\"shodan\"][misp_attribute[\"value\"]] = {\"category_type\": [category_type]}\n",
    "                            print(\" Got {} {}\".format(category_type, misp_attribute[\"value\"]))\n",
    "\n",
    "            print(\"Sleeping for {} seconds\".format(misp_modules_wait))\n",
    "            time.sleep(misp_modules_wait)\n",
    "        else:\n",
    "            print(\"Skipping \\033[91m{}\\033[90m. Not a valid query type ({}).\".format(value, misp_modules[module_name][\"input\"]))\n",
    "\n",
    "    print(\"\\n\\nGot \\033[92m{}\\033[90m correlation result(s) from Shodan.\\n\\n\".format(len(correlation_results[\"shodan\"])))"
   ]
  },
  {
   "cell_type": "markdown",
   "id": "81952a44-16b9-45b6-aac7-676ebd74ef00",
   "metadata": {},
   "source": [
    "### Shodan correlation table\n",
    "\n",
    "The correlation results are now stored in `correlation_results[\"shodan\"]`. Execute the next cell to display them in a table format. The table is also included in the summary sent to Mattermost and TheHive."
   ]
  },
  {
   "cell_type": "code",
   "execution_count": 20,
   "id": "9858dc29-a6df-4b2b-b24c-e3f67d56e65b",
   "metadata": {},
   "outputs": [
    {
     "name": "stdout",
     "output_type": "stream",
     "text": [
      "+--------+------------------------------------------------------------------+----------------------------------------------+\n",
      "| Source | Value                                                            | Category and Type                            |\n",
      "+--------+------------------------------------------------------------------+----------------------------------------------+\n",
      "| Shodan | AS9009                                                           | ['Network activity/AS']                      |\n",
      "| Shodan | 158.255.208.168                                                  | ['Network activity/ip-src']                  |\n",
      "| Shodan | 80                                                               | ['Network activity/port']                    |\n",
      "| Shodan | 443                                                              | ['Network activity/port']                    |\n",
      "| Shodan | 8443                                                             | ['Network activity/port']                    |\n",
      "| Shodan | 158.in-addr.arpa                                                 | ['Network activity/domain']                  |\n",
      "| Shodan | metercdn.net                                                     | ['Network activity/hostname']                |\n",
      "| Shodan | 168.208.255.158.in-addr.arpa                                     | ['Network activity/hostname']                |\n",
      "| Shodan | 2ae166ec2af00fa9bce0d9f992608f9075109d6b9a126274213a8a2d1c83ab70 | ['Network activity/x509-fingerprint-sha256'] |\n",
      "| Shodan | 0e8ff37c435bccb4082ffa95aa3ed5cbd04f6e87                         | ['Network activity/x509-fingerprint-sha1']   |\n",
      "+--------+------------------------------------------------------------------+----------------------------------------------+\n"
     ]
    }
   ],
   "source": [
    "# Put the correlations in a pretty table. We can use this table later also for the summary\n",
    "shodan_table = PrettyTable()\n",
    "if len(correlation_results[\"shodan\"]) > 0:    \n",
    "    shodan_table.field_names = [ \"Source\", \"Value\", \"Category and Type\"]\n",
    "    shodan_table.align[\"Value\"] = \"l\"\n",
    "    shodan_table.align[\"Category and Type\"] = \"l\"\n",
    "    shodan_table.border = True\n",
    "    for el in correlation_results[\"shodan\"]:\n",
    "        shodan_table.add_row([\"Shodan\", el, correlation_results[\"shodan\"][el][\"category_type\"]] )\n",
    "    print(shodan_table)\n",
    "else:\n",
    "    print(\"\\033[93mNo correlating data found from Shodan\")\n"
   ]
  },
  {
   "cell_type": "markdown",
   "id": "70dea5ca",
   "metadata": {},
   "source": [
    "# Closure\n",
    "\n",
    "In this **closure** or end step we create a **summary** of the actions that were performed by the playbook. The summary is printed and can also be send to a chat channel. "
   ]
  },
  {
   "cell_type": "markdown",
   "id": "75b87ba6-19cc-4127-9299-480f708a61ff",
   "metadata": {},
   "source": [
    "## EN:1 Create the summary of the playbook \n",
    "\n",
    "The next section creates a summary and stores the output in the variable `summary` in Markdown format. It also stores an intro text in the variable `intro`. These variables can later be used when sending information to Mattermost or TheHive."
   ]
  },
  {
   "cell_type": "code",
   "execution_count": 21,
   "id": "12561137-e759-440b-9d21-dc6def901cbc",
   "metadata": {
    "tags": []
   },
   "outputs": [
    {
     "name": "stdout",
     "output_type": "stream",
     "text": [
      "The \u001b[92msummary\u001b[90m of the playbook is available.\n",
      "\n"
     ]
    }
   ],
   "source": [
    "summary = \"## MISP Playbook summary\\nCreate a custom MISP warninglist. \\n\\n\"\n",
    "\n",
    "if post_text == \"update\":\n",
    "    summary += \"There was an **update** to a MISP warning list {} ({}).\\n\\n\".format(warninglist_name, warninglist_id)\n",
    "else:\n",
    "    summary += \"A **new** MISP warning list {} ({}) was added.\\n\\n\".format(warninglist_name, warninglist_id)\n",
    "\n",
    "intro = summary\n",
    "\n",
    "summary += \"### Warninglist details\\n\"\n",
    "summary += \"\\n - Name: {}\".format(warninglist_name)\n",
    "summary += \"\\n - ID: {}\".format(warninglist_id)\n",
    "summary += \"\\n - Description: {}\".format(warninglist_description)\n",
    "summary += \"\\n - Type: {}\".format(warninglist_type)\n",
    "summary += \"\\n - Category: {}\".format(warninglist_category)\n",
    "summary += \"\\n - Matching attributes: {}\".format(warninglist_matching_attributes)\n",
    "summary += \"\\n\\n\"\n",
    "summary += \"### Warninglist values\\n\"\n",
    "for value in warninglist_values_list:\n",
    "    summary += \"{}\\n\".format(value)\n",
    "summary += \"\\n\"\n",
    "\n",
    "\n",
    "if misp_matches_count > 0:\n",
    "    summary += \"### MISP event matches\\nThere are {} matches for the warninglist values found in the MISP events. \\n\\n\".format(misp_matches_count)\n",
    "    misp_table.set_style(MARKDOWN)\n",
    "    summary += misp_table.get_string()\n",
    "else:\n",
    "    summary += \"### MISP event matches\\nThere are no matches for the warninglist values found in the MISP events.\"\n",
    "summary += \"\\n\"\n",
    "if len(correlation_results[\"virustotal\"]) > 0:\n",
    "    summary += \"### VirusTotal matches\\nThere are {} matches for the warninglist values found in VirusTotal. \\n\\n\".format(len(correlation_results[\"virustotal\"]))\n",
    "    vt_table.set_style(MARKDOWN)\n",
    "    summary += vt_table.get_string()\n",
    "else:\n",
    "    summary += \"### VirusTotal matches\\nThere are no matches for the warninglist values found in VirusTotal.\"\n",
    "summary += \"\\n\"\n",
    "if len(correlation_results[\"shodan\"]) > 0:\n",
    "    summary += \"### Shodan matches\\nThere are {} matches for the warninglist values found in Shodan. \\n\\n\".format(len(correlation_results[\"shodan\"]))\n",
    "    shodan_table.set_style(MARKDOWN)\n",
    "    summary += shodan_table.get_string()\n",
    "else:\n",
    "    summary += \"### Shodan matches\\nThere are no matches for the warninglist values found in Shodan.\"\n",
    "\n",
    "summary += \"\\n\\n\"\n",
    "\n",
    "print(\"The \\033[92msummary\\033[90m of the playbook is available.\\n\")"
   ]
  },
  {
   "cell_type": "markdown",
   "id": "eba96062-deaa-4fb9-8302-7b3ef829201e",
   "metadata": {},
   "source": [
    "## EN:2 Send a summary to Mattermost\n",
    "\n",
    "Now you can send the summary to Mattermost. You can send the summary in two ways by selecting one of the options for the variable `send_to_mattermost_option` in the next cell.\n",
    "\n",
    "- The default option where the entire summary is in the **chat**, or\n",
    "- a short intro and the summary in a **card**\n",
    "\n",
    "For this playbook we rely on a webhook in Mattermost. You can add a webhook by choosing the gear icon in Mattermost, then choose Integrations and then **Incoming Webhooks**. Set a channel for the webhook and lock the webhook to this channel with *\"Lock to this channel\"*."
   ]
  },
  {
   "cell_type": "code",
   "execution_count": 22,
   "id": "8c455bc3-35cc-436d-8237-95c81b57208f",
   "metadata": {
    "tags": []
   },
   "outputs": [],
   "source": [
    "send_to_mattermost_option = \"via a chat message\"\n",
    "#send_to_mattermost_option = \"via a chat message with card\""
   ]
  },
  {
   "cell_type": "code",
   "execution_count": 23,
   "id": "ca49f33e",
   "metadata": {},
   "outputs": [
    {
     "name": "stdout",
     "output_type": "stream",
     "text": [
      "Summary is \u001b[92msent to Mattermost.\n",
      "\n"
     ]
    }
   ],
   "source": [
    "message = False\n",
    "if send_to_mattermost_option == \"via a chat message\":\n",
    "    message = {\"username\": mattermost_playbook_user, \"text\": summary}\n",
    "elif send_to_mattermost_option == \"via a chat message with card\":\n",
    "    message = {\"username\": mattermost_playbook_user, \"text\": intro, \"props\": {\"card\": summary}}\n",
    "\n",
    "if message:\n",
    "    r = requests.post(mattermost_hook, data=json.dumps(message))\n",
    "    r.raise_for_status()\n",
    "if message and r.status_code == 200:\n",
    "    print(\"Summary is \\033[92msent to Mattermost.\\n\")\n",
    "else:\n",
    "    print(\"\\033[91mFailed to sent summary\\033[90m to Mattermost.\\n\")"
   ]
  },
  {
   "cell_type": "markdown",
   "id": "c0a91755-2b39-4cff-9304-ee9ce4e531dc",
   "metadata": {},
   "source": [
    "![helpers/playbook-create_custom_MISP_warninglist_mattermost.png](helpers/playbook-create_custom_MISP_warninglist_mattermost.png)"
   ]
  },
  {
   "cell_type": "markdown",
   "id": "f9c0f780-d8df-4f9b-9a11-230eb3e4f42d",
   "metadata": {},
   "source": [
    "## EN:3 Send an alert to TheHive\n",
    "\n",
    "Next to informing your colleagues via Mattermost you can also send an **alert** to TheHive. The alert contains the summary, and a list of MISP warninglist values as 'observables'.\n",
    "\n",
    "You can change the alert title with `thehive_alert_title` and provide a reference type with `thehive_alert_reference`. Note that this reference needs to be **unique** in TheHive. If you want to create multiple alerts for the same MISP event then add some random value at the end."
   ]
  },
  {
   "cell_type": "code",
   "execution_count": 24,
   "id": "87edbdbf-e6b0-47b7-b70a-4ddb4af67e55",
   "metadata": {
    "tags": []
   },
   "outputs": [],
   "source": [
    "# The title of the TheHive alert\n",
    "thehive_alert_title = \"MISP Playbook Summary\"\n",
    "\n",
    "# A unique reference for the TheHive\n",
    "thehive_alert_reference = \"MISP warninglist ID - {} - {} - {}\".format(warninglist_name, warninglist_id, str(uuid.uuid4()))\n",
    "\n",
    "# Alert type in TheHive\n",
    "thehive_alert_type = \"MISP Playbook alert\"\n",
    "\n",
    "# TLP:Amber for TheHive\n",
    "thehive_tlp = 2\n",
    "\n",
    "# PAP:GREEN for TheHive\n",
    "thehive_pap = 1"
   ]
  },
  {
   "cell_type": "code",
   "execution_count": 25,
   "id": "0da33569-cd50-414a-ad0b-70bcdb69174d",
   "metadata": {
    "tags": []
   },
   "outputs": [
    {
     "name": "stdout",
     "output_type": "stream",
     "text": [
      "The TheHive \u001b[92malert ~32912 is added\n"
     ]
    }
   ],
   "source": [
    "# Code block to send an alert to TheHive\n",
    "# We use the Python requests library\n",
    "thehive_headers = {'Content-Type': 'application/json', 'Authorization': f'Bearer {thehive_key}'}\n",
    "thehive_url_create = \"{}/api/v1/alert\".format(thehive_url)\n",
    "\n",
    "thehive_observables = []\n",
    "\n",
    "for value in warninglist_values_list:\n",
    "    attribute_type = False\n",
    "    for expr in regular_expressions:\n",
    "        if re.match(r\"{}\".format(regular_expressions[expr]), value):\n",
    "            attribute_type = expr\n",
    "            break\n",
    "    if attribute_type:\n",
    "        if attribute_type == \"ip-src\" or attribute_type == \"ip-dst\":\n",
    "            dataType = \"ip\"\n",
    "        elif attribute_type == \"md5\" or attribute_type == \"sha256\" or attribute_type == \"sha1\":\n",
    "            dataType = \"hash\"\n",
    "        else:\n",
    "            dataType = attribute_type\n",
    "\n",
    "        if dataType:\n",
    "            thehive_observables.append({\"dataType\": dataType, \"data\": value, \"pap\": thehive_pap, \"tlp\": thehive_tlp})\n",
    "            \n",
    "thehive_alert = {\"title\": thehive_alert_title, \n",
    "                 \"description\": intro,\n",
    "                 \"summary\": summary[0:1048576],\n",
    "                 \"type\": thehive_alert_type, \n",
    "                 \"source\": \"playbook\", \n",
    "                 \"sourceRef\": thehive_alert_reference, \n",
    "                 \"tlp\": thehive_tlp, \"pap\": thehive_pap,\n",
    "                 \"observables\": thehive_observables}\n",
    "\n",
    "result = requests.post(thehive_url_create, headers=thehive_headers, data=json.dumps(thehive_alert))\n",
    "if result.status_code == 201 and result.json()['status'] == 'New':\n",
    "    thehive_alert_id = result.json()['_id']\n",
    "    print('The TheHive \\033[92malert {} is added'.format(thehive_alert_id))\n",
    "else:\n",
    "    print('\\033[91mFailed\\033[90m to add TheHive alert')\n",
    "    print(result.text)"
   ]
  },
  {
   "cell_type": "markdown",
   "id": "ef030fcf-0aa2-4a0a-8948-91a1a9d563ce",
   "metadata": {},
   "source": [
    "![helpers/playbook-create_custom_MISP_warninglist_thehive.png](helpers/playbook-create_custom_MISP_warninglist_thehive.png)"
   ]
  },
  {
   "cell_type": "markdown",
   "id": "498b8eff-7d1b-47b7-90c4-e13cc738b36c",
   "metadata": {},
   "source": [
    "## EN:4 End of the playbook "
   ]
  },
  {
   "cell_type": "code",
   "execution_count": null,
   "id": "4c03bb30",
   "metadata": {},
   "outputs": [],
   "source": [
    "print(\"\\033[92m End of the playbook\")\n"
   ]
  },
  {
   "cell_type": "markdown",
   "id": "b17af9f2",
   "metadata": {},
   "source": [
    "## External references <a name=\"extreferences\"></a>\n",
    "\n",
    "- [The MISP Project](https://www.misp-project.org/)\n",
    "- [Mattermost](https://mattermost.com/)\n",
    "- [TheHive](https://thehive-project.org/)\n",
    "- [VirusTotal](https://www.virustotal.com/)\n",
    "- [Shodan](https://www.shodan.io/)"
   ]
  },
  {
   "cell_type": "markdown",
   "id": "e1c813f6",
   "metadata": {},
   "source": [
    "## Technical details \n",
    "\n",
    "### Documentation\n",
    "\n",
    "This playbook requires these Python **libraries** to exist in the environment where the playbook is executed. You can install them with `pip install <library>`.\n",
    "\n",
    "```\n",
    "pyfaup\n",
    "chardet\n",
    "PrettyTable\n",
    "mattermostdriver\n",
    "```\n",
    "\n",
    "You need to have **network access** to \n",
    "- your MISP server (HTTP or HTTPS)\n",
    "\n",
    "These **MISP modules** need to be enabled\n",
    "- virustotal_public\n",
    "- shodan\n",
    "\n",
    "You need\n",
    "- an **API key with MISP**\n",
    "- - Under Global Actions, My Profile. Add an extra authentication key.\n",
    "- - Add the API key (`misp_key`) and the MISP URL (`misp_url`) to `keys.py`\n",
    "- - If you use a self-signed certificate set `misp_verifycert` to False\n",
    "- an **API key with VirusTotal**\n",
    "- - Click on your username (upper right corner), select API key.\n",
    "- - Add the API key (`virustotal_apikey`) to `keys.py`.\n",
    "- an **API key with Shodan**\n",
    "- - Click on your Shodan (upper left corner), click on Account.\n",
    "- - Add the API key (`shodan_apikey`) to `keys.py`.\n",
    "- an **incoming webhook in your Mattermost server**\n",
    "- - Set this up under Integrations, Incoming Webhooks. Set as default channel your SOC/CSIRT team channel. For additional protection, lock the webhook so that the incoming webhook can post only to the selected channel.\n",
    "- - Add the webhook to `mattermost_hook`. It is displayed under 'integrations/incoming_webhooks' and set a username under `mattermost_playbook_user`\n",
    "- an **API key with your TheHive server**\n",
    "- - Click on your username (upper right corner), Settings and then API key\n",
    "- - Make sure that your user has 'manageAlert/create' privileges\n",
    "- - Add the API key (`thehive_key`) to `keys.py` and add the URL to TheHive (`thehive_url`)\n",
    "\n",
    "### Colour codes\n",
    "\n",
    "The output from Python displays some text in different colours. These are the colour codes\n",
    "\n",
    "```\n",
    "Red = '\\033[91m'\n",
    "Green = '\\033[92m'\n",
    "Blue = '\\033[94m'\n",
    "Cyan = '\\033[96m'\n",
    "White = '\\033[97m'\n",
    "Yellow = '\\033[93m'\n",
    "Magenta = '\\033[95m'\n",
    "Grey = '\\033[90m'\n",
    "Black = '\\033[90m'\n",
    "Default = '\\033[99m'\n",
    "```"
   ]
  },
  {
   "cell_type": "code",
   "execution_count": null,
   "id": "14dce812-e432-4c18-8358-f8b66e5b94a5",
   "metadata": {},
   "outputs": [],
   "source": []
  }
 ],
 "metadata": {
  "celltoolbar": "Attachments",
  "kernelspec": {
   "display_name": "Python 3 (ipykernel)",
   "language": "python",
   "name": "python3"
  },
  "language_info": {
   "codemirror_mode": {
    "name": "ipython",
    "version": 3
   },
   "file_extension": ".py",
   "mimetype": "text/x-python",
   "name": "python",
   "nbconvert_exporter": "python",
   "pygments_lexer": "ipython3",
   "version": "3.8.10"
  },
  "toc-showcode": false,
  "toc-showmarkdowntxt": false
 },
 "nbformat": 4,
 "nbformat_minor": 5
}
