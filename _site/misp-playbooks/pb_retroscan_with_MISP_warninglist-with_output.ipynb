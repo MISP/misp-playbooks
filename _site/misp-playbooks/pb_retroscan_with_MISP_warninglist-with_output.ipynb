{
 "cells": [
  {
   "cell_type": "markdown",
   "id": "ca1fbfb5",
   "metadata": {
    "tags": [
     "playbook-introduction"
    ]
   },
   "source": [
    "# Retroscan with a MISP warninglist\n",
    "\n",
    "## Introduction\n",
    "\n",
    "- UUID: **9469c0d5-2d79-4c2e-8727-fa9321411e92**\n",
    "- Started from [issue 8](https://github.com/MISP/misp-playbooks/issues/8)\n",
    "- State: **Published** : demo version with **output**\n",
    "- Purpose: This playbook does a *retroscan* to check for attributes matching the values in a warninglist. You can then disable the to_ids flag or add a tag or comment.\n",
    "    - This playbook acts as a *retroscan* for threat intelligence **curation** when you add for example a new warninglist to MISP.\n",
    "    - The results are summarised and sent to Mattermost and TheHive.\n",
    "    - Also have a look at \"[Create a custom MISP warninglist](https://github.com/MISP/misp-playbooks/blob/main/misp-playbooks/pb_create_custom_MISP_warninglist.ipynb)\" for ways to create or edit warninglists via MISP playbooks.\n",
    "- Tags: [ \"warninglist\", \"hunting\", \"false-positives\", \"indicator-quality\", \"curation\" ]\n",
    "- External resources: **Mattermost**, **TheHive**\n",
    "- Target audience: **SOC, CSIRT**, **CTI**\n"
   ]
  },
  {
   "cell_type": "markdown",
   "id": "a512a2c1",
   "metadata": {
    "jp-MarkdownHeadingCollapsed": true,
    "tags": []
   },
   "source": [
    "# Playbook\n",
    "\n",
    "- **Retroscan with a MISP warninglist**\n",
    "    - Introduction\n",
    "- **Preparation**\n",
    "    - PR:1 Initialise environment\n",
    "    - PR:2 Set helper variables\n",
    "- **Warninglist**\n",
    "    - WL:1 MISP warninglists\n",
    "    - WL:2 Set the MISP warninglist name or ID\n",
    "    - WL:3 Get the warninglist values\n",
    "- **Retroscan**\n",
    "    - RS:1 Define the retroscan filters\n",
    "    - RS:2 Show retroscan matches\n",
    "    - RS:3 Retroscan actions\n",
    "    - RS:4 Indicators (attributes) and event list\n",
    "- **Closure**\n",
    "    - EN:1 Create the summary of the playbook \n",
    "    - EN:2 Send a summary to Mattermost\n",
    "    - EN:3 Send an alert to TheHive\n",
    "    - EN:4 End of the playbook \n",
    "- External references\n",
    "- Technical details"
   ]
  },
  {
   "cell_type": "markdown",
   "id": "8dc24913",
   "metadata": {
    "tags": []
   },
   "source": [
    "# Preparation\n",
    "\n",
    "## PR:1 Initialise environment\n",
    "\n",
    "This section **initialises the playbook environment** and loads the required Python libraries. \n",
    "\n",
    "The credentials for MISP (**API key**) and other services are loaded from the file `keys.py` in the directory **vault**. A [PyMISP](https://github.com/MISP/PyMISP) object is created to interact with MISP and the active MISP server is displayed. By printing out the server name you know that it's possible to connect to MISP. In case of a problem PyMISP will indicate the error with `PyMISPError: Unable to connect to MISP`.\n",
    "\n",
    "The contents of the `keys.py` file should contain at least :\n",
    "\n",
    "```\n",
    "misp_url=\"<MISP URL>\"                  # The URL to our MISP server\n",
    "misp_key=\"<MISP API KEY>\"              # The MISP API key\n",
    "misp_verifycert=<True or False>        # Indicate if PyMISP should attempt to verify the certificate or ignore errors\n",
    "mattermost_playbook_user=\"<MATTERMOST USER>\"\n",
    "mattermost_hook=\"<MATTERMOST WEBHOOK>\"\n",
    "thehive_url=\"<THEHIVE URL>\"\n",
    "thehive_key=\"<THEHIVE API KEY>\"\n",
    "virustotal_apikey=\"<VIRUSTOTAL_APIKEY>\"\n",
    "```"
   ]
  },
  {
   "cell_type": "code",
   "execution_count": 2,
   "id": "5f94c336",
   "metadata": {
    "tags": []
   },
   "outputs": [
    {
     "name": "stderr",
     "output_type": "stream",
     "text": [
      "The version of PyMISP recommended by the MISP instance (2.4.176) is newer than the one you're using now (2.4.173). Please upgrade PyMISP.\n"
     ]
    },
    {
     "name": "stdout",
     "output_type": "stream",
     "text": [
      "The \u001b[92mPython libraries\u001b[90m are loaded and the \u001b[92mcredentials\u001b[90m are read from the keys file.\n",
      "I will use the MISP server \u001b[92mhttps://misp.demo.cudeso.be/\u001b[90m for this playbook.\n",
      "\n",
      "\n"
     ]
    }
   ],
   "source": [
    "# Initialise Python environment\n",
    "import urllib3\n",
    "import sys\n",
    "import json\n",
    "from pyfaup.faup import Faup\n",
    "from prettytable import PrettyTable, MARKDOWN\n",
    "from IPython.display import Image, display, display_markdown, HTML\n",
    "from datetime import date\n",
    "import requests\n",
    "import uuid\n",
    "from uuid import uuid4\n",
    "from pymisp import *\n",
    "from pymisp.tools import GenericObjectGenerator\n",
    "import re\n",
    "import time\n",
    "\n",
    "# Load the credentials\n",
    "sys.path.insert(0, \"../vault/\")\n",
    "from keys import *\n",
    "if misp_verifycert is False:\n",
    "    import urllib3\n",
    "    urllib3.disable_warnings(urllib3.exceptions.InsecureRequestWarning)\n",
    "print(\"The \\033[92mPython libraries\\033[90m are loaded and the \\033[92mcredentials\\033[90m are read from the keys file.\")\n",
    "\n",
    "# Create the PyMISP object\n",
    "misp = PyMISP(misp_url, misp_key, misp_verifycert)\n",
    "print(\"I will use the MISP server \\033[92m{}\\033[90m for this playbook.\\n\\n\".format(misp_url))"
   ]
  },
  {
   "cell_type": "markdown",
   "id": "6b0fe9f4-23b1-4eec-bc61-8bc965ffc619",
   "metadata": {},
   "source": [
    "## PR:2 Set helper variables\n",
    "\n",
    "This cell contains **helper variables** that are used in this playbook."
   ]
  },
  {
   "cell_type": "code",
   "execution_count": 3,
   "id": "16f10787-93be-4474-a84c-1a3cc8dd31b3",
   "metadata": {
    "tags": []
   },
   "outputs": [],
   "source": [
    "# Values from the warninglist\n",
    "search_values = []\n",
    "\n",
    "# Matches in MISP\n",
    "retroscan_matches = []\n",
    "\n",
    "# Affected indicators (attributes), their ID and UUIDs and the events they are in\n",
    "affected_indicators = []\n",
    "affected_indicators_id = []\n",
    "affected_indicators_uuid = []\n",
    "affected_indicators_event_id = []\n",
    "\n",
    "# A set of regular expressions that we use to determine the attribute type in a warninglist\n",
    "regular_expressions = {\"sha256\": \"^[a-fA-F0-9]{64}$\",\n",
    "                       \"md5\": \"^[a-fA-F0-9]{32}$\",\n",
    "                       \"hostname\": \"^[a-zA-Z0-9.\\-_]+\\.[a-zA-Z]{2,}$\",\n",
    "                       \"sha1\": \"^[a-fA-F0-9]{40}$\",\n",
    "                       \"url\": \"^(http|https):\\/\\/[-a-zA-Z0-9-]{2,256}\\.[-a-zA-Z0-9-]{2,256}\",\n",
    "                       \"ip-src\": \"[0-9]{1,3}\\.[0-9]{1,3}\\.[0-9]{1,3}\\.[0-9]{1,3}\",\n",
    "                       \"ip-dst\": \"[0-9]{1,3}\\.[0-9]{1,3}\\.[0-9]{1,3}\\.[0-9]{1,3}\"\n",
    "                      }"
   ]
  },
  {
   "cell_type": "markdown",
   "id": "2243ae8b-cb77-4835-a0cd-2738ee8c9bec",
   "metadata": {},
   "source": [
    "# Warninglist\n",
    "\n",
    "## WL:1 MISP warninglists\n",
    "\n",
    "The [misp-warninglists](https://github.com/MISP/misp-warninglists) are lists of **well-known** indicators that can be associated to potential **false positives**, errors or mistakes. The warning lists are integrated in MISP to display an info/warning box at the event and attribute level if such indicators are available in one of the list. The lists are also used to filter potential false-positive at API level. MISP warninglists also serve a dual use. You cannot only use them to identify false positives, you can also use the lists to **track** if specific attributes (for example IPs or domains) are in the threat events you receive from your community.\n",
    "\n",
    "## WL:2 Set the MISP warninglist name or ID\n",
    "\n",
    "Specify the MISP warninglist in `retroscan_warninglist`. If you supply a numberical value, the playbook attempts to read the warninglist by ID. If you supply a non-numerical value it will lookup the warninglist by name."
   ]
  },
  {
   "cell_type": "code",
   "execution_count": 4,
   "id": "1c207199-a99e-4aee-afa2-09ce221ca751",
   "metadata": {
    "tags": []
   },
   "outputs": [
    {
     "name": "stdout",
     "output_type": "stream",
     "text": [
      "Found a matching warninglist with ID \u001b[92m96\u001b[90m.\n",
      " Warninglist is \u001b[92menabled\u001b[90m.\n",
      " Warninglist has \u001b[92m6\u001b[90m entries.\n",
      "\n",
      "\n"
     ]
    }
   ],
   "source": [
    "# Provide the warninglist ID (numerical value) or the name of the warninglist\n",
    "retroscan_warninglist = \"Camp20\"\n",
    "\n",
    "# Code block to check if a warninglist exists.\n",
    "warninglist_exist = False\n",
    "misp_warninglist = False\n",
    "\n",
    "try:\n",
    "    retroscan_warninglist = int(retroscan_warninglist)\n",
    "    if retroscan_warninglist > 0:\n",
    "        misp_warninglist = misp.get_warninglist(retroscan_warninglist, pythonify=True)\n",
    "        if not \"errors\" in misp_warninglist:\n",
    "            warninglist_exist = True\n",
    "            print(\"Found a matching warninglist \\033[92m{}\\033[90m.\".format(misp_warninglist.name))\n",
    "        else:\n",
    "            print(\"Received an error from MISP when looking up warninglist ID \\033[91m{}\\033[90m.\".format(retroscan_warninglist))\n",
    "    else:\n",
    "        print(\"Unable to proceed with a negative warninglist ID \\033[91m{}\\033[90m.\".format(retroscan_warninglist))\n",
    "except ValueError:\n",
    "    all_warninglists = misp.warninglists(pythonify=True)\n",
    "    if len(all_warninglists) > 0:\n",
    "        for warninglist in all_warninglists:\n",
    "            if warninglist.name == retroscan_warninglist:\n",
    "                misp_warninglist = misp.get_warninglist(warninglist.id, pythonify=True)\n",
    "                warninglist_exist = True\n",
    "                print(\"Found a matching warninglist with ID \\033[92m{}\\033[90m.\".format(misp_warninglist.id))\n",
    "                break\n",
    "\n",
    "if warninglist_exist:\n",
    "    if misp_warninglist.enabled and len(misp_warninglist.WarninglistEntry) > 0:\n",
    "        print(\" Warninglist is \\033[92menabled\\033[90m.\")\n",
    "        print(\" Warninglist has \\033[92m{}\\033[90m entries.\".format(len(misp_warninglist.WarninglistEntry)))\n",
    "        print(\"\\n\")\n",
    "    else:\n",
    "        if not misp_warninglist.enabled:\n",
    "            print(\" Unable to proceed. Warninglist is \\033[91mnot enabled\\033[90m.\")\n",
    "        else:\n",
    "            print(\" Unable to proceed. Warninglist has \\033[91mno entries\\033[90m.\")"
   ]
  },
  {
   "cell_type": "markdown",
   "id": "3582e66b-8115-43af-9801-987df7c36714",
   "metadata": {},
   "source": [
    "## WL:3 Get the warninglist values\n",
    "\n",
    "The next cell processes the warninglist values so that we can search for them in MISP. The warninglist values are returned by PyMISP in a list stored in `WarninglistEntry`."
   ]
  },
  {
   "cell_type": "code",
   "execution_count": 5,
   "id": "fa483105-d245-4344-afcd-d1220f31dd2c",
   "metadata": {
    "tags": []
   },
   "outputs": [
    {
     "name": "stdout",
     "output_type": "stream",
     "text": [
      "Warninglist values stored in list \u001b[92msearch_values\u001b[90m.\n",
      "\n"
     ]
    }
   ],
   "source": [
    "for value in misp_warninglist.WarninglistEntry:\n",
    "    if \"value\" in value:\n",
    "        search_values.append(value[\"value\"])\n",
    "\n",
    "# Optionally print the values\n",
    "#print(search_values)\n",
    "\n",
    "print(\"Warninglist values stored in list \\033[92msearch_values\\033[90m.\\n\")"
   ]
  },
  {
   "cell_type": "markdown",
   "id": "7238ce06-914d-4bfb-84d5-103fa74e45fc",
   "metadata": {},
   "source": [
    "# Retroscan\n",
    "\n",
    "## RS:1 Define the retroscan filters\n",
    "\n",
    "Define the retroscan **filters**. For all the filters, if you set the variable to `None` then the filter gets ignored.\n",
    "\n",
    "- Limit the search to **recently changed attributes** with `attribute_timestamp`\n",
    "- Limit the **number of results** with `limit`\n",
    "- Only include attributes from **published** events with `published`\n",
    "- Only match with attributes that have **to_ids** set by using `to_ids`\n",
    "- Only match with attributes of a **specific type** with the list `limit_attribute_type`\n",
    "- **Exclude** attributes of a specific type with `ignore_attribute_type`"
   ]
  },
  {
   "cell_type": "code",
   "execution_count": 7,
   "id": "b2dbc0e6-32b2-4415-812a-e5b9bdd0d21a",
   "metadata": {
    "tags": []
   },
   "outputs": [],
   "source": [
    "# Limit to recently changed attributes or include all (None)\n",
    "attribute_timestamp = None\n",
    "\n",
    "# No limit in returned matches\n",
    "limit = 0\n",
    "\n",
    "# Include published events (1), unpublished (0) or both (None)\n",
    "published = None  \n",
    "\n",
    "# Include only matches where attributes have to_ids (1) or not (0) or both (None)\n",
    "to_ids = None\n",
    "\n",
    "# Only get these specific attributes\n",
    "limit_attribute_type =  [] # []\n",
    "\n",
    "# Ignore specific types\n",
    "ignore_attribute_type = [\"malware-sample\"] #[\"malware-sample\"]\n",
    "\n",
    "# Sanitise\n",
    "limit = int(limit)\n",
    "if not('limit_attribute_type' in locals() and isinstance(limit_attribute_type, list)):\n",
    "    limit_attribute_type = []\n",
    "if not ('ignore_attribute_type' in locals() and isinstance(ignore_attribute_type, list)):\n",
    "    ignore_attribute_type = []"
   ]
  },
  {
   "cell_type": "markdown",
   "id": "62e7b2c2-554e-4334-ad85-62f1d06bc8e3",
   "metadata": {},
   "source": [
    "## RS:2 Show retroscan matches\n",
    "\n",
    "The next cell queries MISP with the filters you provided earlier."
   ]
  },
  {
   "cell_type": "code",
   "execution_count": 8,
   "id": "6d083e23-a736-4202-8e54-72ad9576d2c7",
   "metadata": {
    "tags": []
   },
   "outputs": [
    {
     "name": "stdout",
     "output_type": "stream",
     "text": [
      "Searching in MISP\n",
      " Attribute timestamp: \u001b[92mNone\u001b[90m | Published: \u001b[92mNone\u001b[90m | To_ids:  \u001b[92mNone\u001b[90m\n",
      " Limit attribute types to \u001b[92m[]\u001b[90m\n",
      " Ignore attribute types \u001b[91m['malware-sample']\u001b[90m\n",
      "Found \u001b[92m5\u001b[90m matches.\n",
      "\n"
     ]
    }
   ],
   "source": [
    "print(\"Searching in MISP\")\n",
    "\n",
    "if limit > 0:\n",
    "    print(\" Limit to \\033[92m{}\\033[90m results.\".format(limit))\n",
    "print(\" Attribute timestamp: \\033[92m{}\\033[90m | Published: \\033[92m{}\\033[90m | To_ids:  \\033[92m{}\\033[90m\".format(attribute_timestamp, published, to_ids))\n",
    "print(\" Limit attribute types to \\033[92m{}\\033[90m\".format(limit_attribute_type))\n",
    "print(\" Ignore attribute types \\033[91m{}\\033[90m\".format(ignore_attribute_type))\n",
    "\n",
    "search_matches = misp.search(\"attributes\", type_attribute=limit_attribute_type, value=search_values, attribute_timestamp=attribute_timestamp, to_ids=to_ids, published=published, limit=limit, include_context=True, pythonify=True)\n",
    "for match in search_matches:\n",
    "    if match.type not in ignore_attribute_type:\n",
    "        retroscan_matches.append(match)\n",
    "\n",
    "print(\"Found \\033[92m{}\\033[90m matches.\\n\".format(len(retroscan_matches)))"
   ]
  },
  {
   "cell_type": "markdown",
   "id": "314611cf-f108-4663-8e9e-f5e84e2665f0",
   "metadata": {},
   "source": [
    "### Print the retroscan matches\n",
    "\n",
    "You can now print the retroscan matches and then in the next section decide which actions you'd like to take."
   ]
  },
  {
   "cell_type": "code",
   "execution_count": 9,
   "id": "0cf4d94c-d9c4-4c59-8da7-c9e2b84a231e",
   "metadata": {
    "tags": []
   },
   "outputs": [
    {
     "name": "stdout",
     "output_type": "stream",
     "text": [
      "+------------------------------------------------------------------+----------+----------+---------------------------+-----------+------------------+----------+-------+---------+--------------------------------------+-----------------+---------------------------+\n",
      "| Warninglist value                                                | Attr. ID | Event ID | Event                     | Published | Category         | Type     | IDS   | Comment | Tags                                 | Object relation | Timestamp                 |\n",
      "+------------------------------------------------------------------+----------+----------+---------------------------+-----------+------------------+----------+-------+---------+--------------------------------------+-----------------+---------------------------+\n",
      "| d252235aa420b91c38bfeec4f1c3f3434bc853d04635453648b26b2947352889 | 2647415  | 3100     | Malware triage for        | False     | Payload delivery | sha256   | True  |         |                                      | sha256          | 2023-11-01 20:18:35+00:00 |\n",
      "|                                                                  |          |          | certutil.exe              |           |                  |          |       |         |                                      |                 |                           |\n",
      "| f17616ec0522fc5633151f7caa278caa                                 | 2647413  | 3100     | Malware triage for        | False     | Payload delivery | md5      | True  |         |                                      | md5             | 2023-11-01 20:18:40+00:00 |\n",
      "|                                                                  |          |          | certutil.exe              |           |                  |          |       |         |                                      |                 |                           |\n",
      "| www.domainnotonlist1.com                                         | 2635857  | 2662     | An older threat event     | True      | Network activity | hostname | True  |         | misp:confidence-level=\"unconfident\"  |                 | 2023-11-01 20:18:01+00:00 |\n",
      "| www.outzdemo.be                                                  | 2647420  | 2656     | Demo Event Phishing       | False     | Network activity | hostname | False |         |                                      |                 | 2023-11-01 20:15:34+00:00 |\n",
      "| www.outzdemo.be                                                  | 2647421  | 2662     | An older threat event     | True      | Network activity | hostname | True  |         |                                      |                 | 2023-11-01 20:18:04+00:00 |\n",
      "+------------------------------------------------------------------+----------+----------+---------------------------+-----------+------------------+----------+-------+---------+--------------------------------------+-----------------+---------------------------+\n"
     ]
    }
   ],
   "source": [
    "sort_column = \"Warninglist value\"\n",
    "\n",
    "# Put the results in a pretty table. We can use this table later also for the summary\n",
    "misp_table = PrettyTable()\n",
    "\n",
    "misp_table.field_names = [\"Warninglist value\", \"Attr. ID\", \"Event ID\", \"Event\", \"Published\", \"Category\", \"Type\", \"IDS\", \"Comment\", \"Tags\", \"Object relation\", \"Timestamp\"]\n",
    "misp_table.align = \"l\"\n",
    "misp_table._max_width = {\"Event\" : 25, \"Comment\": 25}\n",
    "\n",
    "for match in retroscan_matches:\n",
    "    object_relation = \"\"\n",
    "    tags = \"\"\n",
    "    for tag in match.tags:\n",
    "        tags = \"{}{} \".format(tags, tag.name)\n",
    "    if hasattr(match, \"object_relation\"):\n",
    "        object_relation = match.object_relation\n",
    "    misp_table.add_row([match.value, match.id, match.event_id, match.Event.info, match.Event.published, match.category, match.type, match.to_ids, match.comment, tags, object_relation, match.timestamp])\n",
    "print(misp_table.get_string(sortby=sort_column))"
   ]
  },
  {
   "cell_type": "markdown",
   "id": "9623a0c2-6b9c-4ebc-a483-ab0492cf421a",
   "metadata": {},
   "source": [
    "## RS:3 Retroscan actions\n",
    "\n",
    "Now for each result you can do a specific action\n",
    "- Add one or more **tags** with the list `action_add_tag`. With `action_add_tag_local` you indicate if the tags are local or global. Because the retroscan is often used for **curation** of older results it's advised to use local, as curation tags should remain within your MISP instance.\n",
    "- **Disable the IDS flag** with `action_disable_ids`\n",
    "- Add a **comment** to the attribute with `action_add_comment`. This comment will be appended to existing comments.\n",
    "\n",
    "In general the actions are applied against all the attributes. If you only want to apply them against a subset of the results then add the attribute ID to the list `action_attribute_list`. If you leave the list empty then the actions are applied against **all** attributes."
   ]
  },
  {
   "cell_type": "code",
   "execution_count": 10,
   "id": "fe3ee812-9b0f-44b5-bc9c-9c722747e778",
   "metadata": {
    "tags": []
   },
   "outputs": [
    {
     "name": "stdout",
     "output_type": "stream",
     "text": [
      "Retroscan actions\n",
      " Add tags to \u001b[92mwww.domainnotonlist1.com\u001b[90m (ID: 2635857) in event 2662\n",
      " Disable IDS of \u001b[91mwww.domainnotonlist1.com\u001b[90m (ID: 2635857) in event 2662\n",
      " Add tags to \u001b[92mf17616ec0522fc5633151f7caa278caa\u001b[90m (ID: 2647413) in event 3100\n",
      " Disable IDS of \u001b[91mf17616ec0522fc5633151f7caa278caa\u001b[90m (ID: 2647413) in event 3100\n",
      " Add tags to \u001b[92md252235aa420b91c38bfeec4f1c3f3434bc853d04635453648b26b2947352889\u001b[90m (ID: 2647415) in event 3100\n",
      " Disable IDS of \u001b[91md252235aa420b91c38bfeec4f1c3f3434bc853d04635453648b26b2947352889\u001b[90m (ID: 2647415) in event 3100\n",
      " Add tags to \u001b[92mwww.outzdemo.be\u001b[90m (ID: 2647420) in event 2656\n",
      " Disable IDS of \u001b[91mwww.outzdemo.be\u001b[90m (ID: 2647420) in event 2656\n",
      " Add tags to \u001b[92mwww.outzdemo.be\u001b[90m (ID: 2647421) in event 2662\n",
      " Disable IDS of \u001b[91mwww.outzdemo.be\u001b[90m (ID: 2647421) in event 2662\n",
      "Finished retroscan actions\n"
     ]
    }
   ],
   "source": [
    "# List of attribute IDs to apply the actions. Have an empty list for all\n",
    "action_attribute_list = []\n",
    "\n",
    "# List of tags to apply\n",
    "action_add_tag = [\"customer:curated=\\\"disable_ids_retroscan\\\"\"]\n",
    "\n",
    "# Disable the to_ids for matches\n",
    "action_disable_ids = True\n",
    "\n",
    "# Local or global tag\n",
    "action_add_tag_local = True\n",
    "\n",
    "# Add a comment\n",
    "action_add_comment = None\n",
    "\n",
    "\n",
    "# Sanitise\n",
    "if not('action_add_tag' in locals() and isinstance(action_add_tag, list)):\n",
    "    action_add_tag = []\n",
    "if not('action_attribute_list' in locals() and isinstance(action_attribute_list, list)):\n",
    "    action_attribute_list = []    \n",
    "print(\"Retroscan actions\")\n",
    "\n",
    "for match in retroscan_matches:\n",
    "    if len(action_attribute_list) > 0:\n",
    "        if match.id not in action_attribute_list:\n",
    "            print(\" Skipping \\033[91m{}\\033[90m with ID: {}\".format(match.value, match.id))\n",
    "            break\n",
    "    \n",
    "    if len(action_add_tag) > 0:\n",
    "        print(\" Add tags to \\033[92m{}\\033[90m (ID: {}) in event {}\".format(match.value, match.id, match.event_id))\n",
    "        for tag in action_add_tag:\n",
    "            t = MISPTag()\n",
    "            t.name = tag\n",
    "            t.local = action_add_tag_local\n",
    "            misp.tag(match.uuid, t)\n",
    "            \n",
    "    if action_disable_ids:\n",
    "        print(\" Disable IDS of \\033[91m{}\\033[90m (ID: {}) in event {}\".format(match.value, match.id, match.event_id))\n",
    "        match.to_ids = False\n",
    "        misp.update_attribute(match)\n",
    "        \n",
    "    if action_add_comment:\n",
    "        print(\" Add comment to \\033[92m{}\\033[90m (ID: {}) in event {}\".format(match.value, match.id, match.event_id))        \n",
    "        match.comment = \"{} {}\".format(match.comment, action_add_comment.strip())\n",
    "        misp.update_attribute(match)\n",
    "        \n",
    "    if match.value not in affected_indicators:\n",
    "        affected_indicators.append(match.value)\n",
    "    if match.id not in affected_indicators_id:\n",
    "        affected_indicators_id.append(match.id)\n",
    "    if match.uuid not in affected_indicators_uuid:\n",
    "        affected_indicators_uuid.append(match.uuid)\n",
    "    if match.event_id not in affected_indicators_event_id:\n",
    "        affected_indicators_event_id.append(match.event_id)        \n",
    "print(\"Finished retroscan actions\")"
   ]
  },
  {
   "cell_type": "markdown",
   "id": "cafb39e3-8c70-43e8-9744-754c98cfe31f",
   "metadata": {},
   "source": [
    "## RS:4 Indicators (attributes) and event list\n",
    "\n",
    "The next cell prints the list of indicators that were affected and the events they were in."
   ]
  },
  {
   "cell_type": "code",
   "execution_count": 11,
   "id": "935c8cc0-7a83-4ee4-961e-0a09dab34507",
   "metadata": {
    "tags": []
   },
   "outputs": [
    {
     "name": "stdout",
     "output_type": "stream",
     "text": [
      "Indicators\n",
      " www.domainnotonlist1.com\n",
      " f17616ec0522fc5633151f7caa278caa\n",
      " d252235aa420b91c38bfeec4f1c3f3434bc853d04635453648b26b2947352889\n",
      " www.outzdemo.be\n",
      "\n",
      "\n",
      "Events\n",
      " 2662\n",
      " 3100\n",
      " 2656\n",
      "\n",
      "\n",
      "\n"
     ]
    }
   ],
   "source": [
    "print(\"Indicators\")\n",
    "for el in affected_indicators:\n",
    "    print(\" {}\".format(el))\n",
    "print(\"\\n\\nEvents\")\n",
    "for el in affected_indicators_event_id:\n",
    "    print(\" {}\".format(el))\n",
    "print(\"\\n\\n\")"
   ]
  },
  {
   "cell_type": "markdown",
   "id": "70dea5ca",
   "metadata": {},
   "source": [
    "# Closure\n",
    "\n",
    "In this **closure** or end step we create a **summary** of the actions that were performed by the playbook. The summary is printed and can also be send to a chat channel. "
   ]
  },
  {
   "cell_type": "markdown",
   "id": "75b87ba6-19cc-4127-9299-480f708a61ff",
   "metadata": {},
   "source": [
    "## EN:1 Create the summary of the playbook \n",
    "\n",
    "The next section creates a summary and stores the output in the variable `summary` in Markdown format. It also stores an intro text in the variable `intro`. These variables can later be used when sending information to Mattermost or TheHive."
   ]
  },
  {
   "cell_type": "code",
   "execution_count": 12,
   "id": "12561137-e759-440b-9d21-dc6def901cbc",
   "metadata": {
    "tags": []
   },
   "outputs": [
    {
     "name": "stdout",
     "output_type": "stream",
     "text": [
      "The \u001b[92msummary\u001b[90m of the playbook is available.\n",
      "\n"
     ]
    }
   ],
   "source": [
    "summary = \"# MISP Playbook summary\\nRetroscan with a MISP warninglist. \\n\\n\"\n",
    "\n",
    "summary_warninglist = \"## Warninglist: {}\\n\\n\".format(misp_warninglist.name)\n",
    "summary_warninglist += \"- Description: **{}**\\n\".format(misp_warninglist.description)\n",
    "summary_warninglist += \"- Type: **{}**\\n\".format(misp_warninglist.type)\n",
    "misp_warninglist_category = \"False positive\"\n",
    "if misp_warninglist.category == \"known\":\n",
    "    misp_warninglist_category = \"Known identifier\"\n",
    "summary_warninglist += \"- Category: **{}**\\n\".format(misp_warninglist_category)\n",
    "summary_warninglist += \"- Version: **{}**\\n\".format(misp_warninglist.version)\n",
    "summary_warninglist += \"- Entries: **{}**\\n\".format(len(misp_warninglist.WarninglistEntry))\n",
    "summary_warninglist += \"\\n\\n\"\n",
    "\n",
    "summary += summary_warninglist\n",
    "\n",
    "intro = summary\n",
    "\n",
    "summary += \"## Retroscan \\n\"\n",
    "summary += \"### Filters\\n\"\n",
    "if limit > 0:\n",
    "    summary += \"- Limit to **{}** results\\n\".format(limit)\n",
    "summary += \"- Attribute timestamp: **{}**\\n\".format(attribute_timestamp)\n",
    "summary += \"- Published: **{}**\\n\".format(published)\n",
    "summary += \"- To_ids: **{}**\\n\".format(to_ids)\n",
    "summary += \"- Limit attribute types to **{}**\\n\".format(limit_attribute_type)\n",
    "summary += \"- Ignore attribute types **{}**\\n\".format(ignore_attribute_type)\n",
    "summary += \"\\n\\n\"\n",
    "summary += \"### Values\\n\"\n",
    "for value in search_values:\n",
    "    summary += \"{}\\n\".format(value)\n",
    "summary += \"\\n\\n\"\n",
    "\n",
    "summary += \"### Results\\n\"\n",
    "misp_table.set_style(MARKDOWN)\n",
    "summary += misp_table.get_string(sortby=\"Warninglist value\")\n",
    "summary += \"\\n\\n\"\n",
    "\n",
    "summary += \"### Actions\\n\"\n",
    "if len(action_attribute_list) > 0:\n",
    "    summary += \"- Only apply actions against attributes with ID: **{}**\\n\".format(action_attribute_list)\n",
    "if len(action_add_tag) > 0:\n",
    "    summary += \"- Add tags: **{}**\\n\".format(action_add_tag)    \n",
    "if action_disable_ids:\n",
    "    summary += \"- **Disable IDS**\\n\"\n",
    "if action_add_comment:\n",
    "    summary += \"- Add comment: **{}**\\n\".format(action_add_comment)    \n",
    "    \n",
    "summary += \"### Indicators\\n\"\n",
    "for el in affected_indicators:\n",
    "    summary += \"{}\\n\".format(el)\n",
    "summary += \"\\n\\n\"\n",
    "\n",
    "summary += \"### Events\\n\"\n",
    "for el in affected_indicators_event_id:\n",
    "    summary += \"{}\\n\".format(el)\n",
    "summary += \"\\n\\n\"\n",
    "\n",
    "summary += \"### Attribute IDs\\n\"\n",
    "for el in affected_indicators_id:\n",
    "    summary += \"{}\\n\".format(el)\n",
    "summary += \"\\n\\n\"\n",
    "\n",
    "summary += \"### Attribute UUID\\n\"\n",
    "for el in affected_indicators_uuid:\n",
    "    summary += \"{}\\n\".format(el)\n",
    "summary += \"\\n\\n\"\n",
    "\n",
    "print(\"The \\033[92msummary\\033[90m of the playbook is available.\\n\")"
   ]
  },
  {
   "cell_type": "markdown",
   "id": "eba96062-deaa-4fb9-8302-7b3ef829201e",
   "metadata": {},
   "source": [
    "## EN:2 Send a summary to Mattermost\n",
    "\n",
    "Now you can send the summary to Mattermost. You can send the summary in two ways by selecting one of the options for the variable `send_to_mattermost_option` in the next cell.\n",
    "\n",
    "- The default option where the entire summary is in the **chat**, or\n",
    "- a short intro and the summary in a **card**\n",
    "\n",
    "For this playbook we rely on a webhook in Mattermost. You can add a webhook by choosing the gear icon in Mattermost, then choose Integrations and then **Incoming Webhooks**. Set a channel for the webhook and lock the webhook to this channel with *\"Lock to this channel\"*."
   ]
  },
  {
   "cell_type": "code",
   "execution_count": 13,
   "id": "8c455bc3-35cc-436d-8237-95c81b57208f",
   "metadata": {
    "tags": []
   },
   "outputs": [],
   "source": [
    "send_to_mattermost_option = \"via a chat message\"\n",
    "#send_to_mattermost_option = \"via a chat message with card\""
   ]
  },
  {
   "cell_type": "code",
   "execution_count": 14,
   "id": "ca49f33e",
   "metadata": {},
   "outputs": [
    {
     "name": "stdout",
     "output_type": "stream",
     "text": [
      "Summary is \u001b[92msent to Mattermost.\n",
      "\n"
     ]
    }
   ],
   "source": [
    "message = False\n",
    "if send_to_mattermost_option == \"via a chat message\":\n",
    "    message = {\"username\": mattermost_playbook_user, \"text\": summary}\n",
    "elif send_to_mattermost_option == \"via a chat message with card\":\n",
    "    message = {\"username\": mattermost_playbook_user, \"text\": intro, \"props\": {\"card\": summary}}\n",
    "\n",
    "if message:\n",
    "    r = requests.post(mattermost_hook, data=json.dumps(message))\n",
    "    r.raise_for_status()\n",
    "if message and r.status_code == 200:\n",
    "    print(\"Summary is \\033[92msent to Mattermost.\\n\")\n",
    "else:\n",
    "    print(\"\\033[91mFailed to sent summary\\033[90m to Mattermost.\\n\")"
   ]
  },
  {
   "cell_type": "markdown",
   "id": "f9c0f780-d8df-4f9b-9a11-230eb3e4f42d",
   "metadata": {},
   "source": [
    "## EN:3 Send an alert to TheHive\n",
    "\n",
    "Next to informing your colleagues via Mattermost you can also send an **alert** to TheHive. The alert contains the summary, and the list matches as 'observables'.\n",
    "\n",
    "You can change the alert title with `thehive_alert_title` and provide a reference type with `thehive_alert_reference`. Note that this reference needs to be **unique** in TheHive. If you want to create multiple alerts for the same MISP event then add some random value at the end."
   ]
  },
  {
   "cell_type": "code",
   "execution_count": 15,
   "id": "87edbdbf-e6b0-47b7-b70a-4ddb4af67e55",
   "metadata": {
    "tags": []
   },
   "outputs": [],
   "source": [
    "# The title of the TheHive alert\n",
    "thehive_alert_title = \"MISP Playbook Summary - Retroscan warninglist {}\".format(misp_warninglist.name)\n",
    "\n",
    "# A unique reference for the TheHive\n",
    "thehive_alert_reference = \"MISP retroscan warninglist ID - {} - {} - {}\".format(misp_warninglist.name, misp_warninglist.id, str(uuid.uuid4()))\n",
    "\n",
    "# Alert type in TheHive\n",
    "thehive_alert_type = \"MISP Playbook alert\"\n",
    "\n",
    "# TLP:Amber for TheHive\n",
    "thehive_tlp = 2\n",
    "\n",
    "# PAP:GREEN for TheHive\n",
    "thehive_pap = 1"
   ]
  },
  {
   "cell_type": "code",
   "execution_count": 16,
   "id": "0da33569-cd50-414a-ad0b-70bcdb69174d",
   "metadata": {
    "tags": []
   },
   "outputs": [
    {
     "name": "stdout",
     "output_type": "stream",
     "text": [
      "The TheHive \u001b[92malert ~41582720 is added\n"
     ]
    }
   ],
   "source": [
    "# Code block to send an alert to TheHive\n",
    "# We use the Python requests library\n",
    "thehive_headers = {'Content-Type': 'application/json', 'Authorization': f'Bearer {thehive_key}'}\n",
    "thehive_url_create = \"{}/api/v1/alert\".format(thehive_url)\n",
    "\n",
    "thehive_observables = []\n",
    "\n",
    "for value in affected_indicators:\n",
    "    attribute_type = False\n",
    "    for expr in regular_expressions:\n",
    "        if re.match(r\"{}\".format(regular_expressions[expr]), value):\n",
    "            attribute_type = expr\n",
    "            break\n",
    "    if attribute_type:\n",
    "        if attribute_type == \"ip-src\" or attribute_type == \"ip-dst\":\n",
    "            dataType = \"ip\"\n",
    "        elif attribute_type == \"md5\" or attribute_type == \"sha256\" or attribute_type == \"sha1\":\n",
    "            dataType = \"hash\"\n",
    "        else:\n",
    "            dataType = attribute_type\n",
    "\n",
    "        if dataType:\n",
    "            thehive_observables.append({\"dataType\": dataType, \"data\": value, \"pap\": thehive_pap, \"tlp\": thehive_tlp})\n",
    "            \n",
    "thehive_alert = {\"title\": thehive_alert_title, \n",
    "                 \"description\": intro,\n",
    "                 \"summary\": summary[0:1048576],\n",
    "                 \"type\": thehive_alert_type, \n",
    "                 \"source\": \"playbook\", \n",
    "                 \"sourceRef\": thehive_alert_reference, \n",
    "                 \"tlp\": thehive_tlp, \"pap\": thehive_pap,\n",
    "                 \"observables\": thehive_observables}\n",
    "\n",
    "result = requests.post(thehive_url_create, headers=thehive_headers, data=json.dumps(thehive_alert))\n",
    "if result.status_code == 201 and result.json()['status'] == 'New':\n",
    "    thehive_alert_id = result.json()['_id']\n",
    "    print('The TheHive \\033[92malert {} is added'.format(thehive_alert_id))\n",
    "else:\n",
    "    print('\\033[91mFailed\\033[90m to add TheHive alert')\n",
    "    print(result.text)"
   ]
  },
  {
   "cell_type": "markdown",
   "id": "498b8eff-7d1b-47b7-90c4-e13cc738b36c",
   "metadata": {},
   "source": [
    "## EN:4 End of the playbook "
   ]
  },
  {
   "cell_type": "code",
   "execution_count": 17,
   "id": "4c03bb30",
   "metadata": {},
   "outputs": [
    {
     "name": "stdout",
     "output_type": "stream",
     "text": [
      "\u001b[92m End of the playbook\n"
     ]
    }
   ],
   "source": [
    "print(\"\\033[92m End of the playbook\")\n"
   ]
  },
  {
   "cell_type": "markdown",
   "id": "b17af9f2",
   "metadata": {},
   "source": [
    "## External references <a name=\"extreferences\"></a>\n",
    "\n",
    "- [The MISP Project](https://www.misp-project.org/)\n",
    "- [Mattermost](https://mattermost.com/)\n",
    "- [TheHive](https://thehive-project.org/)"
   ]
  },
  {
   "cell_type": "markdown",
   "id": "e1c813f6",
   "metadata": {},
   "source": [
    "## Technical details \n",
    "\n",
    "### Documentation\n",
    "\n",
    "This playbook requires these Python **libraries** to exist in the environment where the playbook is executed. You can install them with `pip install <library>`.\n",
    "\n",
    "```\n",
    "pyfaup\n",
    "chardet\n",
    "PrettyTable\n",
    "ipywidgets\n",
    "```\n",
    "\n",
    "### Colour codes\n",
    "\n",
    "The output from Python displays some text in different colours. These are the colour codes\n",
    "\n",
    "```\n",
    "Red = '\\033[91m'\n",
    "Green = '\\033[92m'\n",
    "Blue = '\\033[94m'\n",
    "Cyan = '\\033[96m'\n",
    "White = '\\033[97m'\n",
    "Yellow = '\\033[93m'\n",
    "Magenta = '\\033[95m'\n",
    "Grey = '\\033[90m'\n",
    "Black = '\\033[90m'\n",
    "Default = '\\033[99m'\n",
    "```"
   ]
  },
  {
   "cell_type": "code",
   "execution_count": null,
   "id": "14dce812-e432-4c18-8358-f8b66e5b94a5",
   "metadata": {},
   "outputs": [],
   "source": []
  }
 ],
 "metadata": {
  "celltoolbar": "Attachments",
  "kernelspec": {
   "display_name": "Python 3 (ipykernel)",
   "language": "python",
   "name": "python3"
  },
  "language_info": {
   "codemirror_mode": {
    "name": "ipython",
    "version": 3
   },
   "file_extension": ".py",
   "mimetype": "text/x-python",
   "name": "python",
   "nbconvert_exporter": "python",
   "pygments_lexer": "ipython3",
   "version": "3.8.10"
  },
  "toc-showcode": false,
  "toc-showmarkdowntxt": false
 },
 "nbformat": 4,
 "nbformat_minor": 5
}
